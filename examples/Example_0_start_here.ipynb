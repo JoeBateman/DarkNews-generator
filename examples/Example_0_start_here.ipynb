{
 "cells": [
  {
   "cell_type": "markdown",
   "metadata": {},
   "source": [
    "# Example 0\n",
    "\n",
    "---\n",
    "#### This notebook will go over a few of the basics of generating new physics events with DarkNews.\n",
    "\n",
    "Table of Contents:\n",
    "\n",
    "1) **Generation**\n",
    "    * generating events with the GenLauncher class\n",
    "    * generating events on the command line\n",
    "\n",
    "2) **Output**\n",
    "    * Main Pandas Dataframe\n",
    "    * Other formats printed to file\n",
    "        * loading pickled and parquet pandas dataframes\n",
    "        * loading numpy arrays with event information\n",
    "        * hepevt and hepmc3 printing (**Under development!**)\n",
    "\n",
    "3) **Inputs**\n",
    "    * Experiments\n",
    "    * Model parameters"
   ]
  },
  {
   "cell_type": "code",
   "execution_count": 1,
   "metadata": {},
   "outputs": [],
   "source": [
    "%load_ext autoreload\n",
    "%autoreload 2"
   ]
  },
  {
   "cell_type": "code",
   "execution_count": 2,
   "metadata": {},
   "outputs": [
    {
     "name": "stderr",
     "output_type": "stream",
     "text": [
      "Fontconfig warning: ignoring UTF-8: not a valid region tag\n"
     ]
    },
    {
     "data": {
      "text/plain": [
       "['/System/Library/Fonts/Supplemental/NotoSansSyriac-Regular.ttf',\n",
       " '/System/Library/Fonts/Supplemental/Georgia Bold Italic.ttf',\n",
       " '/System/Library/Fonts/Supplemental/NotoSansAdlam-Regular.ttf',\n",
       " '/System/Library/Fonts/Supplemental/NotoSansSamaritan-Regular.ttf',\n",
       " '/System/Library/Fonts/Supplemental/Verdana Bold Italic.ttf',\n",
       " '/System/Library/Fonts/Supplemental/STIXSizTwoSymBol.otf',\n",
       " '/System/Library/Fonts/Supplemental/NotoSansCarian-Regular.ttf',\n",
       " '/System/Library/Fonts/Supplemental/NotoSansNewTaiLue-Regular.ttf',\n",
       " '/System/Library/Fonts/Supplemental/PartyLET-plain.ttf',\n",
       " '/System/Library/Fonts/Supplemental/NotoSansKhudawadi-Regular.ttf',\n",
       " '/System/Library/Fonts/Supplemental/Mishafi Gold.ttf',\n",
       " '/System/Library/Fonts/Supplemental/Bodoni 72 Smallcaps Book.ttf',\n",
       " '/System/Library/Fonts/Supplemental/Academy Engraved LET Fonts.ttf',\n",
       " '/System/Library/Fonts/Supplemental/Bodoni 72 OS.ttc',\n",
       " '/System/Library/Fonts/Supplemental/Savoye LET.ttc',\n",
       " '/System/Library/Fonts/ヒラギノ角ゴシック W9.ttc',\n",
       " '/Users/matheushostert/Library/Fonts/cmunsx.ttf',\n",
       " '/System/Library/Fonts/Supplemental/ChalkboardSE.ttc',\n",
       " '/System/Library/Fonts/Supplemental/Tamil MN.ttc',\n",
       " '/System/Library/Fonts/Supplemental/Verdana Bold.ttf',\n",
       " '/System/Library/Fonts/Supplemental/Chalkduster.ttf',\n",
       " '/System/Library/Fonts/Supplemental/NotoSansNabataean-Regular.ttf',\n",
       " '/System/Library/Fonts/Supplemental/STIXSizFiveSymReg.otf',\n",
       " '/Users/matheushostert/Library/Fonts/cmuntt.ttf',\n",
       " '/System/Library/Fonts/Supplemental/Khmer Sangam MN.ttf',\n",
       " '/System/Library/Fonts/Kohinoor.ttc',\n",
       " '/System/Library/Fonts/MarkerFelt.ttc',\n",
       " '/System/Library/Fonts/Supplemental/Rockwell.ttc',\n",
       " '/System/Library/Fonts/ヒラギノ角ゴシック W5.ttc',\n",
       " '/System/Library/Fonts/Supplemental/NotoSansTagalog-Regular.ttf',\n",
       " '/System/Library/Fonts/NewYork.ttf',\n",
       " '/System/Library/Fonts/Supplemental/STIXIntDReg.otf',\n",
       " '/System/Library/Fonts/Supplemental/Courier New Italic.ttf',\n",
       " '/System/Library/Fonts/Supplemental/STIXSizThreeSymReg.otf',\n",
       " '/System/Library/Fonts/Supplemental/NotoSansGothic-Regular.ttf',\n",
       " '/System/Library/Fonts/Supplemental/Seravek.ttc',\n",
       " '/System/Library/Fonts/Supplemental/STIXIntDBol.otf',\n",
       " '/System/Library/Fonts/Supplemental/STIXVarBol.otf',\n",
       " '/System/Library/Fonts/Supplemental/DIN Condensed Bold.ttf',\n",
       " '/System/Library/Fonts/Supplemental/Apple Chancery.ttf',\n",
       " '/System/Library/Fonts/ArialHB.ttc',\n",
       " '/System/Library/Fonts/Supplemental/Devanagari Sangam MN.ttc',\n",
       " '/System/Library/Fonts/Supplemental/NotoSansCaucasianAlbanian-Regular.ttf',\n",
       " '/System/Library/Fonts/Supplemental/Herculanum.ttf',\n",
       " '/System/Library/Fonts/Supplemental/Wingdings.ttf',\n",
       " '/System/Library/Fonts/Supplemental/NotoSansPsalterPahlavi-Regular.ttf',\n",
       " '/Users/matheushostert/Library/Fonts/cmuntb.ttf',\n",
       " '/System/Library/Fonts/Supplemental/NotoSansThaana-Regular.ttf',\n",
       " '/System/Library/Fonts/Menlo.ttc',\n",
       " '/System/Library/Fonts/Supplemental/Khmer MN.ttc',\n",
       " '/System/Library/Fonts/Supplemental/DecoTypeNaskh.ttc',\n",
       " '/System/Library/Fonts/Supplemental/Bodoni Ornaments.ttf',\n",
       " '/System/Library/Fonts/Supplemental/Raanana.ttc',\n",
       " '/System/Library/Fonts/Supplemental/NotoSansKharoshthi-Regular.ttf',\n",
       " '/System/Library/Fonts/Supplemental/NotoSansModi-Regular.ttf',\n",
       " '/System/Library/Fonts/NotoSerifMyanmar.ttc',\n",
       " '/System/Library/Fonts/Supplemental/NotoSansKayahLi-Regular.ttf',\n",
       " '/System/Library/Fonts/Supplemental/STIXIntUpDBol.otf',\n",
       " '/System/Library/Fonts/Supplemental/AppleMyungjo.ttf',\n",
       " '/System/Library/Fonts/Supplemental/Telugu MN.ttc',\n",
       " '/System/Library/Fonts/Supplemental/Farisi.ttf',\n",
       " '/System/Library/Fonts/Apple Symbols.ttf',\n",
       " '/System/Library/Fonts/Supplemental/Waseem.ttc',\n",
       " '/System/Library/Fonts/Supplemental/Wingdings 2.ttf',\n",
       " '/System/Library/Fonts/Supplemental/NotoSansMultani-Regular.ttf',\n",
       " '/System/Library/Fonts/Supplemental/Kokonor.ttf',\n",
       " '/System/Library/Fonts/Supplemental/Chalkboard.ttc',\n",
       " '/System/Library/Fonts/Supplemental/Tahoma Bold.ttf',\n",
       " '/System/Library/Fonts/Supplemental/SnellRoundhand.ttc',\n",
       " '/System/Library/Fonts/NotoSansKannada.ttc',\n",
       " '/System/Library/Fonts/KohinoorBangla.ttc',\n",
       " '/System/Library/Fonts/Supplemental/GillSans.ttc',\n",
       " '/System/Library/Fonts/Supplemental/STIXSizFourSymReg.otf',\n",
       " '/System/Library/Fonts/Palatino.ttc',\n",
       " '/System/Library/Fonts/NotoNastaliq.ttc',\n",
       " '/System/Library/Fonts/Supplemental/Lao Sangam MN.ttf',\n",
       " '/System/Library/Fonts/ヒラギノ角ゴシック W7.ttc',\n",
       " '/System/Library/Fonts/SFNS.ttf',\n",
       " '/System/Library/Fonts/Supplemental/Verdana Italic.ttf',\n",
       " '/System/Library/Fonts/Supplemental/NotoSansOldHungarian-Regular.ttf',\n",
       " '/System/Library/Fonts/Supplemental/NotoSansLisu-Regular.ttf',\n",
       " '/System/Library/Fonts/Supplemental/NotoSansSylotiNagri-Regular.ttf',\n",
       " '/System/Library/Fonts/Supplemental/NotoSansOldTurkic-Regular.ttf',\n",
       " '/Users/matheushostert/Library/Fonts/cmuntx.ttf',\n",
       " '/System/Library/Fonts/PingFang.ttc',\n",
       " '/System/Library/Fonts/Monaco.ttf',\n",
       " '/System/Library/Fonts/Supplemental/NotoSansCuneiform-Regular.ttf',\n",
       " '/System/Library/Fonts/Supplemental/NotoSansTaiLe-Regular.ttf',\n",
       " '/System/Library/Fonts/Supplemental/Comic Sans MS.ttf',\n",
       " '/System/Library/Fonts/Supplemental/NotoSansTaiTham-Regular.ttf',\n",
       " '/System/Library/Fonts/Avenir.ttc',\n",
       " '/System/Library/Fonts/Supplemental/Arial.ttf',\n",
       " '/System/Library/Fonts/Supplemental/NotoSansCypriot-Regular.ttf',\n",
       " '/System/Library/Fonts/Supplemental/Luminari.ttf',\n",
       " '/Users/matheushostert/Library/Fonts/cmunit.ttf',\n",
       " '/System/Library/Fonts/Supplemental/NotoSansMeeteiMayek-Regular.ttf',\n",
       " '/System/Library/Fonts/Geneva.ttf',\n",
       " '/System/Library/Fonts/Supplemental/PTSans.ttc',\n",
       " '/System/Library/Fonts/Supplemental/Kannada MN.ttc',\n",
       " '/System/Library/Fonts/Supplemental/NotoSansLimbu-Regular.ttf',\n",
       " '/System/Library/Fonts/ZapfDingbats.ttf',\n",
       " '/System/Library/Fonts/Supplemental/Bradley Hand Bold.ttf',\n",
       " '/System/Library/Fonts/Supplemental/NotoSansBhaiksuki-Regular.ttf',\n",
       " '/System/Library/Fonts/Supplemental/NotoSansTirhuta-Regular.ttf',\n",
       " '/System/Library/Fonts/Supplemental/Gurmukhi Sangam MN.ttc',\n",
       " '/System/Library/Fonts/Supplemental/NotoSansNKo-Regular.ttf',\n",
       " '/System/Library/Fonts/Supplemental/InaiMathi-MN.ttc',\n",
       " '/System/Library/Fonts/Avenir Next Condensed.ttc',\n",
       " '/System/Library/Fonts/Supplemental/NotoSansMongolian-Regular.ttf',\n",
       " '/Users/matheushostert/Library/Fonts/cmunvt.ttf',\n",
       " '/System/Library/Fonts/Supplemental/AppleGothic.ttf',\n",
       " '/System/Library/Fonts/Supplemental/NotoSansBassaVah-Regular.ttf',\n",
       " '/System/Library/Fonts/LucidaGrande.ttc',\n",
       " '/System/Library/Fonts/Apple Braille Outline 8 Dot.ttf',\n",
       " '/System/Library/Fonts/Supplemental/Galvji.ttc',\n",
       " '/Users/matheushostert/Library/Fonts/cmunbsr.ttf',\n",
       " '/System/Library/Fonts/Supplemental/NotoSansPalmyrene-Regular.ttf',\n",
       " '/System/Library/Fonts/Supplemental/Georgia Italic.ttf',\n",
       " '/System/Library/Fonts/Supplemental/STIXIntSmReg.otf',\n",
       " '/System/Library/Fonts/Supplemental/Skia.ttf',\n",
       " '/System/Library/Fonts/Supplemental/SignPainter.ttc',\n",
       " '/System/Library/Fonts/Supplemental/Diwan Kufi.ttc',\n",
       " '/System/Library/Fonts/Supplemental/Mishafi.ttf',\n",
       " '/System/Library/Fonts/Supplemental/NotoSansImperialAramaic-Regular.ttf',\n",
       " '/System/Library/Fonts/Keyboard.ttf',\n",
       " '/System/Library/Fonts/Thonburi.ttc',\n",
       " '/System/Library/Fonts/Supplemental/STIXGeneralItalic.otf',\n",
       " '/Users/matheushostert/Library/Fonts/cmunbmo.ttf',\n",
       " '/System/Library/Fonts/Supplemental/Bodoni 72.ttc',\n",
       " '/System/Library/Fonts/Supplemental/SukhumvitSet.ttc',\n",
       " '/System/Library/Fonts/Supplemental/NotoSansCham-Regular.ttf',\n",
       " '/System/Library/Fonts/STHeiti Medium.ttc',\n",
       " '/System/Library/Fonts/Supplemental/NotoSansSoraSompeng-Regular.ttf',\n",
       " '/System/Library/Fonts/Supplemental/STIXSizOneSymBol.otf',\n",
       " '/System/Library/Fonts/Supplemental/NotoSansGunjalaGondi-Regular.otf',\n",
       " '/System/Library/Fonts/ヒラギノ角ゴシック W8.ttc',\n",
       " '/System/Library/Fonts/Supplemental/Times New Roman Italic.ttf',\n",
       " '/System/Library/Fonts/Supplemental/NotoSansElbasan-Regular.ttf',\n",
       " '/System/Library/Fonts/Apple Braille Pinpoint 8 Dot.ttf',\n",
       " '/System/Library/Fonts/Supplemental/Songti.ttc',\n",
       " '/System/Library/Fonts/Supplemental/Charter.ttc',\n",
       " '/System/Library/Fonts/Supplemental/NotoSansMahajani-Regular.ttf',\n",
       " '/System/Library/Fonts/Supplemental/Sinhala MN.ttc',\n",
       " '/System/Library/Fonts/Supplemental/NotoSansInscriptionalPahlavi-Regular.ttf',\n",
       " '/System/Library/Fonts/Supplemental/Bangla Sangam MN.ttc',\n",
       " '/System/Library/Fonts/Supplemental/Georgia.ttf',\n",
       " '/System/Library/Fonts/NotoSansArmenian.ttc',\n",
       " '/System/Library/Fonts/Supplemental/NotoSansKhojki-Regular.ttf',\n",
       " '/System/Library/Fonts/Supplemental/Trebuchet MS.ttf',\n",
       " '/System/Library/Fonts/SFNSMonoItalic.ttf',\n",
       " '/System/Library/Fonts/Supplemental/Sathu.ttf',\n",
       " '/System/Library/Fonts/Supplemental/NotoSansInscriptionalParthian-Regular.ttf',\n",
       " '/System/Library/Fonts/Supplemental/Times New Roman.ttf',\n",
       " '/System/Library/Fonts/Supplemental/Arial Narrow Bold.ttf',\n",
       " '/System/Library/Fonts/Supplemental/Silom.ttf',\n",
       " '/System/Library/Fonts/SFCompact.ttf',\n",
       " '/System/Library/Fonts/Supplemental/NotoSansYi-Regular.ttf',\n",
       " '/System/Library/Fonts/Supplemental/Times New Roman Bold.ttf',\n",
       " '/System/Library/Fonts/Supplemental/NotoSansBrahmi-Regular.ttf',\n",
       " '/System/Library/Fonts/Supplemental/NotoSansOldSouthArabian-Regular.ttf',\n",
       " '/System/Library/Fonts/Supplemental/Marion.ttc',\n",
       " '/System/Library/Fonts/Supplemental/STIXVar.otf',\n",
       " '/System/Library/Fonts/LastResort.otf',\n",
       " '/System/Library/Fonts/Supplemental/SuperClarendon.ttc',\n",
       " '/System/Library/Fonts/Supplemental/Times New Roman Bold Italic.ttf',\n",
       " '/Users/matheushostert/Library/Fonts/cmunbl.ttf',\n",
       " '/System/Library/Fonts/Supplemental/Trebuchet MS Bold.ttf',\n",
       " '/System/Library/Fonts/SFNSRounded.ttf',\n",
       " '/Users/matheushostert/Library/Fonts/cmunrm.ttf',\n",
       " '/System/Library/Fonts/Hiragino Sans GB.ttc',\n",
       " '/System/Library/Fonts/Supplemental/NotoSansSharada-Regular.ttf',\n",
       " '/System/Library/Fonts/Supplemental/Trattatello.ttf',\n",
       " '/System/Library/Fonts/Supplemental/Verdana.ttf',\n",
       " '/System/Library/Fonts/Supplemental/Arial Narrow.ttf',\n",
       " '/System/Library/Fonts/Supplemental/KufiStandardGK.ttc',\n",
       " '/System/Library/Fonts/Supplemental/STIXSizThreeSymBol.otf',\n",
       " '/System/Library/Fonts/Supplemental/Arial Bold Italic.ttf',\n",
       " '/System/Library/Fonts/Supplemental/NotoSansMendeKikakui-Regular.ttf',\n",
       " '/System/Library/Fonts/Supplemental/Baskerville.ttc',\n",
       " '/System/Library/Fonts/Times.ttc',\n",
       " '/System/Library/Fonts/Supplemental/Cochin.ttc',\n",
       " '/System/Library/Fonts/Supplemental/Krungthep.ttf',\n",
       " '/System/Library/Fonts/Supplemental/NotoSansWarangCiti-Regular.ttf',\n",
       " '/System/Library/Fonts/Supplemental/Brush Script.ttf',\n",
       " '/System/Library/Fonts/Supplemental/STIXSizOneSymReg.otf',\n",
       " '/Users/matheushostert/Library/Fonts/cmunbtl.ttf',\n",
       " '/System/Library/Fonts/AppleSDGothicNeo.ttc',\n",
       " '/System/Library/Fonts/Supplemental/Hoefler Text.ttc',\n",
       " '/System/Library/Fonts/Supplemental/NotoSansSundanese-Regular.ttf',\n",
       " '/System/Library/Fonts/Supplemental/NotoSansVai-Regular.ttf',\n",
       " '/System/Library/Fonts/Supplemental/Malayalam MN.ttc',\n",
       " '/System/Library/Fonts/Supplemental/Webdings.ttf',\n",
       " '/Users/matheushostert/Library/Fonts/cmunoti.ttf',\n",
       " '/System/Library/Fonts/Supplemental/NotoSansCoptic-Regular.ttf',\n",
       " '/System/Library/Fonts/Supplemental/Iowan Old Style.ttc',\n",
       " '/System/Library/Fonts/Supplemental/NotoSansLinearB-Regular.ttf',\n",
       " '/System/Library/Fonts/Supplemental/STIXIntSmBol.otf',\n",
       " '/System/Library/Fonts/ヒラギノ丸ゴ ProN W4.ttc',\n",
       " '/System/Library/Fonts/Supplemental/Gurmukhi.ttf',\n",
       " '/System/Library/Fonts/Supplemental/Arial Italic.ttf',\n",
       " '/System/Library/Fonts/Supplemental/NotoSerifAhom-Regular.ttf',\n",
       " '/Users/matheushostert/Library/Fonts/cmunbi.ttf',\n",
       " '/System/Library/Fonts/Supplemental/NotoSansPauCinHau-Regular.ttf',\n",
       " '/System/Library/Fonts/Supplemental/NotoSansWancho-Regular.ttf',\n",
       " '/System/Library/Fonts/Supplemental/NotoSansNewa-Regular.ttf',\n",
       " '/System/Library/Fonts/Supplemental/STIXSizFourSymBol.otf',\n",
       " '/System/Library/Fonts/Supplemental/Sana.ttc',\n",
       " '/System/Library/Fonts/SFCompactRounded.ttf',\n",
       " '/System/Library/Fonts/Supplemental/NotoSansTagbanwa-Regular.ttf',\n",
       " '/System/Library/Fonts/Supplemental/NotoSansOlChiki-Regular.ttf',\n",
       " '/System/Library/Fonts/Supplemental/Diwan Thuluth.ttf',\n",
       " '/System/Library/Fonts/Supplemental/DevanagariMT.ttc',\n",
       " '/System/Library/Fonts/Supplemental/PTSerif.ttc',\n",
       " '/System/Library/Fonts/Supplemental/Baghdad.ttc',\n",
       " '/System/Library/Fonts/Supplemental/NotoSansPhagsPa-Regular.ttf',\n",
       " '/System/Library/Fonts/Supplemental/NotoSansSaurashtra-Regular.ttf',\n",
       " '/Users/matheushostert/Library/Fonts/cmunbto.ttf',\n",
       " '/Library/Fonts/dbldwrsw.ttf',\n",
       " '/System/Library/Fonts/Supplemental/NotoSansOsmanya-Regular.ttf',\n",
       " '/System/Library/Fonts/ヒラギノ角ゴシック W3.ttc',\n",
       " '/System/Library/Fonts/Supplemental/NotoSansChakma-Regular.ttf',\n",
       " '/System/Library/Fonts/ヒラギノ角ゴシック W6.ttc',\n",
       " '/System/Library/Fonts/Supplemental/Zapfino.ttf',\n",
       " '/System/Library/Fonts/SFCompactItalic.ttf',\n",
       " '/System/Library/Fonts/Supplemental/NotoSansManichaean-Regular.ttf',\n",
       " '/System/Library/Fonts/Supplemental/NotoSansLinearA-Regular.ttf',\n",
       " '/System/Library/Fonts/Supplemental/Arial Narrow Bold Italic.ttf',\n",
       " '/System/Library/Fonts/Supplemental/Courier New Bold Italic.ttf',\n",
       " '/Users/matheushostert/Library/Fonts/cmunbmr.ttf',\n",
       " '/System/Library/Fonts/Supplemental/STIXIntUpReg.otf',\n",
       " '/System/Library/Fonts/Supplemental/Papyrus.ttc',\n",
       " '/System/Library/Fonts/Supplemental/NotoSansSiddham-Regular.ttf',\n",
       " '/System/Library/Fonts/ヒラギノ角ゴシック W2.ttc',\n",
       " '/System/Library/Fonts/Supplemental/Didot.ttc',\n",
       " '/System/Library/Fonts/Supplemental/NotoSansUgaritic-Regular.ttf',\n",
       " '/System/Library/Fonts/Supplemental/Oriya MN.ttc',\n",
       " '/System/Library/Fonts/Supplemental/BigCaslon.ttf',\n",
       " '/Users/matheushostert/Library/Fonts/cmunti.ttf',\n",
       " '/System/Library/Fonts/Supplemental/NotoSansAvestan-Regular.ttf',\n",
       " '/System/Library/Fonts/Supplemental/NotoSansTifinagh-Regular.ttf',\n",
       " '/System/Library/Fonts/Supplemental/NotoSansMarchen-Regular.ttf',\n",
       " '/System/Library/Fonts/Supplemental/NotoSansMro-Regular.ttf',\n",
       " '/Users/matheushostert/Library/Fonts/cmunbso.ttf',\n",
       " '/Users/matheushostert/Library/Fonts/cmunsi.ttf',\n",
       " '/System/Library/Fonts/Supplemental/Athelas.ttc',\n",
       " '/System/Library/Fonts/Supplemental/PlantagenetCherokee.ttf',\n",
       " '/System/Library/Fonts/Supplemental/NotoSansMasaramGondi-Regular.otf',\n",
       " '/System/Library/Fonts/Supplemental/Arial Bold.ttf',\n",
       " '/System/Library/Fonts/Supplemental/NotoSansOldPersian-Regular.ttf',\n",
       " '/Users/matheushostert/Library/Fonts/cmunssdc.ttf',\n",
       " '/System/Library/Fonts/Supplemental/Kefa.ttc',\n",
       " '/System/Library/Fonts/Supplemental/NotoSansMiao-Regular.ttf',\n",
       " '/System/Library/Fonts/Supplemental/Telugu Sangam MN.ttc',\n",
       " '/System/Library/Fonts/Supplemental/NotoSansJavanese-Regular.otf',\n",
       " '/System/Library/Fonts/NewYorkItalic.ttf',\n",
       " '/System/Library/Fonts/Supplemental/AlBayan.ttc',\n",
       " '/System/Library/Fonts/Supplemental/Corsiva.ttc',\n",
       " '/System/Library/Fonts/Supplemental/STIXIntUpDReg.otf',\n",
       " '/System/Library/Fonts/Supplemental/Arial Narrow Italic.ttf',\n",
       " '/System/Library/Fonts/Supplemental/NotoSansTakri-Regular.ttf',\n",
       " '/System/Library/Fonts/Apple Braille.ttf',\n",
       " '/System/Library/Fonts/Supplemental/PTMono.ttc',\n",
       " '/System/Library/Fonts/Supplemental/Gurmukhi MN.ttc',\n",
       " '/System/Library/Fonts/Supplemental/Trebuchet MS Italic.ttf',\n",
       " '/System/Library/Fonts/Supplemental/Copperplate.ttc',\n",
       " '/System/Library/Fonts/Supplemental/NotoSansRejang-Regular.ttf',\n",
       " '/Users/matheushostert/Library/Fonts/cmunss.ttf',\n",
       " '/System/Library/Fonts/Supplemental/NotoSansKaithi-Regular.ttf',\n",
       " '/System/Library/Fonts/Supplemental/ITFDevanagari.ttc',\n",
       " '/System/Library/Fonts/HelveticaNeue.ttc',\n",
       " '/System/Library/Fonts/Supplemental/STIXIntUpSmBol.otf',\n",
       " '/Users/matheushostert/Library/Fonts/cmunsl.ttf',\n",
       " '/System/Library/Fonts/Supplemental/Georgia Bold.ttf',\n",
       " '/System/Library/Fonts/Supplemental/NotoSansBuginese-Regular.ttf',\n",
       " '/System/Library/Fonts/Supplemental/Microsoft Sans Serif.ttf',\n",
       " '/System/Library/Fonts/Supplemental/GujaratiMT.ttc',\n",
       " '/System/Library/Fonts/Supplemental/Myanmar MN.ttc',\n",
       " '/System/Library/Fonts/Supplemental/Nadeem.ttc',\n",
       " '/System/Library/Fonts/ヒラギノ角ゴシック W0.ttc',\n",
       " '/Users/matheushostert/Library/Fonts/cmunci.ttf',\n",
       " '/System/Library/Fonts/Supplemental/Impact.ttf',\n",
       " '/System/Library/Fonts/Apple Color Emoji.ttc',\n",
       " '/System/Library/Fonts/SFNSItalic.ttf',\n",
       " '/System/Library/Fonts/ヒラギノ明朝 ProN.ttc',\n",
       " '/System/Library/Fonts/Supplemental/Mshtakan.ttc',\n",
       " '/System/Library/Fonts/Supplemental/Gujarati Sangam MN.ttc',\n",
       " '/System/Library/Fonts/Supplemental/Tamil Sangam MN.ttc',\n",
       " '/System/Library/Fonts/Apple Braille Outline 6 Dot.ttf',\n",
       " '/System/Library/Fonts/Supplemental/Myanmar Sangam MN.ttc',\n",
       " '/System/Library/Fonts/Supplemental/STIXNonUniBolIta.otf',\n",
       " '/System/Library/Fonts/Supplemental/Wingdings 3.ttf',\n",
       " '/System/Library/Fonts/Supplemental/NotoSansMandaic-Regular.ttf',\n",
       " '/System/Library/Fonts/Supplemental/Oriya Sangam MN.ttc',\n",
       " '/System/Library/Fonts/Supplemental/Arial Black.ttf',\n",
       " '/System/Library/Fonts/Supplemental/STIXGeneralBol.otf',\n",
       " '/System/Library/Fonts/Supplemental/STIXIntUpBol.otf',\n",
       " '/System/Library/Fonts/Supplemental/Damascus.ttc',\n",
       " '/System/Library/Fonts/Supplemental/NotoSansBamum-Regular.ttf',\n",
       " '/System/Library/Fonts/Supplemental/NotoSerifYezidi-Regular.otf',\n",
       " '/System/Library/Fonts/Supplemental/NotoSansHatran-Regular.ttf',\n",
       " '/System/Library/Fonts/Supplemental/NewPeninimMT.ttc',\n",
       " '/System/Library/Fonts/AquaKana.ttc',\n",
       " '/System/Library/Fonts/Supplemental/Phosphate.ttc',\n",
       " '/System/Library/Fonts/Supplemental/DIN Alternate Bold.ttf',\n",
       " '/System/Library/Fonts/GeezaPro.ttc',\n",
       " '/System/Library/Fonts/Supplemental/Al Tarikh.ttc',\n",
       " '/System/Library/Fonts/Supplemental/Trebuchet MS Bold Italic.ttf',\n",
       " '/System/Library/Fonts/Supplemental/NotoSansLepcha-Regular.ttf',\n",
       " '/System/Library/Fonts/Supplemental/NotoSansPhoenician-Regular.ttf',\n",
       " '/System/Library/Fonts/Supplemental/NotoSansLycian-Regular.ttf',\n",
       " '/System/Library/Fonts/Supplemental/NotoSansOldPermic-Regular.ttf',\n",
       " '/Users/matheushostert/Library/Fonts/cmunui.ttf',\n",
       " '/System/Library/Fonts/Supplemental/NotoSansPahawhHmong-Regular.ttf',\n",
       " '/System/Library/Fonts/Supplemental/Malayalam Sangam MN.ttc',\n",
       " '/System/Library/Fonts/Supplemental/STIXGeneral.otf',\n",
       " '/Users/matheushostert/Library/Fonts/cmunorm.ttf',\n",
       " '/System/Library/Fonts/Supplemental/STIXNonUniIta.otf',\n",
       " '/System/Library/Fonts/MuktaMahee.ttc',\n",
       " '/System/Library/Fonts/Supplemental/STIXGeneralBolIta.otf',\n",
       " '/System/Library/Fonts/Supplemental/NotoSansLydian-Regular.ttf',\n",
       " '/System/Library/Fonts/Supplemental/NotoSansBatak-Regular.ttf',\n",
       " '/System/Library/Fonts/Supplemental/NotoSansHanunoo-Regular.ttf',\n",
       " '/System/Library/Fonts/Supplemental/Al Nile.ttc',\n",
       " '/Users/matheushostert/Library/Fonts/cmunobx.ttf',\n",
       " '/System/Library/Fonts/Supplemental/Arial Rounded Bold.ttf',\n",
       " '/System/Library/Fonts/NotoSansMyanmar.ttc',\n",
       " '/System/Library/Fonts/Supplemental/NotoSansHanifiRohingya-Regular.ttf',\n",
       " '/System/Library/Fonts/Supplemental/NotoSansDuployan-Regular.ttf',\n",
       " '/Users/matheushostert/Library/Fonts/cmunso.ttf',\n",
       " '/System/Library/Fonts/Supplemental/Shree714.ttc',\n",
       " '/System/Library/Fonts/KohinoorGujarati.ttc',\n",
       " '/System/Library/Fonts/Supplemental/Farah.ttc',\n",
       " '/System/Library/Fonts/Supplemental/NotoSansEgyptianHieroglyphs-Regular.ttf',\n",
       " '/System/Library/Fonts/Supplemental/Kailasa.ttc',\n",
       " '/Users/matheushostert/Library/Fonts/cmunvi.ttf',\n",
       " '/System/Library/Fonts/Supplemental/Lao MN.ttc',\n",
       " '/System/Library/Fonts/Supplemental/Arial Unicode.ttf',\n",
       " '/System/Library/Fonts/Supplemental/Muna.ttc',\n",
       " '/System/Library/Fonts/NotoSansOriya.ttc',\n",
       " '/System/Library/Fonts/Supplemental/NotoSansOldNorthArabian-Regular.ttf',\n",
       " '/System/Library/Fonts/Supplemental/Beirut.ttc',\n",
       " '/System/Library/Fonts/Supplemental/Courier New.ttf',\n",
       " '/System/Library/Fonts/Supplemental/Comic Sans MS Bold.ttf',\n",
       " '/System/Library/Fonts/Supplemental/Andale Mono.ttf',\n",
       " '/System/Library/Fonts/Supplemental/Sinhala Sangam MN.ttc',\n",
       " '/System/Library/Fonts/SFArabic.ttf',\n",
       " '/System/Library/Fonts/Supplemental/NotoSansGlagolitic-Regular.ttf',\n",
       " '/System/Library/Fonts/ヒラギノ角ゴシック W4.ttc',\n",
       " '/System/Library/Fonts/Supplemental/Bangla MN.ttc',\n",
       " '/System/Library/Fonts/Supplemental/Futura.ttc',\n",
       " '/System/Library/Fonts/SFNSMono.ttf',\n",
       " '/System/Library/Fonts/Supplemental/PTSerifCaption.ttc',\n",
       " '/System/Library/Fonts/Noteworthy.ttc',\n",
       " '/System/Library/Fonts/Supplemental/NotoSansBuhid-Regular.ttf',\n",
       " '/System/Library/Fonts/Supplemental/STIXNonUni.otf',\n",
       " '/System/Library/Fonts/Apple Braille Pinpoint 6 Dot.ttf',\n",
       " '/System/Library/Fonts/Supplemental/Hoefler Text Ornaments.ttf',\n",
       " '/System/Library/Fonts/Courier.ttc',\n",
       " '/System/Library/Fonts/KohinoorTelugu.ttc',\n",
       " '/System/Library/Fonts/Supplemental/NotoSerifBalinese-Regular.ttf',\n",
       " '/System/Library/Fonts/Supplemental/STIXIntUpSmReg.otf',\n",
       " '/System/Library/Fonts/Supplemental/NotoSansMeroitic-Regular.ttf',\n",
       " '/Users/matheushostert/Library/Fonts/cmunobi.ttf',\n",
       " '/System/Library/Fonts/Supplemental/STIXSizTwoSymReg.otf',\n",
       " '/System/Library/Fonts/Supplemental/AmericanTypewriter.ttc',\n",
       " '/System/Library/Fonts/Supplemental/EuphemiaCAS.ttc',\n",
       " '/System/Library/Fonts/Supplemental/Kannada Sangam MN.ttc',\n",
       " '/System/Library/Fonts/Supplemental/Courier New Bold.ttf',\n",
       " '/System/Library/Fonts/Avenir Next.ttc',\n",
       " '/System/Library/Fonts/Supplemental/NotoSansOldItalic-Regular.ttf',\n",
       " '/System/Library/Fonts/Supplemental/NISC18030.ttf',\n",
       " '/System/Library/Fonts/Helvetica.ttc',\n",
       " '/Users/matheushostert/Library/Fonts/cmunbx.ttf',\n",
       " '/System/Library/Fonts/Optima.ttc',\n",
       " '/System/Library/Fonts/Supplemental/NotoSansTaiViet-Regular.ttf',\n",
       " '/System/Library/Fonts/STHeiti Light.ttc',\n",
       " '/Library/Fonts/Arial Unicode.ttf',\n",
       " '/System/Library/Fonts/Supplemental/STIXNonUniBol.otf',\n",
       " '/System/Library/Fonts/Supplemental/Ayuthaya.ttf',\n",
       " '/System/Library/Fonts/Supplemental/Tahoma.ttf',\n",
       " '/System/Library/Fonts/ヒラギノ角ゴシック W1.ttc',\n",
       " '/System/Library/Fonts/Symbol.ttf',\n",
       " '/System/Library/Fonts/Supplemental/NotoSansOsage-Regular.ttf']"
      ]
     },
     "execution_count": 2,
     "metadata": {},
     "output_type": "execute_result"
    }
   ],
   "source": [
    "import matplotlib.font_manager\n",
    "\n",
    "matplotlib.font_manager.findSystemFonts(fontpaths=None, fontext='ttf')"
   ]
  },
  {
   "cell_type": "code",
   "execution_count": 3,
   "metadata": {},
   "outputs": [
    {
     "data": {
      "text/plain": [
       "[<matplotlib.lines.Line2D at 0x7fb240c96fd0>]"
      ]
     },
     "execution_count": 3,
     "metadata": {},
     "output_type": "execute_result"
    },
    {
     "data": {
      "image/png": "[encoded data removed]",
      "text/plain": [
       "<Figure size 432x288 with 1 Axes>"
      ]
     },
     "metadata": {
      "needs_background": "light"
     },
     "output_type": "display_data"
    }
   ],
   "source": [
    "import matplotlib.pyplot as plt\n",
    "import numpy as np\n",
    "plt.plot(np.linspace(1,4))"
   ]
  },
  {
   "cell_type": "code",
   "execution_count": 4,
   "metadata": {},
   "outputs": [
    {
     "ename": "FileNotFoundError",
     "evalue": "missing font metrics file: cmss12",
     "output_type": "error",
     "traceback": [
      "\u001b[0;31m---------------------------------------------------------------------------\u001b[0m",
      "\u001b[0;31mFileNotFoundError\u001b[0m                         Traceback (most recent call last)",
      "File \u001b[0;32m/usr/local/anaconda3/lib/python3.9/site-packages/IPython/core/formatters.py:339\u001b[0m, in \u001b[0;36mBaseFormatter.__call__\u001b[0;34m(self, obj)\u001b[0m\n\u001b[1;32m    337\u001b[0m     \u001b[39mpass\u001b[39;00m\n\u001b[1;32m    338\u001b[0m \u001b[39melse\u001b[39;00m:\n\u001b[0;32m--> 339\u001b[0m     \u001b[39mreturn\u001b[39;00m printer(obj)\n\u001b[1;32m    340\u001b[0m \u001b[39m# Finally look for special method names\u001b[39;00m\n\u001b[1;32m    341\u001b[0m method \u001b[39m=\u001b[39m get_real_method(obj, \u001b[39mself\u001b[39m\u001b[39m.\u001b[39mprint_method)\n",
      "File \u001b[0;32m/usr/local/anaconda3/lib/python3.9/site-packages/IPython/core/pylabtools.py:151\u001b[0m, in \u001b[0;36mprint_figure\u001b[0;34m(fig, fmt, bbox_inches, base64, **kwargs)\u001b[0m\n\u001b[1;32m    148\u001b[0m     \u001b[39mfrom\u001b[39;00m \u001b[39mmatplotlib\u001b[39;00m\u001b[39m.\u001b[39;00m\u001b[39mbackend_bases\u001b[39;00m \u001b[39mimport\u001b[39;00m FigureCanvasBase\n\u001b[1;32m    149\u001b[0m     FigureCanvasBase(fig)\n\u001b[0;32m--> 151\u001b[0m fig\u001b[39m.\u001b[39;49mcanvas\u001b[39m.\u001b[39;49mprint_figure(bytes_io, \u001b[39m*\u001b[39;49m\u001b[39m*\u001b[39;49mkw)\n\u001b[1;32m    152\u001b[0m data \u001b[39m=\u001b[39m bytes_io\u001b[39m.\u001b[39mgetvalue()\n\u001b[1;32m    153\u001b[0m \u001b[39mif\u001b[39;00m fmt \u001b[39m==\u001b[39m \u001b[39m'\u001b[39m\u001b[39msvg\u001b[39m\u001b[39m'\u001b[39m:\n",
      "File \u001b[0;32m/usr/local/anaconda3/lib/python3.9/site-packages/matplotlib/backend_bases.py:2295\u001b[0m, in \u001b[0;36mFigureCanvasBase.print_figure\u001b[0;34m(self, filename, dpi, facecolor, edgecolor, orientation, format, bbox_inches, pad_inches, bbox_extra_artists, backend, **kwargs)\u001b[0m\n\u001b[1;32m   2289\u001b[0m     renderer \u001b[39m=\u001b[39m _get_renderer(\n\u001b[1;32m   2290\u001b[0m         \u001b[39mself\u001b[39m\u001b[39m.\u001b[39mfigure,\n\u001b[1;32m   2291\u001b[0m         functools\u001b[39m.\u001b[39mpartial(\n\u001b[1;32m   2292\u001b[0m             print_method, orientation\u001b[39m=\u001b[39morientation)\n\u001b[1;32m   2293\u001b[0m     )\n\u001b[1;32m   2294\u001b[0m     \u001b[39mwith\u001b[39;00m \u001b[39mgetattr\u001b[39m(renderer, \u001b[39m\"\u001b[39m\u001b[39m_draw_disabled\u001b[39m\u001b[39m\"\u001b[39m, nullcontext)():\n\u001b[0;32m-> 2295\u001b[0m         \u001b[39mself\u001b[39;49m\u001b[39m.\u001b[39;49mfigure\u001b[39m.\u001b[39;49mdraw(renderer)\n\u001b[1;32m   2297\u001b[0m \u001b[39mif\u001b[39;00m bbox_inches:\n\u001b[1;32m   2298\u001b[0m     \u001b[39mif\u001b[39;00m bbox_inches \u001b[39m==\u001b[39m \u001b[39m\"\u001b[39m\u001b[39mtight\u001b[39m\u001b[39m\"\u001b[39m:\n",
      "File \u001b[0;32m/usr/local/anaconda3/lib/python3.9/site-packages/matplotlib/artist.py:73\u001b[0m, in \u001b[0;36m_finalize_rasterization.<locals>.draw_wrapper\u001b[0;34m(artist, renderer, *args, **kwargs)\u001b[0m\n\u001b[1;32m     71\u001b[0m \u001b[39m@wraps\u001b[39m(draw)\n\u001b[1;32m     72\u001b[0m \u001b[39mdef\u001b[39;00m \u001b[39mdraw_wrapper\u001b[39m(artist, renderer, \u001b[39m*\u001b[39margs, \u001b[39m*\u001b[39m\u001b[39m*\u001b[39mkwargs):\n\u001b[0;32m---> 73\u001b[0m     result \u001b[39m=\u001b[39m draw(artist, renderer, \u001b[39m*\u001b[39;49margs, \u001b[39m*\u001b[39;49m\u001b[39m*\u001b[39;49mkwargs)\n\u001b[1;32m     74\u001b[0m     \u001b[39mif\u001b[39;00m renderer\u001b[39m.\u001b[39m_rasterizing:\n\u001b[1;32m     75\u001b[0m         renderer\u001b[39m.\u001b[39mstop_rasterizing()\n",
      "File \u001b[0;32m/usr/local/anaconda3/lib/python3.9/site-packages/matplotlib/artist.py:50\u001b[0m, in \u001b[0;36mallow_rasterization.<locals>.draw_wrapper\u001b[0;34m(artist, renderer)\u001b[0m\n\u001b[1;32m     47\u001b[0m     \u001b[39mif\u001b[39;00m artist\u001b[39m.\u001b[39mget_agg_filter() \u001b[39mis\u001b[39;00m \u001b[39mnot\u001b[39;00m \u001b[39mNone\u001b[39;00m:\n\u001b[1;32m     48\u001b[0m         renderer\u001b[39m.\u001b[39mstart_filter()\n\u001b[0;32m---> 50\u001b[0m     \u001b[39mreturn\u001b[39;00m draw(artist, renderer)\n\u001b[1;32m     51\u001b[0m \u001b[39mfinally\u001b[39;00m:\n\u001b[1;32m     52\u001b[0m     \u001b[39mif\u001b[39;00m artist\u001b[39m.\u001b[39mget_agg_filter() \u001b[39mis\u001b[39;00m \u001b[39mnot\u001b[39;00m \u001b[39mNone\u001b[39;00m:\n",
      "File \u001b[0;32m/usr/local/anaconda3/lib/python3.9/site-packages/matplotlib/figure.py:2810\u001b[0m, in \u001b[0;36mFigure.draw\u001b[0;34m(self, renderer)\u001b[0m\n\u001b[1;32m   2807\u001b[0m         \u001b[39m# ValueError can occur when resizing a window.\u001b[39;00m\n\u001b[1;32m   2809\u001b[0m \u001b[39mself\u001b[39m\u001b[39m.\u001b[39mpatch\u001b[39m.\u001b[39mdraw(renderer)\n\u001b[0;32m-> 2810\u001b[0m mimage\u001b[39m.\u001b[39;49m_draw_list_compositing_images(\n\u001b[1;32m   2811\u001b[0m     renderer, \u001b[39mself\u001b[39;49m, artists, \u001b[39mself\u001b[39;49m\u001b[39m.\u001b[39;49msuppressComposite)\n\u001b[1;32m   2813\u001b[0m \u001b[39mfor\u001b[39;00m sfig \u001b[39min\u001b[39;00m \u001b[39mself\u001b[39m\u001b[39m.\u001b[39msubfigs:\n\u001b[1;32m   2814\u001b[0m     sfig\u001b[39m.\u001b[39mdraw(renderer)\n",
      "File \u001b[0;32m/usr/local/anaconda3/lib/python3.9/site-packages/matplotlib/image.py:132\u001b[0m, in \u001b[0;36m_draw_list_compositing_images\u001b[0;34m(renderer, parent, artists, suppress_composite)\u001b[0m\n\u001b[1;32m    130\u001b[0m \u001b[39mif\u001b[39;00m not_composite \u001b[39mor\u001b[39;00m \u001b[39mnot\u001b[39;00m has_images:\n\u001b[1;32m    131\u001b[0m     \u001b[39mfor\u001b[39;00m a \u001b[39min\u001b[39;00m artists:\n\u001b[0;32m--> 132\u001b[0m         a\u001b[39m.\u001b[39;49mdraw(renderer)\n\u001b[1;32m    133\u001b[0m \u001b[39melse\u001b[39;00m:\n\u001b[1;32m    134\u001b[0m     \u001b[39m# Composite any adjacent images together\u001b[39;00m\n\u001b[1;32m    135\u001b[0m     image_group \u001b[39m=\u001b[39m []\n",
      "File \u001b[0;32m/usr/local/anaconda3/lib/python3.9/site-packages/matplotlib/artist.py:50\u001b[0m, in \u001b[0;36mallow_rasterization.<locals>.draw_wrapper\u001b[0;34m(artist, renderer)\u001b[0m\n\u001b[1;32m     47\u001b[0m     \u001b[39mif\u001b[39;00m artist\u001b[39m.\u001b[39mget_agg_filter() \u001b[39mis\u001b[39;00m \u001b[39mnot\u001b[39;00m \u001b[39mNone\u001b[39;00m:\n\u001b[1;32m     48\u001b[0m         renderer\u001b[39m.\u001b[39mstart_filter()\n\u001b[0;32m---> 50\u001b[0m     \u001b[39mreturn\u001b[39;00m draw(artist, renderer)\n\u001b[1;32m     51\u001b[0m \u001b[39mfinally\u001b[39;00m:\n\u001b[1;32m     52\u001b[0m     \u001b[39mif\u001b[39;00m artist\u001b[39m.\u001b[39mget_agg_filter() \u001b[39mis\u001b[39;00m \u001b[39mnot\u001b[39;00m \u001b[39mNone\u001b[39;00m:\n",
      "File \u001b[0;32m/usr/local/anaconda3/lib/python3.9/site-packages/matplotlib/axes/_base.py:3082\u001b[0m, in \u001b[0;36m_AxesBase.draw\u001b[0;34m(self, renderer)\u001b[0m\n\u001b[1;32m   3079\u001b[0m         a\u001b[39m.\u001b[39mdraw(renderer)\n\u001b[1;32m   3080\u001b[0m     renderer\u001b[39m.\u001b[39mstop_rasterizing()\n\u001b[0;32m-> 3082\u001b[0m mimage\u001b[39m.\u001b[39;49m_draw_list_compositing_images(\n\u001b[1;32m   3083\u001b[0m     renderer, \u001b[39mself\u001b[39;49m, artists, \u001b[39mself\u001b[39;49m\u001b[39m.\u001b[39;49mfigure\u001b[39m.\u001b[39;49msuppressComposite)\n\u001b[1;32m   3085\u001b[0m renderer\u001b[39m.\u001b[39mclose_group(\u001b[39m'\u001b[39m\u001b[39maxes\u001b[39m\u001b[39m'\u001b[39m)\n\u001b[1;32m   3086\u001b[0m \u001b[39mself\u001b[39m\u001b[39m.\u001b[39mstale \u001b[39m=\u001b[39m \u001b[39mFalse\u001b[39;00m\n",
      "File \u001b[0;32m/usr/local/anaconda3/lib/python3.9/site-packages/matplotlib/image.py:132\u001b[0m, in \u001b[0;36m_draw_list_compositing_images\u001b[0;34m(renderer, parent, artists, suppress_composite)\u001b[0m\n\u001b[1;32m    130\u001b[0m \u001b[39mif\u001b[39;00m not_composite \u001b[39mor\u001b[39;00m \u001b[39mnot\u001b[39;00m has_images:\n\u001b[1;32m    131\u001b[0m     \u001b[39mfor\u001b[39;00m a \u001b[39min\u001b[39;00m artists:\n\u001b[0;32m--> 132\u001b[0m         a\u001b[39m.\u001b[39;49mdraw(renderer)\n\u001b[1;32m    133\u001b[0m \u001b[39melse\u001b[39;00m:\n\u001b[1;32m    134\u001b[0m     \u001b[39m# Composite any adjacent images together\u001b[39;00m\n\u001b[1;32m    135\u001b[0m     image_group \u001b[39m=\u001b[39m []\n",
      "File \u001b[0;32m/usr/local/anaconda3/lib/python3.9/site-packages/matplotlib/artist.py:50\u001b[0m, in \u001b[0;36mallow_rasterization.<locals>.draw_wrapper\u001b[0;34m(artist, renderer)\u001b[0m\n\u001b[1;32m     47\u001b[0m     \u001b[39mif\u001b[39;00m artist\u001b[39m.\u001b[39mget_agg_filter() \u001b[39mis\u001b[39;00m \u001b[39mnot\u001b[39;00m \u001b[39mNone\u001b[39;00m:\n\u001b[1;32m     48\u001b[0m         renderer\u001b[39m.\u001b[39mstart_filter()\n\u001b[0;32m---> 50\u001b[0m     \u001b[39mreturn\u001b[39;00m draw(artist, renderer)\n\u001b[1;32m     51\u001b[0m \u001b[39mfinally\u001b[39;00m:\n\u001b[1;32m     52\u001b[0m     \u001b[39mif\u001b[39;00m artist\u001b[39m.\u001b[39mget_agg_filter() \u001b[39mis\u001b[39;00m \u001b[39mnot\u001b[39;00m \u001b[39mNone\u001b[39;00m:\n",
      "File \u001b[0;32m/usr/local/anaconda3/lib/python3.9/site-packages/matplotlib/axis.py:1159\u001b[0m, in \u001b[0;36mAxis.draw\u001b[0;34m(self, renderer, *args, **kwargs)\u001b[0m\n\u001b[1;32m   1156\u001b[0m renderer\u001b[39m.\u001b[39mopen_group(\u001b[39m__name__\u001b[39m, gid\u001b[39m=\u001b[39m\u001b[39mself\u001b[39m\u001b[39m.\u001b[39mget_gid())\n\u001b[1;32m   1158\u001b[0m ticks_to_draw \u001b[39m=\u001b[39m \u001b[39mself\u001b[39m\u001b[39m.\u001b[39m_update_ticks()\n\u001b[0;32m-> 1159\u001b[0m ticklabelBoxes, ticklabelBoxes2 \u001b[39m=\u001b[39m \u001b[39mself\u001b[39;49m\u001b[39m.\u001b[39;49m_get_tick_bboxes(ticks_to_draw,\n\u001b[1;32m   1160\u001b[0m                                                         renderer)\n\u001b[1;32m   1162\u001b[0m \u001b[39mfor\u001b[39;00m tick \u001b[39min\u001b[39;00m ticks_to_draw:\n\u001b[1;32m   1163\u001b[0m     tick\u001b[39m.\u001b[39mdraw(renderer)\n",
      "File \u001b[0;32m/usr/local/anaconda3/lib/python3.9/site-packages/matplotlib/axis.py:1085\u001b[0m, in \u001b[0;36mAxis._get_tick_bboxes\u001b[0;34m(self, ticks, renderer)\u001b[0m\n\u001b[1;32m   1083\u001b[0m \u001b[39mdef\u001b[39;00m \u001b[39m_get_tick_bboxes\u001b[39m(\u001b[39mself\u001b[39m, ticks, renderer):\n\u001b[1;32m   1084\u001b[0m     \u001b[39m\"\"\"Return lists of bboxes for ticks' label1's and label2's.\"\"\"\u001b[39;00m\n\u001b[0;32m-> 1085\u001b[0m     \u001b[39mreturn\u001b[39;00m ([tick\u001b[39m.\u001b[39mlabel1\u001b[39m.\u001b[39mget_window_extent(renderer)\n\u001b[1;32m   1086\u001b[0m              \u001b[39mfor\u001b[39;00m tick \u001b[39min\u001b[39;00m ticks \u001b[39mif\u001b[39;00m tick\u001b[39m.\u001b[39mlabel1\u001b[39m.\u001b[39mget_visible()],\n\u001b[1;32m   1087\u001b[0m             [tick\u001b[39m.\u001b[39mlabel2\u001b[39m.\u001b[39mget_window_extent(renderer)\n\u001b[1;32m   1088\u001b[0m              \u001b[39mfor\u001b[39;00m tick \u001b[39min\u001b[39;00m ticks \u001b[39mif\u001b[39;00m tick\u001b[39m.\u001b[39mlabel2\u001b[39m.\u001b[39mget_visible()])\n",
      "File \u001b[0;32m/usr/local/anaconda3/lib/python3.9/site-packages/matplotlib/axis.py:1085\u001b[0m, in \u001b[0;36m<listcomp>\u001b[0;34m(.0)\u001b[0m\n\u001b[1;32m   1083\u001b[0m \u001b[39mdef\u001b[39;00m \u001b[39m_get_tick_bboxes\u001b[39m(\u001b[39mself\u001b[39m, ticks, renderer):\n\u001b[1;32m   1084\u001b[0m     \u001b[39m\"\"\"Return lists of bboxes for ticks' label1's and label2's.\"\"\"\u001b[39;00m\n\u001b[0;32m-> 1085\u001b[0m     \u001b[39mreturn\u001b[39;00m ([tick\u001b[39m.\u001b[39;49mlabel1\u001b[39m.\u001b[39;49mget_window_extent(renderer)\n\u001b[1;32m   1086\u001b[0m              \u001b[39mfor\u001b[39;00m tick \u001b[39min\u001b[39;00m ticks \u001b[39mif\u001b[39;00m tick\u001b[39m.\u001b[39mlabel1\u001b[39m.\u001b[39mget_visible()],\n\u001b[1;32m   1087\u001b[0m             [tick\u001b[39m.\u001b[39mlabel2\u001b[39m.\u001b[39mget_window_extent(renderer)\n\u001b[1;32m   1088\u001b[0m              \u001b[39mfor\u001b[39;00m tick \u001b[39min\u001b[39;00m ticks \u001b[39mif\u001b[39;00m tick\u001b[39m.\u001b[39mlabel2\u001b[39m.\u001b[39mget_visible()])\n",
      "File \u001b[0;32m/usr/local/anaconda3/lib/python3.9/site-packages/matplotlib/text.py:910\u001b[0m, in \u001b[0;36mText.get_window_extent\u001b[0;34m(self, renderer, dpi)\u001b[0m\n\u001b[1;32m    907\u001b[0m     \u001b[39mraise\u001b[39;00m \u001b[39mRuntimeError\u001b[39;00m(\u001b[39m'\u001b[39m\u001b[39mCannot get window extent w/o renderer\u001b[39m\u001b[39m'\u001b[39m)\n\u001b[1;32m    909\u001b[0m \u001b[39mwith\u001b[39;00m cbook\u001b[39m.\u001b[39m_setattr_cm(\u001b[39mself\u001b[39m\u001b[39m.\u001b[39mfigure, dpi\u001b[39m=\u001b[39mdpi):\n\u001b[0;32m--> 910\u001b[0m     bbox, info, descent \u001b[39m=\u001b[39m \u001b[39mself\u001b[39;49m\u001b[39m.\u001b[39;49m_get_layout(\u001b[39mself\u001b[39;49m\u001b[39m.\u001b[39;49m_renderer)\n\u001b[1;32m    911\u001b[0m     x, y \u001b[39m=\u001b[39m \u001b[39mself\u001b[39m\u001b[39m.\u001b[39mget_unitless_position()\n\u001b[1;32m    912\u001b[0m     x, y \u001b[39m=\u001b[39m \u001b[39mself\u001b[39m\u001b[39m.\u001b[39mget_transform()\u001b[39m.\u001b[39mtransform((x, y))\n",
      "File \u001b[0;32m/usr/local/anaconda3/lib/python3.9/site-packages/matplotlib/text.py:309\u001b[0m, in \u001b[0;36mText._get_layout\u001b[0;34m(self, renderer)\u001b[0m\n\u001b[1;32m    306\u001b[0m ys \u001b[39m=\u001b[39m []\n\u001b[1;32m    308\u001b[0m \u001b[39m# Full vertical extent of font, including ascenders and descenders:\u001b[39;00m\n\u001b[0;32m--> 309\u001b[0m _, lp_h, lp_d \u001b[39m=\u001b[39m renderer\u001b[39m.\u001b[39;49mget_text_width_height_descent(\n\u001b[1;32m    310\u001b[0m     \u001b[39m\"\u001b[39;49m\u001b[39mlp\u001b[39;49m\u001b[39m\"\u001b[39;49m, \u001b[39mself\u001b[39;49m\u001b[39m.\u001b[39;49m_fontproperties,\n\u001b[1;32m    311\u001b[0m     ismath\u001b[39m=\u001b[39;49m\u001b[39m\"\u001b[39;49m\u001b[39mTeX\u001b[39;49m\u001b[39m\"\u001b[39;49m \u001b[39mif\u001b[39;49;00m \u001b[39mself\u001b[39;49m\u001b[39m.\u001b[39;49mget_usetex() \u001b[39melse\u001b[39;49;00m \u001b[39mFalse\u001b[39;49;00m)\n\u001b[1;32m    312\u001b[0m min_dy \u001b[39m=\u001b[39m (lp_h \u001b[39m-\u001b[39m lp_d) \u001b[39m*\u001b[39m \u001b[39mself\u001b[39m\u001b[39m.\u001b[39m_linespacing\n\u001b[1;32m    314\u001b[0m \u001b[39mfor\u001b[39;00m i, line \u001b[39min\u001b[39;00m \u001b[39menumerate\u001b[39m(lines):\n",
      "File \u001b[0;32m/usr/local/anaconda3/lib/python3.9/site-packages/matplotlib/backends/backend_agg.py:259\u001b[0m, in \u001b[0;36mRendererAgg.get_text_width_height_descent\u001b[0;34m(self, s, prop, ismath)\u001b[0m\n\u001b[1;32m    257\u001b[0m     texmanager \u001b[39m=\u001b[39m \u001b[39mself\u001b[39m\u001b[39m.\u001b[39mget_texmanager()\n\u001b[1;32m    258\u001b[0m     fontsize \u001b[39m=\u001b[39m prop\u001b[39m.\u001b[39mget_size_in_points()\n\u001b[0;32m--> 259\u001b[0m     w, h, d \u001b[39m=\u001b[39m texmanager\u001b[39m.\u001b[39;49mget_text_width_height_descent(\n\u001b[1;32m    260\u001b[0m         s, fontsize, renderer\u001b[39m=\u001b[39;49m\u001b[39mself\u001b[39;49m)\n\u001b[1;32m    261\u001b[0m     \u001b[39mreturn\u001b[39;00m w, h, d\n\u001b[1;32m    263\u001b[0m \u001b[39mif\u001b[39;00m ismath:\n",
      "File \u001b[0;32m/usr/local/anaconda3/lib/python3.9/site-packages/matplotlib/texmanager.py:338\u001b[0m, in \u001b[0;36mTexManager.get_text_width_height_descent\u001b[0;34m(self, tex, fontsize, renderer)\u001b[0m\n\u001b[1;32m    336\u001b[0m dpi_fraction \u001b[39m=\u001b[39m renderer\u001b[39m.\u001b[39mpoints_to_pixels(\u001b[39m1.\u001b[39m) \u001b[39mif\u001b[39;00m renderer \u001b[39melse\u001b[39;00m \u001b[39m1\u001b[39m\n\u001b[1;32m    337\u001b[0m \u001b[39mwith\u001b[39;00m dviread\u001b[39m.\u001b[39mDvi(dvifile, \u001b[39m72\u001b[39m \u001b[39m*\u001b[39m dpi_fraction) \u001b[39mas\u001b[39;00m dvi:\n\u001b[0;32m--> 338\u001b[0m     page, \u001b[39m=\u001b[39m dvi\n\u001b[1;32m    339\u001b[0m \u001b[39m# A total height (including the descent) needs to be returned.\u001b[39;00m\n\u001b[1;32m    340\u001b[0m \u001b[39mreturn\u001b[39;00m page\u001b[39m.\u001b[39mwidth, page\u001b[39m.\u001b[39mheight \u001b[39m+\u001b[39m page\u001b[39m.\u001b[39mdescent, page\u001b[39m.\u001b[39mdescent\n",
      "File \u001b[0;32m/usr/local/anaconda3/lib/python3.9/site-packages/matplotlib/dviread.py:237\u001b[0m, in \u001b[0;36mDvi.__iter__\u001b[0;34m(self)\u001b[0m\n\u001b[1;32m    221\u001b[0m \u001b[39mdef\u001b[39;00m \u001b[39m__iter__\u001b[39m(\u001b[39mself\u001b[39m):\n\u001b[1;32m    222\u001b[0m     \u001b[39m\"\"\"\u001b[39;00m\n\u001b[1;32m    223\u001b[0m \u001b[39m    Iterate through the pages of the file.\u001b[39;00m\n\u001b[1;32m    224\u001b[0m \n\u001b[0;32m   (...)\u001b[0m\n\u001b[1;32m    235\u001b[0m \u001b[39m        integers.\u001b[39;00m\n\u001b[1;32m    236\u001b[0m \u001b[39m    \"\"\"\u001b[39;00m\n\u001b[0;32m--> 237\u001b[0m     \u001b[39mwhile\u001b[39;00m \u001b[39mself\u001b[39;49m\u001b[39m.\u001b[39;49m_read():\n\u001b[1;32m    238\u001b[0m         \u001b[39myield\u001b[39;00m \u001b[39mself\u001b[39m\u001b[39m.\u001b[39m_output()\n",
      "File \u001b[0;32m/usr/local/anaconda3/lib/python3.9/site-packages/matplotlib/dviread.py:316\u001b[0m, in \u001b[0;36mDvi._read\u001b[0;34m(self)\u001b[0m\n\u001b[1;32m    314\u001b[0m \u001b[39mwhile\u001b[39;00m \u001b[39mTrue\u001b[39;00m:\n\u001b[1;32m    315\u001b[0m     byte \u001b[39m=\u001b[39m \u001b[39mself\u001b[39m\u001b[39m.\u001b[39mfile\u001b[39m.\u001b[39mread(\u001b[39m1\u001b[39m)[\u001b[39m0\u001b[39m]\n\u001b[0;32m--> 316\u001b[0m     \u001b[39mself\u001b[39;49m\u001b[39m.\u001b[39;49m_dtable[byte](\u001b[39mself\u001b[39;49m, byte)\n\u001b[1;32m    317\u001b[0m     name \u001b[39m=\u001b[39m \u001b[39mself\u001b[39m\u001b[39m.\u001b[39m_dtable[byte]\u001b[39m.\u001b[39m\u001b[39m__name__\u001b[39m\n\u001b[1;32m    318\u001b[0m     \u001b[39mif\u001b[39;00m name \u001b[39m==\u001b[39m \u001b[39m\"\u001b[39m\u001b[39m_push\u001b[39m\u001b[39m\"\u001b[39m:\n",
      "File \u001b[0;32m/usr/local/anaconda3/lib/python3.9/site-packages/matplotlib/dviread.py:166\u001b[0m, in \u001b[0;36m_dispatch.<locals>.decorate.<locals>.wrapper\u001b[0;34m(self, byte)\u001b[0m\n\u001b[1;32m    164\u001b[0m \u001b[39mif\u001b[39;00m state \u001b[39mis\u001b[39;00m \u001b[39mnot\u001b[39;00m \u001b[39mNone\u001b[39;00m \u001b[39mand\u001b[39;00m \u001b[39mself\u001b[39m\u001b[39m.\u001b[39mstate \u001b[39m!=\u001b[39m state:\n\u001b[1;32m    165\u001b[0m     \u001b[39mraise\u001b[39;00m \u001b[39mValueError\u001b[39;00m(\u001b[39m\"\u001b[39m\u001b[39mstate precondition failed\u001b[39m\u001b[39m\"\u001b[39m)\n\u001b[0;32m--> 166\u001b[0m \u001b[39mreturn\u001b[39;00m method(\u001b[39mself\u001b[39;49m, \u001b[39m*\u001b[39;49m[f(\u001b[39mself\u001b[39;49m, byte\u001b[39m-\u001b[39;49m\u001b[39mmin\u001b[39;49m) \u001b[39mfor\u001b[39;49;00m f \u001b[39min\u001b[39;49;00m get_args])\n",
      "File \u001b[0;32m/usr/local/anaconda3/lib/python3.9/site-packages/matplotlib/dviread.py:467\u001b[0m, in \u001b[0;36mDvi._fnt_def\u001b[0;34m(self, k, c, s, d, a, l)\u001b[0m\n\u001b[1;32m    465\u001b[0m \u001b[39m@_dispatch\u001b[39m(\u001b[39mmin\u001b[39m\u001b[39m=\u001b[39m\u001b[39m243\u001b[39m, \u001b[39mmax\u001b[39m\u001b[39m=\u001b[39m\u001b[39m246\u001b[39m, args\u001b[39m=\u001b[39m(\u001b[39m'\u001b[39m\u001b[39molen1\u001b[39m\u001b[39m'\u001b[39m, \u001b[39m'\u001b[39m\u001b[39mu4\u001b[39m\u001b[39m'\u001b[39m, \u001b[39m'\u001b[39m\u001b[39mu4\u001b[39m\u001b[39m'\u001b[39m, \u001b[39m'\u001b[39m\u001b[39mu4\u001b[39m\u001b[39m'\u001b[39m, \u001b[39m'\u001b[39m\u001b[39mu1\u001b[39m\u001b[39m'\u001b[39m, \u001b[39m'\u001b[39m\u001b[39mu1\u001b[39m\u001b[39m'\u001b[39m))\n\u001b[1;32m    466\u001b[0m \u001b[39mdef\u001b[39;00m \u001b[39m_fnt_def\u001b[39m(\u001b[39mself\u001b[39m, k, c, s, d, a, l):\n\u001b[0;32m--> 467\u001b[0m     \u001b[39mself\u001b[39;49m\u001b[39m.\u001b[39;49m_fnt_def_real(k, c, s, d, a, l)\n",
      "File \u001b[0;32m/usr/local/anaconda3/lib/python3.9/site-packages/matplotlib/dviread.py:474\u001b[0m, in \u001b[0;36mDvi._fnt_def_real\u001b[0;34m(self, k, c, s, d, a, l)\u001b[0m\n\u001b[1;32m    472\u001b[0m tfm \u001b[39m=\u001b[39m _tfmfile(fontname)\n\u001b[1;32m    473\u001b[0m \u001b[39mif\u001b[39;00m tfm \u001b[39mis\u001b[39;00m \u001b[39mNone\u001b[39;00m:\n\u001b[0;32m--> 474\u001b[0m     \u001b[39mraise\u001b[39;00m \u001b[39mFileNotFoundError\u001b[39;00m(\u001b[39m\"\u001b[39m\u001b[39mmissing font metrics file: \u001b[39m\u001b[39m%s\u001b[39;00m\u001b[39m\"\u001b[39m \u001b[39m%\u001b[39m fontname)\n\u001b[1;32m    475\u001b[0m \u001b[39mif\u001b[39;00m c \u001b[39m!=\u001b[39m \u001b[39m0\u001b[39m \u001b[39mand\u001b[39;00m tfm\u001b[39m.\u001b[39mchecksum \u001b[39m!=\u001b[39m \u001b[39m0\u001b[39m \u001b[39mand\u001b[39;00m c \u001b[39m!=\u001b[39m tfm\u001b[39m.\u001b[39mchecksum:\n\u001b[1;32m    476\u001b[0m     \u001b[39mraise\u001b[39;00m \u001b[39mValueError\u001b[39;00m(\u001b[39m'\u001b[39m\u001b[39mtfm checksum mismatch: \u001b[39m\u001b[39m%s\u001b[39;00m\u001b[39m'\u001b[39m \u001b[39m%\u001b[39m n)\n",
      "\u001b[0;31mFileNotFoundError\u001b[0m: missing font metrics file: cmss12"
     ]
    },
    {
     "data": {
      "text/plain": [
       "<Figure size 319.68x272.068 with 1 Axes>"
      ]
     },
     "metadata": {
      "needs_background": "light"
     },
     "output_type": "display_data"
    }
   ],
   "source": [
    "import DarkNews.plot_tools as pt\n",
    "\n",
    "fig, ax = pt.std_fig()"
   ]
  },
  {
   "cell_type": "code",
   "execution_count": 2,
   "metadata": {},
   "outputs": [],
   "source": [
    "import os\n",
    "import numpy as np\n",
    "import pandas as pd\n",
    "from pathlib import Path\n",
    "\n",
    "import DarkNews as dn"
   ]
  },
  {
   "cell_type": "markdown",
   "metadata": {},
   "source": [
    "## 1) Generation\n",
    "\n",
    "Let us start by generating neutrino upscattering events using GenLauncher and then using the command line."
   ]
  },
  {
   "cell_type": "markdown",
   "metadata": {},
   "source": [
    "### `GenLauncher` class\n",
    "\n",
    "It is possible to run the generator through an instance of the `GenLauncher` class in the `DarkNews.GenLauncher` module.\n",
    "We create an instance of this class, specifying the parameters of the run, then we use the `run()` method on this instance.\n",
    "The created dataset can be found in the `data/` directory tree.\n",
    "Alternatively, it an be accessed via the `df` attribute.\n",
    "\n",
    "When using `GenLauncher`, the `run()` method accepts parameters as `log`, `verbose` or `logfile` (which can be also specified during the construction of the object).\n",
    "\n",
    "As an example, we start by considering a 3+1 model with a heavy Z'. In this case, the HNL decays are 3-body ones. In short, we compute\n",
    "\n",
    "$$ \\nu_\\mu A \\to (N_4 \\to \\nu e^+e^-) A $$ \n",
    "\n",
    "where $\\nu$ are all final state light neutrinos.\n"
   ]
  },
  {
   "cell_type": "code",
   "execution_count": 3,
   "metadata": {},
   "outputs": [
    {
     "name": "stdout",
     "output_type": "stream",
     "text": [
      "---------------------------------------------------------\n",
      "   ______           _        _   _                     \n",
      "   |  _  \\         | |      | \\ | |                    \n",
      "   | | | |__ _ _ __| | __   |  \\| | _____      _____   \n",
      "   | | | / _  | ___| |/ /   | .   |/ _ \\ \\ /\\ / / __|  \n",
      "   | |/ / (_| | |  |   <    | |\\  |  __/\\ V  V /\\__ \\  \n",
      "   |___/ \\__,_|_|  |_|\\_\\   \\_| \\_/\\___| \\_/\\_/ |___/  \n",
      "\n",
      "---------------------------------------------------------\n",
      "Model:\n",
      "\t1 dirac heavy neutrino(s).\n",
      "\n",
      "---------------------------------------------------------\n",
      "Experiment:\n",
      "\tMiniBooNE_FHC\n",
      "\tfluxfile loaded: MiniBooNE_FHC.dat\n",
      "\tPOT: 1.875e+21\n",
      "\tnuclear targets: ['C12', 'H1']\n",
      "\tfiducial mass: [701.1428571428571, 116.85714285714286] tonnes\n",
      "\n",
      "Directory tree for this run already exists. Overriding it.\n",
      "---------------------------------------------------------\n",
      "Generating Events using the neutrino-nucleus upscattering engine\n",
      "\n",
      "nu(mu) C12 --> N4  C12 --> nu_light e+ e- C12\n",
      "Helicity conserving upscattering.\n",
      "N4 three-body decays.\n",
      "Parent N4 proper decay length: 2.133E+08 cm.\n",
      "\n",
      "Predicted (21.3 +/- 3.33) events.\n",
      "\n",
      "nu(mu) proton_in_C12 --> N4  proton_in_C12 --> nu_light e+ e- proton_in_C12\n",
      "Helicity conserving upscattering.\n",
      "N4 three-body decays.\n",
      "Parent N4 proper decay length: 2.200E+08 cm.\n",
      "\n",
      "Predicted (36.4 +/- 5.17) events.\n",
      "\n",
      "nu(mu) proton_in_H1 --> N4  proton_in_H1 --> nu_light e+ e- proton_in_H1\n",
      "Helicity conserving upscattering.\n",
      "N4 three-body decays.\n",
      "Parent N4 proper decay length: 2.091E+08 cm.\n",
      "\n",
      "Predicted (13.2 +/- 1.66) events.\n",
      "\n",
      "Warning: number of entries with w_event_rate = 0 surpasses 1% of number of samples. Found: 0.03900709219858156.\n",
      "---------------------------------------------------------\n",
      "Generation successful\n",
      "\n",
      "Total events predicted:\n",
      "(70.8 +/- 6.37) events.\n",
      "\n",
      "---------------------------------------------------------\n",
      "Events in pandas dataframe saved to file successfully:\n",
      "data/miniboone_fhc/3plus1/m4_0.14_mzprime_1.25_dirac/pandas_df.pckl\n",
      "\n"
     ]
    }
   ],
   "source": [
    "from DarkNews import GenLauncher\n",
    "\n",
    "gen_object = GenLauncher(mzprime=1.25, m4=0.140, neval=100, nu_flavors=['nu_mu'], noHF=True, HNLtype=\"dirac\", loglevel=\"INFO\")\n",
    "df_1 = gen_object.run()"
   ]
  },
  {
   "cell_type": "markdown",
   "metadata": {},
   "source": [
    "---\n",
    "We may consider another example, a 3+2 model with a light Z', and compute\n",
    "\n",
    "$$ \\nu_\\mu A \\to N_5 A \\to N_4 Z^\\prime A \\to N_4 e^+e^- A $$ \n",
    "\n",
    "neglecting upscattering to $N_4$. In this case, the HNL decays are 2-body decays. By simply passing a value for the N5 mass, DarkNews already knows to use a 3+2 model, however, by default, all N6 mixing elements are set to zero, so it is important to specify these when using 3 HNLs."
   ]
  },
  {
   "cell_type": "code",
   "execution_count": 4,
   "metadata": {},
   "outputs": [
    {
     "name": "stdout",
     "output_type": "stream",
     "text": [
      "Initializing the three-portal model.\n",
      "---------------------------------------------------------\n",
      "   ______           _        _   _                     \n",
      "   |  _  \\         | |      | \\ | |                    \n",
      "   | | | |__ _ _ __| | __   |  \\| | _____      _____   \n",
      "   | | | / _  | ___| |/ /   | .   |/ _ \\ \\ /\\ / / __|  \n",
      "   | |/ / (_| | |  |   <    | |\\  |  __/\\ V  V /\\__ \\  \n",
      "   |___/ \\__,_|_|  |_|\\_\\   \\_| \\_/\\___| \\_/\\_/ |___/  \n",
      "\n",
      "---------------------------------------------------------\n",
      "Model:\n",
      "\t2 dirac heavy neutrino(s).\n",
      "\n",
      "---------------------------------------------------------\n",
      "Experiment:\n",
      "\tMiniBooNE_FHC\n",
      "\tfluxfile loaded: MiniBooNE_FHC.dat\n",
      "\tPOT: 1.875e+21\n",
      "\tnuclear targets: ['C12', 'H1']\n",
      "\tfiducial mass: [701.1428571428571, 116.85714285714286] tonnes\n",
      "\n",
      "Directory tree for this run already exists. Overriding it.\n",
      "---------------------------------------------------------\n",
      "Generating Events using the neutrino-nucleus upscattering engine\n",
      "\n",
      "nu(mu) C12 --> N5  C12 --> N4 e+ e- C12\n",
      "Helicity conserving upscattering.\n",
      "N5 decays via on-shell Z'.\n"
     ]
    },
    {
     "name": "stderr",
     "output_type": "stream",
     "text": [
      "/Users/matheushostert/Repos/DarkNews-generator/src/DarkNews/model.py:589: RuntimeWarning: invalid value encountered in sqrt\n",
      "  self.le_state_norms = np.sqrt(1 - np.sum((self.Ulep.conjugate()*self.Ulep)[:,3:], axis=1))\n"
     ]
    },
    {
     "name": "stdout",
     "output_type": "stream",
     "text": [
      "Parent N5 proper decay length: 4.902E-13 cm.\n",
      "\n",
      "Predicted (1.09e+08 +/- 4.19e+06) events.\n",
      "\n",
      "nu(mu) C12 --> N5  C12 --> N4 e+ e- C12\n",
      "Helicity flipping upscattering.\n",
      "N5 decays via on-shell Z'.\n",
      "Parent N5 proper decay length: 4.908E-13 cm.\n",
      "\n",
      "Predicted (1.3e+04 +/- 518) events.\n",
      "\n",
      "nu(mu) proton_in_C12 --> N5  proton_in_C12 --> N4 e+ e- proton_in_C12\n",
      "Helicity conserving upscattering.\n",
      "N5 decays via on-shell Z'.\n",
      "Parent N5 proper decay length: 4.910E-13 cm.\n",
      "\n",
      "Predicted (2.04e+07 +/- 7.89e+05) events.\n",
      "\n",
      "nu(mu) proton_in_C12 --> N5  proton_in_C12 --> N4 e+ e- proton_in_C12\n",
      "Helicity flipping upscattering.\n",
      "N5 decays via on-shell Z'.\n",
      "Parent N5 proper decay length: 4.898E-13 cm.\n",
      "\n",
      "Predicted (1.23e+04 +/- 467) events.\n",
      "\n",
      "nu(mu) proton_in_H1 --> N5  proton_in_H1 --> N4 e+ e- proton_in_H1\n",
      "Helicity conserving upscattering.\n",
      "N5 decays via on-shell Z'.\n",
      "Parent N5 proper decay length: 4.904E-13 cm.\n",
      "\n",
      "Predicted (6.76e+06 +/- 2.55e+05) events.\n",
      "\n",
      "nu(mu) proton_in_H1 --> N5  proton_in_H1 --> N4 e+ e- proton_in_H1\n",
      "Helicity flipping upscattering.\n",
      "N5 decays via on-shell Z'.\n",
      "Parent N5 proper decay length: 4.908E-13 cm.\n",
      "\n",
      "Predicted (3.99e+03 +/- 157) events.\n",
      "\n",
      "---------------------------------------------------------\n",
      "Generation successful\n",
      "\n",
      "Total events predicted:\n",
      "(1.36e+08 +/- 4.27e+06) events.\n",
      "\n",
      "---------------------------------------------------------\n",
      "Events in pandas dataframe saved to file successfully:\n",
      "data/miniboone_fhc/3plus2/m5_0.14_m4_0.08_mzprime_0.03_dirac/pandas_df.pckl\n",
      "\n"
     ]
    }
   ],
   "source": [
    "gen_object_2 = GenLauncher(Umu5=1e-3, UD5=1/np.sqrt(2), chi=0.0031, gD=2, mzprime=0.03, m4=0.080, m5=0.140, neval=1000, HNLtype=\"dirac\")\n",
    "df_2 = gen_object_2.run(loglevel=\"INFO\")"
   ]
  },
  {
   "cell_type": "markdown",
   "metadata": {},
   "source": [
    "---\n",
    "\n",
    "Finally, let's try setting some model-independent interaction vertices."
   ]
  },
  {
   "cell_type": "code",
   "execution_count": 5,
   "metadata": {},
   "outputs": [
    {
     "name": "stdout",
     "output_type": "stream",
     "text": [
      "Initializing a generic model.\n",
      "---------------------------------------------------------\n",
      "   ______           _        _   _                     \n",
      "   |  _  \\         | |      | \\ | |                    \n",
      "   | | | |__ _ _ __| | __   |  \\| | _____      _____   \n",
      "   | | | / _  | ___| |/ /   | .   |/ _ \\ \\ /\\ / / __|  \n",
      "   | |/ / (_| | |  |   <    | |\\  |  __/\\ V  V /\\__ \\  \n",
      "   |___/ \\__,_|_|  |_|\\_\\   \\_| \\_/\\___| \\_/\\_/ |___/  \n",
      "\n",
      "---------------------------------------------------------\n",
      "Model:\n",
      "\t2 dirac heavy neutrino(s).\n",
      "\n",
      "---------------------------------------------------------\n",
      "Experiment:\n",
      "\tMiniBooNE_FHC\n",
      "\tfluxfile loaded: MiniBooNE_FHC.dat\n",
      "\tPOT: 1.875e+21\n",
      "\tnuclear targets: ['C12', 'H1']\n",
      "\tfiducial mass: [701.1428571428571, 116.85714285714286] tonnes\n",
      "\n",
      "Directory tree for this run already exists. Overriding it.\n",
      "---------------------------------------------------------\n",
      "Generating Events using the neutrino-nucleus upscattering engine\n",
      "\n",
      "nu(mu) C12 --> N5  C12 --> N4 e+ e- C12\n",
      "Helicity conserving upscattering.\n",
      "N5 decays via on-shell Z'.\n",
      "Parent N5 proper decay length: 2.210E-10 cm.\n",
      "\n",
      "Predicted (2.59e+05 +/- 9.81e+03) events.\n",
      "\n",
      "nu(mu) C12 --> N5  C12 --> N4 e+ e- C12\n",
      "Helicity flipping upscattering.\n",
      "N5 decays via on-shell Z'.\n",
      "Parent N5 proper decay length: 2.205E-10 cm.\n",
      "\n",
      "Predicted (30.9 +/- 1.21) events.\n",
      "\n",
      "nu(mu) proton_in_C12 --> N5  proton_in_C12 --> N4 e+ e- proton_in_C12\n",
      "Helicity conserving upscattering.\n",
      "N5 decays via on-shell Z'.\n",
      "Parent N5 proper decay length: 2.208E-10 cm.\n",
      "\n",
      "Predicted (4.92e+04 +/- 1.88e+03) events.\n",
      "\n",
      "nu(mu) proton_in_C12 --> N5  proton_in_C12 --> N4 e+ e- proton_in_C12\n",
      "Helicity flipping upscattering.\n",
      "N5 decays via on-shell Z'.\n",
      "Parent N5 proper decay length: 2.205E-10 cm.\n",
      "\n",
      "Predicted (29.6 +/- 1.12) events.\n",
      "\n",
      "nu(mu) proton_in_H1 --> N5  proton_in_H1 --> N4 e+ e- proton_in_H1\n",
      "Helicity conserving upscattering.\n",
      "N5 decays via on-shell Z'.\n",
      "Parent N5 proper decay length: 2.205E-10 cm.\n",
      "\n",
      "Predicted (1.61e+04 +/- 618) events.\n",
      "\n",
      "nu(mu) proton_in_H1 --> N5  proton_in_H1 --> N4 e+ e- proton_in_H1\n",
      "Helicity flipping upscattering.\n",
      "N5 decays via on-shell Z'.\n",
      "Parent N5 proper decay length: 2.207E-10 cm.\n",
      "\n",
      "Predicted (9.81 +/- 0.371) events.\n",
      "\n",
      "---------------------------------------------------------\n",
      "Generation successful\n",
      "\n",
      "Total events predicted:\n",
      "(3.24e+05 +/- 1e+04) events.\n",
      "\n",
      "---------------------------------------------------------\n",
      "Events in pandas dataframe saved to file successfully:\n",
      "data/miniboone_fhc/3plus2/m5_0.14_m4_0.08_mzprime_0.03_dirac/pandas_df.pckl\n",
      "\n"
     ]
    }
   ],
   "source": [
    "# kwargs = {'d_mu5': 1e-4, 'd_45': 0.1, 'deV': 1e-3, 'deA': 1e-3, 'duV': 2e-3, 'ddV': 1e-3}\n",
    "kwargs = {'d_mu5': 1e-4, 'd_45': 0.1, 'deV': 1e-3, 'deA': 1e-3, 'dprotonV': 1e-3}\n",
    "gen_object_3 = dn.GenLauncher(mzprime=0.03, m4=0.080, m5=0.140, neval=1000, HNLtype=\"dirac\", **kwargs)\n",
    "df_3 = gen_object_3.run(loglevel=\"INFO\")"
   ]
  },
  {
   "cell_type": "markdown",
   "metadata": {},
   "source": [
    "---\n",
    "### `dn_gen` command line functionality\n",
    "\n",
    "It is also possible to run the generator in the command line via the `dn_gen` script passing the parameters as arguments.\n",
    "The created dataset can be found in the `data/` directory tree, which is created in the same folder the script is run.\n",
    "\n",
    "Let's try to run another example. We are running this from the jupyter notebook, but you may as well run it from your own command line.\n"
   ]
  },
  {
   "cell_type": "code",
   "execution_count": 6,
   "metadata": {
    "scrolled": true
   },
   "outputs": [
    {
     "name": "stdout",
     "output_type": "stream",
     "text": [
      "Directory tree for this run already exists. Overriding it.\n",
      "WARNING: HEPevt is not a lossless format -- you will lose the event weights. If you want to force-print weights, use the hepevt_legacy format instead. Otherwise, please set hep_unweight=True and set the desired number of unweighted events.\n",
      "WARNING::WriterHEPEVT::WriterHEPEVT: HEPEVT format is outdated. Please use HepMC3 format instead.\n"
     ]
    }
   ],
   "source": [
    "cmd_string = \"dn_gen --mzprime=0.03 --m4=0.140 --alpha_epsilon2=2e-10 --Umu4=1e-4 --UD4=1 --alphaD=0.25 --neval=1000 --HNLtype=dirac --loglevel=WARNING --hepevt --numpy --pandas --parquet\"\n",
    "_=os.system(cmd_string)"
   ]
  },
  {
   "cell_type": "markdown",
   "metadata": {},
   "source": [
    "---\n",
    "# 2) Output format\n",
    "\n",
    "### Pandas DataFrame Output\n",
    "\n",
    "Let's start by looking at the main DarkNews dataframe returned by `GenLancher`\n",
    "\n",
    "Our main object is a `MultiIndex dataframe`, with:\n",
    "* rows corresponding to individual events \n",
    "\n",
    "    * Each event contains the components for all the 4-momenta of the particles involved:\n",
    "$$\\nu _\\text{P\\_projectile} + \\text{Hadronic target} _\\text{P\\_target} \\to N _\\text{P\\_decay\\_N\\_parent} + \\text{Hadronic recoil} _\\text{P\\_recoil}$$\n",
    "\n",
    "\n",
    "* Columns are properties, including four momenta, event rate weights, event scattering regime, scattering and decay positions, scattering target, etc.\n",
    "* Subcolumns correspond to Lorentz indices for four momenta and position 4-vectors.\n",
    "* metadata information inside `df.attrs`"
   ]
  },
  {
   "cell_type": "markdown",
   "metadata": {},
   "source": [
    "\n",
    "| **Column**            | **Subcolumn** |**type**  | **description**|\n",
    "|:--------------------------|:--------:|:--------:|:-----------------------------------|\n",
    "| **P\\_projectile**         | 0, 1, 2, 3  | `float`  | 4-momenta of beam neutrino |\n",
    "| **P\\_decay\\_N\\_parent**   | 0, 1, 2, 3  | `float`  | 4-momenta of HNL\\_parent |\n",
    "| **P\\_target**             | 0, 1, 2, 3  | `float`  | 4-momenta of nucleus |\n",
    "| **P\\_recoil**             | 0, 1, 2, 3  | `float`  | 4-momenta of recoiled nucleus |\n",
    "| **P\\_decay\\_photon**      | 0, 1, 2, 3  | `float`  | 4-momenta of photon (if it exists)|\n",
    "| **P\\_decay\\_ell\\_minus**  | 0, 1, 2, 3  | `float`  | 4-momenta of e- (if it exists)|\n",
    "| **P\\_decay\\_ell\\_plus**   | 0, 1, 2, 3  | `float`  | 4-momenta of e+ (if it exists)|\n",
    "| **P\\_decay\\_N\\_daughter** | 0, 1, 2, 3  | `float`  | 4-momenta of HNL\\_daughter / nu\\_daughter |\n",
    "| **pos_scatt**             | 0, 1, 2, 3  | `float`  | upscattering position|\n",
    "| **pos_decay**             | 0, 1, 2, 3  | `float`  | decay position of primary particle (N\\_parent) -- no secondary decay position is saved. |\n",
    "| **w\\_decay\\_rate\\_0**     | <!-- --> | `float`  | Weight of the decay rate of primary unstable particle: &Sigma;<sub>i</sub> w<sub>i</sub> = &Gamma;<sub>N</sub> |\n",
    "| **w\\_decay\\_rate\\_1**     | <!-- --> | `float`  | Weight of the decay rate of secondary unstable particle: &Sigma;<sub>i</sub> w<sub>i</sub> = &Gamma;<sub>X</sub> |\n",
    "| **w\\_event\\_rate**        | <!-- --> | `float`  | Weight for the event rate: &Sigma;<sub>i</sub> w<sub>i</sub> = event rate |\n",
    "| **w\\_flux\\_avg\\_xsec**    | <!-- --> | `float`  | Weight of the flux averaged cross section: &Sigma;<sub>i</sub> w<sub>i</sub> = int(sigma &sdot; flux) &sdot; exposure |\n",
    "| **target**                | <!-- --> | *string* | Name of the target object, it will typically be a nucleus |\n",
    "| **target\\_pdgid**         | <!-- --> | `int`    | PDG id of the target |\n",
    "| **projectile\\_pdgid**         | <!-- --> | `int`    | PDG id of the neutrino projectile |\n",
    "| **scattering\\_regime**    | <!-- --> | *string* | Regime can be coherent or p-elastic |\n",
    "| **helicity**              | <!-- --> | *string* | Helicity process: can be flipping or conserving; flipping is suppressed |\n",
    "| **underlying\\_process**   | <!-- --> | *string* | String of the underlying process, e.g, \"nu(mu) + proton_in_C12 -> N4 +  proton_in_C12 -> nu(mu) + e+ + e- + proton_in_C12\" |\n"
   ]
  },
  {
   "cell_type": "code",
   "execution_count": 7,
   "metadata": {},
   "outputs": [
    {
     "name": "stdout",
     "output_type": "stream",
     "text": [
      "('P_projectile', '0') ('P_projectile', '1') ('P_projectile', '2') ('P_projectile', '3') ('P_target', '0') ('P_target', '1') ('P_target', '2') ('P_target', '3') ('P_recoil', '0') ('P_recoil', '1') ('P_recoil', '2') ('P_recoil', '3') ('P_decay_N_parent', '0') ('P_decay_N_parent', '1') ('P_decay_N_parent', '2') ('P_decay_N_parent', '3') ('P_decay_ell_minus', '0') ('P_decay_ell_minus', '1') ('P_decay_ell_minus', '2') ('P_decay_ell_minus', '3') ('P_decay_ell_plus', '0') ('P_decay_ell_plus', '1') ('P_decay_ell_plus', '2') ('P_decay_ell_plus', '3') ('P_decay_N_daughter', '0') ('P_decay_N_daughter', '1') ('P_decay_N_daughter', '2') ('P_decay_N_daughter', '3') ('pos_scatt', '0') ('pos_scatt', '1') ('pos_scatt', '2') ('pos_scatt', '3') ('w_decay_rate_0', '') ('w_event_rate', '') ('w_flux_avg_xsec', '') ('target', '') ('target_pdgid', '') ('projectile_pdgid', '') ('scattering_regime', '') ('helicity', '') ('underlying_process', '') ('h_projectile', '') ('h_parent', '') ('pos_decay', '0') ('pos_decay', '1') ('pos_decay', '2') ('pos_decay', '3')\n"
     ]
    }
   ],
   "source": [
    "print(*df_1)"
   ]
  },
  {
   "cell_type": "markdown",
   "metadata": {},
   "source": [
    "---\n",
    "### Metadata\n",
    "\n",
    "In addition to the information about the events, the pickled or GenLauncher-returned pandas dataframe contains metadata on the model, experiment, and data path properties, all stored in [df.attrs](https://pandas.pydata.org/pandas-docs/stable/reference/api/pandas.DataFrame.attrs.html). We have:\n",
    "\n",
    "1. **experiment**: this is a class DarkNews.experiment.Detector, which contains all the information about the experiment for which the events are generated. It also contains a list of instances of the NuclearTarget class, which contains information about the different scattering targets used.\n"
   ]
  },
  {
   "cell_type": "code",
   "execution_count": 8,
   "metadata": {},
   "outputs": [
    {
     "name": "stdout",
     "output_type": "stream",
     "text": [
      "Attributes of Detector class: \n",
      " NAME FLUXFILE FLUX_NORM ERANGE NUCLEAR_TARGETS POTS FIDUCIAL_MASS_PER_TARGET NUMBER_OF_TARGETS FLUX_FUNCTIONS place_scatters\n",
      "\n",
      "Attributes of NuclearTarget class: \n",
      " name Z N A atomic_Eb nuclear_Eb atomic_mass excess_mass nuclear_mass beta_decay_energy mass charge is_hadron is_nucleus is_proton is_neutron is_nucleon is_free_nucleon is_bound_nucleon pdgid tau3 F1_EM F2_EM F1_NC F2_NC F3_NC\n"
     ]
    }
   ],
   "source": [
    "keys = list(df_1.attrs['experiment'].__dict__.keys())\n",
    "print(f\"Attributes of Detector class: \\n\", *keys)\n",
    "print(f\"\\nAttributes of NuclearTarget class: \\n\", *list(df_1.attrs['experiment'].NUCLEAR_TARGETS[0].__dict__))"
   ]
  },
  {
   "cell_type": "markdown",
   "metadata": {},
   "source": [
    "Now we look at how to obtain the nuclear targets used by the DarkNews generator"
   ]
  },
  {
   "cell_type": "code",
   "execution_count": 9,
   "metadata": {},
   "outputs": [
    {
     "name": "stdout",
     "output_type": "stream",
     "text": [
      "701.14 tonnes of C12\n",
      "116.86 tonnes of H1\n"
     ]
    }
   ],
   "source": [
    "fid_mass = df_1.attrs['experiment'].FIDUCIAL_MASS_PER_TARGET\n",
    "for target, fid_mass in zip(df_1.attrs['experiment'].NUCLEAR_TARGETS, df_1.attrs['experiment'].FIDUCIAL_MASS_PER_TARGET):\n",
    "    print(f\"{fid_mass:.2f} tonnes of {target.name}\")"
   ]
  },
  {
   "cell_type": "markdown",
   "metadata": {},
   "source": [
    "---\n",
    "2. **model**: this attribute contains DarkNews.model.Model, which stores all the new physics parameters used in the generation. This includes both low-level information, such as the couplings, say $g_D$, as well as high-level ones, such as the couplings of the $Z^\\prime$ to electrons, $d_e^V$ and $d_e^A$."
   ]
  },
  {
   "cell_type": "code",
   "execution_count": 10,
   "metadata": {},
   "outputs": [
    {
     "name": "stdout",
     "output_type": "stream",
     "text": [
      "dict_keys(['experiment', 'model', 'N5_ctau0', 'data_path'])\n",
      "2.2065974021067507e-10\n"
     ]
    }
   ],
   "source": [
    "print(df_3.attrs.keys())\n",
    "\n",
    "print(df_3.attrs['N5_ctau0'])"
   ]
  },
  {
   "cell_type": "code",
   "execution_count": 11,
   "metadata": {
    "scrolled": true
   },
   "outputs": [
    {
     "name": "stdout",
     "output_type": "stream",
     "text": [
      "Some low-level parameters:\n",
      " model_file user_input name m4 m5 m6 HNLtype mzprime mhprime mu_tr_e4 mu_tr_e5 mu_tr_e6 mu_tr_mu4 mu_tr_mu5 mu_tr_mu6 mu_tr_tau4 mu_tr_tau5 mu_tr_tau6 mu_tr_44  ...\n",
      "\n",
      "Some high-level parameters:\n",
      " fN_higgs c_nucleon_higgs cnucleonS dprotonS dneutronS ceS deS deP is_mass_mixed has_Zboson_coupling has_vector_coupling zprime has_scalar_coupling has_TMM  ...\n"
     ]
    }
   ],
   "source": [
    "print(\"Some low-level parameters:\\n\", *list(df_1.attrs['model'].__dict__.keys())[:19],' ...')\n",
    "print(\"\\nSome high-level parameters:\\n\", *list(df_1.attrs['model'].__dict__.keys())[-14:],' ...')"
   ]
  },
  {
   "cell_type": "markdown",
   "metadata": {},
   "source": [
    "---\n",
    "### Other output formats\n",
    "\n",
    "Let's now look at some other formats printed to file."
   ]
  },
  {
   "cell_type": "code",
   "execution_count": 14,
   "metadata": {
    "scrolled": true
   },
   "outputs": [],
   "source": [
    "path_to_data = Path('./data/miniboone_fhc/3plus1/m4_0.14_mzprime_0.03_dirac/')\n",
    "\n",
    "# pickled pandas dataframe \n",
    "df_p = pd.read_pickle(path_to_data/'pandas_df.pckl')\n",
    "\n",
    "# pandas dataframe from parquet\n",
    "df_p_pq = pd.read_parquet(path_to_data/'pandas_df.parquet')\n",
    "\n",
    "# numpy ndarray\n",
    "nd_a = np.load(path_to_data/'ndarray.npy')\n",
    "\n",
    "# HEPEVT \n",
    "import pyhepmc as hep\n",
    "hepevt_file = hep.ReaderHEPEVT(str(path_to_data/'HEPevt.dat'))\n",
    "evt = hepevt_file.read_event\n"
   ]
  },
  {
   "cell_type": "code",
   "execution_count": 33,
   "metadata": {},
   "outputs": [
    {
     "data": {
      "text/plain": [
       "Text(0.5, 0, '$E_\\\\nu/$GeV')"
      ]
     },
     "execution_count": 33,
     "metadata": {},
     "output_type": "execute_result"
    },
    {
     "ename": "FileNotFoundError",
     "evalue": "missing font metrics file: cmr12",
     "output_type": "error",
     "traceback": [
      "\u001b[0;31m---------------------------------------------------------------------------\u001b[0m",
      "\u001b[0;31mFileNotFoundError\u001b[0m                         Traceback (most recent call last)",
      "File \u001b[0;32m/usr/local/anaconda3/lib/python3.9/site-packages/IPython/core/formatters.py:339\u001b[0m, in \u001b[0;36mBaseFormatter.__call__\u001b[0;34m(self, obj)\u001b[0m\n\u001b[1;32m    337\u001b[0m     \u001b[39mpass\u001b[39;00m\n\u001b[1;32m    338\u001b[0m \u001b[39melse\u001b[39;00m:\n\u001b[0;32m--> 339\u001b[0m     \u001b[39mreturn\u001b[39;00m printer(obj)\n\u001b[1;32m    340\u001b[0m \u001b[39m# Finally look for special method names\u001b[39;00m\n\u001b[1;32m    341\u001b[0m method \u001b[39m=\u001b[39m get_real_method(obj, \u001b[39mself\u001b[39m\u001b[39m.\u001b[39mprint_method)\n",
      "File \u001b[0;32m/usr/local/anaconda3/lib/python3.9/site-packages/IPython/core/pylabtools.py:151\u001b[0m, in \u001b[0;36mprint_figure\u001b[0;34m(fig, fmt, bbox_inches, base64, **kwargs)\u001b[0m\n\u001b[1;32m    148\u001b[0m     \u001b[39mfrom\u001b[39;00m \u001b[39mmatplotlib\u001b[39;00m\u001b[39m.\u001b[39;00m\u001b[39mbackend_bases\u001b[39;00m \u001b[39mimport\u001b[39;00m FigureCanvasBase\n\u001b[1;32m    149\u001b[0m     FigureCanvasBase(fig)\n\u001b[0;32m--> 151\u001b[0m fig\u001b[39m.\u001b[39;49mcanvas\u001b[39m.\u001b[39;49mprint_figure(bytes_io, \u001b[39m*\u001b[39;49m\u001b[39m*\u001b[39;49mkw)\n\u001b[1;32m    152\u001b[0m data \u001b[39m=\u001b[39m bytes_io\u001b[39m.\u001b[39mgetvalue()\n\u001b[1;32m    153\u001b[0m \u001b[39mif\u001b[39;00m fmt \u001b[39m==\u001b[39m \u001b[39m'\u001b[39m\u001b[39msvg\u001b[39m\u001b[39m'\u001b[39m:\n",
      "File \u001b[0;32m/usr/local/anaconda3/lib/python3.9/site-packages/matplotlib/backend_bases.py:2295\u001b[0m, in \u001b[0;36mFigureCanvasBase.print_figure\u001b[0;34m(self, filename, dpi, facecolor, edgecolor, orientation, format, bbox_inches, pad_inches, bbox_extra_artists, backend, **kwargs)\u001b[0m\n\u001b[1;32m   2289\u001b[0m     renderer \u001b[39m=\u001b[39m _get_renderer(\n\u001b[1;32m   2290\u001b[0m         \u001b[39mself\u001b[39m\u001b[39m.\u001b[39mfigure,\n\u001b[1;32m   2291\u001b[0m         functools\u001b[39m.\u001b[39mpartial(\n\u001b[1;32m   2292\u001b[0m             print_method, orientation\u001b[39m=\u001b[39morientation)\n\u001b[1;32m   2293\u001b[0m     )\n\u001b[1;32m   2294\u001b[0m     \u001b[39mwith\u001b[39;00m \u001b[39mgetattr\u001b[39m(renderer, \u001b[39m\"\u001b[39m\u001b[39m_draw_disabled\u001b[39m\u001b[39m\"\u001b[39m, nullcontext)():\n\u001b[0;32m-> 2295\u001b[0m         \u001b[39mself\u001b[39;49m\u001b[39m.\u001b[39;49mfigure\u001b[39m.\u001b[39;49mdraw(renderer)\n\u001b[1;32m   2297\u001b[0m \u001b[39mif\u001b[39;00m bbox_inches:\n\u001b[1;32m   2298\u001b[0m     \u001b[39mif\u001b[39;00m bbox_inches \u001b[39m==\u001b[39m \u001b[39m\"\u001b[39m\u001b[39mtight\u001b[39m\u001b[39m\"\u001b[39m:\n",
      "File \u001b[0;32m/usr/local/anaconda3/lib/python3.9/site-packages/matplotlib/artist.py:73\u001b[0m, in \u001b[0;36m_finalize_rasterization.<locals>.draw_wrapper\u001b[0;34m(artist, renderer, *args, **kwargs)\u001b[0m\n\u001b[1;32m     71\u001b[0m \u001b[39m@wraps\u001b[39m(draw)\n\u001b[1;32m     72\u001b[0m \u001b[39mdef\u001b[39;00m \u001b[39mdraw_wrapper\u001b[39m(artist, renderer, \u001b[39m*\u001b[39margs, \u001b[39m*\u001b[39m\u001b[39m*\u001b[39mkwargs):\n\u001b[0;32m---> 73\u001b[0m     result \u001b[39m=\u001b[39m draw(artist, renderer, \u001b[39m*\u001b[39;49margs, \u001b[39m*\u001b[39;49m\u001b[39m*\u001b[39;49mkwargs)\n\u001b[1;32m     74\u001b[0m     \u001b[39mif\u001b[39;00m renderer\u001b[39m.\u001b[39m_rasterizing:\n\u001b[1;32m     75\u001b[0m         renderer\u001b[39m.\u001b[39mstop_rasterizing()\n",
      "File \u001b[0;32m/usr/local/anaconda3/lib/python3.9/site-packages/matplotlib/artist.py:50\u001b[0m, in \u001b[0;36mallow_rasterization.<locals>.draw_wrapper\u001b[0;34m(artist, renderer)\u001b[0m\n\u001b[1;32m     47\u001b[0m     \u001b[39mif\u001b[39;00m artist\u001b[39m.\u001b[39mget_agg_filter() \u001b[39mis\u001b[39;00m \u001b[39mnot\u001b[39;00m \u001b[39mNone\u001b[39;00m:\n\u001b[1;32m     48\u001b[0m         renderer\u001b[39m.\u001b[39mstart_filter()\n\u001b[0;32m---> 50\u001b[0m     \u001b[39mreturn\u001b[39;00m draw(artist, renderer)\n\u001b[1;32m     51\u001b[0m \u001b[39mfinally\u001b[39;00m:\n\u001b[1;32m     52\u001b[0m     \u001b[39mif\u001b[39;00m artist\u001b[39m.\u001b[39mget_agg_filter() \u001b[39mis\u001b[39;00m \u001b[39mnot\u001b[39;00m \u001b[39mNone\u001b[39;00m:\n",
      "File \u001b[0;32m/usr/local/anaconda3/lib/python3.9/site-packages/matplotlib/figure.py:2810\u001b[0m, in \u001b[0;36mFigure.draw\u001b[0;34m(self, renderer)\u001b[0m\n\u001b[1;32m   2807\u001b[0m         \u001b[39m# ValueError can occur when resizing a window.\u001b[39;00m\n\u001b[1;32m   2809\u001b[0m \u001b[39mself\u001b[39m\u001b[39m.\u001b[39mpatch\u001b[39m.\u001b[39mdraw(renderer)\n\u001b[0;32m-> 2810\u001b[0m mimage\u001b[39m.\u001b[39;49m_draw_list_compositing_images(\n\u001b[1;32m   2811\u001b[0m     renderer, \u001b[39mself\u001b[39;49m, artists, \u001b[39mself\u001b[39;49m\u001b[39m.\u001b[39;49msuppressComposite)\n\u001b[1;32m   2813\u001b[0m \u001b[39mfor\u001b[39;00m sfig \u001b[39min\u001b[39;00m \u001b[39mself\u001b[39m\u001b[39m.\u001b[39msubfigs:\n\u001b[1;32m   2814\u001b[0m     sfig\u001b[39m.\u001b[39mdraw(renderer)\n",
      "File \u001b[0;32m/usr/local/anaconda3/lib/python3.9/site-packages/matplotlib/image.py:132\u001b[0m, in \u001b[0;36m_draw_list_compositing_images\u001b[0;34m(renderer, parent, artists, suppress_composite)\u001b[0m\n\u001b[1;32m    130\u001b[0m \u001b[39mif\u001b[39;00m not_composite \u001b[39mor\u001b[39;00m \u001b[39mnot\u001b[39;00m has_images:\n\u001b[1;32m    131\u001b[0m     \u001b[39mfor\u001b[39;00m a \u001b[39min\u001b[39;00m artists:\n\u001b[0;32m--> 132\u001b[0m         a\u001b[39m.\u001b[39;49mdraw(renderer)\n\u001b[1;32m    133\u001b[0m \u001b[39melse\u001b[39;00m:\n\u001b[1;32m    134\u001b[0m     \u001b[39m# Composite any adjacent images together\u001b[39;00m\n\u001b[1;32m    135\u001b[0m     image_group \u001b[39m=\u001b[39m []\n",
      "File \u001b[0;32m/usr/local/anaconda3/lib/python3.9/site-packages/matplotlib/artist.py:50\u001b[0m, in \u001b[0;36mallow_rasterization.<locals>.draw_wrapper\u001b[0;34m(artist, renderer)\u001b[0m\n\u001b[1;32m     47\u001b[0m     \u001b[39mif\u001b[39;00m artist\u001b[39m.\u001b[39mget_agg_filter() \u001b[39mis\u001b[39;00m \u001b[39mnot\u001b[39;00m \u001b[39mNone\u001b[39;00m:\n\u001b[1;32m     48\u001b[0m         renderer\u001b[39m.\u001b[39mstart_filter()\n\u001b[0;32m---> 50\u001b[0m     \u001b[39mreturn\u001b[39;00m draw(artist, renderer)\n\u001b[1;32m     51\u001b[0m \u001b[39mfinally\u001b[39;00m:\n\u001b[1;32m     52\u001b[0m     \u001b[39mif\u001b[39;00m artist\u001b[39m.\u001b[39mget_agg_filter() \u001b[39mis\u001b[39;00m \u001b[39mnot\u001b[39;00m \u001b[39mNone\u001b[39;00m:\n",
      "File \u001b[0;32m/usr/local/anaconda3/lib/python3.9/site-packages/matplotlib/axes/_base.py:3082\u001b[0m, in \u001b[0;36m_AxesBase.draw\u001b[0;34m(self, renderer)\u001b[0m\n\u001b[1;32m   3079\u001b[0m         a\u001b[39m.\u001b[39mdraw(renderer)\n\u001b[1;32m   3080\u001b[0m     renderer\u001b[39m.\u001b[39mstop_rasterizing()\n\u001b[0;32m-> 3082\u001b[0m mimage\u001b[39m.\u001b[39;49m_draw_list_compositing_images(\n\u001b[1;32m   3083\u001b[0m     renderer, \u001b[39mself\u001b[39;49m, artists, \u001b[39mself\u001b[39;49m\u001b[39m.\u001b[39;49mfigure\u001b[39m.\u001b[39;49msuppressComposite)\n\u001b[1;32m   3085\u001b[0m renderer\u001b[39m.\u001b[39mclose_group(\u001b[39m'\u001b[39m\u001b[39maxes\u001b[39m\u001b[39m'\u001b[39m)\n\u001b[1;32m   3086\u001b[0m \u001b[39mself\u001b[39m\u001b[39m.\u001b[39mstale \u001b[39m=\u001b[39m \u001b[39mFalse\u001b[39;00m\n",
      "File \u001b[0;32m/usr/local/anaconda3/lib/python3.9/site-packages/matplotlib/image.py:132\u001b[0m, in \u001b[0;36m_draw_list_compositing_images\u001b[0;34m(renderer, parent, artists, suppress_composite)\u001b[0m\n\u001b[1;32m    130\u001b[0m \u001b[39mif\u001b[39;00m not_composite \u001b[39mor\u001b[39;00m \u001b[39mnot\u001b[39;00m has_images:\n\u001b[1;32m    131\u001b[0m     \u001b[39mfor\u001b[39;00m a \u001b[39min\u001b[39;00m artists:\n\u001b[0;32m--> 132\u001b[0m         a\u001b[39m.\u001b[39;49mdraw(renderer)\n\u001b[1;32m    133\u001b[0m \u001b[39melse\u001b[39;00m:\n\u001b[1;32m    134\u001b[0m     \u001b[39m# Composite any adjacent images together\u001b[39;00m\n\u001b[1;32m    135\u001b[0m     image_group \u001b[39m=\u001b[39m []\n",
      "File \u001b[0;32m/usr/local/anaconda3/lib/python3.9/site-packages/matplotlib/artist.py:50\u001b[0m, in \u001b[0;36mallow_rasterization.<locals>.draw_wrapper\u001b[0;34m(artist, renderer)\u001b[0m\n\u001b[1;32m     47\u001b[0m     \u001b[39mif\u001b[39;00m artist\u001b[39m.\u001b[39mget_agg_filter() \u001b[39mis\u001b[39;00m \u001b[39mnot\u001b[39;00m \u001b[39mNone\u001b[39;00m:\n\u001b[1;32m     48\u001b[0m         renderer\u001b[39m.\u001b[39mstart_filter()\n\u001b[0;32m---> 50\u001b[0m     \u001b[39mreturn\u001b[39;00m draw(artist, renderer)\n\u001b[1;32m     51\u001b[0m \u001b[39mfinally\u001b[39;00m:\n\u001b[1;32m     52\u001b[0m     \u001b[39mif\u001b[39;00m artist\u001b[39m.\u001b[39mget_agg_filter() \u001b[39mis\u001b[39;00m \u001b[39mnot\u001b[39;00m \u001b[39mNone\u001b[39;00m:\n",
      "File \u001b[0;32m/usr/local/anaconda3/lib/python3.9/site-packages/matplotlib/axis.py:1159\u001b[0m, in \u001b[0;36mAxis.draw\u001b[0;34m(self, renderer, *args, **kwargs)\u001b[0m\n\u001b[1;32m   1156\u001b[0m renderer\u001b[39m.\u001b[39mopen_group(\u001b[39m__name__\u001b[39m, gid\u001b[39m=\u001b[39m\u001b[39mself\u001b[39m\u001b[39m.\u001b[39mget_gid())\n\u001b[1;32m   1158\u001b[0m ticks_to_draw \u001b[39m=\u001b[39m \u001b[39mself\u001b[39m\u001b[39m.\u001b[39m_update_ticks()\n\u001b[0;32m-> 1159\u001b[0m ticklabelBoxes, ticklabelBoxes2 \u001b[39m=\u001b[39m \u001b[39mself\u001b[39;49m\u001b[39m.\u001b[39;49m_get_tick_bboxes(ticks_to_draw,\n\u001b[1;32m   1160\u001b[0m                                                         renderer)\n\u001b[1;32m   1162\u001b[0m \u001b[39mfor\u001b[39;00m tick \u001b[39min\u001b[39;00m ticks_to_draw:\n\u001b[1;32m   1163\u001b[0m     tick\u001b[39m.\u001b[39mdraw(renderer)\n",
      "File \u001b[0;32m/usr/local/anaconda3/lib/python3.9/site-packages/matplotlib/axis.py:1085\u001b[0m, in \u001b[0;36mAxis._get_tick_bboxes\u001b[0;34m(self, ticks, renderer)\u001b[0m\n\u001b[1;32m   1083\u001b[0m \u001b[39mdef\u001b[39;00m \u001b[39m_get_tick_bboxes\u001b[39m(\u001b[39mself\u001b[39m, ticks, renderer):\n\u001b[1;32m   1084\u001b[0m     \u001b[39m\"\"\"Return lists of bboxes for ticks' label1's and label2's.\"\"\"\u001b[39;00m\n\u001b[0;32m-> 1085\u001b[0m     \u001b[39mreturn\u001b[39;00m ([tick\u001b[39m.\u001b[39mlabel1\u001b[39m.\u001b[39mget_window_extent(renderer)\n\u001b[1;32m   1086\u001b[0m              \u001b[39mfor\u001b[39;00m tick \u001b[39min\u001b[39;00m ticks \u001b[39mif\u001b[39;00m tick\u001b[39m.\u001b[39mlabel1\u001b[39m.\u001b[39mget_visible()],\n\u001b[1;32m   1087\u001b[0m             [tick\u001b[39m.\u001b[39mlabel2\u001b[39m.\u001b[39mget_window_extent(renderer)\n\u001b[1;32m   1088\u001b[0m              \u001b[39mfor\u001b[39;00m tick \u001b[39min\u001b[39;00m ticks \u001b[39mif\u001b[39;00m tick\u001b[39m.\u001b[39mlabel2\u001b[39m.\u001b[39mget_visible()])\n",
      "File \u001b[0;32m/usr/local/anaconda3/lib/python3.9/site-packages/matplotlib/axis.py:1085\u001b[0m, in \u001b[0;36m<listcomp>\u001b[0;34m(.0)\u001b[0m\n\u001b[1;32m   1083\u001b[0m \u001b[39mdef\u001b[39;00m \u001b[39m_get_tick_bboxes\u001b[39m(\u001b[39mself\u001b[39m, ticks, renderer):\n\u001b[1;32m   1084\u001b[0m     \u001b[39m\"\"\"Return lists of bboxes for ticks' label1's and label2's.\"\"\"\u001b[39;00m\n\u001b[0;32m-> 1085\u001b[0m     \u001b[39mreturn\u001b[39;00m ([tick\u001b[39m.\u001b[39;49mlabel1\u001b[39m.\u001b[39;49mget_window_extent(renderer)\n\u001b[1;32m   1086\u001b[0m              \u001b[39mfor\u001b[39;00m tick \u001b[39min\u001b[39;00m ticks \u001b[39mif\u001b[39;00m tick\u001b[39m.\u001b[39mlabel1\u001b[39m.\u001b[39mget_visible()],\n\u001b[1;32m   1087\u001b[0m             [tick\u001b[39m.\u001b[39mlabel2\u001b[39m.\u001b[39mget_window_extent(renderer)\n\u001b[1;32m   1088\u001b[0m              \u001b[39mfor\u001b[39;00m tick \u001b[39min\u001b[39;00m ticks \u001b[39mif\u001b[39;00m tick\u001b[39m.\u001b[39mlabel2\u001b[39m.\u001b[39mget_visible()])\n",
      "File \u001b[0;32m/usr/local/anaconda3/lib/python3.9/site-packages/matplotlib/text.py:910\u001b[0m, in \u001b[0;36mText.get_window_extent\u001b[0;34m(self, renderer, dpi)\u001b[0m\n\u001b[1;32m    907\u001b[0m     \u001b[39mraise\u001b[39;00m \u001b[39mRuntimeError\u001b[39;00m(\u001b[39m'\u001b[39m\u001b[39mCannot get window extent w/o renderer\u001b[39m\u001b[39m'\u001b[39m)\n\u001b[1;32m    909\u001b[0m \u001b[39mwith\u001b[39;00m cbook\u001b[39m.\u001b[39m_setattr_cm(\u001b[39mself\u001b[39m\u001b[39m.\u001b[39mfigure, dpi\u001b[39m=\u001b[39mdpi):\n\u001b[0;32m--> 910\u001b[0m     bbox, info, descent \u001b[39m=\u001b[39m \u001b[39mself\u001b[39;49m\u001b[39m.\u001b[39;49m_get_layout(\u001b[39mself\u001b[39;49m\u001b[39m.\u001b[39;49m_renderer)\n\u001b[1;32m    911\u001b[0m     x, y \u001b[39m=\u001b[39m \u001b[39mself\u001b[39m\u001b[39m.\u001b[39mget_unitless_position()\n\u001b[1;32m    912\u001b[0m     x, y \u001b[39m=\u001b[39m \u001b[39mself\u001b[39m\u001b[39m.\u001b[39mget_transform()\u001b[39m.\u001b[39mtransform((x, y))\n",
      "File \u001b[0;32m/usr/local/anaconda3/lib/python3.9/site-packages/matplotlib/text.py:309\u001b[0m, in \u001b[0;36mText._get_layout\u001b[0;34m(self, renderer)\u001b[0m\n\u001b[1;32m    306\u001b[0m ys \u001b[39m=\u001b[39m []\n\u001b[1;32m    308\u001b[0m \u001b[39m# Full vertical extent of font, including ascenders and descenders:\u001b[39;00m\n\u001b[0;32m--> 309\u001b[0m _, lp_h, lp_d \u001b[39m=\u001b[39m renderer\u001b[39m.\u001b[39;49mget_text_width_height_descent(\n\u001b[1;32m    310\u001b[0m     \u001b[39m\"\u001b[39;49m\u001b[39mlp\u001b[39;49m\u001b[39m\"\u001b[39;49m, \u001b[39mself\u001b[39;49m\u001b[39m.\u001b[39;49m_fontproperties,\n\u001b[1;32m    311\u001b[0m     ismath\u001b[39m=\u001b[39;49m\u001b[39m\"\u001b[39;49m\u001b[39mTeX\u001b[39;49m\u001b[39m\"\u001b[39;49m \u001b[39mif\u001b[39;49;00m \u001b[39mself\u001b[39;49m\u001b[39m.\u001b[39;49mget_usetex() \u001b[39melse\u001b[39;49;00m \u001b[39mFalse\u001b[39;49;00m)\n\u001b[1;32m    312\u001b[0m min_dy \u001b[39m=\u001b[39m (lp_h \u001b[39m-\u001b[39m lp_d) \u001b[39m*\u001b[39m \u001b[39mself\u001b[39m\u001b[39m.\u001b[39m_linespacing\n\u001b[1;32m    314\u001b[0m \u001b[39mfor\u001b[39;00m i, line \u001b[39min\u001b[39;00m \u001b[39menumerate\u001b[39m(lines):\n",
      "File \u001b[0;32m/usr/local/anaconda3/lib/python3.9/site-packages/matplotlib/backends/backend_agg.py:259\u001b[0m, in \u001b[0;36mRendererAgg.get_text_width_height_descent\u001b[0;34m(self, s, prop, ismath)\u001b[0m\n\u001b[1;32m    257\u001b[0m     texmanager \u001b[39m=\u001b[39m \u001b[39mself\u001b[39m\u001b[39m.\u001b[39mget_texmanager()\n\u001b[1;32m    258\u001b[0m     fontsize \u001b[39m=\u001b[39m prop\u001b[39m.\u001b[39mget_size_in_points()\n\u001b[0;32m--> 259\u001b[0m     w, h, d \u001b[39m=\u001b[39m texmanager\u001b[39m.\u001b[39;49mget_text_width_height_descent(\n\u001b[1;32m    260\u001b[0m         s, fontsize, renderer\u001b[39m=\u001b[39;49m\u001b[39mself\u001b[39;49m)\n\u001b[1;32m    261\u001b[0m     \u001b[39mreturn\u001b[39;00m w, h, d\n\u001b[1;32m    263\u001b[0m \u001b[39mif\u001b[39;00m ismath:\n",
      "File \u001b[0;32m/usr/local/anaconda3/lib/python3.9/site-packages/matplotlib/texmanager.py:338\u001b[0m, in \u001b[0;36mTexManager.get_text_width_height_descent\u001b[0;34m(self, tex, fontsize, renderer)\u001b[0m\n\u001b[1;32m    336\u001b[0m dpi_fraction \u001b[39m=\u001b[39m renderer\u001b[39m.\u001b[39mpoints_to_pixels(\u001b[39m1.\u001b[39m) \u001b[39mif\u001b[39;00m renderer \u001b[39melse\u001b[39;00m \u001b[39m1\u001b[39m\n\u001b[1;32m    337\u001b[0m \u001b[39mwith\u001b[39;00m dviread\u001b[39m.\u001b[39mDvi(dvifile, \u001b[39m72\u001b[39m \u001b[39m*\u001b[39m dpi_fraction) \u001b[39mas\u001b[39;00m dvi:\n\u001b[0;32m--> 338\u001b[0m     page, \u001b[39m=\u001b[39m dvi\n\u001b[1;32m    339\u001b[0m \u001b[39m# A total height (including the descent) needs to be returned.\u001b[39;00m\n\u001b[1;32m    340\u001b[0m \u001b[39mreturn\u001b[39;00m page\u001b[39m.\u001b[39mwidth, page\u001b[39m.\u001b[39mheight \u001b[39m+\u001b[39m page\u001b[39m.\u001b[39mdescent, page\u001b[39m.\u001b[39mdescent\n",
      "File \u001b[0;32m/usr/local/anaconda3/lib/python3.9/site-packages/matplotlib/dviread.py:237\u001b[0m, in \u001b[0;36mDvi.__iter__\u001b[0;34m(self)\u001b[0m\n\u001b[1;32m    221\u001b[0m \u001b[39mdef\u001b[39;00m \u001b[39m__iter__\u001b[39m(\u001b[39mself\u001b[39m):\n\u001b[1;32m    222\u001b[0m     \u001b[39m\"\"\"\u001b[39;00m\n\u001b[1;32m    223\u001b[0m \u001b[39m    Iterate through the pages of the file.\u001b[39;00m\n\u001b[1;32m    224\u001b[0m \n\u001b[0;32m   (...)\u001b[0m\n\u001b[1;32m    235\u001b[0m \u001b[39m        integers.\u001b[39;00m\n\u001b[1;32m    236\u001b[0m \u001b[39m    \"\"\"\u001b[39;00m\n\u001b[0;32m--> 237\u001b[0m     \u001b[39mwhile\u001b[39;00m \u001b[39mself\u001b[39;49m\u001b[39m.\u001b[39;49m_read():\n\u001b[1;32m    238\u001b[0m         \u001b[39myield\u001b[39;00m \u001b[39mself\u001b[39m\u001b[39m.\u001b[39m_output()\n",
      "File \u001b[0;32m/usr/local/anaconda3/lib/python3.9/site-packages/matplotlib/dviread.py:316\u001b[0m, in \u001b[0;36mDvi._read\u001b[0;34m(self)\u001b[0m\n\u001b[1;32m    314\u001b[0m \u001b[39mwhile\u001b[39;00m \u001b[39mTrue\u001b[39;00m:\n\u001b[1;32m    315\u001b[0m     byte \u001b[39m=\u001b[39m \u001b[39mself\u001b[39m\u001b[39m.\u001b[39mfile\u001b[39m.\u001b[39mread(\u001b[39m1\u001b[39m)[\u001b[39m0\u001b[39m]\n\u001b[0;32m--> 316\u001b[0m     \u001b[39mself\u001b[39;49m\u001b[39m.\u001b[39;49m_dtable[byte](\u001b[39mself\u001b[39;49m, byte)\n\u001b[1;32m    317\u001b[0m     name \u001b[39m=\u001b[39m \u001b[39mself\u001b[39m\u001b[39m.\u001b[39m_dtable[byte]\u001b[39m.\u001b[39m\u001b[39m__name__\u001b[39m\n\u001b[1;32m    318\u001b[0m     \u001b[39mif\u001b[39;00m name \u001b[39m==\u001b[39m \u001b[39m\"\u001b[39m\u001b[39m_push\u001b[39m\u001b[39m\"\u001b[39m:\n",
      "File \u001b[0;32m/usr/local/anaconda3/lib/python3.9/site-packages/matplotlib/dviread.py:166\u001b[0m, in \u001b[0;36m_dispatch.<locals>.decorate.<locals>.wrapper\u001b[0;34m(self, byte)\u001b[0m\n\u001b[1;32m    164\u001b[0m \u001b[39mif\u001b[39;00m state \u001b[39mis\u001b[39;00m \u001b[39mnot\u001b[39;00m \u001b[39mNone\u001b[39;00m \u001b[39mand\u001b[39;00m \u001b[39mself\u001b[39m\u001b[39m.\u001b[39mstate \u001b[39m!=\u001b[39m state:\n\u001b[1;32m    165\u001b[0m     \u001b[39mraise\u001b[39;00m \u001b[39mValueError\u001b[39;00m(\u001b[39m\"\u001b[39m\u001b[39mstate precondition failed\u001b[39m\u001b[39m\"\u001b[39m)\n\u001b[0;32m--> 166\u001b[0m \u001b[39mreturn\u001b[39;00m method(\u001b[39mself\u001b[39;49m, \u001b[39m*\u001b[39;49m[f(\u001b[39mself\u001b[39;49m, byte\u001b[39m-\u001b[39;49m\u001b[39mmin\u001b[39;49m) \u001b[39mfor\u001b[39;49;00m f \u001b[39min\u001b[39;49;00m get_args])\n",
      "File \u001b[0;32m/usr/local/anaconda3/lib/python3.9/site-packages/matplotlib/dviread.py:467\u001b[0m, in \u001b[0;36mDvi._fnt_def\u001b[0;34m(self, k, c, s, d, a, l)\u001b[0m\n\u001b[1;32m    465\u001b[0m \u001b[39m@_dispatch\u001b[39m(\u001b[39mmin\u001b[39m\u001b[39m=\u001b[39m\u001b[39m243\u001b[39m, \u001b[39mmax\u001b[39m\u001b[39m=\u001b[39m\u001b[39m246\u001b[39m, args\u001b[39m=\u001b[39m(\u001b[39m'\u001b[39m\u001b[39molen1\u001b[39m\u001b[39m'\u001b[39m, \u001b[39m'\u001b[39m\u001b[39mu4\u001b[39m\u001b[39m'\u001b[39m, \u001b[39m'\u001b[39m\u001b[39mu4\u001b[39m\u001b[39m'\u001b[39m, \u001b[39m'\u001b[39m\u001b[39mu4\u001b[39m\u001b[39m'\u001b[39m, \u001b[39m'\u001b[39m\u001b[39mu1\u001b[39m\u001b[39m'\u001b[39m, \u001b[39m'\u001b[39m\u001b[39mu1\u001b[39m\u001b[39m'\u001b[39m))\n\u001b[1;32m    466\u001b[0m \u001b[39mdef\u001b[39;00m \u001b[39m_fnt_def\u001b[39m(\u001b[39mself\u001b[39m, k, c, s, d, a, l):\n\u001b[0;32m--> 467\u001b[0m     \u001b[39mself\u001b[39;49m\u001b[39m.\u001b[39;49m_fnt_def_real(k, c, s, d, a, l)\n",
      "File \u001b[0;32m/usr/local/anaconda3/lib/python3.9/site-packages/matplotlib/dviread.py:474\u001b[0m, in \u001b[0;36mDvi._fnt_def_real\u001b[0;34m(self, k, c, s, d, a, l)\u001b[0m\n\u001b[1;32m    472\u001b[0m tfm \u001b[39m=\u001b[39m _tfmfile(fontname)\n\u001b[1;32m    473\u001b[0m \u001b[39mif\u001b[39;00m tfm \u001b[39mis\u001b[39;00m \u001b[39mNone\u001b[39;00m:\n\u001b[0;32m--> 474\u001b[0m     \u001b[39mraise\u001b[39;00m \u001b[39mFileNotFoundError\u001b[39;00m(\u001b[39m\"\u001b[39m\u001b[39mmissing font metrics file: \u001b[39m\u001b[39m%s\u001b[39;00m\u001b[39m\"\u001b[39m \u001b[39m%\u001b[39m fontname)\n\u001b[1;32m    475\u001b[0m \u001b[39mif\u001b[39;00m c \u001b[39m!=\u001b[39m \u001b[39m0\u001b[39m \u001b[39mand\u001b[39;00m tfm\u001b[39m.\u001b[39mchecksum \u001b[39m!=\u001b[39m \u001b[39m0\u001b[39m \u001b[39mand\u001b[39;00m c \u001b[39m!=\u001b[39m tfm\u001b[39m.\u001b[39mchecksum:\n\u001b[1;32m    476\u001b[0m     \u001b[39mraise\u001b[39;00m \u001b[39mValueError\u001b[39;00m(\u001b[39m'\u001b[39m\u001b[39mtfm checksum mismatch: \u001b[39m\u001b[39m%s\u001b[39;00m\u001b[39m'\u001b[39m \u001b[39m%\u001b[39m n)\n",
      "\u001b[0;31mFileNotFoundError\u001b[0m: missing font metrics file: cmr12"
     ]
    },
    {
     "data": {
      "text/plain": [
       "<Figure size 720x288 with 1 Axes>"
      ]
     },
     "metadata": {
      "needs_background": "light"
     },
     "output_type": "display_data"
    }
   ],
   "source": [
    "# and now histogram neutrino energy as an example\n",
    "fig, ax = dn.plot_tools.std_fig(figsize=(10,4))\n",
    "\n",
    "_=ax.hist(df_p['P_projectile','0'], weights=df_p['w_event_rate',''], bins=50, histtype='step', label='pickled')\n",
    "_=ax.hist(df_p_pq['P_projectile','0'], weights=df_p_pq['w_event_rate',''], bins=50, ls='--', histtype='step', label='parquet')\n",
    "\n",
    "# unfortunately, the columns of the numpy array format are not specified and the correspondence is done by hand\n",
    "_=ax.hist(nd_a[:,0], weights=nd_a[:,-4], bins=50, ls=':', color='violet', histtype='step', label='numpy')\n",
    "\n",
    "ax.legend()\n",
    "ax.set_ylabel('Events')\n",
    "ax.set_xlabel(r'$E_\\nu/$GeV')"
   ]
  },
  {
   "cell_type": "code",
   "execution_count": 24,
   "metadata": {},
   "outputs": [
    {
     "data": {
      "text/plain": [
       "Text(0.5, 0, '$\\\\Delta \\\\theta_{ee}$ (degrees)')"
      ]
     },
     "execution_count": 24,
     "metadata": {},
     "output_type": "execute_result"
    },
    {
     "ename": "FileNotFoundError",
     "evalue": "missing font metrics file: cmr12",
     "output_type": "error",
     "traceback": [
      "\u001b[0;31m---------------------------------------------------------------------------\u001b[0m",
      "\u001b[0;31mFileNotFoundError\u001b[0m                         Traceback (most recent call last)",
      "File \u001b[0;32m/usr/local/anaconda3/lib/python3.9/site-packages/IPython/core/formatters.py:339\u001b[0m, in \u001b[0;36mBaseFormatter.__call__\u001b[0;34m(self, obj)\u001b[0m\n\u001b[1;32m    337\u001b[0m     \u001b[39mpass\u001b[39;00m\n\u001b[1;32m    338\u001b[0m \u001b[39melse\u001b[39;00m:\n\u001b[0;32m--> 339\u001b[0m     \u001b[39mreturn\u001b[39;00m printer(obj)\n\u001b[1;32m    340\u001b[0m \u001b[39m# Finally look for special method names\u001b[39;00m\n\u001b[1;32m    341\u001b[0m method \u001b[39m=\u001b[39m get_real_method(obj, \u001b[39mself\u001b[39m\u001b[39m.\u001b[39mprint_method)\n",
      "File \u001b[0;32m/usr/local/anaconda3/lib/python3.9/site-packages/IPython/core/pylabtools.py:151\u001b[0m, in \u001b[0;36mprint_figure\u001b[0;34m(fig, fmt, bbox_inches, base64, **kwargs)\u001b[0m\n\u001b[1;32m    148\u001b[0m     \u001b[39mfrom\u001b[39;00m \u001b[39mmatplotlib\u001b[39;00m\u001b[39m.\u001b[39;00m\u001b[39mbackend_bases\u001b[39;00m \u001b[39mimport\u001b[39;00m FigureCanvasBase\n\u001b[1;32m    149\u001b[0m     FigureCanvasBase(fig)\n\u001b[0;32m--> 151\u001b[0m fig\u001b[39m.\u001b[39;49mcanvas\u001b[39m.\u001b[39;49mprint_figure(bytes_io, \u001b[39m*\u001b[39;49m\u001b[39m*\u001b[39;49mkw)\n\u001b[1;32m    152\u001b[0m data \u001b[39m=\u001b[39m bytes_io\u001b[39m.\u001b[39mgetvalue()\n\u001b[1;32m    153\u001b[0m \u001b[39mif\u001b[39;00m fmt \u001b[39m==\u001b[39m \u001b[39m'\u001b[39m\u001b[39msvg\u001b[39m\u001b[39m'\u001b[39m:\n",
      "File \u001b[0;32m/usr/local/anaconda3/lib/python3.9/site-packages/matplotlib/backend_bases.py:2295\u001b[0m, in \u001b[0;36mFigureCanvasBase.print_figure\u001b[0;34m(self, filename, dpi, facecolor, edgecolor, orientation, format, bbox_inches, pad_inches, bbox_extra_artists, backend, **kwargs)\u001b[0m\n\u001b[1;32m   2289\u001b[0m     renderer \u001b[39m=\u001b[39m _get_renderer(\n\u001b[1;32m   2290\u001b[0m         \u001b[39mself\u001b[39m\u001b[39m.\u001b[39mfigure,\n\u001b[1;32m   2291\u001b[0m         functools\u001b[39m.\u001b[39mpartial(\n\u001b[1;32m   2292\u001b[0m             print_method, orientation\u001b[39m=\u001b[39morientation)\n\u001b[1;32m   2293\u001b[0m     )\n\u001b[1;32m   2294\u001b[0m     \u001b[39mwith\u001b[39;00m \u001b[39mgetattr\u001b[39m(renderer, \u001b[39m\"\u001b[39m\u001b[39m_draw_disabled\u001b[39m\u001b[39m\"\u001b[39m, nullcontext)():\n\u001b[0;32m-> 2295\u001b[0m         \u001b[39mself\u001b[39;49m\u001b[39m.\u001b[39;49mfigure\u001b[39m.\u001b[39;49mdraw(renderer)\n\u001b[1;32m   2297\u001b[0m \u001b[39mif\u001b[39;00m bbox_inches:\n\u001b[1;32m   2298\u001b[0m     \u001b[39mif\u001b[39;00m bbox_inches \u001b[39m==\u001b[39m \u001b[39m\"\u001b[39m\u001b[39mtight\u001b[39m\u001b[39m\"\u001b[39m:\n",
      "File \u001b[0;32m/usr/local/anaconda3/lib/python3.9/site-packages/matplotlib/artist.py:73\u001b[0m, in \u001b[0;36m_finalize_rasterization.<locals>.draw_wrapper\u001b[0;34m(artist, renderer, *args, **kwargs)\u001b[0m\n\u001b[1;32m     71\u001b[0m \u001b[39m@wraps\u001b[39m(draw)\n\u001b[1;32m     72\u001b[0m \u001b[39mdef\u001b[39;00m \u001b[39mdraw_wrapper\u001b[39m(artist, renderer, \u001b[39m*\u001b[39margs, \u001b[39m*\u001b[39m\u001b[39m*\u001b[39mkwargs):\n\u001b[0;32m---> 73\u001b[0m     result \u001b[39m=\u001b[39m draw(artist, renderer, \u001b[39m*\u001b[39;49margs, \u001b[39m*\u001b[39;49m\u001b[39m*\u001b[39;49mkwargs)\n\u001b[1;32m     74\u001b[0m     \u001b[39mif\u001b[39;00m renderer\u001b[39m.\u001b[39m_rasterizing:\n\u001b[1;32m     75\u001b[0m         renderer\u001b[39m.\u001b[39mstop_rasterizing()\n",
      "File \u001b[0;32m/usr/local/anaconda3/lib/python3.9/site-packages/matplotlib/artist.py:50\u001b[0m, in \u001b[0;36mallow_rasterization.<locals>.draw_wrapper\u001b[0;34m(artist, renderer)\u001b[0m\n\u001b[1;32m     47\u001b[0m     \u001b[39mif\u001b[39;00m artist\u001b[39m.\u001b[39mget_agg_filter() \u001b[39mis\u001b[39;00m \u001b[39mnot\u001b[39;00m \u001b[39mNone\u001b[39;00m:\n\u001b[1;32m     48\u001b[0m         renderer\u001b[39m.\u001b[39mstart_filter()\n\u001b[0;32m---> 50\u001b[0m     \u001b[39mreturn\u001b[39;00m draw(artist, renderer)\n\u001b[1;32m     51\u001b[0m \u001b[39mfinally\u001b[39;00m:\n\u001b[1;32m     52\u001b[0m     \u001b[39mif\u001b[39;00m artist\u001b[39m.\u001b[39mget_agg_filter() \u001b[39mis\u001b[39;00m \u001b[39mnot\u001b[39;00m \u001b[39mNone\u001b[39;00m:\n",
      "File \u001b[0;32m/usr/local/anaconda3/lib/python3.9/site-packages/matplotlib/figure.py:2810\u001b[0m, in \u001b[0;36mFigure.draw\u001b[0;34m(self, renderer)\u001b[0m\n\u001b[1;32m   2807\u001b[0m         \u001b[39m# ValueError can occur when resizing a window.\u001b[39;00m\n\u001b[1;32m   2809\u001b[0m \u001b[39mself\u001b[39m\u001b[39m.\u001b[39mpatch\u001b[39m.\u001b[39mdraw(renderer)\n\u001b[0;32m-> 2810\u001b[0m mimage\u001b[39m.\u001b[39;49m_draw_list_compositing_images(\n\u001b[1;32m   2811\u001b[0m     renderer, \u001b[39mself\u001b[39;49m, artists, \u001b[39mself\u001b[39;49m\u001b[39m.\u001b[39;49msuppressComposite)\n\u001b[1;32m   2813\u001b[0m \u001b[39mfor\u001b[39;00m sfig \u001b[39min\u001b[39;00m \u001b[39mself\u001b[39m\u001b[39m.\u001b[39msubfigs:\n\u001b[1;32m   2814\u001b[0m     sfig\u001b[39m.\u001b[39mdraw(renderer)\n",
      "File \u001b[0;32m/usr/local/anaconda3/lib/python3.9/site-packages/matplotlib/image.py:132\u001b[0m, in \u001b[0;36m_draw_list_compositing_images\u001b[0;34m(renderer, parent, artists, suppress_composite)\u001b[0m\n\u001b[1;32m    130\u001b[0m \u001b[39mif\u001b[39;00m not_composite \u001b[39mor\u001b[39;00m \u001b[39mnot\u001b[39;00m has_images:\n\u001b[1;32m    131\u001b[0m     \u001b[39mfor\u001b[39;00m a \u001b[39min\u001b[39;00m artists:\n\u001b[0;32m--> 132\u001b[0m         a\u001b[39m.\u001b[39;49mdraw(renderer)\n\u001b[1;32m    133\u001b[0m \u001b[39melse\u001b[39;00m:\n\u001b[1;32m    134\u001b[0m     \u001b[39m# Composite any adjacent images together\u001b[39;00m\n\u001b[1;32m    135\u001b[0m     image_group \u001b[39m=\u001b[39m []\n",
      "File \u001b[0;32m/usr/local/anaconda3/lib/python3.9/site-packages/matplotlib/artist.py:50\u001b[0m, in \u001b[0;36mallow_rasterization.<locals>.draw_wrapper\u001b[0;34m(artist, renderer)\u001b[0m\n\u001b[1;32m     47\u001b[0m     \u001b[39mif\u001b[39;00m artist\u001b[39m.\u001b[39mget_agg_filter() \u001b[39mis\u001b[39;00m \u001b[39mnot\u001b[39;00m \u001b[39mNone\u001b[39;00m:\n\u001b[1;32m     48\u001b[0m         renderer\u001b[39m.\u001b[39mstart_filter()\n\u001b[0;32m---> 50\u001b[0m     \u001b[39mreturn\u001b[39;00m draw(artist, renderer)\n\u001b[1;32m     51\u001b[0m \u001b[39mfinally\u001b[39;00m:\n\u001b[1;32m     52\u001b[0m     \u001b[39mif\u001b[39;00m artist\u001b[39m.\u001b[39mget_agg_filter() \u001b[39mis\u001b[39;00m \u001b[39mnot\u001b[39;00m \u001b[39mNone\u001b[39;00m:\n",
      "File \u001b[0;32m/usr/local/anaconda3/lib/python3.9/site-packages/matplotlib/axes/_base.py:3082\u001b[0m, in \u001b[0;36m_AxesBase.draw\u001b[0;34m(self, renderer)\u001b[0m\n\u001b[1;32m   3079\u001b[0m         a\u001b[39m.\u001b[39mdraw(renderer)\n\u001b[1;32m   3080\u001b[0m     renderer\u001b[39m.\u001b[39mstop_rasterizing()\n\u001b[0;32m-> 3082\u001b[0m mimage\u001b[39m.\u001b[39;49m_draw_list_compositing_images(\n\u001b[1;32m   3083\u001b[0m     renderer, \u001b[39mself\u001b[39;49m, artists, \u001b[39mself\u001b[39;49m\u001b[39m.\u001b[39;49mfigure\u001b[39m.\u001b[39;49msuppressComposite)\n\u001b[1;32m   3085\u001b[0m renderer\u001b[39m.\u001b[39mclose_group(\u001b[39m'\u001b[39m\u001b[39maxes\u001b[39m\u001b[39m'\u001b[39m)\n\u001b[1;32m   3086\u001b[0m \u001b[39mself\u001b[39m\u001b[39m.\u001b[39mstale \u001b[39m=\u001b[39m \u001b[39mFalse\u001b[39;00m\n",
      "File \u001b[0;32m/usr/local/anaconda3/lib/python3.9/site-packages/matplotlib/image.py:132\u001b[0m, in \u001b[0;36m_draw_list_compositing_images\u001b[0;34m(renderer, parent, artists, suppress_composite)\u001b[0m\n\u001b[1;32m    130\u001b[0m \u001b[39mif\u001b[39;00m not_composite \u001b[39mor\u001b[39;00m \u001b[39mnot\u001b[39;00m has_images:\n\u001b[1;32m    131\u001b[0m     \u001b[39mfor\u001b[39;00m a \u001b[39min\u001b[39;00m artists:\n\u001b[0;32m--> 132\u001b[0m         a\u001b[39m.\u001b[39;49mdraw(renderer)\n\u001b[1;32m    133\u001b[0m \u001b[39melse\u001b[39;00m:\n\u001b[1;32m    134\u001b[0m     \u001b[39m# Composite any adjacent images together\u001b[39;00m\n\u001b[1;32m    135\u001b[0m     image_group \u001b[39m=\u001b[39m []\n",
      "File \u001b[0;32m/usr/local/anaconda3/lib/python3.9/site-packages/matplotlib/artist.py:50\u001b[0m, in \u001b[0;36mallow_rasterization.<locals>.draw_wrapper\u001b[0;34m(artist, renderer)\u001b[0m\n\u001b[1;32m     47\u001b[0m     \u001b[39mif\u001b[39;00m artist\u001b[39m.\u001b[39mget_agg_filter() \u001b[39mis\u001b[39;00m \u001b[39mnot\u001b[39;00m \u001b[39mNone\u001b[39;00m:\n\u001b[1;32m     48\u001b[0m         renderer\u001b[39m.\u001b[39mstart_filter()\n\u001b[0;32m---> 50\u001b[0m     \u001b[39mreturn\u001b[39;00m draw(artist, renderer)\n\u001b[1;32m     51\u001b[0m \u001b[39mfinally\u001b[39;00m:\n\u001b[1;32m     52\u001b[0m     \u001b[39mif\u001b[39;00m artist\u001b[39m.\u001b[39mget_agg_filter() \u001b[39mis\u001b[39;00m \u001b[39mnot\u001b[39;00m \u001b[39mNone\u001b[39;00m:\n",
      "File \u001b[0;32m/usr/local/anaconda3/lib/python3.9/site-packages/matplotlib/axis.py:1159\u001b[0m, in \u001b[0;36mAxis.draw\u001b[0;34m(self, renderer, *args, **kwargs)\u001b[0m\n\u001b[1;32m   1156\u001b[0m renderer\u001b[39m.\u001b[39mopen_group(\u001b[39m__name__\u001b[39m, gid\u001b[39m=\u001b[39m\u001b[39mself\u001b[39m\u001b[39m.\u001b[39mget_gid())\n\u001b[1;32m   1158\u001b[0m ticks_to_draw \u001b[39m=\u001b[39m \u001b[39mself\u001b[39m\u001b[39m.\u001b[39m_update_ticks()\n\u001b[0;32m-> 1159\u001b[0m ticklabelBoxes, ticklabelBoxes2 \u001b[39m=\u001b[39m \u001b[39mself\u001b[39;49m\u001b[39m.\u001b[39;49m_get_tick_bboxes(ticks_to_draw,\n\u001b[1;32m   1160\u001b[0m                                                         renderer)\n\u001b[1;32m   1162\u001b[0m \u001b[39mfor\u001b[39;00m tick \u001b[39min\u001b[39;00m ticks_to_draw:\n\u001b[1;32m   1163\u001b[0m     tick\u001b[39m.\u001b[39mdraw(renderer)\n",
      "File \u001b[0;32m/usr/local/anaconda3/lib/python3.9/site-packages/matplotlib/axis.py:1085\u001b[0m, in \u001b[0;36mAxis._get_tick_bboxes\u001b[0;34m(self, ticks, renderer)\u001b[0m\n\u001b[1;32m   1083\u001b[0m \u001b[39mdef\u001b[39;00m \u001b[39m_get_tick_bboxes\u001b[39m(\u001b[39mself\u001b[39m, ticks, renderer):\n\u001b[1;32m   1084\u001b[0m     \u001b[39m\"\"\"Return lists of bboxes for ticks' label1's and label2's.\"\"\"\u001b[39;00m\n\u001b[0;32m-> 1085\u001b[0m     \u001b[39mreturn\u001b[39;00m ([tick\u001b[39m.\u001b[39mlabel1\u001b[39m.\u001b[39mget_window_extent(renderer)\n\u001b[1;32m   1086\u001b[0m              \u001b[39mfor\u001b[39;00m tick \u001b[39min\u001b[39;00m ticks \u001b[39mif\u001b[39;00m tick\u001b[39m.\u001b[39mlabel1\u001b[39m.\u001b[39mget_visible()],\n\u001b[1;32m   1087\u001b[0m             [tick\u001b[39m.\u001b[39mlabel2\u001b[39m.\u001b[39mget_window_extent(renderer)\n\u001b[1;32m   1088\u001b[0m              \u001b[39mfor\u001b[39;00m tick \u001b[39min\u001b[39;00m ticks \u001b[39mif\u001b[39;00m tick\u001b[39m.\u001b[39mlabel2\u001b[39m.\u001b[39mget_visible()])\n",
      "File \u001b[0;32m/usr/local/anaconda3/lib/python3.9/site-packages/matplotlib/axis.py:1085\u001b[0m, in \u001b[0;36m<listcomp>\u001b[0;34m(.0)\u001b[0m\n\u001b[1;32m   1083\u001b[0m \u001b[39mdef\u001b[39;00m \u001b[39m_get_tick_bboxes\u001b[39m(\u001b[39mself\u001b[39m, ticks, renderer):\n\u001b[1;32m   1084\u001b[0m     \u001b[39m\"\"\"Return lists of bboxes for ticks' label1's and label2's.\"\"\"\u001b[39;00m\n\u001b[0;32m-> 1085\u001b[0m     \u001b[39mreturn\u001b[39;00m ([tick\u001b[39m.\u001b[39;49mlabel1\u001b[39m.\u001b[39;49mget_window_extent(renderer)\n\u001b[1;32m   1086\u001b[0m              \u001b[39mfor\u001b[39;00m tick \u001b[39min\u001b[39;00m ticks \u001b[39mif\u001b[39;00m tick\u001b[39m.\u001b[39mlabel1\u001b[39m.\u001b[39mget_visible()],\n\u001b[1;32m   1087\u001b[0m             [tick\u001b[39m.\u001b[39mlabel2\u001b[39m.\u001b[39mget_window_extent(renderer)\n\u001b[1;32m   1088\u001b[0m              \u001b[39mfor\u001b[39;00m tick \u001b[39min\u001b[39;00m ticks \u001b[39mif\u001b[39;00m tick\u001b[39m.\u001b[39mlabel2\u001b[39m.\u001b[39mget_visible()])\n",
      "File \u001b[0;32m/usr/local/anaconda3/lib/python3.9/site-packages/matplotlib/text.py:910\u001b[0m, in \u001b[0;36mText.get_window_extent\u001b[0;34m(self, renderer, dpi)\u001b[0m\n\u001b[1;32m    907\u001b[0m     \u001b[39mraise\u001b[39;00m \u001b[39mRuntimeError\u001b[39;00m(\u001b[39m'\u001b[39m\u001b[39mCannot get window extent w/o renderer\u001b[39m\u001b[39m'\u001b[39m)\n\u001b[1;32m    909\u001b[0m \u001b[39mwith\u001b[39;00m cbook\u001b[39m.\u001b[39m_setattr_cm(\u001b[39mself\u001b[39m\u001b[39m.\u001b[39mfigure, dpi\u001b[39m=\u001b[39mdpi):\n\u001b[0;32m--> 910\u001b[0m     bbox, info, descent \u001b[39m=\u001b[39m \u001b[39mself\u001b[39;49m\u001b[39m.\u001b[39;49m_get_layout(\u001b[39mself\u001b[39;49m\u001b[39m.\u001b[39;49m_renderer)\n\u001b[1;32m    911\u001b[0m     x, y \u001b[39m=\u001b[39m \u001b[39mself\u001b[39m\u001b[39m.\u001b[39mget_unitless_position()\n\u001b[1;32m    912\u001b[0m     x, y \u001b[39m=\u001b[39m \u001b[39mself\u001b[39m\u001b[39m.\u001b[39mget_transform()\u001b[39m.\u001b[39mtransform((x, y))\n",
      "File \u001b[0;32m/usr/local/anaconda3/lib/python3.9/site-packages/matplotlib/text.py:309\u001b[0m, in \u001b[0;36mText._get_layout\u001b[0;34m(self, renderer)\u001b[0m\n\u001b[1;32m    306\u001b[0m ys \u001b[39m=\u001b[39m []\n\u001b[1;32m    308\u001b[0m \u001b[39m# Full vertical extent of font, including ascenders and descenders:\u001b[39;00m\n\u001b[0;32m--> 309\u001b[0m _, lp_h, lp_d \u001b[39m=\u001b[39m renderer\u001b[39m.\u001b[39;49mget_text_width_height_descent(\n\u001b[1;32m    310\u001b[0m     \u001b[39m\"\u001b[39;49m\u001b[39mlp\u001b[39;49m\u001b[39m\"\u001b[39;49m, \u001b[39mself\u001b[39;49m\u001b[39m.\u001b[39;49m_fontproperties,\n\u001b[1;32m    311\u001b[0m     ismath\u001b[39m=\u001b[39;49m\u001b[39m\"\u001b[39;49m\u001b[39mTeX\u001b[39;49m\u001b[39m\"\u001b[39;49m \u001b[39mif\u001b[39;49;00m \u001b[39mself\u001b[39;49m\u001b[39m.\u001b[39;49mget_usetex() \u001b[39melse\u001b[39;49;00m \u001b[39mFalse\u001b[39;49;00m)\n\u001b[1;32m    312\u001b[0m min_dy \u001b[39m=\u001b[39m (lp_h \u001b[39m-\u001b[39m lp_d) \u001b[39m*\u001b[39m \u001b[39mself\u001b[39m\u001b[39m.\u001b[39m_linespacing\n\u001b[1;32m    314\u001b[0m \u001b[39mfor\u001b[39;00m i, line \u001b[39min\u001b[39;00m \u001b[39menumerate\u001b[39m(lines):\n",
      "File \u001b[0;32m/usr/local/anaconda3/lib/python3.9/site-packages/matplotlib/backends/backend_agg.py:259\u001b[0m, in \u001b[0;36mRendererAgg.get_text_width_height_descent\u001b[0;34m(self, s, prop, ismath)\u001b[0m\n\u001b[1;32m    257\u001b[0m     texmanager \u001b[39m=\u001b[39m \u001b[39mself\u001b[39m\u001b[39m.\u001b[39mget_texmanager()\n\u001b[1;32m    258\u001b[0m     fontsize \u001b[39m=\u001b[39m prop\u001b[39m.\u001b[39mget_size_in_points()\n\u001b[0;32m--> 259\u001b[0m     w, h, d \u001b[39m=\u001b[39m texmanager\u001b[39m.\u001b[39;49mget_text_width_height_descent(\n\u001b[1;32m    260\u001b[0m         s, fontsize, renderer\u001b[39m=\u001b[39;49m\u001b[39mself\u001b[39;49m)\n\u001b[1;32m    261\u001b[0m     \u001b[39mreturn\u001b[39;00m w, h, d\n\u001b[1;32m    263\u001b[0m \u001b[39mif\u001b[39;00m ismath:\n",
      "File \u001b[0;32m/usr/local/anaconda3/lib/python3.9/site-packages/matplotlib/texmanager.py:338\u001b[0m, in \u001b[0;36mTexManager.get_text_width_height_descent\u001b[0;34m(self, tex, fontsize, renderer)\u001b[0m\n\u001b[1;32m    336\u001b[0m dpi_fraction \u001b[39m=\u001b[39m renderer\u001b[39m.\u001b[39mpoints_to_pixels(\u001b[39m1.\u001b[39m) \u001b[39mif\u001b[39;00m renderer \u001b[39melse\u001b[39;00m \u001b[39m1\u001b[39m\n\u001b[1;32m    337\u001b[0m \u001b[39mwith\u001b[39;00m dviread\u001b[39m.\u001b[39mDvi(dvifile, \u001b[39m72\u001b[39m \u001b[39m*\u001b[39m dpi_fraction) \u001b[39mas\u001b[39;00m dvi:\n\u001b[0;32m--> 338\u001b[0m     page, \u001b[39m=\u001b[39m dvi\n\u001b[1;32m    339\u001b[0m \u001b[39m# A total height (including the descent) needs to be returned.\u001b[39;00m\n\u001b[1;32m    340\u001b[0m \u001b[39mreturn\u001b[39;00m page\u001b[39m.\u001b[39mwidth, page\u001b[39m.\u001b[39mheight \u001b[39m+\u001b[39m page\u001b[39m.\u001b[39mdescent, page\u001b[39m.\u001b[39mdescent\n",
      "File \u001b[0;32m/usr/local/anaconda3/lib/python3.9/site-packages/matplotlib/dviread.py:237\u001b[0m, in \u001b[0;36mDvi.__iter__\u001b[0;34m(self)\u001b[0m\n\u001b[1;32m    221\u001b[0m \u001b[39mdef\u001b[39;00m \u001b[39m__iter__\u001b[39m(\u001b[39mself\u001b[39m):\n\u001b[1;32m    222\u001b[0m     \u001b[39m\"\"\"\u001b[39;00m\n\u001b[1;32m    223\u001b[0m \u001b[39m    Iterate through the pages of the file.\u001b[39;00m\n\u001b[1;32m    224\u001b[0m \n\u001b[0;32m   (...)\u001b[0m\n\u001b[1;32m    235\u001b[0m \u001b[39m        integers.\u001b[39;00m\n\u001b[1;32m    236\u001b[0m \u001b[39m    \"\"\"\u001b[39;00m\n\u001b[0;32m--> 237\u001b[0m     \u001b[39mwhile\u001b[39;00m \u001b[39mself\u001b[39;49m\u001b[39m.\u001b[39;49m_read():\n\u001b[1;32m    238\u001b[0m         \u001b[39myield\u001b[39;00m \u001b[39mself\u001b[39m\u001b[39m.\u001b[39m_output()\n",
      "File \u001b[0;32m/usr/local/anaconda3/lib/python3.9/site-packages/matplotlib/dviread.py:316\u001b[0m, in \u001b[0;36mDvi._read\u001b[0;34m(self)\u001b[0m\n\u001b[1;32m    314\u001b[0m \u001b[39mwhile\u001b[39;00m \u001b[39mTrue\u001b[39;00m:\n\u001b[1;32m    315\u001b[0m     byte \u001b[39m=\u001b[39m \u001b[39mself\u001b[39m\u001b[39m.\u001b[39mfile\u001b[39m.\u001b[39mread(\u001b[39m1\u001b[39m)[\u001b[39m0\u001b[39m]\n\u001b[0;32m--> 316\u001b[0m     \u001b[39mself\u001b[39;49m\u001b[39m.\u001b[39;49m_dtable[byte](\u001b[39mself\u001b[39;49m, byte)\n\u001b[1;32m    317\u001b[0m     name \u001b[39m=\u001b[39m \u001b[39mself\u001b[39m\u001b[39m.\u001b[39m_dtable[byte]\u001b[39m.\u001b[39m\u001b[39m__name__\u001b[39m\n\u001b[1;32m    318\u001b[0m     \u001b[39mif\u001b[39;00m name \u001b[39m==\u001b[39m \u001b[39m\"\u001b[39m\u001b[39m_push\u001b[39m\u001b[39m\"\u001b[39m:\n",
      "File \u001b[0;32m/usr/local/anaconda3/lib/python3.9/site-packages/matplotlib/dviread.py:166\u001b[0m, in \u001b[0;36m_dispatch.<locals>.decorate.<locals>.wrapper\u001b[0;34m(self, byte)\u001b[0m\n\u001b[1;32m    164\u001b[0m \u001b[39mif\u001b[39;00m state \u001b[39mis\u001b[39;00m \u001b[39mnot\u001b[39;00m \u001b[39mNone\u001b[39;00m \u001b[39mand\u001b[39;00m \u001b[39mself\u001b[39m\u001b[39m.\u001b[39mstate \u001b[39m!=\u001b[39m state:\n\u001b[1;32m    165\u001b[0m     \u001b[39mraise\u001b[39;00m \u001b[39mValueError\u001b[39;00m(\u001b[39m\"\u001b[39m\u001b[39mstate precondition failed\u001b[39m\u001b[39m\"\u001b[39m)\n\u001b[0;32m--> 166\u001b[0m \u001b[39mreturn\u001b[39;00m method(\u001b[39mself\u001b[39;49m, \u001b[39m*\u001b[39;49m[f(\u001b[39mself\u001b[39;49m, byte\u001b[39m-\u001b[39;49m\u001b[39mmin\u001b[39;49m) \u001b[39mfor\u001b[39;49;00m f \u001b[39min\u001b[39;49;00m get_args])\n",
      "File \u001b[0;32m/usr/local/anaconda3/lib/python3.9/site-packages/matplotlib/dviread.py:467\u001b[0m, in \u001b[0;36mDvi._fnt_def\u001b[0;34m(self, k, c, s, d, a, l)\u001b[0m\n\u001b[1;32m    465\u001b[0m \u001b[39m@_dispatch\u001b[39m(\u001b[39mmin\u001b[39m\u001b[39m=\u001b[39m\u001b[39m243\u001b[39m, \u001b[39mmax\u001b[39m\u001b[39m=\u001b[39m\u001b[39m246\u001b[39m, args\u001b[39m=\u001b[39m(\u001b[39m'\u001b[39m\u001b[39molen1\u001b[39m\u001b[39m'\u001b[39m, \u001b[39m'\u001b[39m\u001b[39mu4\u001b[39m\u001b[39m'\u001b[39m, \u001b[39m'\u001b[39m\u001b[39mu4\u001b[39m\u001b[39m'\u001b[39m, \u001b[39m'\u001b[39m\u001b[39mu4\u001b[39m\u001b[39m'\u001b[39m, \u001b[39m'\u001b[39m\u001b[39mu1\u001b[39m\u001b[39m'\u001b[39m, \u001b[39m'\u001b[39m\u001b[39mu1\u001b[39m\u001b[39m'\u001b[39m))\n\u001b[1;32m    466\u001b[0m \u001b[39mdef\u001b[39;00m \u001b[39m_fnt_def\u001b[39m(\u001b[39mself\u001b[39m, k, c, s, d, a, l):\n\u001b[0;32m--> 467\u001b[0m     \u001b[39mself\u001b[39;49m\u001b[39m.\u001b[39;49m_fnt_def_real(k, c, s, d, a, l)\n",
      "File \u001b[0;32m/usr/local/anaconda3/lib/python3.9/site-packages/matplotlib/dviread.py:474\u001b[0m, in \u001b[0;36mDvi._fnt_def_real\u001b[0;34m(self, k, c, s, d, a, l)\u001b[0m\n\u001b[1;32m    472\u001b[0m tfm \u001b[39m=\u001b[39m _tfmfile(fontname)\n\u001b[1;32m    473\u001b[0m \u001b[39mif\u001b[39;00m tfm \u001b[39mis\u001b[39;00m \u001b[39mNone\u001b[39;00m:\n\u001b[0;32m--> 474\u001b[0m     \u001b[39mraise\u001b[39;00m \u001b[39mFileNotFoundError\u001b[39;00m(\u001b[39m\"\u001b[39m\u001b[39mmissing font metrics file: \u001b[39m\u001b[39m%s\u001b[39;00m\u001b[39m\"\u001b[39m \u001b[39m%\u001b[39m fontname)\n\u001b[1;32m    475\u001b[0m \u001b[39mif\u001b[39;00m c \u001b[39m!=\u001b[39m \u001b[39m0\u001b[39m \u001b[39mand\u001b[39;00m tfm\u001b[39m.\u001b[39mchecksum \u001b[39m!=\u001b[39m \u001b[39m0\u001b[39m \u001b[39mand\u001b[39;00m c \u001b[39m!=\u001b[39m tfm\u001b[39m.\u001b[39mchecksum:\n\u001b[1;32m    476\u001b[0m     \u001b[39mraise\u001b[39;00m \u001b[39mValueError\u001b[39;00m(\u001b[39m'\u001b[39m\u001b[39mtfm checksum mismatch: \u001b[39m\u001b[39m%s\u001b[39;00m\u001b[39m'\u001b[39m \u001b[39m%\u001b[39m n)\n",
      "\u001b[0;31mFileNotFoundError\u001b[0m: missing font metrics file: cmr12"
     ]
    },
    {
     "data": {
      "text/plain": [
       "<Figure size 720x288 with 1 Axes>"
      ]
     },
     "metadata": {
      "needs_background": "light"
     },
     "output_type": "display_data"
    }
   ],
   "source": [
    "# Let's compute something more interesting: opening angle of e+e-\n",
    "\n",
    "mee = np.arccos(dn.fourvec.df_cos_opening_angle(df_p['P_decay_ell_minus'],df_p['P_decay_ell_plus']))*dn.const.rad_to_deg\n",
    "\n",
    "fig, ax = dn.plot_tools.std_fig(figsize=(10,4))\n",
    "\n",
    "_=ax.hist(mee, weights=df_p['w_event_rate',''], bins=50, histtype='step', label='pickled')\n",
    "\n",
    "ax.legend()\n",
    "ax.set_ylabel('Events')\n",
    "ax.set_xlabel(r'$\\Delta \\theta_{ee}$ (degrees)')"
   ]
  },
  {
   "cell_type": "markdown",
   "metadata": {},
   "source": [
    "---\n",
    "# 3) Inputs\n",
    "\n",
    "\n",
    "### Experiments\n",
    "It is possible to select an experiment through the `experiment` argument of the `GenLauncher` class (or `--experiment` option of the command line interface):\n",
    "1. specifying a keyword for a pre-defined experiment among:\n",
    "    * DUNE FHC ND (`\"dune_nd_fhc\"`)\n",
    "    * DUNE RHC ND (`\"dune_nd_rhc\"`)\n",
    "    * MicroBooNE (`\"microboone\"`)\n",
    "    * MINERVA FHC LE (`\"minerva_le_fhc\"`)\n",
    "    * MINERVA FHC ME (`\"minerva_me_fhc\"`)\n",
    "    * MINERVA RHC ME (`\"minerva_me_rhc\"`)\n",
    "    * MiniBooNE FHC (`\"miniboone_fhc\"`)\n",
    "    * MINOS FHC LE (`\"minos_le_fhc\"`)\n",
    "    * MINOS FHC ME (`\"minos_me_fhc\"`)\n",
    "    * ND280 FHC (`\"nd280_fhc\"`)\n",
    "    * NOvA FHC (`\"nova_le_fhc\"`)\n",
    "    * NuTeV FHC (`\"nutev_fhc\"`)\n",
    "    * FASERv (`\"fasernu\"`)\n",
    "\n",
    "2. specifying the file path of an experiment file: every file should be specified using the same rules as for the parameters file.\n",
    "A template file [`template_custom_experiment.txt`](examples/template_custom_experiment.txt) can be found in this directory."
   ]
  },
  {
   "cell_type": "code",
   "execution_count": null,
   "metadata": {},
   "outputs": [
    {
     "name": "stdout",
     "output_type": "stream",
     "text": [
      "dune_nd_fhc\n",
      "Initializing the three-portal model.\n",
      "dune_nd_rhc\n",
      "microboone\n",
      "minerva_le_fhc\n",
      "minerva_me_fhc\n",
      "minerva_me_rhc\n",
      "miniboone_fhc\n",
      "minos_le_fhc\n",
      "nd280_fhc\n",
      "nova_le_fhc\n",
      "nutev_fhc\n",
      "fasernu\n"
     ]
    },
    {
     "name": "stderr",
     "output_type": "stream",
     "text": [
      "/Users/matheushostert/Repos/DarkNews-generator/src/DarkNews/nuclear_tools.py:374: RuntimeWarning: overflow encountered in sinh\n",
      "  (Q * r0 * np.sinh(np.pi * Q * a)),\n",
      "/Users/matheushostert/Repos/DarkNews-generator/src/DarkNews/phase_space.py:108: RuntimeWarning: invalid value encountered in log\n",
      "  Q2l = (np.log(Q2max) - np.log(Q2min)) * samples[\"unit_Q2\"] + np.log(Q2min)\n",
      "/Users/matheushostert/Repos/DarkNews-generator/src/DarkNews/nuclear_tools.py:374: RuntimeWarning: overflow encountered in sinh\n",
      "  (Q * r0 * np.sinh(np.pi * Q * a)),\n",
      "/Users/matheushostert/Repos/DarkNews-generator/src/DarkNews/nuclear_tools.py:374: RuntimeWarning: overflow encountered in multiply\n",
      "  (Q * r0 * np.sinh(np.pi * Q * a)),\n",
      "/Users/matheushostert/Repos/DarkNews-generator/src/DarkNews/phase_space.py:108: RuntimeWarning: invalid value encountered in log\n",
      "  Q2l = (np.log(Q2max) - np.log(Q2min)) * samples[\"unit_Q2\"] + np.log(Q2min)\n"
     ]
    }
   ],
   "source": [
    "list_of_experiments = [\n",
    "'dune_nd_fhc',\n",
    "'dune_nd_rhc',\n",
    "'microboone',\n",
    "'minerva_le_fhc',\n",
    "'minerva_me_fhc',\n",
    "'minerva_me_rhc',\n",
    "'miniboone_fhc',\n",
    "'minos_le_fhc',\n",
    "'nd280_fhc',\n",
    "'nova_le_fhc',\n",
    "'nutev_fhc',\n",
    "'fasernu']\n",
    "\n",
    "rates = []\n",
    "for exp in list_of_experiments:\n",
    "    # use default model \n",
    "    print(exp)\n",
    "    gen_object = GenLauncher(experiment=exp, neval=100, loglevel='ERROR')\n",
    "    df=gen_object.run()\n",
    "    rates.append(sum(df.w_event_rate))"
   ]
  },
  {
   "cell_type": "markdown",
   "metadata": {},
   "source": [
    "Now we print the total rate in each expriment -- note we chose a very small number of evaluations. \n",
    "\n",
    "Note that these numbers don't mean anything without an appropriate definition of signal selection and fiducial volume. \n",
    "\n",
    "Exposures and target masses do not necessarily represent the official ones used by collaborations, nor are they optimized for this signature."
   ]
  },
  {
   "cell_type": "code",
   "execution_count": null,
   "metadata": {},
   "outputs": [
    {
     "name": "stdout",
     "output_type": "stream",
     "text": [
      "dune_nd_fhc: 4.2e+03\n",
      "dune_nd_rhc: 3.3e+02\n",
      "microboone: 6.8\n",
      "minerva_le_fhc: 7.5\n",
      "minerva_me_fhc: 61\n",
      "minerva_me_rhc: 62\n",
      "miniboone_fhc: 82\n",
      "minos_le_fhc: 32\n",
      "nd280_fhc: 7.1\n",
      "nova_le_fhc: 3.9e+02\n",
      "nutev_fhc: 6\n",
      "fasernu: 0.012\n"
     ]
    }
   ],
   "source": [
    "for exp,rate in zip(list_of_experiments,rates):\n",
    "    print(f'{exp}: {rate:.2g}')"
   ]
  },
  {
   "cell_type": "markdown",
   "metadata": {},
   "source": [
    "---\n",
    "### Custom Experiment files\n",
    "\n",
    "And now we can input our own user-defined experimental files."
   ]
  },
  {
   "cell_type": "code",
   "execution_count": null,
   "metadata": {},
   "outputs": [
    {
     "name": "stdout",
     "output_type": "stream",
     "text": [
      "---------------------------------------------------------\n",
      "   ______           _        _   _                     \n",
      "   |  _  \\         | |      | \\ | |                    \n",
      "   | | | |__ _ _ __| | __   |  \\| | _____      _____   \n",
      "   | | | / _  | ___| |/ /   | .   |/ _ \\ \\ /\\ / / __|  \n",
      "   | |/ / (_| | |  |   <    | |\\  |  __/\\ V  V /\\__ \\  \n",
      "   |___/ \\__,_|_|  |_|\\_\\   \\_| \\_/\\___| \\_/\\_/ |___/  \n",
      "\n",
      "---------------------------------------------------------\n",
      "Model:\n",
      "\t1 dirac heavy neutrino(s).\n",
      "\n",
      "Warning: nuclear density for Li3 not tabulated in Nuclear Data Table. Using symmetrized Fermi form factor instead.\n",
      "---------------------------------------------------------\n",
      "Experiment:\n",
      "\tMy Experiment\n",
      "\tfluxfile loaded: ./fluxfile_uniform_0.1_200_GeV.dat\n",
      "\tPOT: 1e+20\n",
      "\tnuclear targets: ['H1', 'He3', 'Li3']\n",
      "\tfiducial mass: [0.3333333333333333, 0.3333333333333333, 0.3333333333333333] tonnes\n",
      "\n",
      "---------------------------------------------------------\n",
      "Generating Events using the neutrino-nucleus upscattering engine\n",
      "\n",
      "nu(mu) proton_in_H1 --> N4  proton_in_H1 --> nu_light e+ e- proton_in_H1\n",
      "Helicity conserving upscattering.\n",
      "N4 three-body decays.\n",
      "Parent N4 proper decay length: 5.270E+07 cm.\n",
      "\n",
      "Predicted (1.11e+08 +/- 1.36e+06) events.\n",
      "\n",
      "nu(mu) proton_in_H1 --> N4  proton_in_H1 --> nu_light e+ e- proton_in_H1\n",
      "Helicity flipping upscattering.\n",
      "N4 three-body decays.\n",
      "Parent N4 proper decay length: 5.288E+07 cm.\n",
      "\n",
      "Predicted (4.93e+04 +/- 601) events.\n",
      "\n",
      "nu(mu) He3 --> N4  He3 --> nu_light e+ e- He3\n",
      "Helicity conserving upscattering.\n",
      "N4 three-body decays.\n",
      "Parent N4 proper decay length: 5.262E+07 cm.\n",
      "\n",
      "Predicted (2.21e+07 +/- 2.64e+05) events.\n",
      "\n",
      "nu(mu) He3 --> N4  He3 --> nu_light e+ e- He3\n",
      "Helicity flipping upscattering.\n",
      "N4 three-body decays.\n",
      "Parent N4 proper decay length: 5.266E+07 cm.\n",
      "\n",
      "Predicted (5.81e+03 +/- 69.6) events.\n",
      "\n",
      "nu(mu) proton_in_He3 --> N4  proton_in_He3 --> nu_light e+ e- proton_in_He3\n",
      "Helicity conserving upscattering.\n",
      "N4 three-body decays.\n",
      "Parent N4 proper decay length: 5.273E+07 cm.\n",
      "\n",
      "Predicted (7.41e+07 +/- 9.03e+05) events.\n",
      "\n",
      "nu(mu) proton_in_He3 --> N4  proton_in_He3 --> nu_light e+ e- proton_in_He3\n",
      "Helicity flipping upscattering.\n",
      "N4 three-body decays.\n",
      "Parent N4 proper decay length: 5.276E+07 cm.\n",
      "\n",
      "Predicted (3.27e+04 +/- 398) events.\n",
      "\n",
      "nu(mu) Li3 --> N4  Li3 --> nu_light e+ e- Li3\n",
      "Helicity conserving upscattering.\n",
      "N4 three-body decays.\n",
      "Parent N4 proper decay length: 5.263E+07 cm.\n",
      "\n",
      "Predicted (3.31e+07 +/- 4.74e+05) events.\n",
      "\n",
      "nu(mu) Li3 --> N4  Li3 --> nu_light e+ e- Li3\n",
      "Helicity flipping upscattering.\n",
      "N4 three-body decays.\n",
      "Parent N4 proper decay length: 5.256E+07 cm.\n",
      "\n",
      "Predicted (6.78e+03 +/- 80.9) events.\n",
      "\n",
      "nu(mu) proton_in_Li3 --> N4  proton_in_Li3 --> nu_light e+ e- proton_in_Li3\n",
      "Helicity conserving upscattering.\n",
      "N4 three-body decays.\n",
      "Parent N4 proper decay length: 5.263E+07 cm.\n",
      "\n",
      "Predicted (1.1e+08 +/- 1.35e+06) events.\n",
      "\n",
      "nu(mu) proton_in_Li3 --> N4  proton_in_Li3 --> nu_light e+ e- proton_in_Li3\n",
      "Helicity flipping upscattering.\n",
      "N4 three-body decays.\n",
      "Parent N4 proper decay length: 5.266E+07 cm.\n",
      "\n",
      "Predicted (4.9e+04 +/- 600) events.\n",
      "\n",
      "---------------------------------------------------------\n",
      "Generation successful\n",
      "\n",
      "Total events predicted:\n",
      "(3.51e+08 +/- 2.19e+06) events.\n",
      "\n",
      "---------------------------------------------------------\n",
      "Events in pandas dataframe saved to file successfully:\n",
      "data/my_experiment/3plus1/m4_0.15_mzprime_1.25_dirac/pandas_df.pckl\n",
      "\n"
     ]
    }
   ],
   "source": [
    "cmd_string = \"dn_gen --experiment=./template_custom_experiment.txt --loglevel=INFO\"\n",
    "_=os.system(cmd_string)"
   ]
  },
  {
   "cell_type": "code",
   "execution_count": null,
   "metadata": {},
   "outputs": [],
   "source": [
    "gen_object = GenLauncher(experiment=\"./template_custom_experiment.txt\", loglevel='ERROR')\n",
    "_=gen_object.run()"
   ]
  },
  {
   "cell_type": "markdown",
   "metadata": {},
   "source": [
    "---\n",
    "### Model files\n",
    "\n",
    "It is possible to specify model parameters through a file.\n",
    "This can be done either via the command-line interface, thorugh the option `--param-file` or via the `GenLauncher` class, thorugh the argument `param-file` in the constructor.\n",
    "In any case, the parameters specified in the file will overwrite the default ones, but will be overwritten by any other definition (either via options in command-line mode or via the keyword arguments in the `GenLauncher` constructor) of the same variable.\n",
    "\n",
    "A template file [`template_parameters_file.txt`](examples/template_parameters_file.txt) can be found in this directory.\n",
    "The file interface allows the user to specify the parameters with far more freedom, enabling the possibility to use mathematical expressions, involving user-defined constants, while keeping all the parameters in one single file."
   ]
  },
  {
   "cell_type": "code",
   "execution_count": null,
   "metadata": {},
   "outputs": [],
   "source": [
    "cmd_string = \"dn_gen --param-file=./parameters_example_1.txt --loglevel=ERROR\"\n",
    "_=os.system(cmd_string)"
   ]
  },
  {
   "cell_type": "code",
   "execution_count": null,
   "metadata": {},
   "outputs": [],
   "source": [
    "gen_object = GenLauncher(param_file=\"./parameters_example_1.txt\", loglevel='ERROR')\n",
    "df_1 = gen_object.run()"
   ]
  },
  {
   "cell_type": "code",
   "execution_count": null,
   "metadata": {},
   "outputs": [],
   "source": [
    "cmd_string = \"dn_gen --param-file=./parameters_example_2.txt --loglevel=ERROR\"\n",
    "_=os.system(cmd_string)"
   ]
  },
  {
   "cell_type": "code",
   "execution_count": null,
   "metadata": {},
   "outputs": [],
   "source": [
    "gen_object = GenLauncher(param_file=\"./parameters_example_2.txt\", loglevel='ERROR')\n",
    "df_2=gen_object.run()"
   ]
  },
  {
   "cell_type": "code",
   "execution_count": null,
   "metadata": {},
   "outputs": [],
   "source": []
  }
 ],
 "metadata": {
  "kernelspec": {
   "display_name": "Python 3.9.12 ('base')",
   "language": "python",
   "name": "python3"
  },
  "language_info": {
   "codemirror_mode": {
    "name": "ipython",
    "version": 3
   },
   "file_extension": ".py",
   "mimetype": "text/x-python",
   "name": "python",
   "nbconvert_exporter": "python",
   "pygments_lexer": "ipython3",
   "version": "3.9.12"
  },
  "vscode": {
   "interpreter": {
    "hash": "3067ead486e059ec00ffe7555bdb889e6e264a24dc711bf108106cc7baee8d5d"
   }
  }
 },
 "nbformat": 4,
 "nbformat_minor": 4
}
