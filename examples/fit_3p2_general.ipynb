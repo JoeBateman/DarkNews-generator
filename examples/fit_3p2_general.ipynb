{
 "cells": [
  {
   "cell_type": "code",
   "execution_count": 1,
   "id": "7db6bab7-6116-46d9-928a-67d05ec8262f",
   "metadata": {},
   "outputs": [],
   "source": [
    "%load_ext autoreload\n",
    "%autoreload 2"
   ]
  },
  {
   "cell_type": "code",
   "execution_count": 8,
   "id": "d67c3a30-58e2-4fbe-9e37-90d72098a108",
   "metadata": {},
   "outputs": [],
   "source": [
    "import matplotlib.pyplot as plt\n",
    "import numpy as np\n",
    "import pandas as pd\n",
    "from multiprocessing import *\n",
    "import os\n",
    "from matplotlib.ticker import StrMethodFormatter\n",
    "import scipy\n",
    "from pathos.multiprocessing import ProcessingPool as Pool\n",
    "\n",
    "import sys\n",
    "from IPython.display import clear_output\n",
    "\n",
    "import DarkNews\n",
    "from DarkNews import const \n",
    "from ToyAnalysis import fit_functions as ff\n",
    "# from ToyAnalysis import hist_plot\n",
    "from DarkNews.GenLauncher import GenLauncher\n",
    "from ToyAnalysis import analysis as a\n",
    "from ToyAnalysis import analysis_decay as a_d\n",
    "# from ToyAnalysis import decayer"
   ]
  },
  {
   "cell_type": "markdown",
   "id": "864d20b5-e596-4871-9172-0d4bfbd91b7b",
   "metadata": {},
   "source": [
    "# 1. Set general parameters for fitting"
   ]
  },
  {
   "cell_type": "markdown",
   "id": "adee06d8-b0b9-45a7-ba95-d6ba8ef9747a",
   "metadata": {},
   "source": [
    "### Path and Grid"
   ]
  },
  {
   "cell_type": "code",
   "execution_count": 9,
   "id": "1e7290df-9345-426d-a45f-502292bfc8f2",
   "metadata": {},
   "outputs": [],
   "source": [
    "# PATH\n",
    "path = 'results/3p2_general/'\n",
    "\n",
    "# Number of processors\n",
    "workers = 8\n",
    "\n",
    "# Grid parameters\n",
    "points = 30\n",
    "mzprime = 1.25\n",
    "delta = np.geomspace(0.05, 10, points)\n",
    "m5 = np.geomspace(0.01, 2.0, points)\n",
    "m5=ff.round_sig(m5,4)"
   ]
  },
  {
   "cell_type": "markdown",
   "id": "97415e41-8721-4f10-9cda-cdceccaf9fde",
   "metadata": {},
   "source": [
    "### Parameters for simulation"
   ]
  },
  {
   "cell_type": "code",
   "execution_count": 10,
   "id": "a30500e2-69d6-4f2d-8a43-efca0444e146",
   "metadata": {},
   "outputs": [],
   "source": [
    "ud4_def = 1.0/np.sqrt(2.)\n",
    "ud5_def = 1.0/np.sqrt(2.)\n",
    "gD_def = 2.\n",
    "umu4_def = np.sqrt(1.0e-12)\n",
    "umu5_def = np.sqrt(1.0e-12)\n",
    "epsilon_def = 1e-2\n",
    "\n",
    "v54 = gD_def * ud5_def * ud4_def\n",
    "vmu5_def = gD_def * ud5_def * (umu4_def*ud4_def + umu5_def*ud5_def) / np.sqrt(1 - umu4_def**2 - umu5_def**2)\n",
    "\n",
    "epsilon = 1e-2\n",
    "def vmu5_f(umu4,umu5):\n",
    "    return gD_def * ud5_def * (umu4*ud4_def + umu5*ud5_def) / np.sqrt(1 - umu4**2 - umu5**2)\n",
    "\n",
    "r_eps = epsilon / epsilon_def\n",
    "\n",
    "\n",
    "vmui_max = 1e-3\n",
    "v_cut = vmu5_f(vmui_max,vmui_max)"
   ]
  },
  {
   "cell_type": "markdown",
   "id": "58d08eac-4b70-4a7b-96fe-36d3f4514a7e",
   "metadata": {},
   "source": [
    "### Data from MiniBooNE"
   ]
  },
  {
   "cell_type": "code",
   "execution_count": 13,
   "id": "19ae5534-95fa-4cbb-aeda-27ea8cbf7916",
   "metadata": {},
   "outputs": [],
   "source": [
    "# data_MB_enu = hist_plot.get_data_MB(varplot='reco_Enu',loc='../')\n",
    "# back_MC_enu = data_MB_enu[1]\n",
    "# D_enu = data_MB_enu[0] + data_MB_enu[1]\n",
    "# sys_enu = [data_MB_enu[2], data_MB_enu[3]]"
   ]
  },
  {
   "cell_type": "markdown",
   "id": "004d3ceb-4dad-46bb-9ad7-e72cf67c2e40",
   "metadata": {},
   "source": [
    "### Data for distributions"
   ]
  },
  {
   "cell_type": "code",
   "execution_count": 14,
   "id": "be259e06-42e7-46c7-b5e1-7000c32c86c7",
   "metadata": {},
   "outputs": [],
   "source": [
    "cols=['mzprime','m5','m4','delta','sum_w_post_smearing','v_mu5','v_54','epsilon','u_mu5/u_mu4','chi2','decay_length','N_events','scatt_det']\n",
    "bin_e = np.array([0.2, 0.3, 0.375, 0.475, 0.55, 0.675, 0.8, 0.95, 1.1, 1.3, 1.5, 3.])"
   ]
  },
  {
   "cell_type": "markdown",
   "id": "18dfb5c7-0961-46bd-8269-587abf917425",
   "metadata": {},
   "source": [
    "# 2. Running the simulation (DarkNews)"
   ]
  },
  {
   "cell_type": "code",
   "execution_count": 15,
   "id": "461a628b-386b-4160-8be6-0da5e8d5f7cd",
   "metadata": {},
   "outputs": [],
   "source": [
    "def run_dn(k_delta):\n",
    "    \n",
    "    for k_m5 in range(points):\n",
    "        \n",
    "        m4 = ff.round_sig(m5[k_m5] / (delta[k_delta] + 1),4)\n",
    "        \n",
    "        if (0 >= m5[k_m5] - m4):\n",
    "            continue\n",
    "        \n",
    "        if int(m4) != m4:\n",
    "            m4s = m4\n",
    "        else:\n",
    "            m4s = int(m4)\n",
    "        \n",
    "        if int(m5[k_m5]) != m5[k_m5]:\n",
    "            m5s = m5[k_m5]\n",
    "        else:\n",
    "            m5s = int(m5[k_m5])\n",
    "        \n",
    "        try:\n",
    "            df = pd.read_parquet(f'data/miniboone_fhc/3plus2/m5_{m5s}_m4_{m4s}_mzprime_{mzprime}_dirac/pandas_df.parquet', engine='pyarrow')\n",
    "        except:\n",
    "            try:\n",
    "                gen = GenLauncher(mzprime=mzprime, m5=m5s, m4=m4s, Umu4=umu4_def, Umu5=umu5_def, UD4=ud4_def, UD5=ud5_def, gD=gD_def,epsilon=epsilon_def, neval=100000, HNLtype=\"dirac\", experiment=\"miniboone_fhc\",sparse=True,print_to_float32=True, pandas=False, parquet=True,loglevel=\"ERROR\")\n",
    "                gen.run()\n",
    "                if (m5s - m4s >= mzprime):\n",
    "                    d_length = gen.df.attrs['N5_ctau0']\n",
    "                else:\n",
    "                    d_length = gen.df.attrs['N5_ctau0'] / r_eps**2\n",
    "                if (d_length >= 10):\n",
    "                    gen = GenLauncher(mzprime=mzprime, m5=m5s, m4=m4s, Umu4=umu4_def, Umu5=umu5_def, UD4=ud4_def, UD5=ud5_def, gD=gD_def,epsilon=epsilon_def, neval=100000, HNLtype=\"dirac\", experiment=\"miniboone_fhc_dirt\",sparse=True,print_to_float32=True, pandas=False, parquet=True,loglevel=\"ERROR\")\n",
    "                    gen.run()\n",
    "                clear_output(wait=False)\n",
    "            except:\n",
    "                continue"
   ]
  },
  {
   "cell_type": "code",
   "execution_count": 16,
   "id": "60ecb169-7c0d-4193-a21a-b34b1560ae36",
   "metadata": {},
   "outputs": [
    {
     "name": "stdout",
     "output_type": "stream",
     "text": [
      "Error! Final states have an excess in mass of -0.0005459978921999993 on top of parent particle.\n",
      "Error! Final states have an excess in mass of -0.0003499978921999993 on top of parent particle.\n",
      "Error! Final states have an excess in mass of -0.0004559978921999995 on top of parent particle.\n",
      "Error! Final states have an excess in mass of -0.0003419978922 on top of parent particle.\n",
      "Error! Final states have an excess in mass of -0.000451997892199999 on top of parent particle.\n",
      "Error! Final states have an excess in mass of -0.0002119978922000001 on top of parent particle.\n",
      "Error! Final states have an excess in mass of -0.0002259978922000002 on top of parent particle.\n",
      "Error! Final states have an excess in mass of -8.099789219999918e-05 on top of parent particle.\n",
      "Error! Final states have an excess in mass of -0.0002019978922000005 on top of parent particle.\n",
      "Error! Final states have an excess in mass of -5.19978922000014e-05 on top of parent particle.\n",
      "Error! Final states have an excess in mass of -0.0003319978922000004 on top of parent particle.\n",
      "Error! Final states have an excess in mass of -6.199789219999926e-05 on top of parent particle.\n",
      "Error! Final states have an excess in mass of -0.00020199789220000223 on top of parent particle.\n",
      "Error! Final states have an excess in mass of -4.199789220000181e-05 on top of parent particle.\n",
      "Error! Final states have an excess in mass of -3.199789219999875e-05 on top of parent particle.\n"
     ]
    },
    {
     "ename": "KeyboardInterrupt",
     "evalue": "",
     "output_type": "error",
     "traceback": [
      "\u001b[0;31m---------------------------------------------------------------------------\u001b[0m",
      "\u001b[0;31mKeyboardInterrupt\u001b[0m                         Traceback (most recent call last)",
      "\u001b[1;32m/Users/matheushostert/Repos/DarkNews-generator/examples/fit_3p2_general.ipynb Cell 14'\u001b[0m in \u001b[0;36m<cell line: 2>\u001b[0;34m()\u001b[0m\n\u001b[1;32m      <a href='vscode-notebook-cell:/Users/matheushostert/Repos/DarkNews-generator/examples/fit_3p2_general.ipynb#ch0000013?line=0'>1</a>\u001b[0m pool \u001b[39m=\u001b[39m Pool(workers)\n\u001b[0;32m----> <a href='vscode-notebook-cell:/Users/matheushostert/Repos/DarkNews-generator/examples/fit_3p2_general.ipynb#ch0000013?line=1'>2</a>\u001b[0m pool\u001b[39m.\u001b[39;49mmap(run_dn,\u001b[39mrange\u001b[39;49m(points))\n",
      "File \u001b[0;32m/usr/local/anaconda3/lib/python3.9/site-packages/pathos/multiprocessing.py:139\u001b[0m, in \u001b[0;36mProcessPool.map\u001b[0;34m(self, f, *args, **kwds)\u001b[0m\n\u001b[1;32m    137\u001b[0m AbstractWorkerPool\u001b[39m.\u001b[39m_AbstractWorkerPool__map(\u001b[39mself\u001b[39m, f, \u001b[39m*\u001b[39margs, \u001b[39m*\u001b[39m\u001b[39m*\u001b[39mkwds)\n\u001b[1;32m    138\u001b[0m _pool \u001b[39m=\u001b[39m \u001b[39mself\u001b[39m\u001b[39m.\u001b[39m_serve()\n\u001b[0;32m--> 139\u001b[0m \u001b[39mreturn\u001b[39;00m _pool\u001b[39m.\u001b[39;49mmap(star(f), \u001b[39mzip\u001b[39;49m(\u001b[39m*\u001b[39;49margs))\n",
      "File \u001b[0;32m/usr/local/anaconda3/lib/python3.9/site-packages/multiprocess/pool.py:364\u001b[0m, in \u001b[0;36mPool.map\u001b[0;34m(self, func, iterable, chunksize)\u001b[0m\n\u001b[1;32m    359\u001b[0m \u001b[39mdef\u001b[39;00m \u001b[39mmap\u001b[39m(\u001b[39mself\u001b[39m, func, iterable, chunksize\u001b[39m=\u001b[39m\u001b[39mNone\u001b[39;00m):\n\u001b[1;32m    360\u001b[0m     \u001b[39m'''\u001b[39;00m\n\u001b[1;32m    361\u001b[0m \u001b[39m    Apply `func` to each element in `iterable`, collecting the results\u001b[39;00m\n\u001b[1;32m    362\u001b[0m \u001b[39m    in a list that is returned.\u001b[39;00m\n\u001b[1;32m    363\u001b[0m \u001b[39m    '''\u001b[39;00m\n\u001b[0;32m--> 364\u001b[0m     \u001b[39mreturn\u001b[39;00m \u001b[39mself\u001b[39;49m\u001b[39m.\u001b[39;49m_map_async(func, iterable, mapstar, chunksize)\u001b[39m.\u001b[39;49mget()\n",
      "File \u001b[0;32m/usr/local/anaconda3/lib/python3.9/site-packages/multiprocess/pool.py:765\u001b[0m, in \u001b[0;36mApplyResult.get\u001b[0;34m(self, timeout)\u001b[0m\n\u001b[1;32m    764\u001b[0m \u001b[39mdef\u001b[39;00m \u001b[39mget\u001b[39m(\u001b[39mself\u001b[39m, timeout\u001b[39m=\u001b[39m\u001b[39mNone\u001b[39;00m):\n\u001b[0;32m--> 765\u001b[0m     \u001b[39mself\u001b[39;49m\u001b[39m.\u001b[39;49mwait(timeout)\n\u001b[1;32m    766\u001b[0m     \u001b[39mif\u001b[39;00m \u001b[39mnot\u001b[39;00m \u001b[39mself\u001b[39m\u001b[39m.\u001b[39mready():\n\u001b[1;32m    767\u001b[0m         \u001b[39mraise\u001b[39;00m \u001b[39mTimeoutError\u001b[39;00m\n",
      "File \u001b[0;32m/usr/local/anaconda3/lib/python3.9/site-packages/multiprocess/pool.py:762\u001b[0m, in \u001b[0;36mApplyResult.wait\u001b[0;34m(self, timeout)\u001b[0m\n\u001b[1;32m    761\u001b[0m \u001b[39mdef\u001b[39;00m \u001b[39mwait\u001b[39m(\u001b[39mself\u001b[39m, timeout\u001b[39m=\u001b[39m\u001b[39mNone\u001b[39;00m):\n\u001b[0;32m--> 762\u001b[0m     \u001b[39mself\u001b[39;49m\u001b[39m.\u001b[39;49m_event\u001b[39m.\u001b[39;49mwait(timeout)\n",
      "File \u001b[0;32m/usr/local/anaconda3/lib/python3.9/threading.py:574\u001b[0m, in \u001b[0;36mEvent.wait\u001b[0;34m(self, timeout)\u001b[0m\n\u001b[1;32m    572\u001b[0m signaled \u001b[39m=\u001b[39m \u001b[39mself\u001b[39m\u001b[39m.\u001b[39m_flag\n\u001b[1;32m    573\u001b[0m \u001b[39mif\u001b[39;00m \u001b[39mnot\u001b[39;00m signaled:\n\u001b[0;32m--> 574\u001b[0m     signaled \u001b[39m=\u001b[39m \u001b[39mself\u001b[39;49m\u001b[39m.\u001b[39;49m_cond\u001b[39m.\u001b[39;49mwait(timeout)\n\u001b[1;32m    575\u001b[0m \u001b[39mreturn\u001b[39;00m signaled\n",
      "File \u001b[0;32m/usr/local/anaconda3/lib/python3.9/threading.py:312\u001b[0m, in \u001b[0;36mCondition.wait\u001b[0;34m(self, timeout)\u001b[0m\n\u001b[1;32m    310\u001b[0m \u001b[39mtry\u001b[39;00m:    \u001b[39m# restore state no matter what (e.g., KeyboardInterrupt)\u001b[39;00m\n\u001b[1;32m    311\u001b[0m     \u001b[39mif\u001b[39;00m timeout \u001b[39mis\u001b[39;00m \u001b[39mNone\u001b[39;00m:\n\u001b[0;32m--> 312\u001b[0m         waiter\u001b[39m.\u001b[39;49macquire()\n\u001b[1;32m    313\u001b[0m         gotit \u001b[39m=\u001b[39m \u001b[39mTrue\u001b[39;00m\n\u001b[1;32m    314\u001b[0m     \u001b[39melse\u001b[39;00m:\n",
      "\u001b[0;31mKeyboardInterrupt\u001b[0m: "
     ]
    }
   ],
   "source": [
    "pool = Pool(workers)\n",
    "pool.map(run_dn,range(points))"
   ]
  },
  {
   "cell_type": "markdown",
   "id": "67351d3f-6205-44ef-bc00-48b9d1ef25d1",
   "metadata": {},
   "source": [
    "# 3. Running the fitting"
   ]
  },
  {
   "cell_type": "markdown",
   "id": "2adaf4d7-d592-475b-9142-3e9567f21cff",
   "metadata": {},
   "source": [
    "### Data to save partial results"
   ]
  },
  {
   "cell_type": "code",
   "execution_count": null,
   "id": "09bd4020-94c2-4394-b724-400e538e8342",
   "metadata": {},
   "outputs": [],
   "source": [
    "data_list = [path+f'data/chi2_{mzprime}_{k}.dat' for k in range(points)]"
   ]
  },
  {
   "cell_type": "markdown",
   "id": "d82adce2-9b6a-44ca-a55a-cbd15e126ba4",
   "metadata": {},
   "source": [
    "### Routine to generate grid"
   ]
  },
  {
   "cell_type": "code",
   "execution_count": null,
   "id": "9af899c3-3ac4-41ed-a17d-f08cc9f00256",
   "metadata": {},
   "outputs": [],
   "source": [
    "def grid_generator(k_delta):\n",
    "    \n",
    "    data_tot = []\n",
    "    \n",
    "    for k_m5 in range(points):\n",
    "        \n",
    "        # 1. READ THE DATA FROM THE SIMULATION\n",
    "        m4 = ff.round_sig(m5[k_m5] / (delta[k_delta] + 1),4)\n",
    "        \n",
    "        if (0 >= m5[k_m5] - m4):\n",
    "            continue\n",
    "        \n",
    "        if int(m4) != m4:\n",
    "            m4s = m4\n",
    "        else:\n",
    "            m4s = int(m4)\n",
    "        \n",
    "        if int(m5[k_m5]) != m5[k_m5]:\n",
    "            m5s = m5[k_m5]\n",
    "        else:\n",
    "            m5s = int(m5[k_m5])\n",
    "        \n",
    "        dataset = f'data/miniboone_fhc/3plus2/m5_{m5s}_m4_{m4s}_mzprime_{mzprime}_dirac/pandas_df.parquet'\n",
    "        dataset_dirt = f'data/miniboone_fhc_dirt/3plus2/m5_{m5s}_m4_{m4s}_mzprime_{mzprime}_dirac/pandas_df.parquet'\n",
    "        \n",
    "        try:\n",
    "            df = pd.read_parquet(dataset, engine='pyarrow')\n",
    "        except:\n",
    "            continue\n",
    "        \n",
    "        \n",
    "        # 2. COMPUTE DECAY LENGTH AND PREPARE DATA ROW\n",
    "        if (m5s - m4s >= mzprime):\n",
    "            decay_l = df.attrs['N5_ctau0']\n",
    "        else:\n",
    "            decay_l = df.attrs['N5_ctau0'] / r_eps**2\n",
    "        \n",
    "        data = [[mzprime,m5[k_m5],m4,delta[k_delta],0,0,v54,epsilon,0,0,decay_l,0,0]]\n",
    "        \n",
    "        # 3. ANALYSIS FOR EVENTS SCATTERED IN DETECTOR\n",
    "        df = a_d.select_MB_decay_expo_prob(df,coupling_factor=1,l_decay_proper_cm=decay_l)\n",
    "        df = a.compute_spectrum(df, EVENT_TYPE='both')\n",
    "        df = df[df.reco_w>0]\n",
    "        sum_w_post_smearing_det = np.abs(np.sum(df['reco_w'])) * r_eps**2\n",
    "        \n",
    "        # 4. READING AND ANALYSIS FOR EVENTS SCATTERED WITH DIRT\n",
    "        try:\n",
    "            df2 = pd.read_parquet(dataset_dirt, engine='pyarrow')\n",
    "            df2 = a_d.select_MB_decay_dirt(df2,coupling_factor=1,l_decay_proper_cm=decay_l)\n",
    "            df2 = a.compute_spectrum(df2, EVENT_TYPE='both')\n",
    "            df2 = df2[df2.reco_w>0]\n",
    "            df = pd.concat([df, df2])\n",
    "        except:\n",
    "            continue\n",
    "        \n",
    "        \n",
    "        # 5. COMPUTATION OF DEFAULT NUMBER OF EVENTS AND FITTING\n",
    "        sum_w_post_smearing = np.abs(np.sum(df['reco_w'])) * r_eps**2\n",
    "        data[0][4] = sum_w_post_smearing\n",
    "        \n",
    "        if sum_w_post_smearing!=0:\n",
    "            guess0 = np.sqrt(np.sqrt(560./sum_w_post_smearing)*vmu5_def/v_cut)\n",
    "        else:\n",
    "            guess0 = 1\n",
    "        guess = np.min([guess0,1])\n",
    "        theta_guess = np.arccos(guess)\n",
    "        init_guess = np.array([theta_guess])\n",
    "        chi2 = lambda theta: ff.chi2_MiniBooNE_2020_3p2(df, v_cut*np.cos(theta)**2,vmu5_def=vmu5_def,r_eps=r_eps)\n",
    "        \n",
    "        res = scipy.optimize.minimize(chi2, init_guess)\n",
    "        vmu5_bf = v_cut*np.cos(res.x[0])**2\n",
    "                \n",
    "        # 6. WRITE THE DATA IN ROW\n",
    "        data[0][5] = vmu5_bf\n",
    "        data[0][8] = vmu5_bf / 2.\n",
    "        data[0][9] = res.fun\n",
    "        data[0][11] = (vmu5_bf / vmu5_def)**2 * sum_w_post_smearing\n",
    "        data[0][12] = sum_w_post_smearing_det / sum_w_post_smearing\n",
    "        \n",
    "        data_tot += data\n",
    "        clear_output(wait=False)\n",
    "        \n",
    "    # 7. PRINT PARTIAL RESULTS\n",
    "    data_out = pd.DataFrame(data=data,columns=cols)\n",
    "    data_out.to_csv(data_list[k_delta],sep='\\t',index=False)\n",
    "                \n",
    "    return data_tot"
   ]
  },
  {
   "cell_type": "code",
   "execution_count": null,
   "id": "2467995c-d199-498a-b323-b31a97ffed4f",
   "metadata": {},
   "outputs": [],
   "source": [
    "pool = Pool(workers)\n",
    "chi2 = pool.map(grid_generator,range(points))"
   ]
  },
  {
   "cell_type": "markdown",
   "id": "7a88caf7-5d97-4931-b1db-7541b167a403",
   "metadata": {},
   "source": [
    "### Save all the results"
   ]
  },
  {
   "cell_type": "code",
   "execution_count": null,
   "id": "bbf56c99-92ea-4c90-be25-655cc86f3ada",
   "metadata": {},
   "outputs": [],
   "source": [
    "data = pd.DataFrame(data=[],columns=cols)\n",
    "for k in range(points):\n",
    "    try:\n",
    "        data_temp = pd.read_csv(data_list[k],sep='\\t')\n",
    "        data = pd.concat([data, data_temp], ignore_index=True)\n",
    "    except:\n",
    "        continue"
   ]
  },
  {
   "cell_type": "markdown",
   "id": "1bfc5dfc-bc6b-47ac-8e8c-bb86ea2cef90",
   "metadata": {},
   "source": [
    "### Filter chi2 < 0"
   ]
  },
  {
   "cell_type": "code",
   "execution_count": null,
   "id": "a2beecf1-98a9-4720-bc4f-43bb9d770f43",
   "metadata": {},
   "outputs": [],
   "source": [
    "data.to_csv(path+'/chi2_fit_3p2_original.dat',sep='\\t',float_format='%.7e',index=False)\n",
    "data = data[data.chi2>0]\n",
    "data.to_csv(path+'/chi2_fit_3p2.dat',sep='\\t',float_format='%.7e',index=False)"
   ]
  }
 ],
 "metadata": {
  "kernelspec": {
   "display_name": "Python 3.9.12 ('base')",
   "language": "python",
   "name": "python3"
  },
  "language_info": {
   "codemirror_mode": {
    "name": "ipython",
    "version": 3
   },
   "file_extension": ".py",
   "mimetype": "text/x-python",
   "name": "python",
   "nbconvert_exporter": "python",
   "pygments_lexer": "ipython3",
   "version": "3.9.12"
  },
  "vscode": {
   "interpreter": {
    "hash": "3067ead486e059ec00ffe7555bdb889e6e264a24dc711bf108106cc7baee8d5d"
   }
  }
 },
 "nbformat": 4,
 "nbformat_minor": 5
}
