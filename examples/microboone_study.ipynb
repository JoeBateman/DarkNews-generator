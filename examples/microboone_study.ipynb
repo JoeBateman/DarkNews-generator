{
 "cells": [
  {
   "cell_type": "code",
   "execution_count": 1,
   "id": "39de5788",
   "metadata": {},
   "outputs": [],
   "source": [
    "%load_ext autoreload\n",
    "%autoreload 2"
   ]
  },
  {
   "cell_type": "code",
   "execution_count": 92,
   "id": "f0e1e379",
   "metadata": {},
   "outputs": [],
   "source": [
    "import scipy\n",
    "import numpy as np\n",
    "import pandas as pd\n",
    "from matplotlib import pyplot as plt\n",
    "\n",
    "import DarkNews as dn\n",
    "from DarkNews import const\n",
    "from DarkNews.GenLauncher import GenLauncher\n",
    "from DarkNews import Cfourvec as Cfv\n",
    "from DarkNews.MC import get_merged_MC_output\n",
    "from DarkNews.fourvec import df_dot3\n",
    "\n",
    "from particle import literals as lp\n",
    "from pathlib import Path\n",
    "\n",
    "import ToyAnalysis as ta\n",
    "from ToyAnalysis import analysis_decay as ad\n",
    "from ToyAnalysis import analysis as an\n",
    "from ToyAnalysis import fit_functions as fit\n",
    "from ToyAnalysis.plot_tools import plot_all_rates as MBplotter\n",
    "from pathlib import Path\n",
    "\n",
    "\n",
    "def get_pval(df_prob, ndof=8.7):\n",
    "    bin_e = np.genfromtxt(f'ToyAnalysis/data/MB_data_release/nue2020/numode/miniboone_binboundaries_nue_lowe.txt')\n",
    "    NP_MC, _ = np.histogram(df_prob['reco_Enu']*1e3, weights=df_prob['reco_w'], bins=bin_e)\n",
    "    bw = bin_e[1:]-bin_e[:-1]\n",
    "    # plt.step((bin_e[1:]+bin_e[:-1])/2,NP_MC/bw, where ='mid')\n",
    "    chi2=fit.chi2_MiniBooNE_2020(NP_MC, NP_MC.sum())\n",
    "    return scipy.stats.chi2.sf(chi2, ndof)\n",
    "\n",
    "def print_summary_of_event(df, col='w_event_rate', summary='Events'):\n",
    "    coherent = (df['scattering_regime'] == 'coherent')\n",
    "    pel = (df['scattering_regime'] == 'p-el')\n",
    "    nel = (df['scattering_regime'] == 'n-el')\n",
    "    print(f\"{summary}: {df[col].sum():.2g} total ({df[col][coherent].sum():.2g} coh : {df[col][pel].sum():.2g} pel : {df[col][nel].sum():.2g} nel)\")\n"
   ]
  },
  {
   "cell_type": "markdown",
   "id": "5424b764",
   "metadata": {},
   "source": [
    "## Generating events for benchmarks"
   ]
  },
  {
   "cell_type": "code",
   "execution_count": 3,
   "id": "abb8ea93",
   "metadata": {},
   "outputs": [
    {
     "name": "stderr",
     "output_type": "stream",
     "text": [
      "/Users/matheushostert/Repos/DarkNews-generator/src/DarkNews/model.py:591: RuntimeWarning: invalid value encountered in sqrt\n",
      "  self.le_state_norms = np.sqrt(1 - np.sum((self.Ulep.conjugate()*self.Ulep)[:,3:], axis=1))\n"
     ]
    }
   ],
   "source": [
    "common_kwargs = {'loglevel': 'ERROR', 'HNLtype': 'dirac', 'neval': 1e4}\n",
    "\n",
    "# TMM\n",
    "kwargs = {'mu_tr_mu4': 1.4e-6, 'm4': 0.470, 'decay_product': 'photon'}\n",
    "gen_1 = dn.GenLauncher(experiment='miniboone_fhc', **kwargs, **common_kwargs)\n",
    "gen_1_dirt = dn.GenLauncher(experiment='miniboone_fhc_dirt', **kwargs, **common_kwargs)\n",
    "genmuB_1 = dn.GenLauncher(experiment='microboone', **kwargs, **common_kwargs)\n",
    "genmuB_1_dirt = dn.GenLauncher(experiment='microboone_dirt', **kwargs, **common_kwargs)\n",
    "df_1 = gen_1.run()\n",
    "df_1_dirt = gen_1_dirt.run()\n",
    "df_1_muB = genmuB_1.run()\n",
    "df_1_muB_dirt = genmuB_1_dirt.run()\n",
    "\n",
    "# Vectors\n",
    "M4 = 0.107\n",
    "M5 = 0.150\n",
    "kwargs = {'d_mu5': 0.0002, 'd_45': 1, 'dprotonV': 3.4e-4*const.eQED, 'deV': 3.4e-4*const.eQED, 'mzprime': 0.03, 'm4': M4, 'm5': M5}\n",
    "gen_2 = dn.GenLauncher(experiment='miniboone_fhc', **kwargs, **common_kwargs)\n",
    "gen_2_dirt = dn.GenLauncher(experiment='miniboone_fhc_dirt', **kwargs, **common_kwargs)\n",
    "gen_2_muB = dn.GenLauncher(experiment='microboone', **kwargs, **common_kwargs)\n",
    "gen_2_muB_dirt = dn.GenLauncher(experiment='microboone_dirt', **kwargs, **common_kwargs)\n",
    "df_2 = gen_2.run()\n",
    "df_2_dirt = gen_2_dirt.run()\n",
    "df_2_muB = gen_2_muB.run()\n",
    "df_2_muB_dirt = gen_2_muB_dirt.run()\n",
    "\n",
    "kwargs = {'d_mu5': 0.0002, 'd_45': 1, 'dprotonV': 3.4e-4*const.eQED, 'deV': 3.4e-4*const.eQED, 'mzprime': 0.03, 'm4': M4, 'm5': M5}\n",
    "kwargs = {'UD4': 1/np.sqrt(2), 'UD5': 1/np.sqrt(2), 'Umu5': 1e-3, 'Umu4': 1e-3, 'gD': 2, 'epsilon': 0.75e-2, 'mzprime': 1.25, 'm4': M4, 'm5': M5}\n",
    "gen_3 = dn.GenLauncher(experiment='miniboone_fhc',  **kwargs, **common_kwargs)\n",
    "gen_3_dirt = dn.GenLauncher(experiment='miniboone_fhc_dirt',  **kwargs, **common_kwargs)\n",
    "gen_3_muB = dn.GenLauncher(experiment='microboone', **kwargs, **common_kwargs)\n",
    "gen_3_muB_dirt = dn.GenLauncher(experiment='microboone_dirt', **kwargs, **common_kwargs)\n",
    "df_3 = gen_3.run()\n",
    "df_3_dirt = gen_3_dirt.run()\n",
    "df_3_muB = gen_3_muB.run()\n",
    "df_3_muB_dirt = gen_3_muB_dirt.run()\n",
    "\n",
    "# Scalars\n",
    "M4 = 0.140\n",
    "M5 = 0.2\n",
    "theta_e = 2.5e-3\n",
    "theta_numu = 4e-3\n",
    "theta_nucleon = 4e-3\n",
    "kwargs = {'mzprime': None, 'mhprime': 1.0, 'm4': M4, 'm5': M5, 's_mu5': theta_numu, 's_45': 1.0,  'deS': theta_e, 'dprotonS': theta_nucleon, 'dneutronS': theta_nucleon}\n",
    "gen_4 = dn.GenLauncher(experiment='miniboone_fhc', **kwargs, **common_kwargs)\n",
    "gen_4_dirt = dn.GenLauncher(experiment='miniboone_fhc_dirt', **kwargs, **common_kwargs)\n",
    "gen_4_muB = dn.GenLauncher(experiment='microboone', **kwargs, **common_kwargs)\n",
    "gen_4_muB_dirt = dn.GenLauncher(experiment='microboone_dirt', **kwargs, **common_kwargs)\n",
    "df_4 = gen_4.run()\n",
    "df_4_dirt = gen_4_dirt.run()\n",
    "df_4_muB = gen_4_muB.run()\n",
    "df_4_muB_dirt = gen_4_muB_dirt.run()\n",
    "\n",
    "\n",
    "theta_e = 0.8e-3\n",
    "theta_numu = 1e-3\n",
    "theta_nucleon = 1.4e-4\n",
    "kwargs = {'mzprime': None, 'mhprime': 0.03, 'm4': M4, 'm5': M5, 's_mu5': theta_numu, 's_45': 1.0,  'deS': theta_e, 'dprotonS': theta_nucleon, 'dneutronS': theta_nucleon}\n",
    "gen_5 = dn.GenLauncher(experiment='miniboone_fhc', **kwargs, **common_kwargs)\n",
    "gen_5_dirt = dn.GenLauncher(experiment='miniboone_fhc_dirt', **kwargs, **common_kwargs)\n",
    "gen_5_muB = dn.GenLauncher(experiment='microboone',**kwargs, **common_kwargs)\n",
    "gen_5_muB_dirt = dn.GenLauncher(experiment='microboone_dirt',**kwargs, **common_kwargs)\n",
    "df_5 = gen_5.run()\n",
    "df_5_dirt = gen_5_dirt.run()\n",
    "df_5_muB = gen_5_muB.run()\n",
    "df_5_muB_dirt = gen_5_muB_dirt.run()\n"
   ]
  },
  {
   "cell_type": "markdown",
   "id": "3b701a42",
   "metadata": {},
   "source": [
    "### Performing analysis\n",
    "\n",
    "Apply decay probability, smear, select overlapping and asymmetric events for\n",
    "\n",
    "* MiniBooNE \n",
    "* MicroBooNE"
   ]
  },
  {
   "cell_type": "code",
   "execution_count": 76,
   "id": "eb7f8a7b",
   "metadata": {},
   "outputs": [
    {
     "name": "stderr",
     "output_type": "stream",
     "text": [
      "/Users/matheushostert/Repos/DarkNews-generator/examples/ToyAnalysis/analysis_decay.py:80: RuntimeWarning: invalid value encountered in sqrt\n",
      "  M = np.sqrt(dot4(p.T, p.T))\n",
      "/Users/matheushostert/Repos/DarkNews-generator/examples/ToyAnalysis/analysis.py:296: RuntimeWarning: invalid value encountered in sqrt\n",
      "  Pe  = np.sqrt(Evis**2 - const.m_e**2)\n",
      "/Users/matheushostert/Repos/DarkNews-generator/examples/ToyAnalysis/analysis_decay.py:80: RuntimeWarning: invalid value encountered in sqrt\n",
      "  M = np.sqrt(dot4(p.T, p.T))\n",
      "/Users/matheushostert/Repos/DarkNews-generator/examples/ToyAnalysis/analysis.py:296: RuntimeWarning: invalid value encountered in sqrt\n",
      "  Pe  = np.sqrt(Evis**2 - const.m_e**2)\n",
      "/Users/matheushostert/Repos/DarkNews-generator/examples/ToyAnalysis/analysis.py:304: RuntimeWarning: invalid value encountered in double_scalars\n",
      "  eff = weights[final_selected].sum()/weights.sum()\n",
      "/Users/matheushostert/Repos/DarkNews-generator/examples/ToyAnalysis/analysis_decay.py:80: RuntimeWarning: invalid value encountered in sqrt\n",
      "  M = np.sqrt(dot4(p.T, p.T))\n",
      "/Users/matheushostert/Repos/DarkNews-generator/examples/ToyAnalysis/analysis_decay.py:80: RuntimeWarning: invalid value encountered in sqrt\n",
      "  M = np.sqrt(dot4(p.T, p.T))\n",
      "/Users/matheushostert/Repos/DarkNews-generator/examples/ToyAnalysis/analysis.py:195: RuntimeWarning: invalid value encountered in double_scalars\n",
      "  eff_asym\t= w_asym.sum()/w_tot\n",
      "/Users/matheushostert/Repos/DarkNews-generator/examples/ToyAnalysis/analysis.py:196: RuntimeWarning: invalid value encountered in double_scalars\n",
      "  eff_ovl\t\t= w_ovl.sum()/w_tot\n",
      "/Users/matheushostert/Repos/DarkNews-generator/examples/ToyAnalysis/analysis.py:197: RuntimeWarning: invalid value encountered in double_scalars\n",
      "  eff_sep\t\t= w_sep.sum()/w_tot\n",
      "/Users/matheushostert/Repos/DarkNews-generator/examples/ToyAnalysis/analysis.py:198: RuntimeWarning: invalid value encountered in double_scalars\n",
      "  eff_inv\t\t= w_inv.sum()/w_tot\n",
      "/Users/matheushostert/Repos/DarkNews-generator/examples/ToyAnalysis/analysis.py:304: RuntimeWarning: invalid value encountered in double_scalars\n",
      "  eff = weights[final_selected].sum()/weights.sum()\n",
      "/Users/matheushostert/Repos/DarkNews-generator/examples/ToyAnalysis/analysis_decay.py:80: RuntimeWarning: invalid value encountered in sqrt\n",
      "  M = np.sqrt(dot4(p.T, p.T))\n",
      "/Users/matheushostert/Repos/DarkNews-generator/examples/ToyAnalysis/analysis_decay.py:80: RuntimeWarning: invalid value encountered in sqrt\n",
      "  M = np.sqrt(dot4(p.T, p.T))\n",
      "/Users/matheushostert/Repos/DarkNews-generator/examples/ToyAnalysis/analysis_decay.py:80: RuntimeWarning: invalid value encountered in sqrt\n",
      "  M = np.sqrt(dot4(p.T, p.T))\n",
      "/Users/matheushostert/Repos/DarkNews-generator/examples/ToyAnalysis/analysis_decay.py:80: RuntimeWarning: invalid value encountered in sqrt\n",
      "  M = np.sqrt(dot4(p.T, p.T))\n",
      "/Users/matheushostert/Repos/DarkNews-generator/examples/ToyAnalysis/analysis_decay.py:80: RuntimeWarning: invalid value encountered in sqrt\n",
      "  M = np.sqrt(dot4(p.T, p.T))\n",
      "/Users/matheushostert/Repos/DarkNews-generator/examples/ToyAnalysis/analysis_decay.py:80: RuntimeWarning: invalid value encountered in sqrt\n",
      "  M = np.sqrt(dot4(p.T, p.T))\n",
      "/Users/matheushostert/Repos/DarkNews-generator/examples/ToyAnalysis/analysis.py:195: RuntimeWarning: invalid value encountered in double_scalars\n",
      "  eff_asym\t= w_asym.sum()/w_tot\n",
      "/Users/matheushostert/Repos/DarkNews-generator/examples/ToyAnalysis/analysis.py:196: RuntimeWarning: invalid value encountered in double_scalars\n",
      "  eff_ovl\t\t= w_ovl.sum()/w_tot\n",
      "/Users/matheushostert/Repos/DarkNews-generator/examples/ToyAnalysis/analysis.py:197: RuntimeWarning: invalid value encountered in double_scalars\n",
      "  eff_sep\t\t= w_sep.sum()/w_tot\n",
      "/Users/matheushostert/Repos/DarkNews-generator/examples/ToyAnalysis/analysis.py:198: RuntimeWarning: invalid value encountered in double_scalars\n",
      "  eff_inv\t\t= w_inv.sum()/w_tot\n",
      "/Users/matheushostert/Repos/DarkNews-generator/examples/ToyAnalysis/analysis.py:304: RuntimeWarning: invalid value encountered in double_scalars\n",
      "  eff = weights[final_selected].sum()/weights.sum()\n",
      "/Users/matheushostert/Repos/DarkNews-generator/examples/ToyAnalysis/analysis_decay.py:80: RuntimeWarning: invalid value encountered in sqrt\n",
      "  M = np.sqrt(dot4(p.T, p.T))\n",
      "/Users/matheushostert/Repos/DarkNews-generator/examples/ToyAnalysis/analysis_decay.py:80: RuntimeWarning: invalid value encountered in sqrt\n",
      "  M = np.sqrt(dot4(p.T, p.T))\n",
      "/Users/matheushostert/Repos/DarkNews-generator/examples/ToyAnalysis/analysis.py:321: RuntimeWarning: invalid value encountered in double_scalars\n",
      "  eff = weights_fs.sum()/weights.sum()\n",
      "/Users/matheushostert/Repos/DarkNews-generator/examples/ToyAnalysis/analysis.py:117: RuntimeWarning: invalid value encountered in double_scalars\n",
      "  muB_eff = (w*nueCCQE_numi_eff_func(Evis)).sum()/w.sum()\n",
      "/Users/matheushostert/Repos/DarkNews-generator/examples/ToyAnalysis/analysis_decay.py:80: RuntimeWarning: invalid value encountered in sqrt\n",
      "  M = np.sqrt(dot4(p.T, p.T))\n",
      "/Users/matheushostert/Repos/DarkNews-generator/examples/ToyAnalysis/analysis_decay.py:80: RuntimeWarning: invalid value encountered in sqrt\n",
      "  M = np.sqrt(dot4(p.T, p.T))\n",
      "/Users/matheushostert/Repos/DarkNews-generator/examples/ToyAnalysis/analysis.py:195: RuntimeWarning: invalid value encountered in double_scalars\n",
      "  eff_asym\t= w_asym.sum()/w_tot\n",
      "/Users/matheushostert/Repos/DarkNews-generator/examples/ToyAnalysis/analysis.py:196: RuntimeWarning: invalid value encountered in double_scalars\n",
      "  eff_ovl\t\t= w_ovl.sum()/w_tot\n",
      "/Users/matheushostert/Repos/DarkNews-generator/examples/ToyAnalysis/analysis.py:197: RuntimeWarning: invalid value encountered in double_scalars\n",
      "  eff_sep\t\t= w_sep.sum()/w_tot\n",
      "/Users/matheushostert/Repos/DarkNews-generator/examples/ToyAnalysis/analysis.py:198: RuntimeWarning: invalid value encountered in double_scalars\n",
      "  eff_inv\t\t= w_inv.sum()/w_tot\n",
      "/Users/matheushostert/Repos/DarkNews-generator/examples/ToyAnalysis/analysis.py:321: RuntimeWarning: invalid value encountered in double_scalars\n",
      "  eff = weights_fs.sum()/weights.sum()\n",
      "/Users/matheushostert/Repos/DarkNews-generator/examples/ToyAnalysis/analysis.py:117: RuntimeWarning: invalid value encountered in double_scalars\n",
      "  muB_eff = (w*nueCCQE_numi_eff_func(Evis)).sum()/w.sum()\n",
      "/Users/matheushostert/Repos/DarkNews-generator/examples/ToyAnalysis/analysis_decay.py:80: RuntimeWarning: invalid value encountered in sqrt\n",
      "  M = np.sqrt(dot4(p.T, p.T))\n",
      "/Users/matheushostert/Repos/DarkNews-generator/examples/ToyAnalysis/analysis_decay.py:80: RuntimeWarning: invalid value encountered in sqrt\n",
      "  M = np.sqrt(dot4(p.T, p.T))\n",
      "/Users/matheushostert/Repos/DarkNews-generator/examples/ToyAnalysis/analysis_decay.py:80: RuntimeWarning: invalid value encountered in sqrt\n",
      "  M = np.sqrt(dot4(p.T, p.T))\n",
      "/Users/matheushostert/Repos/DarkNews-generator/examples/ToyAnalysis/analysis_decay.py:80: RuntimeWarning: invalid value encountered in sqrt\n",
      "  M = np.sqrt(dot4(p.T, p.T))\n",
      "/Users/matheushostert/Repos/DarkNews-generator/examples/ToyAnalysis/analysis_decay.py:80: RuntimeWarning: invalid value encountered in sqrt\n",
      "  M = np.sqrt(dot4(p.T, p.T))\n",
      "/Users/matheushostert/Repos/DarkNews-generator/examples/ToyAnalysis/analysis_decay.py:80: RuntimeWarning: invalid value encountered in sqrt\n",
      "  M = np.sqrt(dot4(p.T, p.T))\n",
      "/Users/matheushostert/Repos/DarkNews-generator/examples/ToyAnalysis/analysis.py:195: RuntimeWarning: invalid value encountered in double_scalars\n",
      "  eff_asym\t= w_asym.sum()/w_tot\n",
      "/Users/matheushostert/Repos/DarkNews-generator/examples/ToyAnalysis/analysis.py:196: RuntimeWarning: invalid value encountered in double_scalars\n",
      "  eff_ovl\t\t= w_ovl.sum()/w_tot\n",
      "/Users/matheushostert/Repos/DarkNews-generator/examples/ToyAnalysis/analysis.py:197: RuntimeWarning: invalid value encountered in double_scalars\n",
      "  eff_sep\t\t= w_sep.sum()/w_tot\n",
      "/Users/matheushostert/Repos/DarkNews-generator/examples/ToyAnalysis/analysis.py:198: RuntimeWarning: invalid value encountered in double_scalars\n",
      "  eff_inv\t\t= w_inv.sum()/w_tot\n",
      "/Users/matheushostert/Repos/DarkNews-generator/examples/ToyAnalysis/analysis.py:321: RuntimeWarning: invalid value encountered in double_scalars\n",
      "  eff = weights_fs.sum()/weights.sum()\n",
      "/Users/matheushostert/Repos/DarkNews-generator/examples/ToyAnalysis/analysis.py:117: RuntimeWarning: invalid value encountered in double_scalars\n",
      "  muB_eff = (w*nueCCQE_numi_eff_func(Evis)).sum()/w.sum()\n"
     ]
    }
   ],
   "source": [
    "my_dfs = [df_1, df_2, df_3, df_4, df_5]\n",
    "my_dfs_dirt = [df_1_dirt, df_2_dirt, df_3_dirt, df_4_dirt, df_5_dirt]\n",
    "my_dfs_muB = [df_1_muB, df_2_muB, df_3_muB, df_4_muB, df_5_muB]\n",
    "my_dfs_muB_dirt = [df_1_muB_dirt, df_2_muB_dirt, df_3_muB_dirt, df_4_muB_dirt, df_5_muB_dirt]\n",
    "\n",
    "##########\n",
    "# MiniBooNE -- smear, signal selection and filter decays\n",
    "my_dfs_prob = []\n",
    "my_dfs_dirt_prob = []\n",
    "final_dfs = []\n",
    "for df, dfd in zip(my_dfs, my_dfs_dirt):\n",
    "    if df.attrs['model'].mu_tr_mu4 > 0:\n",
    "        dfp   = an.compute_spectrum(ad.decay_selection(df, l_decay_proper_cm=df.attrs['N4_ctau0'], experiment='miniboone'), EVENT_TYPE='photon')\n",
    "        dfp_d = an.compute_spectrum(ad.decay_selection(dfd, l_decay_proper_cm=dfd.attrs['N4_ctau0'], experiment='miniboone'), EVENT_TYPE='photon')\n",
    "    else:\n",
    "        dfp   = an.compute_spectrum(ad.decay_selection(df, l_decay_proper_cm=df.attrs['N5_ctau0'], experiment='miniboone'), EVENT_TYPE='both')\n",
    "        dfp_d = an.compute_spectrum(ad.decay_selection(dfd, l_decay_proper_cm=dfd.attrs['N5_ctau0'], experiment='miniboone'), EVENT_TYPE='both')\n",
    "    my_dfs_prob.append(dfp)\n",
    "    my_dfs_dirt_prob.append(dfp_d)\n",
    "    final_dfs.append(get_merged_MC_output(dfp,dfp_d))\n",
    "\n",
    "##########\n",
    "# MicroBooNE -- smear, signal selection and filter decays\n",
    "my_dfs_muB_prob = []\n",
    "my_dfs_muB_dirt_prob = []\n",
    "final_dfs_muB = []\n",
    "for df, dfd in zip(my_dfs_muB, my_dfs_muB_dirt):\n",
    "    if df.attrs['model'].mu_tr_mu4 > 0:\n",
    "        dfp   = an.compute_spectrum(ad.decay_selection(df, l_decay_proper_cm=df.attrs['N4_ctau0'], experiment='microboone'), EVENT_TYPE='photon', EXP='microboone')\n",
    "        dfp_d = an.compute_spectrum(ad.decay_selection(dfd, l_decay_proper_cm=dfd.attrs['N4_ctau0'], experiment='microboone'), EVENT_TYPE='photon', EXP='microboone')\n",
    "    else:\n",
    "        dfp   = an.compute_spectrum(ad.decay_selection(df, l_decay_proper_cm=df.attrs['N5_ctau0'], experiment='microboone'), EVENT_TYPE='both', EXP='microboone')\n",
    "        dfp_d = an.compute_spectrum(ad.decay_selection(dfd, l_decay_proper_cm=dfd.attrs['N5_ctau0'], experiment='microboone'), EVENT_TYPE='both', EXP='microboone')\n",
    "    my_dfs_muB_prob.append(dfp)\n",
    "    my_dfs_muB_dirt_prob.append(dfp_d)\n",
    "    final_dfs_muB.append(get_merged_MC_output(dfp,dfp_d))"
   ]
  },
  {
   "cell_type": "markdown",
   "id": "2fba8ad9",
   "metadata": {},
   "source": [
    "### Some tests"
   ]
  },
  {
   "cell_type": "markdown",
   "id": "ad9a5904",
   "metadata": {},
   "source": [
    "### Position of upscattering"
   ]
  },
  {
   "cell_type": "code",
   "execution_count": 163,
   "id": "954a67ad",
   "metadata": {},
   "outputs": [
    {
     "data": {
      "text/plain": [
       "(3.150701735421535e-05, 109.42112880831013)"
      ]
     },
     "execution_count": 163,
     "metadata": {},
     "output_type": "execute_result"
    },
    {
     "data": {
      "image/png": "[encoded data removed]",
      "text/plain": [
       "<Figure size 319.68x272.068 with 1 Axes>"
      ]
     },
     "metadata": {
      "needs_background": "light"
     },
     "output_type": "display_data"
    },
    {
     "data": {
      "image/png": "[encoded data removed]",
      "text/plain": [
       "<Figure size 319.68x272.068 with 1 Axes>"
      ]
     },
     "metadata": {
      "needs_background": "light"
     },
     "output_type": "display_data"
    }
   ],
   "source": [
    "\n",
    "fig, ax = dn.plot_tools.std_fig()\n",
    "df = final_dfs[2]\n",
    "dirt_mask = (df['pos_scatt','3']<-610)\n",
    "position = df['pos_scatt','3']\n",
    "tmax = position.max()*1.3\n",
    "tmin = -5e3 #position.min()\n",
    "nbins = 31\n",
    "\n",
    "_ = ax.hist(position[dirt_mask], weights=df['w_event_rate'][dirt_mask], bins=np.linspace(tmin,tmax, nbins), histtype='bar', \n",
    "                hatch='///', facecolor='None', edgecolor='dodgerblue', label='dirt')\n",
    "ht,_,_ = ax.hist(position, weights=df['w_event_rate'], bins=np.linspace(tmin,tmax, nbins), histtype='step', color='black',\n",
    "            label='total')\n",
    "ax.set_title(\"MiniBooNE\")\n",
    "ax.vlines(10,0,1e3, colors='black', ls='--')\n",
    "ax.legend(loc='upper left', frameon=False)\n",
    "ax.set_xlabel(\"pos scattering in z/cm\")\n",
    "ax.set_ylabel(\"events\")\n",
    "ax.set_xlim(tmin,tmax)\n",
    "ax.set_ylim(0,ht.max()*1.3)\n",
    "\n",
    "\n",
    "fig, ax = dn.plot_tools.std_fig()\n",
    "df = final_dfs_muB[2]\n",
    "dirt_mask = (df['pos_scatt','3']<-1100/2-215)\n",
    "position = df['pos_scatt','3']\n",
    "tmax = position.max()*1.3\n",
    "tmin = -5e3 #position.min()\n",
    "nbins = 31\n",
    "\n",
    "_ = ax.hist(position[dirt_mask], weights=df['w_event_rate'][dirt_mask], bins=np.linspace(tmin,tmax, nbins), histtype='bar', \n",
    "                hatch='///', facecolor='None', edgecolor='dodgerblue', label='dirt')\n",
    "ht,_,_ = ax.hist(position, weights=df['w_event_rate'], bins=np.linspace(tmin,tmax, nbins), histtype='step', color='black',\n",
    "            label='total')\n",
    "\n",
    "ax.set_title(\"MicroBooNE\")\n",
    "ax.vlines(10,0,1e3, colors='black', ls='--')\n",
    "ax.legend(loc='upper left', frameon=False)\n",
    "ax.set_xlabel(\"pos scattering in z/cm\")\n",
    "ax.set_ylabel(\"events\")\n",
    "ax.set_xlim(tmin,tmax)\n",
    "ax.set_ylim(ht.min(),ht.max()*1.3)\n"
   ]
  },
  {
   "cell_type": "code",
   "execution_count": 78,
   "id": "f8614dce",
   "metadata": {},
   "outputs": [
    {
     "name": "stdout",
     "output_type": "stream",
     "text": [
      "1.6747374607806831e-07\n"
     ]
    },
    {
     "data": {
      "image/png": "[encoded data removed]",
      "text/plain": [
       "<Figure size 432x288 with 1 Axes>"
      ]
     },
     "metadata": {
      "needs_background": "light"
     },
     "output_type": "display_data"
    }
   ],
   "source": [
    "df = final_dfs[2]\n",
    "dirt_mask = (df['pos_scatt','3']<-610)\n",
    "delay = (df['pos_decay','0'] - np.min(df['pos_decay','0']))*1e9\n",
    "tmax = 100 #delay.max()*1.01\n",
    "tmin = delay.min()\n",
    "\n",
    "_ = plt.hist(delay[dirt_mask], weights=df['reco_w'][dirt_mask], bins=np.linspace(tmin,tmax, 41), histtype='bar', \n",
    "                hatch='///', facecolor='None', edgecolor='dodgerblue', label='dirt')\n",
    "ht,_,_ = plt.hist(delay, weights=df['reco_w'], bins=np.linspace(tmin,tmax, 41), histtype='step', color='black',\n",
    "            label='total')\n",
    "plt.vlines(10,0,1e3, colors='black', ls='--')\n",
    "plt.legend(loc='upper right', frameon=False)\n",
    "plt.xlabel(\"t (ns)\")\n",
    "plt.ylabel(\"events\")\n",
    "plt.xlim(tmin,tmax)\n",
    "plt.ylim(0,ht.max()*1.5)\n",
    "\n",
    "print(df['pos_scatt','0'].min())\n",
    "\n",
    "\n",
    "\n",
    "\n",
    "\n",
    "fig, ax = dn.plot_tools.std_fig()\n",
    "df = final_dfs[2]\n",
    "dirt_mask = (df['pos_scatt','3']<-610)\n",
    "position = (df['pos_decay','0'] - np.min(df['pos_decay','0']))*1e9\n",
    "tmax = position.max()*1.3\n",
    "tmin = -5e3 #position.min()\n",
    "nbins = 31\n",
    "\n",
    "_ = ax.hist(position[dirt_mask], weights=df['w_event_rate'][dirt_mask], bins=np.linspace(tmin,tmax, nbins), histtype='bar', \n",
    "                hatch='///', facecolor='None', edgecolor='dodgerblue', label='dirt')\n",
    "ht,_,_ = ax.hist(position, weights=df['w_event_rate'], bins=np.linspace(tmin,tmax, nbins), histtype='step', color='black',\n",
    "            label='total')\n",
    "ax.set_title(\"MiniBooNE\")\n",
    "ax.vlines(10,0,1e3, colors='black', ls='--')\n",
    "ax.legend(loc='upper left', frameon=False)\n",
    "ax.set_xlabel(\"pos scattering in z/cm\")\n",
    "ax.set_ylabel(\"events\")\n",
    "ax.set_xlim(tmin,tmax)\n",
    "ax.set_ylim(0,ht.max()*1.3)\n",
    "\n",
    "\n",
    "fig, ax = dn.plot_tools.std_fig()\n",
    "df = final_dfs_muB[2]\n",
    "dirt_mask = (df['pos_scatt','3']<-1100/2-215)\n",
    "position = (df['pos_decay','0'] - np.min(df['pos_decay','0']))*1e9\n",
    "tmax = position.max()*1.3\n",
    "tmin = -5e3 #position.min()\n",
    "nbins = 31\n",
    "\n",
    "_ = ax.hist(position[dirt_mask], weights=df['w_event_rate'][dirt_mask], bins=np.linspace(tmin,tmax, nbins), histtype='bar', \n",
    "                hatch='///', facecolor='None', edgecolor='dodgerblue', label='dirt')\n",
    "ht,_,_ = ax.hist(position, weights=df['w_event_rate'], bins=np.linspace(tmin,tmax, nbins), histtype='step', color='black',\n",
    "            label='total')\n",
    "\n",
    "ax.set_title(\"MicroBooNE\")\n",
    "ax.vlines(10,0,1e3, colors='black', ls='--')\n",
    "ax.legend(loc='upper left', frameon=False)\n",
    "ax.set_xlabel(\"pos scattering in z/cm\")\n",
    "ax.set_ylabel(\"events\")\n",
    "ax.set_xlim(tmin,tmax)\n",
    "ax.set_ylim(ht.min(),ht.max()*1.3)\n"
   ]
  },
  {
   "cell_type": "code",
   "execution_count": 90,
   "id": "5b8ffae3",
   "metadata": {},
   "outputs": [
    {
     "name": "stdout",
     "output_type": "stream",
     "text": [
      "1.6747374607806831e-07\n"
     ]
    },
    {
     "data": {
      "image/png": "[encoded data removed]",
      "text/plain": [
       "<Figure size 432x288 with 1 Axes>"
      ]
     },
     "metadata": {
      "needs_background": "light"
     },
     "output_type": "display_data"
    }
   ],
   "source": [
    "df = final_dfs[2]\n",
    "dirt_mask = (df['pos_scatt','3']<-610)\n",
    "delay = (df['pos_scatt','0'] - np.min(df['pos_scatt','0']))*1e9\n",
    "tmax = 5000 #delay.max()*1.01\n",
    "tmin = delay.min()\n",
    "\n",
    "_ = plt.hist(delay[dirt_mask], weights=df['reco_w'][dirt_mask], bins=np.linspace(tmin,tmax, 41), histtype='bar', \n",
    "                hatch='///', facecolor='None', edgecolor='dodgerblue', label='dirt')\n",
    "ht,_,_ = plt.hist(delay, weights=df['reco_w'], bins=np.linspace(tmin,tmax, 41), histtype='step', color='black',\n",
    "            label='total')\n",
    "plt.vlines(10,0,1e3, colors='black', ls='--')\n",
    "plt.legend(loc='upper right', frameon=False)\n",
    "plt.xlabel(\"t (ns)\")\n",
    "plt.ylabel(\"events\")\n",
    "plt.xlim(tmin,tmax)\n",
    "plt.ylim(0,ht.max()*1.5)\n",
    "\n",
    "print(df['pos_scatt','0'].min())"
   ]
  },
  {
   "cell_type": "code",
   "execution_count": 93,
   "id": "36d695ff",
   "metadata": {},
   "outputs": [
    {
     "name": "stdout",
     "output_type": "stream",
     "text": [
      "\n",
      "Benchmark 1: transition mag moment\n",
      "ctau0 = 2.43698 cm\n",
      "Raw events at MiniBooNE: 2.5e+05 total (1.9e+05 coh : 6.1e+04 pel : 0 nel)\n",
      "Selected events at MiniBooNE: 7e+02 total (2.5e+02 coh : 4.5e+02 pel : 0 nel)\n",
      "MiniBooNE p-value: 0.4147300946927827\n",
      "Raw events at MicroBooNE: 2.5e+06 total (1.2e+06 coh : 1.2e+06 pel : 0 nel)\n",
      "\n",
      "Benchmark 2: mzprime = 0.03, mhprime = None\n",
      "5.072332304320809e-12\n",
      "Raw events at MiniBooNE: 1.4e+06 total (1.3e+06 coh : 1.3e+05 pel : 0 nel)\n",
      "Selected events at MiniBooNE: 6.6e+02 total (5.3e+02 coh : 1.3e+02 pel : 0 nel)\n",
      "MiniBooNE p-value: 0.42819963207413647\n",
      "Raw events at MicroBooNE: 6e+06 total (5.4e+06 coh : 6e+05 pel : 0 nel)\n",
      "\n",
      "Benchmark 3: mzprime = 1.25, mhprime = None\n",
      "183.22293216098657\n",
      "Raw events at MiniBooNE: 2.4e+05 total (1.8e+05 coh : 6.1e+04 pel : 0 nel)\n",
      "Selected events at MiniBooNE: 5.6e+02 total (2.5e+02 coh : 3.1e+02 pel : 0 nel)\n",
      "MiniBooNE p-value: 0.30964029486617384\n",
      "Raw events at MicroBooNE: 4.8e+06 total (2.1e+06 coh : 2.7e+06 pel : 0 nel)\n",
      "\n",
      "Benchmark 4: mzprime = None, mhprime = 1.0\n",
      "49.695704224505945\n",
      "Raw events at MiniBooNE: 4.3e+05 total (3.6e+05 coh : 7.1e+04 pel : 0 nel)\n",
      "Selected events at MiniBooNE: 7.6e+02 total (3.3e+02 coh : 4.4e+02 pel : 0 nel)\n",
      "MiniBooNE p-value: 0.2667592183956223\n",
      "Raw events at MicroBooNE: 1.6e+07 total (7.9e+06 coh : 8.4e+06 pel : 0 nel)\n",
      "\n",
      "Benchmark 5: mzprime = None, mhprime = 0.03\n",
      "1.5364399544590475e-11\n",
      "Raw events at MiniBooNE: 1.8e+06 total (1.8e+06 coh : 4.9e+04 pel : 0 nel)\n",
      "Selected events at MiniBooNE: 7.3e+02 total (6.8e+02 coh : 50 pel : 0 nel)\n",
      "MiniBooNE p-value: 0.7143468295537942\n",
      "Raw events at MicroBooNE: 1.1e+07 total (1.1e+07 coh : 4e+05 pel : 0 nel)\n"
     ]
    }
   ],
   "source": [
    "## Printing summary for MiniBooNE benchmarks \n",
    "\n",
    "for i, (df, df_mub) in enumerate(zip(final_dfs,final_dfs_muB)):\n",
    "    if i>0:\n",
    "        print(f'\\nBenchmark {i+1}: mzprime = {df.attrs[\"model\"].mzprime}, mhprime = {df.attrs[\"model\"].mhprime}')\n",
    "        print(f\"{df.attrs['N5_ctau0']}\")\n",
    "\n",
    "    else:\n",
    "        print(f'\\nBenchmark {i+1}: transition mag moment')\n",
    "        print(f\"ctau0 = {df.attrs['N4_ctau0']:2g} cm\")\n",
    "\n",
    "    print_summary_of_event(df, col='w_pre_decay',summary='Raw events at MiniBooNE')\n",
    "    print_summary_of_event(df, col='reco_w', summary='Selected events at MiniBooNE')\n",
    "    print(f'MiniBooNE p-value: {get_pval(df)}')\n",
    "    print_summary_of_event(df_mub, col='w_pre_decay',summary='Raw events at MicroBooNE')"
   ]
  },
  {
   "cell_type": "code",
   "execution_count": 96,
   "id": "69d8c8dc",
   "metadata": {},
   "outputs": [
    {
     "name": "stdout",
     "output_type": "stream",
     "text": [
      "MB events: 7e+02\n"
     ]
    },
    {
     "data": {
      "image/png": "[encoded data removed]",
      "text/plain": [
       "<Figure size 432x288 with 1 Axes>"
      ]
     },
     "metadata": {
      "needs_background": "light"
     },
     "output_type": "display_data"
    },
    {
     "data": {
      "image/png": "[encoded data removed]",
      "text/plain": [
       "<Figure size 432x288 with 1 Axes>"
      ]
     },
     "metadata": {
      "needs_background": "light"
     },
     "output_type": "display_data"
    },
    {
     "data": {
      "image/png": "[encoded data removed]",
      "text/plain": [
       "<Figure size 432x288 with 1 Axes>"
      ]
     },
     "metadata": {
      "needs_background": "light"
     },
     "output_type": "display_data"
    }
   ],
   "source": [
    "ta.plot_tools.batch_plot_signalMB(final_dfs[0], PATH='plots/BP0/', title='$m_5 = 150$ MeV,  $\\Delta_{54} = 0.4$,  $m_{Z^\\prime} = 30$ MeV')"
   ]
  },
  {
   "cell_type": "code",
   "execution_count": 94,
   "id": "393516e0",
   "metadata": {},
   "outputs": [
    {
     "name": "stderr",
     "output_type": "stream",
     "text": [
      "/Users/matheushostert/Repos/DarkNews-generator/examples/ToyAnalysis/analysis_decay.py:80: RuntimeWarning: invalid value encountered in sqrt\n",
      "  M = np.sqrt(dot4(p.T, p.T))\n"
     ]
    },
    {
     "ename": "TypeError",
     "evalue": "batch_plot_signalMB() got an unexpected keyword argument 'BP'",
     "output_type": "error",
     "traceback": [
      "\u001b[0;31m---------------------------------------------------------------------------\u001b[0m",
      "\u001b[0;31mTypeError\u001b[0m                                 Traceback (most recent call last)",
      "\u001b[1;32m/Users/matheushostert/Repos/DarkNews-generator/examples/microboone_study.ipynb Cell 12\u001b[0m in \u001b[0;36m<cell line: 3>\u001b[0;34m()\u001b[0m\n\u001b[1;32m      <a href='vscode-notebook-cell:/Users/matheushostert/Repos/DarkNews-generator/examples/microboone_study.ipynb#X10sZmlsZQ%3D%3D?line=0'>1</a>\u001b[0m \u001b[39m# Im missing the miniboone plots for TMM\u001b[39;00m\n\u001b[0;32m----> <a href='vscode-notebook-cell:/Users/matheushostert/Repos/DarkNews-generator/examples/microboone_study.ipynb#X10sZmlsZQ%3D%3D?line=2'>3</a>\u001b[0m MBplotter(final_dfs[\u001b[39m1\u001b[39;49m], \u001b[39m'\u001b[39;49m\u001b[39mBP light vector\u001b[39;49m\u001b[39m'\u001b[39;49m, title\u001b[39m=\u001b[39;49m\u001b[39m'\u001b[39;49m\u001b[39m$m_5 = 150$ MeV,  $\u001b[39;49m\u001b[39m\\\u001b[39;49m\u001b[39mDelta_\u001b[39;49m\u001b[39m{54}\u001b[39;49;00m\u001b[39m = 0.4$,  $m_\u001b[39;49m\u001b[39m{\u001b[39;49m\u001b[39mZ^\u001b[39;49m\u001b[39m\\\u001b[39;49m\u001b[39mprime} = 30$ MeV\u001b[39;49m\u001b[39m'\u001b[39;49m)\n\u001b[1;32m      <a href='vscode-notebook-cell:/Users/matheushostert/Repos/DarkNews-generator/examples/microboone_study.ipynb#X10sZmlsZQ%3D%3D?line=3'>4</a>\u001b[0m MBplotter(final_dfs[\u001b[39m2\u001b[39m], \u001b[39m'\u001b[39m\u001b[39mBP heavy vector\u001b[39m\u001b[39m'\u001b[39m, title\u001b[39m=\u001b[39m\u001b[39m'\u001b[39m\u001b[39m$m_5 = 150$ MeV,  $\u001b[39m\u001b[39m\\\u001b[39m\u001b[39mDelta_\u001b[39m\u001b[39m{54}\u001b[39;00m\u001b[39m = 0.4$,  $m_\u001b[39m\u001b[39m{\u001b[39m\u001b[39mZ^\u001b[39m\u001b[39m\\\u001b[39m\u001b[39mprime} = 1.25$ GeV\u001b[39m\u001b[39m'\u001b[39m)\n\u001b[1;32m      <a href='vscode-notebook-cell:/Users/matheushostert/Repos/DarkNews-generator/examples/microboone_study.ipynb#X10sZmlsZQ%3D%3D?line=4'>5</a>\u001b[0m MBplotter(final_dfs[\u001b[39m3\u001b[39m], \u001b[39m'\u001b[39m\u001b[39mBP light scalar\u001b[39m\u001b[39m'\u001b[39m, title\u001b[39m=\u001b[39m\u001b[39m'\u001b[39m\u001b[39m$m_5 = 200$ MeV,  $\u001b[39m\u001b[39m\\\u001b[39m\u001b[39mDelta_\u001b[39m\u001b[39m{54}\u001b[39;00m\u001b[39m = 1$,  $m_\u001b[39m\u001b[39m{\u001b[39m\u001b[39mh^\u001b[39m\u001b[39m\\\u001b[39m\u001b[39mprime} = 30$ MeV\u001b[39m\u001b[39m'\u001b[39m)\n",
      "File \u001b[0;32m~/Repos/DarkNews-generator/examples/ToyAnalysis/plot_tools.py:41\u001b[0m, in \u001b[0;36mplot_all_rates\u001b[0;34m(df, case_name, Nevents, truth_plots, title, path, loc)\u001b[0m\n\u001b[1;32m     35\u001b[0m \u001b[39m# get observables at MiniBooNE\u001b[39;00m\n\u001b[1;32m     36\u001b[0m bag_reco_MB \u001b[39m=\u001b[39m analysis_decay\u001b[39m.\u001b[39mdecay_selection(\n\u001b[1;32m     37\u001b[0m                                             analysis\u001b[39m.\u001b[39mcompute_spectrum(df, EVENT_TYPE\u001b[39m=\u001b[39m\u001b[39m'\u001b[39m\u001b[39mboth\u001b[39m\u001b[39m'\u001b[39m),\n\u001b[1;32m     38\u001b[0m                                             experiment\u001b[39m=\u001b[39m\u001b[39m'\u001b[39m\u001b[39mminiboone\u001b[39m\u001b[39m'\u001b[39m,\n\u001b[1;32m     39\u001b[0m                                             l_decay_proper_cm\u001b[39m=\u001b[39mdf\u001b[39m.\u001b[39mattrs[\u001b[39m'\u001b[39m\u001b[39mN5_ctau0\u001b[39m\u001b[39m'\u001b[39m])\n\u001b[0;32m---> 41\u001b[0m batch_plot_signalMB(bag_reco_MB, PATH_MB, BP\u001b[39m=\u001b[39;49mcase_name, title\u001b[39m=\u001b[39;49mtitle, NEVENTS\u001b[39m=\u001b[39;49mNevents, loc\u001b[39m=\u001b[39;49mloc)\n\u001b[1;32m     43\u001b[0m \u001b[39m# plot true variables for MiniBooNE\u001b[39;00m\n\u001b[1;32m     44\u001b[0m \u001b[39mif\u001b[39;00m truth_plots:\n",
      "\u001b[0;31mTypeError\u001b[0m: batch_plot_signalMB() got an unexpected keyword argument 'BP'"
     ]
    }
   ],
   "source": [
    "# Im missing the miniboone plots for TMM\n",
    "\n",
    "MBplotter(final_dfs[1], 'BP light vector', title='$m_5 = 150$ MeV,  $\\Delta_{54} = 0.4$,  $m_{Z^\\prime} = 30$ MeV')\n",
    "MBplotter(final_dfs[2], 'BP heavy vector', title='$m_5 = 150$ MeV,  $\\Delta_{54} = 0.4$,  $m_{Z^\\prime} = 1.25$ GeV')\n",
    "MBplotter(final_dfs[3], 'BP light scalar', title='$m_5 = 200$ MeV,  $\\Delta_{54} = 1$,  $m_{h^\\prime} = 30$ MeV')\n",
    "MBplotter(final_dfs[4], 'BP heavy scalar', title='$m_5 = 200$ MeV,  $\\Delta_{54} = 1$,  $m_{h^\\prime} = 1.0$ MeV')"
   ]
  },
  {
   "cell_type": "markdown",
   "id": "6d886bce",
   "metadata": {},
   "source": [
    "# Test the geometries a bit"
   ]
  },
  {
   "cell_type": "code",
   "execution_count": 8,
   "id": "39753cc4",
   "metadata": {},
   "outputs": [],
   "source": [
    "\n",
    "# geometry of muBoone\n",
    "#cryostat vessel\n",
    "r_muB = 191.61\n",
    "l_muB  = 1086.49\n",
    "#detector\n",
    "z_muB = 1040.\n",
    "x_muB = 256.\n",
    "y_muB = 232.\n",
    "dif_z = l_muB - z_muB\n",
    "#outer spheres\n",
    "r_s_muB = 305.250694958\n",
    "theta_lim_muB = 38.8816337686 * np.pi / 180.0\n",
    "#how much volume for each - rates\n",
    "sphere_cut_muB = 0.030441980173709752\n",
    "cylinder_cut_muB = 1. - 2*sphere_cut_muB\n",
    "\n",
    "precision = 1e-8\n",
    "def get_distances(p0, phat, experiment):\n",
    "    \"\"\"get_distances_in_muB gets the distance to the entry and exit \n",
    "    of the MicroBooNE fiducial volume\n",
    "\n",
    "    NOTE: this function uses a coordinate system with (0,0,0) being the center \n",
    "    of the MicroBooNE detector in the xy plane AND the most upstream point of the \n",
    "    detector in the z position (the tip of the first spherical cap).\n",
    "\n",
    "    Parameters\n",
    "    ----------\n",
    "    p0 : np.ndarray\n",
    "        point of HNL production\n",
    "    phat : np.ndarray\n",
    "        direction of travel of HNL\n",
    "    experiment :\n",
    "        what experiment to find the distances for 'microboone', 'sbnd'\n",
    "\n",
    "    Returns\n",
    "    -------\n",
    "    2 np.ndarrays\n",
    "        one array for the distance of entry and one for the exit\n",
    "    \"\"\"\n",
    "\n",
    "    # number of events\n",
    "    n = len(p0.T)\n",
    "\n",
    "    # positions of the 6 walls of the cryostat in order (2 for X, 2 for Y, 2 for Z)\n",
    "    if experiment == 'microboone':\n",
    "        planes = np.array([-x_muB/2,x_muB/2,-y_muB/2,y_muB/2,dif_z/2,z_muB + dif_z/2])\n",
    "    elif experiment == 'sbnd':\n",
    "        planes = np.array([-x_sbnd/2,x_sbnd/2,-y_sbnd/2,y_sbnd/2,dif_z_sbnd/2,z_sbnd + dif_z_sbnd/2])\n",
    "\n",
    "    # suitable forms for parameters\n",
    "    p0_6 = np.array([p0[0], p0[0], p0[1], p0[1], p0[2], p0[2]]).T\n",
    "    phat_6 = np.array([phat[0], phat[0], phat[1], phat[1], phat[2], phat[2]]).T\n",
    "\n",
    "    # find solutions and intersections of P0 + phat*t = planes, for parameter t\n",
    "    solutions = (planes - p0_6) / phat_6\n",
    "    # intersections = [[p0[:,i] + solutions[i,j] * phat[:,i] for j in range(6)] for i in range(n)]\n",
    "    intersections = [p0 + solutions[:,j] * phat for j in range(6)]\n",
    "\n",
    "\n",
    "    # create a mask with invalid intersections\n",
    "    mask_inter = np.array([[\n",
    "        (planes[0] - precision <= intersections[i][j][0] <= planes[1] + precision)\\\n",
    "      & (planes[2] - precision <= intersections[i][j][1] <= planes[3] + precision)\\\n",
    "      & (planes[4] - precision <= intersections[i][j][2] <= planes[5] + precision)\\\n",
    "      & (solutions[i,j] > -precision) for j in range(6)] for i in range(n)])\n",
    "\n",
    "    # compute the distances from the previous calculations\n",
    "    distances = np.zeros((n,2))\n",
    "    for i in range(n):\n",
    "        dist_temp = solutions[i][mask_inter[i]]\n",
    "        if len(dist_temp) == 2:\n",
    "            distances[i] = dist_temp\n",
    "        elif len(dist_temp) == 1:\n",
    "            distances[i] = [0, dist_temp[0]]\n",
    "        else:\n",
    "            distances[i] = [0,0]\n",
    "\n",
    "    # return the distances\n",
    "    return distances"
   ]
  },
  {
   "cell_type": "code",
   "execution_count": 9,
   "id": "0ac79e71",
   "metadata": {},
   "outputs": [
    {
     "ename": "NameError",
     "evalue": "name 'p0' is not defined",
     "output_type": "error",
     "traceback": [
      "\u001b[0;31m---------------------------------------------------------------------------\u001b[0m",
      "\u001b[0;31mNameError\u001b[0m                                 Traceback (most recent call last)",
      "\u001b[1;32m/Users/matheushostert/Repos/DarkNews-generator/examples/microboone_study.ipynb Cell 17\u001b[0m in \u001b[0;36m<cell line: 1>\u001b[0;34m()\u001b[0m\n\u001b[0;32m----> <a href='vscode-notebook-cell:/Users/matheushostert/Repos/DarkNews-generator/examples/microboone_study.ipynb#X31sZmlsZQ%3D%3D?line=0'>1</a>\u001b[0m d2, d1 \u001b[39m=\u001b[39m get_distances(p0, phat, \u001b[39m'\u001b[39m\u001b[39mmicroboone\u001b[39m\u001b[39m'\u001b[39m)\n",
      "\u001b[0;31mNameError\u001b[0m: name 'p0' is not defined"
     ]
    }
   ],
   "source": [
    "d2, d1 = get_distances(p0, phat, 'microboone')"
   ]
  },
  {
   "cell_type": "code",
   "execution_count": 10,
   "id": "e34cabb2",
   "metadata": {},
   "outputs": [
    {
     "ename": "IndexError",
     "evalue": "index 3 is out of bounds for axis 0 with size 3",
     "output_type": "error",
     "traceback": [
      "\u001b[0;31m---------------------------------------------------------------------------\u001b[0m",
      "\u001b[0;31mIndexError\u001b[0m                                Traceback (most recent call last)",
      "\u001b[1;32m/Users/matheushostert/Repos/DarkNews-generator/examples/microboone_study.ipynb Cell 18\u001b[0m in \u001b[0;36m<cell line: 12>\u001b[0;34m()\u001b[0m\n\u001b[1;32m      <a href='vscode-notebook-cell:/Users/matheushostert/Repos/DarkNews-generator/examples/microboone_study.ipynb#X26sZmlsZQ%3D%3D?line=5'>6</a>\u001b[0m \u001b[39m# production point\u001b[39;00m\n\u001b[1;32m      <a href='vscode-notebook-cell:/Users/matheushostert/Repos/DarkNews-generator/examples/microboone_study.ipynb#X26sZmlsZQ%3D%3D?line=6'>7</a>\u001b[0m p0 \u001b[39m=\u001b[39m np\u001b[39m.\u001b[39marray([df[\u001b[39m'\u001b[39m\u001b[39mpos_scatt\u001b[39m\u001b[39m'\u001b[39m,\u001b[39m'\u001b[39m\u001b[39m1\u001b[39m\u001b[39m'\u001b[39m], df[\u001b[39m'\u001b[39m\u001b[39mpos_scatt\u001b[39m\u001b[39m'\u001b[39m,\u001b[39m'\u001b[39m\u001b[39m2\u001b[39m\u001b[39m'\u001b[39m], df[\u001b[39m'\u001b[39m\u001b[39mpos_scatt\u001b[39m\u001b[39m'\u001b[39m,\u001b[39m'\u001b[39m\u001b[39m3\u001b[39m\u001b[39m'\u001b[39m]])\n\u001b[0;32m---> <a href='vscode-notebook-cell:/Users/matheushostert/Repos/DarkNews-generator/examples/microboone_study.ipynb#X26sZmlsZQ%3D%3D?line=11'>12</a>\u001b[0m d2, d1 \u001b[39m=\u001b[39m get_distances(p0, phat, \u001b[39m'\u001b[39;49m\u001b[39mmicroboone\u001b[39;49m\u001b[39m'\u001b[39;49m)\u001b[39m.\u001b[39mT\n\u001b[1;32m     <a href='vscode-notebook-cell:/Users/matheushostert/Repos/DarkNews-generator/examples/microboone_study.ipynb#X26sZmlsZQ%3D%3D?line=13'>14</a>\u001b[0m np\u001b[39m.\u001b[39msum(d1 \u001b[39m-\u001b[39m d2)\n",
      "\u001b[1;32m/Users/matheushostert/Repos/DarkNews-generator/examples/microboone_study.ipynb Cell 18\u001b[0m in \u001b[0;36mget_distances\u001b[0;34m(p0, phat, experiment)\u001b[0m\n\u001b[1;32m     <a href='vscode-notebook-cell:/Users/matheushostert/Repos/DarkNews-generator/examples/microboone_study.ipynb#X26sZmlsZQ%3D%3D?line=56'>57</a>\u001b[0m intersections \u001b[39m=\u001b[39m [p0 \u001b[39m+\u001b[39m solutions[:,j] \u001b[39m*\u001b[39m phat \u001b[39mfor\u001b[39;00m j \u001b[39min\u001b[39;00m \u001b[39mrange\u001b[39m(\u001b[39m6\u001b[39m)]\n\u001b[1;32m     <a href='vscode-notebook-cell:/Users/matheushostert/Repos/DarkNews-generator/examples/microboone_study.ipynb#X26sZmlsZQ%3D%3D?line=59'>60</a>\u001b[0m \u001b[39m# create a mask with invalid intersections\u001b[39;00m\n\u001b[0;32m---> <a href='vscode-notebook-cell:/Users/matheushostert/Repos/DarkNews-generator/examples/microboone_study.ipynb#X26sZmlsZQ%3D%3D?line=60'>61</a>\u001b[0m mask_inter \u001b[39m=\u001b[39m np\u001b[39m.\u001b[39marray([[\n\u001b[1;32m     <a href='vscode-notebook-cell:/Users/matheushostert/Repos/DarkNews-generator/examples/microboone_study.ipynb#X26sZmlsZQ%3D%3D?line=61'>62</a>\u001b[0m     (planes[\u001b[39m0\u001b[39m] \u001b[39m-\u001b[39m precision \u001b[39m<\u001b[39m\u001b[39m=\u001b[39m intersections[i][j][\u001b[39m0\u001b[39m] \u001b[39m<\u001b[39m\u001b[39m=\u001b[39m planes[\u001b[39m1\u001b[39m] \u001b[39m+\u001b[39m precision)\\\n\u001b[1;32m     <a href='vscode-notebook-cell:/Users/matheushostert/Repos/DarkNews-generator/examples/microboone_study.ipynb#X26sZmlsZQ%3D%3D?line=62'>63</a>\u001b[0m   \u001b[39m&\u001b[39m (planes[\u001b[39m2\u001b[39m] \u001b[39m-\u001b[39m precision \u001b[39m<\u001b[39m\u001b[39m=\u001b[39m intersections[i][j][\u001b[39m1\u001b[39m] \u001b[39m<\u001b[39m\u001b[39m=\u001b[39m planes[\u001b[39m3\u001b[39m] \u001b[39m+\u001b[39m precision)\\\n\u001b[1;32m     <a href='vscode-notebook-cell:/Users/matheushostert/Repos/DarkNews-generator/examples/microboone_study.ipynb#X26sZmlsZQ%3D%3D?line=63'>64</a>\u001b[0m   \u001b[39m&\u001b[39m (planes[\u001b[39m4\u001b[39m] \u001b[39m-\u001b[39m precision \u001b[39m<\u001b[39m\u001b[39m=\u001b[39m intersections[i][j][\u001b[39m2\u001b[39m] \u001b[39m<\u001b[39m\u001b[39m=\u001b[39m planes[\u001b[39m5\u001b[39m] \u001b[39m+\u001b[39m precision)\\\n\u001b[1;32m     <a href='vscode-notebook-cell:/Users/matheushostert/Repos/DarkNews-generator/examples/microboone_study.ipynb#X26sZmlsZQ%3D%3D?line=64'>65</a>\u001b[0m   \u001b[39m&\u001b[39m (solutions[i,j] \u001b[39m>\u001b[39m \u001b[39m-\u001b[39mprecision) \u001b[39mfor\u001b[39;00m j \u001b[39min\u001b[39;00m \u001b[39mrange\u001b[39m(\u001b[39m6\u001b[39m)] \u001b[39mfor\u001b[39;00m i \u001b[39min\u001b[39;00m \u001b[39mrange\u001b[39m(n)])\n\u001b[1;32m     <a href='vscode-notebook-cell:/Users/matheushostert/Repos/DarkNews-generator/examples/microboone_study.ipynb#X26sZmlsZQ%3D%3D?line=66'>67</a>\u001b[0m \u001b[39m# compute the distances from the previous calculations\u001b[39;00m\n\u001b[1;32m     <a href='vscode-notebook-cell:/Users/matheushostert/Repos/DarkNews-generator/examples/microboone_study.ipynb#X26sZmlsZQ%3D%3D?line=67'>68</a>\u001b[0m distances \u001b[39m=\u001b[39m np\u001b[39m.\u001b[39mzeros((n,\u001b[39m2\u001b[39m))\n",
      "\u001b[1;32m/Users/matheushostert/Repos/DarkNews-generator/examples/microboone_study.ipynb Cell 18\u001b[0m in \u001b[0;36m<listcomp>\u001b[0;34m(.0)\u001b[0m\n\u001b[1;32m     <a href='vscode-notebook-cell:/Users/matheushostert/Repos/DarkNews-generator/examples/microboone_study.ipynb#X26sZmlsZQ%3D%3D?line=56'>57</a>\u001b[0m intersections \u001b[39m=\u001b[39m [p0 \u001b[39m+\u001b[39m solutions[:,j] \u001b[39m*\u001b[39m phat \u001b[39mfor\u001b[39;00m j \u001b[39min\u001b[39;00m \u001b[39mrange\u001b[39m(\u001b[39m6\u001b[39m)]\n\u001b[1;32m     <a href='vscode-notebook-cell:/Users/matheushostert/Repos/DarkNews-generator/examples/microboone_study.ipynb#X26sZmlsZQ%3D%3D?line=59'>60</a>\u001b[0m \u001b[39m# create a mask with invalid intersections\u001b[39;00m\n\u001b[0;32m---> <a href='vscode-notebook-cell:/Users/matheushostert/Repos/DarkNews-generator/examples/microboone_study.ipynb#X26sZmlsZQ%3D%3D?line=60'>61</a>\u001b[0m mask_inter \u001b[39m=\u001b[39m np\u001b[39m.\u001b[39marray([[\n\u001b[1;32m     <a href='vscode-notebook-cell:/Users/matheushostert/Repos/DarkNews-generator/examples/microboone_study.ipynb#X26sZmlsZQ%3D%3D?line=61'>62</a>\u001b[0m     (planes[\u001b[39m0\u001b[39m] \u001b[39m-\u001b[39m precision \u001b[39m<\u001b[39m\u001b[39m=\u001b[39m intersections[i][j][\u001b[39m0\u001b[39m] \u001b[39m<\u001b[39m\u001b[39m=\u001b[39m planes[\u001b[39m1\u001b[39m] \u001b[39m+\u001b[39m precision)\\\n\u001b[1;32m     <a href='vscode-notebook-cell:/Users/matheushostert/Repos/DarkNews-generator/examples/microboone_study.ipynb#X26sZmlsZQ%3D%3D?line=62'>63</a>\u001b[0m   \u001b[39m&\u001b[39m (planes[\u001b[39m2\u001b[39m] \u001b[39m-\u001b[39m precision \u001b[39m<\u001b[39m\u001b[39m=\u001b[39m intersections[i][j][\u001b[39m1\u001b[39m] \u001b[39m<\u001b[39m\u001b[39m=\u001b[39m planes[\u001b[39m3\u001b[39m] \u001b[39m+\u001b[39m precision)\\\n\u001b[1;32m     <a href='vscode-notebook-cell:/Users/matheushostert/Repos/DarkNews-generator/examples/microboone_study.ipynb#X26sZmlsZQ%3D%3D?line=63'>64</a>\u001b[0m   \u001b[39m&\u001b[39m (planes[\u001b[39m4\u001b[39m] \u001b[39m-\u001b[39m precision \u001b[39m<\u001b[39m\u001b[39m=\u001b[39m intersections[i][j][\u001b[39m2\u001b[39m] \u001b[39m<\u001b[39m\u001b[39m=\u001b[39m planes[\u001b[39m5\u001b[39m] \u001b[39m+\u001b[39m precision)\\\n\u001b[1;32m     <a href='vscode-notebook-cell:/Users/matheushostert/Repos/DarkNews-generator/examples/microboone_study.ipynb#X26sZmlsZQ%3D%3D?line=64'>65</a>\u001b[0m   \u001b[39m&\u001b[39m (solutions[i,j] \u001b[39m>\u001b[39m \u001b[39m-\u001b[39mprecision) \u001b[39mfor\u001b[39;00m j \u001b[39min\u001b[39;00m \u001b[39mrange\u001b[39m(\u001b[39m6\u001b[39m)] \u001b[39mfor\u001b[39;00m i \u001b[39min\u001b[39;00m \u001b[39mrange\u001b[39m(n)])\n\u001b[1;32m     <a href='vscode-notebook-cell:/Users/matheushostert/Repos/DarkNews-generator/examples/microboone_study.ipynb#X26sZmlsZQ%3D%3D?line=66'>67</a>\u001b[0m \u001b[39m# compute the distances from the previous calculations\u001b[39;00m\n\u001b[1;32m     <a href='vscode-notebook-cell:/Users/matheushostert/Repos/DarkNews-generator/examples/microboone_study.ipynb#X26sZmlsZQ%3D%3D?line=67'>68</a>\u001b[0m distances \u001b[39m=\u001b[39m np\u001b[39m.\u001b[39mzeros((n,\u001b[39m2\u001b[39m))\n",
      "\u001b[1;32m/Users/matheushostert/Repos/DarkNews-generator/examples/microboone_study.ipynb Cell 18\u001b[0m in \u001b[0;36m<listcomp>\u001b[0;34m(.0)\u001b[0m\n\u001b[1;32m     <a href='vscode-notebook-cell:/Users/matheushostert/Repos/DarkNews-generator/examples/microboone_study.ipynb#X26sZmlsZQ%3D%3D?line=56'>57</a>\u001b[0m intersections \u001b[39m=\u001b[39m [p0 \u001b[39m+\u001b[39m solutions[:,j] \u001b[39m*\u001b[39m phat \u001b[39mfor\u001b[39;00m j \u001b[39min\u001b[39;00m \u001b[39mrange\u001b[39m(\u001b[39m6\u001b[39m)]\n\u001b[1;32m     <a href='vscode-notebook-cell:/Users/matheushostert/Repos/DarkNews-generator/examples/microboone_study.ipynb#X26sZmlsZQ%3D%3D?line=59'>60</a>\u001b[0m \u001b[39m# create a mask with invalid intersections\u001b[39;00m\n\u001b[1;32m     <a href='vscode-notebook-cell:/Users/matheushostert/Repos/DarkNews-generator/examples/microboone_study.ipynb#X26sZmlsZQ%3D%3D?line=60'>61</a>\u001b[0m mask_inter \u001b[39m=\u001b[39m np\u001b[39m.\u001b[39marray([[\n\u001b[0;32m---> <a href='vscode-notebook-cell:/Users/matheushostert/Repos/DarkNews-generator/examples/microboone_study.ipynb#X26sZmlsZQ%3D%3D?line=61'>62</a>\u001b[0m     (planes[\u001b[39m0\u001b[39m] \u001b[39m-\u001b[39m precision \u001b[39m<\u001b[39m\u001b[39m=\u001b[39m intersections[i][j][\u001b[39m0\u001b[39m] \u001b[39m<\u001b[39m\u001b[39m=\u001b[39m planes[\u001b[39m1\u001b[39m] \u001b[39m+\u001b[39m precision)\\\n\u001b[1;32m     <a href='vscode-notebook-cell:/Users/matheushostert/Repos/DarkNews-generator/examples/microboone_study.ipynb#X26sZmlsZQ%3D%3D?line=62'>63</a>\u001b[0m   \u001b[39m&\u001b[39m (planes[\u001b[39m2\u001b[39m] \u001b[39m-\u001b[39m precision \u001b[39m<\u001b[39m\u001b[39m=\u001b[39m intersections[i][j][\u001b[39m1\u001b[39m] \u001b[39m<\u001b[39m\u001b[39m=\u001b[39m planes[\u001b[39m3\u001b[39m] \u001b[39m+\u001b[39m precision)\\\n\u001b[1;32m     <a href='vscode-notebook-cell:/Users/matheushostert/Repos/DarkNews-generator/examples/microboone_study.ipynb#X26sZmlsZQ%3D%3D?line=63'>64</a>\u001b[0m   \u001b[39m&\u001b[39m (planes[\u001b[39m4\u001b[39m] \u001b[39m-\u001b[39m precision \u001b[39m<\u001b[39m\u001b[39m=\u001b[39m intersections[i][j][\u001b[39m2\u001b[39m] \u001b[39m<\u001b[39m\u001b[39m=\u001b[39m planes[\u001b[39m5\u001b[39m] \u001b[39m+\u001b[39m precision)\\\n\u001b[1;32m     <a href='vscode-notebook-cell:/Users/matheushostert/Repos/DarkNews-generator/examples/microboone_study.ipynb#X26sZmlsZQ%3D%3D?line=64'>65</a>\u001b[0m   \u001b[39m&\u001b[39m (solutions[i,j] \u001b[39m>\u001b[39m \u001b[39m-\u001b[39mprecision) \u001b[39mfor\u001b[39;00m j \u001b[39min\u001b[39;00m \u001b[39mrange\u001b[39m(\u001b[39m6\u001b[39m)] \u001b[39mfor\u001b[39;00m i \u001b[39min\u001b[39;00m \u001b[39mrange\u001b[39m(n)])\n\u001b[1;32m     <a href='vscode-notebook-cell:/Users/matheushostert/Repos/DarkNews-generator/examples/microboone_study.ipynb#X26sZmlsZQ%3D%3D?line=66'>67</a>\u001b[0m \u001b[39m# compute the distances from the previous calculations\u001b[39;00m\n\u001b[1;32m     <a href='vscode-notebook-cell:/Users/matheushostert/Repos/DarkNews-generator/examples/microboone_study.ipynb#X26sZmlsZQ%3D%3D?line=67'>68</a>\u001b[0m distances \u001b[39m=\u001b[39m np\u001b[39m.\u001b[39mzeros((n,\u001b[39m2\u001b[39m))\n",
      "\u001b[0;31mIndexError\u001b[0m: index 3 is out of bounds for axis 0 with size 3"
     ]
    }
   ],
   "source": [
    "pN = df.P_decay_N_parent.values\n",
    "l_decay_lab_cm = ta.analysis_decay.get_decay_length_in_lab(pN, df.attrs['N5_ctau0'])\n",
    "# direction of travel of the HNL.\n",
    "phat = ta.analysis_decay.get_3direction(pN)\n",
    "\n",
    "# production point\n",
    "p0 = np.array([df['pos_scatt','1'], df['pos_scatt','2'], df['pos_scatt','3']])\n",
    "\n",
    "\n",
    "\n",
    "\n",
    "d2, d1 = get_distances(p0, phat, 'microboone').T\n",
    "\n",
    "np.sum(d1 - d2)\n"
   ]
  },
  {
   "cell_type": "code",
   "execution_count": null,
   "id": "1bb7d4e0",
   "metadata": {},
   "outputs": [],
   "source": [
    "plt.hist(np.exp(-d2/l_decay_lab_cm) - np.exp(-d1/l_decay_lab_cm))\n"
   ]
  },
  {
   "cell_type": "markdown",
   "id": "2bc9b981",
   "metadata": {},
   "source": []
  }
 ],
 "metadata": {
  "kernelspec": {
   "display_name": "Python 3.9.12 ('base')",
   "language": "python",
   "name": "python3"
  },
  "language_info": {
   "codemirror_mode": {
    "name": "ipython",
    "version": 3
   },
   "file_extension": ".py",
   "mimetype": "text/x-python",
   "name": "python",
   "nbconvert_exporter": "python",
   "pygments_lexer": "ipython3",
   "version": "3.9.12"
  },
  "vscode": {
   "interpreter": {
    "hash": "3067ead486e059ec00ffe7555bdb889e6e264a24dc711bf108106cc7baee8d5d"
   }
  }
 },
 "nbformat": 4,
 "nbformat_minor": 5
}
