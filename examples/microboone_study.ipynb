{
 "cells": [
  {
   "cell_type": "code",
   "execution_count": 1,
   "id": "f0e1e379",
   "metadata": {},
   "outputs": [],
   "source": [
    "import numpy as np\n",
    "import pandas as pd\n",
    "from matplotlib import pyplot as plt\n",
    "\n",
    "import DarkNews as dn\n",
    "\n",
    "from DarkNews import const\n",
    "\n",
    "from DarkNews.GenLauncher import GenLauncher\n",
    "\n",
    "from DarkNews import Cfourvec as Cfv\n",
    "\n",
    "from particle import literals as lp\n",
    "from pathlib import Path\n",
    "\n",
    "from ToyAnalysis import analysis_decay as ad\n",
    "from ToyAnalysis import analysis as an\n",
    "from ToyAnalysis import fit_functions as fit\n",
    "from ToyAnalysis.plot_tools import plot_all_rates as MBplotter\n",
    "from pathlib import Path\n",
    "\n",
    "from DarkNews.MC import get_merged_MC_output\n",
    "import scipy\n",
    "from DarkNews.fourvec import df_dot3\n",
    "def get_pval(df_prob, ndof=6.7):\n",
    "    bin_e = np.genfromtxt(f'ToyAnalysis/data/MB_data_release/nue2020/numode/miniboone_binboundaries_nue_lowe.txt')\n",
    "    NP_MC, _ = np.histogram(df_prob['reco_Enu']*1e3, weights=df_prob['reco_w'], bins=bin_e)\n",
    "    bw = bin_e[1:]-bin_e[:-1]\n",
    "    plt.step((bin_e[1:]+bin_e[:-1])/2,NP_MC/bw, where ='mid')\n",
    "    chi2=fit.chi2_MiniBooNE_2020(NP_MC, NP_MC.sum())\n",
    "    return scipy.stats.chi2.sf(chi2, 8.7)\n",
    "\n",
    "def print_summary_of_event(df, col='w_event_rate', summary='Events'):\n",
    "    coherent = (df['scattering_regime'] == 'coherent')\n",
    "    pel = (df['scattering_regime'] == 'p-el')\n",
    "    nel = (df['scattering_regime'] == 'n-el')\n",
    "    print(f\"{summary}: {df[col].sum():.2g} total ({df[col][coherent].sum():.2g} coh : {df[col][pel].sum():.2g} pel : {df[col][nel].sum():.2g} nel)\")\n"
   ]
  },
  {
   "cell_type": "code",
   "execution_count": null,
   "id": "abb8ea93",
   "metadata": {},
   "outputs": [],
   "source": [
    "common_kwargs = {'loglevel': 'ERROR', 'HNLtype': 'dirac', 'neval': 1e4}\n",
    "\n",
    "# TMM\n",
    "kwargs = {'mu_tr_mu4': 1.4e-6, 'm4': 0.470, 'decay_product': 'photon'}\n",
    "gen_1 = dn.GenLauncher(experiment='miniboone_fhc', **kwargs, **common_kwargs)\n",
    "gen_1_dirt = dn.GenLauncher(experiment='miniboone_fhc_dirt', **kwargs, **common_kwargs)\n",
    "genmuB_1 = dn.GenLauncher(experiment='microboone', **kwargs, **common_kwargs)\n",
    "genmuB_1_dirt = dn.GenLauncher(experiment='microboone_dirt', **kwargs, **common_kwargs)\n",
    "df_1 = gen_1.run()\n",
    "df_1_dirt = gen_1_dirt.run()\n",
    "df_1_muB = genmuB_1.run()\n",
    "df_1_muB_dirt = genmuB_1_dirt.run()\n",
    "\n",
    "# Vectors\n",
    "M4 = 0.107\n",
    "M5 = 0.150\n",
    "kwargs = {'d_mu5': 0.0002, 'd_45': 1, 'dprotonV': 3.4e-4*const.eQED, 'deV': 3.4e-4*const.eQED, 'mzprime': 0.03, 'm4': M4, 'm5': M5}\n",
    "gen_2 = dn.GenLauncher(experiment='miniboone_fhc', **kwargs, **common_kwargs)\n",
    "gen_2_dirt = dn.GenLauncher(experiment='miniboone_fhc_dirt', **kwargs, **common_kwargs)\n",
    "gen_2_muB = dn.GenLauncher(experiment='microboone', **kwargs, **common_kwargs)\n",
    "gen_2_muB_dirt = dn.GenLauncher(experiment='microboone_dirt', **kwargs, **common_kwargs)\n",
    "df_2 = gen_2.run()\n",
    "df_2_dirt = gen_2_dirt.run()\n",
    "df_2_muB = gen_2_muB.run()\n",
    "df_2_muB_dirt = gen_2_muB_dirt.run()\n",
    "\n",
    "kwargs = {'d_mu5': 0.0002, 'd_45': 1, 'dprotonV': 3.4e-4*const.eQED, 'deV': 3.4e-4*const.eQED, 'mzprime': 0.03, 'm4': M4, 'm5': M5}\n",
    "kwargs = {'UD4': 1/np.sqrt(2), 'UD5': 1/np.sqrt(2), 'Umu5': 1e-3, 'Umu4': 1e-3, 'gD': 2, 'epsilon': 0.75e-2, 'mzprime': 1.25, 'm4': M4, 'm5': M5}\n",
    "gen_3 = dn.GenLauncher(experiment='miniboone_fhc',  **kwargs, **common_kwargs)\n",
    "gen_3_dirt = dn.GenLauncher(experiment='miniboone_fhc_dirt',  **kwargs, **common_kwargs)\n",
    "gen_3_muB = dn.GenLauncher(experiment='microboone', **kwargs, **common_kwargs)\n",
    "gen_3_muB_dirt = dn.GenLauncher(experiment='microboone_dirt', **kwargs, **common_kwargs)\n",
    "df_3 = gen_3.run()\n",
    "df_3_dirt = gen_3_dirt.run()\n",
    "df_3_muB = gen_3_muB.run()\n",
    "df_3_muB_dirt = gen_3_muB_dirt.run()\n",
    "\n",
    "# Scalars\n",
    "M4 = 0.140\n",
    "M5 = 0.2\n",
    "theta_e = 2.5e-3\n",
    "theta_numu = 4e-3\n",
    "theta_nucleon = 4e-3\n",
    "kwargs = {'mzprime': None, 'mhprime': 1.0, 'm4': M4, 'm5': M5, 's_mu5': theta_numu, 's_45': 1.0,  'deS': theta_e, 'dprotonS': theta_nucleon, 'dneutronS': theta_nucleon}\n",
    "gen_4 = dn.GenLauncher(experiment='miniboone_fhc', **kwargs, **common_kwargs)\n",
    "gen_4_dirt = dn.GenLauncher(experiment='miniboone_fhc_dirt', **kwargs, **common_kwargs)\n",
    "gen_4_muB = dn.GenLauncher(experiment='microboone', **kwargs, **common_kwargs)\n",
    "gen_4_muB_dirt = dn.GenLauncher(experiment='microboone_dirt', **kwargs, **common_kwargs)\n",
    "df_4 = gen_4.run()\n",
    "df_4_dirt = gen_4_dirt.run()\n",
    "df_4_muB = gen_4_muB.run()\n",
    "df_4_muB_dirt = gen_4_muB_dirt.run()\n",
    "\n",
    "\n",
    "theta_e = 0.8e-3\n",
    "theta_numu = 1e-3\n",
    "theta_nucleon = 1.4e-4\n",
    "kwargs = {'mzprime': None, 'mhprime': 0.03, 'm4': M4, 'm5': M5, 's_mu5': theta_numu, 's_45': 1.0,  'deS': theta_e, 'dprotonS': theta_nucleon, 'dneutronS': theta_nucleon}\n",
    "gen_5 = dn.GenLauncher(experiment='miniboone_fhc', **kwargs, **common_kwargs)\n",
    "gen_5_dirt = dn.GenLauncher(experiment='miniboone_fhc_dirt', **kwargs, **common_kwargs)\n",
    "gen_5_muB = dn.GenLauncher(experiment='microboone',**kwargs, **common_kwargs)\n",
    "gen_5_muB_dirt = dn.GenLauncher(experiment='microboone_dirt',**kwargs, **common_kwargs)\n",
    "df_5 = gen_5.run()\n",
    "df_5_dirt = gen_5_dirt.run()\n",
    "df_5_muB = gen_5_muB.run()\n",
    "df_5_muB_dirt = gen_5_muB_dirt.run()\n"
   ]
  },
  {
   "cell_type": "code",
   "execution_count": null,
   "id": "3b701a42",
   "metadata": {},
   "outputs": [],
   "source": [
    "### Performing analysis "
   ]
  },
  {
   "cell_type": "code",
   "execution_count": null,
   "id": "eb7f8a7b",
   "metadata": {},
   "outputs": [],
   "source": [
    "my_dfs = [df_1, df_2, df_3, df_4, df_5]\n",
    "my_dfs_dirt = [df_1_dirt, df_2_dirt, df_3_dirt, df_4_dirt, df_5_dirt]\n",
    "my_dfs_muB = [df_1_muB, df_2_muB, df_3_muB, df_4_muB, df_5_muB]\n",
    "my_dfs_muB_dirt = [df_1_muB_dirt, df_2_muB_dirt, df_3_muB_dirt, df_4_muB_dirt, df_5_muB_dirt]\n",
    "\n",
    "##########\n",
    "# MiniBooNE -- smear, signal selection and filter decays\n",
    "my_dfs_prob = []\n",
    "my_dfs_dirt_prob = []\n",
    "final_dfs = []\n",
    "for df, dfd in zip(my_dfs, my_dfs_dirt):\n",
    "    if df.attrs['model'].mu_tr_mu4 > 0:\n",
    "        dfp   = an.compute_spectrum(ad.decay_selection(df, l_decay_proper_cm=df.attrs['N4_ctau0'], experiment='miniboone'), EVENT_TYPE='photon')\n",
    "        dfp_d = an.compute_spectrum(ad.decay_selection(dfd, l_decay_proper_cm=dfd.attrs['N4_ctau0'], experiment='miniboone'), EVENT_TYPE='photon')\n",
    "    else:\n",
    "        dfp   = an.compute_spectrum(ad.decay_selection(df, l_decay_proper_cm=df.attrs['N5_ctau0'], experiment='miniboone'), EVENT_TYPE='both')\n",
    "        dfp_d = an.compute_spectrum(ad.decay_selection(dfd, l_decay_proper_cm=dfd.attrs['N5_ctau0'], experiment='miniboone'), EVENT_TYPE='both')\n",
    "    my_dfs_prob.append(dfp)\n",
    "    my_dfs_dirt_prob.append(dfp_d)\n",
    "    final_dfs.append(get_merged_MC_output(dfp,dfp_d))\n",
    "\n",
    "##########\n",
    "# MicroBooNE -- smear, signal selection and filter decays\n",
    "my_dfs_muB_prob = []\n",
    "my_dfs_muB_dirt_prob = []\n",
    "final_dfs_muB = []\n",
    "for df, dfd in zip(my_dfs_muB, my_dfs_muB_dirt):\n",
    "    if df.attrs['model'].mu_tr_mu4 > 0:\n",
    "        dfp   = an.compute_spectrum(ad.decay_selection(df, l_decay_proper_cm=df.attrs['N4_ctau0'], experiment='microboone'), EVENT_TYPE='photon', EXP='microboone')\n",
    "        dfp_d = an.compute_spectrum(ad.decay_selection(dfd, l_decay_proper_cm=dfd.attrs['N4_ctau0'], experiment='microboone'), EVENT_TYPE='photon', EXP='microboone')\n",
    "    else:\n",
    "        dfp   = an.compute_spectrum(ad.decay_selection(df, l_decay_proper_cm=df.attrs['N5_ctau0'], experiment='microboone'), EVENT_TYPE='both', EXP='microboone')\n",
    "        dfp_d = an.compute_spectrum(ad.decay_selection(dfd, l_decay_proper_cm=dfd.attrs['N5_ctau0'], experiment='microboone'), EVENT_TYPE='both', EXP='microboone')\n",
    "    my_dfs_muB_prob.append(dfp)\n",
    "    my_dfs_muB_dirt_prob.append(dfp_d)\n",
    "    final_dfs_muB.append(get_merged_MC_output(dfp,dfp_d))"
   ]
  },
  {
   "cell_type": "code",
   "execution_count": 2,
   "id": "2fba8ad9",
   "metadata": {},
   "outputs": [],
   "source": [
    "### Some tests"
   ]
  },
  {
   "cell_type": "code",
   "execution_count": 3,
   "id": "f8614dce",
   "metadata": {},
   "outputs": [
    {
     "ename": "NameError",
     "evalue": "name 'final_dfs' is not defined",
     "output_type": "error",
     "traceback": [
      "\u001b[0;31m---------------------------------------------------------------------------\u001b[0m",
      "\u001b[0;31mNameError\u001b[0m                                 Traceback (most recent call last)",
      "\u001b[1;32m/Users/matheushostert/Repos/DarkNews-generator/examples/Untitled.ipynb Cell 7\u001b[0m in \u001b[0;36m<cell line: 1>\u001b[0;34m()\u001b[0m\n\u001b[0;32m----> <a href='vscode-notebook-cell:/Users/matheushostert/Repos/DarkNews-generator/examples/Untitled.ipynb#X26sZmlsZQ%3D%3D?line=0'>1</a>\u001b[0m df \u001b[39m=\u001b[39m final_dfs[\u001b[39m2\u001b[39m]\n\u001b[1;32m      <a href='vscode-notebook-cell:/Users/matheushostert/Repos/DarkNews-generator/examples/Untitled.ipynb#X26sZmlsZQ%3D%3D?line=1'>2</a>\u001b[0m dirt_mask \u001b[39m=\u001b[39m (df[\u001b[39m'\u001b[39m\u001b[39mpos_scatt\u001b[39m\u001b[39m'\u001b[39m,\u001b[39m'\u001b[39m\u001b[39m3\u001b[39m\u001b[39m'\u001b[39m]\u001b[39m<\u001b[39m\u001b[39m-\u001b[39m\u001b[39m610\u001b[39m)\n\u001b[1;32m      <a href='vscode-notebook-cell:/Users/matheushostert/Repos/DarkNews-generator/examples/Untitled.ipynb#X26sZmlsZQ%3D%3D?line=2'>3</a>\u001b[0m tmax \u001b[39m=\u001b[39m \u001b[39m100\u001b[39m\n",
      "\u001b[0;31mNameError\u001b[0m: name 'final_dfs' is not defined"
     ]
    }
   ],
   "source": [
    "df = final_dfs[2]\n",
    "dirt_mask = (df['pos_scatt','3']<-610)\n",
    "tmax = 100\n",
    "_ = plt.hist(df['pos_decay','0'][dirt_mask]*1e9, weights=df['reco_w'][dirt_mask], bins=np.linspace(0,tmax, 21), histtype='bar', color='black',\n",
    "            label='dirt')\n",
    "ht,_,_ = plt.hist(df['pos_decay','0']*1e9, weights=df['reco_w'], bins=np.linspace(0,tmax, 21), histtype='step', color='black',\n",
    "            label='total')\n",
    "\n",
    "plt.vlines(10,0,1e3, colors='black', ls='--')\n",
    "plt.legend(loc='upper right', frameon=False)\n",
    "plt.xlabel(\"t (ns)\")\n",
    "plt.ylabel(\"events\")\n",
    "plt.xlim(0,tmax)\n",
    "plt.ylim(0,ht[0]*1.1)\n"
   ]
  },
  {
   "cell_type": "code",
   "execution_count": 4,
   "id": "36d695ff",
   "metadata": {},
   "outputs": [
    {
     "ename": "NameError",
     "evalue": "name 'final_dfs' is not defined",
     "output_type": "error",
     "traceback": [
      "\u001b[0;31m---------------------------------------------------------------------------\u001b[0m",
      "\u001b[0;31mNameError\u001b[0m                                 Traceback (most recent call last)",
      "\u001b[1;32m/Users/matheushostert/Repos/DarkNews-generator/examples/Untitled.ipynb Cell 8\u001b[0m in \u001b[0;36m<cell line: 3>\u001b[0;34m()\u001b[0m\n\u001b[1;32m      <a href='vscode-notebook-cell:/Users/matheushostert/Repos/DarkNews-generator/examples/Untitled.ipynb#X30sZmlsZQ%3D%3D?line=0'>1</a>\u001b[0m \u001b[39m## Printing summary for MiniBooNE benchmarks \u001b[39;00m\n\u001b[0;32m----> <a href='vscode-notebook-cell:/Users/matheushostert/Repos/DarkNews-generator/examples/Untitled.ipynb#X30sZmlsZQ%3D%3D?line=2'>3</a>\u001b[0m \u001b[39mfor\u001b[39;00m i, (df, df_mub) \u001b[39min\u001b[39;00m \u001b[39menumerate\u001b[39m(\u001b[39mzip\u001b[39m(final_dfs,final_dfs_muB)):\n\u001b[1;32m      <a href='vscode-notebook-cell:/Users/matheushostert/Repos/DarkNews-generator/examples/Untitled.ipynb#X30sZmlsZQ%3D%3D?line=3'>4</a>\u001b[0m     \u001b[39mif\u001b[39;00m i\u001b[39m>\u001b[39m\u001b[39m0\u001b[39m:\n\u001b[1;32m      <a href='vscode-notebook-cell:/Users/matheushostert/Repos/DarkNews-generator/examples/Untitled.ipynb#X30sZmlsZQ%3D%3D?line=4'>5</a>\u001b[0m         \u001b[39mprint\u001b[39m(\u001b[39mf\u001b[39m\u001b[39m'\u001b[39m\u001b[39m\\n\u001b[39;00m\u001b[39mBenchmark \u001b[39m\u001b[39m{\u001b[39;00mi\u001b[39m+\u001b[39m\u001b[39m1\u001b[39m\u001b[39m}\u001b[39;00m\u001b[39m: mzprime = \u001b[39m\u001b[39m{\u001b[39;00mdf\u001b[39m.\u001b[39mattrs[\u001b[39m\"\u001b[39m\u001b[39mmodel\u001b[39m\u001b[39m\"\u001b[39m]\u001b[39m.\u001b[39mmzprime\u001b[39m}\u001b[39;00m\u001b[39m, mhprime = \u001b[39m\u001b[39m{\u001b[39;00mdf\u001b[39m.\u001b[39mattrs[\u001b[39m\"\u001b[39m\u001b[39mmodel\u001b[39m\u001b[39m\"\u001b[39m]\u001b[39m.\u001b[39mmhprime\u001b[39m}\u001b[39;00m\u001b[39m'\u001b[39m)\n",
      "\u001b[0;31mNameError\u001b[0m: name 'final_dfs' is not defined"
     ]
    }
   ],
   "source": [
    "## Printing summary for MiniBooNE benchmarks \n",
    "\n",
    "for i, (df, df_mub) in enumerate(zip(final_dfs,final_dfs_muB)):\n",
    "    if i>0:\n",
    "        print(f'\\nBenchmark {i+1}: mzprime = {df.attrs[\"model\"].mzprime}, mhprime = {df.attrs[\"model\"].mhprime}')\n",
    "        print(f\"{df.attrs['N5_ctau0']}\")\n",
    "\n",
    "    else:\n",
    "        print(f'\\nBenchmark {i+1}: transition mag moment')\n",
    "        print(f\"ctau0 = {df.attrs['N4_ctau0']:2g} cm\")\n",
    "\n",
    "    print_summary_of_event(df, col='w_pre_decay',summary='Raw events at MiniBooNE')\n",
    "    print_summary_of_event(df, col='reco_w', summary='Selected events at MiniBooNE')\n",
    "    print(f'MiniBooNE p-value: {get_pval(df)}')\n",
    "    print_summary_of_event(df_mub, col='w_pre_decay',summary='Raw events at MicroBooNE')"
   ]
  },
  {
   "cell_type": "code",
   "execution_count": null,
   "id": "393516e0",
   "metadata": {},
   "outputs": [],
   "source": [
    "# Im missing the miniboone plots for TMM...\n",
    "\n",
    "\n",
    "MBplotter(final_dfs[1], 'BP light vector', title='$m_5 = 150$ MeV,  $\\Delta_{54} = 0.4$,  $m_{Z^\\prime} = 30$ MeV')\n",
    "MBplotter(final_dfs[2], 'BP heavy vector', title='$m_5 = 150$ MeV,  $\\Delta_{54} = 0.4$,  $m_{Z^\\prime} = 1.25$ GeV')\n",
    "MBplotter(final_dfs[3], 'BP light scalar', title='$m_5 = 200$ MeV,  $\\Delta_{54} = 1$,  $m_{h^\\prime} = 30$ MeV')\n",
    "MBplotter(final_dfs[4], 'BP heavy scalar', title='$m_5 = 200$ MeV,  $\\Delta_{54} = 1$,  $m_{h^\\prime} = 1.0$ MeV')"
   ]
  }
 ],
 "metadata": {
  "kernelspec": {
   "display_name": "Python 3.9.12 ('base')",
   "language": "python",
   "name": "python3"
  },
  "language_info": {
   "codemirror_mode": {
    "name": "ipython",
    "version": 3
   },
   "file_extension": ".py",
   "mimetype": "text/x-python",
   "name": "python",
   "nbconvert_exporter": "python",
   "pygments_lexer": "ipython3",
   "version": "3.9.12"
  },
  "vscode": {
   "interpreter": {
    "hash": "3067ead486e059ec00ffe7555bdb889e6e264a24dc711bf108106cc7baee8d5d"
   }
  }
 },
 "nbformat": 4,
 "nbformat_minor": 5
}
