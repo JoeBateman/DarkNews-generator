{
 "cells": [
  {
   "cell_type": "markdown",
   "metadata": {},
   "source": [
    "# Example 0\n",
    "\n",
    "This notebook generates dark neutrino events, loads them, and describes the output formats. "
   ]
  },
  {
   "cell_type": "code",
   "execution_count": 238,
   "metadata": {},
   "outputs": [
    {
     "name": "stdout",
     "output_type": "stream",
     "text": [
      "The autoreload extension is already loaded. To reload it, use:\n",
      "  %reload_ext autoreload\n"
     ]
    }
   ],
   "source": [
    "%load_ext autoreload\n",
    "%autoreload 2"
   ]
  },
  {
   "cell_type": "code",
   "execution_count": 239,
   "metadata": {},
   "outputs": [],
   "source": [
    "import os\n",
    "import numpy as np\n",
    "import pandas as pd\n",
    "\n",
    "import DarkNews as dn"
   ]
  },
  {
   "cell_type": "markdown",
   "metadata": {},
   "source": [
    "## Generating events\n",
    "\n",
    "Let us start by generating a few dark neutrino events for two cases of interest.\n",
    "\n",
    "We do this in two different ways. \n",
    "\n",
    "First using the Gen????? class, as well as via the command line functionality. In the second case we will need to import the dataframe or the HEPEVT file from the specified path."
   ]
  },
  {
   "cell_type": "code",
   "execution_count": 240,
   "metadata": {
    "scrolled": true
   },
   "outputs": [
    {
     "name": "stdout",
     "output_type": "stream",
     "text": [
      "dn_gen --mzprime=1.25 --m4=0.140 --neval=1000 --D_or_M=dirac --log=INFO\n",
      "\n",
      "\n",
      "    #########################################################\n",
      "    #   ______           _        _   _                     #\n",
      "    #   |  _  \\         | |      | \\ | |                    #\n",
      "    #   | | | |__ _ _ __| | __   |  \\| | _____      _____   #\n",
      "    #   | | | / _  | ___| |/ /   | .   |/ _ \\ \\ /\\ / / __|  #\n",
      "    #   | |/ / (_| | |  |   <    | |\\  |  __/\\ V  V /\\__ \\  #\n",
      "    #   |___/ \\__,_|_|  |_|\\_\\   \\_| \\_/\\___| \\_/\\_/ |___/  #\n",
      "    #                                                       #\n",
      "    #########################################################\n",
      "    \n",
      "Theory model used: 3+1 dirac HNL model\n",
      "\n",
      "\n",
      "Generating helicity conserving upscattering events for:\n",
      "\tnu(mu) + C12 -> N4 +  C12 -> nu(mu) + e+ + e- + C12\n",
      "\n",
      "decaying N4 using off-shell mediator.\n",
      "Generating helicity flipping upscattering events for:\n",
      "\tnu(mu) + C12 -> N4 +  C12 -> nu(mu) + e+ + e- + C12\n",
      "\n",
      "decaying N4 using off-shell mediator.\n",
      "Generating helicity conserving upscattering events for:\n",
      "\tnu(mu) + proton_in_C12 -> N4 +  proton_in_C12 -> nu(mu) + e+ + e- + proton_in_C12\n",
      "\n",
      "decaying N4 using off-shell mediator.\n",
      "Generating helicity flipping upscattering events for:\n",
      "\tnu(mu) + proton_in_C12 -> N4 +  proton_in_C12 -> nu(mu) + e+ + e- + proton_in_C12\n",
      "\n",
      "decaying N4 using off-shell mediator.\n",
      "Generating helicity conserving upscattering events for:\n",
      "\tnu(mu) + proton_in_H1 -> N4 +  proton_in_H1 -> nu(mu) + e+ + e- + proton_in_H1\n",
      "\n",
      "decaying N4 using off-shell mediator.\n",
      "Generating helicity flipping upscattering events for:\n",
      "\tnu(mu) + proton_in_H1 -> N4 +  proton_in_H1 -> nu(mu) + e+ + e- + proton_in_H1\n",
      "\n",
      "decaying N4 using off-shell mediator.\n",
      "Outputs saved in data/miniboone/3plus1/m4_0.14_mzprime_1.25_dirac/\n",
      "\n",
      "\n",
      "dn_gen --mzprime=1.25 --m5=0.140 --m5=0.080 --neval=1000 --D_or_M=majorana --log=INFO\n",
      "\n",
      "\n",
      "    #########################################################\n",
      "    #   ______           _        _   _                     #\n",
      "    #   |  _  \\         | |      | \\ | |                    #\n",
      "    #   | | | |__ _ _ __| | __   |  \\| | _____      _____   #\n",
      "    #   | | | / _  | ___| |/ /   | .   |/ _ \\ \\ /\\ / / __|  #\n",
      "    #   | |/ / (_| | |  |   <    | |\\  |  __/\\ V  V /\\__ \\  #\n",
      "    #   |___/ \\__,_|_|  |_|\\_\\   \\_| \\_/\\___| \\_/\\_/ |___/  #\n",
      "    #                                                       #\n",
      "    #########################################################\n",
      "    \n",
      "Theory model used: 3+2 majorana HNL model\n",
      "\n",
      "\n",
      "Generating helicity conserving upscattering events for:\n",
      "\tnu(mu) + C12 -> N5 +  C12 -> N4 + e+ + e- + C12\n",
      "\n",
      "decaying N5 using off-shell mediator.\n",
      "Generating helicity flipping upscattering events for:\n",
      "\tnu(mu) + C12 -> N5 +  C12 -> N4 + e+ + e- + C12\n",
      "\n",
      "decaying N5 using off-shell mediator.\n",
      "Generating helicity conserving upscattering events for:\n",
      "\tnu(mu) + proton_in_C12 -> N5 +  proton_in_C12 -> N4 + e+ + e- + proton_in_C12\n",
      "\n",
      "decaying N5 using off-shell mediator.\n",
      "Generating helicity flipping upscattering events for:\n",
      "\tnu(mu) + proton_in_C12 -> N5 +  proton_in_C12 -> N4 + e+ + e- + proton_in_C12\n",
      "\n",
      "decaying N5 using off-shell mediator.\n",
      "Generating helicity conserving upscattering events for:\n",
      "\tnu(mu) + proton_in_H1 -> N5 +  proton_in_H1 -> N4 + e+ + e- + proton_in_H1\n",
      "\n",
      "decaying N5 using off-shell mediator.\n",
      "Generating helicity flipping upscattering events for:\n",
      "\tnu(mu) + proton_in_H1 -> N5 +  proton_in_H1 -> N4 + e+ + e- + proton_in_H1\n",
      "\n",
      "decaying N5 using off-shell mediator.\n",
      "Outputs saved in data/miniboone/3plus2/m5_0.08_m4_0.14_mzprime_1.25_majorana/\n",
      "\n",
      "\n"
     ]
    }
   ],
   "source": [
    "cmd_string = \"dn_gen --mzprime=1.25 --m4=0.140 --neval=1000 --D_or_M=dirac --log=INFO\"\n",
    "const.subprocess_cmd(cmd_string)\n",
    "\n",
    "cmd_string = \"dn_gen --mzprime=1.25 --m5=0.140 --m5=0.080 --neval=1000 --D_or_M=majorana --log=INFO\"\n",
    "const.subprocess_cmd(cmd_string)\n",
    "\n",
    "### DANIELE's METHOD....\n",
    "# Gen = ....\n",
    "# df_m = Gen.run(...)"
   ]
  },
  {
   "cell_type": "code",
   "execution_count": 241,
   "metadata": {
    "scrolled": true
   },
   "outputs": [],
   "source": [
    "# loading the events generated via the command line\n",
    "df_d = pd.read_pickle('data/miniboone/3plus1/m4_0.14_mzprime_1.25_dirac/pandas_df.pckl')"
   ]
  },
  {
   "cell_type": "markdown",
   "metadata": {},
   "source": [
    "---\n",
    "# Pandas DataFrame Output"
   ]
  },
  {
   "cell_type": "markdown",
   "metadata": {},
   "source": [
    "### Metadata\n",
    "\n",
    "Before inspecting the events inside the pandas dataframe, let us check the metadata in [df.attrs](https://pandas.pydata.org/pandas-docs/stable/reference/api/pandas.DataFrame.attrs.html). We have:\n",
    "\n",
    "---\n",
    "1. **experiment**: this is a class DarkNews.experiment.Detector, which contains all the information about the experiment for which the events are generated. It also contains a list of instances of the NuclearTarget class, which contains information about the different scattering target used."
   ]
  },
  {
   "cell_type": "code",
   "execution_count": 242,
   "metadata": {},
   "outputs": [
    {
     "name": "stdout",
     "output_type": "stream",
     "text": [
      "Attributes of Detector class: \n",
      " NAME FLUXFILE FLUX_NORM ERANGE NUCLEAR_TARGETS FIDUCIAL_MASS_PER_TARGET NUMBER_OF_TARGETS POTS\n",
      "\n",
      "Attributes of NuclearTarget class: \n",
      " name Z N A atomic_Eb electronic_Eb nuclear_Eb atomic_mass excess_mass nuclear_mass beta_decay_energy mass charge is_hadron is_nucleus is_proton is_neutron is_nucleon is_free_nucleon is_bound_nucleon pdgid tau3 F1_EM F2_EM F1_NC F2_NC F3_NC\n",
      "\n",
      "Example of how to look up nuclear targets:\n",
      "701.14 tonnes of C12\n",
      "116.86 tonnes of H1\n"
     ]
    }
   ],
   "source": [
    "# general description of the detector attribute\n",
    "keys = list(df_d.attrs['experiment'].__dict__.keys())\n",
    "print(f\"Attributes of Detector class: \\n\",*keys)\n",
    "print(f\"\\nAttributes of NuclearTarget class: \\n\",*list(df_d.attrs['experiment'].NUCLEAR_TARGETS[0].__dict__))\n",
    "\n",
    "# how much of each target inside the detector?\n",
    "print(\"\\nExample of how to look up nuclear targets:\")\n",
    "for target, fid_mass in zip(df_d.attrs['experiment'].NUCLEAR_TARGETS, df_d.attrs['experiment'].FIDUCIAL_MASS_PER_TARGET):\n",
    "    print(fr\"{round(fid_mass,2)} tonnes of {target.name}\")\n"
   ]
  },
  {
   "cell_type": "markdown",
   "metadata": {},
   "source": [
    "---\n",
    "2. **bsm_model**: this attribute contains DarkNews.model.Model, which stores all the new physics parameters used in the generation. This includes both low-level information, such as the couplings, say $g_D$, as well as high-level ones, such as the couplings of the $Z^\\prime$ to electrons, $d_e^V$ and $d_e^A$."
   ]
  },
  {
   "cell_type": "code",
   "execution_count": 244,
   "metadata": {
    "scrolled": true
   },
   "outputs": [
    {
     "name": "stdout",
     "output_type": "stream",
     "text": [
      "Some low-level parameters:\n",
      " gD epsilon epsilonZ Ue4 Umu4 Utau4 Ue5 Umu5 Utau5 Ue6 Umu6 Utau6 UD4 UD5 UD6 m4 m5 m6 mzprime\n",
      "\n",
      "Some high-level parameters:\n",
      " deV deA duV duA ddV ddA dVproton dAproton dVneutron dAneutron cVproton cAproton cVneutron cAneutron\n"
     ]
    }
   ],
   "source": [
    "print(\"Some low-level parameters:\\n\",*list(df_d.attrs['bsm_model'].__dict__.keys())[:19])\n",
    "print(\"\\nSome high-level parameters:\\n\",*list(df_d.attrs['bsm_model'].__dict__.keys())[-14:])"
   ]
  },
  {
   "cell_type": "markdown",
   "metadata": {},
   "source": [
    "---\n",
    "### Description of the event structure\n",
    "\n",
    "Now we look at the actual events. The DataFrame is a MultiIndex df. Each event contains the components for all the 4-momenta of the particles involved:\n",
    "\n",
    "$$\\nu _\\text{P_projectile} \\,+\\, \\text{Hadronic target} _\\text{P_target} \\to   N _\\text{P_decay_N_parent} \\,+\\, \\text{Hadronic recoil} _\\text{P_recoil}$$\n",
    "\n",
    "$$N _\\text{P_decay_N_parent} \\to N^\\prime _\\text{P_decay_N_daughter} \\,+\\, \\ell^+ _\\text{P_decay_ell_plus} \\,+\\, \\ell^-_\\text{P_decay_ell_minus}$$\n",
    "\n"
   ]
  },
  {
   "cell_type": "code",
   "execution_count": 252,
   "metadata": {},
   "outputs": [
    {
     "data": {
      "text/plain": [
       "<bound method NDFrame.describe of      P_projectile                     P_decay_N_parent                      \\\n",
       "                0    1    2         3                0         1         2   \n",
       "0        0.666428  0.0  0.0  0.666428         0.666150  0.076371  0.000004   \n",
       "1        0.326466  0.0  0.0  0.326466         0.326370  0.021762  0.023627   \n",
       "2        0.601098  0.0  0.0  0.601098         0.600928  0.002055 -0.058325   \n",
       "3        0.298159  0.0  0.0  0.298159         0.297603 -0.094103  0.025014   \n",
       "4        0.374167  0.0  0.0  0.374167         0.373827 -0.077456 -0.016176   \n",
       "...           ...  ...  ...       ...              ...       ...       ...   \n",
       "3187     0.579356  0.0  0.0  0.579356         0.321024  0.032130  0.263378   \n",
       "3188     0.639194  0.0  0.0  0.639194         0.417542  0.375600  0.088092   \n",
       "3189     0.741383  0.0  0.0  0.741383         0.454153  0.058633  0.420978   \n",
       "3190     0.513324  0.0  0.0  0.513324         0.266311 -0.088171 -0.042634   \n",
       "3191     8.682900  0.0  0.0  8.682900         6.791952 -0.014579  1.651961   \n",
       "\n",
       "                 P_target       ... decay_displacement      w_decay_rate_0  \\\n",
       "             3          0    1  ...                  2    3                  \n",
       "0     0.646779  11.174864 -0.0  ...                0.0  0.0       0.001109   \n",
       "1     0.293063  11.174864 -0.0  ...                0.0  0.0       0.009330   \n",
       "2     0.581471  11.174864 -0.0  ...               -0.0  0.0       0.003598   \n",
       "3     0.243898  11.174864 -0.0  ...                0.0  0.0       0.001668   \n",
       "4     0.337469  11.174864 -0.0  ...               -0.0  0.0       0.000864   \n",
       "...        ...        ...  ...  ...                ...  ...            ...   \n",
       "3187 -0.114263   0.938272 -0.0  ...                0.0 -0.0       0.000360   \n",
       "3188  0.076847   0.938272 -0.0  ...                0.0  0.0       0.000459   \n",
       "3189  0.077424   0.938272 -0.0  ...                0.0  0.0       0.000012   \n",
       "3190 -0.204279   0.938272 -0.0  ...               -0.0 -0.0       0.000312   \n",
       "3191  6.586488   0.938272 -0.0  ...                0.0  0.0       0.107432   \n",
       "\n",
       "      w_event_rate w_flux_avg_xsec        target target_pdgid  \\\n",
       "                                                                \n",
       "0     6.009429e+22       65.080998           C12   1000060120   \n",
       "1     1.201700e+23      111.700146           C12   1000060120   \n",
       "2     1.304261e+23       75.161380           C12   1000060120   \n",
       "3     6.126771e+22       51.684401           C12   1000060120   \n",
       "4     3.399045e+22       68.883779           C12   1000060120   \n",
       "...            ...             ...           ...          ...   \n",
       "3187  5.148331e+22       43.678170  proton_in_H1         2212   \n",
       "3188  6.422552e+22       47.036663  proton_in_H1         2212   \n",
       "3189  1.108097e+21       43.274332  proton_in_H1         2212   \n",
       "3190  5.387960e+22       39.652754  proton_in_H1         2212   \n",
       "3191  0.000000e+00        0.000000  proton_in_H1         2212   \n",
       "\n",
       "     scattering_regime    helicity  \\\n",
       "                                     \n",
       "0             coherent  conserving   \n",
       "1             coherent  conserving   \n",
       "2             coherent  conserving   \n",
       "3             coherent  conserving   \n",
       "4             coherent  conserving   \n",
       "...                ...         ...   \n",
       "3187              p-el    flipping   \n",
       "3188              p-el    flipping   \n",
       "3189              p-el    flipping   \n",
       "3190              p-el    flipping   \n",
       "3191              p-el    flipping   \n",
       "\n",
       "                                     underlying_process  \n",
       "                                                         \n",
       "0     nu(mu) + C12 -> N4 +  C12 -> nu(mu) + e+ + e- ...  \n",
       "1     nu(mu) + C12 -> N4 +  C12 -> nu(mu) + e+ + e- ...  \n",
       "2     nu(mu) + C12 -> N4 +  C12 -> nu(mu) + e+ + e- ...  \n",
       "3     nu(mu) + C12 -> N4 +  C12 -> nu(mu) + e+ + e- ...  \n",
       "4     nu(mu) + C12 -> N4 +  C12 -> nu(mu) + e+ + e- ...  \n",
       "...                                                 ...  \n",
       "3187  nu(mu) + proton_in_H1 -> N4 +  proton_in_H1 ->...  \n",
       "3188  nu(mu) + proton_in_H1 -> N4 +  proton_in_H1 ->...  \n",
       "3189  nu(mu) + proton_in_H1 -> N4 +  proton_in_H1 ->...  \n",
       "3190  nu(mu) + proton_in_H1 -> N4 +  proton_in_H1 ->...  \n",
       "3191  nu(mu) + proton_in_H1 -> N4 +  proton_in_H1 ->...  \n",
       "\n",
       "[3192 rows x 40 columns]>"
      ]
     },
     "execution_count": 252,
     "metadata": {},
     "output_type": "execute_result"
    }
   ],
   "source": [
    "df_d.describe"
   ]
  },
  {
   "cell_type": "code",
   "execution_count": null,
   "metadata": {},
   "outputs": [],
   "source": []
  }
 ],
 "metadata": {
  "kernelspec": {
   "display_name": "Python 3",
   "language": "python",
   "name": "python3"
  },
  "language_info": {
   "codemirror_mode": {
    "name": "ipython",
    "version": 3
   },
   "file_extension": ".py",
   "mimetype": "text/x-python",
   "name": "python",
   "nbconvert_exporter": "python",
   "pygments_lexer": "ipython3",
   "version": "3.9.9"
  }
 },
 "nbformat": 4,
 "nbformat_minor": 4
}
