{
 "cells": [
  {
   "cell_type": "markdown",
   "metadata": {},
   "source": [
    "# Example 2 -- Transition Magnetic Moments\n",
    "\n",
    "In this notebook, we explore the case of a transition magnetic moment, making use of the single photon\n",
    "$$ N \\to \\nu \\gamma $$\n",
    "as well as dilepton,\n",
    "$$ N \\to \\nu \\ell^+\\ell^- $$\n",
    "decays of the heavy neutrinos."
   ]
  },
  {
   "cell_type": "code",
   "execution_count": 1,
   "metadata": {},
   "outputs": [],
   "source": [
    "%load_ext autoreload\n",
    "%autoreload 2"
   ]
  },
  {
   "cell_type": "code",
   "execution_count": 2,
   "metadata": {},
   "outputs": [],
   "source": [
    "import matplotlib.pyplot as plt\n",
    "import numpy as np\n",
    "import pandas as pd\n",
    "\n",
    "import DarkNews as dn\n",
    "from DarkNews import *"
   ]
  },
  {
   "cell_type": "code",
   "execution_count": 6,
   "metadata": {},
   "outputs": [
    {
     "name": "stdout",
     "output_type": "stream",
     "text": [
      "Initializing the three-portal model.\n",
      "---------------------------------------------------------\n",
      "   ______           _        _   _                     \n",
      "   |  _  \\         | |      | \\ | |                    \n",
      "   | | | |__ _ _ __| | __   |  \\| | _____      _____   \n",
      "   | | | / _  | ___| |/ /   | .   |/ _ \\ \\ /\\ / / __|  \n",
      "   | |/ / (_| | |  |   <    | |\\  |  __/\\ V  V /\\__ \\  \n",
      "   |___/ \\__,_|_|  |_|\\_\\   \\_| \\_/\\___| \\_/\\_/ |___/  \n",
      "\n",
      "---------------------------------------------------------\n",
      "Model:\n",
      "\t1 dirac heavy neutrino(s).\n",
      "\n",
      "---------------------------------------------------------\n",
      "Experiment:\n",
      "\tMiniBooNE_FHC\n",
      "\tfluxfile loaded: ../fluxes/MiniBooNE_FHC.dat\n",
      "\tPOT: 1.875e+21\n",
      "\tnuclear targets: ['C12', 'H1']\n",
      "\tfiducial mass: [701.1428571428571, 116.85714285714286] tonnes\n",
      "\n",
      "Directory tree for this run already exists. Overriding it.\n",
      "---------------------------------------------------------\n",
      "Generating Events using the neutrino-nucleus upscattering engine\n",
      "\n",
      "nu(mu) C12 -->             N4  C12 -->             nu_light gamma C12\n",
      "Helicity flipping upscattering.\n",
      "N4 decays via TMM.\n",
      "Parent N4 proper decay length: 1.807E+02 cm.\n",
      "\n",
      "Predicted (4.08e+04 +/- 542) events.\n",
      "\n",
      "nu(mu) proton_in_C12 -->             N4  proton_in_C12 -->             nu_light gamma proton_in_C12\n",
      "Helicity flipping upscattering.\n",
      "N4 decays via TMM.\n",
      "Parent N4 proper decay length: 1.808E+02 cm.\n",
      "\n",
      "Predicted (1.17e+04 +/- 147) events.\n",
      "\n",
      "nu(mu) proton_in_H1 -->             N4  proton_in_H1 -->             nu_light gamma proton_in_H1\n",
      "Helicity flipping upscattering.\n",
      "N4 decays via TMM.\n",
      "Parent N4 proper decay length: 1.806E+02 cm.\n",
      "\n",
      "Predicted (3.87e+03 +/- 49) events.\n",
      "\n",
      "---------------------------------------------------------\n",
      "Generation successful\n",
      "\n",
      "Total events predicted:\n",
      "(5.63e+04 +/- 563) events.\n",
      "\n",
      "---------------------------------------------------------\n",
      "Events in pandas dataframe saved to file successfully:\n",
      "data/miniboone_fhc/3plus1/m4_0.14_mzprime_1.25_dirac/pandas_df.pckl\n",
      "\n",
      "Initializing the three-portal model.\n",
      "---------------------------------------------------------\n",
      "   ______           _        _   _                     \n",
      "   |  _  \\         | |      | \\ | |                    \n",
      "   | | | |__ _ _ __| | __   |  \\| | _____      _____   \n",
      "   | | | / _  | ___| |/ /   | .   |/ _ \\ \\ /\\ / / __|  \n",
      "   | |/ / (_| | |  |   <    | |\\  |  __/\\ V  V /\\__ \\  \n",
      "   |___/ \\__,_|_|  |_|\\_\\   \\_| \\_/\\___| \\_/\\_/ |___/  \n",
      "\n",
      "---------------------------------------------------------\n",
      "Model:\n",
      "\t1 dirac heavy neutrino(s).\n",
      "\n",
      "---------------------------------------------------------\n",
      "Experiment:\n",
      "\tMiniBooNE_FHC\n",
      "\tfluxfile loaded: ../fluxes/MiniBooNE_FHC.dat\n",
      "\tPOT: 1.875e+21\n",
      "\tnuclear targets: ['C12', 'H1']\n",
      "\tfiducial mass: [701.1428571428571, 116.85714285714286] tonnes\n",
      "\n",
      "Directory tree for this run already exists. Overriding it.\n",
      "---------------------------------------------------------\n",
      "Generating Events using the neutrino-nucleus upscattering engine\n",
      "\n",
      "nu(mu) C12 -->             N4  C12 -->             nu_light e+ e- C12\n",
      "Helicity flipping upscattering.\n",
      "N4 three-body decays.\n",
      "Parent N4 proper decay length: 5.660E+04 cm.\n",
      "\n",
      "Predicted (4.08e+04 +/- 508) events.\n",
      "\n",
      "nu(mu) proton_in_C12 -->             N4  proton_in_C12 -->             nu_light e+ e- proton_in_C12\n",
      "Helicity flipping upscattering.\n",
      "N4 three-body decays.\n",
      "Parent N4 proper decay length: 5.668E+04 cm.\n",
      "\n",
      "Predicted (1.17e+04 +/- 142) events.\n",
      "\n",
      "nu(mu) proton_in_H1 -->             N4  proton_in_H1 -->             nu_light e+ e- proton_in_H1\n",
      "Helicity flipping upscattering.\n",
      "N4 three-body decays.\n",
      "Parent N4 proper decay length: 5.683E+04 cm.\n",
      "\n",
      "Predicted (3.86e+03 +/- 47.3) events.\n",
      "\n",
      "---------------------------------------------------------\n",
      "Generation successful\n",
      "\n",
      "Total events predicted:\n",
      "(5.63e+04 +/- 530) events.\n",
      "\n",
      "---------------------------------------------------------\n",
      "Events in pandas dataframe saved to file successfully:\n",
      "data/miniboone_fhc/3plus1/m4_0.14_mzprime_1.25_dirac/pandas_df.pckl\n",
      "\n"
     ]
    }
   ],
   "source": [
    "from DarkNews import GenLauncher\n",
    "\n",
    "model_kwargs = {\n",
    "    'm4': 0.140,\n",
    "    'mu_tr_mu4': 1e-6, # GeV^-1\n",
    "    'UD4': 0,\n",
    "    'Umu4': 0,\n",
    "    'epsilon': 0.0,\n",
    "    'gD': 0.0,\n",
    "}\n",
    "\n",
    "# turning off Helicity conserving scattering which is negligible for TMM (but dominant for Z', for instance).\n",
    "# we also ask for the single photon decays.\n",
    "gen_object = GenLauncher(decay_product='photon', noHC=True, HNLtype=\"dirac\", **model_kwargs)\n",
    "df_photon = gen_object.run()\n",
    "\n",
    "gen_object = GenLauncher(decay_product='e+e-', noHC=True, HNLtype=\"dirac\", **model_kwargs)\n",
    "df_ee = gen_object.run()"
   ]
  },
  {
   "cell_type": "markdown",
   "metadata": {},
   "source": [
    "Let's look at the columns in the single photon case. We lose the ell_minus and ell_plus columns and gain the photon one."
   ]
  },
  {
   "cell_type": "code",
   "execution_count": 7,
   "metadata": {},
   "outputs": [
    {
     "data": {
      "text/plain": [
       "Index(['P_decay_N_daughter', 'P_decay_N_parent', 'P_decay_photon',\n",
       "       'P_projectile', 'P_recoil', 'P_target', 'pos_scatt', 'w_decay_rate_0',\n",
       "       'w_event_rate', 'w_flux_avg_xsec', 'target', 'target_pdgid',\n",
       "       'scattering_regime', 'helicity', 'underlying_process', 'h_projectile',\n",
       "       'h_parent', 'pos_decay'],\n",
       "      dtype='object')"
      ]
     },
     "execution_count": 7,
     "metadata": {},
     "output_type": "execute_result"
    }
   ],
   "source": [
    "df_photon.columns.levels[0]"
   ]
  },
  {
   "cell_type": "code",
   "execution_count": 8,
   "metadata": {},
   "outputs": [
    {
     "data": {
      "text/plain": [
       "Text(0.5, 0, '$\\\\theta_{\\\\gamma}$ (degrees)')"
      ]
     },
     "execution_count": 8,
     "metadata": {},
     "output_type": "execute_result"
    },
    {
     "data": {
      "image/png": "[encoded data removed]",
      "text/plain": [
       "<Figure size 720x288 with 1 Axes>"
      ]
     },
     "metadata": {
      "needs_background": "light"
     },
     "output_type": "display_data"
    }
   ],
   "source": [
    "mee = np.arccos(dn.fourvec.df_cos_azimuthal(df_photon['P_decay_photon']))*dn.const.rad_to_deg\n",
    "\n",
    "fig, ax = dn.plot_tools.std_fig(figsize=(10,4))\n",
    "\n",
    "_=ax.hist(mee, weights=df_photon['w_event_rate',''], bins=50, histtype='step', label='pickled')\n",
    "\n",
    "ax.legend(loc='best')\n",
    "ax.set_ylabel('Events')\n",
    "ax.set_xlabel(r'$\\theta_{\\gamma}$ (degrees)')"
   ]
  },
  {
   "cell_type": "code",
   "execution_count": 9,
   "metadata": {},
   "outputs": [
    {
     "data": {
      "text/plain": [
       "Text(0.5, 0, '$\\\\cos{\\\\theta_{\\\\gamma}}$')"
      ]
     },
     "execution_count": 9,
     "metadata": {},
     "output_type": "execute_result"
    },
    {
     "data": {
      "image/png": "[encoded data removed]",
      "text/plain": [
       "<Figure size 720x288 with 1 Axes>"
      ]
     },
     "metadata": {
      "needs_background": "light"
     },
     "output_type": "display_data"
    }
   ],
   "source": [
    "mee = dn.fourvec.df_cos_azimuthal(df_photon['P_decay_photon'])\n",
    "\n",
    "fig, ax = dn.plot_tools.std_fig(figsize=(10,4))\n",
    "\n",
    "_=ax.hist(mee, weights=df_photon['w_event_rate',''], bins=50, histtype='step', label='pickled')\n",
    "\n",
    "ax.legend(loc='best')\n",
    "ax.set_ylabel('Events')\n",
    "ax.set_xlabel(r'$\\cos{\\theta_{\\gamma}}$')"
   ]
  },
  {
   "cell_type": "code",
   "execution_count": 10,
   "metadata": {},
   "outputs": [
    {
     "data": {
      "text/plain": [
       "Text(0.5, 0, '$E_{\\\\gamma}$ (GeV)')"
      ]
     },
     "execution_count": 10,
     "metadata": {},
     "output_type": "execute_result"
    },
    {
     "data": {
      "image/png": "[encoded data removed]",
      "text/plain": [
       "<Figure size 720x288 with 1 Axes>"
      ]
     },
     "metadata": {
      "needs_background": "light"
     },
     "output_type": "display_data"
    }
   ],
   "source": [
    "egamma = df_photon['P_decay_photon','0']\n",
    "\n",
    "fig, ax = dn.plot_tools.std_fig(figsize=(10,4))\n",
    "\n",
    "_=ax.hist(egamma, weights=df_photon['w_event_rate',''], bins=50, histtype='step', label='pickled')\n",
    "\n",
    "ax.legend(loc='best')\n",
    "ax.set_ylabel('Events')\n",
    "ax.set_xlabel(r'$E_{\\gamma}$ (GeV)')"
   ]
  },
  {
   "cell_type": "markdown",
   "metadata": {},
   "source": [
    "#### Now we compute a couple of magnetic moment cases with Z boson contributions included"
   ]
  },
  {
   "cell_type": "code",
   "execution_count": 11,
   "metadata": {},
   "outputs": [
    {
     "name": "stdout",
     "output_type": "stream",
     "text": [
      "Initializing the three-portal model.\n"
     ]
    }
   ],
   "source": [
    "model_kwargs = { 'm4': 0.40, 'UD4': 0, 'epsilon': 0}\n",
    "\n",
    "dfs_nomix=[]\n",
    "dfs_mix=[]\n",
    "mutrs = [1e-15, 2e-10, 3e-9,3e-8]\n",
    "for mutr in mutrs:\n",
    "    gen_object = GenLauncher(mu_tr_mu4=mutr, Umu4=1.5e-3, exp = \"microboone\", decay_product='photon', neval = 10000, noHC=True, HNLtype=\"dirac\", loglevel='ERROR', **model_kwargs)\n",
    "    dfs_mix.append(gen_object.run())\n",
    "\n",
    "    gen_object = GenLauncher(mu_tr_mu4=mutr, Umu4=0.0, exp = \"microboone\", decay_product='photon', neval = 10000, noHC=True, HNLtype=\"dirac\", loglevel='ERROR', **model_kwargs)\n",
    "    dfs_nomix.append(gen_object.run())\n"
   ]
  },
  {
   "cell_type": "code",
   "execution_count": 13,
   "metadata": {},
   "outputs": [
    {
     "data": {
      "image/png": "[encoded data removed]",
      "text/plain": [
       "<Figure size 576x288 with 1 Axes>"
      ]
     },
     "metadata": {
      "needs_background": "light"
     },
     "output_type": "display_data"
    }
   ],
   "source": [
    "fig, ax = dn.plot_tools.std_fig(figsize=(8,4))\n",
    "\n",
    "for df_mix,df_nomix,mutr in zip(dfs_mix,dfs_nomix,mutrs):\n",
    "    egamma = df_mix['P_decay_photon','0']\n",
    "    _=ax.hist(egamma, weights=df_mix['w_event_rate',''], bins=np.linspace(0,2,100), histtype='step', density=True, label=fr'$\\mu_{{\\rm tr}} = $ {mutr} GeV$^{{-1}}$ -- $|U_{{\\mu}}|=1.5\\times10{{-3}}$')\n",
    "\n",
    "    egamma = df_nomix['P_decay_photon','0']\n",
    "    _=ax.hist(egamma, weights=df_nomix['w_event_rate',''], bins=np.linspace(0,2,100), histtype='step', ls='--', density=True, label=fr'$\\mu_{{\\rm tr}} = $ {mutr} GeV$^{{-1}}$ -- $|U_{{\\mu}}|=1.5\\times10{{-3}}$')\n",
    "\n",
    "ax.legend(loc='best')\n",
    "ax.set_ylabel('Events')\n",
    "ax.set_xlabel(r'$E_{\\gamma}$ (GeV)')\n",
    "dn.plot_tools.std_savefig(fig,'plots/TMM_and_mixing.pdf')"
   ]
  }
 ],
 "metadata": {
  "interpreter": {
   "hash": "397704579725e15f5c7cb49fe5f0341eb7531c82d19f2c29d197e8b64ab5776b"
  },
  "kernelspec": {
   "display_name": "Python 3.9.12 64-bit",
   "language": "python",
   "name": "python3"
  },
  "language_info": {
   "codemirror_mode": {
    "name": "ipython",
    "version": 3
   },
   "file_extension": ".py",
   "mimetype": "text/x-python",
   "name": "python",
   "nbconvert_exporter": "python",
   "pygments_lexer": "ipython3",
   "version": "3.9.13"
  },
  "orig_nbformat": 4
 },
 "nbformat": 4,
 "nbformat_minor": 2
}
