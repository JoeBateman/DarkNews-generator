{
 "cells": [
  {
   "cell_type": "markdown",
   "id": "chinese-isaac",
   "metadata": {},
   "source": [
    "# Example 3\n",
    "\n",
    "This notebook computes total decay rates for a few models"
   ]
  },
  {
   "cell_type": "code",
   "execution_count": 1,
   "id": "compact-danger",
   "metadata": {},
   "outputs": [],
   "source": [
    "%load_ext autoreload\n",
    "%autoreload 2"
   ]
  },
  {
   "cell_type": "code",
   "execution_count": 2,
   "id": "professional-latitude",
   "metadata": {},
   "outputs": [],
   "source": [
    "import matplotlib.pyplot as plt\n",
    "import numpy as np\n",
    "import pandas as pd\n",
    "\n",
    "import DarkNews as dn\n",
    "from DarkNews import *"
   ]
  },
  {
   "cell_type": "code",
   "execution_count": 3,
   "id": "8dc3f688",
   "metadata": {},
   "outputs": [],
   "source": [
    "import ToyAnalysis as ta"
   ]
  },
  {
   "cell_type": "code",
   "execution_count": 22,
   "id": "fc5e1894",
   "metadata": {},
   "outputs": [
    {
     "name": "stdout",
     "output_type": "stream",
     "text": [
      "---------------------------------------------------------\n",
      "   ______           _        _   _                     \n",
      "   |  _  \\         | |      | \\ | |                    \n",
      "   | | | |__ _ _ __| | __   |  \\| | _____      _____   \n",
      "   | | | / _  | ___| |/ /   | .   |/ _ \\ \\ /\\ / / __|  \n",
      "   | |/ / (_| | |  |   <    | |\\  |  __/\\ V  V /\\__ \\  \n",
      "   |___/ \\__,_|_|  |_|\\_\\   \\_| \\_/\\___| \\_/\\_/ |___/  \n",
      "\n",
      "---------------------------------------------------------\n",
      "Model:\n",
      "\t1 dirac heavy neutrino(s).\n",
      "\tkinetically mixed Z'\n",
      "\n",
      "---------------------------------------------------------\n",
      "Experiment:\n",
      "\tMiniBooNE_FHC\n",
      "\tfluxfile loaded: ../fluxes/MiniBooNE_FHC.dat\n",
      "\tPOT: 1.875e+21\n",
      "\tnuclear targets: ['C12', 'H1']\n",
      "\tfiducial mass: [701.1428571428571, 116.85714285714286] tonnes\n",
      "\n",
      "Note that the directory tree for this run already exists.\n"
     ]
    }
   ],
   "source": [
    "from DarkNews.GenLauncher import GenLauncher\n",
    "gen_object = GenLauncher(exp=\"miniboone_fhc\", HNLtype='dirac')\n",
    "df=gen_object.run(loglevel=\"WARNING\")\n"
   ]
  },
  {
   "cell_type": "code",
   "execution_count": 9,
   "id": "91d53a5b",
   "metadata": {},
   "outputs": [
    {
     "name": "stderr",
     "output_type": "stream",
     "text": [
      "No artists with labels found to put in legend.  Note that artists whose label start with an underscore are ignored when legend() is called with no argument.\n",
      "No artists with labels found to put in legend.  Note that artists whose label start with an underscore are ignored when legend() is called with no argument.\n",
      "No artists with labels found to put in legend.  Note that artists whose label start with an underscore are ignored when legend() is called with no argument.\n",
      "No artists with labels found to put in legend.  Note that artists whose label start with an underscore are ignored when legend() is called with no argument.\n",
      "No artists with labels found to put in legend.  Note that artists whose label start with an underscore are ignored when legend() is called with no argument.\n",
      "No artists with labels found to put in legend.  Note that artists whose label start with an underscore are ignored when legend() is called with no argument.\n",
      "No artists with labels found to put in legend.  Note that artists whose label start with an underscore are ignored when legend() is called with no argument.\n",
      "No artists with labels found to put in legend.  Note that artists whose label start with an underscore are ignored when legend() is called with no argument.\n"
     ]
    },
    {
     "data": {
      "text/plain": [
       "0"
      ]
     },
     "execution_count": 9,
     "metadata": {},
     "output_type": "execute_result"
    }
   ],
   "source": [
    "ta.hist_plot.batch_plot(df, 'plots/example_3/', title='DarKNews')"
   ]
  },
  {
   "cell_type": "code",
   "execution_count": 20,
   "id": "5037dbe5",
   "metadata": {},
   "outputs": [
    {
     "name": "stdout",
     "output_type": "stream",
     "text": [
      "20102.30549818301\n",
      "20083.150222927507\n"
     ]
    }
   ],
   "source": [
    "cons=(df['helicity']=='conserving')\n",
    "flip=(df['helicity']=='flipping')\n",
    "print(df['w_event_rate'][cons].sum())\n",
    "print(df['w_event_rate'][flip].sum())"
   ]
  }
 ],
 "metadata": {
  "kernelspec": {
   "display_name": "Python 3",
   "language": "python",
   "name": "python3"
  },
  "language_info": {
   "codemirror_mode": {
    "name": "ipython",
    "version": 3
   },
   "file_extension": ".py",
   "mimetype": "text/x-python",
   "name": "python",
   "nbconvert_exporter": "python",
   "pygments_lexer": "ipython3",
   "version": "3.9.12"
  }
 },
 "nbformat": 4,
 "nbformat_minor": 5
}
