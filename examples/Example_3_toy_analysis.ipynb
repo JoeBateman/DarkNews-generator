{
 "cells": [
  {
   "cell_type": "markdown",
   "id": "chinese-isaac",
   "metadata": {},
   "source": [
    "# Example 3\n",
    "\n",
    "This notebook computes total decay rates for a few models"
   ]
  },
  {
   "cell_type": "code",
   "execution_count": 1,
   "id": "compact-danger",
   "metadata": {},
   "outputs": [],
   "source": [
    "%load_ext autoreload\n",
    "%autoreload 2"
   ]
  },
  {
   "cell_type": "code",
   "execution_count": 2,
   "id": "professional-latitude",
   "metadata": {},
   "outputs": [],
   "source": [
    "import matplotlib.pyplot as plt\n",
    "import numpy as np\n",
    "\n",
    "import DarkNews as dn\n",
    "from DarkNews import *"
   ]
  },
  {
   "cell_type": "code",
   "execution_count": 3,
   "id": "8dc3f688",
   "metadata": {},
   "outputs": [],
   "source": [
    "import ToyAnalysis as ta"
   ]
  },
  {
   "cell_type": "code",
   "execution_count": 5,
   "id": "fc5e1894",
   "metadata": {},
   "outputs": [
    {
     "name": "stdout",
     "output_type": "stream",
     "text": [
      "Directory tree for this run already exists. Overriding it.\n"
     ]
    }
   ],
   "source": [
    "from DarkNews.GenLauncher import GenLauncher\n",
    "kwargs={'m5': 0.15, 'm4': 0.1, 'mzprime': 1.25,'Umu5': 1.6e-3, 'Umu4': 0.0}\n",
    "# kwargs={'m5': 0.15, 'm4': 0.075, 'mzprime': 1.25,'Umu5': 0.0, 'Umu4': 0.0, 'theta': 0.9e-1, 's_mu5': 1e-1, 'mhprime': 1.0}\n",
    "gen_object = GenLauncher(exp=\"miniboone_fhc\", HNLtype='dirac', loglevel=\"WARNING\", neval=1e4, **kwargs)\n",
    "df=gen_object.run()"
   ]
  },
  {
   "cell_type": "code",
   "execution_count": 9,
   "id": "f9f2259e",
   "metadata": {},
   "outputs": [],
   "source": [
    "for i in range(4):\n",
    "    df['P_decay_ellell',i] = df['P_decay_ell_minus',f'{i}']+df['P_decay_ell_plus',f'{i}']\n",
    "        "
   ]
  },
  {
   "cell_type": "code",
   "execution_count": 14,
   "id": "9169dfad",
   "metadata": {},
   "outputs": [
    {
     "data": {
      "image/png": "[encoded data removed]",
      "text/plain": [
       "<Figure size 432x288 with 1 Axes>"
      ]
     },
     "metadata": {
      "needs_background": "light"
     },
     "output_type": "display_data"
    }
   ],
   "source": [
    "import DarkNews.fourvec as fv\n",
    "_=plt.hist(fv.df_cos_opening_angle(df['P_decay_ellell'], df['P_recoil']), bins=100)"
   ]
  },
  {
   "cell_type": "code",
   "execution_count": null,
   "id": "cd618b50",
   "metadata": {},
   "outputs": [],
   "source": []
  },
  {
   "cell_type": "code",
   "execution_count": 19,
   "id": "f217e753",
   "metadata": {},
   "outputs": [],
   "source": [
    "# ta.plot_tools.plot_all_rates(df, case_name='example_3/rate', Nevents=None, loc='')\n",
    "ta.plot_tools.batch_plot(df, 'plots/example_3/', title='DarKNews')"
   ]
  },
  {
   "cell_type": "markdown",
   "id": "6e860c44",
   "metadata": {},
   "source": [
    "### MiniBooNE efficiencies\n"
   ]
  },
  {
   "cell_type": "code",
   "execution_count": null,
   "id": "52987aa1",
   "metadata": {},
   "outputs": [],
   "source": [
    "eff_func = scipy.interpolate.interp1d(enu_c, eff, fill_value=(eff[0],eff[-1]), bounds_error=False, kind='nearest')"
   ]
  },
  {
   "cell_type": "code",
   "execution_count": null,
   "id": "42dfba1b",
   "metadata": {},
   "outputs": [
    {
     "data": {
      "image/png": "[encoded data removed]",
      "text/plain": [
       "<Figure size 319.68x221.055 with 1 Axes>"
      ]
     },
     "metadata": {
      "needs_background": "light"
     },
     "output_type": "display_data"
    }
   ],
   "source": [
    "fig,ax = ta.plot_tools.std_fig()\n",
    "enu_c, eff, err_eff = np.genfromtxt(\"aux_data/miniboone_eff/eg_effs.dat\",unpack=True)\n",
    "enu_w = (np.append(enu_c[1:],2200)-enu_c)\n",
    "\n",
    "\n",
    "kwargs={'facecolor': 'dodgerblue', 'edgecolor': 'None'}\n",
    "ta.plot_tools.data_plot(ax, enu_c, enu_w, eff, err_eff/2, err_eff/2, label=r'$e/\\gamma$ efficiency')\n",
    "# ta.plot_tools.errorband_plot(ax, enu_c, enu_w, eff, err_eff/2, err_eff/2, label=r'$e/\\gamma$ efficiency', **kwargs)\n",
    "ax.legend(loc='upper right', )\n",
    "\n",
    "ax.set_ylim(0,0.160)\n",
    "ax.set_xlim(0,2100)\n",
    "ax.set_xlabel(r\"$E_\\nu/$MeV\")\n",
    "ax.set_ylabel(r\"eff\")\n",
    "\n",
    "ta.plot_tools.std_savefig(fig, 'plots/miniboone_effs.pdf')"
   ]
  },
  {
   "cell_type": "code",
   "execution_count": 23,
   "id": "73ab242d",
   "metadata": {},
   "outputs": [
    {
     "name": "stdout",
     "output_type": "stream",
     "text": [
      "\\delta m_phi/y_phi = 7.2e-06 eV\n"
     ]
    }
   ],
   "source": [
    "T=1.6e-4 # eV\n",
    "\n",
    "mnu = np.sqrt(2e-3) # eV\n",
    "N_nu = 300 # nus/cm^3 \n",
    "convert = dn.const.invcm3_to_eV3 # cm^-3 --> eV^3\n",
    "\n",
    "print(f\"\\delta m_phi/y_phi = {np.sqrt(N_nu*convert/mnu):.2g} eV\")"
   ]
  },
  {
   "cell_type": "code",
   "execution_count": 123,
   "id": "3d3dcd87",
   "metadata": {},
   "outputs": [
    {
     "name": "stdout",
     "output_type": "stream",
     "text": [
      "delta m_nu = 1.2e-09 eV\n"
     ]
    }
   ],
   "source": [
    "mphi = 1e-14\n",
    "print(f\"delta m_nu = {1e-20*0.3e9/mphi*dn.const.invcm3_to_eV3/mnu**2:.2g} eV\")"
   ]
  }
 ],
 "metadata": {
  "kernelspec": {
   "display_name": "Python 3",
   "language": "python",
   "name": "python3"
  },
  "language_info": {
   "codemirror_mode": {
    "name": "ipython",
    "version": 3
   },
   "file_extension": ".py",
   "mimetype": "text/x-python",
   "name": "python",
   "nbconvert_exporter": "python",
   "pygments_lexer": "ipython3",
   "version": "3.9.13"
  }
 },
 "nbformat": 4,
 "nbformat_minor": 5
}
