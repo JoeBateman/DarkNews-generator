{
 "cells": [
  {
   "cell_type": "markdown",
   "id": "chinese-isaac",
   "metadata": {},
   "source": [
    "# Example 3\n",
    "\n",
    "This notebook computes total decay rates for a few models --- UNDER DEVELOPMENT!"
   ]
  },
  {
   "cell_type": "code",
   "execution_count": 1,
   "id": "compact-danger",
   "metadata": {},
   "outputs": [],
   "source": [
    "%load_ext autoreload\n",
    "%autoreload 2"
   ]
  },
  {
   "cell_type": "code",
   "execution_count": 2,
   "id": "professional-latitude",
   "metadata": {},
   "outputs": [],
   "source": [
    "import matplotlib.pyplot as plt\n",
    "import numpy as np\n",
    "\n",
    "import DarkNews as dn"
   ]
  },
  {
   "cell_type": "code",
   "execution_count": 3,
   "id": "8dc3f688",
   "metadata": {},
   "outputs": [],
   "source": [
    "import ToyAnalysis as ta"
   ]
  },
  {
   "cell_type": "code",
   "execution_count": 4,
   "id": "fc5e1894",
   "metadata": {},
   "outputs": [
    {
     "name": "stdout",
     "output_type": "stream",
     "text": [
      "Directory tree for this run already exists. Overriding it.\n"
     ]
    }
   ],
   "source": [
    "from DarkNews import GenLauncher\n",
    "kwargs={'m5': 0.15, 'm4': 0.1, 'mzprime': 0.03,'Umu5': 1.6e-5, 'Umu4': 1e-5, 'epsilon': 1e-3}\n",
    "# kwargs={'m5': 0.15, 'm4': 0.075, 'mzprime': 1.25,'Umu5': 0.0, 'Umu4': 0.0, 'theta': 0.9e-1, 's_mu5': 1e-1, 'mhprime': 1.0}\n",
    "gen_object = GenLauncher(experiment=\"miniboone_fhc\", HNLtype='dirac', loglevel=\"WARNING\", neval=1e4, **kwargs)\n",
    "df=gen_object.run()"
   ]
  },
  {
   "cell_type": "code",
   "execution_count": 5,
   "id": "f9f2259e",
   "metadata": {},
   "outputs": [],
   "source": [
    "for i in range(4):\n",
    "    df['P_decay_ellell',i] = df['P_decay_ell_minus',f'{i}']+df['P_decay_ell_plus',f'{i}']\n"
   ]
  },
  {
   "cell_type": "code",
   "execution_count": 6,
   "id": "9169dfad",
   "metadata": {},
   "outputs": [
    {
     "data": {
      "image/png": "[encoded data removed]",
      "text/plain": [
       "<Figure size 432x288 with 1 Axes>"
      ]
     },
     "metadata": {
      "needs_background": "light"
     },
     "output_type": "display_data"
    }
   ],
   "source": [
    "import DarkNews.fourvec as fv\n",
    "_=plt.hist(fv.df_cos_opening_angle(df['P_decay_ellell'], df['P_recoil']), bins=100)"
   ]
  },
  {
   "cell_type": "markdown",
   "id": "6e860c44",
   "metadata": {},
   "source": [
    "### MiniBooNE efficiencies\n"
   ]
  },
  {
   "cell_type": "code",
   "execution_count": 7,
   "id": "42dfba1b",
   "metadata": {},
   "outputs": [
    {
     "data": {
      "image/png": "[encoded data removed]",
      "text/plain": [
       "<Figure size 319.68x272.068 with 1 Axes>"
      ]
     },
     "metadata": {
      "needs_background": "light"
     },
     "output_type": "display_data"
    }
   ],
   "source": [
    "from scipy import interpolate\n",
    "\n",
    "fig,ax = dn.plot_tools.std_fig()\n",
    "enu_c, eff, err_eff = np.genfromtxt(\"aux_data/miniboone_eff/eg_effs.dat\",unpack=True)\n",
    "enu_w = (np.append(enu_c[1:],2200)-enu_c)\n",
    "eff_func = interpolate.interp1d(enu_c, eff, fill_value=(eff[0],eff[-1]), bounds_error=False, kind='nearest')\n",
    "\n",
    "kwargs={'facecolor': 'dodgerblue', 'edgecolor': 'None'}\n",
    "ta.plot_tools.data_plot(ax, enu_c, enu_w, eff, err_eff/2, err_eff/2, label=r'$e/\\gamma$ efficiency')\n",
    "# ta.plot_tools.errorband_plot(ax, enu_c, enu_w, eff, err_eff/2, err_eff/2, label=r'$e/\\gamma$ efficiency', **kwargs)\n",
    "ax.legend(loc='upper right', )\n",
    "\n",
    "ax.set_ylim(0,0.160)\n",
    "ax.set_xlim(0,2100)\n",
    "ax.set_xlabel(r\"$E_\\nu/$MeV\")\n",
    "ax.set_ylabel(r\"eff\")\n",
    "\n",
    "dn.plot_tools.std_savefig(fig, 'plots/miniboone_effs.pdf')"
   ]
  },
  {
   "cell_type": "code",
   "execution_count": 8,
   "id": "efb7d5e5",
   "metadata": {},
   "outputs": [],
   "source": [
    "x=ta.analysis.compute_spectrum(df)"
   ]
  }
 ],
 "metadata": {
  "kernelspec": {
   "display_name": "Python 3.9.12 64-bit",
   "language": "python",
   "name": "python3"
  },
  "language_info": {
   "codemirror_mode": {
    "name": "ipython",
    "version": 3
   },
   "file_extension": ".py",
   "mimetype": "text/x-python",
   "name": "python",
   "nbconvert_exporter": "python",
   "pygments_lexer": "ipython3",
   "version": "3.9.12"
  },
  "vscode": {
   "interpreter": {
    "hash": "397704579725e15f5c7cb49fe5f0341eb7531c82d19f2c29d197e8b64ab5776b"
   }
  }
 },
 "nbformat": 4,
 "nbformat_minor": 5
}
