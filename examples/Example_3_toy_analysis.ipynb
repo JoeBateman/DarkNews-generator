{
 "cells": [
  {
   "cell_type": "markdown",
   "id": "chinese-isaac",
   "metadata": {},
   "source": [
    "# Example 3\n",
    "\n",
    "This notebook computes total decay rates for a few models"
   ]
  },
  {
   "cell_type": "code",
   "execution_count": 2,
   "id": "compact-danger",
   "metadata": {},
   "outputs": [],
   "source": [
    "%load_ext autoreload\n",
    "%autoreload 2"
   ]
  },
  {
   "cell_type": "code",
   "execution_count": 3,
   "id": "professional-latitude",
   "metadata": {},
   "outputs": [],
   "source": [
    "import matplotlib.pyplot as plt\n",
    "import numpy as np\n",
    "import pandas as pd\n",
    "\n",
    "import DarkNews as dn\n",
    "from DarkNews import *"
   ]
  },
  {
   "cell_type": "code",
   "execution_count": 4,
   "id": "8dc3f688",
   "metadata": {},
   "outputs": [],
   "source": [
    "import ToyAnalysis as ta"
   ]
  },
  {
   "cell_type": "code",
   "execution_count": 5,
   "id": "fc5e1894",
   "metadata": {},
   "outputs": [
    {
     "name": "stdout",
     "output_type": "stream",
     "text": [
      "Note that the directory tree for this run already exists.\n"
     ]
    }
   ],
   "source": [
    "from DarkNews.GenLauncher import GenLauncher\n",
    "kwargs={'m5': 0.15, 'm4': 0.1, 'mzprime': 1.25,'Umu5': 1.6e-3, 'Umu4': 0.0}\n",
    "# kwargs={'m5': 0.15, 'm4': 0.075, 'mzprime': 1.25,'Umu5': 0.0, 'Umu4': 0.0, 'theta': 0.9e-1, 's_mu5': 1e-1, 'mhprime': 1.0}\n",
    "gen_object = GenLauncher(exp=\"miniboone_fhc\", HNLtype='dirac', loglevel=\"WARNING\", neval=1e4, **kwargs)\n",
    "df=gen_object.run()"
   ]
  },
  {
   "cell_type": "code",
   "execution_count": 6,
   "id": "d83e935e",
   "metadata": {},
   "outputs": [
    {
     "name": "stdout",
     "output_type": "stream",
     "text": [
      "19089.43761036099\n"
     ]
    }
   ],
   "source": [
    "print(df.w_event_rate.sum())"
   ]
  },
  {
   "cell_type": "code",
   "execution_count": 7,
   "id": "f217e753",
   "metadata": {},
   "outputs": [
    {
     "ename": "NameError",
     "evalue": "name 'axes_form' is not defined",
     "output_type": "error",
     "traceback": [
      "\u001b[0;31m---------------------------------------------------------------------------\u001b[0m",
      "\u001b[0;31mNameError\u001b[0m                                 Traceback (most recent call last)",
      "Input \u001b[0;32mIn [7]\u001b[0m, in \u001b[0;36m<module>\u001b[0;34m\u001b[0m\n\u001b[0;32m----> 1\u001b[0m \u001b[43mta\u001b[49m\u001b[38;5;241;43m.\u001b[39;49m\u001b[43mplot_tools\u001b[49m\u001b[38;5;241;43m.\u001b[39;49m\u001b[43mplot_all_rates\u001b[49m\u001b[43m(\u001b[49m\u001b[43mdf\u001b[49m\u001b[43m,\u001b[49m\u001b[43m \u001b[49m\u001b[43mcase_name\u001b[49m\u001b[38;5;241;43m=\u001b[39;49m\u001b[38;5;124;43m'\u001b[39;49m\u001b[38;5;124;43mexample_3/rate\u001b[39;49m\u001b[38;5;124;43m'\u001b[39;49m\u001b[43m,\u001b[49m\u001b[43m \u001b[49m\u001b[43mNevents\u001b[49m\u001b[38;5;241;43m=\u001b[39;49m\u001b[38;5;28;43;01mNone\u001b[39;49;00m\u001b[43m,\u001b[49m\u001b[43m \u001b[49m\u001b[43mloc\u001b[49m\u001b[38;5;241;43m=\u001b[39;49m\u001b[38;5;124;43m'\u001b[39;49m\u001b[38;5;124;43m'\u001b[39;49m\u001b[43m)\u001b[49m\n",
      "File \u001b[0;32m~/Repos/DarkNews-generator/examples/ToyAnalysis/plot_tools.py:108\u001b[0m, in \u001b[0;36mplot_all_rates\u001b[0;34m(df, case_name, Nevents, truth_plots, title, plot_muB, path, loc)\u001b[0m\n\u001b[1;32m    106\u001b[0m \u001b[38;5;28;01melse\u001b[39;00m:\n\u001b[1;32m    107\u001b[0m     total_Nevent_MB \u001b[38;5;241m=\u001b[39m bag_reco_MB[\u001b[38;5;124m'\u001b[39m\u001b[38;5;124mreco_w\u001b[39m\u001b[38;5;124m'\u001b[39m]\u001b[38;5;241m.\u001b[39msum()\n\u001b[0;32m--> 108\u001b[0m \u001b[43mbatch_plot_signalMB\u001b[49m\u001b[43m(\u001b[49m\u001b[43mbag_reco_MB\u001b[49m\u001b[43m,\u001b[49m\u001b[43m \u001b[49m\u001b[43mPATH_MB\u001b[49m\u001b[43m,\u001b[49m\u001b[43m \u001b[49m\u001b[43mBP\u001b[49m\u001b[38;5;241;43m=\u001b[39;49m\u001b[43mcase_name\u001b[49m\u001b[43m,\u001b[49m\u001b[43m \u001b[49m\u001b[43mtitle\u001b[49m\u001b[38;5;241;43m=\u001b[39;49m\u001b[43mtitle\u001b[49m\u001b[43m,\u001b[49m\u001b[43m \u001b[49m\u001b[43mNEVENTS\u001b[49m\u001b[38;5;241;43m=\u001b[39;49m\u001b[43mtotal_Nevent_MB\u001b[49m\u001b[43m,\u001b[49m\u001b[43mloc\u001b[49m\u001b[38;5;241;43m=\u001b[39;49m\u001b[43mloc\u001b[49m\u001b[43m)\u001b[49m\n\u001b[1;32m    110\u001b[0m \u001b[38;5;66;03m# plot event rates at MuBooNE weighted appropriately for POT and efficiencies\u001b[39;00m\n\u001b[1;32m    111\u001b[0m \u001b[38;5;28;01mif\u001b[39;00m plot_muB:\n",
      "File \u001b[0;32m~/Repos/DarkNews-generator/examples/ToyAnalysis/plot_tools.py:133\u001b[0m, in \u001b[0;36mbatch_plot_signalMB\u001b[0;34m(obs, PATH, title, NEVENTS, kde, BP, loc)\u001b[0m\n\u001b[1;32m    130\u001b[0m \u001b[38;5;28;01mdef\u001b[39;00m \u001b[38;5;21mbatch_plot_signalMB\u001b[39m(obs, PATH, title\u001b[38;5;241m=\u001b[39m\u001b[38;5;124m'\u001b[39m\u001b[38;5;124mDark News\u001b[39m\u001b[38;5;124m'\u001b[39m, NEVENTS\u001b[38;5;241m=\u001b[39m\u001b[38;5;241m1\u001b[39m, kde\u001b[38;5;241m=\u001b[39m\u001b[38;5;28;01mFalse\u001b[39;00m, BP \u001b[38;5;241m=\u001b[39m \u001b[38;5;124m\"\u001b[39m\u001b[38;5;124m\"\u001b[39m,loc\u001b[38;5;241m=\u001b[39m\u001b[38;5;124m'\u001b[39m\u001b[38;5;124m'\u001b[39m):\n\u001b[1;32m    131\u001b[0m \n\u001b[1;32m    132\u001b[0m     \u001b[38;5;66;03m#################### HISTOGRAMS 1D - STACKED ####################################################\u001b[39;00m\n\u001b[0;32m--> 133\u001b[0m     \u001b[43mhistogram1D_data_stacked\u001b[49m\u001b[43m(\u001b[49m\u001b[43mPATH\u001b[49m\u001b[38;5;241;43m+\u001b[39;49m\u001b[38;5;124;43m\"\u001b[39;49m\u001b[38;5;124;43m/\u001b[39;49m\u001b[38;5;124;43m\"\u001b[39;49m\u001b[38;5;241;43m+\u001b[39;49m\u001b[38;5;124;43m\"\u001b[39;49m\u001b[38;5;124;43m1D_Enu_data_stacked\u001b[39;49m\u001b[38;5;124;43m\"\u001b[39;49m\u001b[43m,\u001b[49m\u001b[43m \u001b[49m\u001b[43mobs\u001b[49m\u001b[43m,\u001b[49m\u001b[43m \u001b[49m\u001b[38;5;124;43mr\u001b[39;49m\u001b[38;5;124;43m\"\u001b[39;49m\u001b[38;5;124;43m$E_\u001b[39;49m\u001b[38;5;124;43m{\u001b[39;49m\u001b[38;5;124;43m\\\u001b[39;49m\u001b[38;5;124;43mrm \u001b[39;49m\u001b[38;5;124;43m\\\u001b[39;49m\u001b[38;5;124;43mnu}/$GeV\u001b[39;49m\u001b[38;5;124;43m\"\u001b[39;49m\u001b[43m,\u001b[49m\u001b[43m \u001b[49m\u001b[43mtitle\u001b[49m\u001b[43m,\u001b[49m\n\u001b[1;32m    134\u001b[0m \u001b[43m        \u001b[49m\u001b[43mvarplot\u001b[49m\u001b[38;5;241;43m=\u001b[39;49m\u001b[38;5;124;43m'\u001b[39;49m\u001b[38;5;124;43mreco_Enu\u001b[39;49m\u001b[38;5;124;43m'\u001b[39;49m\u001b[43m,\u001b[49m\u001b[43m \u001b[49m\u001b[43mtot_events\u001b[49m\u001b[38;5;241;43m=\u001b[39;49m\u001b[43mNEVENTS\u001b[49m\u001b[43m,\u001b[49m\u001b[43mloc\u001b[49m\u001b[38;5;241;43m=\u001b[39;49m\u001b[43mloc\u001b[49m\u001b[43m)\u001b[49m\n\u001b[1;32m    135\u001b[0m     histogram1D_data_stacked(PATH\u001b[38;5;241m+\u001b[39m\u001b[38;5;124m\"\u001b[39m\u001b[38;5;124m/\u001b[39m\u001b[38;5;124m\"\u001b[39m\u001b[38;5;241m+\u001b[39m\u001b[38;5;124m\"\u001b[39m\u001b[38;5;124m1D_Evis_data_stacked\u001b[39m\u001b[38;5;124m\"\u001b[39m, obs, \u001b[38;5;124mr\u001b[39m\u001b[38;5;124m\"\u001b[39m\u001b[38;5;124m$E_\u001b[39m\u001b[38;5;124m{\u001b[39m\u001b[38;5;124m\\\u001b[39m\u001b[38;5;124mrm vis}/$GeV\u001b[39m\u001b[38;5;124m\"\u001b[39m, title,\n\u001b[1;32m    136\u001b[0m         varplot\u001b[38;5;241m=\u001b[39m\u001b[38;5;124m'\u001b[39m\u001b[38;5;124mreco_Evis\u001b[39m\u001b[38;5;124m'\u001b[39m, tot_events\u001b[38;5;241m=\u001b[39mNEVENTS,loc\u001b[38;5;241m=\u001b[39mloc)\n\u001b[1;32m    137\u001b[0m     histogram1D_data_stacked(PATH\u001b[38;5;241m+\u001b[39m\u001b[38;5;124m\"\u001b[39m\u001b[38;5;124m/\u001b[39m\u001b[38;5;124m\"\u001b[39m\u001b[38;5;241m+\u001b[39m\u001b[38;5;124m\"\u001b[39m\u001b[38;5;124m1D_costheta_data_stacked\u001b[39m\u001b[38;5;124m\"\u001b[39m, obs, \u001b[38;5;124mr\u001b[39m\u001b[38;5;124m\"\u001b[39m\u001b[38;5;124m$\u001b[39m\u001b[38;5;124m\\\u001b[39m\u001b[38;5;124mcos\u001b[39m\u001b[38;5;124m\\\u001b[39m\u001b[38;5;124mtheta$\u001b[39m\u001b[38;5;124m\"\u001b[39m, title,\n\u001b[1;32m    138\u001b[0m         varplot\u001b[38;5;241m=\u001b[39m\u001b[38;5;124m'\u001b[39m\u001b[38;5;124mreco_costheta_beam\u001b[39m\u001b[38;5;124m'\u001b[39m, tot_events\u001b[38;5;241m=\u001b[39mNEVENTS,loc\u001b[38;5;241m=\u001b[39mloc)\n",
      "File \u001b[0;32m~/Repos/DarkNews-generator/examples/ToyAnalysis/plot_tools.py:312\u001b[0m, in \u001b[0;36mhistogram1D_data_stacked\u001b[0;34m(plotname, df, XLABEL, TITLE, varplot, tot_events, rasterized, loc)\u001b[0m\n\u001b[1;32m    310\u001b[0m fsize \u001b[38;5;241m=\u001b[39m \u001b[38;5;241m10\u001b[39m\n\u001b[1;32m    311\u001b[0m fig \u001b[38;5;241m=\u001b[39m plt\u001b[38;5;241m.\u001b[39mfigure()\n\u001b[0;32m--> 312\u001b[0m ax \u001b[38;5;241m=\u001b[39m fig\u001b[38;5;241m.\u001b[39madd_axes(\u001b[43maxes_form\u001b[49m, rasterized\u001b[38;5;241m=\u001b[39mrasterized)\n\u001b[1;32m    313\u001b[0m ax\u001b[38;5;241m.\u001b[39mpatch\u001b[38;5;241m.\u001b[39mset_alpha(\u001b[38;5;241m0.0\u001b[39m)\n\u001b[1;32m    316\u001b[0m \u001b[38;5;66;03m#####################\u001b[39;00m\n\u001b[1;32m    317\u001b[0m \u001b[38;5;66;03m# MiniBooNE data \u001b[39;00m\n",
      "\u001b[0;31mNameError\u001b[0m: name 'axes_form' is not defined"
     ]
    },
    {
     "data": {
      "text/plain": [
       "<Figure size 432x288 with 0 Axes>"
      ]
     },
     "metadata": {},
     "output_type": "display_data"
    }
   ],
   "source": [
    "ta.plot_tools.plot_all_rates(df, case_name='example_3/rate', Nevents=None, loc='')\n",
    "# ta.plot_tools.batch_plot(df, 'plots/example_3/', title='DarKNews')"
   ]
  },
  {
   "cell_type": "markdown",
   "id": "6e860c44",
   "metadata": {},
   "source": [
    "### MiniBooNE efficiencies\n"
   ]
  },
  {
   "cell_type": "code",
   "execution_count": null,
   "id": "52987aa1",
   "metadata": {},
   "outputs": [],
   "source": [
    "eff_func = scipy.interpolate.interp1d(enu_c, eff, fill_value=(eff[0],eff[-1]), bounds_error=False, kind='nearest')"
   ]
  },
  {
   "cell_type": "code",
   "execution_count": null,
   "id": "42dfba1b",
   "metadata": {},
   "outputs": [
    {
     "data": {
      "image/png": "[encoded data removed]",
      "text/plain": [
       "<Figure size 319.68x221.055 with 1 Axes>"
      ]
     },
     "metadata": {
      "needs_background": "light"
     },
     "output_type": "display_data"
    }
   ],
   "source": [
    "fig,ax = ta.plot_tools.std_fig()\n",
    "enu_c, eff, err_eff = np.genfromtxt(\"aux_data/miniboone_eff/eg_effs.dat\",unpack=True)\n",
    "enu_w = (np.append(enu_c[1:],2200)-enu_c)\n",
    "\n",
    "\n",
    "kwargs={'facecolor': 'dodgerblue', 'edgecolor': 'None'}\n",
    "ta.plot_tools.data_plot(ax, enu_c, enu_w, eff, err_eff/2, err_eff/2, label=r'$e/\\gamma$ efficiency')\n",
    "# ta.plot_tools.errorband_plot(ax, enu_c, enu_w, eff, err_eff/2, err_eff/2, label=r'$e/\\gamma$ efficiency', **kwargs)\n",
    "ax.legend(loc='upper right', )\n",
    "\n",
    "ax.set_ylim(0,0.160)\n",
    "ax.set_xlim(0,2100)\n",
    "ax.set_xlabel(r\"$E_\\nu/$MeV\")\n",
    "ax.set_ylabel(r\"eff\")\n",
    "\n",
    "ta.plot_tools.std_savefig(fig, 'plots/miniboone_effs.pdf')"
   ]
  },
  {
   "cell_type": "code",
   "execution_count": 23,
   "id": "73ab242d",
   "metadata": {},
   "outputs": [
    {
     "name": "stdout",
     "output_type": "stream",
     "text": [
      "\\delta m_phi/y_phi = 7.2e-06 eV\n"
     ]
    }
   ],
   "source": [
    "T=1.6e-4 # eV\n",
    "\n",
    "mnu = np.sqrt(2e-3) # eV\n",
    "N_nu = 300 # nus/cm^3 \n",
    "convert = dn.const.invcm3_to_eV3 # cm^-3 --> eV^3\n",
    "\n",
    "print(f\"\\delta m_phi/y_phi = {np.sqrt(N_nu*convert/mnu):.2g} eV\")"
   ]
  },
  {
   "cell_type": "code",
   "execution_count": 123,
   "id": "3d3dcd87",
   "metadata": {},
   "outputs": [
    {
     "name": "stdout",
     "output_type": "stream",
     "text": [
      "delta m_nu = 1.2e-09 eV\n"
     ]
    }
   ],
   "source": [
    "mphi = 1e-14\n",
    "print(f\"delta m_nu = {1e-20*0.3e9/mphi*dn.const.invcm3_to_eV3/mnu**2:.2g} eV\")"
   ]
  },
  {
   "cell_type": "code",
   "execution_count": 35,
   "id": "fc108347",
   "metadata": {},
   "outputs": [],
   "source": [
    "def gamma_heavy(m4, mz, Valpha4_alphaepsilon2, D_or_M):\n",
    "    # to accept floats\n",
    "    m4 = np.asarray(m4)\n",
    "    mz = np.asarray(mz)\n",
    "    Valpha4_alphaepsilon2 = np.asarray(Valpha4_alphaepsilon2)\n",
    "    D_or_M = np.asarray(D_or_M)\n",
    "    \n",
    "    '''there is a cancellation for small r that holds up to 4th order, so I avoid instability by expanding when r is small'''\n",
    "    r = ((m4/mz)**2)\n",
    "    gamma = Valpha4_alphaepsilon2/12.0/np.pi/r**2 * m4\n",
    "    # avoiding evaluation of bad expression\n",
    "    piece = np.where(r>0.01,\n",
    "                     (6*(r - r**2/2.0 - np.log((1.0/(1.0-r))**(1 - r)) )- r**3),\n",
    "                     r**4/2)\n",
    "    gamma *= piece\n",
    "    gamma = np.asarray(gamma)\n",
    "    gamma[D_or_M == 'dirac'] /= 2\n",
    "    return gamma\n"
   ]
  },
  {
   "cell_type": "code",
   "execution_count": 125,
   "id": "75210c0b",
   "metadata": {},
   "outputs": [
    {
     "data": {
      "text/plain": [
       "0.9955253028301461"
      ]
     },
     "execution_count": 125,
     "metadata": {},
     "output_type": "execute_result"
    }
   ],
   "source": [
    "alphaeps2 = const.alphaQED*1e-4\n",
    "const.get_decay_rate_in_cm(gamma_heavy(0.100, 1.25, alphaeps2, D_or_M='dirac'))\n"
   ]
  },
  {
   "cell_type": "code",
   "execution_count": 121,
   "id": "9a11d439",
   "metadata": {},
   "outputs": [],
   "source": [
    "def L(x):\n",
    "    # return np.where(x>0.01, \n",
    "    #                 12*(x**(-3) - 0.5*x**(-2) - 1/x**4*(1-x)*np.log(x/(1-x))) - 1/x,\n",
    "    #                 1)\n",
    "    return 12*(x - x**2/2 - x**3/6 - (1-x)*np.log(1/(1-x)))"
   ]
  },
  {
   "cell_type": "code",
   "execution_count": 122,
   "id": "aafdfdf3",
   "metadata": {},
   "outputs": [
    {
     "name": "stderr",
     "output_type": "stream",
     "text": [
      "/var/folders/my/7j7cn6f92_z66yvbb11lgt2r0000gn/T/ipykernel_8013/3802361246.py:5: RuntimeWarning: invalid value encountered in log\n",
      "  return 12*(x - x**2/2 - x**3/6 - (1-x)*np.log(1/(1-x)))\n"
     ]
    },
    {
     "data": {
      "text/plain": [
       "[<matplotlib.lines.Line2D at 0x134cc2d00>]"
      ]
     },
     "execution_count": 122,
     "metadata": {},
     "output_type": "execute_result"
    },
    {
     "data": {
      "image/png": "[encoded data removed]",
      "text/plain": [
       "<Figure size 432x288 with 1 Axes>"
      ]
     },
     "metadata": {
      "needs_background": "light"
     },
     "output_type": "display_data"
    }
   ],
   "source": [
    "x=np.geomspace(1e-3,10)\n",
    "plt.loglog(x,L(x)/x**4)                                "
   ]
  },
  {
   "cell_type": "code",
   "execution_count": 102,
   "id": "5a2c87c1",
   "metadata": {},
   "outputs": [
    {
     "name": "stderr",
     "output_type": "stream",
     "text": [
      "/var/folders/my/7j7cn6f92_z66yvbb11lgt2r0000gn/T/ipykernel_8013/3406407842.py:1: RuntimeWarning: invalid value encountered in log\n",
      "  plt.plot(x,np.log(x/(1-x)))\n"
     ]
    },
    {
     "data": {
      "text/plain": [
       "[<matplotlib.lines.Line2D at 0x1344beb20>]"
      ]
     },
     "execution_count": 102,
     "metadata": {},
     "output_type": "execute_result"
    },
    {
     "data": {
      "image/png": "[encoded data removed]",
      "text/plain": [
       "<Figure size 432x288 with 1 Axes>"
      ]
     },
     "metadata": {
      "needs_background": "light"
     },
     "output_type": "display_data"
    }
   ],
   "source": [
    "plt.plot(x,np.log(x/(1-x)))"
   ]
  },
  {
   "cell_type": "code",
   "execution_count": null,
   "id": "42c48b84",
   "metadata": {},
   "outputs": [],
   "source": []
  }
 ],
 "metadata": {
  "kernelspec": {
   "display_name": "Python 3",
   "language": "python",
   "name": "python3"
  },
  "language_info": {
   "codemirror_mode": {
    "name": "ipython",
    "version": 3
   },
   "file_extension": ".py",
   "mimetype": "text/x-python",
   "name": "python",
   "nbconvert_exporter": "python",
   "pygments_lexer": "ipython3",
   "version": "3.9.12"
  }
 },
 "nbformat": 4,
 "nbformat_minor": 5
}
