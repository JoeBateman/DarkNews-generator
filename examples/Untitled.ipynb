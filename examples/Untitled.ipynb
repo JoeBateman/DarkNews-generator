{
 "cells": [
  {
   "cell_type": "code",
   "execution_count": 1,
   "id": "835bcccc-e655-454f-85ed-0552a25077d6",
   "metadata": {},
   "outputs": [],
   "source": [
    "%load_ext autoreload\n",
    "%autoreload 2"
   ]
  },
  {
   "cell_type": "code",
   "execution_count": 2,
   "id": "4e40667d-345b-4673-ac64-999cf79d08cc",
   "metadata": {},
   "outputs": [],
   "source": [
    "import matplotlib.pyplot as plt\n",
    "import numpy as np\n",
    "import seaborn as sns\n",
    "\n",
    "import DarkNews as dn\n",
    "from DarkNews import GenLauncher\n",
    "\n",
    "import ToyAnalysis as ta\n",
    "\n",
    "import ToyAnalysis.analysis as a\n",
    "import ToyAnalysis.analysis_decay as an"
   ]
  },
  {
   "cell_type": "code",
   "execution_count": 7,
   "id": "7480947b-5331-4b72-b11c-6c3199440e06",
   "metadata": {},
   "outputs": [],
   "source": [
    "kwargs = {  \n",
    "        'neval': 1e5,\n",
    "        'HNLtype': 'dirac',\n",
    "        'gD': 2.,\n",
    "        'UD4': 1/np.sqrt(2),\n",
    "        'UD5': 1/np.sqrt(2),\n",
    "        'Umu4': 0.000233/2,\n",
    "        'Umu5': 0.000233/2,\n",
    "        'epsilon': 8e-4,\n",
    "        'experiment': 'miniboone_fhc_dirt',\n",
    "        'pandas': False,\n",
    "        'loglevel': 'WARNING'\n",
    "        }\n",
    "\n",
    "gen_object = GenLauncher(mzprime=1.25, m5=0.150, m4=0.107, **kwargs)\n",
    "gen_object.run()\n",
    "df = gen_object.df"
   ]
  },
  {
   "cell_type": "code",
   "execution_count": 8,
   "id": "92b547be-5ebb-49aa-9158-525209653dc0",
   "metadata": {},
   "outputs": [],
   "source": [
    "df1 = an.select_MB_decay_dirt(df)"
   ]
  },
  {
   "cell_type": "code",
   "execution_count": 9,
   "id": "18e40e05-2cb5-4346-bf01-4466f600c86b",
   "metadata": {},
   "outputs": [],
   "source": [
    "df2 = a.compute_spectrum(df1, EVENT_TYPE='both')"
   ]
  },
  {
   "cell_type": "code",
   "execution_count": 10,
   "id": "92044d92-d6bb-4dfc-bda0-6cdb5e013006",
   "metadata": {},
   "outputs": [
    {
     "data": {
      "text/plain": [
       "0.06760480174874908"
      ]
     },
     "execution_count": 10,
     "metadata": {},
     "output_type": "execute_result"
    }
   ],
   "source": [
    "df2.reco_w.sum()"
   ]
  },
  {
   "cell_type": "code",
   "execution_count": 15,
   "id": "a80e1301-4d65-491c-af1d-ade28efe3295",
   "metadata": {},
   "outputs": [
    {
     "name": "stdout",
     "output_type": "stream",
     "text": [
      "---------------------------------------------------------\n",
      "   ______           _        _   _                     \n",
      "   |  _  \\         | |      | \\ | |                    \n",
      "   | | | |__ _ _ __| | __   |  \\| | _____      _____   \n",
      "   | | | / _  | ___| |/ /   | .   |/ _ \\ \\ /\\ / / __|  \n",
      "   | |/ / (_| | |  |   <    | |\\  |  __/\\ V  V /\\__ \\  \n",
      "   |___/ \\__,_|_|  |_|\\_\\   \\_| \\_/\\___| \\_/\\_/ |___/  \n",
      "\n",
      "---------------------------------------------------------\n",
      "Model:\n",
      "\t2 dirac heavy neutrino(s).\n",
      "\n",
      "---------------------------------------------------------\n",
      "Experiment:\n",
      "\tMiniBooNE_FHC\n",
      "\tfluxfile loaded: MiniBooNE_FHC.dat\n",
      "\tPOT: 1.875e+21\n",
      "\tnuclear targets: ['C12', 'H1']\n",
      "\tfiducial mass: [701.1428571428571, 116.85714285714286] tonnes\n",
      "\n",
      "Directory tree for this run already exists. Overriding it.\n"
     ]
    }
   ],
   "source": [
    "ud4_def = 1.0/np.sqrt(2.)\n",
    "ud5_def = 1.0/np.sqrt(2.)\n",
    "gD_def = 2.\n",
    "epsilon_def = 1e-2\n",
    "umu4_def = 0.001732/2\n",
    "umu5_def = 0.001732/2\n",
    "\n",
    "gen = GenLauncher(mzprime=1.25, m5=0.1075, m4=0.07207,epsilon=epsilon_def, Umu4=umu4_def, Umu5=umu5_def, UD4=ud4_def, UD5=ud5_def, gD=gD_def, neval=100000, HNLtype=\"dirac\", experiment=\"miniboone_fhc\",sparse=True,print_to_float32=True, pandas=False, parquet=True)\n",
    "gen_object.run()\n",
    "df = gen_object.df\n",
    "df1 = a.compute_spectrum(df, EVENT_TYPE='both')\n",
    "df2 = an.select_MB_decay_expo_prob(df1)\n"
   ]
  },
  {
   "cell_type": "code",
   "execution_count": 16,
   "id": "6016dbb3-2cf2-4688-b55c-9cdd98d8f48a",
   "metadata": {},
   "outputs": [
    {
     "data": {
      "text/plain": [
       "2.6739329748283334"
      ]
     },
     "execution_count": 16,
     "metadata": {},
     "output_type": "execute_result"
    }
   ],
   "source": [
    "df.w_event_rate.sum()"
   ]
  },
  {
   "cell_type": "code",
   "execution_count": 17,
   "id": "f396ee6d-ca54-44ef-ab46-0e96ed2e7320",
   "metadata": {},
   "outputs": [
    {
     "data": {
      "text/plain": [
       "0.0023851282658944642"
      ]
     },
     "execution_count": 17,
     "metadata": {},
     "output_type": "execute_result"
    }
   ],
   "source": [
    "df2.reco_w.sum()"
   ]
  },
  {
   "cell_type": "code",
   "execution_count": 22,
   "id": "f3e8b458-dfd1-400b-94c4-721b867d5dd8",
   "metadata": {},
   "outputs": [
    {
     "data": {
      "text/plain": [
       "{'experiment': <DarkNews.detector.Detector at 0x7f93165c05e0>,\n",
       " 'model': <DarkNews.model.ThreePortalModel at 0x7f932c83e470>,\n",
       " 'N5_ctau0': 16105.639123037292,\n",
       " 'data_path': PosixPath('data/miniboone_fhc/3plus2/m5_0.15_m4_0.107_mzprime_1.25_dirac')}"
      ]
     },
     "execution_count": 22,
     "metadata": {},
     "output_type": "execute_result"
    }
   ],
   "source": [
    "df.attrs"
   ]
  },
  {
   "cell_type": "code",
   "execution_count": 20,
   "id": "5ce14b70-018b-4e12-9c13-d71abb96f9c7",
   "metadata": {},
   "outputs": [
    {
     "data": {
      "text/plain": [
       "0.00042884349314197174"
      ]
     },
     "execution_count": 20,
     "metadata": {},
     "output_type": "execute_result"
    }
   ],
   "source": [
    "0.0023851282658944642 / 556.176858 * 100"
   ]
  },
  {
   "cell_type": "code",
   "execution_count": 27,
   "id": "c2cc851c-fdf3-4adc-9afb-609cae530bf5",
   "metadata": {},
   "outputs": [
    {
     "data": {
      "text/plain": [
       "2685.0114485760255"
      ]
     },
     "execution_count": 27,
     "metadata": {},
     "output_type": "execute_result"
    }
   ],
   "source": [
    "dn.const.get_decay_rate_in_cm(np.sum(df.w_decay_rate_0))"
   ]
  },
  {
   "cell_type": "code",
   "execution_count": null,
   "id": "d517b5f4-ca24-4a93-bb93-61119af44193",
   "metadata": {},
   "outputs": [],
   "source": []
  }
 ],
 "metadata": {
  "kernelspec": {
   "display_name": "Python 3 (ipykernel)",
   "language": "python",
   "name": "python3"
  },
  "language_info": {
   "codemirror_mode": {
    "name": "ipython",
    "version": 3
   },
   "file_extension": ".py",
   "mimetype": "text/x-python",
   "name": "python",
   "nbconvert_exporter": "python",
   "pygments_lexer": "ipython3",
   "version": "3.10.5"
  }
 },
 "nbformat": 4,
 "nbformat_minor": 5
}
