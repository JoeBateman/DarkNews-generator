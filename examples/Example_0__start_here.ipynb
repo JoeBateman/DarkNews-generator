{
 "cells": [
  {
   "cell_type": "markdown",
   "metadata": {},
   "source": [
    "# Example 0\n",
    "\n",
    "This notebook generates dark neutrino events, loads them, and describes the output formats. "
   ]
  },
  {
   "cell_type": "code",
   "execution_count": 1,
   "metadata": {},
   "outputs": [],
   "source": [
    "%load_ext autoreload\n",
    "%autoreload 2"
   ]
  },
  {
   "cell_type": "code",
   "execution_count": 2,
   "metadata": {},
   "outputs": [],
   "source": [
    "import os\n",
    "import numpy as np\n",
    "import pandas as pd\n",
    "\n",
    "import DarkNews as dn\n",
    "from DarkNews import const"
   ]
  },
  {
   "cell_type": "markdown",
   "metadata": {},
   "source": [
    "## Generating events\n",
    "\n",
    "Let us start by generating a few dark neutrino events for two cases of interest.\n",
    "\n",
    "We do this in two different ways. \n",
    "\n",
    "First using the GenLauncher class, as well as via the command line functionality. In the second case we will need to import the dataframe or the HEPEVT file from the specified path."
   ]
  },
  {
   "cell_type": "code",
   "execution_count": 23,
   "metadata": {
    "scrolled": true
   },
   "outputs": [
    {
     "name": "stdout",
     "output_type": "stream",
     "text": [
      "dn_gen --mzprime=1.25 --m4=0.140 --neval=1000 --D_or_M=dirac --log=INFO\n",
      "\n",
      "\n",
      "    #########################################################\n",
      "    #   ______           _        _   _                     #\n",
      "    #   |  _  \\         | |      | \\ | |                    #\n",
      "    #   | | | |__ _ _ __| | __   |  \\| | _____      _____   #\n",
      "    #   | | | / _  | ___| |/ /   | .   |/ _ \\ \\ /\\ / / __|  #\n",
      "    #   | |/ / (_| | |  |   <    | |\\  |  __/\\ V  V /\\__ \\  #\n",
      "    #   |___/ \\__,_|_|  |_|\\_\\   \\_| \\_/\\___| \\_/\\_/ |___/  #\n",
      "    #                                                       #\n",
      "    #########################################################\n",
      "    \n",
      "Theory model used: 3+1 dirac HNL model\n",
      "\n",
      "\n",
      "Generating helicity conserving upscattering events for:\n",
      "\tnu(mu) + C12 -> N4 +  C12 -> nu_light + e+ + e- + C12\n",
      "\n",
      "decaying N4 using off-shell Z' mediator.\n",
      "Generating helicity flipping upscattering events for:\n",
      "\tnu(mu) + C12 -> N4 +  C12 -> nu_light + e+ + e- + C12\n",
      "\n",
      "decaying N4 using off-shell Z' mediator.\n",
      "Generating helicity conserving upscattering events for:\n",
      "\tnu(mu) + proton_in_C12 -> N4 +  proton_in_C12 -> nu_light + e+ + e- + proton_in_C12\n",
      "\n",
      "decaying N4 using off-shell Z' mediator.\n",
      "Generating helicity flipping upscattering events for:\n",
      "\tnu(mu) + proton_in_C12 -> N4 +  proton_in_C12 -> nu_light + e+ + e- + proton_in_C12\n",
      "\n",
      "decaying N4 using off-shell Z' mediator.\n",
      "Generating helicity conserving upscattering events for:\n",
      "\tnu(mu) + proton_in_H1 -> N4 +  proton_in_H1 -> nu_light + e+ + e- + proton_in_H1\n",
      "\n",
      "decaying N4 using off-shell Z' mediator.\n",
      "Generating helicity flipping upscattering events for:\n",
      "\tnu(mu) + proton_in_H1 -> N4 +  proton_in_H1 -> nu_light + e+ + e- + proton_in_H1\n",
      "\n",
      "decaying N4 using off-shell Z' mediator.\n",
      "Outputs saved in data/miniboone_fhc/3plus1/m4_0.14_mzprime_1.25_dirac/\n",
      "\n",
      "\n",
      "dn_gen --umu5=1e-3 --ud5=35 --chi=0.0031 --gD=2 --mzprime=1.25 --m4=0.080 --m5=0.140 --neval=1000 --D_or_M=majorana --log=INFO\n",
      "\n",
      "\n",
      "    #########################################################\n",
      "    #   ______           _        _   _                     #\n",
      "    #   |  _  \\         | |      | \\ | |                    #\n",
      "    #   | | | |__ _ _ __| | __   |  \\| | _____      _____   #\n",
      "    #   | | | / _  | ___| |/ /   | .   |/ _ \\ \\ /\\ / / __|  #\n",
      "    #   | |/ / (_| | |  |   <    | |\\  |  __/\\ V  V /\\__ \\  #\n",
      "    #   |___/ \\__,_|_|  |_|\\_\\   \\_| \\_/\\___| \\_/\\_/ |___/  #\n",
      "    #                                                       #\n",
      "    #########################################################\n",
      "    \n",
      "Theory model used: 3+2 majorana HNL model\n",
      "\n",
      "\n",
      "Generating helicity conserving upscattering events for:\n",
      "\tnu(mu) + C12 -> N5 +  C12 -> N4 + e+ + e- + C12\n",
      "\n",
      "decaying N5 using off-shell Z' mediator.\n",
      "\n",
      "Traceback (most recent call last):\n",
      "  File \"/usr/local/bin/dn_gen\", line 7, in <module>\n",
      "    exec(compile(f.read(), __file__, 'exec'))\n",
      "  File \"/Users/matheushostert/Repos/DarkNews-generator/bin/dn_gen\", line 305, in <module>\n",
      "    dn_gen(sys.argv[1:])\n",
      "  File \"/Users/matheushostert/Repos/DarkNews-generator/bin/dn_gen\", line 271, in dn_gen\n",
      "    df_gen = dn.MC.run_MC(bsm_model, myexp, **kwargs)\n",
      "  File \"/Users/matheushostert/Repos/DarkNews-generator/src/DarkNews/MC.py\", line 426, in run_MC\n",
      "    gen_cases_dfs = gen_cases[0].get_MC_events()\n",
      "  File \"/Users/matheushostert/Repos/DarkNews-generator/src/DarkNews/MC.py\", line 240, in get_MC_events\n",
      "    result = run_vegas(batch_f, integ, NINT=NINT, NEVAL=NEVAL, NINT_warmup=NINT_warmup, NEVAL_warmup=NEVAL_warmup)\n",
      "  File \"/Users/matheushostert/Repos/DarkNews-generator/src/DarkNews/MC.py\", line 467, in run_vegas\n",
      "    integ(batch_f, nitn=NINT_warmup, neval=NEVAL_warmup)\n",
      "  File \"_vegas.pyx\", line 1378, in random_batch\n",
      "  File \"_vegas.pyx\", line 2223, in vegas._vegas.VegasIntegrand.__init__.eval\n",
      "  File \"/Users/matheushostert/Repos/DarkNews-generator/src/DarkNews/integrands.py\", line 243, in __call__\n",
      "    self.int_dic['diff_event_rate'] *= self.int_dic[decay_step]\n",
      "numpy.core._exceptions._UFuncOutputCastingError: Cannot cast ufunc 'multiply' output from dtype('complex128') to dtype('float64') with casting rule 'same_kind'\n",
      "\n"
     ]
    }
   ],
   "source": [
    "cmd_string = \"dn_gen --mzprime=1.25 --m4=0.140 --neval=1000 --D_or_M=dirac --log=INFO\"\n",
    "const.subprocess_cmd(cmd_string)\n",
    "\n",
    "cmd_string = \"dn_gen --umu5=1e-3 --ud5=35 --chi=0.0031 --gD=2 --mzprime=1.25 --m4=0.080 --m5=0.140 --neval=1000 --D_or_M=majorana --log=INFO\"\n",
    "const.subprocess_cmd(cmd_string)\n",
    "\n",
    "### DANIELE's METHOD....\n",
    "# Gen = ....\n",
    "# df_m = Gen.run(...)"
   ]
  },
  {
   "cell_type": "code",
   "execution_count": 4,
   "metadata": {
    "scrolled": true
   },
   "outputs": [],
   "source": [
    "# loading the events generated via the command line\n",
    "df_d = pd.read_pickle('data/miniboone/3plus1/m4_0.14_mzprime_1.25_dirac/pandas_df.pckl')"
   ]
  },
  {
   "cell_type": "markdown",
   "metadata": {},
   "source": [
    "---\n",
    "# Pandas DataFrame Output"
   ]
  },
  {
   "cell_type": "markdown",
   "metadata": {},
   "source": [
    "### Metadata\n",
    "\n",
    "Before inspecting the events inside the pandas dataframe, let us check the metadata in [df.attrs](https://pandas.pydata.org/pandas-docs/stable/reference/api/pandas.DataFrame.attrs.html). We have:\n",
    "\n",
    "---\n",
    "1. **experiment**: this is a class DarkNews.experiment.Detector, which contains all the information about the experiment for which the events are generated. It also contains a list of instances of the NuclearTarget class, which contains information about the different scattering target used."
   ]
  },
  {
   "cell_type": "code",
   "execution_count": 242,
   "metadata": {},
   "outputs": [
    {
     "name": "stdout",
     "output_type": "stream",
     "text": [
      "Attributes of Detector class: \n",
      " NAME FLUXFILE FLUX_NORM ERANGE NUCLEAR_TARGETS FIDUCIAL_MASS_PER_TARGET NUMBER_OF_TARGETS POTS\n",
      "\n",
      "Attributes of NuclearTarget class: \n",
      " name Z N A atomic_Eb electronic_Eb nuclear_Eb atomic_mass excess_mass nuclear_mass beta_decay_energy mass charge is_hadron is_nucleus is_proton is_neutron is_nucleon is_free_nucleon is_bound_nucleon pdgid tau3 F1_EM F2_EM F1_NC F2_NC F3_NC\n",
      "\n",
      "Example of how to look up nuclear targets:\n",
      "701.14 tonnes of C12\n",
      "116.86 tonnes of H1\n"
     ]
    }
   ],
   "source": [
    "# general description of the detector attribute\n",
    "keys = list(df_d.attrs['experiment'].__dict__.keys())\n",
    "print(f\"Attributes of Detector class: \\n\",*keys)\n",
    "print(f\"\\nAttributes of NuclearTarget class: \\n\",*list(df_d.attrs['experiment'].NUCLEAR_TARGETS[0].__dict__))\n",
    "\n",
    "# how much of each target inside the detector?\n",
    "print(\"\\nExample of how to look up nuclear targets:\")\n",
    "for target, fid_mass in zip(df_d.attrs['experiment'].NUCLEAR_TARGETS, df_d.attrs['experiment'].FIDUCIAL_MASS_PER_TARGET):\n",
    "    print(fr\"{round(fid_mass,2)} tonnes of {target.name}\")\n"
   ]
  },
  {
   "cell_type": "markdown",
   "metadata": {},
   "source": [
    "---\n",
    "2. **bsm_model**: this attribute contains DarkNews.model.Model, which stores all the new physics parameters used in the generation. This includes both low-level information, such as the couplings, say $g_D$, as well as high-level ones, such as the couplings of the $Z^\\prime$ to electrons, $d_e^V$ and $d_e^A$."
   ]
  },
  {
   "cell_type": "code",
   "execution_count": 244,
   "metadata": {
    "scrolled": true
   },
   "outputs": [
    {
     "name": "stdout",
     "output_type": "stream",
     "text": [
      "Some low-level parameters:\n",
      " gD epsilon epsilonZ Ue4 Umu4 Utau4 Ue5 Umu5 Utau5 Ue6 Umu6 Utau6 UD4 UD5 UD6 m4 m5 m6 mzprime\n",
      "\n",
      "Some high-level parameters:\n",
      " deV deA duV duA ddV ddA dVproton dAproton dVneutron dAneutron cVproton cAproton cVneutron cAneutron\n"
     ]
    }
   ],
   "source": [
    "print(\"Some low-level parameters:\\n\",*list(df_d.attrs['bsm_model'].__dict__.keys())[:19])\n",
    "print(\"\\nSome high-level parameters:\\n\",*list(df_d.attrs['bsm_model'].__dict__.keys())[-14:])"
   ]
  },
  {
   "cell_type": "markdown",
   "metadata": {},
   "source": [
    "---\n",
    "### Description of the event structure\n",
    "\n",
    "Now we look at the actual events. The DataFrame is a MultiIndex df. Each event contains the components for all the 4-momenta of the particles involved:\n",
    "\n",
    "$$\\nu _\\text{P_projectile} \\,+\\, \\text{Hadronic target} _\\text{P_target} \\to   N _\\text{P_decay_N_parent} \\,+\\, \\text{Hadronic recoil} _\\text{P_recoil}$$\n",
    "\n",
    "$$N _\\text{P_decay_N_parent} \\to N^\\prime _\\text{P_decay_N_daughter} \\,+\\, \\ell^+ _\\text{P_decay_ell_plus} \\,+\\, \\ell^-_\\text{P_decay_ell_minus}$$\n",
    "\n"
   ]
  },
  {
   "cell_type": "code",
   "execution_count": 28,
   "metadata": {},
   "outputs": [
    {
     "data": {
      "text/plain": [
       "P_projectile        t    float64\n",
       "                    x    float64\n",
       "                    y    float64\n",
       "                    z    float64\n",
       "P_decay_N_parent    t    float64\n",
       "                    x    float64\n",
       "                    y    float64\n",
       "                    z    float64\n",
       "P_target            t    float64\n",
       "                    x    float64\n",
       "                    y    float64\n",
       "                    z    float64\n",
       "P_recoil            t    float64\n",
       "                    x    float64\n",
       "                    y    float64\n",
       "                    z    float64\n",
       "P_decay_ell_minus   t    float64\n",
       "                    x    float64\n",
       "                    y    float64\n",
       "                    z    float64\n",
       "P_decay_ell_plus    t    float64\n",
       "                    x    float64\n",
       "                    y    float64\n",
       "                    z    float64\n",
       "P_decay_N_daughter  t    float64\n",
       "                    x    float64\n",
       "                    y    float64\n",
       "                    z    float64\n",
       "decay_displacement  t    float64\n",
       "                    x    float64\n",
       "                    y    float64\n",
       "                    z    float64\n",
       "w_decay_rate_0           float64\n",
       "I_decay_rate_0           float64\n",
       "w_event_rate             float64\n",
       "I_event_rate             float64\n",
       "w_flux_avg_xsec          float64\n",
       "I_flux_avg_xsec          float64\n",
       "target                    object\n",
       "target_pdgid               int64\n",
       "scattering_regime         object\n",
       "helicity                  object\n",
       "underlying_process        object\n",
       "dtype: object"
      ]
     },
     "execution_count": 28,
     "metadata": {},
     "output_type": "execute_result"
    }
   ],
   "source": [
    "df_d.dtypes"
   ]
  },
  {
   "cell_type": "markdown",
   "metadata": {},
   "source": [
    "##\n",
    "\n",
    "* w_decay_rate_0           float64 -- weight of the decay rate (sum(w) = Gamma_N)\n",
    "* I_decay_rate_0           float64 -- total rate Gamma_N\n",
    "\n",
    "\n",
    "* w_event_rate             float64 -- weight for the event rate (sum(w) = event rate)\n",
    "* I_event_rate             float64 -- total event rate\n",
    "\n",
    "\n",
    "* w_flux_avg_xsec          float64 -- weight of the flux averaged cross section (sum(w) = int(sigma*flux)* exposure)\n",
    "* I_flux_avg_xsec          float64 -- int(sigma*flux)* exposure\n",
    "\n",
    "\n",
    "* target                    object -- target object -- it will typically be a nucleus\n",
    "* target_pdgid               int64 -- pdgID of the target \n",
    "\n",
    "\n",
    "* scattering_regime         object -- regime can be coherent or p-elastic\n",
    "* helicity                  object -- helicity process, can be flipping or conserving. flipping is suppressed\n",
    "* underlying_process        object -- string of the underlying process, e.g, \"nu(mu) + proton_in_C12 -> N4 +  proton_in_C12 -> nu(mu) + e+ + e- + proton_in_C12\""
   ]
  },
  {
   "cell_type": "code",
   "execution_count": null,
   "metadata": {},
   "outputs": [],
   "source": []
  },
  {
   "cell_type": "code",
   "execution_count": 14,
   "metadata": {},
   "outputs": [
    {
     "data": {
      "text/plain": [
       "(3192, 4)"
      ]
     },
     "execution_count": 14,
     "metadata": {},
     "output_type": "execute_result"
    }
   ],
   "source": [
    "np.shape(df_d['P_decay_N_parent'].to_numpy())"
   ]
  },
  {
   "cell_type": "code",
   "execution_count": 15,
   "metadata": {},
   "outputs": [],
   "source": [
    "from DarkNews import fourvec as fv"
   ]
  },
  {
   "cell_type": "code",
   "execution_count": 18,
   "metadata": {},
   "outputs": [
    {
     "data": {
      "text/plain": [
       "array([0.0196, 0.0196, 0.0196, ..., 0.0196, 0.0196, 0.0196])"
      ]
     },
     "execution_count": 18,
     "metadata": {},
     "output_type": "execute_result"
    }
   ],
   "source": [
    "fv.df_dot4(df_d['P_decay_N_parent'],df_d['P_decay_N_parent'])"
   ]
  },
  {
   "cell_type": "code",
   "execution_count": null,
   "metadata": {},
   "outputs": [],
   "source": []
  }
 ],
 "metadata": {
  "kernelspec": {
   "display_name": "Python 3",
   "language": "python",
   "name": "python3"
  },
  "language_info": {
   "codemirror_mode": {
    "name": "ipython",
    "version": 3
   },
   "file_extension": ".py",
   "mimetype": "text/x-python",
   "name": "python",
   "nbconvert_exporter": "python",
   "pygments_lexer": "ipython3",
   "version": "3.9.9"
  }
 },
 "nbformat": 4,
 "nbformat_minor": 4
}
