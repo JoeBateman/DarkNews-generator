{
 "cells": [
  {
   "cell_type": "code",
   "execution_count": 1,
   "id": "a9f02450-3b6e-4d76-b22b-ad1b36ae3a05",
   "metadata": {},
   "outputs": [],
   "source": [
    "%load_ext autoreload\n",
    "%autoreload 2 "
   ]
  },
  {
   "cell_type": "code",
   "execution_count": 3,
   "id": "e927cc64-fbbb-45f0-8199-d8f1927c6307",
   "metadata": {},
   "outputs": [],
   "source": [
    "import numpy as np\n",
    "import matplotlib.pyplot as plt\n",
    "import pandas as pd\n",
    "\n",
    "from ToyAnalysis import grid_fit as gf"
   ]
  },
  {
   "cell_type": "markdown",
   "id": "a5ed6563-9174-4d86-b90c-1abcb2d19854",
   "metadata": {},
   "source": [
    "# General features"
   ]
  },
  {
   "cell_type": "markdown",
   "id": "4a7bd874-0eaf-49d6-9236-784648fedfd8",
   "metadata": {},
   "source": [
    "Before creating a grid to fit different parameters to the data of a particular experiment (by now only MiniBooNE fitting is available), you can set the default values of the couplings and mixing elements that will be use to generate the events using DarkNews:"
   ]
  },
  {
   "cell_type": "code",
   "execution_count": 4,
   "id": "ae64888c-ce9d-40d8-a4a4-2c13400205c0",
   "metadata": {},
   "outputs": [],
   "source": [
    "gf.UD4_def = 1.0/np.sqrt(2.)\n",
    "gf.UD5_def = 1.0/np.sqrt(2.)\n",
    "gf.gD_def = 2.\n",
    "gf.Umu4_def = np.sqrt(1.0e-12)\n",
    "gf.Umu5_def = np.sqrt(1.0e-12)\n",
    "gf.epsilon_def = 8e-4"
   ]
  },
  {
   "cell_type": "markdown",
   "id": "26eaf8e0-3d53-4e45-a3ed-c4a1e7791ebd",
   "metadata": {},
   "source": [
    "# Obtain dataframe with events analyzed and filtered by decay"
   ]
  },
  {
   "cell_type": "markdown",
   "id": "0f35d2b3-e2ce-450b-9a0d-695808dd1117",
   "metadata": {},
   "source": [
    "__Keyword arguments:__\n",
    "* model='3+1',model to use\n",
    "* experiment='miniboone_fhc', experiment\n",
    "* neval=100000, number of evaluations for Vegas\n",
    "* HNLtype=\"dirac\", type of HNL\n",
    "* mzprime=1.25\n",
    "* m4=0.8\n",
    "* m5=1.0\n",
    "* UD4=UD4_def\n",
    "* UD5=UD5_def\n",
    "* Umu4=Umu4_def\n",
    "* Umu5=Umu5_def\n",
    "* gD=gD_def\n",
    "* epsilon=epsilon_def"
   ]
  },
  {
   "cell_type": "code",
   "execution_count": 5,
   "id": "9204e678-cd1b-404c-a818-2f1862e4548b",
   "metadata": {},
   "outputs": [],
   "source": [
    "# runnning one example point\n",
    "_ = gf.get_events_df(model='3+1', mzprime=0.2, m4=0.5, neval=1000, loglevel='ERROR')"
   ]
  },
  {
   "cell_type": "markdown",
   "id": "b472c98e-d108-49da-ae18-c5e4fd74e098",
   "metadata": {},
   "source": [
    "# Generate grid for mass vs mass"
   ]
  },
  {
   "cell_type": "markdown",
   "id": "6c4906c9-2a69-4381-82b0-23bbe39add8b",
   "metadata": {},
   "source": [
    "## 1. Create grid"
   ]
  },
  {
   "cell_type": "code",
   "execution_count": 6,
   "id": "3df7a757-690a-4d50-ae58-2e11bc239ebe",
   "metadata": {},
   "outputs": [],
   "source": [
    "example_3p1 = gf.grid_analysis(model='3+1',\n",
    "                                experiment='miniboone_fhc', \n",
    "                                HNLtype=\"dirac\",\n",
    "                                x_label='mzprime',\n",
    "                                y_label='m4',\n",
    "                                x_range=(0.02,10,4),\n",
    "                                y_range=(0.01,2,4),\n",
    "                                neval=100,\n",
    "                                cores=4)"
   ]
  },
  {
   "cell_type": "markdown",
   "id": "aa1c60a6-88e3-415a-b7fc-549d8290206a",
   "metadata": {},
   "source": [
    "The keyword arguments you can pass are the following: (the first element shown is the default)\n",
    "\n",
    "* model='3+1' or '3+2'\n",
    "\n",
    "* experiment='miniboone_fhc'\n",
    "\n",
    "* neval=100000, number of evaluations for Vegas\n",
    "\n",
    "* HNLtype=\"dirac\" or \"majorana\"\n",
    "\n",
    "* x_label='mzprime', \"m4\", \"m5\" or \"delta\", parameter for the x axis of the grid\n",
    "\n",
    "* y_label='m4',mzprime', \"m5\" or \"delta\", parameter for the y axis of the grid\n",
    "\n",
    "* x_range=(0.02,10,10), the range used for the x axis of the grid, where the structure is (start,stop,number of points)\n",
    "\n",
    "* y_range=(0.01,2,10), the range used for the y axis of the grid, where the structure is (start,stop,number of points)\n",
    "\n",
    "* log_interval_x=True or False, if you want the x axis to be log distributed\n",
    "\n",
    "* log_interval_y=True or False, same as the previous one, but for y axis \n",
    "\n",
    "* mzprime=None, if you want to set a particular value of mzprime, in case it is fixed\n",
    "\n",
    "* m4=None, same as the previous option\n",
    "\n",
    "* m5=None, same as the previous option\n",
    "\n",
    "* delta=None, same as the previous option\n",
    "\n",
    "* UmuN_max=1e-2, maximum value to consider for the mixing parameters when fitting\n",
    "\n",
    "* UD4=UD4_def, value set to do the fitting, not the generation of events\n",
    "\n",
    "* UD5=UD5_def, same as the previous one\n",
    "\n",
    "* Umu4=Umu4_def, same as the previous one\n",
    "\n",
    "* Umu5=Umu5_def, same as the previous one\n",
    "\n",
    "* gD=gD_def, same as the previous one\n",
    "\n",
    "* epsilon=8e-4, same as the previous one\n",
    "\n",
    "* cores=1, number of cores to do the multiprocessing\n",
    "\n",
    "* output_file=None, name of the file where the fitting results will be stored"
   ]
  },
  {
   "cell_type": "markdown",
   "id": "94566579-0907-4c36-bcca-4c3133095d0a",
   "metadata": {},
   "source": [
    "## 2. Generate events for the grid"
   ]
  },
  {
   "cell_type": "code",
   "execution_count": 7,
   "id": "64cbe06c-2575-4634-83c4-cc92d3c8f9cf",
   "metadata": {},
   "outputs": [
    {
     "data": {
      "text/plain": [
       "'Success!'"
      ]
     },
     "execution_count": 7,
     "metadata": {},
     "output_type": "execute_result"
    }
   ],
   "source": [
    "example_3p1.generate_events(location='data', loglevel='warning')"
   ]
  },
  {
   "cell_type": "markdown",
   "id": "ae189d26-db32-4475-8289-357c822dbcb6",
   "metadata": {},
   "source": [
    "* 'location' is the folder where the generated events will be stored"
   ]
  },
  {
   "cell_type": "markdown",
   "id": "5f517960-b415-49ed-bf7f-ea217327d6d1",
   "metadata": {},
   "source": [
    "## 3. Fit events generated for the grid\n",
    "This will include smearing and decay filter"
   ]
  },
  {
   "cell_type": "code",
   "execution_count": 9,
   "id": "45e19e9b-5778-4b29-baaf-a6c37c3e1c5d",
   "metadata": {},
   "outputs": [],
   "source": [
    "example_3p1.fit_events(location='data',location_fit='data_fitting')"
   ]
  },
  {
   "cell_type": "markdown",
   "id": "177c2063-2c08-42ec-85d1-cd4e98cf1a87",
   "metadata": {},
   "source": [
    "* 'location' is the folder where the generated events will be stored\n",
    "* 'location_fit' is the folder where the fitting results will be stored"
   ]
  },
  {
   "cell_type": "markdown",
   "id": "d00e7590-92f6-4fbf-9cfb-8c206f869528",
   "metadata": {},
   "source": [
    "## 4. Access the dataframe with all the results"
   ]
  },
  {
   "cell_type": "code",
   "execution_count": 10,
   "id": "e7e2689f-fafd-40f4-b52f-c7ccd9dea257",
   "metadata": {},
   "outputs": [
    {
     "data": {
      "text/html": [
       "<div>\n",
       "<style scoped>\n",
       "    .dataframe tbody tr th:only-of-type {\n",
       "        vertical-align: middle;\n",
       "    }\n",
       "\n",
       "    .dataframe tbody tr th {\n",
       "        vertical-align: top;\n",
       "    }\n",
       "\n",
       "    .dataframe thead th {\n",
       "        text-align: right;\n",
       "    }\n",
       "</style>\n",
       "<table border=\"1\" class=\"dataframe\">\n",
       "  <thead>\n",
       "    <tr style=\"text-align: right;\">\n",
       "      <th></th>\n",
       "      <th>mzprime</th>\n",
       "      <th>m4</th>\n",
       "      <th>chi2</th>\n",
       "      <th>N_events</th>\n",
       "      <th>couplings</th>\n",
       "      <th>decay_length</th>\n",
       "      <th>sum_w_post_smearing</th>\n",
       "      <th>v_4i</th>\n",
       "    </tr>\n",
       "  </thead>\n",
       "  <tbody>\n",
       "    <tr>\n",
       "      <th>0</th>\n",
       "      <td>0.0200</td>\n",
       "      <td>0.01000</td>\n",
       "      <td>31.802030</td>\n",
       "      <td>1.055598e-05</td>\n",
       "      <td>0.000035</td>\n",
       "      <td>6.030614e+11</td>\n",
       "      <td>8.569939e-09</td>\n",
       "      <td>0.000050</td>\n",
       "    </tr>\n",
       "    <tr>\n",
       "      <th>1</th>\n",
       "      <td>0.1587</td>\n",
       "      <td>0.01000</td>\n",
       "      <td>31.802031</td>\n",
       "      <td>2.907610e-07</td>\n",
       "      <td>0.000424</td>\n",
       "      <td>2.790450e+15</td>\n",
       "      <td>1.619234e-12</td>\n",
       "      <td>0.000599</td>\n",
       "    </tr>\n",
       "    <tr>\n",
       "      <th>2</th>\n",
       "      <td>1.2600</td>\n",
       "      <td>0.01000</td>\n",
       "      <td>31.802031</td>\n",
       "      <td>2.315674e-08</td>\n",
       "      <td>0.010000</td>\n",
       "      <td>1.154149e+19</td>\n",
       "      <td>2.315443e-16</td>\n",
       "      <td>0.014143</td>\n",
       "    </tr>\n",
       "    <tr>\n",
       "      <th>3</th>\n",
       "      <td>0.0200</td>\n",
       "      <td>0.05848</td>\n",
       "      <td>17.128706</td>\n",
       "      <td>2.986128e+02</td>\n",
       "      <td>0.000031</td>\n",
       "      <td>4.082991e-07</td>\n",
       "      <td>3.014929e-01</td>\n",
       "      <td>0.000045</td>\n",
       "    </tr>\n",
       "    <tr>\n",
       "      <th>4</th>\n",
       "      <td>0.1587</td>\n",
       "      <td>0.05848</td>\n",
       "      <td>31.800807</td>\n",
       "      <td>1.047006e-02</td>\n",
       "      <td>0.000473</td>\n",
       "      <td>3.710157e+11</td>\n",
       "      <td>4.685417e-08</td>\n",
       "      <td>0.000669</td>\n",
       "    </tr>\n",
       "    <tr>\n",
       "      <th>5</th>\n",
       "      <td>1.2600</td>\n",
       "      <td>0.05848</td>\n",
       "      <td>31.801942</td>\n",
       "      <td>6.364528e-04</td>\n",
       "      <td>0.010000</td>\n",
       "      <td>1.684022e+15</td>\n",
       "      <td>6.363892e-12</td>\n",
       "      <td>0.014143</td>\n",
       "    </tr>\n",
       "    <tr>\n",
       "      <th>6</th>\n",
       "      <td>0.0200</td>\n",
       "      <td>0.34200</td>\n",
       "      <td>25.367714</td>\n",
       "      <td>1.236774e+02</td>\n",
       "      <td>0.000085</td>\n",
       "      <td>1.986920e-09</td>\n",
       "      <td>1.709642e-02</td>\n",
       "      <td>0.000120</td>\n",
       "    </tr>\n",
       "    <tr>\n",
       "      <th>7</th>\n",
       "      <td>0.1587</td>\n",
       "      <td>0.34200</td>\n",
       "      <td>30.845320</td>\n",
       "      <td>4.072847e+01</td>\n",
       "      <td>0.000718</td>\n",
       "      <td>1.413029e-07</td>\n",
       "      <td>7.903112e-05</td>\n",
       "      <td>0.001015</td>\n",
       "    </tr>\n",
       "    <tr>\n",
       "      <th>8</th>\n",
       "      <td>1.2600</td>\n",
       "      <td>0.34200</td>\n",
       "      <td>31.618510</td>\n",
       "      <td>1.532360e+00</td>\n",
       "      <td>0.010000</td>\n",
       "      <td>2.254488e+11</td>\n",
       "      <td>1.532207e-08</td>\n",
       "      <td>0.014143</td>\n",
       "    </tr>\n",
       "  </tbody>\n",
       "</table>\n",
       "</div>"
      ],
      "text/plain": [
       "   mzprime       m4       chi2      N_events  couplings  decay_length  \\\n",
       "0   0.0200  0.01000  31.802030  1.055598e-05   0.000035  6.030614e+11   \n",
       "1   0.1587  0.01000  31.802031  2.907610e-07   0.000424  2.790450e+15   \n",
       "2   1.2600  0.01000  31.802031  2.315674e-08   0.010000  1.154149e+19   \n",
       "3   0.0200  0.05848  17.128706  2.986128e+02   0.000031  4.082991e-07   \n",
       "4   0.1587  0.05848  31.800807  1.047006e-02   0.000473  3.710157e+11   \n",
       "5   1.2600  0.05848  31.801942  6.364528e-04   0.010000  1.684022e+15   \n",
       "6   0.0200  0.34200  25.367714  1.236774e+02   0.000085  1.986920e-09   \n",
       "7   0.1587  0.34200  30.845320  4.072847e+01   0.000718  1.413029e-07   \n",
       "8   1.2600  0.34200  31.618510  1.532360e+00   0.010000  2.254488e+11   \n",
       "\n",
       "   sum_w_post_smearing      v_4i  \n",
       "0         8.569939e-09  0.000050  \n",
       "1         1.619234e-12  0.000599  \n",
       "2         2.315443e-16  0.014143  \n",
       "3         3.014929e-01  0.000045  \n",
       "4         4.685417e-08  0.000669  \n",
       "5         6.363892e-12  0.014143  \n",
       "6         1.709642e-02  0.000120  \n",
       "7         7.903112e-05  0.001015  \n",
       "8         1.532207e-08  0.014143  "
      ]
     },
     "execution_count": 10,
     "metadata": {},
     "output_type": "execute_result"
    }
   ],
   "source": [
    "example_3p1.df"
   ]
  },
  {
   "cell_type": "markdown",
   "id": "c54b3fee-194b-41d6-b61e-ee1502cb1e36",
   "metadata": {},
   "source": [
    "## 5. Plot the fitting"
   ]
  },
  {
   "cell_type": "markdown",
   "id": "28cc3648-c3ec-45e2-98ae-42a78c1673f0",
   "metadata": {},
   "source": [
    "__Keyword arguments:__\n",
    "* leg_loc = 'lower left', position of the legends\n",
    "* plot_path=False, path of the plot to save\n",
    "* save=True or False, whether to save it or not\n",
    "* title=False, title to put on the top of the plot. False means that you will use the default one\n",
    "* x_limits=[False,(0,0)], [0]: whether to put limits to the values shown on the plot for the X axis. [1]: limits\n",
    "* y_limits=[False,(0,0)], the same but for the Y axis"
   ]
  },
  {
   "cell_type": "code",
   "execution_count": 11,
   "id": "72affc7c-f1f3-4745-acee-2dac2a61c37b",
   "metadata": {},
   "outputs": [
    {
     "data": {
      "image/png": "[encoded data removed]",
      "text/plain": [
       "<Figure size 432x288 with 1 Axes>"
      ]
     },
     "metadata": {
      "needs_background": "light"
     },
     "output_type": "display_data"
    },
    {
     "data": {
      "text/plain": [
       "<Figure size 432x288 with 0 Axes>"
      ]
     },
     "metadata": {},
     "output_type": "display_data"
    }
   ],
   "source": [
    "example_3p1.plot()"
   ]
  },
  {
   "cell_type": "markdown",
   "id": "9995455e-5cd8-4cf3-b571-4887b20de1ef",
   "metadata": {},
   "source": [
    "# Generate grid for mass vs couplings"
   ]
  },
  {
   "cell_type": "markdown",
   "id": "fa88b873-d3da-44ed-8937-60f979216f20",
   "metadata": {},
   "source": [
    "## 1. Create grid"
   ]
  },
  {
   "cell_type": "code",
   "execution_count": 12,
   "id": "c227f17f-0bf8-40c6-8664-c584dc150635",
   "metadata": {},
   "outputs": [],
   "source": [
    "example_3p1_coupling = gf.grid_analysis_couplings(model='3+1',experiment='miniboone_fhc',neval=100000, HNLtype=\"dirac\",x_label='m4', x_range=(0.02,2,8),coupling_range=(1e-3,1e-1,10),mzprime=0.8,cores=8)"
   ]
  },
  {
   "cell_type": "markdown",
   "id": "e2c2bfbc-a283-4a79-9599-c4203beaef95",
   "metadata": {},
   "source": [
    "The keyword arguments you can pass are the following: (the first element shown is the default)\n",
    "* model='3+1' or '3+2'\n",
    "* experiment='miniboone_fhc'\n",
    "* neval=100000, number of evaluations for Vegas\n",
    "* HNLtype=\"dirac\" or \"majorana\"\n",
    "* x_label='mzprime', \"m4\", \"m5\" or \"delta\", parameter for the x axis of the grid. The couplings will be for the y axis\n",
    "* x_range=(0.02,10,10), the range used for the x axis of the grid, where the structure is (start,stop,number of points)\n",
    "* coupling_range=(0.01,2,10), the range used for the coupling axis of the grid, where the structure is (start,stop,number of points). For \"3+1\" it is |Umu4|, for \"3+2\", |Vmu5|\n",
    "* log_interval_x=True or False, if you want the x axis to be log distributed\n",
    "* log_interval_coupling=True or False, same as the previous one, but for y axis\n",
    "* mzprime=None, if you want to set a particular value of mzprime, in case it is fixed\n",
    "* m4=None, same as the previous option\n",
    "* m5=None, same as the previous option\n",
    "* delta=None, same as the previous option\n",
    "* UD4=UD4_def, value set to do the fitting, not the generation of events\n",
    "* UD5=UD5_def, same as the previous one\n",
    "* Umu4=Umu4_def, same as the previous one\n",
    "* Umu5=Umu5_def, same as the previous one\n",
    "* gD=gD_def, same as the previous one\n",
    "* epsilon=8e-4, same as the previous one\n",
    "* cores=1, number of cores to do the multiprocessing\n",
    "* output_file=None, name of the file where the fitting results will be stored"
   ]
  },
  {
   "cell_type": "markdown",
   "id": "182db00a-eca2-4d01-b6cc-4bac01fb4758",
   "metadata": {},
   "source": [
    "## 2. Generate events for the grid"
   ]
  },
  {
   "cell_type": "code",
   "execution_count": null,
   "id": "9a300b82-f11a-4179-b235-827625171707",
   "metadata": {},
   "outputs": [],
   "source": [
    "example_3p1_coupling.generate_events(location='data')"
   ]
  },
  {
   "cell_type": "markdown",
   "id": "0fb517ec-3ed8-4cd1-a716-cd9eccd17e31",
   "metadata": {},
   "source": [
    "* 'location' is the folder where the generated events will be stored"
   ]
  },
  {
   "cell_type": "markdown",
   "id": "1d5a1c49-e409-442e-bf61-67edba6c5b20",
   "metadata": {},
   "source": [
    "## 3. Compute the $\\chi^2$ for the events generated for the grid\n",
    "This will include smearing and decay filter"
   ]
  },
  {
   "cell_type": "code",
   "execution_count": 15,
   "id": "3dceff4b-a26c-4bd3-86d9-0377e28095c7",
   "metadata": {},
   "outputs": [],
   "source": [
    "example_3p1_coupling.fit_events(location='data',location_fit='data_fitting_coupling')"
   ]
  },
  {
   "cell_type": "markdown",
   "id": "25bc0808-ec34-4ccb-b74b-cd3d4ecf6717",
   "metadata": {},
   "source": [
    "* 'location' is the folder where the generated events will be stored\n",
    "* 'location_fit' is the folder where the fitting results will be stored"
   ]
  },
  {
   "cell_type": "markdown",
   "id": "8a89fdcc-2945-4589-b022-cf2a3151eda4",
   "metadata": {},
   "source": [
    "## 4. Access the dataframe with all the results"
   ]
  },
  {
   "cell_type": "code",
   "execution_count": 16,
   "id": "a639e169-3e65-4194-86a3-8f0f2328e2ab",
   "metadata": {},
   "outputs": [
    {
     "data": {
      "text/html": [
       "<div>\n",
       "<style scoped>\n",
       "    .dataframe tbody tr th:only-of-type {\n",
       "        vertical-align: middle;\n",
       "    }\n",
       "\n",
       "    .dataframe tbody tr th {\n",
       "        vertical-align: top;\n",
       "    }\n",
       "\n",
       "    .dataframe thead th {\n",
       "        text-align: right;\n",
       "    }\n",
       "</style>\n",
       "<table border=\"1\" class=\"dataframe\">\n",
       "  <thead>\n",
       "    <tr style=\"text-align: right;\">\n",
       "      <th></th>\n",
       "      <th>m4</th>\n",
       "      <th>mzprime</th>\n",
       "      <th>decay_length</th>\n",
       "      <th>vmu4</th>\n",
       "      <th>Nevents</th>\n",
       "      <th>chi2</th>\n",
       "      <th>sum_w_post_smearing</th>\n",
       "    </tr>\n",
       "  </thead>\n",
       "  <tbody>\n",
       "    <tr>\n",
       "      <th>0</th>\n",
       "      <td>0.020</td>\n",
       "      <td>0.8</td>\n",
       "      <td>5.538368e+10</td>\n",
       "      <td>0.001000</td>\n",
       "      <td>4.962752e-09</td>\n",
       "      <td>31.802031</td>\n",
       "      <td>4.962747e-15</td>\n",
       "    </tr>\n",
       "    <tr>\n",
       "      <th>1</th>\n",
       "      <td>0.020</td>\n",
       "      <td>0.8</td>\n",
       "      <td>1.990626e+10</td>\n",
       "      <td>0.001668</td>\n",
       "      <td>3.850796e-08</td>\n",
       "      <td>31.802031</td>\n",
       "      <td>1.384067e-14</td>\n",
       "    </tr>\n",
       "    <tr>\n",
       "      <th>2</th>\n",
       "      <td>0.020</td>\n",
       "      <td>0.8</td>\n",
       "      <td>7.150812e+09</td>\n",
       "      <td>0.002783</td>\n",
       "      <td>2.980053e-07</td>\n",
       "      <td>31.802031</td>\n",
       "      <td>3.847638e-14</td>\n",
       "    </tr>\n",
       "    <tr>\n",
       "      <th>3</th>\n",
       "      <td>0.020</td>\n",
       "      <td>0.8</td>\n",
       "      <td>2.570227e+09</td>\n",
       "      <td>0.004642</td>\n",
       "      <td>2.304797e-06</td>\n",
       "      <td>31.802031</td>\n",
       "      <td>1.069579e-13</td>\n",
       "    </tr>\n",
       "    <tr>\n",
       "      <th>4</th>\n",
       "      <td>0.020</td>\n",
       "      <td>0.8</td>\n",
       "      <td>9.237688e+08</td>\n",
       "      <td>0.007743</td>\n",
       "      <td>1.788297e-05</td>\n",
       "      <td>31.802029</td>\n",
       "      <td>2.982600e-13</td>\n",
       "    </tr>\n",
       "    <tr>\n",
       "      <th>...</th>\n",
       "      <td>...</td>\n",
       "      <td>...</td>\n",
       "      <td>...</td>\n",
       "      <td>...</td>\n",
       "      <td>...</td>\n",
       "      <td>...</td>\n",
       "      <td>...</td>\n",
       "    </tr>\n",
       "    <tr>\n",
       "      <th>65</th>\n",
       "      <td>1.036</td>\n",
       "      <td>0.8</td>\n",
       "      <td>1.843082e-15</td>\n",
       "      <td>0.012921</td>\n",
       "      <td>7.090329e-03</td>\n",
       "      <td>31.801974</td>\n",
       "      <td>4.246869e-11</td>\n",
       "    </tr>\n",
       "    <tr>\n",
       "      <th>66</th>\n",
       "      <td>1.036</td>\n",
       "      <td>0.8</td>\n",
       "      <td>6.630988e-16</td>\n",
       "      <td>0.021545</td>\n",
       "      <td>1.971341e-02</td>\n",
       "      <td>31.801872</td>\n",
       "      <td>4.246869e-11</td>\n",
       "    </tr>\n",
       "    <tr>\n",
       "      <th>67</th>\n",
       "      <td>1.036</td>\n",
       "      <td>0.8</td>\n",
       "      <td>2.381845e-16</td>\n",
       "      <td>0.035963</td>\n",
       "      <td>5.492705e-02</td>\n",
       "      <td>31.801588</td>\n",
       "      <td>4.246869e-11</td>\n",
       "    </tr>\n",
       "    <tr>\n",
       "      <th>68</th>\n",
       "      <td>1.036</td>\n",
       "      <td>0.8</td>\n",
       "      <td>8.560345e-17</td>\n",
       "      <td>0.060058</td>\n",
       "      <td>1.531831e-01</td>\n",
       "      <td>31.800804</td>\n",
       "      <td>4.246869e-11</td>\n",
       "    </tr>\n",
       "    <tr>\n",
       "      <th>69</th>\n",
       "      <td>1.036</td>\n",
       "      <td>0.8</td>\n",
       "      <td>3.076590e-17</td>\n",
       "      <td>0.100504</td>\n",
       "      <td>4.289766e-01</td>\n",
       "      <td>31.798671</td>\n",
       "      <td>4.246869e-11</td>\n",
       "    </tr>\n",
       "  </tbody>\n",
       "</table>\n",
       "<p>70 rows × 7 columns</p>\n",
       "</div>"
      ],
      "text/plain": [
       "       m4  mzprime  decay_length      vmu4       Nevents       chi2  \\\n",
       "0   0.020      0.8  5.538368e+10  0.001000  4.962752e-09  31.802031   \n",
       "1   0.020      0.8  1.990626e+10  0.001668  3.850796e-08  31.802031   \n",
       "2   0.020      0.8  7.150812e+09  0.002783  2.980053e-07  31.802031   \n",
       "3   0.020      0.8  2.570227e+09  0.004642  2.304797e-06  31.802031   \n",
       "4   0.020      0.8  9.237688e+08  0.007743  1.788297e-05  31.802029   \n",
       "..    ...      ...           ...       ...           ...        ...   \n",
       "65  1.036      0.8  1.843082e-15  0.012921  7.090329e-03  31.801974   \n",
       "66  1.036      0.8  6.630988e-16  0.021545  1.971341e-02  31.801872   \n",
       "67  1.036      0.8  2.381845e-16  0.035963  5.492705e-02  31.801588   \n",
       "68  1.036      0.8  8.560345e-17  0.060058  1.531831e-01  31.800804   \n",
       "69  1.036      0.8  3.076590e-17  0.100504  4.289766e-01  31.798671   \n",
       "\n",
       "    sum_w_post_smearing  \n",
       "0          4.962747e-15  \n",
       "1          1.384067e-14  \n",
       "2          3.847638e-14  \n",
       "3          1.069579e-13  \n",
       "4          2.982600e-13  \n",
       "..                  ...  \n",
       "65         4.246869e-11  \n",
       "66         4.246869e-11  \n",
       "67         4.246869e-11  \n",
       "68         4.246869e-11  \n",
       "69         4.246869e-11  \n",
       "\n",
       "[70 rows x 7 columns]"
      ]
     },
     "execution_count": 16,
     "metadata": {},
     "output_type": "execute_result"
    }
   ],
   "source": [
    "example_3p1_coupling.df"
   ]
  },
  {
   "cell_type": "markdown",
   "id": "6b71b57a-539a-4809-a991-c1a52d138f2f",
   "metadata": {},
   "source": [
    "## 5. Plot the fitting"
   ]
  },
  {
   "cell_type": "markdown",
   "id": "4d2dac2a-76d3-4f43-af35-8161f970cd07",
   "metadata": {},
   "source": [
    "__Keyword arguments:__\n",
    "* coupling_factor=1e6, the factor to multiply Y axis to have a better plot. The Y axis values will remain unchanged. This helps to have a better resolution. tricontourplot works better with values of O(1)\n",
    "* leg_loc = 'lower left', position of the legends\n",
    "* plot_path=False, path of the plot to save\n",
    "* save=True or False, whether to save it or not\n",
    "* title=False, title to put on the top of the plot. False means that you will use the default one\n",
    "* x_limits=[False,(0,0)], [0]: whether to put limits to the values shown on the plot for the X axis. [1]: limits\n",
    "* y_limits=[False,(0,0)], the same but for the Y axis"
   ]
  },
  {
   "cell_type": "code",
   "execution_count": 17,
   "id": "e378b3d4-b0db-4301-b454-616046a23d1d",
   "metadata": {},
   "outputs": [
    {
     "data": {
      "image/png": "[encoded data removed]",
      "text/plain": [
       "<Figure size 432x288 with 1 Axes>"
      ]
     },
     "metadata": {
      "needs_background": "light"
     },
     "output_type": "display_data"
    },
    {
     "data": {
      "text/plain": [
       "<Figure size 432x288 with 0 Axes>"
      ]
     },
     "metadata": {},
     "output_type": "display_data"
    }
   ],
   "source": [
    "example_3p1_coupling.plot(coupling_factor=1e5)"
   ]
  },
  {
   "cell_type": "code",
   "execution_count": null,
   "id": "c087164c-aef7-4d3d-afea-219f11f9ad26",
   "metadata": {},
   "outputs": [],
   "source": []
  }
 ],
 "metadata": {
  "kernelspec": {
   "display_name": "Python 3 (ipykernel)",
   "language": "python",
   "name": "python3"
  },
  "language_info": {
   "codemirror_mode": {
    "name": "ipython",
    "version": 3
   },
   "file_extension": ".py",
   "mimetype": "text/x-python",
   "name": "python",
   "nbconvert_exporter": "python",
   "pygments_lexer": "ipython3",
   "version": "3.10.5"
  },
  "vscode": {
   "interpreter": {
    "hash": "397704579725e15f5c7cb49fe5f0341eb7531c82d19f2c29d197e8b64ab5776b"
   }
  }
 },
 "nbformat": 4,
 "nbformat_minor": 5
}
