{
 "cells": [
  {
   "cell_type": "code",
   "execution_count": 1,
   "metadata": {},
   "outputs": [],
   "source": [
    "%load_ext autoreload\n",
    "%autoreload 2"
   ]
  },
  {
   "cell_type": "code",
   "execution_count": 2,
   "metadata": {},
   "outputs": [],
   "source": [
    "import os\n",
    "import numpy as np\n",
    "import pandas as pd\n",
    "from matplotlib import pyplot as plt\n",
    "from particle import literals as lp\n",
    "\n",
    "import DarkNews as dn\n",
    "\n",
    "from DarkNews import const\n",
    "\n",
    "from DarkNews.GenLauncher import GenLauncher\n",
    "\n",
    "from DarkNews import Cfourvec as Cfv"
   ]
  },
  {
   "cell_type": "code",
   "execution_count": 37,
   "metadata": {},
   "outputs": [
    {
     "name": "stdout",
     "output_type": "stream",
     "text": [
      "Model:\n",
      "\t1 dirac heavy neutrino(s).\n",
      "\tkinetically mixed Z'\n",
      "Model:\n",
      "\t1 dirac heavy neutrino(s).\n",
      "\t1 non-zero Z'-neutrino coupling(s).\n"
     ]
    }
   ],
   "source": [
    "bsm_model_1 = dn.model.create_3portal_HNL_model()\n",
    "bsm_model_2 = dn.model.create_generic_HNL_model()"
   ]
  },
  {
   "cell_type": "code",
   "execution_count": 101,
   "metadata": {},
   "outputs": [
    {
     "data": {
      "text/plain": [
       "array([['-3.7350496640402865e-07', '0.0', '0.0', '0.0', '0.0', '0.0'],\n",
       "       ['0.0', '2.2514950335959716e-06', '0.0', '0.001620184569454756',\n",
       "        '0.0', '0.0'],\n",
       "       ['0.0', '0.0', '-3.7350496640402865e-07', '0.0', '0.0', '0.0'],\n",
       "       ['0.0', '0.001620184569454756', '0.0', '0.9999999999990196',\n",
       "        '0.0', '0.0'],\n",
       "       ['0.0', '0.0', '0.0', '0.0', '0.0', '0.0'],\n",
       "       ['0.0', '0.0', '0.0', '0.0', '0.0', '0.0']], dtype='<U32')"
      ]
     },
     "execution_count": 101,
     "metadata": {},
     "output_type": "execute_result"
    }
   ],
   "source": [
    "bsm_model_1.d_ij.astype(str)"
   ]
  },
  {
   "cell_type": "code",
   "execution_count": 103,
   "metadata": {},
   "outputs": [
    {
     "data": {
      "text/plain": [
       "array([['1.0', '0.0', '0.0', '-0.0016201851746019652', '0.0', '0.0'],\n",
       "       ['0.0', '1.0', '0.0', '-0.0016201857797475858', '0.0', '0.0'],\n",
       "       ['0.0', '0.0', '1.0', '-0.0016201851746019652', '0.0', '0.0'],\n",
       "       ['0.0', '0.001620184569454756', '0.0', '0.9999999999990196',\n",
       "        '0.0', '0.0'],\n",
       "       ['0.0', '0.0', '0.0', '0.0', '0.0', '0.0'],\n",
       "       ['0.0', '0.0', '0.0', '0.0', '0.0', '0.0']], dtype='<U32')"
      ]
     },
     "execution_count": 103,
     "metadata": {},
     "output_type": "execute_result"
    }
   ],
   "source": [
    "np.vstack((bsm_model_1.d_aj,bsm_model_1.d_ij[3:])).astype(str)"
   ]
  },
  {
   "cell_type": "code",
   "execution_count": 41,
   "metadata": {},
   "outputs": [],
   "source": [
    "decay_1=dn.model.FermionDileptonDecay(dn.pdg.neutrino4, dn.pdg.nulight, lp.e_minus, lp.e_plus, bsm_model_1)\n",
    "decay_2=dn.model.FermionDileptonDecay(dn.pdg.neutrino4, dn.pdg.nulight, lp.e_minus, lp.e_plus, bsm_model_2)"
   ]
  },
  {
   "cell_type": "code",
   "execution_count": 59,
   "metadata": {},
   "outputs": [
    {
     "name": "stdout",
     "output_type": "stream",
     "text": [
      "CC_mixing1 0 0\n",
      "CC_mixing2 0 0\n",
      "Cih 0.000591640881127525 0.0\n",
      "Dih 0.002806243389461487 0.0016201851746019652\n",
      "HNLtype dirac dirac\n",
      "Sih 0.0 0.0\n",
      "TMM False False\n",
      "TheoryModel <DarkNews.model.ThreePortalModel object at 0x12f49fdc0> <DarkNews.model.GenericHNLModel object at 0x10c1a3160>\n",
      "Tih 0.0 0.0\n",
      "h_parent -1 -1\n",
      "m_daughter 0.0 0.0\n",
      "m_parent 0.14 0.14\n",
      "mhprime None None\n",
      "mm 0.0005109989461 0.0005109989461\n",
      "mp 0.0005109989461 0.0005109989461\n",
      "mzprime 1.25 1.25\n",
      "off_shell True True\n",
      "on_shell False False\n"
     ]
    }
   ],
   "source": [
    "for attribute in dir(decay_1):\n",
    "    if '__' not in attribute:\n",
    "        print(attribute, getattr(decay_1,attribute), getattr(decay_2,attribute) )"
   ]
  },
  {
   "cell_type": "code",
   "execution_count": null,
   "metadata": {},
   "outputs": [],
   "source": [
    "bsm_model = dn.model.create_HNL_model(mzprime=0.1, \n",
    "                                            m5=0.150, \n",
    "                                            m4 = 0.01, \n",
    "                                            epsilon=0.0, \n",
    "                                            theta=1e-4, \n",
    "                                            s_mu4=1e-3\n",
    "                                        )"
   ]
  }
 ],
 "metadata": {
  "interpreter": {
   "hash": "aee8b7b246df8f9039afb4144a1f6fd8d2ca17a180786b69acc140d282b71a49"
  },
  "kernelspec": {
   "display_name": "Python 3.9.10 64-bit",
   "language": "python",
   "name": "python3"
  },
  "language_info": {
   "codemirror_mode": {
    "name": "ipython",
    "version": 3
   },
   "file_extension": ".py",
   "mimetype": "text/x-python",
   "name": "python",
   "nbconvert_exporter": "python",
   "pygments_lexer": "ipython3",
   "version": "3.9.13"
  },
  "orig_nbformat": 4
 },
 "nbformat": 4,
 "nbformat_minor": 2
}
