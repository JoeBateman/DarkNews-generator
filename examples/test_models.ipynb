{
 "cells": [
  {
   "cell_type": "code",
   "execution_count": 51,
   "metadata": {},
   "outputs": [
    {
     "name": "stdout",
     "output_type": "stream",
     "text": [
      "The autoreload extension is already loaded. To reload it, use:\n",
      "  %reload_ext autoreload\n"
     ]
    }
   ],
   "source": [
    "%load_ext autoreload\n",
    "%autoreload 2"
   ]
  },
  {
   "cell_type": "code",
   "execution_count": 52,
   "metadata": {},
   "outputs": [],
   "source": [
    "import numpy as np\n",
    "from particle import literals as lp\n",
    "import DarkNews as dn\n",
    "from DarkNews import model\n",
    "from DarkNews import const\n",
    "from DarkNews import GenLauncher"
   ]
  },
  {
   "cell_type": "code",
   "execution_count": 57,
   "metadata": {},
   "outputs": [
    {
     "data": {
      "text/latex": [
       "$\\overline{\\nu}_{\\mu}$"
      ],
      "text/plain": [
       "<Particle: name=\"nu(mu)~\", pdgid=-14, mass=None>"
      ]
     },
     "execution_count": 57,
     "metadata": {},
     "output_type": "execute_result"
    }
   ],
   "source": [
    "lp.nu_mu_bar"
   ]
  },
  {
   "cell_type": "code",
   "execution_count": 4,
   "metadata": {},
   "outputs": [
    {
     "name": "stdout",
     "output_type": "stream",
     "text": [
      "---------------------------------------------------------\n",
      "   ______           _        _   _                     \n",
      "   |  _  \\         | |      | \\ | |                    \n",
      "   | | | |__ _ _ __| | __   |  \\| | _____      _____   \n",
      "   | | | / _  | ___| |/ /   | .   |/ _ \\ \\ /\\ / / __|  \n",
      "   | |/ / (_| | |  |   <    | |\\  |  __/\\ V  V /\\__ \\  \n",
      "   |___/ \\__,_|_|  |_|\\_\\   \\_| \\_/\\___| \\_/\\_/ |___/  \n",
      "\n",
      "---------------------------------------------------------\n",
      "Model:\n",
      "\t1 dirac heavy neutrino(s).\n",
      "\n",
      "---------------------------------------------------------\n",
      "Experiment:\n",
      "\tMiniBooNE_FHC\n",
      "\tfluxfile loaded: ../fluxes/MiniBooNE_FHC.dat\n",
      "\tPOT: 1.875e+21\n",
      "\tnuclear targets: ['C12', 'H1']\n",
      "\tfiducial mass: [701.1428571428571, 116.85714285714286] tonnes\n",
      "\n",
      "Directory tree for this run already exists. Overriding it.\n",
      "Creating instances of MC cases:\n",
      "Created an MC instance of nu(mu) C12 --> N4  C12 --> nu_light mu+ mu- C12.\n",
      "Created an MC instance of nu(mu) proton_in_C12 --> N4  proton_in_C12 --> nu_light mu+ mu- proton_in_C12.\n",
      "Created an MC instance of nu(mu) proton_in_H1 --> N4  proton_in_H1 --> nu_light mu+ mu- proton_in_H1.\n",
      "Now running the generator for each instance.\n",
      "---------------------------------------------------------\n",
      "Generating Events using the neutrino-nucleus upscattering engine\n",
      "\n",
      "nu(mu) C12 --> N4  C12 --> nu_light mu+ mu- C12\n",
      "Helicity conserving upscattering.\n",
      "N4 decays via off-shell Z'.\n",
      "Running VEGAS for DIM=6\n",
      "Throwing an initial 10000 random points to find the normalization\n",
      "Normalization factors in integrand: {'diff_event_rate': 1, 'diff_flux_avg_xsec': 1, 'diff_decay_rate_0': 1}.\n",
      "Throwing successful\n",
      "Normalization factors in integrand: {'diff_event_rate': 1.2227805988578867e-26, 'diff_flux_avg_xsec': 9.063529982638397e-10, 'diff_decay_rate_0': 6.8470583097297154e-18}.\n",
      "Normalization factors in integrand: {'diff_event_rate': 1.2227805988578867e-26, 'diff_flux_avg_xsec': 9.063529982638397e-10, 'diff_decay_rate_0': 6.8470583097297154e-18}.\n",
      "Normalization factors in integrand: {'diff_event_rate': 1.2227805988578867e-26, 'diff_flux_avg_xsec': 9.063529982638397e-10, 'diff_decay_rate_0': 6.8470583097297154e-18}.\n",
      "Normalization factors in integrand: {'diff_event_rate': 1.2227805988578867e-26, 'diff_flux_avg_xsec': 9.063529982638397e-10, 'diff_decay_rate_0': 6.8470583097297154e-18}.\n",
      "Normalization factors in integrand: {'diff_event_rate': 1.2227805988578867e-26, 'diff_flux_avg_xsec': 9.063529982638397e-10, 'diff_decay_rate_0': 6.8470583097297154e-18}.\n",
      "Normalization factors in integrand: {'diff_event_rate': 1.2227805988578867e-26, 'diff_flux_avg_xsec': 9.063529982638397e-10, 'diff_decay_rate_0': 6.8470583097297154e-18}.\n",
      "Normalization factors in integrand: {'diff_event_rate': 1.2227805988578867e-26, 'diff_flux_avg_xsec': 9.063529982638397e-10, 'diff_decay_rate_0': 6.8470583097297154e-18}.\n",
      "Normalization factors in integrand: {'diff_event_rate': 1.2227805988578867e-26, 'diff_flux_avg_xsec': 9.063529982638397e-10, 'diff_decay_rate_0': 6.8470583097297154e-18}.\n",
      "Normalization factors in integrand: {'diff_event_rate': 1.2227805988578867e-26, 'diff_flux_avg_xsec': 9.063529982638397e-10, 'diff_decay_rate_0': 6.8470583097297154e-18}.\n",
      "Normalization factors in integrand: {'diff_event_rate': 1.2227805988578867e-26, 'diff_flux_avg_xsec': 9.063529982638397e-10, 'diff_decay_rate_0': 6.8470583097297154e-18}.\n",
      "Normalization factors in integrand: {'diff_event_rate': 1.2227805988578867e-26, 'diff_flux_avg_xsec': 9.063529982638397e-10, 'diff_decay_rate_0': 6.8470583097297154e-18}.\n",
      "VEGAS warm-up completed.\n",
      "Normalization factors in integrand: {'diff_event_rate': 1.2227805988578867e-26, 'diff_flux_avg_xsec': 9.063529982638397e-10, 'diff_decay_rate_0': 6.8470583097297154e-18}.\n",
      "Normalization factors in integrand: {'diff_event_rate': 1.2227805988578867e-26, 'diff_flux_avg_xsec': 9.063529982638397e-10, 'diff_decay_rate_0': 6.8470583097297154e-18}.\n",
      "Normalization factors in integrand: {'diff_event_rate': 1.2227805988578867e-26, 'diff_flux_avg_xsec': 9.063529982638397e-10, 'diff_decay_rate_0': 6.8470583097297154e-18}.\n",
      "Normalization factors in integrand: {'diff_event_rate': 1.2227805988578867e-26, 'diff_flux_avg_xsec': 9.063529982638397e-10, 'diff_decay_rate_0': 6.8470583097297154e-18}.\n",
      "Normalization factors in integrand: {'diff_event_rate': 1.2227805988578867e-26, 'diff_flux_avg_xsec': 9.063529982638397e-10, 'diff_decay_rate_0': 6.8470583097297154e-18}.\n",
      "Normalization factors in integrand: {'diff_event_rate': 1.2227805988578867e-26, 'diff_flux_avg_xsec': 9.063529982638397e-10, 'diff_decay_rate_0': 6.8470583097297154e-18}.\n",
      "Normalization factors in integrand: {'diff_event_rate': 1.2227805988578867e-26, 'diff_flux_avg_xsec': 9.063529982638397e-10, 'diff_decay_rate_0': 6.8470583097297154e-18}.\n",
      "Normalization factors in integrand: {'diff_event_rate': 1.2227805988578867e-26, 'diff_flux_avg_xsec': 9.063529982638397e-10, 'diff_decay_rate_0': 6.8470583097297154e-18}.\n",
      "Normalization factors in integrand: {'diff_event_rate': 1.2227805988578867e-26, 'diff_flux_avg_xsec': 9.063529982638397e-10, 'diff_decay_rate_0': 6.8470583097297154e-18}.\n",
      "Normalization factors in integrand: {'diff_event_rate': 1.2227805988578867e-26, 'diff_flux_avg_xsec': 9.063529982638397e-10, 'diff_decay_rate_0': 6.8470583097297154e-18}.\n",
      "Normalization factors in integrand: {'diff_event_rate': 1.2227805988578867e-26, 'diff_flux_avg_xsec': 9.063529982638397e-10, 'diff_decay_rate_0': 6.8470583097297154e-18}.\n",
      "Normalization factors in integrand: {'diff_event_rate': 1.2227805988578867e-26, 'diff_flux_avg_xsec': 9.063529982638397e-10, 'diff_decay_rate_0': 6.8470583097297154e-18}.\n",
      "Normalization factors in integrand: {'diff_event_rate': 1.2227805988578867e-26, 'diff_flux_avg_xsec': 9.063529982638397e-10, 'diff_decay_rate_0': 6.8470583097297154e-18}.\n",
      "Normalization factors in integrand: {'diff_event_rate': 1.2227805988578867e-26, 'diff_flux_avg_xsec': 9.063529982638397e-10, 'diff_decay_rate_0': 6.8470583097297154e-18}.\n",
      "Normalization factors in integrand: {'diff_event_rate': 1.2227805988578867e-26, 'diff_flux_avg_xsec': 9.063529982638397e-10, 'diff_decay_rate_0': 6.8470583097297154e-18}.\n",
      "Normalization factors in integrand: {'diff_event_rate': 1.2227805988578867e-26, 'diff_flux_avg_xsec': 9.063529982638397e-10, 'diff_decay_rate_0': 6.8470583097297154e-18}.\n",
      "Normalization factors in integrand: {'diff_event_rate': 1.2227805988578867e-26, 'diff_flux_avg_xsec': 9.063529982638397e-10, 'diff_decay_rate_0': 6.8470583097297154e-18}.\n",
      "Normalization factors in integrand: {'diff_event_rate': 1.2227805988578867e-26, 'diff_flux_avg_xsec': 9.063529982638397e-10, 'diff_decay_rate_0': 6.8470583097297154e-18}.\n",
      "Normalization factors in integrand: {'diff_event_rate': 1.2227805988578867e-26, 'diff_flux_avg_xsec': 9.063529982638397e-10, 'diff_decay_rate_0': 6.8470583097297154e-18}.\n",
      "Normalization factors in integrand: {'diff_event_rate': 1.2227805988578867e-26, 'diff_flux_avg_xsec': 9.063529982638397e-10, 'diff_decay_rate_0': 6.8470583097297154e-18}.\n",
      "Normalization factors in integrand: {'diff_event_rate': 1.2227805988578867e-26, 'diff_flux_avg_xsec': 9.063529982638397e-10, 'diff_decay_rate_0': 6.8470583097297154e-18}.\n",
      "Main VEGAS run completed.\n",
      "Vegas results for the integrals: itn   integral        wgt average     chi2/dof        Q\n",
      "-------------------------------------------------------\n",
      "  1   5.349(63)       5.349(63)           0.00     1.00\n",
      "  2   5.292(57)       5.320(42)           0.31     0.82\n",
      "  3   5.248(58)       5.290(34)           0.68     0.67\n",
      "  4   5.257(52)       5.284(28)           0.78     0.63\n",
      "  5   5.309(54)       5.290(25)           0.60     0.84\n",
      "  6   5.221(50)       5.277(22)           0.70     0.79\n",
      "  7   5.305(45)       5.288(20)           0.97     0.50\n",
      "  8   5.189(57)       5.279(19)           1.00     0.46\n",
      "  9   5.251(60)       5.276(18)           0.91     0.59\n",
      " 10   5.175(49)       5.263(17)           1.01     0.44\n",
      " 11   5.196(50)       5.256(16)           1.09     0.33\n",
      " 12   5.370(71)       5.262(15)           1.09     0.33\n",
      " 13   5.248(65)       5.261(15)           1.01     0.45\n",
      " 14   5.247(53)       5.260(14)           0.94     0.58\n",
      " 15   5.229(52)       5.259(14)           1.00     0.46\n",
      " 16   5.280(56)       5.260(13)           0.98     0.51\n",
      " 17   5.236(58)       5.259(13)           0.93     0.61\n",
      " 18   5.237(57)       5.258(13)           0.88     0.71\n",
      " 19   5.334(58)       5.261(12)           0.87     0.74\n",
      " 20   5.247(57)       5.260(12)           0.91     0.67\n",
      "\n",
      "Normalization factors in integrand: {'diff_event_rate': 1.2227805988578867e-26, 'diff_flux_avg_xsec': 9.063529982638397e-10, 'diff_decay_rate_0': 6.8470583097297154e-18}.\n",
      "Normalization factors in MC: {'diff_event_rate': 1.2227805988578867e-26, 'diff_flux_avg_xsec': 9.063529982638397e-10, 'diff_decay_rate_0': 6.8470583097297154e-18}.\n",
      "Vegas results for diff_event_rate: 5.311102075932384\n",
      "Vegas results for diff_flux_avg_xsec: 9.644183825350733\n",
      "Vegas results for diff_decay_rate_0: 1.084956302122226\n",
      "Parent N4 proper decay length: 2.656E+03 cm.\n",
      "\n",
      "Predicted (577 +/- 21.7) events.\n",
      "\n",
      "nu(mu) C12 --> N4  C12 --> nu_light mu+ mu- C12\n",
      "Helicity flipping upscattering.\n",
      "N4 decays via off-shell Z'.\n",
      "Running VEGAS for DIM=6\n",
      "Throwing an initial 10000 random points to find the normalization\n",
      "Normalization factors in integrand: {'diff_event_rate': 1, 'diff_flux_avg_xsec': 1, 'diff_decay_rate_0': 1}.\n",
      "Throwing successful\n",
      "Normalization factors in integrand: {'diff_event_rate': 9.355306248113649e-30, 'diff_flux_avg_xsec': 1.1822242411401526e-11, 'diff_decay_rate_0': 1.7802524129868024e-17}.\n",
      "Normalization factors in integrand: {'diff_event_rate': 9.355306248113649e-30, 'diff_flux_avg_xsec': 1.1822242411401526e-11, 'diff_decay_rate_0': 1.7802524129868024e-17}.\n",
      "Normalization factors in integrand: {'diff_event_rate': 9.355306248113649e-30, 'diff_flux_avg_xsec': 1.1822242411401526e-11, 'diff_decay_rate_0': 1.7802524129868024e-17}.\n",
      "Normalization factors in integrand: {'diff_event_rate': 9.355306248113649e-30, 'diff_flux_avg_xsec': 1.1822242411401526e-11, 'diff_decay_rate_0': 1.7802524129868024e-17}.\n",
      "Normalization factors in integrand: {'diff_event_rate': 9.355306248113649e-30, 'diff_flux_avg_xsec': 1.1822242411401526e-11, 'diff_decay_rate_0': 1.7802524129868024e-17}.\n",
      "Normalization factors in integrand: {'diff_event_rate': 9.355306248113649e-30, 'diff_flux_avg_xsec': 1.1822242411401526e-11, 'diff_decay_rate_0': 1.7802524129868024e-17}.\n",
      "Normalization factors in integrand: {'diff_event_rate': 9.355306248113649e-30, 'diff_flux_avg_xsec': 1.1822242411401526e-11, 'diff_decay_rate_0': 1.7802524129868024e-17}.\n",
      "Normalization factors in integrand: {'diff_event_rate': 9.355306248113649e-30, 'diff_flux_avg_xsec': 1.1822242411401526e-11, 'diff_decay_rate_0': 1.7802524129868024e-17}.\n",
      "Normalization factors in integrand: {'diff_event_rate': 9.355306248113649e-30, 'diff_flux_avg_xsec': 1.1822242411401526e-11, 'diff_decay_rate_0': 1.7802524129868024e-17}.\n",
      "Normalization factors in integrand: {'diff_event_rate': 9.355306248113649e-30, 'diff_flux_avg_xsec': 1.1822242411401526e-11, 'diff_decay_rate_0': 1.7802524129868024e-17}.\n",
      "Normalization factors in integrand: {'diff_event_rate': 9.355306248113649e-30, 'diff_flux_avg_xsec': 1.1822242411401526e-11, 'diff_decay_rate_0': 1.7802524129868024e-17}.\n",
      "VEGAS warm-up completed.\n",
      "Normalization factors in integrand: {'diff_event_rate': 9.355306248113649e-30, 'diff_flux_avg_xsec': 1.1822242411401526e-11, 'diff_decay_rate_0': 1.7802524129868024e-17}.\n",
      "Normalization factors in integrand: {'diff_event_rate': 9.355306248113649e-30, 'diff_flux_avg_xsec': 1.1822242411401526e-11, 'diff_decay_rate_0': 1.7802524129868024e-17}.\n",
      "Normalization factors in integrand: {'diff_event_rate': 9.355306248113649e-30, 'diff_flux_avg_xsec': 1.1822242411401526e-11, 'diff_decay_rate_0': 1.7802524129868024e-17}.\n",
      "Normalization factors in integrand: {'diff_event_rate': 9.355306248113649e-30, 'diff_flux_avg_xsec': 1.1822242411401526e-11, 'diff_decay_rate_0': 1.7802524129868024e-17}.\n",
      "Normalization factors in integrand: {'diff_event_rate': 9.355306248113649e-30, 'diff_flux_avg_xsec': 1.1822242411401526e-11, 'diff_decay_rate_0': 1.7802524129868024e-17}.\n",
      "Normalization factors in integrand: {'diff_event_rate': 9.355306248113649e-30, 'diff_flux_avg_xsec': 1.1822242411401526e-11, 'diff_decay_rate_0': 1.7802524129868024e-17}.\n",
      "Normalization factors in integrand: {'diff_event_rate': 9.355306248113649e-30, 'diff_flux_avg_xsec': 1.1822242411401526e-11, 'diff_decay_rate_0': 1.7802524129868024e-17}.\n",
      "Normalization factors in integrand: {'diff_event_rate': 9.355306248113649e-30, 'diff_flux_avg_xsec': 1.1822242411401526e-11, 'diff_decay_rate_0': 1.7802524129868024e-17}.\n",
      "Normalization factors in integrand: {'diff_event_rate': 9.355306248113649e-30, 'diff_flux_avg_xsec': 1.1822242411401526e-11, 'diff_decay_rate_0': 1.7802524129868024e-17}.\n",
      "Normalization factors in integrand: {'diff_event_rate': 9.355306248113649e-30, 'diff_flux_avg_xsec': 1.1822242411401526e-11, 'diff_decay_rate_0': 1.7802524129868024e-17}.\n",
      "Normalization factors in integrand: {'diff_event_rate': 9.355306248113649e-30, 'diff_flux_avg_xsec': 1.1822242411401526e-11, 'diff_decay_rate_0': 1.7802524129868024e-17}.\n",
      "Normalization factors in integrand: {'diff_event_rate': 9.355306248113649e-30, 'diff_flux_avg_xsec': 1.1822242411401526e-11, 'diff_decay_rate_0': 1.7802524129868024e-17}.\n",
      "Normalization factors in integrand: {'diff_event_rate': 9.355306248113649e-30, 'diff_flux_avg_xsec': 1.1822242411401526e-11, 'diff_decay_rate_0': 1.7802524129868024e-17}.\n",
      "Normalization factors in integrand: {'diff_event_rate': 9.355306248113649e-30, 'diff_flux_avg_xsec': 1.1822242411401526e-11, 'diff_decay_rate_0': 1.7802524129868024e-17}.\n",
      "Normalization factors in integrand: {'diff_event_rate': 9.355306248113649e-30, 'diff_flux_avg_xsec': 1.1822242411401526e-11, 'diff_decay_rate_0': 1.7802524129868024e-17}.\n",
      "Normalization factors in integrand: {'diff_event_rate': 9.355306248113649e-30, 'diff_flux_avg_xsec': 1.1822242411401526e-11, 'diff_decay_rate_0': 1.7802524129868024e-17}.\n",
      "Normalization factors in integrand: {'diff_event_rate': 9.355306248113649e-30, 'diff_flux_avg_xsec': 1.1822242411401526e-11, 'diff_decay_rate_0': 1.7802524129868024e-17}.\n",
      "Normalization factors in integrand: {'diff_event_rate': 9.355306248113649e-30, 'diff_flux_avg_xsec': 1.1822242411401526e-11, 'diff_decay_rate_0': 1.7802524129868024e-17}.\n",
      "Normalization factors in integrand: {'diff_event_rate': 9.355306248113649e-30, 'diff_flux_avg_xsec': 1.1822242411401526e-11, 'diff_decay_rate_0': 1.7802524129868024e-17}.\n",
      "Normalization factors in integrand: {'diff_event_rate': 9.355306248113649e-30, 'diff_flux_avg_xsec': 1.1822242411401526e-11, 'diff_decay_rate_0': 1.7802524129868024e-17}.\n",
      "Normalization factors in integrand: {'diff_event_rate': 9.355306248113649e-30, 'diff_flux_avg_xsec': 1.1822242411401526e-11, 'diff_decay_rate_0': 1.7802524129868024e-17}.\n",
      "Main VEGAS run completed.\n",
      "Vegas results for the integrals: itn   integral        wgt average     chi2/dof        Q\n",
      "-------------------------------------------------------\n",
      "  1   1.925(24)       1.925(24)           0.00     1.00\n",
      "  2   1.906(23)       1.917(16)           1.07     0.36\n",
      "  3   1.862(21)       1.896(13)           1.28     0.26\n",
      "  4   1.907(19)       1.900(11)           1.38     0.19\n",
      "  5   1.873(21)       1.8948(95)          1.23     0.26\n",
      "  6   1.883(20)       1.8914(85)          1.22     0.25\n",
      "  7   1.896(21)       1.8920(79)          1.03     0.43\n",
      "  8   1.880(18)       1.8901(72)          0.92     0.57\n",
      "  9   1.857(17)       1.8850(67)          0.94     0.55\n",
      " 10   1.882(38)       1.8826(64)          0.95     0.54\n",
      " 11   1.876(21)       1.8823(61)          0.89     0.63\n",
      " 12   1.898(21)       1.8835(59)          0.86     0.70\n",
      " 13   1.858(21)       1.8813(56)          0.84     0.73\n",
      " 14   1.894(23)       1.8821(55)          0.79     0.83\n",
      " 15   1.883(20)       1.8823(53)          0.74     0.89\n",
      " 16   1.856(21)       1.8807(51)          0.75     0.89\n",
      " 17   1.887(21)       1.8810(50)          0.73     0.92\n",
      " 18   1.860(22)       1.8803(48)          0.76     0.89\n",
      " 19   1.892(19)       1.8810(47)          0.73     0.93\n",
      " 20   1.928(34)       1.8818(46)          0.74     0.93\n",
      "\n",
      "Normalization factors in integrand: {'diff_event_rate': 9.355306248113649e-30, 'diff_flux_avg_xsec': 1.1822242411401526e-11, 'diff_decay_rate_0': 1.7802524129868024e-17}.\n",
      "Normalization factors in MC: {'diff_event_rate': 9.355306248113649e-30, 'diff_flux_avg_xsec': 1.1822242411401526e-11, 'diff_decay_rate_0': 1.7802524129868024e-17}.\n",
      "Vegas results for diff_event_rate: 1.8655381535163056\n",
      "Vegas results for diff_flux_avg_xsec: 0.19887180793741635\n",
      "Vegas results for diff_decay_rate_0: 0.4166385391733265\n",
      "Parent N4 proper decay length: 2.660E+03 cm.\n",
      "\n",
      "Predicted (0.155 +/- 0.00608) events.\n",
      "\n",
      "Appending nu(mu) C12 --> N4  C12 --> nu_light mu+ mu- C12\n",
      "nu(mu) proton_in_C12 --> N4  proton_in_C12 --> nu_light mu+ mu- proton_in_C12\n",
      "Helicity conserving upscattering.\n",
      "N4 decays via off-shell Z'.\n",
      "Running VEGAS for DIM=6\n",
      "Throwing an initial 10000 random points to find the normalization\n",
      "Normalization factors in integrand: {'diff_event_rate': 1, 'diff_flux_avg_xsec': 1, 'diff_decay_rate_0': 1}.\n",
      "Throwing successful\n",
      "Normalization factors in integrand: {'diff_event_rate': 7.399106121298533e-29, 'diff_flux_avg_xsec': 1.1231598170878755e-10, 'diff_decay_rate_0': 1.0290690509098893e-18}.\n",
      "Normalization factors in integrand: {'diff_event_rate': 7.399106121298533e-29, 'diff_flux_avg_xsec': 1.1231598170878755e-10, 'diff_decay_rate_0': 1.0290690509098893e-18}.\n",
      "Normalization factors in integrand: {'diff_event_rate': 7.399106121298533e-29, 'diff_flux_avg_xsec': 1.1231598170878755e-10, 'diff_decay_rate_0': 1.0290690509098893e-18}.\n",
      "Normalization factors in integrand: {'diff_event_rate': 7.399106121298533e-29, 'diff_flux_avg_xsec': 1.1231598170878755e-10, 'diff_decay_rate_0': 1.0290690509098893e-18}.\n",
      "Normalization factors in integrand: {'diff_event_rate': 7.399106121298533e-29, 'diff_flux_avg_xsec': 1.1231598170878755e-10, 'diff_decay_rate_0': 1.0290690509098893e-18}.\n",
      "Normalization factors in integrand: {'diff_event_rate': 7.399106121298533e-29, 'diff_flux_avg_xsec': 1.1231598170878755e-10, 'diff_decay_rate_0': 1.0290690509098893e-18}.\n",
      "Normalization factors in integrand: {'diff_event_rate': 7.399106121298533e-29, 'diff_flux_avg_xsec': 1.1231598170878755e-10, 'diff_decay_rate_0': 1.0290690509098893e-18}.\n",
      "Normalization factors in integrand: {'diff_event_rate': 7.399106121298533e-29, 'diff_flux_avg_xsec': 1.1231598170878755e-10, 'diff_decay_rate_0': 1.0290690509098893e-18}.\n",
      "Normalization factors in integrand: {'diff_event_rate': 7.399106121298533e-29, 'diff_flux_avg_xsec': 1.1231598170878755e-10, 'diff_decay_rate_0': 1.0290690509098893e-18}.\n",
      "Normalization factors in integrand: {'diff_event_rate': 7.399106121298533e-29, 'diff_flux_avg_xsec': 1.1231598170878755e-10, 'diff_decay_rate_0': 1.0290690509098893e-18}.\n",
      "Normalization factors in integrand: {'diff_event_rate': 7.399106121298533e-29, 'diff_flux_avg_xsec': 1.1231598170878755e-10, 'diff_decay_rate_0': 1.0290690509098893e-18}.\n",
      "VEGAS warm-up completed.\n",
      "Normalization factors in integrand: {'diff_event_rate': 7.399106121298533e-29, 'diff_flux_avg_xsec': 1.1231598170878755e-10, 'diff_decay_rate_0': 1.0290690509098893e-18}.\n",
      "Normalization factors in integrand: {'diff_event_rate': 7.399106121298533e-29, 'diff_flux_avg_xsec': 1.1231598170878755e-10, 'diff_decay_rate_0': 1.0290690509098893e-18}.\n",
      "Normalization factors in integrand: {'diff_event_rate': 7.399106121298533e-29, 'diff_flux_avg_xsec': 1.1231598170878755e-10, 'diff_decay_rate_0': 1.0290690509098893e-18}.\n",
      "Normalization factors in integrand: {'diff_event_rate': 7.399106121298533e-29, 'diff_flux_avg_xsec': 1.1231598170878755e-10, 'diff_decay_rate_0': 1.0290690509098893e-18}.\n",
      "Normalization factors in integrand: {'diff_event_rate': 7.399106121298533e-29, 'diff_flux_avg_xsec': 1.1231598170878755e-10, 'diff_decay_rate_0': 1.0290690509098893e-18}.\n",
      "Normalization factors in integrand: {'diff_event_rate': 7.399106121298533e-29, 'diff_flux_avg_xsec': 1.1231598170878755e-10, 'diff_decay_rate_0': 1.0290690509098893e-18}.\n",
      "Normalization factors in integrand: {'diff_event_rate': 7.399106121298533e-29, 'diff_flux_avg_xsec': 1.1231598170878755e-10, 'diff_decay_rate_0': 1.0290690509098893e-18}.\n",
      "Normalization factors in integrand: {'diff_event_rate': 7.399106121298533e-29, 'diff_flux_avg_xsec': 1.1231598170878755e-10, 'diff_decay_rate_0': 1.0290690509098893e-18}.\n",
      "Normalization factors in integrand: {'diff_event_rate': 7.399106121298533e-29, 'diff_flux_avg_xsec': 1.1231598170878755e-10, 'diff_decay_rate_0': 1.0290690509098893e-18}.\n",
      "Normalization factors in integrand: {'diff_event_rate': 7.399106121298533e-29, 'diff_flux_avg_xsec': 1.1231598170878755e-10, 'diff_decay_rate_0': 1.0290690509098893e-18}.\n",
      "Normalization factors in integrand: {'diff_event_rate': 7.399106121298533e-29, 'diff_flux_avg_xsec': 1.1231598170878755e-10, 'diff_decay_rate_0': 1.0290690509098893e-18}.\n",
      "Normalization factors in integrand: {'diff_event_rate': 7.399106121298533e-29, 'diff_flux_avg_xsec': 1.1231598170878755e-10, 'diff_decay_rate_0': 1.0290690509098893e-18}.\n",
      "Normalization factors in integrand: {'diff_event_rate': 7.399106121298533e-29, 'diff_flux_avg_xsec': 1.1231598170878755e-10, 'diff_decay_rate_0': 1.0290690509098893e-18}.\n",
      "Normalization factors in integrand: {'diff_event_rate': 7.399106121298533e-29, 'diff_flux_avg_xsec': 1.1231598170878755e-10, 'diff_decay_rate_0': 1.0290690509098893e-18}.\n",
      "Normalization factors in integrand: {'diff_event_rate': 7.399106121298533e-29, 'diff_flux_avg_xsec': 1.1231598170878755e-10, 'diff_decay_rate_0': 1.0290690509098893e-18}.\n",
      "Normalization factors in integrand: {'diff_event_rate': 7.399106121298533e-29, 'diff_flux_avg_xsec': 1.1231598170878755e-10, 'diff_decay_rate_0': 1.0290690509098893e-18}.\n",
      "Normalization factors in integrand: {'diff_event_rate': 7.399106121298533e-29, 'diff_flux_avg_xsec': 1.1231598170878755e-10, 'diff_decay_rate_0': 1.0290690509098893e-18}.\n",
      "Normalization factors in integrand: {'diff_event_rate': 7.399106121298533e-29, 'diff_flux_avg_xsec': 1.1231598170878755e-10, 'diff_decay_rate_0': 1.0290690509098893e-18}.\n",
      "Normalization factors in integrand: {'diff_event_rate': 7.399106121298533e-29, 'diff_flux_avg_xsec': 1.1231598170878755e-10, 'diff_decay_rate_0': 1.0290690509098893e-18}.\n",
      "Normalization factors in integrand: {'diff_event_rate': 7.399106121298533e-29, 'diff_flux_avg_xsec': 1.1231598170878755e-10, 'diff_decay_rate_0': 1.0290690509098893e-18}.\n",
      "Normalization factors in integrand: {'diff_event_rate': 7.399106121298533e-29, 'diff_flux_avg_xsec': 1.1231598170878755e-10, 'diff_decay_rate_0': 1.0290690509098893e-18}.\n",
      "Main VEGAS run completed.\n",
      "Vegas results for the integrals: itn   integral        wgt average     chi2/dof        Q\n",
      "-------------------------------------------------------\n",
      "  1   88.26(86)       88.26(86)           0.00     1.00\n",
      "  2   88.33(76)       88.34(57)           0.25     0.86\n",
      "  3   87.17(74)       87.92(45)           0.44     0.85\n",
      "  4   87.07(75)       87.71(38)           0.45     0.91\n",
      "  5   88.27(89)       87.78(35)           0.67     0.78\n",
      "  6   89.00(75)       88.02(32)           0.80     0.68\n",
      "  7   87.85(70)       88.00(29)           0.68     0.84\n",
      "  8   87.86(76)       88.00(27)           0.65     0.88\n",
      "  9   87.82(66)       87.96(25)           0.60     0.93\n",
      " 10   87.42(69)       87.90(23)           0.57     0.96\n",
      " 11   86.89(66)       87.78(22)           0.59     0.96\n",
      " 12   87.34(69)       87.74(21)           0.59     0.97\n",
      " 13   88.66(63)       87.84(20)           0.74     0.87\n",
      " 14   87.64(81)       87.83(19)           0.74     0.88\n",
      " 15   88.20(85)       87.83(19)           0.74     0.89\n",
      " 16   88.49(72)       87.85(18)           0.77     0.86\n",
      " 17   88.28(69)       87.88(17)           0.73     0.91\n",
      " 18   87.52(65)       87.87(17)           0.75     0.90\n",
      " 19   87.44(75)       87.86(16)           0.75     0.91\n",
      " 20   88.28(73)       87.88(16)           0.73     0.94\n",
      "\n",
      "Normalization factors in integrand: {'diff_event_rate': 7.399106121298533e-29, 'diff_flux_avg_xsec': 1.1231598170878755e-10, 'diff_decay_rate_0': 1.0290690509098893e-18}.\n",
      "Normalization factors in MC: {'diff_event_rate': 7.399106121298533e-29, 'diff_flux_avg_xsec': 1.1231598170878755e-10, 'diff_decay_rate_0': 1.0290690509098893e-18}.\n",
      "Vegas results for diff_event_rate: 88.07570968462453\n",
      "Vegas results for diff_flux_avg_xsec: 7.844953948705708\n",
      "Vegas results for diff_decay_rate_0: 7.189368717078473\n",
      "Parent N4 proper decay length: 2.667E+03 cm.\n",
      "\n",
      "Predicted (349 +/- 12.9) events.\n",
      "\n",
      "Appending nu(mu) proton_in_C12 --> N4  proton_in_C12 --> nu_light mu+ mu- proton_in_C12\n",
      "nu(mu) proton_in_C12 --> N4  proton_in_C12 --> nu_light mu+ mu- proton_in_C12\n",
      "Helicity flipping upscattering.\n",
      "N4 decays via off-shell Z'.\n",
      "Running VEGAS for DIM=6\n",
      "Throwing an initial 10000 random points to find the normalization\n",
      "Normalization factors in integrand: {'diff_event_rate': 1, 'diff_flux_avg_xsec': 1, 'diff_decay_rate_0': 1}.\n",
      "Throwing successful\n",
      "Normalization factors in integrand: {'diff_event_rate': 1.3022860750984164e-30, 'diff_flux_avg_xsec': 4.592120846751333e-12, 'diff_decay_rate_0': 5.482841875228195e-18}.\n",
      "Normalization factors in integrand: {'diff_event_rate': 1.3022860750984164e-30, 'diff_flux_avg_xsec': 4.592120846751333e-12, 'diff_decay_rate_0': 5.482841875228195e-18}.\n",
      "Normalization factors in integrand: {'diff_event_rate': 1.3022860750984164e-30, 'diff_flux_avg_xsec': 4.592120846751333e-12, 'diff_decay_rate_0': 5.482841875228195e-18}.\n",
      "Normalization factors in integrand: {'diff_event_rate': 1.3022860750984164e-30, 'diff_flux_avg_xsec': 4.592120846751333e-12, 'diff_decay_rate_0': 5.482841875228195e-18}.\n",
      "Normalization factors in integrand: {'diff_event_rate': 1.3022860750984164e-30, 'diff_flux_avg_xsec': 4.592120846751333e-12, 'diff_decay_rate_0': 5.482841875228195e-18}.\n",
      "Normalization factors in integrand: {'diff_event_rate': 1.3022860750984164e-30, 'diff_flux_avg_xsec': 4.592120846751333e-12, 'diff_decay_rate_0': 5.482841875228195e-18}.\n",
      "Normalization factors in integrand: {'diff_event_rate': 1.3022860750984164e-30, 'diff_flux_avg_xsec': 4.592120846751333e-12, 'diff_decay_rate_0': 5.482841875228195e-18}.\n",
      "Normalization factors in integrand: {'diff_event_rate': 1.3022860750984164e-30, 'diff_flux_avg_xsec': 4.592120846751333e-12, 'diff_decay_rate_0': 5.482841875228195e-18}.\n",
      "Normalization factors in integrand: {'diff_event_rate': 1.3022860750984164e-30, 'diff_flux_avg_xsec': 4.592120846751333e-12, 'diff_decay_rate_0': 5.482841875228195e-18}.\n",
      "Normalization factors in integrand: {'diff_event_rate': 1.3022860750984164e-30, 'diff_flux_avg_xsec': 4.592120846751333e-12, 'diff_decay_rate_0': 5.482841875228195e-18}.\n",
      "Normalization factors in integrand: {'diff_event_rate': 1.3022860750984164e-30, 'diff_flux_avg_xsec': 4.592120846751333e-12, 'diff_decay_rate_0': 5.482841875228195e-18}.\n",
      "VEGAS warm-up completed.\n",
      "Normalization factors in integrand: {'diff_event_rate': 1.3022860750984164e-30, 'diff_flux_avg_xsec': 4.592120846751333e-12, 'diff_decay_rate_0': 5.482841875228195e-18}.\n",
      "Normalization factors in integrand: {'diff_event_rate': 1.3022860750984164e-30, 'diff_flux_avg_xsec': 4.592120846751333e-12, 'diff_decay_rate_0': 5.482841875228195e-18}.\n",
      "Normalization factors in integrand: {'diff_event_rate': 1.3022860750984164e-30, 'diff_flux_avg_xsec': 4.592120846751333e-12, 'diff_decay_rate_0': 5.482841875228195e-18}.\n",
      "Normalization factors in integrand: {'diff_event_rate': 1.3022860750984164e-30, 'diff_flux_avg_xsec': 4.592120846751333e-12, 'diff_decay_rate_0': 5.482841875228195e-18}.\n",
      "Normalization factors in integrand: {'diff_event_rate': 1.3022860750984164e-30, 'diff_flux_avg_xsec': 4.592120846751333e-12, 'diff_decay_rate_0': 5.482841875228195e-18}.\n",
      "Normalization factors in integrand: {'diff_event_rate': 1.3022860750984164e-30, 'diff_flux_avg_xsec': 4.592120846751333e-12, 'diff_decay_rate_0': 5.482841875228195e-18}.\n",
      "Normalization factors in integrand: {'diff_event_rate': 1.3022860750984164e-30, 'diff_flux_avg_xsec': 4.592120846751333e-12, 'diff_decay_rate_0': 5.482841875228195e-18}.\n",
      "Normalization factors in integrand: {'diff_event_rate': 1.3022860750984164e-30, 'diff_flux_avg_xsec': 4.592120846751333e-12, 'diff_decay_rate_0': 5.482841875228195e-18}.\n",
      "Normalization factors in integrand: {'diff_event_rate': 1.3022860750984164e-30, 'diff_flux_avg_xsec': 4.592120846751333e-12, 'diff_decay_rate_0': 5.482841875228195e-18}.\n",
      "Normalization factors in integrand: {'diff_event_rate': 1.3022860750984164e-30, 'diff_flux_avg_xsec': 4.592120846751333e-12, 'diff_decay_rate_0': 5.482841875228195e-18}.\n",
      "Normalization factors in integrand: {'diff_event_rate': 1.3022860750984164e-30, 'diff_flux_avg_xsec': 4.592120846751333e-12, 'diff_decay_rate_0': 5.482841875228195e-18}.\n",
      "Normalization factors in integrand: {'diff_event_rate': 1.3022860750984164e-30, 'diff_flux_avg_xsec': 4.592120846751333e-12, 'diff_decay_rate_0': 5.482841875228195e-18}.\n",
      "Normalization factors in integrand: {'diff_event_rate': 1.3022860750984164e-30, 'diff_flux_avg_xsec': 4.592120846751333e-12, 'diff_decay_rate_0': 5.482841875228195e-18}.\n",
      "Normalization factors in integrand: {'diff_event_rate': 1.3022860750984164e-30, 'diff_flux_avg_xsec': 4.592120846751333e-12, 'diff_decay_rate_0': 5.482841875228195e-18}.\n",
      "Normalization factors in integrand: {'diff_event_rate': 1.3022860750984164e-30, 'diff_flux_avg_xsec': 4.592120846751333e-12, 'diff_decay_rate_0': 5.482841875228195e-18}.\n",
      "Normalization factors in integrand: {'diff_event_rate': 1.3022860750984164e-30, 'diff_flux_avg_xsec': 4.592120846751333e-12, 'diff_decay_rate_0': 5.482841875228195e-18}.\n",
      "Normalization factors in integrand: {'diff_event_rate': 1.3022860750984164e-30, 'diff_flux_avg_xsec': 4.592120846751333e-12, 'diff_decay_rate_0': 5.482841875228195e-18}.\n",
      "Normalization factors in integrand: {'diff_event_rate': 1.3022860750984164e-30, 'diff_flux_avg_xsec': 4.592120846751333e-12, 'diff_decay_rate_0': 5.482841875228195e-18}.\n",
      "Normalization factors in integrand: {'diff_event_rate': 1.3022860750984164e-30, 'diff_flux_avg_xsec': 4.592120846751333e-12, 'diff_decay_rate_0': 5.482841875228195e-18}.\n",
      "Normalization factors in integrand: {'diff_event_rate': 1.3022860750984164e-30, 'diff_flux_avg_xsec': 4.592120846751333e-12, 'diff_decay_rate_0': 5.482841875228195e-18}.\n",
      "Normalization factors in integrand: {'diff_event_rate': 1.3022860750984164e-30, 'diff_flux_avg_xsec': 4.592120846751333e-12, 'diff_decay_rate_0': 5.482841875228195e-18}.\n",
      "Main VEGAS run completed.\n",
      "Vegas results for the integrals: itn   integral        wgt average     chi2/dof        Q\n",
      "-------------------------------------------------------\n",
      "  1   79.30(79)       79.30(79)           0.00     1.00\n",
      "  2   80.31(76)       79.90(55)           2.02     0.11\n",
      "  3   80.23(74)       80.02(44)           1.03     0.40\n",
      "  4   79.17(69)       79.78(37)           0.88     0.54\n",
      "  5   80.00(69)       79.84(32)           0.72     0.73\n",
      "  6   78.68(70)       79.65(29)           0.77     0.72\n",
      "  7   79.18(69)       79.57(27)           0.68     0.83\n",
      "  8   78.63(78)       79.48(25)           0.68     0.86\n",
      "  9   80.1(1.1)       79.43(24)           0.73     0.82\n",
      " 10   79.54(79)       79.45(23)           0.65     0.91\n",
      " 11   79.67(68)       79.47(22)           0.73     0.86\n",
      " 12   80.74(80)       79.57(21)           0.80     0.79\n",
      " 13   79.85(76)       79.59(20)           0.74     0.87\n",
      " 14   79.46(78)       79.58(20)           0.68     0.93\n",
      " 15   78.93(71)       79.55(19)           0.75     0.89\n",
      " 16   79.37(71)       79.54(18)           0.71     0.93\n",
      " 17   78.73(69)       79.48(18)           0.71     0.93\n",
      " 18   79.07(72)       79.46(17)           0.70     0.95\n",
      " 19   79.94(76)       79.48(17)           0.68     0.97\n",
      " 20   79.76(74)       79.50(16)           0.65     0.98\n",
      "\n",
      "Normalization factors in integrand: {'diff_event_rate': 1.3022860750984164e-30, 'diff_flux_avg_xsec': 4.592120846751333e-12, 'diff_decay_rate_0': 5.482841875228195e-18}.\n",
      "Normalization factors in MC: {'diff_event_rate': 1.3022860750984164e-30, 'diff_flux_avg_xsec': 4.592120846751333e-12, 'diff_decay_rate_0': 5.482841875228195e-18}.\n",
      "Vegas results for diff_event_rate: 78.57350389783059\n",
      "Vegas results for diff_flux_avg_xsec: 3.00967787538657\n",
      "Vegas results for diff_decay_rate_0: 1.351012956707565\n",
      "Parent N4 proper decay length: 2.664E+03 cm.\n",
      "\n",
      "Predicted (5.47 +/- 0.203) events.\n",
      "\n",
      "Appending nu(mu) proton_in_C12 --> N4  proton_in_C12 --> nu_light mu+ mu- proton_in_C12\n",
      "nu(mu) proton_in_H1 --> N4  proton_in_H1 --> nu_light mu+ mu- proton_in_H1\n",
      "Helicity conserving upscattering.\n",
      "N4 decays via off-shell Z'.\n",
      "Running VEGAS for DIM=6\n",
      "Throwing an initial 10000 random points to find the normalization\n",
      "Normalization factors in integrand: {'diff_event_rate': 1, 'diff_flux_avg_xsec': 1, 'diff_decay_rate_0': 1}.\n",
      "Throwing successful\n",
      "Normalization factors in integrand: {'diff_event_rate': 1.1423445463657849e-28, 'diff_flux_avg_xsec': 1.1342003527663424e-10, 'diff_decay_rate_0': 1.1467485688129943e-18}.\n",
      "Normalization factors in integrand: {'diff_event_rate': 1.1423445463657849e-28, 'diff_flux_avg_xsec': 1.1342003527663424e-10, 'diff_decay_rate_0': 1.1467485688129943e-18}.\n",
      "Normalization factors in integrand: {'diff_event_rate': 1.1423445463657849e-28, 'diff_flux_avg_xsec': 1.1342003527663424e-10, 'diff_decay_rate_0': 1.1467485688129943e-18}.\n",
      "Normalization factors in integrand: {'diff_event_rate': 1.1423445463657849e-28, 'diff_flux_avg_xsec': 1.1342003527663424e-10, 'diff_decay_rate_0': 1.1467485688129943e-18}.\n",
      "Normalization factors in integrand: {'diff_event_rate': 1.1423445463657849e-28, 'diff_flux_avg_xsec': 1.1342003527663424e-10, 'diff_decay_rate_0': 1.1467485688129943e-18}.\n",
      "Normalization factors in integrand: {'diff_event_rate': 1.1423445463657849e-28, 'diff_flux_avg_xsec': 1.1342003527663424e-10, 'diff_decay_rate_0': 1.1467485688129943e-18}.\n",
      "Normalization factors in integrand: {'diff_event_rate': 1.1423445463657849e-28, 'diff_flux_avg_xsec': 1.1342003527663424e-10, 'diff_decay_rate_0': 1.1467485688129943e-18}.\n",
      "Normalization factors in integrand: {'diff_event_rate': 1.1423445463657849e-28, 'diff_flux_avg_xsec': 1.1342003527663424e-10, 'diff_decay_rate_0': 1.1467485688129943e-18}.\n",
      "Normalization factors in integrand: {'diff_event_rate': 1.1423445463657849e-28, 'diff_flux_avg_xsec': 1.1342003527663424e-10, 'diff_decay_rate_0': 1.1467485688129943e-18}.\n",
      "Normalization factors in integrand: {'diff_event_rate': 1.1423445463657849e-28, 'diff_flux_avg_xsec': 1.1342003527663424e-10, 'diff_decay_rate_0': 1.1467485688129943e-18}.\n",
      "Normalization factors in integrand: {'diff_event_rate': 1.1423445463657849e-28, 'diff_flux_avg_xsec': 1.1342003527663424e-10, 'diff_decay_rate_0': 1.1467485688129943e-18}.\n",
      "VEGAS warm-up completed.\n",
      "Normalization factors in integrand: {'diff_event_rate': 1.1423445463657849e-28, 'diff_flux_avg_xsec': 1.1342003527663424e-10, 'diff_decay_rate_0': 1.1467485688129943e-18}.\n",
      "Normalization factors in integrand: {'diff_event_rate': 1.1423445463657849e-28, 'diff_flux_avg_xsec': 1.1342003527663424e-10, 'diff_decay_rate_0': 1.1467485688129943e-18}.\n",
      "Normalization factors in integrand: {'diff_event_rate': 1.1423445463657849e-28, 'diff_flux_avg_xsec': 1.1342003527663424e-10, 'diff_decay_rate_0': 1.1467485688129943e-18}.\n",
      "Normalization factors in integrand: {'diff_event_rate': 1.1423445463657849e-28, 'diff_flux_avg_xsec': 1.1342003527663424e-10, 'diff_decay_rate_0': 1.1467485688129943e-18}.\n",
      "Normalization factors in integrand: {'diff_event_rate': 1.1423445463657849e-28, 'diff_flux_avg_xsec': 1.1342003527663424e-10, 'diff_decay_rate_0': 1.1467485688129943e-18}.\n",
      "Normalization factors in integrand: {'diff_event_rate': 1.1423445463657849e-28, 'diff_flux_avg_xsec': 1.1342003527663424e-10, 'diff_decay_rate_0': 1.1467485688129943e-18}.\n",
      "Normalization factors in integrand: {'diff_event_rate': 1.1423445463657849e-28, 'diff_flux_avg_xsec': 1.1342003527663424e-10, 'diff_decay_rate_0': 1.1467485688129943e-18}.\n",
      "Normalization factors in integrand: {'diff_event_rate': 1.1423445463657849e-28, 'diff_flux_avg_xsec': 1.1342003527663424e-10, 'diff_decay_rate_0': 1.1467485688129943e-18}.\n",
      "Normalization factors in integrand: {'diff_event_rate': 1.1423445463657849e-28, 'diff_flux_avg_xsec': 1.1342003527663424e-10, 'diff_decay_rate_0': 1.1467485688129943e-18}.\n",
      "Normalization factors in integrand: {'diff_event_rate': 1.1423445463657849e-28, 'diff_flux_avg_xsec': 1.1342003527663424e-10, 'diff_decay_rate_0': 1.1467485688129943e-18}.\n",
      "Normalization factors in integrand: {'diff_event_rate': 1.1423445463657849e-28, 'diff_flux_avg_xsec': 1.1342003527663424e-10, 'diff_decay_rate_0': 1.1467485688129943e-18}.\n",
      "Normalization factors in integrand: {'diff_event_rate': 1.1423445463657849e-28, 'diff_flux_avg_xsec': 1.1342003527663424e-10, 'diff_decay_rate_0': 1.1467485688129943e-18}.\n",
      "Normalization factors in integrand: {'diff_event_rate': 1.1423445463657849e-28, 'diff_flux_avg_xsec': 1.1342003527663424e-10, 'diff_decay_rate_0': 1.1467485688129943e-18}.\n",
      "Normalization factors in integrand: {'diff_event_rate': 1.1423445463657849e-28, 'diff_flux_avg_xsec': 1.1342003527663424e-10, 'diff_decay_rate_0': 1.1467485688129943e-18}.\n",
      "Normalization factors in integrand: {'diff_event_rate': 1.1423445463657849e-28, 'diff_flux_avg_xsec': 1.1342003527663424e-10, 'diff_decay_rate_0': 1.1467485688129943e-18}.\n",
      "Normalization factors in integrand: {'diff_event_rate': 1.1423445463657849e-28, 'diff_flux_avg_xsec': 1.1342003527663424e-10, 'diff_decay_rate_0': 1.1467485688129943e-18}.\n",
      "Normalization factors in integrand: {'diff_event_rate': 1.1423445463657849e-28, 'diff_flux_avg_xsec': 1.1342003527663424e-10, 'diff_decay_rate_0': 1.1467485688129943e-18}.\n",
      "Normalization factors in integrand: {'diff_event_rate': 1.1423445463657849e-28, 'diff_flux_avg_xsec': 1.1342003527663424e-10, 'diff_decay_rate_0': 1.1467485688129943e-18}.\n",
      "Normalization factors in integrand: {'diff_event_rate': 1.1423445463657849e-28, 'diff_flux_avg_xsec': 1.1342003527663424e-10, 'diff_decay_rate_0': 1.1467485688129943e-18}.\n",
      "Normalization factors in integrand: {'diff_event_rate': 1.1423445463657849e-28, 'diff_flux_avg_xsec': 1.1342003527663424e-10, 'diff_decay_rate_0': 1.1467485688129943e-18}.\n",
      "Normalization factors in integrand: {'diff_event_rate': 1.1423445463657849e-28, 'diff_flux_avg_xsec': 1.1342003527663424e-10, 'diff_decay_rate_0': 1.1467485688129943e-18}.\n",
      "Main VEGAS run completed.\n",
      "Vegas results for the integrals: itn   integral        wgt average     chi2/dof        Q\n",
      "-------------------------------------------------------\n",
      "  1   57.05(54)       57.05(54)           0.00     1.00\n",
      "  2   56.94(53)       56.99(38)           0.41     0.75\n",
      "  3   56.50(48)       56.83(30)           0.43     0.86\n",
      "  4   56.12(43)       56.61(24)           0.60     0.79\n",
      "  5   57.10(46)       56.73(21)           0.72     0.73\n",
      "  6   56.71(49)       56.74(20)           0.66     0.83\n",
      "  7   57.16(51)       56.80(18)           0.81     0.69\n",
      "  8   56.98(45)       56.82(17)           0.76     0.77\n",
      "  9   57.18(41)       56.88(16)           0.83     0.70\n",
      " 10   57.17(49)       56.91(15)           0.83     0.72\n",
      " 11   57.35(65)       56.93(14)           0.80     0.78\n",
      " 12   57.02(50)       56.94(14)           0.74     0.86\n",
      " 13   57.38(43)       57.00(13)           0.75     0.86\n",
      " 14   57.60(51)       57.05(13)           0.78     0.84\n",
      " 15   56.91(44)       57.03(12)           0.74     0.90\n",
      " 16   56.82(46)       57.02(12)           0.71     0.93\n",
      " 17   57.49(49)       57.05(11)           0.69     0.95\n",
      " 18   57.00(52)       57.05(11)           0.68     0.96\n",
      " 19   57.56(49)       57.07(11)           0.67     0.97\n",
      " 20   57.41(48)       57.10(11)           0.71     0.95\n",
      "\n",
      "Normalization factors in integrand: {'diff_event_rate': 1.1423445463657849e-28, 'diff_flux_avg_xsec': 1.1342003527663424e-10, 'diff_decay_rate_0': 1.1467485688129943e-18}.\n",
      "Normalization factors in MC: {'diff_event_rate': 1.1423445463657849e-28, 'diff_flux_avg_xsec': 1.1342003527663424e-10, 'diff_decay_rate_0': 1.1467485688129943e-18}.\n",
      "Vegas results for diff_event_rate: 57.22873301583448\n",
      "Vegas results for diff_flux_avg_xsec: 7.769593900257805\n",
      "Vegas results for diff_decay_rate_0: 6.462121195559711\n",
      "Parent N4 proper decay length: 2.663E+03 cm.\n",
      "\n",
      "Predicted (116 +/- 4.32) events.\n",
      "\n",
      "Appending nu(mu) proton_in_H1 --> N4  proton_in_H1 --> nu_light mu+ mu- proton_in_H1\n",
      "nu(mu) proton_in_H1 --> N4  proton_in_H1 --> nu_light mu+ mu- proton_in_H1\n",
      "Helicity flipping upscattering.\n",
      "N4 decays via off-shell Z'.\n",
      "Running VEGAS for DIM=6\n",
      "Throwing an initial 10000 random points to find the normalization\n",
      "Normalization factors in integrand: {'diff_event_rate': 1, 'diff_flux_avg_xsec': 1, 'diff_decay_rate_0': 1}.\n",
      "Throwing successful\n",
      "Normalization factors in integrand: {'diff_event_rate': 9.454714536070718e-31, 'diff_flux_avg_xsec': 1.9747356877581224e-13, 'diff_decay_rate_0': 1.0057963838804365e-17}.\n",
      "Normalization factors in integrand: {'diff_event_rate': 9.454714536070718e-31, 'diff_flux_avg_xsec': 1.9747356877581224e-13, 'diff_decay_rate_0': 1.0057963838804365e-17}.\n",
      "Normalization factors in integrand: {'diff_event_rate': 9.454714536070718e-31, 'diff_flux_avg_xsec': 1.9747356877581224e-13, 'diff_decay_rate_0': 1.0057963838804365e-17}.\n",
      "Normalization factors in integrand: {'diff_event_rate': 9.454714536070718e-31, 'diff_flux_avg_xsec': 1.9747356877581224e-13, 'diff_decay_rate_0': 1.0057963838804365e-17}.\n",
      "Normalization factors in integrand: {'diff_event_rate': 9.454714536070718e-31, 'diff_flux_avg_xsec': 1.9747356877581224e-13, 'diff_decay_rate_0': 1.0057963838804365e-17}.\n",
      "Normalization factors in integrand: {'diff_event_rate': 9.454714536070718e-31, 'diff_flux_avg_xsec': 1.9747356877581224e-13, 'diff_decay_rate_0': 1.0057963838804365e-17}.\n",
      "Normalization factors in integrand: {'diff_event_rate': 9.454714536070718e-31, 'diff_flux_avg_xsec': 1.9747356877581224e-13, 'diff_decay_rate_0': 1.0057963838804365e-17}.\n",
      "Normalization factors in integrand: {'diff_event_rate': 9.454714536070718e-31, 'diff_flux_avg_xsec': 1.9747356877581224e-13, 'diff_decay_rate_0': 1.0057963838804365e-17}.\n",
      "Normalization factors in integrand: {'diff_event_rate': 9.454714536070718e-31, 'diff_flux_avg_xsec': 1.9747356877581224e-13, 'diff_decay_rate_0': 1.0057963838804365e-17}.\n",
      "Normalization factors in integrand: {'diff_event_rate': 9.454714536070718e-31, 'diff_flux_avg_xsec': 1.9747356877581224e-13, 'diff_decay_rate_0': 1.0057963838804365e-17}.\n",
      "Normalization factors in integrand: {'diff_event_rate': 9.454714536070718e-31, 'diff_flux_avg_xsec': 1.9747356877581224e-13, 'diff_decay_rate_0': 1.0057963838804365e-17}.\n",
      "VEGAS warm-up completed.\n",
      "Normalization factors in integrand: {'diff_event_rate': 9.454714536070718e-31, 'diff_flux_avg_xsec': 1.9747356877581224e-13, 'diff_decay_rate_0': 1.0057963838804365e-17}.\n",
      "Normalization factors in integrand: {'diff_event_rate': 9.454714536070718e-31, 'diff_flux_avg_xsec': 1.9747356877581224e-13, 'diff_decay_rate_0': 1.0057963838804365e-17}.\n",
      "Normalization factors in integrand: {'diff_event_rate': 9.454714536070718e-31, 'diff_flux_avg_xsec': 1.9747356877581224e-13, 'diff_decay_rate_0': 1.0057963838804365e-17}.\n",
      "Normalization factors in integrand: {'diff_event_rate': 9.454714536070718e-31, 'diff_flux_avg_xsec': 1.9747356877581224e-13, 'diff_decay_rate_0': 1.0057963838804365e-17}.\n",
      "Normalization factors in integrand: {'diff_event_rate': 9.454714536070718e-31, 'diff_flux_avg_xsec': 1.9747356877581224e-13, 'diff_decay_rate_0': 1.0057963838804365e-17}.\n",
      "Normalization factors in integrand: {'diff_event_rate': 9.454714536070718e-31, 'diff_flux_avg_xsec': 1.9747356877581224e-13, 'diff_decay_rate_0': 1.0057963838804365e-17}.\n",
      "Normalization factors in integrand: {'diff_event_rate': 9.454714536070718e-31, 'diff_flux_avg_xsec': 1.9747356877581224e-13, 'diff_decay_rate_0': 1.0057963838804365e-17}.\n",
      "Normalization factors in integrand: {'diff_event_rate': 9.454714536070718e-31, 'diff_flux_avg_xsec': 1.9747356877581224e-13, 'diff_decay_rate_0': 1.0057963838804365e-17}.\n",
      "Normalization factors in integrand: {'diff_event_rate': 9.454714536070718e-31, 'diff_flux_avg_xsec': 1.9747356877581224e-13, 'diff_decay_rate_0': 1.0057963838804365e-17}.\n",
      "Normalization factors in integrand: {'diff_event_rate': 9.454714536070718e-31, 'diff_flux_avg_xsec': 1.9747356877581224e-13, 'diff_decay_rate_0': 1.0057963838804365e-17}.\n",
      "Normalization factors in integrand: {'diff_event_rate': 9.454714536070718e-31, 'diff_flux_avg_xsec': 1.9747356877581224e-13, 'diff_decay_rate_0': 1.0057963838804365e-17}.\n",
      "Normalization factors in integrand: {'diff_event_rate': 9.454714536070718e-31, 'diff_flux_avg_xsec': 1.9747356877581224e-13, 'diff_decay_rate_0': 1.0057963838804365e-17}.\n",
      "Normalization factors in integrand: {'diff_event_rate': 9.454714536070718e-31, 'diff_flux_avg_xsec': 1.9747356877581224e-13, 'diff_decay_rate_0': 1.0057963838804365e-17}.\n",
      "Normalization factors in integrand: {'diff_event_rate': 9.454714536070718e-31, 'diff_flux_avg_xsec': 1.9747356877581224e-13, 'diff_decay_rate_0': 1.0057963838804365e-17}.\n",
      "Normalization factors in integrand: {'diff_event_rate': 9.454714536070718e-31, 'diff_flux_avg_xsec': 1.9747356877581224e-13, 'diff_decay_rate_0': 1.0057963838804365e-17}.\n",
      "Normalization factors in integrand: {'diff_event_rate': 9.454714536070718e-31, 'diff_flux_avg_xsec': 1.9747356877581224e-13, 'diff_decay_rate_0': 1.0057963838804365e-17}.\n",
      "Normalization factors in integrand: {'diff_event_rate': 9.454714536070718e-31, 'diff_flux_avg_xsec': 1.9747356877581224e-13, 'diff_decay_rate_0': 1.0057963838804365e-17}.\n",
      "Normalization factors in integrand: {'diff_event_rate': 9.454714536070718e-31, 'diff_flux_avg_xsec': 1.9747356877581224e-13, 'diff_decay_rate_0': 1.0057963838804365e-17}.\n",
      "Normalization factors in integrand: {'diff_event_rate': 9.454714536070718e-31, 'diff_flux_avg_xsec': 1.9747356877581224e-13, 'diff_decay_rate_0': 1.0057963838804365e-17}.\n",
      "Normalization factors in integrand: {'diff_event_rate': 9.454714536070718e-31, 'diff_flux_avg_xsec': 1.9747356877581224e-13, 'diff_decay_rate_0': 1.0057963838804365e-17}.\n",
      "Normalization factors in integrand: {'diff_event_rate': 9.454714536070718e-31, 'diff_flux_avg_xsec': 1.9747356877581224e-13, 'diff_decay_rate_0': 1.0057963838804365e-17}.\n",
      "Main VEGAS run completed.\n",
      "Vegas results for the integrals: itn   integral        wgt average     chi2/dof        Q\n",
      "-------------------------------------------------------\n",
      "  1   109.2(1.1)      109.2(1.1)          0.00     1.00\n",
      "  2   111.1(1.0)      110.28(76)          1.13     0.33\n",
      "  3   110.70(98)      110.51(60)          0.99     0.43\n",
      "  4   110.11(98)      110.38(51)          0.71     0.70\n",
      "  5   109.4(1.0)      110.19(45)          0.59     0.85\n",
      "  6   109.1(1.2)      110.11(42)          0.75     0.73\n",
      "  7   110.0(1.0)      110.11(39)          0.68     0.84\n",
      "  8   107.7(1.0)      109.79(36)          0.83     0.68\n",
      "  9   110.45(97)      109.87(34)          0.84     0.69\n",
      " 10   109.12(90)      109.79(32)          0.81     0.75\n",
      " 11   110.08(97)      109.81(30)          0.74     0.85\n",
      " 12   112.0(1.0)      109.99(29)          0.82     0.76\n",
      " 13   110.81(96)      110.05(27)          0.79     0.81\n",
      " 14   109.6(1.0)      110.00(26)          0.84     0.75\n",
      " 15   108.8(1.0)      109.92(26)          0.81     0.80\n",
      " 16   110.6(1.0)      109.97(25)          0.77     0.87\n",
      " 17   109.98(95)      109.96(24)          0.78     0.87\n",
      " 18   109.64(95)      109.94(23)          0.73     0.92\n",
      " 19   110.9(1.0)      109.98(23)          0.72     0.94\n",
      " 20   110.3(1.2)      109.99(22)          0.71     0.96\n",
      "\n",
      "Normalization factors in integrand: {'diff_event_rate': 9.454714536070718e-31, 'diff_flux_avg_xsec': 1.9747356877581224e-13, 'diff_decay_rate_0': 1.0057963838804365e-17}.\n",
      "Normalization factors in MC: {'diff_event_rate': 9.454714536070718e-31, 'diff_flux_avg_xsec': 1.9747356877581224e-13, 'diff_decay_rate_0': 1.0057963838804365e-17}.\n",
      "Vegas results for diff_event_rate: 111.54812776676967\n",
      "Vegas results for diff_flux_avg_xsec: 71.51828761301435\n",
      "Vegas results for diff_decay_rate_0: 0.7423183782437842\n",
      "Parent N4 proper decay length: 2.643E+03 cm.\n",
      "\n",
      "Predicted (1.85 +/- 0.0705) events.\n",
      "\n",
      "Appending nu(mu) proton_in_H1 --> N4  proton_in_H1 --> nu_light mu+ mu- proton_in_H1\n",
      "---------------------------------------------------------\n",
      "Generation successful\n",
      "\n",
      "Total events predicted:\n",
      "(1.05e+03 +/- 25.6) events.\n",
      "\n",
      "---------------------------------------------------------\n",
      "Events in pandas dataframe saved to file successfully:\n",
      "data/miniboone_fhc/3plus1/m4_0.4_mzprime_0.2_dirac\n",
      "\n"
     ]
    }
   ],
   "source": [
    "MODEL_KWARGS = {'HNLtype': 'dirac', 'UD4': 1.0, 'alphaD': 0.25, 'Umu4': np.sqrt(9e-7), 'epsilon': np.sqrt(2e-10/const.alphaQED)}\n",
    "\n",
    "gen = GenLauncher(mzprime=0.2, m4=0.4, decay_product='mu+mu-', neval=1000, exp=\"miniboone_fhc\", loglevel='DEBUG', seed=42, **MODEL_KWARGS)\n",
    "df_heavy = gen.run()\n"
   ]
  },
  {
   "cell_type": "code",
   "execution_count": 26,
   "metadata": {},
   "outputs": [],
   "source": [
    "# generate a specific set of events to be tested in a session\n",
    "def SM_gen():\n",
    "    gen = GenLauncher(gD=0.0, Umu4=1e-3, epsilon=0.0, m4=0.01, loglevel='ERROR', neval=1000, seed=42)\n",
    "    return gen.run()\n",
    "\n",
    "def light_DP_gen_all_outputs():\n",
    "\n",
    "    gen = GenLauncher(mzprime=0.03, m4=0.420, neval=1000, exp=\"miniboone_fhc\", loglevel='INFO',\n",
    "                        parquet=True, numpy=True, hepevt=True, sparse=True, print_to_float32=True, **MODEL_KWARGS)\n",
    "\n",
    "    return gen.run(loglevel=\"INFO\")\n",
    "\n",
    "def gen_simplest_benchmarks():\n",
    "\n",
    "    gen = GenLauncher(mzprime=0.03, m4=0.420, neval=1000, exp=\"miniboone_fhc\", loglevel='ERROR', seed=42, **MODEL_KWARGS)\n",
    "    df_light = gen.run()\n",
    "\n",
    "    gen = GenLauncher(mzprime=1.25, m4=0.150, neval=1000, exp=\"miniboone_fhc\", loglevel='ERROR', seed=42, **MODEL_KWARGS)\n",
    "    df_heavy = gen.run()\n",
    "\n",
    "    gen = GenLauncher(mu_tr_mu4=1e-6, m4=0.150, epsilon=0.0, gD=0.0, decay_product='e+e-', Umu4=0.0,\n",
    "                    neval=1000, exp=\"miniboone_fhc\", loglevel='ERROR', seed=42)\n",
    "    df_TMM = gen.run()\n",
    "\n",
    "    return df_light, df_heavy, df_TMM\n",
    "\n",
    "def gen_other_final_states():\n",
    "\n",
    "    gen = GenLauncher(mzprime=0.3, m4=0.5, decay_product='mu+mu-', neval=1000, exp=\"miniboone_fhc\", loglevel='ERROR', seed=42, **MODEL_KWARGS)\n",
    "    df_light = gen.run()\n",
    "\n",
    "    gen = GenLauncher(mzprime=1.25, m4=0.5, decay_product='mu+mu-', neval=1000, exp=\"miniboone_fhc\", loglevel='ERROR', seed=42, **MODEL_KWARGS)\n",
    "    df_heavy = gen.run()\n",
    "\n",
    "    gen = GenLauncher(mu_tr_mu4=1e-6, m4=0.5, decay_product='mu+mu-', Umu4=0.0, epsilon=0.0, gD=0.0,\n",
    "                        neval=1000, HNLtype=\"dirac\", exp=\"miniboone_fhc\", loglevel='ERROR', seed=42)\n",
    "    df_TMM_mumu = gen.run()\n",
    "\n",
    "    gen = GenLauncher(mu_tr_mu4=1e-6, m4=0.5, decay_product='photon', Umu4=0.0, epsilon=0.0, gD=0.0,\n",
    "                        neval=1000, HNLtype=\"dirac\", exp=\"miniboone_fhc\", loglevel='ERROR', seed=42)\n",
    "    df_TMM_photon = gen.run()\n",
    "\n",
    "    return df_light, df_heavy, df_TMM_mumu, df_TMM_photon\n",
    "\n",
    "\n",
    "\n"
   ]
  },
  {
   "cell_type": "code",
   "execution_count": 49,
   "metadata": {},
   "outputs": [
    {
     "data": {
      "text/plain": [
       "0.038374333391819795"
      ]
     },
     "execution_count": 49,
     "metadata": {},
     "output_type": "execute_result"
    }
   ],
   "source": [
    "df = SM_gen()\n",
    "df.w_event_rate.sum()"
   ]
  },
  {
   "cell_type": "code",
   "execution_count": 27,
   "metadata": {},
   "outputs": [
    {
     "name": "stdout",
     "output_type": "stream",
     "text": [
      "13504.557608335577\n",
      "6.384879373980024\n",
      "52283.95934407082\n"
     ]
    }
   ],
   "source": [
    "df_light,df_heavy,df_TMM = gen_simplest_benchmarks()\n",
    "\n",
    "print(df_light.w_event_rate.sum())\n",
    "print(df_heavy.w_event_rate.sum())\n",
    "print(df_TMM.w_event_rate.sum())"
   ]
  },
  {
   "cell_type": "code",
   "execution_count": 30,
   "metadata": {},
   "outputs": [
    {
     "name": "stdout",
     "output_type": "stream",
     "text": [
      "205.54654591769042\n",
      "2.4904013871142787\n",
      "3426.3242951081156\n",
      "3446.785418216368\n"
     ]
    }
   ],
   "source": [
    "df_light, df_heavy, df_TMM_mumu, df_TMM_photon = gen_other_final_states()\n",
    "\n",
    "print(df_light.w_event_rate.sum())\n",
    "print(df_heavy.w_event_rate.sum())\n",
    "print(df_TMM_mumu.w_event_rate.sum())\n",
    "print(df_TMM_photon.w_event_rate.sum())"
   ]
  },
  {
   "cell_type": "code",
   "execution_count": 50,
   "metadata": {},
   "outputs": [
    {
     "data": {
      "text/plain": [
       "-9.464465024579563e-09"
      ]
     },
     "execution_count": 50,
     "metadata": {},
     "output_type": "execute_result"
    }
   ],
   "source": []
  },
  {
   "cell_type": "code",
   "execution_count": 31,
   "metadata": {},
   "outputs": [
    {
     "ename": "AssertionError",
     "evalue": "Mu+ energy smaller than its mass? Not generating for muons?",
     "output_type": "error",
     "traceback": [
      "\u001b[0;31m---------------------------------------------------------------------------\u001b[0m",
      "\u001b[0;31mAssertionError\u001b[0m                            Traceback (most recent call last)",
      "\u001b[1;32m/Users/matheushostert/Repos/DarkNews-generator/examples/test_models.ipynb Cell 8'\u001b[0m in \u001b[0;36m<module>\u001b[0;34m\u001b[0m\n\u001b[0;32m----> <a href='vscode-notebook-cell:/Users/matheushostert/Repos/DarkNews-generator/examples/test_models.ipynb#ch0000028?line=0'>1</a>\u001b[0m \u001b[39massert\u001b[39;00m df_TMM_mumu[\u001b[39m'\u001b[39m\u001b[39mP_decay_ell_plus\u001b[39m\u001b[39m'\u001b[39m,\u001b[39m'\u001b[39m\u001b[39m0\u001b[39m\u001b[39m'\u001b[39m]\u001b[39m.\u001b[39mmin() \u001b[39m>\u001b[39m dn\u001b[39m.\u001b[39mconst\u001b[39m.\u001b[39mm_mu, \u001b[39m'\u001b[39m\u001b[39mMu+ energy smaller than its mass? Not generating for muons?\u001b[39m\u001b[39m'\u001b[39m\n",
      "\u001b[0;31mAssertionError\u001b[0m: Mu+ energy smaller than its mass? Not generating for muons?"
     ]
    }
   ],
   "source": [
    "assert df_TMM_mumu['P_decay_ell_plus','0'].min() > dn.const.m_mu, 'Mu+ energy smaller than its mass? Not generating for muons?'\n"
   ]
  },
  {
   "cell_type": "code",
   "execution_count": 23,
   "metadata": {},
   "outputs": [
    {
     "data": {
      "text/plain": [
       "0.10643404724482186"
      ]
     },
     "execution_count": 23,
     "metadata": {},
     "output_type": "execute_result"
    }
   ],
   "source": [
    "df_TMM_mumu['P_decay_ell_plus','0'].min()"
   ]
  },
  {
   "cell_type": "code",
   "execution_count": 22,
   "metadata": {},
   "outputs": [],
   "source": [
    "assert 'P_decay_photon' in df_TMM_photon.columns"
   ]
  },
  {
   "cell_type": "code",
   "execution_count": 20,
   "metadata": {},
   "outputs": [
    {
     "ename": "AssertionError",
     "evalue": "asdas",
     "output_type": "error",
     "traceback": [
      "\u001b[0;31m---------------------------------------------------------------------------\u001b[0m",
      "\u001b[0;31mAssertionError\u001b[0m                            Traceback (most recent call last)",
      "\u001b[1;32m/Users/matheushostert/Repos/DarkNews-generator/examples/test_models.ipynb Cell 8'\u001b[0m in \u001b[0;36m<module>\u001b[0;34m\u001b[0m\n\u001b[0;32m----> <a href='vscode-notebook-cell:/Users/matheushostert/Repos/DarkNews-generator/examples/test_models.ipynb#ch0000024?line=0'>1</a>\u001b[0m \u001b[39massert\u001b[39;00m \u001b[39m1\u001b[39m\u001b[39m<\u001b[39m\u001b[39m0\u001b[39m, \u001b[39m'\u001b[39m\u001b[39masdas\u001b[39m\u001b[39m'\u001b[39m\n",
      "\u001b[0;31mAssertionError\u001b[0m: asdas"
     ]
    }
   ],
   "source": [
    "assert 1<0, 'asdas'"
   ]
  },
  {
   "cell_type": "code",
   "execution_count": 14,
   "metadata": {},
   "outputs": [
    {
     "data": {
      "text/html": [
       "<div>\n",
       "<style scoped>\n",
       "    .dataframe tbody tr th:only-of-type {\n",
       "        vertical-align: middle;\n",
       "    }\n",
       "\n",
       "    .dataframe tbody tr th {\n",
       "        vertical-align: top;\n",
       "    }\n",
       "\n",
       "    .dataframe thead th {\n",
       "        text-align: right;\n",
       "    }\n",
       "</style>\n",
       "<table border=\"1\" class=\"dataframe\">\n",
       "  <thead>\n",
       "    <tr style=\"text-align: right;\">\n",
       "      <th></th>\n",
       "      <th>0</th>\n",
       "      <th>1</th>\n",
       "      <th>2</th>\n",
       "      <th>3</th>\n",
       "    </tr>\n",
       "  </thead>\n",
       "  <tbody>\n",
       "    <tr>\n",
       "      <th>0</th>\n",
       "      <td>0.660944</td>\n",
       "      <td>-0.208607</td>\n",
       "      <td>0.013830</td>\n",
       "      <td>0.627008</td>\n",
       "    </tr>\n",
       "    <tr>\n",
       "      <th>1</th>\n",
       "      <td>0.252918</td>\n",
       "      <td>0.077756</td>\n",
       "      <td>0.130266</td>\n",
       "      <td>0.202366</td>\n",
       "    </tr>\n",
       "    <tr>\n",
       "      <th>2</th>\n",
       "      <td>0.468576</td>\n",
       "      <td>0.076118</td>\n",
       "      <td>0.244791</td>\n",
       "      <td>0.392234</td>\n",
       "    </tr>\n",
       "    <tr>\n",
       "      <th>3</th>\n",
       "      <td>0.742639</td>\n",
       "      <td>-0.145130</td>\n",
       "      <td>-0.365141</td>\n",
       "      <td>0.630177</td>\n",
       "    </tr>\n",
       "    <tr>\n",
       "      <th>4</th>\n",
       "      <td>0.227800</td>\n",
       "      <td>0.034881</td>\n",
       "      <td>0.192291</td>\n",
       "      <td>0.117049</td>\n",
       "    </tr>\n",
       "    <tr>\n",
       "      <th>...</th>\n",
       "      <td>...</td>\n",
       "      <td>...</td>\n",
       "      <td>...</td>\n",
       "      <td>...</td>\n",
       "    </tr>\n",
       "    <tr>\n",
       "      <th>5576</th>\n",
       "      <td>0.252618</td>\n",
       "      <td>-0.244388</td>\n",
       "      <td>0.013929</td>\n",
       "      <td>-0.062422</td>\n",
       "    </tr>\n",
       "    <tr>\n",
       "      <th>5577</th>\n",
       "      <td>0.256000</td>\n",
       "      <td>-0.150856</td>\n",
       "      <td>-0.081645</td>\n",
       "      <td>0.190033</td>\n",
       "    </tr>\n",
       "    <tr>\n",
       "      <th>5578</th>\n",
       "      <td>1.955821</td>\n",
       "      <td>0.201239</td>\n",
       "      <td>-0.054731</td>\n",
       "      <td>1.944671</td>\n",
       "    </tr>\n",
       "    <tr>\n",
       "      <th>5579</th>\n",
       "      <td>1.038716</td>\n",
       "      <td>0.087873</td>\n",
       "      <td>-0.057545</td>\n",
       "      <td>1.033392</td>\n",
       "    </tr>\n",
       "    <tr>\n",
       "      <th>5580</th>\n",
       "      <td>1.290939</td>\n",
       "      <td>-0.049959</td>\n",
       "      <td>-0.200691</td>\n",
       "      <td>1.274265</td>\n",
       "    </tr>\n",
       "  </tbody>\n",
       "</table>\n",
       "<p>5581 rows × 4 columns</p>\n",
       "</div>"
      ],
      "text/plain": [
       "             0         1         2         3\n",
       "0     0.660944 -0.208607  0.013830  0.627008\n",
       "1     0.252918  0.077756  0.130266  0.202366\n",
       "2     0.468576  0.076118  0.244791  0.392234\n",
       "3     0.742639 -0.145130 -0.365141  0.630177\n",
       "4     0.227800  0.034881  0.192291  0.117049\n",
       "...        ...       ...       ...       ...\n",
       "5576  0.252618 -0.244388  0.013929 -0.062422\n",
       "5577  0.256000 -0.150856 -0.081645  0.190033\n",
       "5578  1.955821  0.201239 -0.054731  1.944671\n",
       "5579  1.038716  0.087873 -0.057545  1.033392\n",
       "5580  1.290939 -0.049959 -0.200691  1.274265\n",
       "\n",
       "[5581 rows x 4 columns]"
      ]
     },
     "execution_count": 14,
     "metadata": {},
     "output_type": "execute_result"
    }
   ],
   "source": [
    "df_TMM_photon.P_decay_photon"
   ]
  },
  {
   "cell_type": "code",
   "execution_count": 4,
   "metadata": {},
   "outputs": [
    {
     "ename": "AttributeError",
     "evalue": "'ThreePortalModel' object has no attribute 'HNLtype'",
     "output_type": "error",
     "traceback": [
      "\u001b[0;31m---------------------------------------------------------------------------\u001b[0m",
      "\u001b[0;31mAttributeError\u001b[0m                            Traceback (most recent call last)",
      "\u001b[1;32m/Users/matheushostert/Repos/DarkNews-generator/examples/test_models.ipynb Cell 3'\u001b[0m in \u001b[0;36m<module>\u001b[0;34m\u001b[0m\n\u001b[0;32m----> <a href='vscode-notebook-cell:/Users/matheushostert/Repos/DarkNews-generator/examples/test_models.ipynb#ch0000002?line=0'>1</a>\u001b[0m bsm_model_1 \u001b[39m=\u001b[39m dn\u001b[39m.\u001b[39;49mmodel\u001b[39m.\u001b[39;49mcreate_3portal_HNL_model(mzprime\u001b[39m=\u001b[39;49m\u001b[39m1.25\u001b[39;49m, m4\u001b[39m=\u001b[39;49m\u001b[39m0.1\u001b[39;49m, m5\u001b[39m=\u001b[39;49m\u001b[39m0.150\u001b[39;49m, Umu4\u001b[39m=\u001b[39;49m\u001b[39m1e-3\u001b[39;49m, Umu5\u001b[39m=\u001b[39;49m\u001b[39m2e-3\u001b[39;49m, UD4\u001b[39m=\u001b[39;49m\u001b[39m0.2\u001b[39;49m, UD5\u001b[39m=\u001b[39;49m\u001b[39m0.2\u001b[39;49m, epsilon\u001b[39m=\u001b[39;49m\u001b[39m1e-4\u001b[39;49m)\n",
      "File \u001b[0;32m~/Repos/DarkNews-generator/src/DarkNews/model.py:40\u001b[0m, in \u001b[0;36mcreate_3portal_HNL_model\u001b[0;34m(**kwargs)\u001b[0m\n\u001b[1;32m     37\u001b[0m bsm_model\u001b[39m.\u001b[39m\u001b[39m__dict__\u001b[39m\u001b[39m.\u001b[39mupdate(kwargs)\n\u001b[1;32m     39\u001b[0m \u001b[39m# lock-in parameters and compute interaction vertices\u001b[39;00m\n\u001b[0;32m---> 40\u001b[0m bsm_model\u001b[39m.\u001b[39;49mset_vertices()\n\u001b[1;32m     42\u001b[0m \u001b[39mreturn\u001b[39;00m bsm_model\n",
      "File \u001b[0;32m~/Repos/DarkNews-generator/src/DarkNews/model.py:382\u001b[0m, in \u001b[0;36mThreePortalModel.set_vertices\u001b[0;34m(self)\u001b[0m\n\u001b[1;32m    376\u001b[0m \u001b[39m\"\"\" \u001b[39;00m\n\u001b[1;32m    377\u001b[0m \u001b[39m    set all other variables starting from base members\u001b[39;00m\n\u001b[1;32m    378\u001b[0m \u001b[39m\u001b[39;00m\n\u001b[1;32m    379\u001b[0m \u001b[39m\"\"\"\u001b[39;00m\n\u001b[1;32m    381\u001b[0m \u001b[39m# initialize spectrum\u001b[39;00m\n\u001b[0;32m--> 382\u001b[0m \u001b[39mself\u001b[39;49m\u001b[39m.\u001b[39;49minitialize_spectrum()\n\u001b[1;32m    384\u001b[0m \u001b[39m# create the scalar couplings\u001b[39;00m\n\u001b[1;32m    385\u001b[0m \u001b[39mself\u001b[39m\u001b[39m.\u001b[39ms_aj \u001b[39m=\u001b[39m np\u001b[39m.\u001b[39marray([\\\n\u001b[1;32m    386\u001b[0m                         [\u001b[39m0\u001b[39m,\u001b[39m0\u001b[39m,\u001b[39m0\u001b[39m, \u001b[39mself\u001b[39m\u001b[39m.\u001b[39ms_e4,   \u001b[39mself\u001b[39m\u001b[39m.\u001b[39ms_e5,    \u001b[39mself\u001b[39m\u001b[39m.\u001b[39ms_e6],\n\u001b[1;32m    387\u001b[0m                         [\u001b[39m0\u001b[39m,\u001b[39m0\u001b[39m,\u001b[39m0\u001b[39m, \u001b[39mself\u001b[39m\u001b[39m.\u001b[39ms_mu4,  \u001b[39mself\u001b[39m\u001b[39m.\u001b[39ms_mu5,   \u001b[39mself\u001b[39m\u001b[39m.\u001b[39ms_mu6],\n\u001b[0;32m   (...)\u001b[0m\n\u001b[1;32m    391\u001b[0m                         [\u001b[39m0\u001b[39m,\u001b[39m0\u001b[39m,\u001b[39m0\u001b[39m, \u001b[39mself\u001b[39m\u001b[39m.\u001b[39ms_46,   \u001b[39mself\u001b[39m\u001b[39m.\u001b[39ms_56,    \u001b[39mself\u001b[39m\u001b[39m.\u001b[39ms_66],\n\u001b[1;32m    392\u001b[0m                         ])\n",
      "File \u001b[0;32m~/Repos/DarkNews-generator/src/DarkNews/model.py:159\u001b[0m, in \u001b[0;36mHNLModel.initialize_spectrum\u001b[0;34m(self)\u001b[0m\n\u001b[1;32m    157\u001b[0m \u001b[39mself\u001b[39m\u001b[39m.\u001b[39mn_nus \u001b[39m=\u001b[39m \u001b[39mlen\u001b[39m(\u001b[39mself\u001b[39m\u001b[39m.\u001b[39mnu_spectrum)\n\u001b[1;32m    158\u001b[0m \u001b[39mself\u001b[39m\u001b[39m.\u001b[39mn_HNLs \u001b[39m=\u001b[39m \u001b[39mlen\u001b[39m(\u001b[39mself\u001b[39m\u001b[39m.\u001b[39mHNL_spectrum)\n\u001b[0;32m--> 159\u001b[0m \u001b[39mself\u001b[39m\u001b[39m.\u001b[39m_spectrum \u001b[39m+\u001b[39m\u001b[39m=\u001b[39m \u001b[39mf\u001b[39m\u001b[39m\"\u001b[39m\u001b[39m\\n\u001b[39;00m\u001b[39m\\t\u001b[39;00m\u001b[39m{\u001b[39;00m\u001b[39mself\u001b[39m\u001b[39m.\u001b[39mn_HNLs\u001b[39m}\u001b[39;00m\u001b[39m \u001b[39m\u001b[39m{\u001b[39;00m\u001b[39mself\u001b[39m\u001b[39m.\u001b[39mHNLtype\u001b[39m}\u001b[39;00m\u001b[39m heavy neutrino(s).\u001b[39m\u001b[39m\"\u001b[39m\n",
      "\u001b[0;31mAttributeError\u001b[0m: 'ThreePortalModel' object has no attribute 'HNLtype'"
     ]
    }
   ],
   "source": [
    "bsm_model_1 = dn.model.create_3portal_HNL_model(mzprime=1.25, m4=0.1, m5=0.150, Umu4=1e-3, Umu5=2e-3, UD4=0.2, UD5=0.2, epsilon=1e-4)\n",
    "# bsm_model_2 = dn.model.create_generic_HNL_model()"
   ]
  },
  {
   "cell_type": "code",
   "execution_count": 107,
   "metadata": {},
   "outputs": [
    {
     "name": "stdout",
     "output_type": "stream",
     "text": [
      "[[-3.7E-08 0.00000 0.00000 0.00000 0.00000 0.00000]\n",
      " [0.00000 9.6E-07 0.00000 2.0E-04 2.0E-04 0.00000]\n",
      " [0.00000 0.00000 -3.7E-08 0.00000 0.00000 0.00000]\n",
      " [0.00000 2.0E-04 0.00000 4.0E-02 4.0E-02 0.00000]\n",
      " [0.00000 2.0E-04 0.00000 4.0E-02 4.0E-02 0.00000]\n",
      " [0.00000 0.00000 0.00000 0.00000 0.00000 0.00000]]\n"
     ]
    }
   ],
   "source": [
    "x = bsm_model_1.d_ij\n",
    "print(np.array2string(x, formatter={'float_kind':lambda x: \"%.1E\" % x if x !=0 else \"0.00000\"}))"
   ]
  },
  {
   "cell_type": "code",
   "execution_count": 108,
   "metadata": {},
   "outputs": [
    {
     "name": "stdout",
     "output_type": "stream",
     "text": [
      "0.00020784611846974275\n",
      "0.00019999996265424277\n"
     ]
    }
   ],
   "source": [
    "print(np.sqrt(np.sum(np.abs(bsm_model_1.d_aj[const.inds_active,3])**2)))\n",
    "print(np.sqrt(np.sum(np.abs(bsm_model_1.d_ij[const.inds_active,3])**2)))"
   ]
  },
  {
   "cell_type": "code",
   "execution_count": 109,
   "metadata": {},
   "outputs": [
    {
     "name": "stdout",
     "output_type": "stream",
     "text": [
      "[[1.0E+00 0.00000 0.00000 -1.2E-04 -1.2E-04 0.00000]\n",
      " [0.00000 1.0E+00 0.00000 -1.2E-04 -1.2E-04 0.00000]\n",
      " [0.00000 0.00000 1.0E+00 -1.2E-04 -1.2E-04 0.00000]\n",
      " [0.00000 2.0E-04 0.00000 4.0E-02 4.0E-02 0.00000]\n",
      " [0.00000 2.0E-04 0.00000 4.0E-02 4.0E-02 0.00000]\n",
      " [0.00000 0.00000 0.00000 0.00000 0.00000 0.00000]]\n"
     ]
    }
   ],
   "source": [
    "# x = np.vstack((bsm_model_1.d_aj,bsm_model_1.d_ij[3:]))\n",
    "x = bsm_model_1.d_aj\n",
    "print(np.array2string(x, formatter={'float_kind':lambda x: \"%.1E\" % x if x !=0 else \"0.00000\"}))"
   ]
  },
  {
   "cell_type": "code",
   "execution_count": 116,
   "metadata": {},
   "outputs": [],
   "source": [
    "decay_1=dn.processes.FermionDileptonDecay(dn.pdg.neutrino4, dn.pdg.nulight, lp.e_minus, lp.e_plus, bsm_model_1)\n",
    "ups_case=dn.processes.UpscatteringProcess(dn.pdg.numu, bsm_model_1.neutrino4, dn.nuclear_tools.NuclearTarget(\"C12\"), 'coherent', bsm_model_1, 'conserving')\n",
    "# decay_2=dn.model.FermionDileptonDecay(dn.pdg.neutrino4, dn.pdg.nulight, lp.e_minus, lp.e_plus, bsm_model_2)"
   ]
  },
  {
   "cell_type": "code",
   "execution_count": 117,
   "metadata": {},
   "outputs": [
    {
     "ename": "NameError",
     "evalue": "name 'self' is not defined",
     "output_type": "error",
     "traceback": [
      "\u001b[0;31m---------------------------------------------------------------------------\u001b[0m",
      "\u001b[0;31mNameError\u001b[0m                                 Traceback (most recent call last)",
      "\u001b[1;32m/Users/matheushostert/Repos/DarkNews-generator/examples/test_models.ipynb Cell 8'\u001b[0m in \u001b[0;36m<module>\u001b[0;34m\u001b[0m\n\u001b[0;32m----> <a href='vscode-notebook-cell:/Users/matheushostert/Repos/DarkNews-generator/examples/test_models.ipynb#ch0000010?line=0'>1</a>\u001b[0m const\u001b[39m.\u001b[39mgweak\u001b[39m/\u001b[39m\u001b[39m2.0\u001b[39m\u001b[39m/\u001b[39mconst\u001b[39m.\u001b[39mcw\u001b[39m*\u001b[39mnp\u001b[39m.\u001b[39mabs((\u001b[39m1.0\u001b[39m\u001b[39m-\u001b[39m\u001b[39m4.0\u001b[39m\u001b[39m*\u001b[39mconst\u001b[39m.\u001b[39ms2w)\u001b[39m*\u001b[39m\u001b[39mself\u001b[39;49m\u001b[39m.\u001b[39mtarget\u001b[39m.\u001b[39mZ\u001b[39m-\u001b[39m\u001b[39mself\u001b[39m\u001b[39m.\u001b[39mtarget\u001b[39m.\u001b[39mN)\n",
      "\u001b[0;31mNameError\u001b[0m: name 'self' is not defined"
     ]
    }
   ],
   "source": [
    "const.gweak/2.0/const.cw*np.abs((1.0-4.0*const.s2w)*self.target.Z-self.target.N)"
   ]
  },
  {
   "cell_type": "code",
   "execution_count": 124,
   "metadata": {},
   "outputs": [
    {
     "data": {
      "text/plain": [
       "-1.9999999771191013"
      ]
     },
     "execution_count": 124,
     "metadata": {},
     "output_type": "execute_result"
    }
   ],
   "source": [
    "ups_case.Chad/(bsm_model_1.cVproton*6 + bsm_model_1.cVneutron*6)"
   ]
  },
  {
   "cell_type": "code",
   "execution_count": 119,
   "metadata": {},
   "outputs": [
    {
     "data": {
      "text/plain": [
       "0.98127287696488"
      ]
     },
     "execution_count": 119,
     "metadata": {},
     "output_type": "execute_result"
    }
   ],
   "source": [
    "ups_case.Vhad/(bsm_model_1.dVproton*6 + bsm_model_1.dVneutron*6)"
   ]
  },
  {
   "cell_type": "code",
   "execution_count": 110,
   "metadata": {},
   "outputs": [
    {
     "ename": "AttributeError",
     "evalue": "module 'DarkNews.model' has no attribute 'create_HNL_model'",
     "output_type": "error",
     "traceback": [
      "\u001b[0;31m---------------------------------------------------------------------------\u001b[0m",
      "\u001b[0;31mAttributeError\u001b[0m                            Traceback (most recent call last)",
      "\u001b[1;32m/Users/matheushostert/Repos/DarkNews-generator/examples/test_models.ipynb Cell 8'\u001b[0m in \u001b[0;36m<module>\u001b[0;34m\u001b[0m\n\u001b[0;32m----> <a href='vscode-notebook-cell:/Users/matheushostert/Repos/DarkNews-generator/examples/test_models.ipynb#ch0000007?line=0'>1</a>\u001b[0m bsm_model \u001b[39m=\u001b[39m dn\u001b[39m.\u001b[39;49mmodel\u001b[39m.\u001b[39;49mcreate_HNL_model(mzprime\u001b[39m=\u001b[39m\u001b[39m0.1\u001b[39m, \n\u001b[1;32m      <a href='vscode-notebook-cell:/Users/matheushostert/Repos/DarkNews-generator/examples/test_models.ipynb#ch0000007?line=1'>2</a>\u001b[0m                                             m5\u001b[39m=\u001b[39m\u001b[39m0.150\u001b[39m, \n\u001b[1;32m      <a href='vscode-notebook-cell:/Users/matheushostert/Repos/DarkNews-generator/examples/test_models.ipynb#ch0000007?line=2'>3</a>\u001b[0m                                             m4 \u001b[39m=\u001b[39m \u001b[39m0.01\u001b[39m, \n\u001b[1;32m      <a href='vscode-notebook-cell:/Users/matheushostert/Repos/DarkNews-generator/examples/test_models.ipynb#ch0000007?line=3'>4</a>\u001b[0m                                             epsilon\u001b[39m=\u001b[39m\u001b[39m0.0\u001b[39m, \n\u001b[1;32m      <a href='vscode-notebook-cell:/Users/matheushostert/Repos/DarkNews-generator/examples/test_models.ipynb#ch0000007?line=4'>5</a>\u001b[0m                                             theta\u001b[39m=\u001b[39m\u001b[39m1e-4\u001b[39m, \n\u001b[1;32m      <a href='vscode-notebook-cell:/Users/matheushostert/Repos/DarkNews-generator/examples/test_models.ipynb#ch0000007?line=5'>6</a>\u001b[0m                                             s_mu4\u001b[39m=\u001b[39m\u001b[39m1e-3\u001b[39m\n\u001b[1;32m      <a href='vscode-notebook-cell:/Users/matheushostert/Repos/DarkNews-generator/examples/test_models.ipynb#ch0000007?line=6'>7</a>\u001b[0m                                         )\n",
      "\u001b[0;31mAttributeError\u001b[0m: module 'DarkNews.model' has no attribute 'create_HNL_model'"
     ]
    }
   ],
   "source": [
    "bsm_model = dn.model.create_HNL_model(mzprime=0.1, \n",
    "                                            m5=0.150, \n",
    "                                            m4 = 0.01, \n",
    "                                            epsilon=0.0, \n",
    "                                            theta=1e-4, \n",
    "                                            s_mu4=1e-3\n",
    "                                        )"
   ]
  }
 ],
 "metadata": {
  "interpreter": {
   "hash": "aee8b7b246df8f9039afb4144a1f6fd8d2ca17a180786b69acc140d282b71a49"
  },
  "kernelspec": {
   "display_name": "Python 3.9.10 64-bit",
   "language": "python",
   "name": "python3"
  },
  "language_info": {
   "codemirror_mode": {
    "name": "ipython",
    "version": 3
   },
   "file_extension": ".py",
   "mimetype": "text/x-python",
   "name": "python",
   "nbconvert_exporter": "python",
   "pygments_lexer": "ipython3",
   "version": "3.9.13"
  },
  "orig_nbformat": 4
 },
 "nbformat": 4,
 "nbformat_minor": 2
}
