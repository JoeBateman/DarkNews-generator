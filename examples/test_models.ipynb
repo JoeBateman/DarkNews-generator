{
 "cells": [
  {
   "cell_type": "code",
   "execution_count": 1,
   "metadata": {},
   "outputs": [],
   "source": [
    "%load_ext autoreload\n",
    "%autoreload 2"
   ]
  },
  {
   "cell_type": "code",
   "execution_count": 2,
   "metadata": {},
   "outputs": [],
   "source": [
    "import numpy as np\n",
    "from particle import literals as lp\n",
    "import DarkNews as dn\n",
    "from DarkNews import model\n",
    "from DarkNews import const\n",
    "from DarkNews import GenLauncher"
   ]
  },
  {
   "cell_type": "code",
   "execution_count": 24,
   "metadata": {},
   "outputs": [
    {
     "name": "stdout",
     "output_type": "stream",
     "text": [
      "---------------------------------------------------------\n",
      "   ______           _        _   _                     \n",
      "   |  _  \\         | |      | \\ | |                    \n",
      "   | | | |__ _ _ __| | __   |  \\| | _____      _____   \n",
      "   | | | / _  | ___| |/ /   | .   |/ _ \\ \\ /\\ / / __|  \n",
      "   | |/ / (_| | |  |   <    | |\\  |  __/\\ V  V /\\__ \\  \n",
      "   |___/ \\__,_|_|  |_|\\_\\   \\_| \\_/\\___| \\_/\\_/ |___/  \n",
      "\n",
      "---------------------------------------------------------\n",
      "Model:\n",
      "\t1 dirac heavy neutrino(s).\n",
      "\n",
      "---------------------------------------------------------\n",
      "Experiment:\n",
      "\tMiniBooNE_FHC\n",
      "\tfluxfile loaded: ../fluxes/MiniBooNE_FHC.dat\n",
      "\tPOT: 1.875e+21\n",
      "\tnuclear targets: ['C12', 'H1']\n",
      "\tfiducial mass: [701.1428571428571, 116.85714285714286] tonnes\n",
      "\n",
      "Directory tree for this run already exists. Overriding it.\n",
      "Creating instances of MC cases:\n",
      "Created an MC instance of nu(mu) C12 --> N4  C12 --> nu_light mu+ mu- C12.\n",
      "Created an MC instance of nu(mu) proton_in_C12 --> N4  proton_in_C12 --> nu_light mu+ mu- proton_in_C12.\n",
      "Created an MC instance of nu(mu) proton_in_H1 --> N4  proton_in_H1 --> nu_light mu+ mu- proton_in_H1.\n",
      "Now running the generator for each instance.\n",
      "---------------------------------------------------------\n",
      "Generating Events using the neutrino-nucleus upscattering engine\n",
      "\n",
      "nu(mu) C12 --> N4  C12 --> nu_light mu+ mu- C12\n",
      "Helicity conserving upscattering.\n",
      "N4 decays via on-shell Z'.\n",
      "Normalization factors in integrand: {'diff_event_rate': 1, 'diff_flux_avg_xsec': 1, 'diff_decay_rate_0': 1, 'diff_decay_rate_1': 1}.\n",
      "Running VEGAS for DIM=3\n",
      "Normalization factors in integrand: {'diff_event_rate': nan, 'diff_flux_avg_xsec': 1.0371656116626747e-09, 'diff_decay_rate_0': 3.697907996688922e-05, 'diff_decay_rate_1': nan}.\n",
      "Normalization factors in integrand: {'diff_event_rate': nan, 'diff_flux_avg_xsec': 1.0371656116626747e-09, 'diff_decay_rate_0': 3.697907996688922e-05, 'diff_decay_rate_1': nan}.\n"
     ]
    },
    {
     "name": "stderr",
     "output_type": "stream",
     "text": [
      "/Users/matheushostert/Repos/DarkNews-generator/src/DarkNews/decay_rates.py:80: RuntimeWarning: invalid value encountered in sqrt\n",
      "  gamma = np.abs(vertex)**2*mV/(12*np.pi) * np.sqrt(1-4*r**2)*(1 + 2*r**2)\n"
     ]
    },
    {
     "ename": "ValueError",
     "evalue": "integrand evaluates to nan",
     "output_type": "error",
     "traceback": [
      "\u001b[0;31m---------------------------------------------------------------------------\u001b[0m",
      "\u001b[0;31mValueError\u001b[0m                                Traceback (most recent call last)",
      "\u001b[1;32m/Users/matheushostert/Repos/DarkNews-generator/examples/test_models.ipynb Cell 3'\u001b[0m in \u001b[0;36m<module>\u001b[0;34m\u001b[0m\n\u001b[1;32m      <a href='vscode-notebook-cell:/Users/matheushostert/Repos/DarkNews-generator/examples/test_models.ipynb#ch0000021?line=0'>1</a>\u001b[0m MODEL_KWARGS \u001b[39m=\u001b[39m {\u001b[39m'\u001b[39m\u001b[39mHNLtype\u001b[39m\u001b[39m'\u001b[39m: \u001b[39m'\u001b[39m\u001b[39mdirac\u001b[39m\u001b[39m'\u001b[39m, \u001b[39m'\u001b[39m\u001b[39mUD4\u001b[39m\u001b[39m'\u001b[39m: \u001b[39m1.0\u001b[39m, \u001b[39m'\u001b[39m\u001b[39malphaD\u001b[39m\u001b[39m'\u001b[39m: \u001b[39m0.25\u001b[39m, \u001b[39m'\u001b[39m\u001b[39mUmu4\u001b[39m\u001b[39m'\u001b[39m: np\u001b[39m.\u001b[39msqrt(\u001b[39m9e-7\u001b[39m), \u001b[39m'\u001b[39m\u001b[39mepsilon\u001b[39m\u001b[39m'\u001b[39m: np\u001b[39m.\u001b[39msqrt(\u001b[39m2e-10\u001b[39m\u001b[39m/\u001b[39mconst\u001b[39m.\u001b[39malphaQED)}\n\u001b[1;32m      <a href='vscode-notebook-cell:/Users/matheushostert/Repos/DarkNews-generator/examples/test_models.ipynb#ch0000021?line=2'>3</a>\u001b[0m gen \u001b[39m=\u001b[39m GenLauncher(mzprime\u001b[39m=\u001b[39m\u001b[39m0.2\u001b[39m, m4\u001b[39m=\u001b[39m\u001b[39m0.4\u001b[39m, decay_product\u001b[39m=\u001b[39m\u001b[39m'\u001b[39m\u001b[39mmu+mu-\u001b[39m\u001b[39m'\u001b[39m, neval\u001b[39m=\u001b[39m\u001b[39m1000\u001b[39m, exp\u001b[39m=\u001b[39m\u001b[39m\"\u001b[39m\u001b[39mminiboone_fhc\u001b[39m\u001b[39m\"\u001b[39m, loglevel\u001b[39m=\u001b[39m\u001b[39m'\u001b[39m\u001b[39mDEBUG\u001b[39m\u001b[39m'\u001b[39m, seed\u001b[39m=\u001b[39m\u001b[39m42\u001b[39m, \u001b[39m*\u001b[39m\u001b[39m*\u001b[39mMODEL_KWARGS)\n\u001b[0;32m----> <a href='vscode-notebook-cell:/Users/matheushostert/Repos/DarkNews-generator/examples/test_models.ipynb#ch0000021?line=3'>4</a>\u001b[0m df_heavy \u001b[39m=\u001b[39m gen\u001b[39m.\u001b[39;49mrun()\n",
      "File \u001b[0;32m~/Repos/DarkNews-generator/src/DarkNews/GenLauncher.py:403\u001b[0m, in \u001b[0;36mLauncher.run\u001b[0;34m(self, loglevel, verbose, logfile, overwrite_path)\u001b[0m\n\u001b[1;32m    400\u001b[0m \u001b[39mif\u001b[39;00m \u001b[39mself\u001b[39m\u001b[39m.\u001b[39mseed:\n\u001b[1;32m    401\u001b[0m     np\u001b[39m.\u001b[39mrandom\u001b[39m.\u001b[39mseed(\u001b[39mself\u001b[39m\u001b[39m.\u001b[39mseed)\n\u001b[0;32m--> 403\u001b[0m \u001b[39mself\u001b[39m\u001b[39m.\u001b[39mdf \u001b[39m=\u001b[39m \u001b[39mself\u001b[39;49m\u001b[39m.\u001b[39;49mgen_cases[\u001b[39m0\u001b[39;49m]\u001b[39m.\u001b[39;49mget_MC_events()\n\u001b[1;32m    404\u001b[0m \u001b[39mfor\u001b[39;00m mc \u001b[39min\u001b[39;00m \u001b[39mself\u001b[39m\u001b[39m.\u001b[39mgen_cases[\u001b[39m1\u001b[39m:]:\n\u001b[1;32m    405\u001b[0m     \u001b[39mself\u001b[39m\u001b[39m.\u001b[39mdf \u001b[39m=\u001b[39m dn\u001b[39m.\u001b[39mMC\u001b[39m.\u001b[39mget_merged_MC_output(\u001b[39mself\u001b[39m\u001b[39m.\u001b[39mdf, mc\u001b[39m.\u001b[39mget_MC_events())\n",
      "File \u001b[0;32m~/Repos/DarkNews-generator/src/DarkNews/MC.py:221\u001b[0m, in \u001b[0;36mMC_events.get_MC_events\u001b[0;34m(self)\u001b[0m\n\u001b[1;32m    219\u001b[0m integ \u001b[39m=\u001b[39m vg\u001b[39m.\u001b[39mIntegrator(DIM\u001b[39m*\u001b[39m[[\u001b[39m0.0\u001b[39m, \u001b[39m1.0\u001b[39m]]) \u001b[39m# unit hypercube\u001b[39;00m\n\u001b[1;32m    220\u001b[0m logger\u001b[39m.\u001b[39mdebug(\u001b[39mf\u001b[39m\u001b[39m\"\u001b[39m\u001b[39mRunning VEGAS for DIM=\u001b[39m\u001b[39m{\u001b[39;00mDIM\u001b[39m}\u001b[39;00m\u001b[39m\"\u001b[39m)\n\u001b[0;32m--> 221\u001b[0m result \u001b[39m=\u001b[39m run_vegas(batch_f, integ, NINT\u001b[39m=\u001b[39;49mNINT, NEVAL\u001b[39m=\u001b[39;49mNEVAL, NINT_warmup\u001b[39m=\u001b[39;49mNINT_warmup, NEVAL_warmup\u001b[39m=\u001b[39;49mNEVAL_warmup)\n\u001b[1;32m    222\u001b[0m logger\u001b[39m.\u001b[39mdebug(\u001b[39mf\u001b[39m\u001b[39m\"\u001b[39m\u001b[39mMain VEGAS run completed.\u001b[39m\u001b[39m\"\u001b[39m)\n\u001b[1;32m    224\u001b[0m logger\u001b[39m.\u001b[39mdebug(\u001b[39mf\u001b[39m\u001b[39m\"\u001b[39m\u001b[39mVegas results for the integrals: \u001b[39m\u001b[39m{\u001b[39;00mresult\u001b[39m.\u001b[39msummary()\u001b[39m}\u001b[39;00m\u001b[39m\"\u001b[39m)\n",
      "File \u001b[0;32m~/Repos/DarkNews-generator/src/DarkNews/MC.py:417\u001b[0m, in \u001b[0;36mrun_vegas\u001b[0;34m(batch_f, integ, NINT, NEVAL, NINT_warmup, NEVAL_warmup, **kwargs)\u001b[0m\n\u001b[1;32m    398\u001b[0m \u001b[39m\"\"\" \u001b[39;00m\n\u001b[1;32m    399\u001b[0m \u001b[39mFunction that calls vegas evaluations. This function defines the vegas parameters used by \u001b[39;00m\n\u001b[1;32m    400\u001b[0m \u001b[39mDarkNews throughout.\u001b[39;00m\n\u001b[0;32m   (...)\u001b[0m\n\u001b[1;32m    413\u001b[0m \u001b[39m    integ (vegas.Integrator): with the evaluated integrals.\u001b[39;00m\n\u001b[1;32m    414\u001b[0m \u001b[39m\"\"\"\u001b[39;00m\n\u001b[1;32m    416\u001b[0m \u001b[39m# warm up the MC, adapting to the integrand\u001b[39;00m\n\u001b[0;32m--> 417\u001b[0m integ(batch_f, nitn\u001b[39m=\u001b[39;49mNINT_warmup, neval\u001b[39m=\u001b[39;49mNEVAL_warmup, uses_jac\u001b[39m=\u001b[39;49m\u001b[39mTrue\u001b[39;49;00m, \u001b[39m*\u001b[39;49m\u001b[39m*\u001b[39;49mkwargs)\n\u001b[1;32m    418\u001b[0m logger\u001b[39m.\u001b[39mdebug(\u001b[39mf\u001b[39m\u001b[39m\"\u001b[39m\u001b[39mVEGAS warm-up completed.\u001b[39m\u001b[39m\"\u001b[39m)\n\u001b[1;32m    420\u001b[0m \u001b[39m# sample again, now saving result and turning off further adaption\u001b[39;00m\n",
      "File \u001b[0;32m_vegas.pyx:1672\u001b[0m, in \u001b[0;36mvegas._vegas.Integrator.__call__\u001b[0;34m()\u001b[0m\n",
      "\u001b[0;31mValueError\u001b[0m: integrand evaluates to nan"
     ]
    }
   ],
   "source": [
    "MODEL_KWARGS = {'HNLtype': 'dirac', 'UD4': 1.0, 'alphaD': 0.25, 'Umu4': np.sqrt(9e-7), 'epsilon': np.sqrt(2e-10/const.alphaQED)}\n",
    "\n",
    "gen = GenLauncher(mzprime=0.2, m4=0.4, decay_product='mu+mu-', neval=1000, exp=\"miniboone_fhc\", loglevel='DEBUG', seed=42, **MODEL_KWARGS)\n",
    "df_heavy = gen.run()\n"
   ]
  },
  {
   "cell_type": "code",
   "execution_count": 5,
   "metadata": {},
   "outputs": [],
   "source": [
    "# generate a specific set of events to be tested in a session\n",
    "def SM_gen():\n",
    "    gen = GenLauncher(gD=0.0, Umu4=1e-3, epsilon=0.0, m4=0.01, loglevel='ERROR', neval=1000, seed=42)\n",
    "    return gen.run()\n",
    "\n",
    "def light_DP_gen_all_outputs():\n",
    "\n",
    "    gen = GenLauncher(mzprime=0.03, m4=0.420, neval=1000, exp=\"miniboone_fhc\", loglevel='INFO',\n",
    "                        parquet=True, numpy=True, hepevt=True, sparse=True, print_to_float32=True, **MODEL_KWARGS)\n",
    "\n",
    "    return gen.run(loglevel=\"INFO\")\n",
    "\n",
    "def gen_simplest_benchmarks():\n",
    "\n",
    "    gen = GenLauncher(mzprime=0.03, m4=0.420, neval=1000, exp=\"miniboone_fhc\", loglevel='ERROR', seed=42, **MODEL_KWARGS)\n",
    "    df_light = gen.run()\n",
    "\n",
    "    gen = GenLauncher(mzprime=1.25, m4=0.150, neval=1000, exp=\"miniboone_fhc\", loglevel='ERROR', seed=42, **MODEL_KWARGS)\n",
    "    df_heavy = gen.run()\n",
    "\n",
    "    # gen = GenLauncher(mu_tr_mu4=1e-6, decay_product='e+e-', Umu4=0.0,\n",
    "    #                     neval=1000, exp=\"miniboone_fhc\", loglevel='ERROR', seed=42)\n",
    "    df_TMM = df_heavy#gen.run()\n",
    "\n",
    "    return df_light, df_heavy, df_TMM\n",
    "\n",
    "def gen_other_final_states():\n",
    "\n",
    "    gen = GenLauncher(mzprime=0.3, m4=0.5, decay_product='mu+mu-', neval=1000, exp=\"miniboone_fhc\", loglevel='ERROR', seed=42, **MODEL_KWARGS)\n",
    "    df_light = gen.run()\n",
    "\n",
    "    gen = GenLauncher(mzprime=1.25, m4=0.5, decay_product='mu+mu-', neval=1000, exp=\"miniboone_fhc\", loglevel='ERROR', seed=42, **MODEL_KWARGS)\n",
    "    df_heavy = gen.run()\n",
    "\n",
    "    # gen = GenLauncher(mu_tr_mu4=1e-6, decay_product='mu+mu-', Umu4=0.0,\n",
    "    #                     neval=1000, HNLtype=\"dirac\", exp=\"miniboone_fhc\", loglevel='ERROR', seed=42)\n",
    "    df_TMM_mumu = df_light#gen.run()\n",
    "\n",
    "    # gen = GenLauncher(mu_tr_mu4=1e-6, decay_product='photon', Umu4=0.0,\n",
    "    #                     neval=1000, HNLtype=\"dirac\", exp=\"miniboone_fhc\", loglevel='ERROR', seed=42)\n",
    "    df_TMM_photon = df_heavy#gen.run()\n",
    "\n",
    "    return df_light, df_heavy, df_TMM_mumu, df_TMM_photon\n",
    "\n",
    "\n",
    "\n"
   ]
  },
  {
   "cell_type": "code",
   "execution_count": 49,
   "metadata": {},
   "outputs": [
    {
     "data": {
      "text/plain": [
       "0.038374333391819795"
      ]
     },
     "execution_count": 49,
     "metadata": {},
     "output_type": "execute_result"
    }
   ],
   "source": [
    "df = SM_gen()\n",
    "df.w_event_rate.sum()"
   ]
  },
  {
   "cell_type": "code",
   "execution_count": 65,
   "metadata": {},
   "outputs": [
    {
     "name": "stdout",
     "output_type": "stream",
     "text": [
      "13504.557608335577\n",
      "6.384879373980034\n",
      "6.384879373980034\n"
     ]
    }
   ],
   "source": [
    "df_light,df_heavy,df_TMM = gen_simplest_benchmarks()\n",
    "\n",
    "print(df_light.w_event_rate.sum())\n",
    "print(df_heavy.w_event_rate.sum())\n",
    "print(df_TMM.w_event_rate.sum())"
   ]
  },
  {
   "cell_type": "code",
   "execution_count": 6,
   "metadata": {},
   "outputs": [
    {
     "name": "stderr",
     "output_type": "stream",
     "text": [
      "\n",
      "KeyboardInterrupt\n",
      "\n"
     ]
    }
   ],
   "source": [
    "df_light, df_heavy, df_TMM_mumu, df_TMM_photon = gen_other_final_states()\n",
    "\n",
    "print(df_light.w_event_rate.sum())\n",
    "print(df_heavy.w_event_rate.sum())\n",
    "print(df_TMM_mumu.w_event_rate.sum())\n",
    "print(df_TMM_photon.w_event_rate.sum())"
   ]
  },
  {
   "cell_type": "code",
   "execution_count": null,
   "metadata": {},
   "outputs": [],
   "source": []
  },
  {
   "cell_type": "code",
   "execution_count": 4,
   "metadata": {},
   "outputs": [
    {
     "ename": "AttributeError",
     "evalue": "'ThreePortalModel' object has no attribute 'HNLtype'",
     "output_type": "error",
     "traceback": [
      "\u001b[0;31m---------------------------------------------------------------------------\u001b[0m",
      "\u001b[0;31mAttributeError\u001b[0m                            Traceback (most recent call last)",
      "\u001b[1;32m/Users/matheushostert/Repos/DarkNews-generator/examples/test_models.ipynb Cell 3'\u001b[0m in \u001b[0;36m<module>\u001b[0;34m\u001b[0m\n\u001b[0;32m----> <a href='vscode-notebook-cell:/Users/matheushostert/Repos/DarkNews-generator/examples/test_models.ipynb#ch0000002?line=0'>1</a>\u001b[0m bsm_model_1 \u001b[39m=\u001b[39m dn\u001b[39m.\u001b[39;49mmodel\u001b[39m.\u001b[39;49mcreate_3portal_HNL_model(mzprime\u001b[39m=\u001b[39;49m\u001b[39m1.25\u001b[39;49m, m4\u001b[39m=\u001b[39;49m\u001b[39m0.1\u001b[39;49m, m5\u001b[39m=\u001b[39;49m\u001b[39m0.150\u001b[39;49m, Umu4\u001b[39m=\u001b[39;49m\u001b[39m1e-3\u001b[39;49m, Umu5\u001b[39m=\u001b[39;49m\u001b[39m2e-3\u001b[39;49m, UD4\u001b[39m=\u001b[39;49m\u001b[39m0.2\u001b[39;49m, UD5\u001b[39m=\u001b[39;49m\u001b[39m0.2\u001b[39;49m, epsilon\u001b[39m=\u001b[39;49m\u001b[39m1e-4\u001b[39;49m)\n",
      "File \u001b[0;32m~/Repos/DarkNews-generator/src/DarkNews/model.py:40\u001b[0m, in \u001b[0;36mcreate_3portal_HNL_model\u001b[0;34m(**kwargs)\u001b[0m\n\u001b[1;32m     37\u001b[0m bsm_model\u001b[39m.\u001b[39m\u001b[39m__dict__\u001b[39m\u001b[39m.\u001b[39mupdate(kwargs)\n\u001b[1;32m     39\u001b[0m \u001b[39m# lock-in parameters and compute interaction vertices\u001b[39;00m\n\u001b[0;32m---> 40\u001b[0m bsm_model\u001b[39m.\u001b[39;49mset_vertices()\n\u001b[1;32m     42\u001b[0m \u001b[39mreturn\u001b[39;00m bsm_model\n",
      "File \u001b[0;32m~/Repos/DarkNews-generator/src/DarkNews/model.py:382\u001b[0m, in \u001b[0;36mThreePortalModel.set_vertices\u001b[0;34m(self)\u001b[0m\n\u001b[1;32m    376\u001b[0m \u001b[39m\"\"\" \u001b[39;00m\n\u001b[1;32m    377\u001b[0m \u001b[39m    set all other variables starting from base members\u001b[39;00m\n\u001b[1;32m    378\u001b[0m \u001b[39m\u001b[39;00m\n\u001b[1;32m    379\u001b[0m \u001b[39m\"\"\"\u001b[39;00m\n\u001b[1;32m    381\u001b[0m \u001b[39m# initialize spectrum\u001b[39;00m\n\u001b[0;32m--> 382\u001b[0m \u001b[39mself\u001b[39;49m\u001b[39m.\u001b[39;49minitialize_spectrum()\n\u001b[1;32m    384\u001b[0m \u001b[39m# create the scalar couplings\u001b[39;00m\n\u001b[1;32m    385\u001b[0m \u001b[39mself\u001b[39m\u001b[39m.\u001b[39ms_aj \u001b[39m=\u001b[39m np\u001b[39m.\u001b[39marray([\\\n\u001b[1;32m    386\u001b[0m                         [\u001b[39m0\u001b[39m,\u001b[39m0\u001b[39m,\u001b[39m0\u001b[39m, \u001b[39mself\u001b[39m\u001b[39m.\u001b[39ms_e4,   \u001b[39mself\u001b[39m\u001b[39m.\u001b[39ms_e5,    \u001b[39mself\u001b[39m\u001b[39m.\u001b[39ms_e6],\n\u001b[1;32m    387\u001b[0m                         [\u001b[39m0\u001b[39m,\u001b[39m0\u001b[39m,\u001b[39m0\u001b[39m, \u001b[39mself\u001b[39m\u001b[39m.\u001b[39ms_mu4,  \u001b[39mself\u001b[39m\u001b[39m.\u001b[39ms_mu5,   \u001b[39mself\u001b[39m\u001b[39m.\u001b[39ms_mu6],\n\u001b[0;32m   (...)\u001b[0m\n\u001b[1;32m    391\u001b[0m                         [\u001b[39m0\u001b[39m,\u001b[39m0\u001b[39m,\u001b[39m0\u001b[39m, \u001b[39mself\u001b[39m\u001b[39m.\u001b[39ms_46,   \u001b[39mself\u001b[39m\u001b[39m.\u001b[39ms_56,    \u001b[39mself\u001b[39m\u001b[39m.\u001b[39ms_66],\n\u001b[1;32m    392\u001b[0m                         ])\n",
      "File \u001b[0;32m~/Repos/DarkNews-generator/src/DarkNews/model.py:159\u001b[0m, in \u001b[0;36mHNLModel.initialize_spectrum\u001b[0;34m(self)\u001b[0m\n\u001b[1;32m    157\u001b[0m \u001b[39mself\u001b[39m\u001b[39m.\u001b[39mn_nus \u001b[39m=\u001b[39m \u001b[39mlen\u001b[39m(\u001b[39mself\u001b[39m\u001b[39m.\u001b[39mnu_spectrum)\n\u001b[1;32m    158\u001b[0m \u001b[39mself\u001b[39m\u001b[39m.\u001b[39mn_HNLs \u001b[39m=\u001b[39m \u001b[39mlen\u001b[39m(\u001b[39mself\u001b[39m\u001b[39m.\u001b[39mHNL_spectrum)\n\u001b[0;32m--> 159\u001b[0m \u001b[39mself\u001b[39m\u001b[39m.\u001b[39m_spectrum \u001b[39m+\u001b[39m\u001b[39m=\u001b[39m \u001b[39mf\u001b[39m\u001b[39m\"\u001b[39m\u001b[39m\\n\u001b[39;00m\u001b[39m\\t\u001b[39;00m\u001b[39m{\u001b[39;00m\u001b[39mself\u001b[39m\u001b[39m.\u001b[39mn_HNLs\u001b[39m}\u001b[39;00m\u001b[39m \u001b[39m\u001b[39m{\u001b[39;00m\u001b[39mself\u001b[39m\u001b[39m.\u001b[39mHNLtype\u001b[39m}\u001b[39;00m\u001b[39m heavy neutrino(s).\u001b[39m\u001b[39m\"\u001b[39m\n",
      "\u001b[0;31mAttributeError\u001b[0m: 'ThreePortalModel' object has no attribute 'HNLtype'"
     ]
    }
   ],
   "source": [
    "bsm_model_1 = dn.model.create_3portal_HNL_model(mzprime=1.25, m4=0.1, m5=0.150, Umu4=1e-3, Umu5=2e-3, UD4=0.2, UD5=0.2, epsilon=1e-4)\n",
    "# bsm_model_2 = dn.model.create_generic_HNL_model()"
   ]
  },
  {
   "cell_type": "code",
   "execution_count": 107,
   "metadata": {},
   "outputs": [
    {
     "name": "stdout",
     "output_type": "stream",
     "text": [
      "[[-3.7E-08 0.00000 0.00000 0.00000 0.00000 0.00000]\n",
      " [0.00000 9.6E-07 0.00000 2.0E-04 2.0E-04 0.00000]\n",
      " [0.00000 0.00000 -3.7E-08 0.00000 0.00000 0.00000]\n",
      " [0.00000 2.0E-04 0.00000 4.0E-02 4.0E-02 0.00000]\n",
      " [0.00000 2.0E-04 0.00000 4.0E-02 4.0E-02 0.00000]\n",
      " [0.00000 0.00000 0.00000 0.00000 0.00000 0.00000]]\n"
     ]
    }
   ],
   "source": [
    "x = bsm_model_1.d_ij\n",
    "print(np.array2string(x, formatter={'float_kind':lambda x: \"%.1E\" % x if x !=0 else \"0.00000\"}))"
   ]
  },
  {
   "cell_type": "code",
   "execution_count": 108,
   "metadata": {},
   "outputs": [
    {
     "name": "stdout",
     "output_type": "stream",
     "text": [
      "0.00020784611846974275\n",
      "0.00019999996265424277\n"
     ]
    }
   ],
   "source": [
    "print(np.sqrt(np.sum(np.abs(bsm_model_1.d_aj[const.inds_active,3])**2)))\n",
    "print(np.sqrt(np.sum(np.abs(bsm_model_1.d_ij[const.inds_active,3])**2)))"
   ]
  },
  {
   "cell_type": "code",
   "execution_count": 109,
   "metadata": {},
   "outputs": [
    {
     "name": "stdout",
     "output_type": "stream",
     "text": [
      "[[1.0E+00 0.00000 0.00000 -1.2E-04 -1.2E-04 0.00000]\n",
      " [0.00000 1.0E+00 0.00000 -1.2E-04 -1.2E-04 0.00000]\n",
      " [0.00000 0.00000 1.0E+00 -1.2E-04 -1.2E-04 0.00000]\n",
      " [0.00000 2.0E-04 0.00000 4.0E-02 4.0E-02 0.00000]\n",
      " [0.00000 2.0E-04 0.00000 4.0E-02 4.0E-02 0.00000]\n",
      " [0.00000 0.00000 0.00000 0.00000 0.00000 0.00000]]\n"
     ]
    }
   ],
   "source": [
    "# x = np.vstack((bsm_model_1.d_aj,bsm_model_1.d_ij[3:]))\n",
    "x = bsm_model_1.d_aj\n",
    "print(np.array2string(x, formatter={'float_kind':lambda x: \"%.1E\" % x if x !=0 else \"0.00000\"}))"
   ]
  },
  {
   "cell_type": "code",
   "execution_count": 116,
   "metadata": {},
   "outputs": [],
   "source": [
    "decay_1=dn.processes.FermionDileptonDecay(dn.pdg.neutrino4, dn.pdg.nulight, lp.e_minus, lp.e_plus, bsm_model_1)\n",
    "ups_case=dn.processes.UpscatteringProcess(dn.pdg.numu, bsm_model_1.neutrino4, dn.nuclear_tools.NuclearTarget(\"C12\"), 'coherent', bsm_model_1, 'conserving')\n",
    "# decay_2=dn.model.FermionDileptonDecay(dn.pdg.neutrino4, dn.pdg.nulight, lp.e_minus, lp.e_plus, bsm_model_2)"
   ]
  },
  {
   "cell_type": "code",
   "execution_count": 117,
   "metadata": {},
   "outputs": [
    {
     "ename": "NameError",
     "evalue": "name 'self' is not defined",
     "output_type": "error",
     "traceback": [
      "\u001b[0;31m---------------------------------------------------------------------------\u001b[0m",
      "\u001b[0;31mNameError\u001b[0m                                 Traceback (most recent call last)",
      "\u001b[1;32m/Users/matheushostert/Repos/DarkNews-generator/examples/test_models.ipynb Cell 8'\u001b[0m in \u001b[0;36m<module>\u001b[0;34m\u001b[0m\n\u001b[0;32m----> <a href='vscode-notebook-cell:/Users/matheushostert/Repos/DarkNews-generator/examples/test_models.ipynb#ch0000010?line=0'>1</a>\u001b[0m const\u001b[39m.\u001b[39mgweak\u001b[39m/\u001b[39m\u001b[39m2.0\u001b[39m\u001b[39m/\u001b[39mconst\u001b[39m.\u001b[39mcw\u001b[39m*\u001b[39mnp\u001b[39m.\u001b[39mabs((\u001b[39m1.0\u001b[39m\u001b[39m-\u001b[39m\u001b[39m4.0\u001b[39m\u001b[39m*\u001b[39mconst\u001b[39m.\u001b[39ms2w)\u001b[39m*\u001b[39m\u001b[39mself\u001b[39;49m\u001b[39m.\u001b[39mtarget\u001b[39m.\u001b[39mZ\u001b[39m-\u001b[39m\u001b[39mself\u001b[39m\u001b[39m.\u001b[39mtarget\u001b[39m.\u001b[39mN)\n",
      "\u001b[0;31mNameError\u001b[0m: name 'self' is not defined"
     ]
    }
   ],
   "source": [
    "const.gweak/2.0/const.cw*np.abs((1.0-4.0*const.s2w)*self.target.Z-self.target.N)"
   ]
  },
  {
   "cell_type": "code",
   "execution_count": 124,
   "metadata": {},
   "outputs": [
    {
     "data": {
      "text/plain": [
       "-1.9999999771191013"
      ]
     },
     "execution_count": 124,
     "metadata": {},
     "output_type": "execute_result"
    }
   ],
   "source": [
    "ups_case.Chad/(bsm_model_1.cVproton*6 + bsm_model_1.cVneutron*6)"
   ]
  },
  {
   "cell_type": "code",
   "execution_count": 119,
   "metadata": {},
   "outputs": [
    {
     "data": {
      "text/plain": [
       "0.98127287696488"
      ]
     },
     "execution_count": 119,
     "metadata": {},
     "output_type": "execute_result"
    }
   ],
   "source": [
    "ups_case.Vhad/(bsm_model_1.dVproton*6 + bsm_model_1.dVneutron*6)"
   ]
  },
  {
   "cell_type": "code",
   "execution_count": 110,
   "metadata": {},
   "outputs": [
    {
     "ename": "AttributeError",
     "evalue": "module 'DarkNews.model' has no attribute 'create_HNL_model'",
     "output_type": "error",
     "traceback": [
      "\u001b[0;31m---------------------------------------------------------------------------\u001b[0m",
      "\u001b[0;31mAttributeError\u001b[0m                            Traceback (most recent call last)",
      "\u001b[1;32m/Users/matheushostert/Repos/DarkNews-generator/examples/test_models.ipynb Cell 8'\u001b[0m in \u001b[0;36m<module>\u001b[0;34m\u001b[0m\n\u001b[0;32m----> <a href='vscode-notebook-cell:/Users/matheushostert/Repos/DarkNews-generator/examples/test_models.ipynb#ch0000007?line=0'>1</a>\u001b[0m bsm_model \u001b[39m=\u001b[39m dn\u001b[39m.\u001b[39;49mmodel\u001b[39m.\u001b[39;49mcreate_HNL_model(mzprime\u001b[39m=\u001b[39m\u001b[39m0.1\u001b[39m, \n\u001b[1;32m      <a href='vscode-notebook-cell:/Users/matheushostert/Repos/DarkNews-generator/examples/test_models.ipynb#ch0000007?line=1'>2</a>\u001b[0m                                             m5\u001b[39m=\u001b[39m\u001b[39m0.150\u001b[39m, \n\u001b[1;32m      <a href='vscode-notebook-cell:/Users/matheushostert/Repos/DarkNews-generator/examples/test_models.ipynb#ch0000007?line=2'>3</a>\u001b[0m                                             m4 \u001b[39m=\u001b[39m \u001b[39m0.01\u001b[39m, \n\u001b[1;32m      <a href='vscode-notebook-cell:/Users/matheushostert/Repos/DarkNews-generator/examples/test_models.ipynb#ch0000007?line=3'>4</a>\u001b[0m                                             epsilon\u001b[39m=\u001b[39m\u001b[39m0.0\u001b[39m, \n\u001b[1;32m      <a href='vscode-notebook-cell:/Users/matheushostert/Repos/DarkNews-generator/examples/test_models.ipynb#ch0000007?line=4'>5</a>\u001b[0m                                             theta\u001b[39m=\u001b[39m\u001b[39m1e-4\u001b[39m, \n\u001b[1;32m      <a href='vscode-notebook-cell:/Users/matheushostert/Repos/DarkNews-generator/examples/test_models.ipynb#ch0000007?line=5'>6</a>\u001b[0m                                             s_mu4\u001b[39m=\u001b[39m\u001b[39m1e-3\u001b[39m\n\u001b[1;32m      <a href='vscode-notebook-cell:/Users/matheushostert/Repos/DarkNews-generator/examples/test_models.ipynb#ch0000007?line=6'>7</a>\u001b[0m                                         )\n",
      "\u001b[0;31mAttributeError\u001b[0m: module 'DarkNews.model' has no attribute 'create_HNL_model'"
     ]
    }
   ],
   "source": [
    "bsm_model = dn.model.create_HNL_model(mzprime=0.1, \n",
    "                                            m5=0.150, \n",
    "                                            m4 = 0.01, \n",
    "                                            epsilon=0.0, \n",
    "                                            theta=1e-4, \n",
    "                                            s_mu4=1e-3\n",
    "                                        )"
   ]
  }
 ],
 "metadata": {
  "interpreter": {
   "hash": "aee8b7b246df8f9039afb4144a1f6fd8d2ca17a180786b69acc140d282b71a49"
  },
  "kernelspec": {
   "display_name": "Python 3.9.10 64-bit",
   "language": "python",
   "name": "python3"
  },
  "language_info": {
   "codemirror_mode": {
    "name": "ipython",
    "version": 3
   },
   "file_extension": ".py",
   "mimetype": "text/x-python",
   "name": "python",
   "nbconvert_exporter": "python",
   "pygments_lexer": "ipython3",
   "version": "3.9.13"
  },
  "orig_nbformat": 4
 },
 "nbformat": 4,
 "nbformat_minor": 2
}
