{
 "cells": [
  {
   "cell_type": "code",
   "execution_count": 37,
   "metadata": {},
   "outputs": [
    {
     "name": "stdout",
     "output_type": "stream",
     "text": [
      "The autoreload extension is already loaded. To reload it, use:\n",
      "  %reload_ext autoreload\n"
     ]
    }
   ],
   "source": [
    "%load_ext autoreload\n",
    "%autoreload 2"
   ]
  },
  {
   "cell_type": "code",
   "execution_count": 38,
   "metadata": {},
   "outputs": [],
   "source": [
    "import numpy as np\n",
    "from particle import literals as lp\n",
    "import DarkNews as dn\n",
    "from DarkNews import model\n",
    "from DarkNews import const\n",
    "from DarkNews import GenLauncher"
   ]
  },
  {
   "cell_type": "code",
   "execution_count": 106,
   "metadata": {},
   "outputs": [
    {
     "name": "stderr",
     "output_type": "stream",
     "text": [
      "/Users/matheushostert/Repos/DarkNews-generator/src/DarkNews/model.py:591: RuntimeWarning: invalid value encountered in sqrt\n",
      "  # Z coupling of between LOW-ENERGY flavor states and the mass eigenstates\n"
     ]
    }
   ],
   "source": [
    "proton = dn.detector.NuclearTarget(\"H1\")\n",
    "\n",
    "# model\n",
    "self   = dn.model.ThreePortalModel(name='NC_test', m4 = 0.1, m5 = 0.2, UD4=1/np.sqrt(2), UD5=1/np.sqrt(2), Umu4=1e-3, Ue4=1e-3,  Umu5=1e-2, Ue5=1e-3, epsilon=1e-2, gD=2)"
   ]
  },
  {
   "cell_type": "code",
   "execution_count": 108,
   "metadata": {},
   "outputs": [
    {
     "name": "stdout",
     "output_type": "stream",
     "text": [
      "0.9999999999958912\n",
      "0.9999999999958912\n"
     ]
    }
   ],
   "source": [
    "Ulep_dark_only = np.diag(6*[0])\n",
    "Ulep_dark_only[self.inds_dark,self.inds_dark] = self.Ulep[self.inds_dark,self.inds_dark]\n",
    "\n",
    "DIJ = self.gD*(Ulep_dark_only - np.dot(self.Ulep[:,3:], self.D_dark[3:]))\n",
    "DIJ[3:, 3:] = self.d_ij[3:, 3:]\n",
    "\n",
    "print(DIJ[3,4])\n",
    "print(self.d_ij[3,4])"
   ]
  },
  {
   "cell_type": "code",
   "execution_count": 105,
   "metadata": {},
   "outputs": [
    {
     "data": {
      "text/plain": [
       "array([[1., 1., 0.],\n",
       "       [1., 1., 0.],\n",
       "       [0., 0., 0.]])"
      ]
     },
     "execution_count": 105,
     "metadata": {},
     "output_type": "execute_result"
    }
   ],
   "source": [
    "self.d_ij[3:, 3:]"
   ]
  },
  {
   "cell_type": "code",
   "execution_count": 10,
   "metadata": {},
   "outputs": [
    {
     "data": {
      "text/plain": [
       "array([0.9999995 , 0.99498744, 1.        , 0.        , 0.        ,\n",
       "       0.        ])"
      ]
     },
     "execution_count": 10,
     "metadata": {},
     "output_type": "execute_result"
    }
   ],
   "source": [
    "self.le_state_norms"
   ]
  },
  {
   "cell_type": "code",
   "execution_count": 6,
   "metadata": {},
   "outputs": [
    {
     "name": "stderr",
     "output_type": "stream",
     "text": [
      "/var/folders/my/7j7cn6f92_z66yvbb11lgt2r0000gn/T/ipykernel_21827/1574190856.py:1: RuntimeWarning: invalid value encountered in sqrt\n",
      "  np.sqrt(1 - ((np.dot(self.Ulep.conjugate().T, self.Ulep))).sum())\n"
     ]
    },
    {
     "data": {
      "text/plain": [
       "nan"
      ]
     },
     "execution_count": 6,
     "metadata": {},
     "output_type": "execute_result"
    }
   ],
   "source": [
    "np.sqrt(1 - ((np.dot(self.Ulep.conjugate().T, self.Ulep))).sum())"
   ]
  },
  {
   "cell_type": "code",
   "execution_count": 205,
   "metadata": {},
   "outputs": [
    {
     "data": {
      "text/plain": [
       "array([[9.99999626e-01, 9.99999990e-01, 1.00000000e+00, 9.99990000e-01,\n",
       "        1.00000000e+00, 1.00000000e+00],\n",
       "       [9.99999990e-01, 9.99998626e-01, 1.00000000e+00, 9.99000000e-01,\n",
       "        1.00000000e+00, 1.00000000e+00],\n",
       "       [1.00000000e+00, 1.00000000e+00, 9.99999626e-01, 1.00000000e+00,\n",
       "        1.00000000e+00, 1.00000000e+00],\n",
       "       [9.99990000e-01, 9.99000000e-01, 1.00000000e+00, 3.73542317e-13,\n",
       "        1.00000000e+00, 1.00000000e+00],\n",
       "       [1.00000000e+00, 1.00000000e+00, 1.00000000e+00, 1.00000000e+00,\n",
       "        1.00000000e+00, 1.00000000e+00],\n",
       "       [1.00000000e+00, 1.00000000e+00, 1.00000000e+00, 1.00000000e+00,\n",
       "        1.00000000e+00, 1.00000000e+00]])"
      ]
     },
     "execution_count": 205,
     "metadata": {},
     "output_type": "execute_result"
    }
   ],
   "source": [
    "self.d_aj"
   ]
  },
  {
   "cell_type": "code",
   "execution_count": 169,
   "metadata": {},
   "outputs": [
    {
     "data": {
      "text/plain": [
       "array([[ 3.75820937e-01, -3.75820937e-09,  0.00000000e+00,\n",
       "         3.70455508e-06,  0.00000000e+00,  0.00000000e+00],\n",
       "       [-3.75820937e-09,  3.75820561e-01,  0.00000000e+00,\n",
       "         3.70455508e-04,  0.00000000e+00,  0.00000000e+00],\n",
       "       [ 0.00000000e+00,  0.00000000e+00,  3.75820937e-01,\n",
       "         0.00000000e+00,  0.00000000e+00,  0.00000000e+00],\n",
       "       [ 0.00000000e+00,  0.00000000e+00,  0.00000000e+00,\n",
       "         3.70455508e-01,  0.00000000e+00,  0.00000000e+00],\n",
       "       [ 0.00000000e+00,  0.00000000e+00,  0.00000000e+00,\n",
       "         0.00000000e+00,  3.75820937e-01,  0.00000000e+00],\n",
       "       [ 0.00000000e+00,  0.00000000e+00,  0.00000000e+00,\n",
       "         0.00000000e+00,  0.00000000e+00,  3.75820937e-01]])"
      ]
     },
     "execution_count": 169,
     "metadata": {},
     "output_type": "execute_result"
    }
   ],
   "source": [
    "self.c_aj"
   ]
  },
  {
   "cell_type": "code",
   "execution_count": 118,
   "metadata": {},
   "outputs": [
    {
     "name": "stdout",
     "output_type": "stream",
     "text": [
      "[[1.    0.    0.    0.    0.    0.   ]\n",
      " [0.    1.    0.    0.001 0.    0.   ]\n",
      " [0.    0.    1.    0.    0.    0.   ]\n",
      " [0.    0.001 0.    1.    0.    0.   ]\n",
      " [0.    0.    0.    0.    1.    0.   ]\n",
      " [0.    0.    0.    0.    0.    1.   ]]\n",
      "[[0.37045588 0.         0.         0.         0.         0.        ]\n",
      " [0.         0.37045588 0.         0.00037582 0.         0.        ]\n",
      " [0.         0.         0.37045588 0.         0.         0.        ]\n",
      " [0.         0.00037582 0.         0.00536543 0.         0.        ]\n",
      " [0.         0.         0.         0.         0.         0.        ]\n",
      " [0.         0.         0.         0.         0.         0.        ]]\n",
      "[[ 1.00000000e+00  0.00000000e+00  0.00000000e+00  0.00000000e+00\n",
      "   0.00000000e+00  0.00000000e+00]\n",
      " [ 0.00000000e+00  9.99999624e-01  0.00000000e+00 -5.36542886e-06\n",
      "   0.00000000e+00  0.00000000e+00]\n",
      " [ 0.00000000e+00  0.00000000e+00  1.00000000e+00  0.00000000e+00\n",
      "   0.00000000e+00  0.00000000e+00]\n",
      " [ 0.00000000e+00 -3.75820937e-04  0.00000000e+00  9.94634571e-01\n",
      "   0.00000000e+00  0.00000000e+00]\n",
      " [ 0.00000000e+00  0.00000000e+00  0.00000000e+00  0.00000000e+00\n",
      "   1.00000000e+00  0.00000000e+00]\n",
      " [ 0.00000000e+00  0.00000000e+00  0.00000000e+00  0.00000000e+00\n",
      "   0.00000000e+00  1.00000000e+00]]\n"
     ]
    }
   ],
   "source": [
    "print(self.Ulep)\n",
    "print(self.c_ij)\n",
    "print(f'{np.diag(6*[1]) - np.dot(self.Ulep[:,3:], self.c_ij[3:,:])}')"
   ]
  },
  {
   "cell_type": "code",
   "execution_count": 68,
   "metadata": {},
   "outputs": [],
   "source": [
    "self.c_aj = (\n",
    "    # Z coupling to J_NC^[e, mu, tau]\n",
    "    self._weak_vertex * np.dot(np.diag(1 - self.UahUah_mass_summed), self.Uactive_heavy) * self._g_weak_correction\\\n",
    "    # Z coupling to J_dark^[d, ..., d^{n_dark_flavors}]\n",
    "    + np.dot(np.diag(-self.UahUDh_mass_summed), self.UD_heavy) * self._gschi \n",
    ")\n",
    "\n",
    "# Z' vertices d_ij (n x n) where ij are mass eigenstate indices \n",
    "self.d_ij = self._weak_vertex * self.C_weak * self._g_dark_correction + self.D_dark * self.gD\n",
    "\n",
    "# d_aj (3 x 3)\n",
    "#   columns: 0 - e, 1 - mu, 2 -tau \n",
    "#   rows: 0 - N4, 1 - N5, 2 - N6\n",
    "self.d_aj = (\n",
    "    # Z' coupling to J_NC^[e, mu, tau]\n",
    "    self._weak_vertex * np.dot(np.diag(1 - self.UahUah_mass_summed), self.Uactive_heavy) * self._g_dark_correction\\\n",
    "    # Z' coupling to J_dark^[d, ..., d^{n_dark_flavors}, s, s2, s, ...]\n",
    "    + np.dot(np.diag(-self.UahUDh_mass_summed), self.UD_heavy) * self.gD\n",
    ")\n",
    "\n",
    "# make it 3 x n_nus\n",
    "self.c_aj_new = np.hstack((np.diag([1, 1, 1]), self.c_aj))\n",
    "self.d_aj_new = np.hstack((np.diag([1, 1, 1]), self.d_aj))"
   ]
  },
  {
   "cell_type": "code",
   "execution_count": 71,
   "metadata": {},
   "outputs": [
    {
     "data": {
      "text/plain": [
       "array([[-0.001,  0.   ,  0.   ],\n",
       "       [-0.001,  0.   ,  0.   ],\n",
       "       [-0.001,  0.   ,  0.   ]])"
      ]
     },
     "execution_count": 71,
     "metadata": {},
     "output_type": "execute_result"
    }
   ],
   "source": [
    "self.d_aj"
   ]
  },
  {
   "cell_type": "code",
   "execution_count": 19,
   "metadata": {},
   "outputs": [
    {
     "data": {
      "text/plain": [
       "array([[-0.001,  0.   ,  0.   ]])"
      ]
     },
     "execution_count": 19,
     "metadata": {},
     "output_type": "execute_result"
    }
   ],
   "source": [
    "np.dot(np.diag(-model_test.UahUDh_mass_summed), model_test.UD_heavy)"
   ]
  },
  {
   "cell_type": "code",
   "execution_count": 11,
   "metadata": {},
   "outputs": [
    {
     "name": "stdout",
     "output_type": "stream",
     "text": [
      "---------------------------------------------------------\n",
      "   ______           _        _   _                     \n",
      "   |  _  \\         | |      | \\ | |                    \n",
      "   | | | |__ _ _ __| | __   |  \\| | _____      _____   \n",
      "   | | | / _  | ___| |/ /   | .   |/ _ \\ \\ /\\ / / __|  \n",
      "   | |/ / (_| | |  |   <    | |\\  |  __/\\ V  V /\\__ \\  \n",
      "   |___/ \\__,_|_|  |_|\\_\\   \\_| \\_/\\___| \\_/\\_/ |___/  \n",
      "\n",
      "---------------------------------------------------------\n",
      "Model:\n",
      "\t1 dirac heavy neutrino(s).\n",
      "\n",
      "---------------------------------------------------------\n",
      "Experiment:\n",
      "\tMiniBooNE_FHC\n",
      "\tfluxfile loaded: MiniBooNE_FHC.dat\n",
      "\tPOT: 1.875e+21\n",
      "\tnuclear targets: ['C12', 'H1']\n",
      "\tfiducial mass: [701.1428571428571, 116.85714285714286] tonnes\n",
      "\n",
      "Creating instances of MC cases:\n",
      "Created an MC instance of nu(mu) C12 --> N4  C12 --> nu_light mu+ mu- C12.\n",
      "Created an MC instance of nu(mu) proton_in_C12 --> N4  proton_in_C12 --> nu_light mu+ mu- proton_in_C12.\n",
      "Created an MC instance of nu(mu) proton_in_H1 --> N4  proton_in_H1 --> nu_light mu+ mu- proton_in_H1.\n",
      "Directory tree for this run already exists. Overriding it.\n",
      "Now running the generator for each instance.\n",
      "---------------------------------------------------------\n",
      "Generating Events using the neutrino-nucleus upscattering engine\n",
      "\n",
      "nu(mu) C12 --> N4  C12 --> nu_light mu+ mu- C12\n",
      "Helicity conserving upscattering.\n",
      "N4 three-body decays.\n",
      "Running VEGAS for DIM=6\n",
      "Throwing an initial 10000 random points to find the normalization\n",
      "Normalization factors in integrand: {'diff_event_rate': 1, 'diff_flux_avg_xsec': 1, 'diff_decay_rate_0': 1}.\n",
      "Throwing successful\n",
      "Normalization factors in integrand: {'diff_event_rate': 4.0410458233164906e-27, 'diff_flux_avg_xsec': 8.98698795392655e-10, 'diff_decay_rate_0': 2.281158421892192e-18}.\n",
      "Normalization factors in integrand: {'diff_event_rate': 4.0410458233164906e-27, 'diff_flux_avg_xsec': 8.98698795392655e-10, 'diff_decay_rate_0': 2.281158421892192e-18}.\n",
      "Normalization factors in integrand: {'diff_event_rate': 4.0410458233164906e-27, 'diff_flux_avg_xsec': 8.98698795392655e-10, 'diff_decay_rate_0': 2.281158421892192e-18}.\n",
      "Normalization factors in integrand: {'diff_event_rate': 4.0410458233164906e-27, 'diff_flux_avg_xsec': 8.98698795392655e-10, 'diff_decay_rate_0': 2.281158421892192e-18}.\n",
      "Normalization factors in integrand: {'diff_event_rate': 4.0410458233164906e-27, 'diff_flux_avg_xsec': 8.98698795392655e-10, 'diff_decay_rate_0': 2.281158421892192e-18}.\n",
      "Normalization factors in integrand: {'diff_event_rate': 4.0410458233164906e-27, 'diff_flux_avg_xsec': 8.98698795392655e-10, 'diff_decay_rate_0': 2.281158421892192e-18}.\n",
      "Normalization factors in integrand: {'diff_event_rate': 4.0410458233164906e-27, 'diff_flux_avg_xsec': 8.98698795392655e-10, 'diff_decay_rate_0': 2.281158421892192e-18}.\n",
      "Normalization factors in integrand: {'diff_event_rate': 4.0410458233164906e-27, 'diff_flux_avg_xsec': 8.98698795392655e-10, 'diff_decay_rate_0': 2.281158421892192e-18}.\n",
      "Normalization factors in integrand: {'diff_event_rate': 4.0410458233164906e-27, 'diff_flux_avg_xsec': 8.98698795392655e-10, 'diff_decay_rate_0': 2.281158421892192e-18}.\n",
      "Normalization factors in integrand: {'diff_event_rate': 4.0410458233164906e-27, 'diff_flux_avg_xsec': 8.98698795392655e-10, 'diff_decay_rate_0': 2.281158421892192e-18}.\n",
      "Normalization factors in integrand: {'diff_event_rate': 4.0410458233164906e-27, 'diff_flux_avg_xsec': 8.98698795392655e-10, 'diff_decay_rate_0': 2.281158421892192e-18}.\n",
      "VEGAS warm-up completed.\n",
      "Normalization factors in integrand: {'diff_event_rate': 4.0410458233164906e-27, 'diff_flux_avg_xsec': 8.98698795392655e-10, 'diff_decay_rate_0': 2.281158421892192e-18}.\n",
      "Normalization factors in integrand: {'diff_event_rate': 4.0410458233164906e-27, 'diff_flux_avg_xsec': 8.98698795392655e-10, 'diff_decay_rate_0': 2.281158421892192e-18}.\n",
      "Normalization factors in integrand: {'diff_event_rate': 4.0410458233164906e-27, 'diff_flux_avg_xsec': 8.98698795392655e-10, 'diff_decay_rate_0': 2.281158421892192e-18}.\n",
      "Normalization factors in integrand: {'diff_event_rate': 4.0410458233164906e-27, 'diff_flux_avg_xsec': 8.98698795392655e-10, 'diff_decay_rate_0': 2.281158421892192e-18}.\n",
      "Normalization factors in integrand: {'diff_event_rate': 4.0410458233164906e-27, 'diff_flux_avg_xsec': 8.98698795392655e-10, 'diff_decay_rate_0': 2.281158421892192e-18}.\n",
      "Normalization factors in integrand: {'diff_event_rate': 4.0410458233164906e-27, 'diff_flux_avg_xsec': 8.98698795392655e-10, 'diff_decay_rate_0': 2.281158421892192e-18}.\n",
      "Normalization factors in integrand: {'diff_event_rate': 4.0410458233164906e-27, 'diff_flux_avg_xsec': 8.98698795392655e-10, 'diff_decay_rate_0': 2.281158421892192e-18}.\n",
      "Normalization factors in integrand: {'diff_event_rate': 4.0410458233164906e-27, 'diff_flux_avg_xsec': 8.98698795392655e-10, 'diff_decay_rate_0': 2.281158421892192e-18}.\n",
      "Normalization factors in integrand: {'diff_event_rate': 4.0410458233164906e-27, 'diff_flux_avg_xsec': 8.98698795392655e-10, 'diff_decay_rate_0': 2.281158421892192e-18}.\n",
      "Normalization factors in integrand: {'diff_event_rate': 4.0410458233164906e-27, 'diff_flux_avg_xsec': 8.98698795392655e-10, 'diff_decay_rate_0': 2.281158421892192e-18}.\n",
      "Normalization factors in integrand: {'diff_event_rate': 4.0410458233164906e-27, 'diff_flux_avg_xsec': 8.98698795392655e-10, 'diff_decay_rate_0': 2.281158421892192e-18}.\n",
      "Normalization factors in integrand: {'diff_event_rate': 4.0410458233164906e-27, 'diff_flux_avg_xsec': 8.98698795392655e-10, 'diff_decay_rate_0': 2.281158421892192e-18}.\n",
      "Normalization factors in integrand: {'diff_event_rate': 4.0410458233164906e-27, 'diff_flux_avg_xsec': 8.98698795392655e-10, 'diff_decay_rate_0': 2.281158421892192e-18}.\n",
      "Normalization factors in integrand: {'diff_event_rate': 4.0410458233164906e-27, 'diff_flux_avg_xsec': 8.98698795392655e-10, 'diff_decay_rate_0': 2.281158421892192e-18}.\n",
      "Normalization factors in integrand: {'diff_event_rate': 4.0410458233164906e-27, 'diff_flux_avg_xsec': 8.98698795392655e-10, 'diff_decay_rate_0': 2.281158421892192e-18}.\n",
      "Normalization factors in integrand: {'diff_event_rate': 4.0410458233164906e-27, 'diff_flux_avg_xsec': 8.98698795392655e-10, 'diff_decay_rate_0': 2.281158421892192e-18}.\n",
      "Normalization factors in integrand: {'diff_event_rate': 4.0410458233164906e-27, 'diff_flux_avg_xsec': 8.98698795392655e-10, 'diff_decay_rate_0': 2.281158421892192e-18}.\n",
      "Normalization factors in integrand: {'diff_event_rate': 4.0410458233164906e-27, 'diff_flux_avg_xsec': 8.98698795392655e-10, 'diff_decay_rate_0': 2.281158421892192e-18}.\n",
      "Normalization factors in integrand: {'diff_event_rate': 4.0410458233164906e-27, 'diff_flux_avg_xsec': 8.98698795392655e-10, 'diff_decay_rate_0': 2.281158421892192e-18}.\n",
      "Normalization factors in integrand: {'diff_event_rate': 4.0410458233164906e-27, 'diff_flux_avg_xsec': 8.98698795392655e-10, 'diff_decay_rate_0': 2.281158421892192e-18}.\n",
      "Normalization factors in integrand: {'diff_event_rate': 4.0410458233164906e-27, 'diff_flux_avg_xsec': 8.98698795392655e-10, 'diff_decay_rate_0': 2.281158421892192e-18}.\n",
      "Main VEGAS run completed.\n",
      "Vegas results for the integrals: itn   integral        wgt average     chi2/dof        Q\n",
      "-------------------------------------------------------\n",
      "  1   5.329(62)       5.329(62)           0.00     1.00\n",
      "  2   5.251(56)       5.286(42)           0.31     0.82\n",
      "  3   5.283(52)       5.284(32)           0.50     0.81\n",
      "  4   5.217(53)       5.266(27)           0.47     0.90\n",
      "  5   5.188(51)       5.249(24)           0.70     0.75\n",
      "  6   5.302(65)       5.256(23)           0.62     0.86\n",
      "  7   5.282(52)       5.261(21)           0.59     0.91\n",
      "  8   5.245(52)       5.257(19)           0.63     0.90\n",
      "  9   5.200(57)       5.250(18)           0.68     0.87\n",
      " 10   5.203(56)       5.246(17)           0.73     0.84\n",
      " 11   5.277(56)       5.249(16)           0.69     0.89\n",
      " 12   5.216(54)       5.245(16)           0.66     0.93\n",
      " 13   5.205(64)       5.243(15)           0.63     0.96\n",
      " 14   5.281(63)       5.246(15)           0.63     0.97\n",
      " 15   5.240(60)       5.246(14)           0.64     0.97\n",
      " 16   5.186(51)       5.241(14)           0.67     0.96\n",
      " 17   5.421(65)       5.249(13)           0.82     0.81\n",
      " 18   5.325(58)       5.252(13)           0.81     0.83\n",
      " 19   5.202(56)       5.250(13)           0.79     0.87\n",
      " 20   5.236(65)       5.249(13)           0.77     0.90\n",
      "\n",
      "Normalization factors in integrand: {'diff_event_rate': 4.0410458233164906e-27, 'diff_flux_avg_xsec': 8.98698795392655e-10, 'diff_decay_rate_0': 2.281158421892192e-18}.\n",
      "Normalization factors in MC: {'diff_event_rate': 4.0410458233164906e-27, 'diff_flux_avg_xsec': 8.98698795392655e-10, 'diff_decay_rate_0': 2.281158421892192e-18}.\n",
      "Vegas results for diff_event_rate: 5.2446366407822165\n",
      "Vegas results for diff_flux_avg_xsec: 9.567051634430545\n",
      "Vegas results for diff_decay_rate_0: 1.0790072319230495\n",
      "Parent N4 proper decay length: 8.017E+03 cm.\n",
      "\n",
      "Predicted (568 +/- 21.1) events.\n",
      "\n",
      "nu(mu) C12 --> N4  C12 --> nu_light mu+ mu- C12\n",
      "Helicity flipping upscattering.\n",
      "N4 three-body decays.\n",
      "Running VEGAS for DIM=6\n",
      "Throwing an initial 10000 random points to find the normalization\n",
      "Normalization factors in integrand: {'diff_event_rate': 1, 'diff_flux_avg_xsec': 1, 'diff_decay_rate_0': 1}.\n",
      "Throwing successful\n",
      "Normalization factors in integrand: {'diff_event_rate': 2.608321836462818e-33, 'diff_flux_avg_xsec': 1.4631298143494349e-15, 'diff_decay_rate_0': 4.508983015698164e-18}.\n",
      "Normalization factors in integrand: {'diff_event_rate': 2.608321836462818e-33, 'diff_flux_avg_xsec': 1.4631298143494349e-15, 'diff_decay_rate_0': 4.508983015698164e-18}.\n",
      "Normalization factors in integrand: {'diff_event_rate': 2.608321836462818e-33, 'diff_flux_avg_xsec': 1.4631298143494349e-15, 'diff_decay_rate_0': 4.508983015698164e-18}.\n",
      "Normalization factors in integrand: {'diff_event_rate': 2.608321836462818e-33, 'diff_flux_avg_xsec': 1.4631298143494349e-15, 'diff_decay_rate_0': 4.508983015698164e-18}.\n",
      "Normalization factors in integrand: {'diff_event_rate': 2.608321836462818e-33, 'diff_flux_avg_xsec': 1.4631298143494349e-15, 'diff_decay_rate_0': 4.508983015698164e-18}.\n",
      "Normalization factors in integrand: {'diff_event_rate': 2.608321836462818e-33, 'diff_flux_avg_xsec': 1.4631298143494349e-15, 'diff_decay_rate_0': 4.508983015698164e-18}.\n",
      "Normalization factors in integrand: {'diff_event_rate': 2.608321836462818e-33, 'diff_flux_avg_xsec': 1.4631298143494349e-15, 'diff_decay_rate_0': 4.508983015698164e-18}.\n",
      "Normalization factors in integrand: {'diff_event_rate': 2.608321836462818e-33, 'diff_flux_avg_xsec': 1.4631298143494349e-15, 'diff_decay_rate_0': 4.508983015698164e-18}.\n",
      "Normalization factors in integrand: {'diff_event_rate': 2.608321836462818e-33, 'diff_flux_avg_xsec': 1.4631298143494349e-15, 'diff_decay_rate_0': 4.508983015698164e-18}.\n",
      "Normalization factors in integrand: {'diff_event_rate': 2.608321836462818e-33, 'diff_flux_avg_xsec': 1.4631298143494349e-15, 'diff_decay_rate_0': 4.508983015698164e-18}.\n",
      "Normalization factors in integrand: {'diff_event_rate': 2.608321836462818e-33, 'diff_flux_avg_xsec': 1.4631298143494349e-15, 'diff_decay_rate_0': 4.508983015698164e-18}.\n",
      "VEGAS warm-up completed.\n",
      "Normalization factors in integrand: {'diff_event_rate': 2.608321836462818e-33, 'diff_flux_avg_xsec': 1.4631298143494349e-15, 'diff_decay_rate_0': 4.508983015698164e-18}.\n",
      "Normalization factors in integrand: {'diff_event_rate': 2.608321836462818e-33, 'diff_flux_avg_xsec': 1.4631298143494349e-15, 'diff_decay_rate_0': 4.508983015698164e-18}.\n",
      "Normalization factors in integrand: {'diff_event_rate': 2.608321836462818e-33, 'diff_flux_avg_xsec': 1.4631298143494349e-15, 'diff_decay_rate_0': 4.508983015698164e-18}.\n",
      "Normalization factors in integrand: {'diff_event_rate': 2.608321836462818e-33, 'diff_flux_avg_xsec': 1.4631298143494349e-15, 'diff_decay_rate_0': 4.508983015698164e-18}.\n",
      "Normalization factors in integrand: {'diff_event_rate': 2.608321836462818e-33, 'diff_flux_avg_xsec': 1.4631298143494349e-15, 'diff_decay_rate_0': 4.508983015698164e-18}.\n",
      "Normalization factors in integrand: {'diff_event_rate': 2.608321836462818e-33, 'diff_flux_avg_xsec': 1.4631298143494349e-15, 'diff_decay_rate_0': 4.508983015698164e-18}.\n",
      "Normalization factors in integrand: {'diff_event_rate': 2.608321836462818e-33, 'diff_flux_avg_xsec': 1.4631298143494349e-15, 'diff_decay_rate_0': 4.508983015698164e-18}.\n",
      "Normalization factors in integrand: {'diff_event_rate': 2.608321836462818e-33, 'diff_flux_avg_xsec': 1.4631298143494349e-15, 'diff_decay_rate_0': 4.508983015698164e-18}.\n",
      "Normalization factors in integrand: {'diff_event_rate': 2.608321836462818e-33, 'diff_flux_avg_xsec': 1.4631298143494349e-15, 'diff_decay_rate_0': 4.508983015698164e-18}.\n",
      "Normalization factors in integrand: {'diff_event_rate': 2.608321836462818e-33, 'diff_flux_avg_xsec': 1.4631298143494349e-15, 'diff_decay_rate_0': 4.508983015698164e-18}.\n",
      "Normalization factors in integrand: {'diff_event_rate': 2.608321836462818e-33, 'diff_flux_avg_xsec': 1.4631298143494349e-15, 'diff_decay_rate_0': 4.508983015698164e-18}.\n",
      "Normalization factors in integrand: {'diff_event_rate': 2.608321836462818e-33, 'diff_flux_avg_xsec': 1.4631298143494349e-15, 'diff_decay_rate_0': 4.508983015698164e-18}.\n",
      "Normalization factors in integrand: {'diff_event_rate': 2.608321836462818e-33, 'diff_flux_avg_xsec': 1.4631298143494349e-15, 'diff_decay_rate_0': 4.508983015698164e-18}.\n",
      "Normalization factors in integrand: {'diff_event_rate': 2.608321836462818e-33, 'diff_flux_avg_xsec': 1.4631298143494349e-15, 'diff_decay_rate_0': 4.508983015698164e-18}.\n",
      "Normalization factors in integrand: {'diff_event_rate': 2.608321836462818e-33, 'diff_flux_avg_xsec': 1.4631298143494349e-15, 'diff_decay_rate_0': 4.508983015698164e-18}.\n",
      "Normalization factors in integrand: {'diff_event_rate': 2.608321836462818e-33, 'diff_flux_avg_xsec': 1.4631298143494349e-15, 'diff_decay_rate_0': 4.508983015698164e-18}.\n",
      "Normalization factors in integrand: {'diff_event_rate': 2.608321836462818e-33, 'diff_flux_avg_xsec': 1.4631298143494349e-15, 'diff_decay_rate_0': 4.508983015698164e-18}.\n",
      "Normalization factors in integrand: {'diff_event_rate': 2.608321836462818e-33, 'diff_flux_avg_xsec': 1.4631298143494349e-15, 'diff_decay_rate_0': 4.508983015698164e-18}.\n",
      "Normalization factors in integrand: {'diff_event_rate': 2.608321836462818e-33, 'diff_flux_avg_xsec': 1.4631298143494349e-15, 'diff_decay_rate_0': 4.508983015698164e-18}.\n",
      "Normalization factors in integrand: {'diff_event_rate': 2.608321836462818e-33, 'diff_flux_avg_xsec': 1.4631298143494349e-15, 'diff_decay_rate_0': 4.508983015698164e-18}.\n",
      "Normalization factors in integrand: {'diff_event_rate': 2.608321836462818e-33, 'diff_flux_avg_xsec': 1.4631298143494349e-15, 'diff_decay_rate_0': 4.508983015698164e-18}.\n",
      "Main VEGAS run completed.\n",
      "Vegas results for the integrals: itn   integral        wgt average     chi2/dof        Q\n",
      "-------------------------------------------------------\n",
      "  1   2221(28)        2221(28)            0.00     1.00\n",
      "  2   2232(26)        2229(19)            0.55     0.65\n",
      "  3   2175(25)        2209(15)            0.81     0.56\n",
      "  4   2230(25)        2215(13)            0.74     0.67\n",
      "  5   2302(84)        2213(12)            0.88     0.57\n",
      "  6   2222(28)        2214(11)            0.73     0.76\n",
      "  7   2265(27)        2222(10)            0.83     0.66\n",
      "  8   2266(34)        2225.8(9.8)         0.79     0.73\n",
      "  9   2230(28)        2226.1(9.2)         0.71     0.85\n",
      " 10   2181(26)        2222.0(8.7)         0.79     0.77\n",
      " 11   2165(26)        2216.2(8.2)         1.05     0.40\n",
      " 12   2218(25)        2217.6(7.7)         1.05     0.40\n",
      " 13   2239(30)        2218.4(7.5)         1.05     0.39\n",
      " 14   2253(28)        2222.3(7.2)         1.16     0.23\n",
      " 15   2221(25)        2221.9(6.9)         1.12     0.27\n",
      " 16   2238(28)        2222.9(6.7)         1.07     0.34\n",
      " 17   2219(24)        2223.3(6.5)         1.08     0.33\n",
      " 18   2225(22)        2223.2(6.2)         1.05     0.37\n",
      " 19   2222(22)        2222.8(5.9)         1.02     0.42\n",
      " 20   2212(27)        2221.5(5.8)         1.03     0.41\n",
      "\n",
      "Normalization factors in integrand: {'diff_event_rate': 2.608321836462818e-33, 'diff_flux_avg_xsec': 1.4631298143494349e-15, 'diff_decay_rate_0': 4.508983015698164e-18}.\n",
      "Normalization factors in MC: {'diff_event_rate': 2.608321836462818e-33, 'diff_flux_avg_xsec': 1.4631298143494349e-15, 'diff_decay_rate_0': 4.508983015698164e-18}.\n",
      "Vegas results for diff_event_rate: 2275.686987782848\n",
      "Vegas results for diff_flux_avg_xsec: 1632.496261781907\n",
      "Vegas results for diff_decay_rate_0: 0.5493339277844222\n",
      "Parent N4 proper decay length: 7.967E+03 cm.\n",
      "\n",
      "Predicted (0.158 +/- 0.00604) events.\n",
      "\n",
      "Appending nu(mu) C12 --> N4  C12 --> nu_light mu+ mu- C12\n",
      "DEBUG: Forcing the storage of the df.attrs using the first dataframe. This is done automatically for newer versions of pandas.\n",
      "nu(mu) proton_in_C12 --> N4  proton_in_C12 --> nu_light mu+ mu- proton_in_C12\n",
      "Helicity conserving upscattering.\n",
      "N4 three-body decays.\n",
      "Running VEGAS for DIM=6\n",
      "Throwing an initial 10000 random points to find the normalization\n",
      "Normalization factors in integrand: {'diff_event_rate': 1, 'diff_flux_avg_xsec': 1, 'diff_decay_rate_0': 1}.\n",
      "Throwing successful\n",
      "Normalization factors in integrand: {'diff_event_rate': 4.120840361364836e-29, 'diff_flux_avg_xsec': 2.296573002862348e-10, 'diff_decay_rate_0': 5.470930253888995e-19}.\n",
      "Normalization factors in integrand: {'diff_event_rate': 4.120840361364836e-29, 'diff_flux_avg_xsec': 2.296573002862348e-10, 'diff_decay_rate_0': 5.470930253888995e-19}.\n",
      "Normalization factors in integrand: {'diff_event_rate': 4.120840361364836e-29, 'diff_flux_avg_xsec': 2.296573002862348e-10, 'diff_decay_rate_0': 5.470930253888995e-19}.\n",
      "Normalization factors in integrand: {'diff_event_rate': 4.120840361364836e-29, 'diff_flux_avg_xsec': 2.296573002862348e-10, 'diff_decay_rate_0': 5.470930253888995e-19}.\n",
      "Normalization factors in integrand: {'diff_event_rate': 4.120840361364836e-29, 'diff_flux_avg_xsec': 2.296573002862348e-10, 'diff_decay_rate_0': 5.470930253888995e-19}.\n",
      "Normalization factors in integrand: {'diff_event_rate': 4.120840361364836e-29, 'diff_flux_avg_xsec': 2.296573002862348e-10, 'diff_decay_rate_0': 5.470930253888995e-19}.\n",
      "Normalization factors in integrand: {'diff_event_rate': 4.120840361364836e-29, 'diff_flux_avg_xsec': 2.296573002862348e-10, 'diff_decay_rate_0': 5.470930253888995e-19}.\n",
      "Normalization factors in integrand: {'diff_event_rate': 4.120840361364836e-29, 'diff_flux_avg_xsec': 2.296573002862348e-10, 'diff_decay_rate_0': 5.470930253888995e-19}.\n",
      "Normalization factors in integrand: {'diff_event_rate': 4.120840361364836e-29, 'diff_flux_avg_xsec': 2.296573002862348e-10, 'diff_decay_rate_0': 5.470930253888995e-19}.\n",
      "Normalization factors in integrand: {'diff_event_rate': 4.120840361364836e-29, 'diff_flux_avg_xsec': 2.296573002862348e-10, 'diff_decay_rate_0': 5.470930253888995e-19}.\n",
      "Normalization factors in integrand: {'diff_event_rate': 4.120840361364836e-29, 'diff_flux_avg_xsec': 2.296573002862348e-10, 'diff_decay_rate_0': 5.470930253888995e-19}.\n",
      "VEGAS warm-up completed.\n",
      "Normalization factors in integrand: {'diff_event_rate': 4.120840361364836e-29, 'diff_flux_avg_xsec': 2.296573002862348e-10, 'diff_decay_rate_0': 5.470930253888995e-19}.\n",
      "Normalization factors in integrand: {'diff_event_rate': 4.120840361364836e-29, 'diff_flux_avg_xsec': 2.296573002862348e-10, 'diff_decay_rate_0': 5.470930253888995e-19}.\n",
      "Normalization factors in integrand: {'diff_event_rate': 4.120840361364836e-29, 'diff_flux_avg_xsec': 2.296573002862348e-10, 'diff_decay_rate_0': 5.470930253888995e-19}.\n",
      "Normalization factors in integrand: {'diff_event_rate': 4.120840361364836e-29, 'diff_flux_avg_xsec': 2.296573002862348e-10, 'diff_decay_rate_0': 5.470930253888995e-19}.\n",
      "Normalization factors in integrand: {'diff_event_rate': 4.120840361364836e-29, 'diff_flux_avg_xsec': 2.296573002862348e-10, 'diff_decay_rate_0': 5.470930253888995e-19}.\n",
      "Normalization factors in integrand: {'diff_event_rate': 4.120840361364836e-29, 'diff_flux_avg_xsec': 2.296573002862348e-10, 'diff_decay_rate_0': 5.470930253888995e-19}.\n",
      "Normalization factors in integrand: {'diff_event_rate': 4.120840361364836e-29, 'diff_flux_avg_xsec': 2.296573002862348e-10, 'diff_decay_rate_0': 5.470930253888995e-19}.\n",
      "Normalization factors in integrand: {'diff_event_rate': 4.120840361364836e-29, 'diff_flux_avg_xsec': 2.296573002862348e-10, 'diff_decay_rate_0': 5.470930253888995e-19}.\n",
      "Normalization factors in integrand: {'diff_event_rate': 4.120840361364836e-29, 'diff_flux_avg_xsec': 2.296573002862348e-10, 'diff_decay_rate_0': 5.470930253888995e-19}.\n",
      "Normalization factors in integrand: {'diff_event_rate': 4.120840361364836e-29, 'diff_flux_avg_xsec': 2.296573002862348e-10, 'diff_decay_rate_0': 5.470930253888995e-19}.\n",
      "Normalization factors in integrand: {'diff_event_rate': 4.120840361364836e-29, 'diff_flux_avg_xsec': 2.296573002862348e-10, 'diff_decay_rate_0': 5.470930253888995e-19}.\n",
      "Normalization factors in integrand: {'diff_event_rate': 4.120840361364836e-29, 'diff_flux_avg_xsec': 2.296573002862348e-10, 'diff_decay_rate_0': 5.470930253888995e-19}.\n",
      "Normalization factors in integrand: {'diff_event_rate': 4.120840361364836e-29, 'diff_flux_avg_xsec': 2.296573002862348e-10, 'diff_decay_rate_0': 5.470930253888995e-19}.\n",
      "Normalization factors in integrand: {'diff_event_rate': 4.120840361364836e-29, 'diff_flux_avg_xsec': 2.296573002862348e-10, 'diff_decay_rate_0': 5.470930253888995e-19}.\n",
      "Normalization factors in integrand: {'diff_event_rate': 4.120840361364836e-29, 'diff_flux_avg_xsec': 2.296573002862348e-10, 'diff_decay_rate_0': 5.470930253888995e-19}.\n",
      "Normalization factors in integrand: {'diff_event_rate': 4.120840361364836e-29, 'diff_flux_avg_xsec': 2.296573002862348e-10, 'diff_decay_rate_0': 5.470930253888995e-19}.\n",
      "Normalization factors in integrand: {'diff_event_rate': 4.120840361364836e-29, 'diff_flux_avg_xsec': 2.296573002862348e-10, 'diff_decay_rate_0': 5.470930253888995e-19}.\n",
      "Normalization factors in integrand: {'diff_event_rate': 4.120840361364836e-29, 'diff_flux_avg_xsec': 2.296573002862348e-10, 'diff_decay_rate_0': 5.470930253888995e-19}.\n",
      "Normalization factors in integrand: {'diff_event_rate': 4.120840361364836e-29, 'diff_flux_avg_xsec': 2.296573002862348e-10, 'diff_decay_rate_0': 5.470930253888995e-19}.\n",
      "Normalization factors in integrand: {'diff_event_rate': 4.120840361364836e-29, 'diff_flux_avg_xsec': 2.296573002862348e-10, 'diff_decay_rate_0': 5.470930253888995e-19}.\n",
      "Normalization factors in integrand: {'diff_event_rate': 4.120840361364836e-29, 'diff_flux_avg_xsec': 2.296573002862348e-10, 'diff_decay_rate_0': 5.470930253888995e-19}.\n",
      "Main VEGAS run completed.\n",
      "Vegas results for the integrals: itn   integral        wgt average     chi2/dof        Q\n",
      "-------------------------------------------------------\n",
      "  1   52.78(48)       52.78(48)           0.00     1.00\n",
      "  2   53.44(43)       53.14(32)           0.40     0.75\n",
      "  3   52.15(44)       52.81(26)           0.97     0.45\n",
      "  4   52.86(45)       52.82(22)           0.66     0.75\n",
      "  5   52.51(41)       52.74(20)           0.61     0.84\n",
      "  6   52.44(45)       52.71(18)           0.73     0.75\n",
      "  7   52.62(40)       52.70(16)           0.62     0.88\n",
      "  8   52.68(45)       52.70(15)           0.63     0.90\n",
      "  9   52.42(42)       52.67(14)           0.62     0.93\n",
      " 10   52.72(46)       52.67(14)           0.56     0.97\n",
      " 11   52.95(42)       52.70(13)           0.55     0.98\n",
      " 12   51.79(43)       52.63(12)           0.66     0.94\n",
      " 13   52.57(40)       52.62(12)           0.69     0.92\n",
      " 14   52.88(45)       52.63(11)           0.85     0.74\n",
      " 15   53.58(50)       52.68(11)           0.93     0.60\n",
      " 16   52.66(42)       52.68(11)           0.91     0.65\n",
      " 17   53.27(42)       52.72(10)           0.93     0.61\n",
      " 18   52.91(45)       52.73(10)           0.93     0.62\n",
      " 19   52.86(43)       52.738(98)          0.94     0.60\n",
      " 20   52.87(43)       52.747(96)          0.95     0.58\n",
      "\n",
      "Normalization factors in integrand: {'diff_event_rate': 4.120840361364836e-29, 'diff_flux_avg_xsec': 2.296573002862348e-10, 'diff_decay_rate_0': 5.470930253888995e-19}.\n",
      "Normalization factors in MC: {'diff_event_rate': 4.120840361364836e-29, 'diff_flux_avg_xsec': 2.296573002862348e-10, 'diff_decay_rate_0': 5.470930253888995e-19}.\n",
      "Vegas results for diff_event_rate: 52.67911046932765\n",
      "Vegas results for diff_flux_avg_xsec: 3.8249581545194324\n",
      "Vegas results for diff_decay_rate_0: 4.511871359357736\n",
      "Parent N4 proper decay length: 7.994E+03 cm.\n",
      "\n",
      "Predicted (348 +/- 12.9) events.\n",
      "\n",
      "Appending nu(mu) proton_in_C12 --> N4  proton_in_C12 --> nu_light mu+ mu- proton_in_C12\n",
      "DEBUG: Forcing the storage of the df.attrs using the first dataframe. This is done automatically for newer versions of pandas.\n",
      "nu(mu) proton_in_C12 --> N4  proton_in_C12 --> nu_light mu+ mu- proton_in_C12\n",
      "Helicity flipping upscattering.\n",
      "N4 three-body decays.\n",
      "Running VEGAS for DIM=6\n",
      "Throwing an initial 10000 random points to find the normalization\n",
      "Normalization factors in integrand: {'diff_event_rate': 1, 'diff_flux_avg_xsec': 1, 'diff_decay_rate_0': 1}.\n",
      "Throwing successful\n",
      "Normalization factors in integrand: {'diff_event_rate': 1.2161625113972878e-31, 'diff_flux_avg_xsec': 1.4307092644842611e-13, 'diff_decay_rate_0': 1.013046207560097e-18}.\n",
      "Normalization factors in integrand: {'diff_event_rate': 1.2161625113972878e-31, 'diff_flux_avg_xsec': 1.4307092644842611e-13, 'diff_decay_rate_0': 1.013046207560097e-18}.\n",
      "Normalization factors in integrand: {'diff_event_rate': 1.2161625113972878e-31, 'diff_flux_avg_xsec': 1.4307092644842611e-13, 'diff_decay_rate_0': 1.013046207560097e-18}.\n",
      "Normalization factors in integrand: {'diff_event_rate': 1.2161625113972878e-31, 'diff_flux_avg_xsec': 1.4307092644842611e-13, 'diff_decay_rate_0': 1.013046207560097e-18}.\n",
      "Normalization factors in integrand: {'diff_event_rate': 1.2161625113972878e-31, 'diff_flux_avg_xsec': 1.4307092644842611e-13, 'diff_decay_rate_0': 1.013046207560097e-18}.\n",
      "Normalization factors in integrand: {'diff_event_rate': 1.2161625113972878e-31, 'diff_flux_avg_xsec': 1.4307092644842611e-13, 'diff_decay_rate_0': 1.013046207560097e-18}.\n",
      "Normalization factors in integrand: {'diff_event_rate': 1.2161625113972878e-31, 'diff_flux_avg_xsec': 1.4307092644842611e-13, 'diff_decay_rate_0': 1.013046207560097e-18}.\n",
      "Normalization factors in integrand: {'diff_event_rate': 1.2161625113972878e-31, 'diff_flux_avg_xsec': 1.4307092644842611e-13, 'diff_decay_rate_0': 1.013046207560097e-18}.\n",
      "Normalization factors in integrand: {'diff_event_rate': 1.2161625113972878e-31, 'diff_flux_avg_xsec': 1.4307092644842611e-13, 'diff_decay_rate_0': 1.013046207560097e-18}.\n",
      "Normalization factors in integrand: {'diff_event_rate': 1.2161625113972878e-31, 'diff_flux_avg_xsec': 1.4307092644842611e-13, 'diff_decay_rate_0': 1.013046207560097e-18}.\n",
      "Normalization factors in integrand: {'diff_event_rate': 1.2161625113972878e-31, 'diff_flux_avg_xsec': 1.4307092644842611e-13, 'diff_decay_rate_0': 1.013046207560097e-18}.\n",
      "VEGAS warm-up completed.\n",
      "Normalization factors in integrand: {'diff_event_rate': 1.2161625113972878e-31, 'diff_flux_avg_xsec': 1.4307092644842611e-13, 'diff_decay_rate_0': 1.013046207560097e-18}.\n",
      "Normalization factors in integrand: {'diff_event_rate': 1.2161625113972878e-31, 'diff_flux_avg_xsec': 1.4307092644842611e-13, 'diff_decay_rate_0': 1.013046207560097e-18}.\n",
      "Normalization factors in integrand: {'diff_event_rate': 1.2161625113972878e-31, 'diff_flux_avg_xsec': 1.4307092644842611e-13, 'diff_decay_rate_0': 1.013046207560097e-18}.\n",
      "Normalization factors in integrand: {'diff_event_rate': 1.2161625113972878e-31, 'diff_flux_avg_xsec': 1.4307092644842611e-13, 'diff_decay_rate_0': 1.013046207560097e-18}.\n",
      "Normalization factors in integrand: {'diff_event_rate': 1.2161625113972878e-31, 'diff_flux_avg_xsec': 1.4307092644842611e-13, 'diff_decay_rate_0': 1.013046207560097e-18}.\n",
      "Normalization factors in integrand: {'diff_event_rate': 1.2161625113972878e-31, 'diff_flux_avg_xsec': 1.4307092644842611e-13, 'diff_decay_rate_0': 1.013046207560097e-18}.\n",
      "Normalization factors in integrand: {'diff_event_rate': 1.2161625113972878e-31, 'diff_flux_avg_xsec': 1.4307092644842611e-13, 'diff_decay_rate_0': 1.013046207560097e-18}.\n",
      "Normalization factors in integrand: {'diff_event_rate': 1.2161625113972878e-31, 'diff_flux_avg_xsec': 1.4307092644842611e-13, 'diff_decay_rate_0': 1.013046207560097e-18}.\n",
      "Normalization factors in integrand: {'diff_event_rate': 1.2161625113972878e-31, 'diff_flux_avg_xsec': 1.4307092644842611e-13, 'diff_decay_rate_0': 1.013046207560097e-18}.\n",
      "Normalization factors in integrand: {'diff_event_rate': 1.2161625113972878e-31, 'diff_flux_avg_xsec': 1.4307092644842611e-13, 'diff_decay_rate_0': 1.013046207560097e-18}.\n",
      "Normalization factors in integrand: {'diff_event_rate': 1.2161625113972878e-31, 'diff_flux_avg_xsec': 1.4307092644842611e-13, 'diff_decay_rate_0': 1.013046207560097e-18}.\n",
      "Normalization factors in integrand: {'diff_event_rate': 1.2161625113972878e-31, 'diff_flux_avg_xsec': 1.4307092644842611e-13, 'diff_decay_rate_0': 1.013046207560097e-18}.\n",
      "Normalization factors in integrand: {'diff_event_rate': 1.2161625113972878e-31, 'diff_flux_avg_xsec': 1.4307092644842611e-13, 'diff_decay_rate_0': 1.013046207560097e-18}.\n",
      "Normalization factors in integrand: {'diff_event_rate': 1.2161625113972878e-31, 'diff_flux_avg_xsec': 1.4307092644842611e-13, 'diff_decay_rate_0': 1.013046207560097e-18}.\n",
      "Normalization factors in integrand: {'diff_event_rate': 1.2161625113972878e-31, 'diff_flux_avg_xsec': 1.4307092644842611e-13, 'diff_decay_rate_0': 1.013046207560097e-18}.\n",
      "Normalization factors in integrand: {'diff_event_rate': 1.2161625113972878e-31, 'diff_flux_avg_xsec': 1.4307092644842611e-13, 'diff_decay_rate_0': 1.013046207560097e-18}.\n",
      "Normalization factors in integrand: {'diff_event_rate': 1.2161625113972878e-31, 'diff_flux_avg_xsec': 1.4307092644842611e-13, 'diff_decay_rate_0': 1.013046207560097e-18}.\n",
      "Normalization factors in integrand: {'diff_event_rate': 1.2161625113972878e-31, 'diff_flux_avg_xsec': 1.4307092644842611e-13, 'diff_decay_rate_0': 1.013046207560097e-18}.\n",
      "Normalization factors in integrand: {'diff_event_rate': 1.2161625113972878e-31, 'diff_flux_avg_xsec': 1.4307092644842611e-13, 'diff_decay_rate_0': 1.013046207560097e-18}.\n",
      "Normalization factors in integrand: {'diff_event_rate': 1.2161625113972878e-31, 'diff_flux_avg_xsec': 1.4307092644842611e-13, 'diff_decay_rate_0': 1.013046207560097e-18}.\n",
      "Normalization factors in integrand: {'diff_event_rate': 1.2161625113972878e-31, 'diff_flux_avg_xsec': 1.4307092644842611e-13, 'diff_decay_rate_0': 1.013046207560097e-18}.\n",
      "Main VEGAS run completed.\n",
      "Vegas results for the integrals: itn   integral        wgt average     chi2/dof        Q\n",
      "-------------------------------------------------------\n",
      "  1   290.4(3.0)      290.4(3.0)          0.00     1.00\n",
      "  2   280.3(2.8)      285.1(2.1)          2.48     0.06\n",
      "  3   281.1(2.7)      283.5(1.6)          1.53     0.17\n",
      "  4   278.6(2.4)      282.2(1.3)          1.57     0.12\n",
      "  5   284.6(2.4)      282.8(1.2)          1.25     0.24\n",
      "  6   285.5(2.4)      283.3(1.0)          1.28     0.21\n",
      "  7   282.2(2.6)      283.15(97)          1.30     0.18\n",
      "  8   287.7(3.1)      283.67(92)          1.27     0.18\n",
      "  9   284.9(2.9)      283.81(88)          1.15     0.28\n",
      " 10   282.9(2.7)      283.73(83)          1.08     0.36\n",
      " 11   286.9(2.8)      284.00(80)          1.21     0.19\n",
      " 12   285.5(2.7)      284.13(77)          1.12     0.29\n",
      " 13   283.8(2.4)      284.09(73)          1.08     0.34\n",
      " 14   289.9(2.7)      284.52(70)          1.23     0.15\n",
      " 15   288.1(2.6)      284.77(68)          1.20     0.17\n",
      " 16   286.5(2.7)      284.83(66)          1.20     0.16\n",
      " 17   280.9(2.8)      284.63(64)          1.18     0.19\n",
      " 18   283.9(2.6)      284.60(62)          1.13     0.24\n",
      " 19   285.3(2.7)      284.64(60)          1.07     0.33\n",
      " 20   287.0(2.6)      284.79(59)          1.09     0.30\n",
      "\n",
      "Normalization factors in integrand: {'diff_event_rate': 1.2161625113972878e-31, 'diff_flux_avg_xsec': 1.4307092644842611e-13, 'diff_decay_rate_0': 1.013046207560097e-18}.\n",
      "Normalization factors in MC: {'diff_event_rate': 1.2161625113972878e-31, 'diff_flux_avg_xsec': 1.4307092644842611e-13, 'diff_decay_rate_0': 1.013046207560097e-18}.\n",
      "Vegas results for diff_event_rate: 287.5767643323645\n",
      "Vegas results for diff_flux_avg_xsec: 98.20938948248825\n",
      "Vegas results for diff_decay_rate_0: 2.455300076051846\n",
      "Parent N4 proper decay length: 7.933E+03 cm.\n",
      "\n",
      "Predicted (5.57 +/- 0.208) events.\n",
      "\n",
      "Appending nu(mu) proton_in_C12 --> N4  proton_in_C12 --> nu_light mu+ mu- proton_in_C12\n",
      "DEBUG: Forcing the storage of the df.attrs using the first dataframe. This is done automatically for newer versions of pandas.\n",
      "nu(mu) proton_in_H1 --> N4  proton_in_H1 --> nu_light mu+ mu- proton_in_H1\n",
      "Helicity conserving upscattering.\n",
      "N4 three-body decays.\n",
      "Running VEGAS for DIM=6\n",
      "Throwing an initial 10000 random points to find the normalization\n",
      "Normalization factors in integrand: {'diff_event_rate': 1, 'diff_flux_avg_xsec': 1, 'diff_decay_rate_0': 1}.\n",
      "Throwing successful\n",
      "Normalization factors in integrand: {'diff_event_rate': 1.3372778781386397e-27, 'diff_flux_avg_xsec': 1.3614309231977482e-09, 'diff_decay_rate_0': 1.2403302597356867e-18}.\n",
      "Normalization factors in integrand: {'diff_event_rate': 1.3372778781386397e-27, 'diff_flux_avg_xsec': 1.3614309231977482e-09, 'diff_decay_rate_0': 1.2403302597356867e-18}.\n",
      "Normalization factors in integrand: {'diff_event_rate': 1.3372778781386397e-27, 'diff_flux_avg_xsec': 1.3614309231977482e-09, 'diff_decay_rate_0': 1.2403302597356867e-18}.\n",
      "Normalization factors in integrand: {'diff_event_rate': 1.3372778781386397e-27, 'diff_flux_avg_xsec': 1.3614309231977482e-09, 'diff_decay_rate_0': 1.2403302597356867e-18}.\n",
      "Normalization factors in integrand: {'diff_event_rate': 1.3372778781386397e-27, 'diff_flux_avg_xsec': 1.3614309231977482e-09, 'diff_decay_rate_0': 1.2403302597356867e-18}.\n",
      "Normalization factors in integrand: {'diff_event_rate': 1.3372778781386397e-27, 'diff_flux_avg_xsec': 1.3614309231977482e-09, 'diff_decay_rate_0': 1.2403302597356867e-18}.\n",
      "Normalization factors in integrand: {'diff_event_rate': 1.3372778781386397e-27, 'diff_flux_avg_xsec': 1.3614309231977482e-09, 'diff_decay_rate_0': 1.2403302597356867e-18}.\n",
      "Normalization factors in integrand: {'diff_event_rate': 1.3372778781386397e-27, 'diff_flux_avg_xsec': 1.3614309231977482e-09, 'diff_decay_rate_0': 1.2403302597356867e-18}.\n",
      "Normalization factors in integrand: {'diff_event_rate': 1.3372778781386397e-27, 'diff_flux_avg_xsec': 1.3614309231977482e-09, 'diff_decay_rate_0': 1.2403302597356867e-18}.\n",
      "Normalization factors in integrand: {'diff_event_rate': 1.3372778781386397e-27, 'diff_flux_avg_xsec': 1.3614309231977482e-09, 'diff_decay_rate_0': 1.2403302597356867e-18}.\n",
      "Normalization factors in integrand: {'diff_event_rate': 1.3372778781386397e-27, 'diff_flux_avg_xsec': 1.3614309231977482e-09, 'diff_decay_rate_0': 1.2403302597356867e-18}.\n",
      "VEGAS warm-up completed.\n",
      "Normalization factors in integrand: {'diff_event_rate': 1.3372778781386397e-27, 'diff_flux_avg_xsec': 1.3614309231977482e-09, 'diff_decay_rate_0': 1.2403302597356867e-18}.\n",
      "Normalization factors in integrand: {'diff_event_rate': 1.3372778781386397e-27, 'diff_flux_avg_xsec': 1.3614309231977482e-09, 'diff_decay_rate_0': 1.2403302597356867e-18}.\n",
      "Normalization factors in integrand: {'diff_event_rate': 1.3372778781386397e-27, 'diff_flux_avg_xsec': 1.3614309231977482e-09, 'diff_decay_rate_0': 1.2403302597356867e-18}.\n",
      "Normalization factors in integrand: {'diff_event_rate': 1.3372778781386397e-27, 'diff_flux_avg_xsec': 1.3614309231977482e-09, 'diff_decay_rate_0': 1.2403302597356867e-18}.\n",
      "Normalization factors in integrand: {'diff_event_rate': 1.3372778781386397e-27, 'diff_flux_avg_xsec': 1.3614309231977482e-09, 'diff_decay_rate_0': 1.2403302597356867e-18}.\n",
      "Normalization factors in integrand: {'diff_event_rate': 1.3372778781386397e-27, 'diff_flux_avg_xsec': 1.3614309231977482e-09, 'diff_decay_rate_0': 1.2403302597356867e-18}.\n",
      "Normalization factors in integrand: {'diff_event_rate': 1.3372778781386397e-27, 'diff_flux_avg_xsec': 1.3614309231977482e-09, 'diff_decay_rate_0': 1.2403302597356867e-18}.\n",
      "Normalization factors in integrand: {'diff_event_rate': 1.3372778781386397e-27, 'diff_flux_avg_xsec': 1.3614309231977482e-09, 'diff_decay_rate_0': 1.2403302597356867e-18}.\n",
      "Normalization factors in integrand: {'diff_event_rate': 1.3372778781386397e-27, 'diff_flux_avg_xsec': 1.3614309231977482e-09, 'diff_decay_rate_0': 1.2403302597356867e-18}.\n",
      "Normalization factors in integrand: {'diff_event_rate': 1.3372778781386397e-27, 'diff_flux_avg_xsec': 1.3614309231977482e-09, 'diff_decay_rate_0': 1.2403302597356867e-18}.\n",
      "Normalization factors in integrand: {'diff_event_rate': 1.3372778781386397e-27, 'diff_flux_avg_xsec': 1.3614309231977482e-09, 'diff_decay_rate_0': 1.2403302597356867e-18}.\n",
      "Normalization factors in integrand: {'diff_event_rate': 1.3372778781386397e-27, 'diff_flux_avg_xsec': 1.3614309231977482e-09, 'diff_decay_rate_0': 1.2403302597356867e-18}.\n",
      "Normalization factors in integrand: {'diff_event_rate': 1.3372778781386397e-27, 'diff_flux_avg_xsec': 1.3614309231977482e-09, 'diff_decay_rate_0': 1.2403302597356867e-18}.\n",
      "Normalization factors in integrand: {'diff_event_rate': 1.3372778781386397e-27, 'diff_flux_avg_xsec': 1.3614309231977482e-09, 'diff_decay_rate_0': 1.2403302597356867e-18}.\n",
      "Normalization factors in integrand: {'diff_event_rate': 1.3372778781386397e-27, 'diff_flux_avg_xsec': 1.3614309231977482e-09, 'diff_decay_rate_0': 1.2403302597356867e-18}.\n",
      "Normalization factors in integrand: {'diff_event_rate': 1.3372778781386397e-27, 'diff_flux_avg_xsec': 1.3614309231977482e-09, 'diff_decay_rate_0': 1.2403302597356867e-18}.\n",
      "Normalization factors in integrand: {'diff_event_rate': 1.3372778781386397e-27, 'diff_flux_avg_xsec': 1.3614309231977482e-09, 'diff_decay_rate_0': 1.2403302597356867e-18}.\n",
      "Normalization factors in integrand: {'diff_event_rate': 1.3372778781386397e-27, 'diff_flux_avg_xsec': 1.3614309231977482e-09, 'diff_decay_rate_0': 1.2403302597356867e-18}.\n",
      "Normalization factors in integrand: {'diff_event_rate': 1.3372778781386397e-27, 'diff_flux_avg_xsec': 1.3614309231977482e-09, 'diff_decay_rate_0': 1.2403302597356867e-18}.\n",
      "Normalization factors in integrand: {'diff_event_rate': 1.3372778781386397e-27, 'diff_flux_avg_xsec': 1.3614309231977482e-09, 'diff_decay_rate_0': 1.2403302597356867e-18}.\n",
      "Normalization factors in integrand: {'diff_event_rate': 1.3372778781386397e-27, 'diff_flux_avg_xsec': 1.3614309231977482e-09, 'diff_decay_rate_0': 1.2403302597356867e-18}.\n",
      "Main VEGAS run completed.\n",
      "Vegas results for the integrals: itn   integral        wgt average     chi2/dof        Q\n",
      "-------------------------------------------------------\n",
      "  1   1.623(17)       1.623(17)           0.00     1.00\n",
      "  2   1.632(14)       1.628(11)           0.13     0.94\n",
      "  3   1.616(14)       1.6263(86)          1.30     0.25\n",
      "  4   1.605(14)       1.6200(73)          1.08     0.37\n",
      "  5   1.634(12)       1.6237(62)          0.91     0.54\n",
      "  6   1.618(13)       1.6226(56)          0.80     0.68\n",
      "  7   1.630(14)       1.6235(52)          0.70     0.82\n",
      "  8   1.629(13)       1.6239(48)          0.76     0.77\n",
      "  9   1.622(13)       1.6240(45)          0.78     0.77\n",
      " 10   1.632(12)       1.6251(42)          0.72     0.85\n",
      " 11   1.613(13)       1.6241(40)          0.79     0.78\n",
      " 12   1.627(13)       1.6243(38)          0.75     0.85\n",
      " 13   1.626(12)       1.6244(36)          0.70     0.91\n",
      " 14   1.630(13)       1.6250(35)          0.66     0.95\n",
      " 15   1.621(13)       1.6247(34)          0.63     0.97\n",
      " 16   1.605(13)       1.6234(33)          0.64     0.97\n",
      " 17   1.632(17)       1.6235(32)          0.63     0.98\n",
      " 18   1.610(14)       1.6229(31)          0.61     0.99\n",
      " 19   1.649(15)       1.6240(30)          0.64     0.98\n",
      " 20   1.638(16)       1.6244(30)          0.64     0.98\n",
      "\n",
      "Normalization factors in integrand: {'diff_event_rate': 1.3372778781386397e-27, 'diff_flux_avg_xsec': 1.3614309231977482e-09, 'diff_decay_rate_0': 1.2403302597356867e-18}.\n",
      "Normalization factors in MC: {'diff_event_rate': 1.3372778781386397e-27, 'diff_flux_avg_xsec': 1.3614309231977482e-09, 'diff_decay_rate_0': 1.2403302597356867e-18}.\n",
      "Vegas results for diff_event_rate: 1.6448510777803564\n",
      "Vegas results for diff_flux_avg_xsec: 0.6458984442534612\n",
      "Vegas results for diff_decay_rate_0: 2.013808668720394\n",
      "Parent N4 proper decay length: 7.900E+03 cm.\n",
      "\n",
      "Predicted (115 +/- 4.3) events.\n",
      "\n",
      "Appending nu(mu) proton_in_H1 --> N4  proton_in_H1 --> nu_light mu+ mu- proton_in_H1\n",
      "DEBUG: Forcing the storage of the df.attrs using the first dataframe. This is done automatically for newer versions of pandas.\n",
      "nu(mu) proton_in_H1 --> N4  proton_in_H1 --> nu_light mu+ mu- proton_in_H1\n",
      "Helicity flipping upscattering.\n",
      "N4 three-body decays.\n",
      "Running VEGAS for DIM=6\n",
      "Throwing an initial 10000 random points to find the normalization\n",
      "Normalization factors in integrand: {'diff_event_rate': 1, 'diff_flux_avg_xsec': 1, 'diff_decay_rate_0': 1}.\n",
      "Throwing successful\n",
      "Normalization factors in integrand: {'diff_event_rate': 1.0926330559186835e-31, 'diff_flux_avg_xsec': 1.903677291035677e-11, 'diff_decay_rate_0': 1.1645250089816188e-18}.\n",
      "Normalization factors in integrand: {'diff_event_rate': 1.0926330559186835e-31, 'diff_flux_avg_xsec': 1.903677291035677e-11, 'diff_decay_rate_0': 1.1645250089816188e-18}.\n",
      "Normalization factors in integrand: {'diff_event_rate': 1.0926330559186835e-31, 'diff_flux_avg_xsec': 1.903677291035677e-11, 'diff_decay_rate_0': 1.1645250089816188e-18}.\n",
      "Normalization factors in integrand: {'diff_event_rate': 1.0926330559186835e-31, 'diff_flux_avg_xsec': 1.903677291035677e-11, 'diff_decay_rate_0': 1.1645250089816188e-18}.\n",
      "Normalization factors in integrand: {'diff_event_rate': 1.0926330559186835e-31, 'diff_flux_avg_xsec': 1.903677291035677e-11, 'diff_decay_rate_0': 1.1645250089816188e-18}.\n",
      "Normalization factors in integrand: {'diff_event_rate': 1.0926330559186835e-31, 'diff_flux_avg_xsec': 1.903677291035677e-11, 'diff_decay_rate_0': 1.1645250089816188e-18}.\n",
      "Normalization factors in integrand: {'diff_event_rate': 1.0926330559186835e-31, 'diff_flux_avg_xsec': 1.903677291035677e-11, 'diff_decay_rate_0': 1.1645250089816188e-18}.\n",
      "Normalization factors in integrand: {'diff_event_rate': 1.0926330559186835e-31, 'diff_flux_avg_xsec': 1.903677291035677e-11, 'diff_decay_rate_0': 1.1645250089816188e-18}.\n",
      "Normalization factors in integrand: {'diff_event_rate': 1.0926330559186835e-31, 'diff_flux_avg_xsec': 1.903677291035677e-11, 'diff_decay_rate_0': 1.1645250089816188e-18}.\n",
      "Normalization factors in integrand: {'diff_event_rate': 1.0926330559186835e-31, 'diff_flux_avg_xsec': 1.903677291035677e-11, 'diff_decay_rate_0': 1.1645250089816188e-18}.\n",
      "Normalization factors in integrand: {'diff_event_rate': 1.0926330559186835e-31, 'diff_flux_avg_xsec': 1.903677291035677e-11, 'diff_decay_rate_0': 1.1645250089816188e-18}.\n",
      "VEGAS warm-up completed.\n",
      "Normalization factors in integrand: {'diff_event_rate': 1.0926330559186835e-31, 'diff_flux_avg_xsec': 1.903677291035677e-11, 'diff_decay_rate_0': 1.1645250089816188e-18}.\n",
      "Normalization factors in integrand: {'diff_event_rate': 1.0926330559186835e-31, 'diff_flux_avg_xsec': 1.903677291035677e-11, 'diff_decay_rate_0': 1.1645250089816188e-18}.\n",
      "Normalization factors in integrand: {'diff_event_rate': 1.0926330559186835e-31, 'diff_flux_avg_xsec': 1.903677291035677e-11, 'diff_decay_rate_0': 1.1645250089816188e-18}.\n",
      "Normalization factors in integrand: {'diff_event_rate': 1.0926330559186835e-31, 'diff_flux_avg_xsec': 1.903677291035677e-11, 'diff_decay_rate_0': 1.1645250089816188e-18}.\n",
      "Normalization factors in integrand: {'diff_event_rate': 1.0926330559186835e-31, 'diff_flux_avg_xsec': 1.903677291035677e-11, 'diff_decay_rate_0': 1.1645250089816188e-18}.\n",
      "Normalization factors in integrand: {'diff_event_rate': 1.0926330559186835e-31, 'diff_flux_avg_xsec': 1.903677291035677e-11, 'diff_decay_rate_0': 1.1645250089816188e-18}.\n",
      "Normalization factors in integrand: {'diff_event_rate': 1.0926330559186835e-31, 'diff_flux_avg_xsec': 1.903677291035677e-11, 'diff_decay_rate_0': 1.1645250089816188e-18}.\n",
      "Normalization factors in integrand: {'diff_event_rate': 1.0926330559186835e-31, 'diff_flux_avg_xsec': 1.903677291035677e-11, 'diff_decay_rate_0': 1.1645250089816188e-18}.\n",
      "Normalization factors in integrand: {'diff_event_rate': 1.0926330559186835e-31, 'diff_flux_avg_xsec': 1.903677291035677e-11, 'diff_decay_rate_0': 1.1645250089816188e-18}.\n",
      "Normalization factors in integrand: {'diff_event_rate': 1.0926330559186835e-31, 'diff_flux_avg_xsec': 1.903677291035677e-11, 'diff_decay_rate_0': 1.1645250089816188e-18}.\n",
      "Normalization factors in integrand: {'diff_event_rate': 1.0926330559186835e-31, 'diff_flux_avg_xsec': 1.903677291035677e-11, 'diff_decay_rate_0': 1.1645250089816188e-18}.\n",
      "Normalization factors in integrand: {'diff_event_rate': 1.0926330559186835e-31, 'diff_flux_avg_xsec': 1.903677291035677e-11, 'diff_decay_rate_0': 1.1645250089816188e-18}.\n",
      "Normalization factors in integrand: {'diff_event_rate': 1.0926330559186835e-31, 'diff_flux_avg_xsec': 1.903677291035677e-11, 'diff_decay_rate_0': 1.1645250089816188e-18}.\n",
      "Normalization factors in integrand: {'diff_event_rate': 1.0926330559186835e-31, 'diff_flux_avg_xsec': 1.903677291035677e-11, 'diff_decay_rate_0': 1.1645250089816188e-18}.\n",
      "Normalization factors in integrand: {'diff_event_rate': 1.0926330559186835e-31, 'diff_flux_avg_xsec': 1.903677291035677e-11, 'diff_decay_rate_0': 1.1645250089816188e-18}.\n",
      "Normalization factors in integrand: {'diff_event_rate': 1.0926330559186835e-31, 'diff_flux_avg_xsec': 1.903677291035677e-11, 'diff_decay_rate_0': 1.1645250089816188e-18}.\n",
      "Normalization factors in integrand: {'diff_event_rate': 1.0926330559186835e-31, 'diff_flux_avg_xsec': 1.903677291035677e-11, 'diff_decay_rate_0': 1.1645250089816188e-18}.\n",
      "Normalization factors in integrand: {'diff_event_rate': 1.0926330559186835e-31, 'diff_flux_avg_xsec': 1.903677291035677e-11, 'diff_decay_rate_0': 1.1645250089816188e-18}.\n",
      "Normalization factors in integrand: {'diff_event_rate': 1.0926330559186835e-31, 'diff_flux_avg_xsec': 1.903677291035677e-11, 'diff_decay_rate_0': 1.1645250089816188e-18}.\n",
      "Normalization factors in integrand: {'diff_event_rate': 1.0926330559186835e-31, 'diff_flux_avg_xsec': 1.903677291035677e-11, 'diff_decay_rate_0': 1.1645250089816188e-18}.\n",
      "Normalization factors in integrand: {'diff_event_rate': 1.0926330559186835e-31, 'diff_flux_avg_xsec': 1.903677291035677e-11, 'diff_decay_rate_0': 1.1645250089816188e-18}.\n",
      "Main VEGAS run completed.\n",
      "Vegas results for the integrals: itn   integral        wgt average     chi2/dof        Q\n",
      "-------------------------------------------------------\n",
      "  1   316.4(3.1)      316.4(3.1)          0.00     1.00\n",
      "  2   319.2(3.0)      317.7(2.1)          1.99     0.11\n",
      "  3   321.0(2.9)      319.1(1.7)          1.66     0.13\n",
      "  4   318.5(2.9)      319.2(1.5)          1.51     0.14\n",
      "  5   315.1(2.9)      318.5(1.3)          1.50     0.12\n",
      "  6   318.3(2.7)      318.5(1.2)          1.38     0.15\n",
      "  7   312.4(2.7)      317.5(1.1)          1.55     0.06\n",
      "  8   313.8(2.7)      317.2(1.0)          1.74     0.02\n",
      "  9   311.8(2.7)      316.50(94)          1.81     0.01\n",
      " 10   315.5(2.9)      316.39(89)          1.69     0.01\n",
      " 11   322.5(3.9)      316.60(87)          1.64     0.01\n",
      " 12   314.6(3.5)      316.46(84)          1.51     0.03\n",
      " 13   320.3(3.4)      316.74(81)          1.43     0.04\n",
      " 14   314.2(3.2)      316.62(78)          1.43     0.04\n",
      " 15   317.0(3.0)      316.65(76)          1.41     0.04\n",
      " 16   319.5(3.0)      316.83(74)          1.37     0.05\n",
      " 17   319.2(3.4)      316.94(72)          1.34     0.06\n",
      " 18   319.5(3.0)      317.08(70)          1.28     0.09\n",
      " 19   318.6(2.9)      317.17(68)          1.25     0.10\n",
      " 20   311.6(3.2)      316.94(66)          1.26     0.09\n",
      "\n",
      "Normalization factors in integrand: {'diff_event_rate': 1.0926330559186835e-31, 'diff_flux_avg_xsec': 1.903677291035677e-11, 'diff_decay_rate_0': 1.1645250089816188e-18}.\n",
      "Normalization factors in MC: {'diff_event_rate': 1.0926330559186835e-31, 'diff_flux_avg_xsec': 1.903677291035677e-11, 'diff_decay_rate_0': 1.1645250089816188e-18}.\n",
      "Vegas results for diff_event_rate: 313.2422634625913\n",
      "Vegas results for diff_flux_avg_xsec: 0.7259820266373045\n",
      "Vegas results for diff_decay_rate_0: 2.1228754495288946\n",
      "Parent N4 proper decay length: 7.982E+03 cm.\n",
      "\n",
      "Predicted (1.81 +/- 0.0681) events.\n",
      "\n",
      "Appending nu(mu) proton_in_H1 --> N4  proton_in_H1 --> nu_light mu+ mu- proton_in_H1\n",
      "DEBUG: Forcing the storage of the df.attrs using the first dataframe. This is done automatically for newer versions of pandas.\n",
      "---------------------------------------------------------\n",
      "Generation successful\n",
      "\n",
      "Total events predicted:\n",
      "(1.04e+03 +/- 25.1) events.\n",
      "\n",
      "---------------------------------------------------------\n",
      "Events in pandas dataframe saved to file successfully:\n",
      "data/miniboone_fhc/3plus1/m4_0.4_mzprime_0.2_dirac/pandas_df.pckl\n",
      "\n"
     ]
    }
   ],
   "source": [
    "MODEL_KWARGS = {'HNLtype': 'dirac', 'UD4': 1.0, 'alphaD': 0.25, 'Umu4': np.sqrt(9e-7), 'epsilon': np.sqrt(2e-10/const.alphaQED)}\n",
    "\n",
    "gen = GenLauncher(mzprime=0.2, m4=0.4, decay_product='mu+mu-', neval=1000, experiment=\"miniboone_fhc\", loglevel='DEBUG', seed=42, **MODEL_KWARGS)\n",
    "df_heavy = gen.run()\n"
   ]
  },
  {
   "cell_type": "code",
   "execution_count": 32,
   "metadata": {},
   "outputs": [],
   "source": [
    "MODEL_KWARGS = {\"HNLtype\": \"dirac\", \"UD4\": 1.0, \"alphaD\": 0.25, \"Umu4\": np.sqrt(9e-7), \n",
    "                \"epsilon\": np.sqrt(2e-10 / const.alphaQED)}\n",
    "\n",
    "GENERIC_MODEL_KWARGS = {\"HNLtype\": \"dirac\", \"deV\": 1, \"duV\": 1, \"ddV\": 1,\n",
    "                    \"d_mu4\": 1, \"d_mu5\": 1, \"d_mu6\": 1,\n",
    "                    \"d_45\": 1, \"d_56\": 1, \"d_46\": 1}\n",
    "\n",
    "# generate a specific set of events to be tested in a session\n",
    "def SM_gen():\n",
    "    gen = GenLauncher(gD=0.0, Umu4=1e-3, epsilon=0.0, m4=0.01, loglevel='ERROR', neval=1000, seed=42)\n",
    "    return gen.run()\n",
    "\n",
    "def light_DP_gen_all_outputs():\n",
    "    gen = GenLauncher(\n",
    "        mzprime=0.03,\n",
    "        m4=0.420,\n",
    "        neval=1000,\n",
    "        experiment=\"miniboone_fhc\",\n",
    "        loglevel=\"ERROR\",\n",
    "        seed=42,\n",
    "        parquet=True,\n",
    "        numpy=True,\n",
    "        hepevt=True,\n",
    "        hepevt_legacy=True,\n",
    "        hepmc2=True,\n",
    "        hepmc3=True,\n",
    "        **MODEL_KWARGS\n",
    "    )\n",
    "    return gen.run()\n",
    "\n",
    "def generic_model_gen():\n",
    "\n",
    "    gen = GenLauncher(\n",
    "        mzprime=0.03,\n",
    "        m4=0.100,\n",
    "        m5=0.200,\n",
    "        m6=0.300,\n",
    "        neval=1000,\n",
    "        experiment=\"miniboone_fhc\",\n",
    "        loglevel=\"ERROR\",\n",
    "        seed=42,\n",
    "        parquet=True,\n",
    "        numpy=True,\n",
    "        hepevt=True,\n",
    "        hepevt_legacy=True,\n",
    "        hepmc2=True,\n",
    "        hepmc3=True,\n",
    "        hep_unweight=True,\n",
    "        hep_unweight_events=100,\n",
    "        **GENERIC_MODEL_KWARGS\n",
    "    )\n",
    "    return gen.run()\n",
    "\n",
    "def light_DP_gen_all_outputs_sparse():\n",
    "\n",
    "    gen = GenLauncher(\n",
    "        mzprime=0.03,\n",
    "        m4=0.425,\n",
    "        neval=1000,\n",
    "        experiment=\"miniboone_fhc\",\n",
    "        loglevel=\"ERROR\",\n",
    "        seed=42,\n",
    "        parquet=True,\n",
    "        numpy=True,\n",
    "        hepevt=True,\n",
    "        hepevt_legacy=True,\n",
    "        hepmc2=True,\n",
    "        hepmc3=True,\n",
    "        sparse=True,\n",
    "        print_to_float32=True,\n",
    "        **MODEL_KWARGS\n",
    "    )\n",
    "    return gen.run()\n",
    "\n",
    "def gen_simplest_benchmarks():\n",
    "\n",
    "    gen = GenLauncher(mzprime=0.03, m4=0.420, neval=1000, experiment=\"miniboone_fhc\", loglevel=\"ERROR\", seed=42, **MODEL_KWARGS)\n",
    "    df_light = gen.run()\n",
    "\n",
    "    gen = GenLauncher(mzprime=1.25, m4=0.150, neval=1000, experiment=\"miniboone_fhc\", loglevel=\"ERROR\", seed=42, **MODEL_KWARGS)\n",
    "    df_heavy = gen.run()\n",
    "\n",
    "    gen = GenLauncher(mu_tr_mu4=1e-6, m4=0.150, epsilon=0.0, gD=0.0, Umu4=0.0, neval=1000, experiment=\"miniboone_fhc\", loglevel=\"ERROR\", seed=42)\n",
    "    df_TMM = gen.run()\n",
    "\n",
    "    return df_light, df_heavy, df_TMM\n",
    "\n",
    "def gen_other_final_states():\n",
    "\n",
    "    gen = GenLauncher(mzprime=0.3, m4=0.5, decay_product=\"mu+mu-\", neval=1000, experiment=\"miniboone_fhc\", loglevel=\"ERROR\", seed=42, **MODEL_KWARGS)\n",
    "    df_light = gen.run()\n",
    "\n",
    "    gen = GenLauncher(mzprime=1.25, m4=0.5, decay_product=\"mu+mu-\", neval=1000, experiment=\"miniboone_fhc\", loglevel=\"ERROR\", seed=42, **MODEL_KWARGS)\n",
    "    df_heavy = gen.run()\n",
    "\n",
    "    gen = GenLauncher(\n",
    "        mu_tr_mu4=1e-6,\n",
    "        m4=0.5,\n",
    "        epsilon=0.0,\n",
    "        gD=0.0,\n",
    "        decay_product=\"mu+mu-\",\n",
    "        Umu4=0.0,\n",
    "        neval=1000,\n",
    "        HNLtype=\"dirac\",\n",
    "        experiment=\"miniboone_fhc\",\n",
    "        loglevel=\"ERROR\",\n",
    "        seed=42,\n",
    "    )\n",
    "    df_TMM_mumu = gen.run()\n",
    "\n",
    "    gen = GenLauncher(\n",
    "        mu_tr_mu4=1e-6,\n",
    "        m4=0.5,\n",
    "        epsilon=0.0,\n",
    "        gD=0.0,\n",
    "        decay_product=\"photon\",\n",
    "        Umu4=0.0,\n",
    "        neval=1000,\n",
    "        HNLtype=\"dirac\",\n",
    "        experiment=\"miniboone_fhc\",\n",
    "        loglevel=\"ERROR\",\n",
    "        seed=42,\n",
    "    )\n",
    "    df_TMM_photon = gen.run()\n",
    "\n",
    "    return df_light, df_heavy, df_TMM_mumu, df_TMM_photon\n"
   ]
  },
  {
   "cell_type": "code",
   "execution_count": 33,
   "metadata": {},
   "outputs": [
    {
     "data": {
      "text/plain": [
       "0.0383833061138531"
      ]
     },
     "execution_count": 33,
     "metadata": {},
     "output_type": "execute_result"
    }
   ],
   "source": [
    "df = SM_gen()\n",
    "df.w_event_rate.sum()"
   ]
  },
  {
   "cell_type": "code",
   "execution_count": 35,
   "metadata": {},
   "outputs": [
    {
     "name": "stdout",
     "output_type": "stream",
     "text": [
      "13349.332011155739\n",
      "5.502976676512979\n",
      "52283.95934429322\n"
     ]
    }
   ],
   "source": [
    "df_light,df_heavy,df_TMM = gen_simplest_benchmarks()\n",
    "\n",
    "print(df_light.w_event_rate.sum())\n",
    "print(df_heavy.w_event_rate.sum())\n",
    "print(df_TMM.w_event_rate.sum())"
   ]
  },
  {
   "cell_type": "code",
   "execution_count": 36,
   "metadata": {},
   "outputs": [
    {
     "name": "stdout",
     "output_type": "stream",
     "text": [
      "201.95690347250735\n",
      "2.3240714690039566\n",
      "3426.3242951080792\n",
      "3446.7854182166047\n"
     ]
    }
   ],
   "source": [
    "df_light, df_heavy, df_TMM_mumu, df_TMM_photon = gen_other_final_states()\n",
    "\n",
    "print(df_light.w_event_rate.sum())\n",
    "print(df_heavy.w_event_rate.sum())\n",
    "print(df_TMM_mumu.w_event_rate.sum())\n",
    "print(df_TMM_photon.w_event_rate.sum())"
   ]
  },
  {
   "cell_type": "code",
   "execution_count": 4,
   "metadata": {},
   "outputs": [
    {
     "ename": "AttributeError",
     "evalue": "'ThreePortalModel' object has no attribute 'HNLtype'",
     "output_type": "error",
     "traceback": [
      "\u001b[0;31m---------------------------------------------------------------------------\u001b[0m",
      "\u001b[0;31mAttributeError\u001b[0m                            Traceback (most recent call last)",
      "\u001b[1;32m/Users/matheushostert/Repos/DarkNews-generator/examples/test_models.ipynb Cell 3'\u001b[0m in \u001b[0;36m<module>\u001b[0;34m\u001b[0m\n\u001b[0;32m----> <a href='vscode-notebook-cell:/Users/matheushostert/Repos/DarkNews-generator/examples/test_models.ipynb#ch0000002?line=0'>1</a>\u001b[0m bsm_model_1 \u001b[39m=\u001b[39m dn\u001b[39m.\u001b[39;49mmodel\u001b[39m.\u001b[39;49mcreate_3portal_HNL_model(mzprime\u001b[39m=\u001b[39;49m\u001b[39m1.25\u001b[39;49m, m4\u001b[39m=\u001b[39;49m\u001b[39m0.1\u001b[39;49m, m5\u001b[39m=\u001b[39;49m\u001b[39m0.150\u001b[39;49m, Umu4\u001b[39m=\u001b[39;49m\u001b[39m1e-3\u001b[39;49m, Umu5\u001b[39m=\u001b[39;49m\u001b[39m2e-3\u001b[39;49m, UD4\u001b[39m=\u001b[39;49m\u001b[39m0.2\u001b[39;49m, UD5\u001b[39m=\u001b[39;49m\u001b[39m0.2\u001b[39;49m, epsilon\u001b[39m=\u001b[39;49m\u001b[39m1e-4\u001b[39;49m)\n",
      "File \u001b[0;32m~/Repos/DarkNews-generator/src/DarkNews/model.py:40\u001b[0m, in \u001b[0;36mcreate_3portal_HNL_model\u001b[0;34m(**kwargs)\u001b[0m\n\u001b[1;32m     37\u001b[0m bsm_model\u001b[39m.\u001b[39m\u001b[39m__dict__\u001b[39m\u001b[39m.\u001b[39mupdate(kwargs)\n\u001b[1;32m     39\u001b[0m \u001b[39m# lock-in parameters and compute interaction vertices\u001b[39;00m\n\u001b[0;32m---> 40\u001b[0m bsm_model\u001b[39m.\u001b[39;49mset_vertices()\n\u001b[1;32m     42\u001b[0m \u001b[39mreturn\u001b[39;00m bsm_model\n",
      "File \u001b[0;32m~/Repos/DarkNews-generator/src/DarkNews/model.py:382\u001b[0m, in \u001b[0;36mThreePortalModel.set_vertices\u001b[0;34m(self)\u001b[0m\n\u001b[1;32m    376\u001b[0m \u001b[39m\"\"\" \u001b[39;00m\n\u001b[1;32m    377\u001b[0m \u001b[39m    set all other variables starting from base members\u001b[39;00m\n\u001b[1;32m    378\u001b[0m \u001b[39m\u001b[39;00m\n\u001b[1;32m    379\u001b[0m \u001b[39m\"\"\"\u001b[39;00m\n\u001b[1;32m    381\u001b[0m \u001b[39m# initialize spectrum\u001b[39;00m\n\u001b[0;32m--> 382\u001b[0m \u001b[39mself\u001b[39;49m\u001b[39m.\u001b[39;49minitialize_spectrum()\n\u001b[1;32m    384\u001b[0m \u001b[39m# create the scalar couplings\u001b[39;00m\n\u001b[1;32m    385\u001b[0m \u001b[39mself\u001b[39m\u001b[39m.\u001b[39ms_aj \u001b[39m=\u001b[39m np\u001b[39m.\u001b[39marray([\\\n\u001b[1;32m    386\u001b[0m                         [\u001b[39m0\u001b[39m,\u001b[39m0\u001b[39m,\u001b[39m0\u001b[39m, \u001b[39mself\u001b[39m\u001b[39m.\u001b[39ms_e4,   \u001b[39mself\u001b[39m\u001b[39m.\u001b[39ms_e5,    \u001b[39mself\u001b[39m\u001b[39m.\u001b[39ms_e6],\n\u001b[1;32m    387\u001b[0m                         [\u001b[39m0\u001b[39m,\u001b[39m0\u001b[39m,\u001b[39m0\u001b[39m, \u001b[39mself\u001b[39m\u001b[39m.\u001b[39ms_mu4,  \u001b[39mself\u001b[39m\u001b[39m.\u001b[39ms_mu5,   \u001b[39mself\u001b[39m\u001b[39m.\u001b[39ms_mu6],\n\u001b[0;32m   (...)\u001b[0m\n\u001b[1;32m    391\u001b[0m                         [\u001b[39m0\u001b[39m,\u001b[39m0\u001b[39m,\u001b[39m0\u001b[39m, \u001b[39mself\u001b[39m\u001b[39m.\u001b[39ms_46,   \u001b[39mself\u001b[39m\u001b[39m.\u001b[39ms_56,    \u001b[39mself\u001b[39m\u001b[39m.\u001b[39ms_66],\n\u001b[1;32m    392\u001b[0m                         ])\n",
      "File \u001b[0;32m~/Repos/DarkNews-generator/src/DarkNews/model.py:159\u001b[0m, in \u001b[0;36mHNLModel.initialize_spectrum\u001b[0;34m(self)\u001b[0m\n\u001b[1;32m    157\u001b[0m \u001b[39mself\u001b[39m\u001b[39m.\u001b[39mn_nus \u001b[39m=\u001b[39m \u001b[39mlen\u001b[39m(\u001b[39mself\u001b[39m\u001b[39m.\u001b[39mnu_spectrum)\n\u001b[1;32m    158\u001b[0m \u001b[39mself\u001b[39m\u001b[39m.\u001b[39mn_HNLs \u001b[39m=\u001b[39m \u001b[39mlen\u001b[39m(\u001b[39mself\u001b[39m\u001b[39m.\u001b[39mHNL_spectrum)\n\u001b[0;32m--> 159\u001b[0m \u001b[39mself\u001b[39m\u001b[39m.\u001b[39m_spectrum \u001b[39m+\u001b[39m\u001b[39m=\u001b[39m \u001b[39mf\u001b[39m\u001b[39m\"\u001b[39m\u001b[39m\\n\u001b[39;00m\u001b[39m\\t\u001b[39;00m\u001b[39m{\u001b[39;00m\u001b[39mself\u001b[39m\u001b[39m.\u001b[39mn_HNLs\u001b[39m}\u001b[39;00m\u001b[39m \u001b[39m\u001b[39m{\u001b[39;00m\u001b[39mself\u001b[39m\u001b[39m.\u001b[39mHNLtype\u001b[39m}\u001b[39;00m\u001b[39m heavy neutrino(s).\u001b[39m\u001b[39m\"\u001b[39m\n",
      "\u001b[0;31mAttributeError\u001b[0m: 'ThreePortalModel' object has no attribute 'HNLtype'"
     ]
    }
   ],
   "source": [
    "bsm_model_1 = dn.model.create_3portal_HNL_model(mzprime=1.25, m4=0.1, m5=0.150, Umu4=1e-3, Umu5=2e-3, UD4=0.2, UD5=0.2, epsilon=1e-4)\n",
    "# bsm_model_2 = dn.model.create_generic_HNL_model()"
   ]
  },
  {
   "cell_type": "code",
   "execution_count": 107,
   "metadata": {},
   "outputs": [
    {
     "name": "stdout",
     "output_type": "stream",
     "text": [
      "[[-3.7E-08 0.00000 0.00000 0.00000 0.00000 0.00000]\n",
      " [0.00000 9.6E-07 0.00000 2.0E-04 2.0E-04 0.00000]\n",
      " [0.00000 0.00000 -3.7E-08 0.00000 0.00000 0.00000]\n",
      " [0.00000 2.0E-04 0.00000 4.0E-02 4.0E-02 0.00000]\n",
      " [0.00000 2.0E-04 0.00000 4.0E-02 4.0E-02 0.00000]\n",
      " [0.00000 0.00000 0.00000 0.00000 0.00000 0.00000]]\n"
     ]
    }
   ],
   "source": [
    "x = bsm_model_1.d_ij\n",
    "print(np.array2string(x, formatter={'float_kind':lambda x: \"%.1E\" % x if x !=0 else \"0.00000\"}))"
   ]
  },
  {
   "cell_type": "code",
   "execution_count": 108,
   "metadata": {},
   "outputs": [
    {
     "name": "stdout",
     "output_type": "stream",
     "text": [
      "0.00020784611846974275\n",
      "0.00019999996265424277\n"
     ]
    }
   ],
   "source": [
    "print(np.sqrt(np.sum(np.abs(bsm_model_1.d_aj[const.inds_active,3])**2)))\n",
    "print(np.sqrt(np.sum(np.abs(bsm_model_1.d_ij[const.inds_active,3])**2)))"
   ]
  },
  {
   "cell_type": "code",
   "execution_count": 109,
   "metadata": {},
   "outputs": [
    {
     "name": "stdout",
     "output_type": "stream",
     "text": [
      "[[1.0E+00 0.00000 0.00000 -1.2E-04 -1.2E-04 0.00000]\n",
      " [0.00000 1.0E+00 0.00000 -1.2E-04 -1.2E-04 0.00000]\n",
      " [0.00000 0.00000 1.0E+00 -1.2E-04 -1.2E-04 0.00000]\n",
      " [0.00000 2.0E-04 0.00000 4.0E-02 4.0E-02 0.00000]\n",
      " [0.00000 2.0E-04 0.00000 4.0E-02 4.0E-02 0.00000]\n",
      " [0.00000 0.00000 0.00000 0.00000 0.00000 0.00000]]\n"
     ]
    }
   ],
   "source": [
    "# x = np.vstack((bsm_model_1.d_aj,bsm_model_1.d_ij[3:]))\n",
    "x = bsm_model_1.d_aj\n",
    "print(np.array2string(x, formatter={'float_kind':lambda x: \"%.1E\" % x if x !=0 else \"0.00000\"}))"
   ]
  },
  {
   "cell_type": "code",
   "execution_count": 116,
   "metadata": {},
   "outputs": [],
   "source": [
    "decay_1=dn.processes.FermionDileptonDecay(dn.pdg.neutrino4, dn.pdg.nulight, lp.e_minus, lp.e_plus, bsm_model_1)\n",
    "ups_case=dn.processes.UpscatteringProcess(dn.pdg.numu, bsm_model_1.neutrino4, dn.nuclear_tools.NuclearTarget(\"C12\"), 'coherent', bsm_model_1, 'conserving')\n",
    "# decay_2=dn.model.FermionDileptonDecay(dn.pdg.neutrino4, dn.pdg.nulight, lp.e_minus, lp.e_plus, bsm_model_2)"
   ]
  },
  {
   "cell_type": "code",
   "execution_count": 117,
   "metadata": {},
   "outputs": [
    {
     "ename": "NameError",
     "evalue": "name 'self' is not defined",
     "output_type": "error",
     "traceback": [
      "\u001b[0;31m---------------------------------------------------------------------------\u001b[0m",
      "\u001b[0;31mNameError\u001b[0m                                 Traceback (most recent call last)",
      "\u001b[1;32m/Users/matheushostert/Repos/DarkNews-generator/examples/test_models.ipynb Cell 8'\u001b[0m in \u001b[0;36m<module>\u001b[0;34m\u001b[0m\n\u001b[0;32m----> <a href='vscode-notebook-cell:/Users/matheushostert/Repos/DarkNews-generator/examples/test_models.ipynb#ch0000010?line=0'>1</a>\u001b[0m const\u001b[39m.\u001b[39mgweak\u001b[39m/\u001b[39m\u001b[39m2.0\u001b[39m\u001b[39m/\u001b[39mconst\u001b[39m.\u001b[39mcw\u001b[39m*\u001b[39mnp\u001b[39m.\u001b[39mabs((\u001b[39m1.0\u001b[39m\u001b[39m-\u001b[39m\u001b[39m4.0\u001b[39m\u001b[39m*\u001b[39mconst\u001b[39m.\u001b[39ms2w)\u001b[39m*\u001b[39m\u001b[39mself\u001b[39;49m\u001b[39m.\u001b[39mtarget\u001b[39m.\u001b[39mZ\u001b[39m-\u001b[39m\u001b[39mself\u001b[39m\u001b[39m.\u001b[39mtarget\u001b[39m.\u001b[39mN)\n",
      "\u001b[0;31mNameError\u001b[0m: name 'self' is not defined"
     ]
    }
   ],
   "source": [
    "const.gweak/2.0/const.cw*np.abs((1.0-4.0*const.s2w)*self.target.Z-self.target.N)"
   ]
  },
  {
   "cell_type": "code",
   "execution_count": 124,
   "metadata": {},
   "outputs": [
    {
     "data": {
      "text/plain": [
       "-1.9999999771191013"
      ]
     },
     "execution_count": 124,
     "metadata": {},
     "output_type": "execute_result"
    }
   ],
   "source": [
    "ups_case.Chad/(bsm_model_1.cVproton*6 + bsm_model_1.cVneutron*6)"
   ]
  },
  {
   "cell_type": "code",
   "execution_count": 119,
   "metadata": {},
   "outputs": [
    {
     "data": {
      "text/plain": [
       "0.98127287696488"
      ]
     },
     "execution_count": 119,
     "metadata": {},
     "output_type": "execute_result"
    }
   ],
   "source": [
    "ups_case.Vhad/(bsm_model_1.dVproton*6 + bsm_model_1.dVneutron*6)"
   ]
  },
  {
   "cell_type": "code",
   "execution_count": 110,
   "metadata": {},
   "outputs": [
    {
     "ename": "AttributeError",
     "evalue": "module 'DarkNews.model' has no attribute 'create_HNL_model'",
     "output_type": "error",
     "traceback": [
      "\u001b[0;31m---------------------------------------------------------------------------\u001b[0m",
      "\u001b[0;31mAttributeError\u001b[0m                            Traceback (most recent call last)",
      "\u001b[1;32m/Users/matheushostert/Repos/DarkNews-generator/examples/test_models.ipynb Cell 8'\u001b[0m in \u001b[0;36m<module>\u001b[0;34m\u001b[0m\n\u001b[0;32m----> <a href='vscode-notebook-cell:/Users/matheushostert/Repos/DarkNews-generator/examples/test_models.ipynb#ch0000007?line=0'>1</a>\u001b[0m bsm_model \u001b[39m=\u001b[39m dn\u001b[39m.\u001b[39;49mmodel\u001b[39m.\u001b[39;49mcreate_HNL_model(mzprime\u001b[39m=\u001b[39m\u001b[39m0.1\u001b[39m, \n\u001b[1;32m      <a href='vscode-notebook-cell:/Users/matheushostert/Repos/DarkNews-generator/examples/test_models.ipynb#ch0000007?line=1'>2</a>\u001b[0m                                             m5\u001b[39m=\u001b[39m\u001b[39m0.150\u001b[39m, \n\u001b[1;32m      <a href='vscode-notebook-cell:/Users/matheushostert/Repos/DarkNews-generator/examples/test_models.ipynb#ch0000007?line=2'>3</a>\u001b[0m                                             m4 \u001b[39m=\u001b[39m \u001b[39m0.01\u001b[39m, \n\u001b[1;32m      <a href='vscode-notebook-cell:/Users/matheushostert/Repos/DarkNews-generator/examples/test_models.ipynb#ch0000007?line=3'>4</a>\u001b[0m                                             epsilon\u001b[39m=\u001b[39m\u001b[39m0.0\u001b[39m, \n\u001b[1;32m      <a href='vscode-notebook-cell:/Users/matheushostert/Repos/DarkNews-generator/examples/test_models.ipynb#ch0000007?line=4'>5</a>\u001b[0m                                             theta\u001b[39m=\u001b[39m\u001b[39m1e-4\u001b[39m, \n\u001b[1;32m      <a href='vscode-notebook-cell:/Users/matheushostert/Repos/DarkNews-generator/examples/test_models.ipynb#ch0000007?line=5'>6</a>\u001b[0m                                             s_mu4\u001b[39m=\u001b[39m\u001b[39m1e-3\u001b[39m\n\u001b[1;32m      <a href='vscode-notebook-cell:/Users/matheushostert/Repos/DarkNews-generator/examples/test_models.ipynb#ch0000007?line=6'>7</a>\u001b[0m                                         )\n",
      "\u001b[0;31mAttributeError\u001b[0m: module 'DarkNews.model' has no attribute 'create_HNL_model'"
     ]
    }
   ],
   "source": [
    "bsm_model = dn.model.create_HNL_model(mzprime=0.1, \n",
    "                                            m5=0.150, \n",
    "                                            m4 = 0.01, \n",
    "                                            epsilon=0.0, \n",
    "                                            theta=1e-4, \n",
    "                                            s_mu4=1e-3\n",
    "                                        )"
   ]
  }
 ],
 "metadata": {
  "kernelspec": {
   "display_name": "Python 3.9.12 ('base')",
   "language": "python",
   "name": "python3"
  },
  "language_info": {
   "codemirror_mode": {
    "name": "ipython",
    "version": 3
   },
   "file_extension": ".py",
   "mimetype": "text/x-python",
   "name": "python",
   "nbconvert_exporter": "python",
   "pygments_lexer": "ipython3",
   "version": "3.9.12"
  },
  "orig_nbformat": 4,
  "vscode": {
   "interpreter": {
    "hash": "3067ead486e059ec00ffe7555bdb889e6e264a24dc711bf108106cc7baee8d5d"
   }
  }
 },
 "nbformat": 4,
 "nbformat_minor": 2
}
