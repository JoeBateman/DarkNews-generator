{
 "cells": [
  {
   "cell_type": "code",
   "execution_count": 33,
   "metadata": {},
   "outputs": [
    {
     "name": "stdout",
     "output_type": "stream",
     "text": [
      "The autoreload extension is already loaded. To reload it, use:\n",
      "  %reload_ext autoreload\n"
     ]
    }
   ],
   "source": [
    "%load_ext autoreload\n",
    "%autoreload 2"
   ]
  },
  {
   "cell_type": "code",
   "execution_count": 34,
   "metadata": {},
   "outputs": [],
   "source": [
    "import numpy as np\n",
    "import pandas as pd\n",
    "from matplotlib import pyplot as plt\n",
    "\n",
    "import DarkNews as dn\n",
    "\n",
    "from DarkNews import const\n",
    "\n",
    "from DarkNews.GenLauncher import GenLauncher\n",
    "\n",
    "from DarkNews import Cfourvec as Cfv\n",
    "\n",
    "from particle import literals as lp\n",
    "from pathlib import Path"
   ]
  },
  {
   "cell_type": "code",
   "execution_count": 50,
   "metadata": {},
   "outputs": [
    {
     "name": "stdout",
     "output_type": "stream",
     "text": [
      "Initializing the three-portal model.\n",
      "---------------------------------------------------------\n",
      "   ______           _        _   _                     \n",
      "   |  _  \\         | |      | \\ | |                    \n",
      "   | | | |__ _ _ __| | __   |  \\| | _____      _____   \n",
      "   | | | / _  | ___| |/ /   | .   |/ _ \\ \\ /\\ / / __|  \n",
      "   | |/ / (_| | |  |   <    | |\\  |  __/\\ V  V /\\__ \\  \n",
      "   |___/ \\__,_|_|  |_|\\_\\   \\_| \\_/\\___| \\_/\\_/ |___/  \n",
      "\n",
      "---------------------------------------------------------\n",
      "Model:\n",
      "\t1 dirac heavy neutrino(s).\n",
      "\n",
      "---------------------------------------------------------\n",
      "Experiment:\n",
      "\tMiniBooNE_FHC\n",
      "\tfluxfile loaded: ../fluxes/MiniBooNE_FHC.dat\n",
      "\tPOT: 1.875e+21\n",
      "\tnuclear targets: ['C12', 'H1']\n",
      "\tfiducial mass: [701.1428571428571, 116.85714285714286] tonnes\n",
      "\n",
      "Directory tree for this run already exists. Overriding it.\n",
      "---------------------------------------------------------\n",
      "Generating Events using the neutrino-nucleus upscattering engine\n",
      "\n",
      "nu(mu) C12 --> N4  C12 --> nu_light e+ e- C12\n",
      "Helicity conserving upscattering.\n",
      "N4 decays via off-shell Z'.\n",
      "Parent N4 proper decay length: 9.479E+02 cm.\n",
      "\n",
      "Predicted (68.1 +/- 2.63) events.\n",
      "\n",
      "nu(mu) C12 --> N4  C12 --> nu_light e+ e- C12\n",
      "Helicity flipping upscattering.\n",
      "N4 decays via off-shell Z'.\n",
      "Parent N4 proper decay length: 9.568E+02 cm.\n",
      "\n",
      "Predicted (1.17e+03 +/- 44.4) events.\n",
      "\n",
      "nu(mu) proton_in_C12 --> N4  proton_in_C12 --> nu_light e+ e- proton_in_C12\n",
      "Helicity conserving upscattering.\n",
      "N4 decays via off-shell Z'.\n",
      "Parent N4 proper decay length: 9.461E+02 cm.\n",
      "\n",
      "Predicted (93.2 +/- 3.48) events.\n",
      "\n",
      "nu(mu) proton_in_C12 --> N4  proton_in_C12 --> nu_light e+ e- proton_in_C12\n",
      "Helicity flipping upscattering.\n",
      "N4 decays via off-shell Z'.\n",
      "Parent N4 proper decay length: 9.517E+02 cm.\n",
      "\n",
      "Predicted (1.59e+03 +/- 59.8) events.\n",
      "\n",
      "nu(mu) proton_in_H1 --> N4  proton_in_H1 --> nu_light e+ e- proton_in_H1\n",
      "Helicity conserving upscattering.\n",
      "N4 decays via off-shell Z'.\n",
      "Parent N4 proper decay length: 9.430E+02 cm.\n",
      "\n",
      "Predicted (30.7 +/- 1.15) events.\n",
      "\n",
      "nu(mu) proton_in_H1 --> N4  proton_in_H1 --> nu_light e+ e- proton_in_H1\n",
      "Helicity flipping upscattering.\n",
      "N4 decays via off-shell Z'.\n",
      "Parent N4 proper decay length: 9.500E+02 cm.\n",
      "\n",
      "Predicted (517 +/- 19.2) events.\n",
      "\n",
      "---------------------------------------------------------\n",
      "Generation successful\n",
      "\n",
      "Total events predicted:\n",
      "(3.47e+03 +/- 77.1) events.\n",
      "\n",
      "---------------------------------------------------------\n",
      "Events in pandas dataframe saved to file successfully:\n",
      "data/miniboone_fhc/3plus1/m4_0.5_mzprime_1.25_dirac/pandas_df.pckl\n",
      "\n"
     ]
    }
   ],
   "source": [
    "MODEL_KWARGS = {'HNLtype': 'majorana', 'UD4': 1.0, 'alphaD': 0.25, 'Umu4': np.sqrt(9e-7), 'epsilon': np.sqrt(2e-10/const.alphaQED)}\n",
    "\n",
    "\n",
    "gen = GenLauncher(mu_tr_mu4=1e-6, m4=0.5, epsilon=0.0, gD=0.0, decay_product='e+e-', Umu4=0.0,\n",
    "                    neval=1000, exp=\"miniboone_fhc\", loglevel='info', seed=42)\n",
    "df_TMM_mumu = gen.run()\n"
   ]
  },
  {
   "cell_type": "code",
   "execution_count": 51,
   "metadata": {},
   "outputs": [
    {
     "data": {
      "text/html": [
       "<div>\n",
       "<style scoped>\n",
       "    .dataframe tbody tr th:only-of-type {\n",
       "        vertical-align: middle;\n",
       "    }\n",
       "\n",
       "    .dataframe tbody tr th {\n",
       "        vertical-align: top;\n",
       "    }\n",
       "\n",
       "    .dataframe thead tr th {\n",
       "        text-align: left;\n",
       "    }\n",
       "</style>\n",
       "<table border=\"1\" class=\"dataframe\">\n",
       "  <thead>\n",
       "    <tr>\n",
       "      <th></th>\n",
       "      <th colspan=\"4\" halign=\"left\">P_projectile</th>\n",
       "      <th colspan=\"4\" halign=\"left\">P_target</th>\n",
       "      <th colspan=\"2\" halign=\"left\">P_recoil</th>\n",
       "      <th>...</th>\n",
       "      <th>target_pdgid</th>\n",
       "      <th>scattering_regime</th>\n",
       "      <th>helicity</th>\n",
       "      <th>underlying_process</th>\n",
       "      <th>h_projectile</th>\n",
       "      <th>h_parent</th>\n",
       "      <th colspan=\"4\" halign=\"left\">pos_decay</th>\n",
       "    </tr>\n",
       "    <tr>\n",
       "      <th></th>\n",
       "      <th>0</th>\n",
       "      <th>1</th>\n",
       "      <th>2</th>\n",
       "      <th>3</th>\n",
       "      <th>0</th>\n",
       "      <th>1</th>\n",
       "      <th>2</th>\n",
       "      <th>3</th>\n",
       "      <th>0</th>\n",
       "      <th>1</th>\n",
       "      <th>...</th>\n",
       "      <th></th>\n",
       "      <th></th>\n",
       "      <th></th>\n",
       "      <th></th>\n",
       "      <th></th>\n",
       "      <th></th>\n",
       "      <th>0</th>\n",
       "      <th>1</th>\n",
       "      <th>2</th>\n",
       "      <th>3</th>\n",
       "    </tr>\n",
       "  </thead>\n",
       "  <tbody>\n",
       "    <tr>\n",
       "      <th>0</th>\n",
       "      <td>1.336015</td>\n",
       "      <td>0.0</td>\n",
       "      <td>0.0</td>\n",
       "      <td>1.336015</td>\n",
       "      <td>11.174864</td>\n",
       "      <td>-0.0</td>\n",
       "      <td>-0.0</td>\n",
       "      <td>3.552714e-15</td>\n",
       "      <td>11.176261</td>\n",
       "      <td>-0.112501</td>\n",
       "      <td>...</td>\n",
       "      <td>1000060120</td>\n",
       "      <td>coherent</td>\n",
       "      <td>conserving</td>\n",
       "      <td>nu(mu) C12 --&gt; N4  C12 --&gt; nu_light e+ e- C12</td>\n",
       "      <td>-1</td>\n",
       "      <td>-1</td>\n",
       "      <td>1.373251e-08</td>\n",
       "      <td>497.693334</td>\n",
       "      <td>305.142680</td>\n",
       "      <td>537.975716</td>\n",
       "    </tr>\n",
       "    <tr>\n",
       "      <th>1</th>\n",
       "      <td>0.787226</td>\n",
       "      <td>0.0</td>\n",
       "      <td>0.0</td>\n",
       "      <td>0.787226</td>\n",
       "      <td>0.938272</td>\n",
       "      <td>-0.0</td>\n",
       "      <td>-0.0</td>\n",
       "      <td>1.110223e-16</td>\n",
       "      <td>1.216973</td>\n",
       "      <td>0.052808</td>\n",
       "      <td>...</td>\n",
       "      <td>2212</td>\n",
       "      <td>p-el</td>\n",
       "      <td>conserving</td>\n",
       "      <td>nu(mu) proton_in_H1 --&gt; N4  proton_in_H1 --&gt; n...</td>\n",
       "      <td>-1</td>\n",
       "      <td>-1</td>\n",
       "      <td>2.284734e-08</td>\n",
       "      <td>-418.105774</td>\n",
       "      <td>-267.961560</td>\n",
       "      <td>146.895499</td>\n",
       "    </tr>\n",
       "    <tr>\n",
       "      <th>2</th>\n",
       "      <td>0.909847</td>\n",
       "      <td>0.0</td>\n",
       "      <td>0.0</td>\n",
       "      <td>0.909847</td>\n",
       "      <td>0.938272</td>\n",
       "      <td>-0.0</td>\n",
       "      <td>-0.0</td>\n",
       "      <td>-2.220446e-16</td>\n",
       "      <td>0.967877</td>\n",
       "      <td>-0.050763</td>\n",
       "      <td>...</td>\n",
       "      <td>2212</td>\n",
       "      <td>p-el</td>\n",
       "      <td>conserving</td>\n",
       "      <td>nu(mu) proton_in_C12 --&gt; N4  proton_in_C12 --&gt;...</td>\n",
       "      <td>-1</td>\n",
       "      <td>-1</td>\n",
       "      <td>1.627498e-08</td>\n",
       "      <td>-274.614503</td>\n",
       "      <td>-66.045468</td>\n",
       "      <td>362.354400</td>\n",
       "    </tr>\n",
       "    <tr>\n",
       "      <th>3</th>\n",
       "      <td>0.755941</td>\n",
       "      <td>0.0</td>\n",
       "      <td>0.0</td>\n",
       "      <td>0.755941</td>\n",
       "      <td>11.174864</td>\n",
       "      <td>-0.0</td>\n",
       "      <td>-0.0</td>\n",
       "      <td>1.065814e-14</td>\n",
       "      <td>11.178206</td>\n",
       "      <td>0.091260</td>\n",
       "      <td>...</td>\n",
       "      <td>1000060120</td>\n",
       "      <td>coherent</td>\n",
       "      <td>conserving</td>\n",
       "      <td>nu(mu) C12 --&gt; N4  C12 --&gt; nu_light e+ e- C12</td>\n",
       "      <td>-1</td>\n",
       "      <td>-1</td>\n",
       "      <td>3.124456e-08</td>\n",
       "      <td>41.472319</td>\n",
       "      <td>-678.070791</td>\n",
       "      <td>545.898001</td>\n",
       "    </tr>\n",
       "    <tr>\n",
       "      <th>4</th>\n",
       "      <td>1.358759</td>\n",
       "      <td>0.0</td>\n",
       "      <td>0.0</td>\n",
       "      <td>1.358759</td>\n",
       "      <td>0.938272</td>\n",
       "      <td>-0.0</td>\n",
       "      <td>-0.0</td>\n",
       "      <td>1.110223e-16</td>\n",
       "      <td>0.972944</td>\n",
       "      <td>0.207847</td>\n",
       "      <td>...</td>\n",
       "      <td>2212</td>\n",
       "      <td>p-el</td>\n",
       "      <td>flipping</td>\n",
       "      <td>nu(mu) proton_in_H1 --&gt; N4  proton_in_H1 --&gt; n...</td>\n",
       "      <td>-1</td>\n",
       "      <td>1</td>\n",
       "      <td>1.246486e-08</td>\n",
       "      <td>280.698864</td>\n",
       "      <td>55.259217</td>\n",
       "      <td>553.631682</td>\n",
       "    </tr>\n",
       "    <tr>\n",
       "      <th>...</th>\n",
       "      <td>...</td>\n",
       "      <td>...</td>\n",
       "      <td>...</td>\n",
       "      <td>...</td>\n",
       "      <td>...</td>\n",
       "      <td>...</td>\n",
       "      <td>...</td>\n",
       "      <td>...</td>\n",
       "      <td>...</td>\n",
       "      <td>...</td>\n",
       "      <td>...</td>\n",
       "      <td>...</td>\n",
       "      <td>...</td>\n",
       "      <td>...</td>\n",
       "      <td>...</td>\n",
       "      <td>...</td>\n",
       "      <td>...</td>\n",
       "      <td>...</td>\n",
       "      <td>...</td>\n",
       "      <td>...</td>\n",
       "      <td>...</td>\n",
       "    </tr>\n",
       "    <tr>\n",
       "      <th>5321</th>\n",
       "      <td>1.822689</td>\n",
       "      <td>0.0</td>\n",
       "      <td>0.0</td>\n",
       "      <td>1.822689</td>\n",
       "      <td>11.174864</td>\n",
       "      <td>-0.0</td>\n",
       "      <td>-0.0</td>\n",
       "      <td>-7.993606e-15</td>\n",
       "      <td>11.175166</td>\n",
       "      <td>-0.010959</td>\n",
       "      <td>...</td>\n",
       "      <td>1000060120</td>\n",
       "      <td>coherent</td>\n",
       "      <td>conserving</td>\n",
       "      <td>nu(mu) C12 --&gt; N4  C12 --&gt; nu_light e+ e- C12</td>\n",
       "      <td>-1</td>\n",
       "      <td>-1</td>\n",
       "      <td>2.615358e-07</td>\n",
       "      <td>281.675753</td>\n",
       "      <td>201.761624</td>\n",
       "      <td>7812.169492</td>\n",
       "    </tr>\n",
       "    <tr>\n",
       "      <th>5322</th>\n",
       "      <td>3.683745</td>\n",
       "      <td>0.0</td>\n",
       "      <td>0.0</td>\n",
       "      <td>3.683745</td>\n",
       "      <td>11.174864</td>\n",
       "      <td>-0.0</td>\n",
       "      <td>-0.0</td>\n",
       "      <td>4.440892e-16</td>\n",
       "      <td>11.174960</td>\n",
       "      <td>0.025549</td>\n",
       "      <td>...</td>\n",
       "      <td>1000060120</td>\n",
       "      <td>coherent</td>\n",
       "      <td>flipping</td>\n",
       "      <td>nu(mu) C12 --&gt; N4  C12 --&gt; nu_light e+ e- C12</td>\n",
       "      <td>-1</td>\n",
       "      <td>1</td>\n",
       "      <td>1.814719e-07</td>\n",
       "      <td>-40.387860</td>\n",
       "      <td>221.397109</td>\n",
       "      <td>5367.491964</td>\n",
       "    </tr>\n",
       "    <tr>\n",
       "      <th>5323</th>\n",
       "      <td>1.096123</td>\n",
       "      <td>0.0</td>\n",
       "      <td>0.0</td>\n",
       "      <td>1.096123</td>\n",
       "      <td>0.938272</td>\n",
       "      <td>-0.0</td>\n",
       "      <td>-0.0</td>\n",
       "      <td>2.220446e-16</td>\n",
       "      <td>1.015433</td>\n",
       "      <td>-0.249802</td>\n",
       "      <td>...</td>\n",
       "      <td>2212</td>\n",
       "      <td>p-el</td>\n",
       "      <td>flipping</td>\n",
       "      <td>nu(mu) proton_in_C12 --&gt; N4  proton_in_C12 --&gt;...</td>\n",
       "      <td>-1</td>\n",
       "      <td>1</td>\n",
       "      <td>2.017707e-08</td>\n",
       "      <td>534.787444</td>\n",
       "      <td>156.514770</td>\n",
       "      <td>534.711720</td>\n",
       "    </tr>\n",
       "    <tr>\n",
       "      <th>5324</th>\n",
       "      <td>1.433895</td>\n",
       "      <td>0.0</td>\n",
       "      <td>0.0</td>\n",
       "      <td>1.433895</td>\n",
       "      <td>0.938272</td>\n",
       "      <td>-0.0</td>\n",
       "      <td>-0.0</td>\n",
       "      <td>-2.220446e-16</td>\n",
       "      <td>1.605753</td>\n",
       "      <td>-0.490853</td>\n",
       "      <td>...</td>\n",
       "      <td>2212</td>\n",
       "      <td>p-el</td>\n",
       "      <td>conserving</td>\n",
       "      <td>nu(mu) proton_in_H1 --&gt; N4  proton_in_H1 --&gt; n...</td>\n",
       "      <td>-1</td>\n",
       "      <td>-1</td>\n",
       "      <td>7.440071e-08</td>\n",
       "      <td>1496.111428</td>\n",
       "      <td>-321.240004</td>\n",
       "      <td>1180.278321</td>\n",
       "    </tr>\n",
       "    <tr>\n",
       "      <th>5325</th>\n",
       "      <td>1.093360</td>\n",
       "      <td>0.0</td>\n",
       "      <td>0.0</td>\n",
       "      <td>1.093360</td>\n",
       "      <td>0.938272</td>\n",
       "      <td>-0.0</td>\n",
       "      <td>-0.0</td>\n",
       "      <td>1.110223e-16</td>\n",
       "      <td>0.963593</td>\n",
       "      <td>-0.143246</td>\n",
       "      <td>...</td>\n",
       "      <td>2212</td>\n",
       "      <td>p-el</td>\n",
       "      <td>flipping</td>\n",
       "      <td>nu(mu) proton_in_C12 --&gt; N4  proton_in_C12 --&gt;...</td>\n",
       "      <td>-1</td>\n",
       "      <td>1</td>\n",
       "      <td>3.220507e-08</td>\n",
       "      <td>198.691221</td>\n",
       "      <td>-144.919640</td>\n",
       "      <td>1215.026677</td>\n",
       "    </tr>\n",
       "  </tbody>\n",
       "</table>\n",
       "<p>5326 rows × 46 columns</p>\n",
       "</div>"
      ],
      "text/plain": [
       "     P_projectile                       P_target                          \\\n",
       "                0    1    2         3          0    1    2             3   \n",
       "0        1.336015  0.0  0.0  1.336015  11.174864 -0.0 -0.0  3.552714e-15   \n",
       "1        0.787226  0.0  0.0  0.787226   0.938272 -0.0 -0.0  1.110223e-16   \n",
       "2        0.909847  0.0  0.0  0.909847   0.938272 -0.0 -0.0 -2.220446e-16   \n",
       "3        0.755941  0.0  0.0  0.755941  11.174864 -0.0 -0.0  1.065814e-14   \n",
       "4        1.358759  0.0  0.0  1.358759   0.938272 -0.0 -0.0  1.110223e-16   \n",
       "...           ...  ...  ...       ...        ...  ...  ...           ...   \n",
       "5321     1.822689  0.0  0.0  1.822689  11.174864 -0.0 -0.0 -7.993606e-15   \n",
       "5322     3.683745  0.0  0.0  3.683745  11.174864 -0.0 -0.0  4.440892e-16   \n",
       "5323     1.096123  0.0  0.0  1.096123   0.938272 -0.0 -0.0  2.220446e-16   \n",
       "5324     1.433895  0.0  0.0  1.433895   0.938272 -0.0 -0.0 -2.220446e-16   \n",
       "5325     1.093360  0.0  0.0  1.093360   0.938272 -0.0 -0.0  1.110223e-16   \n",
       "\n",
       "       P_recoil            ... target_pdgid scattering_regime    helicity  \\\n",
       "              0         1  ...                                              \n",
       "0     11.176261 -0.112501  ...   1000060120          coherent  conserving   \n",
       "1      1.216973  0.052808  ...         2212              p-el  conserving   \n",
       "2      0.967877 -0.050763  ...         2212              p-el  conserving   \n",
       "3     11.178206  0.091260  ...   1000060120          coherent  conserving   \n",
       "4      0.972944  0.207847  ...         2212              p-el    flipping   \n",
       "...         ...       ...  ...          ...               ...         ...   \n",
       "5321  11.175166 -0.010959  ...   1000060120          coherent  conserving   \n",
       "5322  11.174960  0.025549  ...   1000060120          coherent    flipping   \n",
       "5323   1.015433 -0.249802  ...         2212              p-el    flipping   \n",
       "5324   1.605753 -0.490853  ...         2212              p-el  conserving   \n",
       "5325   0.963593 -0.143246  ...         2212              p-el    flipping   \n",
       "\n",
       "                                     underlying_process h_projectile h_parent  \\\n",
       "                                                                                \n",
       "0         nu(mu) C12 --> N4  C12 --> nu_light e+ e- C12           -1       -1   \n",
       "1     nu(mu) proton_in_H1 --> N4  proton_in_H1 --> n...           -1       -1   \n",
       "2     nu(mu) proton_in_C12 --> N4  proton_in_C12 -->...           -1       -1   \n",
       "3         nu(mu) C12 --> N4  C12 --> nu_light e+ e- C12           -1       -1   \n",
       "4     nu(mu) proton_in_H1 --> N4  proton_in_H1 --> n...           -1        1   \n",
       "...                                                 ...          ...      ...   \n",
       "5321      nu(mu) C12 --> N4  C12 --> nu_light e+ e- C12           -1       -1   \n",
       "5322      nu(mu) C12 --> N4  C12 --> nu_light e+ e- C12           -1        1   \n",
       "5323  nu(mu) proton_in_C12 --> N4  proton_in_C12 -->...           -1        1   \n",
       "5324  nu(mu) proton_in_H1 --> N4  proton_in_H1 --> n...           -1       -1   \n",
       "5325  nu(mu) proton_in_C12 --> N4  proton_in_C12 -->...           -1        1   \n",
       "\n",
       "         pos_decay                                        \n",
       "                 0            1           2            3  \n",
       "0     1.373251e-08   497.693334  305.142680   537.975716  \n",
       "1     2.284734e-08  -418.105774 -267.961560   146.895499  \n",
       "2     1.627498e-08  -274.614503  -66.045468   362.354400  \n",
       "3     3.124456e-08    41.472319 -678.070791   545.898001  \n",
       "4     1.246486e-08   280.698864   55.259217   553.631682  \n",
       "...            ...          ...         ...          ...  \n",
       "5321  2.615358e-07   281.675753  201.761624  7812.169492  \n",
       "5322  1.814719e-07   -40.387860  221.397109  5367.491964  \n",
       "5323  2.017707e-08   534.787444  156.514770   534.711720  \n",
       "5324  7.440071e-08  1496.111428 -321.240004  1180.278321  \n",
       "5325  3.220507e-08   198.691221 -144.919640  1215.026677  \n",
       "\n",
       "[5326 rows x 46 columns]"
      ]
     },
     "execution_count": 51,
     "metadata": {},
     "output_type": "execute_result"
    }
   ],
   "source": [
    "df_TMM_mumu"
   ]
  },
  {
   "cell_type": "code",
   "execution_count": 6,
   "metadata": {},
   "outputs": [
    {
     "ename": "ValueError",
     "evalue": "Parameter 'nu_flavors', invalid choice: ['nu_mu', 'nu_e', 'nu_mu_bar'], (choose among nu_e, nu_mu, nu_tau, nu_e_bar, nu_mu_bar, nu_tau_bar)",
     "output_type": "error",
     "traceback": [
      "\u001b[0;31m---------------------------------------------------------------------------\u001b[0m",
      "\u001b[0;31mValueError\u001b[0m                                Traceback (most recent call last)",
      "\u001b[1;32m/Users/matheushostert/Repos/DarkNews-generator/examples/test_generator.ipynb Cell 3'\u001b[0m in \u001b[0;36m<cell line: 3>\u001b[0;34m()\u001b[0m\n\u001b[1;32m      <a href='vscode-notebook-cell:/Users/matheushostert/Repos/DarkNews-generator/examples/test_generator.ipynb#ch0000002?line=0'>1</a>\u001b[0m MODEL_KWARGS \u001b[39m=\u001b[39m {\u001b[39m'\u001b[39m\u001b[39mHNLtype\u001b[39m\u001b[39m'\u001b[39m: \u001b[39m'\u001b[39m\u001b[39mdirac\u001b[39m\u001b[39m'\u001b[39m, \u001b[39m'\u001b[39m\u001b[39mUD4\u001b[39m\u001b[39m'\u001b[39m: \u001b[39m1.0\u001b[39m, \u001b[39m'\u001b[39m\u001b[39malphaD\u001b[39m\u001b[39m'\u001b[39m: \u001b[39m0.25\u001b[39m, \u001b[39m'\u001b[39m\u001b[39mUmu4\u001b[39m\u001b[39m'\u001b[39m: np\u001b[39m.\u001b[39msqrt(\u001b[39m9e-7\u001b[39m), \u001b[39m'\u001b[39m\u001b[39mepsilon\u001b[39m\u001b[39m'\u001b[39m: np\u001b[39m.\u001b[39msqrt(\u001b[39m2e-10\u001b[39m\u001b[39m/\u001b[39mconst\u001b[39m.\u001b[39malphaQED)}\n\u001b[0;32m----> <a href='vscode-notebook-cell:/Users/matheushostert/Repos/DarkNews-generator/examples/test_generator.ipynb#ch0000002?line=2'>3</a>\u001b[0m gen \u001b[39m=\u001b[39m GenLauncher(mzprime\u001b[39m=\u001b[39;49m\u001b[39m0.03\u001b[39;49m, m4\u001b[39m=\u001b[39;49m\u001b[39m0.420\u001b[39;49m, neval\u001b[39m=\u001b[39;49m\u001b[39m1000\u001b[39;49m, nu_flavors\u001b[39m=\u001b[39;49m[\u001b[39m'\u001b[39;49m\u001b[39mnu_mu\u001b[39;49m\u001b[39m'\u001b[39;49m,\u001b[39m'\u001b[39;49m\u001b[39mnu_e\u001b[39;49m\u001b[39m'\u001b[39;49m,\u001b[39m'\u001b[39;49m\u001b[39mnu_mu_bar\u001b[39;49m\u001b[39m'\u001b[39;49m], exp\u001b[39m=\u001b[39;49m\u001b[39m\"\u001b[39;49m\u001b[39mminiboone_fhc\u001b[39;49m\u001b[39m\"\u001b[39;49m, loglevel\u001b[39m=\u001b[39;49m\u001b[39m'\u001b[39;49m\u001b[39mwarning\u001b[39;49m\u001b[39m'\u001b[39;49m, seed\u001b[39m=\u001b[39;49m\u001b[39m42\u001b[39;49m, numpy\u001b[39m=\u001b[39;49m\u001b[39mTrue\u001b[39;49;00m, parquet\u001b[39m=\u001b[39;49m\u001b[39mTrue\u001b[39;49;00m, sparse\u001b[39m=\u001b[39;49m\u001b[39mTrue\u001b[39;49;00m, \u001b[39m*\u001b[39;49m\u001b[39m*\u001b[39;49mMODEL_KWARGS)\n\u001b[1;32m      <a href='vscode-notebook-cell:/Users/matheushostert/Repos/DarkNews-generator/examples/test_generator.ipynb#ch0000002?line=3'>4</a>\u001b[0m df\u001b[39m=\u001b[39mgen\u001b[39m.\u001b[39mrun(loglevel\u001b[39m=\u001b[39m\u001b[39m\"\u001b[39m\u001b[39mwarning\u001b[39m\u001b[39m\"\u001b[39m)\n",
      "File \u001b[0;32m~/Repos/DarkNews-generator/src/DarkNews/GenLauncher.py:176\u001b[0m, in \u001b[0;36mGenLauncher.__init__\u001b[0;34m(self, param_file, **kwargs)\u001b[0m\n\u001b[1;32m    173\u001b[0m     \u001b[39mself\u001b[39m\u001b[39m.\u001b[39m_load_file(param_file)\n\u001b[1;32m    175\u001b[0m \u001b[39m# load constructor parameters\u001b[39;00m\n\u001b[0;32m--> 176\u001b[0m \u001b[39mself\u001b[39;49m\u001b[39m.\u001b[39;49m_load_parameters(raise_errors\u001b[39m=\u001b[39;49m\u001b[39mTrue\u001b[39;49;00m, \u001b[39m*\u001b[39;49m\u001b[39m*\u001b[39;49mkwargs)\n\u001b[1;32m    178\u001b[0m \u001b[39m# build args_dict to pass to various methods\u001b[39;00m\n\u001b[1;32m    179\u001b[0m args_dict \u001b[39m=\u001b[39m {}\n",
      "File \u001b[0;32m~/Repos/DarkNews-generator/src/DarkNews/GenLauncher.py:281\u001b[0m, in \u001b[0;36mGenLauncher._load_parameters\u001b[0;34m(self, raise_errors, **kwargs)\u001b[0m\n\u001b[1;32m    279\u001b[0m \u001b[39m# check the value within the choices\u001b[39;00m\n\u001b[1;32m    280\u001b[0m \u001b[39mif\u001b[39;00m parameter \u001b[39min\u001b[39;00m \u001b[39mself\u001b[39m\u001b[39m.\u001b[39m_choices\u001b[39m.\u001b[39mkeys() \u001b[39mand\u001b[39;00m value \u001b[39mnot\u001b[39;00m \u001b[39min\u001b[39;00m \u001b[39mself\u001b[39m\u001b[39m.\u001b[39m_choices[parameter]:\n\u001b[0;32m--> 281\u001b[0m     \u001b[39mraise\u001b[39;00m \u001b[39mValueError\u001b[39;00m(\u001b[39mf\u001b[39m\u001b[39m\"\u001b[39m\u001b[39mParameter \u001b[39m\u001b[39m'\u001b[39m\u001b[39m{\u001b[39;00mparameter\u001b[39m}\u001b[39;00m\u001b[39m'\u001b[39m\u001b[39m, invalid choice: \u001b[39m\u001b[39m{\u001b[39;00mvalue\u001b[39m}\u001b[39;00m\u001b[39m, (choose among \u001b[39m\u001b[39m\"\u001b[39m \u001b[39m+\u001b[39m \u001b[39m\"\u001b[39m\u001b[39m, \u001b[39m\u001b[39m\"\u001b[39m\u001b[39m.\u001b[39mjoin([\u001b[39mf\u001b[39m\u001b[39m\"\u001b[39m\u001b[39m{\u001b[39;00mel\u001b[39m}\u001b[39;00m\u001b[39m\"\u001b[39m \u001b[39mfor\u001b[39;00m el \u001b[39min\u001b[39;00m \u001b[39mself\u001b[39m\u001b[39m.\u001b[39m_choices[parameter]]) \u001b[39m+\u001b[39m \u001b[39m\"\u001b[39m\u001b[39m)\u001b[39m\u001b[39m\"\u001b[39m)\n\u001b[1;32m    282\u001b[0m \u001b[39m# set the parameter\u001b[39;00m\n\u001b[1;32m    283\u001b[0m \u001b[39msetattr\u001b[39m(\u001b[39mself\u001b[39m, parameter, value)\n",
      "\u001b[0;31mValueError\u001b[0m: Parameter 'nu_flavors', invalid choice: ['nu_mu', 'nu_e', 'nu_mu_bar'], (choose among nu_e, nu_mu, nu_tau, nu_e_bar, nu_mu_bar, nu_tau_bar)"
     ]
    }
   ],
   "source": [
    "MODEL_KWARGS = {'HNLtype': 'dirac', 'UD4': 1.0, 'alphaD': 0.25, 'Umu4': np.sqrt(9e-7), 'epsilon': np.sqrt(2e-10/const.alphaQED)}\n",
    "\n",
    "gen = GenLauncher(mzprime=0.03, m4=0.420, neval=1000, nu_flavors=['nu_mu','nu_e','nu_mu_bar'], exp=\"miniboone_fhc\", loglevel='warning', seed=42, numpy=True, parquet=True, sparse=True, **MODEL_KWARGS)\n",
    "df=gen.run(loglevel=\"warning\")"
   ]
  },
  {
   "cell_type": "code",
   "execution_count": 5,
   "metadata": {},
   "outputs": [
    {
     "data": {
      "text/plain": [
       "0      -1\n",
       "1      -1\n",
       "2      -1\n",
       "3      -1\n",
       "4      -1\n",
       "       ..\n",
       "5587    1\n",
       "5588    1\n",
       "5589    1\n",
       "5590    1\n",
       "5591    1\n",
       "Name: h_parent, Length: 5592, dtype: int64"
      ]
     },
     "execution_count": 5,
     "metadata": {},
     "output_type": "execute_result"
    }
   ],
   "source": [
    "df['h_projectile']"
   ]
  },
  {
   "cell_type": "code",
   "execution_count": 22,
   "metadata": {},
   "outputs": [],
   "source": [
    "gen_path = df.attrs['data_path']\n",
    "df_pq = pd.read_parquet(Path(f\"{gen_path}/pandas_df.parquet\"), engine='pyarrow')\n",
    "# df_pq = pd.read_pickle(Path(f\"{gen_path}/pandas_df.pckl\"))\n",
    "nda = np.load(Path(f\"{gen_path}/ndarray.npy\"))\n"
   ]
  },
  {
   "cell_type": "code",
   "execution_count": 23,
   "metadata": {},
   "outputs": [],
   "source": [
    "df_pandas = df_pq\n",
    "# helicity only present in sparse format\n",
    "if 'helicity' in df_pandas.columns.levels[0]:\n",
    "    # test that numpy array and dataframe formats save the same information\n",
    "    df_pandas = df_pandas.replace(to_replace='conserving', value= '+1')\n",
    "    df_pandas = df_pandas.replace(to_replace='flipping',   value= '-1')\n",
    "\n",
    "# remove non-numeric entries\n",
    "drop_list = ['underlying_process','target','scattering_regime']\n",
    "if not set(drop_list).isdisjoint(df_pandas.columns.levels[0]):\n",
    "    df_for_numpy = df_pandas.drop([col for col in drop_list if col in df_pandas.columns.levels[0]], axis=1, level=0).to_numpy(dtype=np.float64) \n",
    "else:\n",
    "    df_for_numpy = df_pandas.to_numpy(dtype=np.float64)  \n",
    "assert (df_for_numpy[nda!=0]/nda[nda!=0]!=1).sum() == 0, 'pandas dataframe and numpy array seem to contain different data.'\n"
   ]
  },
  {
   "cell_type": "code",
   "execution_count": 89,
   "metadata": {},
   "outputs": [
    {
     "data": {
      "text/plain": [
       "array([[ 9.17188653e-01,  9.16124727e-01,  1.59980230e-02, ...,\n",
       "         3.73399539e-06,  2.01213964e-15,  1.38903642e+01],\n",
       "       [ 1.37667063e+00,  1.37617485e+00,  2.59185364e-02, ...,\n",
       "         2.16799358e-06,  3.58706846e-15,  8.95753095e+00],\n",
       "       [ 1.29687705e+00,  1.29584745e+00, -2.41520320e-02, ...,\n",
       "         3.18334345e-06,  1.75033740e-15,  1.16851308e+01],\n",
       "       ...,\n",
       "       [ 8.43364289e-01,  8.40950749e-01,  1.11306121e-01, ...,\n",
       "         1.15874669e-06,  1.12970402e-15,  2.67871672e-04],\n",
       "       [ 1.09838309e+00,  1.05749783e+00, -2.30827745e-01, ...,\n",
       "         1.26884935e-06,  8.97558554e-16,  2.66636955e-03],\n",
       "       [ 6.74185894e-01,  6.71551468e-01, -1.37383525e-01, ...,\n",
       "         1.11720019e-06,  6.00265885e-16,  2.48204550e-04]])"
      ]
     },
     "execution_count": 89,
     "metadata": {},
     "output_type": "execute_result"
    }
   ],
   "source": [
    "\n",
    "\n",
    "drop_list = ['underlying_process','target','scattering_regime']\n",
    "\n",
    "if not set(drop_list).isdisjoint(df_pq.columns.levels[0]):\n",
    "    df_for_numpy = df_pq.drop([col for col in drop_list if col in df_pq.columns.levels[0]], axis=1, level=0).to_numpy(dtype=np.float64)\n",
    "else:\n",
    "    df_for_numpy = df_pq.to_numpy(dtype=np.float64)\n",
    "df_for_numpy"
   ]
  },
  {
   "cell_type": "code",
   "execution_count": 45,
   "metadata": {},
   "outputs": [
    {
     "ename": "SyntaxError",
     "evalue": "invalid syntax (<ipython-input-45-43c5b9fc6e2a>, line 1)",
     "output_type": "error",
     "traceback": [
      "\u001b[0;36m  File \u001b[0;32m\"<ipython-input-45-43c5b9fc6e2a>\"\u001b[0;36m, line \u001b[0;32m1\u001b[0m\n\u001b[0;31m    df_for_numpy = df_pq.drop(,axis=1, level=0)\u001b[0m\n\u001b[0m                              ^\u001b[0m\n\u001b[0;31mSyntaxError\u001b[0m\u001b[0;31m:\u001b[0m invalid syntax\n"
     ]
    }
   ],
   "source": [
    " df_for_numpy = df_pq.drop(,axis=1, level=0)"
   ]
  },
  {
   "cell_type": "code",
   "execution_count": 6,
   "metadata": {},
   "outputs": [
    {
     "data": {
      "text/plain": [
       "'11.10'"
      ]
     },
     "execution_count": 6,
     "metadata": {},
     "output_type": "execute_result"
    }
   ],
   "source": [
    "import vegas \n",
    "import gvar\n",
    "gvar.__version__"
   ]
  },
  {
   "cell_type": "code",
   "execution_count": 14,
   "metadata": {},
   "outputs": [],
   "source": [
    "from DarkNews import fourvec as fv"
   ]
  },
  {
   "cell_type": "code",
   "execution_count": 14,
   "metadata": {},
   "outputs": [
    {
     "name": "stdout",
     "output_type": "stream",
     "text": [
      "Initializing the three-portal model.\n",
      "---------------------------------------------------------\n",
      "   ______           _        _   _                     \n",
      "   |  _  \\         | |      | \\ | |                    \n",
      "   | | | |__ _ _ __| | __   |  \\| | _____      _____   \n",
      "   | | | / _  | ___| |/ /   | .   |/ _ \\ \\ /\\ / / __|  \n",
      "   | |/ / (_| | |  |   <    | |\\  |  __/\\ V  V /\\__ \\  \n",
      "   |___/ \\__,_|_|  |_|\\_\\   \\_| \\_/\\___| \\_/\\_/ |___/  \n",
      "\n",
      "---------------------------------------------------------\n",
      "Model:\n",
      "\t1 dirac heavy neutrino(s).\n",
      "\n",
      "---------------------------------------------------------\n",
      "Experiment:\n",
      "\tMiniBooNE_FHC\n",
      "\tfluxfile loaded: ../fluxes/MiniBooNE_FHC.dat\n",
      "\tPOT: 1.875e+21\n",
      "\tnuclear targets: ['C12', 'H1']\n",
      "\tfiducial mass: [701.1428571428571, 116.85714285714286] tonnes\n",
      "\n",
      "Directory tree for this run already exists. Overriding it.\n"
     ]
    }
   ],
   "source": [
    "gen = GenLauncher(mzprime=0.03, m4=0.420, epsilon=epsilon_def, Umu4=umu4_def, UD4=ud4_def, gD=gD_def, \n",
    "                    neval=1000, HNLtype=\"dirac\", exp=\"miniboone_fhc\", loglevel='INFO',\n",
    "                    seed=333,\n",
    "                    parquet=True, numpy=True, hepevt=True, sparse=True, print_to_float32=True)\n",
    "\n",
    "df=gen.run(loglevel=\"ERROR\")\n",
    "df_2=gen.run(loglevel=\"ERROR\")"
   ]
  },
  {
   "cell_type": "code",
   "execution_count": null,
   "metadata": {},
   "outputs": [],
   "source": [
    "new_c(df)"
   ]
  },
  {
   "cell_type": "code",
   "execution_count": null,
   "metadata": {},
   "outputs": [],
   "source": [
    "%prun \n",
    "\n",
    "gen.dn_printer.print_events_to_HEPEVT()"
   ]
  },
  {
   "cell_type": "code",
   "execution_count": null,
   "metadata": {},
   "outputs": [],
   "source": [
    "filename=\"./data/miniboone_fhc/3plus1/m4_0.42_mzprime_0.03_dirac/\"\n",
    "\n",
    "df_std = pd.read_pickle(f\"{filename}pandas_df.pckl\")\n",
    "df_pq = pd.read_parquet(f\"{filename}pandas_df.parquet\", engine='pyarrow')\n",
    "nda = np.load(f\"{filename}ndarray.npy\")\n",
    "# ndz = np.load(f\"{filename}ndarray.npz\")\n"
   ]
  },
  {
   "cell_type": "code",
   "execution_count": null,
   "metadata": {},
   "outputs": [],
   "source": [
    "nda_fix=np.reshape(nda,(np.shape(nda)[0],int(np.shape(nda)[1]/4),4)).T\n",
    "\n"
   ]
  },
  {
   "cell_type": "markdown",
   "metadata": {},
   "source": [
    "### npz format tests"
   ]
  },
  {
   "cell_type": "code",
   "execution_count": null,
   "metadata": {},
   "outputs": [],
   "source": [
    "cols = [f'{v[0]}_{v[1]}' if v[1] else f'{v[0]}' for v in df.columns.values]\n",
    "print(cols)"
   ]
  },
  {
   "cell_type": "code",
   "execution_count": null,
   "metadata": {},
   "outputs": [],
   "source": [
    "# test that numpy array and dataframe formats save the same information\n",
    "assert (df_std.to_numpy()[nda!=0]/nda[nda!=0]!=1).sum() == 0 \n",
    "assert (df_pq.to_numpy()[nda!=0]/nda[nda!=0]!=1).sum() == 0"
   ]
  },
  {
   "cell_type": "code",
   "execution_count": null,
   "metadata": {},
   "outputs": [],
   "source": [
    "if 'as':\n",
    "    print(\"Error\")"
   ]
  },
  {
   "cell_type": "markdown",
   "metadata": {},
   "source": [
    "# Vegas tests"
   ]
  },
  {
   "cell_type": "code",
   "execution_count": null,
   "metadata": {},
   "outputs": [],
   "source": [
    "# Testing the VEGAS integration methods:\n",
    "import vegas as vg\n",
    "from collections import OrderedDict\n",
    "\n",
    "class test_integral(vg.BatchIntegrand):\n",
    "\n",
    "    def __init__(self, dim, c = 1):\n",
    "        self.dim = dim\t\n",
    "        self.c = c\n",
    "        self.analytical_func = lambda x: np.exp(self.c * x) * (self.c*x-1)/self.c**2\n",
    "        self.analytical_res  = (self.analytical_func(2) - self.analytical_func(0))\n",
    "\n",
    "        # initialize\n",
    "        self.norm = {'diff_xsec': 1, 'diff_xsec2': 1}\n",
    "        # normalize integrand with an initial throw\n",
    "        _throw = self.__call__(np.random.rand(dim,500), np.ones((dim,500)))\n",
    "        for key,val in _throw.items():\n",
    "            self.norm[key] = np.mean(val)\n",
    "    \n",
    "    def __call__(self, x, jac):\n",
    "\n",
    "        xmax = 2\n",
    "        xmin = 0\n",
    "        xx=np.empty(0)\n",
    "        diff = 1\n",
    "        diff2 = 1\n",
    "        for d in range(self.dim):\n",
    "            xx = x[:,d]*(xmax - xmin) + xmin\n",
    "            diff *= np.exp(self.c*xx)*xx\n",
    "            if d < self.dim - 2:\n",
    "                diff2 *= np.exp(self.c*xx)*xx\n",
    "\n",
    "        # hypercube jacobian (vegas hypercube --> physical limits) transformation\n",
    "        hypercube_jacobian = (xmax - xmin)\n",
    "        diff  *= hypercube_jacobian**self.dim\n",
    "        diff2 *= hypercube_jacobian**(self.dim)\n",
    "\n",
    "        ##############################################\n",
    "        # return all differential quantities of interest\n",
    "        self.int_dic = OrderedDict()\t\t\n",
    "        self.int_dic['diff_xsec'] = diff\n",
    "        self.int_dic['diff_xsec2'] = diff2\n",
    "        \n",
    "        ##############################################\n",
    "        # storing normalization for integrands to be of O(1) numbers\t\t\n",
    "        # normalization\n",
    "        for key in self.int_dic:\n",
    "            self.int_dic[key] /= self.norm[key]\n",
    "        self.int_dic['diff_xsec2'] /= jac[:,-1]*jac[:,-2]\n",
    "        return self.int_dic"
   ]
  },
  {
   "cell_type": "code",
   "execution_count": null,
   "metadata": {},
   "outputs": [],
   "source": [
    "evals = []\n",
    "evals2 = []\n",
    "for i in range(5):\n",
    "    #########################################################################\n",
    "    # BATCH SAMPLE INTEGRAND OF INTEREST\n",
    "    DIM = 6\n",
    "    batch_f = test_integral(dim=DIM)\n",
    "    integ = vg.Integrator(DIM*[[0.0, 1.0]]) # unit hypercube\n",
    "    result = dn.MC.run_vegas(batch_f, integ, NINT=20, NEVAL=10000, NINT_warmup=20, NEVAL_warmup=1000)\n",
    "    ##########################################################################\n",
    "    # print(result.summary())\n",
    "    evals.append(result['diff_xsec'].mean*batch_f.norm['diff_xsec'])\n",
    "    evals2.append(result['diff_xsec2'].mean*batch_f.norm['diff_xsec2'])\n",
    "\n",
    "plt.plot(evals/evals[0], color='blue')\n",
    "plt.plot(evals/batch_f.analytical_res**DIM, ls='--', color='blue')\n",
    "plt.plot(evals2/evals2[0], color='orange')\n",
    "plt.plot(evals2/batch_f.analytical_res**(DIM-2)/4, ls='--', color='orange')\n"
   ]
  },
  {
   "cell_type": "code",
   "execution_count": null,
   "metadata": {},
   "outputs": [],
   "source": [
    "samples, weights, jac = dn.MC.get_samples(integ, batch_f, return_jac=True)"
   ]
  },
  {
   "cell_type": "code",
   "execution_count": null,
   "metadata": {},
   "outputs": [],
   "source": [
    "np.sum(weights['diff_xsec'])*batch_f.norm['diff_xsec']/batch_f.analytical_res**DIM\n"
   ]
  },
  {
   "cell_type": "code",
   "execution_count": null,
   "metadata": {},
   "outputs": [],
   "source": [
    "np.sum(weights['diff_xsec'])*batch_f.norm['diff_xsec']/batch_f.analytical_res**(DIM)\n"
   ]
  },
  {
   "cell_type": "code",
   "execution_count": null,
   "metadata": {},
   "outputs": [],
   "source": [
    "for key,vals in weights.items():\n",
    "    plt.plot(vals)"
   ]
  },
  {
   "cell_type": "code",
   "execution_count": null,
   "metadata": {},
   "outputs": [],
   "source": [
    "(weights['diff_xsec2']*jac[:,5]).sum()\n"
   ]
  },
  {
   "cell_type": "code",
   "execution_count": null,
   "metadata": {},
   "outputs": [],
   "source": [
    "bins = 20\n",
    "\n",
    "_ = plt.hist(samples[0,:]*2, weights=weights['diff_xsec2']*batch_f.norm['diff_xsec2']/(2/bins), bins=bins, density=False)\n",
    "\n",
    "x=np.linspace(0,2)\n",
    "\n",
    "plt.plot(x, np.exp(batch_f.c * x)*x * batch_f.analytical_res**(DIM-3)*4)\n"
   ]
  },
  {
   "cell_type": "markdown",
   "metadata": {},
   "source": [
    "# profile amplitude calculation"
   ]
  },
  {
   "cell_type": "code",
   "execution_count": null,
   "metadata": {},
   "outputs": [],
   "source": [
    "proton = dn.detector.NuclearTarget(\"H1\")\n",
    "bsm_model = dn.model.create_3portal_HNL_model(mzprime=0.1, m4 = 0.01, Umu4=1e-3)\n",
    "calculator = dn.MC.XsecCalc(bsm_model = bsm_model, scattering_regime = 'p-el', nuclear_target= proton, helicity = 'conserving')"
   ]
  },
  {
   "cell_type": "code",
   "execution_count": null,
   "metadata": {},
   "outputs": [],
   "source": [
    "one = np.ones(1000)\n",
    "%prun dn.amplitudes.upscattering_dxsec_dQ2([one,one,one], calculator.ups_case)"
   ]
  },
  {
   "cell_type": "markdown",
   "metadata": {},
   "source": [
    "# profile full generation"
   ]
  },
  {
   "cell_type": "code",
   "execution_count": null,
   "metadata": {},
   "outputs": [],
   "source": [
    "ud4_def = 1.0\n",
    "alphaD = 0.25\n",
    "gD_def = np.sqrt(alphaD*4*np.pi)\n",
    "umu4_def = np.sqrt(9e-7)\n",
    "ud4 = 1.\n",
    "epsilon_def = np.sqrt(2e-10/const.alphaQED)\n",
    "\n",
    "gen = GenLauncher(mzprime=0.03, m4=0.420, epsilon=epsilon_def, Umu4=umu4_def, UD4=ud4_def, gD=gD_def, neval=1000, HNLtype=\"dirac\", exp=\"miniboone_fhc\", loglevel='INFO')\n",
    "gen.run(log=\"INFO\")\n",
    "df_mini = gen.df"
   ]
  },
  {
   "cell_type": "code",
   "execution_count": null,
   "metadata": {},
   "outputs": [],
   "source": [
    "%prun gen.run(log=\"ERROR\")"
   ]
  },
  {
   "cell_type": "code",
   "execution_count": null,
   "metadata": {},
   "outputs": [],
   "source": [
    "df_mini.w_event_rate.sum()*0.05\n"
   ]
  },
  {
   "cell_type": "code",
   "execution_count": null,
   "metadata": {},
   "outputs": [],
   "source": [
    "gen = GenLauncher(mzprime=0.03, m4=0.420, epsilon=epsilon_def, Umu4=umu4_def, UD4=ud4_def, gD=gD_def, neval=1000, HNLtype=\"dirac\", exp=\"microboone\", loglevel='ERROR')\n",
    "gen.run(log=\"ERROR\")\n",
    "df_micro = gen.df"
   ]
  },
  {
   "cell_type": "code",
   "execution_count": null,
   "metadata": {},
   "outputs": [],
   "source": [
    "ud4_def = 1.0\n",
    "alphaD = 0.4\n",
    "gD_def = np.sqrt(alphaD*4*np.pi)\n",
    "umu4_def = 4e-4\n",
    "umu5_def = 4e-4\n",
    "ud4 = 1.\n",
    "ud5 = 1.\n",
    "epsilon_def = 2.2e-2\n",
    "\n",
    "gen = GenLauncher(mzprime=1.25, m4=0.010, m5=0.490, epsilon=epsilon_def, Umu4=umu4_def, Umu5=umu5_def, UD4=ud4_def, UD5=ud5, gD=gD_def, neval=10000, HNLtype=\"majorana\", exp=\"miniboone_fhc\", loglevel='ERROR')\n",
    "gen.run(log=\"ERROR\")\n",
    "df_mini = gen.df\n",
    "\n",
    "gen = GenLauncher(mzprime=1.25, m4=0.010, m5=0.490, epsilon=epsilon_def, Umu4=umu4_def, Umu5=umu5_def, UD4=ud4_def, UD5=ud5, gD=gD_def, neval=10000, HNLtype=\"majorana\", exp=\"microboone\", loglevel='ERROR')\n",
    "gen.run(log=\"ERROR\")\n",
    "df_micro = gen.df"
   ]
  },
  {
   "cell_type": "code",
   "execution_count": null,
   "metadata": {},
   "outputs": [],
   "source": [
    "\n",
    "ud4_def = 1.0\n",
    "alphaD = 0.4\n",
    "gD_def = np.sqrt(alphaD*4*np.pi)\n",
    "umu4_def = 4e-4\n",
    "umu5_def = 4e-4\n",
    "ud4 = 1.\n",
    "ud5 = 1.\n",
    "epsilon_def = 2.2e-2\n",
    "\n",
    "gen = GenLauncher(m4=0.10, epsilon=0.0, dmu4= 1e-6, gD=0.0, neval=1000, HNLtype=\"dirac\", exp=\"miniboone_fhc\", loglevel='ERROR', decay_product='photon')\n",
    "gen.run(log=\"ERROR\")\n",
    "df_mini = gen.df\n"
   ]
  },
  {
   "cell_type": "code",
   "execution_count": null,
   "metadata": {},
   "outputs": [],
   "source": [
    "df_mini['P_decay_N_parent'][['1','2','3']].iloc[0,:]"
   ]
  },
  {
   "cell_type": "code",
   "execution_count": null,
   "metadata": {},
   "outputs": [],
   "source": [
    "print(f\" {dn.printer.print_in_order(df_mini.iat[0,'P_projectile'])}\")"
   ]
  },
  {
   "cell_type": "code",
   "execution_count": null,
   "metadata": {},
   "outputs": [],
   "source": [
    "%%prun -l 5\n",
    "\n",
    "gen3p1 = GenLauncher(hepevt=False, m4=0.420, epsilon=0.0, mu_tr_mu4= 1e-6, nopelastic=False, gD=0.0, neval=10000, HNLtype=\"dirac\", exp=\"miniboone_fhc\", loglevel='ERROR', decay_products='photon')\n",
    "# gen3p2 = GenLauncher(hepevt=False, m4=0.420, epsilon=0.0, mu_tr_mu4= 1e-6, nopelastic=False, gD=0.0, neval=10000, HNLtype=\"majorana\", exp=\"miniboone_fhc\", loglevel='ERROR', decay_products='photon')\n",
    "gen3p2 = GenLauncher(hepevt=False, m4=0.370, m5=0.420, epsilon=0.0, mu_tr_mu5= 1e-6, mu_tr_45= 1e-4, nopelastic=False, gD=0.0, neval=10000, HNLtype=\"dirac\", exp=\"miniboone_fhc\", loglevel='ERROR', decay_products='photon')\n",
    "gen3p1.run(log=\"ERROR\")\n",
    "gen3p2.run(log=\"ERROR\")\n",
    "df_3p1 = gen3p1.df\n",
    "df_3p2 = gen3p2.df"
   ]
  },
  {
   "cell_type": "code",
   "execution_count": null,
   "metadata": {},
   "outputs": [],
   "source": [
    "# energy\n",
    "\n",
    "bins = np.linspace(0,2,20)\n",
    "df = df_3p1\n",
    "mask = (df.scattering_regime=='p-el')\n",
    "x=df.P_decay_gamma.to_numpy()[:,0]\n",
    "w=df.w_event_rate.to_numpy()\n",
    "_ = plt.hist(x, weights=w, bins=bins, histtype='step', color='dodgerblue', ls='-')\n",
    "_ = plt.hist(x[mask], weights=w[mask], bins=bins, histtype='step', color='orange', ls='-')\n",
    "\n",
    "df = df_3p2\n",
    "mask = (df.scattering_regime=='p-el')\n",
    "x=df.P_decay_gamma.to_numpy()[:,0]\n",
    "w=df.w_event_rate.to_numpy()\n",
    "_ = plt.hist(x, weights=w, bins=bins, histtype='step', color='dodgerblue', ls='--')\n",
    "_ = plt.hist(x[mask], weights=w[mask], bins=bins, histtype='step', color='orange', ls='--')"
   ]
  },
  {
   "cell_type": "code",
   "execution_count": null,
   "metadata": {},
   "outputs": [],
   "source": [
    "# angle\n",
    "\n",
    "bins = np.linspace(-1,1,20)\n",
    "df = df_3p1\n",
    "mask = (df.scattering_regime=='p-el')\n",
    "x=dn.Cfv.get_cosTheta(df.P_decay_gamma.to_numpy())\n",
    "w=df.w_event_rate.to_numpy()\n",
    "_ = plt.hist(x, weights=w, bins=bins, histtype='step',color='dodgerblue', ls='-')\n",
    "_ = plt.hist(x[mask], weights=w[mask], histtype='step',bins=bins, color='orange', ls='-')\n",
    "\n",
    "df = df_3p2\n",
    "mask = (df.scattering_regime=='p-el')\n",
    "x=dn.Cfv.get_cosTheta(df.P_decay_gamma.to_numpy())\n",
    "w=df.w_event_rate.to_numpy()\n",
    "_ = plt.hist(x, weights=w, bins=bins, histtype='step', color='dodgerblue', ls='--')\n",
    "_ = plt.hist(x[mask], weights=w[mask], bins=bins, histtype='step', color='orange', ls='--')"
   ]
  },
  {
   "cell_type": "code",
   "execution_count": null,
   "metadata": {},
   "outputs": [],
   "source": [
    "print(f\"event rate Mini {df_micro['w_event_rate'].sum()*0.05}\")\n",
    "print(f\"event rate Micro {df_micro['w_event_rate'].sum()*0.05*87/818*(550/470)**2*6/18.75}\")"
   ]
  },
  {
   "cell_type": "code",
   "execution_count": null,
   "metadata": {},
   "outputs": [],
   "source": [
    "x = Cfv.get_cosTheta((df_mini['P_decay_ell_minus']+df_mini['P_decay_ell_plus']).to_numpy())\n",
    "w = df_mini['w_event_rate'].to_numpy()\n",
    "_ = plt.hist(x, weights=w, bins=np.linspace(-1,1,21))"
   ]
  },
  {
   "cell_type": "code",
   "execution_count": null,
   "metadata": {},
   "outputs": [],
   "source": [
    "\n",
    "print(f\"event rate Mini {df_mini['w_event_rate'].sum()*0.05}\")\n",
    "print(f\"event rate Micro rescaled {df_mini['w_event_rate'].sum()*87/818*(550/470)**2*6/18.75}\")\n",
    "print(f\"event rate Micro {df_micro['w_event_rate'].sum()*0.5}\")\n",
    "print(f\"event rate SBND {df_micro['w_event_rate'].sum()*112/87*(470/110)**2*0.5}\")\n",
    "print(f\"event rate Icarus {df_micro['w_event_rate'].sum()*476/87*(470/600)**2*0.5}\")"
   ]
  },
  {
   "cell_type": "code",
   "execution_count": null,
   "metadata": {},
   "outputs": [],
   "source": [
    "from DarkNews import Cfourvec as Cfv"
   ]
  },
  {
   "cell_type": "code",
   "execution_count": null,
   "metadata": {},
   "outputs": [],
   "source": [
    "\n",
    "Cfv.get_cosTheta(df_micro['P_decay_ell_minus'].to_numpy)\n"
   ]
  },
  {
   "cell_type": "code",
   "execution_count": null,
   "metadata": {},
   "outputs": [],
   "source": [
    "ud4_def = 1.0\n",
    "alphaD = 0.25\n",
    "gD_def = np.sqrt(alphaD*4*np.pi)\n",
    "umu4_def = np.sqrt(9e-8)\n",
    "ud4 = 1.\n",
    "epsilon_def = np.sqrt(2e-10/const.alphaQED)\n",
    "\n",
    "gen = GenLauncher(mzprime=0.03, m4=0.100, epsilon=epsilon_def, Umu4=umu4_def, UD4=ud4_def, gD=gD_def, neval=10000, HNLtype=\"dirac\", exp=\"miniboone_fhc\", loglevel='ERROR')\n",
    "gen.run(log=\"ERROR\")"
   ]
  },
  {
   "cell_type": "code",
   "execution_count": null,
   "metadata": {},
   "outputs": [],
   "source": [
    "gen_m = GenLauncher(mzprime=0.03, m4=0.100, epsilon=epsilon_def, Umu4=umu4_def, UD4=ud4_def, gD=gD_def, neval=10000, HNLtype=\"majorana\", exp=\"miniboone_fhc\", loglevel='ERROR')\n",
    "gen_m.run(log=\"ERROR\")"
   ]
  },
  {
   "cell_type": "code",
   "execution_count": null,
   "metadata": {},
   "outputs": [],
   "source": [
    "df = gen.df\n",
    "df_m = gen_m.df"
   ]
  },
  {
   "cell_type": "code",
   "execution_count": null,
   "metadata": {},
   "outputs": [],
   "source": [
    "print(df['w_event_rate'].sum()*0.047)\n",
    "print(df_m['w_event_rate'].sum()*0.047)"
   ]
  },
  {
   "cell_type": "code",
   "execution_count": null,
   "metadata": {},
   "outputs": [],
   "source": [
    "df = []\n",
    "for i in range(0,2):\n",
    "    gen_object = GenLauncher(m4 = 0.100, mzprime = 0.03, neval = 10000, nitn=20)\n",
    "    gen_object.run(log=\"INFO\")\n",
    "    df_1 = gen_object.df\n",
    "\n",
    "    # gen_object = GenLauncher(m4 = 0.100, mzprime = 0.02, neval = 1000, nint=20)\n",
    "    gen_object.run(log=\"INFO\")\n",
    "    df_2 = gen_object.df\n",
    "\n",
    "    df.append([df_1, df_2])"
   ]
  },
  {
   "cell_type": "code",
   "execution_count": null,
   "metadata": {},
   "outputs": [],
   "source": [
    "import matplotlib.pyplot as plt\n",
    "\n",
    "ratios_rate = []\n",
    "ratios_fxsec = []\n",
    "ratios_decay = []\n",
    "for pair in df:\n",
    "    ratios_rate.append(np.sum(pair[0]['w_event_rate'])/np.sum(pair[1]['w_event_rate']))\n",
    "    ratios_fxsec.append(np.sum(pair[0]['w_flux_avg_xsec'])/np.sum(pair[1]['w_flux_avg_xsec']))\n",
    "    \n",
    "    ratios_decay.append(np.sum(pair[0]['w_decay_rate_0'])/np.sum(pair[1]['w_decay_rate_0']))\n",
    "\n",
    "plt.scatter(range(2),ratios_rate, label=\"rate\")\n",
    "plt.scatter(range(2),ratios_fxsec, label=\"fxsec\")\n",
    "plt.scatter(range(2),ratios_decay, label=\"decay\")\n",
    "plt.legend(frameon=False)\n",
    "\n",
    "# plt.scatter(range(0,2),case1, c='blue')\n",
    "# plt.scatter(range(0,2),case2, c='orange')"
   ]
  },
  {
   "cell_type": "code",
   "execution_count": null,
   "metadata": {},
   "outputs": [],
   "source": [
    "plt.plot(df_1['w_flux_avg_xsec'])\n",
    "# plt.yscale(\"log\")\n",
    "# plt.ylim(1,1e7)\n"
   ]
  },
  {
   "cell_type": "code",
   "execution_count": null,
   "metadata": {},
   "outputs": [],
   "source": [
    "df1,df2 = df[0]\n",
    "p1 = (df1['P_projectile'] - df1['P_decay_N_parent']).to_numpy()\n",
    "h1 = dn.Cfourvec.dot4(p1,p1)\n",
    "\n",
    "p2 = (df2['P_projectile'] - df2['P_decay_N_parent']).to_numpy()\n",
    "h2 = dn.Cfourvec.dot4(p2,p2)\n",
    "\n",
    "_ = plt.hist(np.sqrt(-h1), bins=100, range=(0,0.5), histtype='step', weights=df1['w_event_rate'], lw=1)\n",
    "_ = plt.hist(np.sqrt(-h2), bins=100, range=(0,0.5), histtype='step', weights=df2['w_event_rate'], lw=1)\n"
   ]
  },
  {
   "cell_type": "code",
   "execution_count": null,
   "metadata": {},
   "outputs": [],
   "source": [
    "p1 = (df_2['P_projectile']).to_numpy()\n",
    "# p1 = (df_1['P_decay_ell_minus']+df_1['P_decay_ell_plus']).to_numpy()\n",
    "# p1 = (df_1['P_decay_ell_minus']+df_1['P_decay_ell_plus']+df_1['P_decay_N_daughter']).to_numpy()\n",
    "h1 = p1[:,0]\n",
    "_ = plt.hist(h1, bins=30, histtype='step', range=(0,2), weights=df_2['w_flux_avg_xsec'],density=True, label='True neutrino energy')\n",
    "plt.xlabel(\"Enu\")\n",
    "# plt.yscale(\"log\")\n",
    "\n",
    "\n",
    "x = np.linspace(0,2, 1000)\n",
    "y = df_1.attrs['experiment'].FLUX_FUNCTIONS[1](x)/( df_1.attrs['experiment'].FLUX_FUNCTIONS[1](x)*(x[1]-x[0])).sum()\n",
    "\n",
    "plt.plot(x,y, label='Input flux')\n",
    "plt.legend()"
   ]
  },
  {
   "cell_type": "code",
   "execution_count": null,
   "metadata": {},
   "outputs": [],
   "source": [
    "\n",
    "p1 = (df_2['P_decay_ell_minus']+df_2['P_decay_ell_plus']).to_numpy()\n",
    "\n",
    "h1 = p1[:,0]\n",
    "_ = plt.hist(h1, bins=30, histtype='step', range=(0,2), weights=df_2['w_event_rate'],density=True, label='e+e- energy')\n",
    "plt.xlabel(\"e+ e- total energy\")\n",
    "# plt.yscale(\"log\")\n",
    "\n",
    "\n",
    "x = np.linspace(0,2, 1000)\n",
    "y = df_1.attrs['experiment'].FLUX_FUNCTIONS[1](x)/( df_1.attrs['experiment'].FLUX_FUNCTIONS[1](x)*(x[1]-x[0])).sum()\n",
    "\n",
    "plt.plot(x,y, label='Input flux')\n",
    "plt.legend()"
   ]
  },
  {
   "cell_type": "code",
   "execution_count": null,
   "metadata": {},
   "outputs": [],
   "source": [
    "p1 = (df_1['P_projectile']).to_numpy()\n",
    "x = p1[:,0]\n",
    "y  = (df_1['P_decay_N_parent']).to_numpy()[:,2]\n",
    "_ = plt.scatter(x, y, marker='.', s=3,  label='True neutrino energy')\n",
    "plt.xlabel(\"Enu\")\n"
   ]
  }
 ],
 "metadata": {
  "kernelspec": {
   "display_name": "Python 3.8.13 ('py38')",
   "language": "python",
   "name": "python3"
  },
  "language_info": {
   "codemirror_mode": {
    "name": "ipython",
    "version": 3
   },
   "file_extension": ".py",
   "mimetype": "text/x-python",
   "name": "python",
   "nbconvert_exporter": "python",
   "pygments_lexer": "ipython3",
   "version": "3.8.13"
  },
  "orig_nbformat": 4,
  "vscode": {
   "interpreter": {
    "hash": "6869619afde5ccaa692f7f4d174735a0f86b1f7ceee086952855511b0b6edec0"
   }
  }
 },
 "nbformat": 4,
 "nbformat_minor": 2
}
