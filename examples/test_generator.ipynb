{
 "cells": [
  {
   "cell_type": "code",
   "execution_count": 1,
   "metadata": {},
   "outputs": [],
   "source": [
    "%load_ext autoreload\n",
    "%autoreload 2"
   ]
  },
  {
   "cell_type": "code",
   "execution_count": 2,
   "metadata": {},
   "outputs": [],
   "source": [
    "import numpy as np\n",
    "import pandas as pd\n",
    "from matplotlib import pyplot as plt\n",
    "\n",
    "import DarkNews as dn\n",
    "\n",
    "from DarkNews import const\n",
    "\n",
    "from DarkNews.GenLauncher import GenLauncher\n",
    "\n",
    "from DarkNews import Cfourvec as Cfv\n",
    "\n",
    "from particle import literals as lp\n",
    "from pathlib import Path"
   ]
  },
  {
   "cell_type": "markdown",
   "metadata": {},
   "source": [
    "# Other tests\n"
   ]
  },
  {
   "cell_type": "code",
   "execution_count": 19,
   "metadata": {},
   "outputs": [
    {
     "data": {
      "text/plain": [
       "{'model_file': None,\n",
       " 'name': 'my_model',\n",
       " 'm4': 0.1,\n",
       " 'm5': 0.2,\n",
       " 'm6': None,\n",
       " 'HNLtype': 'dirac',\n",
       " 'mzprime': 0.05,\n",
       " 'mhprime': 0.05,\n",
       " 'mu_tr_e4': 0.0,\n",
       " 'mu_tr_e5': 0.0,\n",
       " 'mu_tr_e6': 0.0,\n",
       " 'mu_tr_mu4': 0.0,\n",
       " 'mu_tr_mu5': 0.0,\n",
       " 'mu_tr_mu6': 0.0,\n",
       " 'mu_tr_tau4': 0.0,\n",
       " 'mu_tr_tau5': 0.0,\n",
       " 'mu_tr_tau6': 0.0,\n",
       " 'mu_tr_44': 0.0,\n",
       " 'mu_tr_45': 0.0,\n",
       " 'mu_tr_46': 0.0,\n",
       " 'mu_tr_55': 0.0,\n",
       " 'mu_tr_56': 0.0,\n",
       " 'mu_tr_66': 0.0,\n",
       " 's_e4': 0.0,\n",
       " 's_e5': 0.0,\n",
       " 's_e6': 0.0,\n",
       " 's_mu4': 0.0,\n",
       " 's_mu5': 0.001,\n",
       " 's_mu6': 0.0,\n",
       " 's_tau4': 0.0,\n",
       " 's_tau5': 0.0,\n",
       " 's_tau6': 0.0,\n",
       " 's_44': 0.0,\n",
       " 's_45': 1.0,\n",
       " 's_46': 0.0,\n",
       " 's_55': 0.0,\n",
       " 's_56': 0.0,\n",
       " 's_66': 0.0,\n",
       " 'cprotonV': 0.0,\n",
       " 'cprotonA': 0.0,\n",
       " 'cneutronV': 0.0,\n",
       " 'cneutronA': 0.0,\n",
       " 'dprotonV': 0.0,\n",
       " 'dprotonA': 0.0,\n",
       " 'dneutronV': 0.0,\n",
       " 'dneutronA': 0.0,\n",
       " 'dSproton': None,\n",
       " 'dSneutron': None,\n",
       " 'dPproton': None,\n",
       " 'dPneutron': None,\n",
       " 'model_params': {'m4': 0.1,\n",
       "  'm5': 0.2,\n",
       "  'mzprime': 0.05,\n",
       "  'mhprime': 0.05,\n",
       "  'HNLtype': 'dirac',\n",
       "  's_mu5': 0.001,\n",
       "  's_45': 1.0,\n",
       "  'deS': 0.001,\n",
       "  'dprotonS': 0.001,\n",
       "  'dneutronS': 0.001},\n",
       " 'c_e4': 0.0,\n",
       " 'c_e5': 0.0,\n",
       " 'c_e6': 0.0,\n",
       " 'c_mu4': 0.0,\n",
       " 'c_mu5': 0.0,\n",
       " 'c_mu6': 0.0,\n",
       " 'c_tau4': 0.0,\n",
       " 'c_tau5': 0.0,\n",
       " 'c_tau6': 0.0,\n",
       " 'c_44': 0.0,\n",
       " 'c_45': 0.0,\n",
       " 'c_46': 0.0,\n",
       " 'c_55': 0.0,\n",
       " 'c_56': 0.0,\n",
       " 'c_66': 0.0,\n",
       " 'd_e4': 0.0,\n",
       " 'd_e5': 0.0,\n",
       " 'd_e6': 0.0,\n",
       " 'd_mu4': 0.0,\n",
       " 'd_mu5': 0.0,\n",
       " 'd_mu6': 0.0,\n",
       " 'd_tau4': 0.0,\n",
       " 'd_tau5': 0.0,\n",
       " 'd_tau6': 0.0,\n",
       " 'd_44': 0.0,\n",
       " 'd_45': 0.0,\n",
       " 'd_46': 0.0,\n",
       " 'd_55': 0.0,\n",
       " 'd_56': 0.0,\n",
       " 'd_66': 0.0,\n",
       " 'ceV': 0.0,\n",
       " 'ceA': 0.0,\n",
       " 'cuV': 0.0,\n",
       " 'cuA': 0.0,\n",
       " 'cdV': 0.0,\n",
       " 'cdA': 0.0,\n",
       " 'deV': 0.0,\n",
       " 'deA': 0.0,\n",
       " 'duV': 0.0,\n",
       " 'duA': 0.0,\n",
       " 'ddV': 0.0,\n",
       " 'ddA': 0.0,\n",
       " 'deS': 0.001,\n",
       " 'deP': 0.0,\n",
       " 'duS': 0.0,\n",
       " 'duP': 0.0,\n",
       " 'ddS': 0.0,\n",
       " 'ddP': 0.0,\n",
       " 'dprotonS': 0.001,\n",
       " 'dneutronS': 0.001,\n",
       " 'dprotonP': 0.0,\n",
       " 'dneutronP': 0.0,\n",
       " 'nu_spectrum': [<Particle: name=\"nu(e)\", pdgid=12, mass=None>,\n",
       "  <Particle: name=\"nu(mu)\", pdgid=14, mass=None>,\n",
       "  <Particle: name=\"nu(tau)\", pdgid=16, mass=None>,\n",
       "  <Particle: name=\"N4\", pdgid=5914, mass=0.2 MeV>,\n",
       "  <Particle: name=\"N5\", pdgid=5915, mass=0.1 MeV>],\n",
       " '_spectrum': \"\\n\\t2 dirac heavy neutrino(s).\\n\\t3 non-zero h'-neutrino coupling(s).\",\n",
       " 'hnl_masses': array([0.2, 0.1]),\n",
       " 'neutrino4': <Particle: name=\"N4\", pdgid=5914, mass=0.2 MeV>,\n",
       " 'neutrino5': <Particle: name=\"N5\", pdgid=5915, mass=0.1 MeV>,\n",
       " 'HNL_spectrum': [<Particle: name=\"N4\", pdgid=5914, mass=0.2 MeV>,\n",
       "  <Particle: name=\"N5\", pdgid=5915, mass=0.1 MeV>],\n",
       " 'n_nus': 5,\n",
       " 'n_HNLs': 2,\n",
       " 'c_aj': array([[0.37045055, 0.        , 0.        , 0.        , 0.        ,\n",
       "         0.        ],\n",
       "        [0.        , 0.37045055, 0.        , 0.        , 0.        ,\n",
       "         0.        ],\n",
       "        [0.        , 0.        , 0.37045055, 0.        , 0.        ,\n",
       "         0.        ],\n",
       "        [0.        , 0.        , 0.        , 0.        , 0.        ,\n",
       "         0.        ],\n",
       "        [0.        , 0.        , 0.        , 0.        , 0.        ,\n",
       "         0.        ],\n",
       "        [0.        , 0.        , 0.        , 0.        , 0.        ,\n",
       "         0.        ]]),\n",
       " 'd_aj': array([[0., 0., 0., 0., 0., 0.],\n",
       "        [0., 0., 0., 0., 0., 0.],\n",
       "        [0., 0., 0., 0., 0., 0.],\n",
       "        [0., 0., 0., 0., 0., 0.],\n",
       "        [0., 0., 0., 0., 0., 0.],\n",
       "        [0., 0., 0., 0., 0., 0.]]),\n",
       " 's_aj': array([[0.   , 0.   , 0.   , 0.   , 0.   , 0.   ],\n",
       "        [0.   , 0.   , 0.   , 0.   , 0.001, 0.   ],\n",
       "        [0.   , 0.   , 0.   , 0.   , 0.   , 0.   ],\n",
       "        [0.   , 0.   , 0.   , 0.   , 1.   , 0.   ],\n",
       "        [0.   , 0.   , 0.   , 1.   , 0.   , 0.   ],\n",
       "        [0.   , 0.   , 0.   , 0.   , 0.   , 0.   ]]),\n",
       " 't_aj': array([[0., 0., 0., 0., 0., 0.],\n",
       "        [0., 0., 0., 0., 0., 0.],\n",
       "        [0., 0., 0., 0., 0., 0.],\n",
       "        [0., 0., 0., 0., 0., 0.],\n",
       "        [0., 0., 0., 0., 0., 0.],\n",
       "        [0., 0., 0., 0., 0., 0.]]),\n",
       " 'is_mass_mixed': False,\n",
       " 'has_Zboson_coupling': False,\n",
       " 'has_vector_coupling': False,\n",
       " 'has_scalar_coupling': True,\n",
       " 'hprime': <Particle: name=\"hprime\", pdgid=5901, mass=50.0 MeV>,\n",
       " 'has_TMM': False}"
      ]
     },
     "execution_count": 19,
     "metadata": {},
     "output_type": "execute_result"
    }
   ],
   "source": [
    "df.attrs['model'].__dict__."
   ]
  },
  {
   "cell_type": "code",
   "execution_count": 151,
   "metadata": {},
   "outputs": [
    {
     "name": "stdout",
     "output_type": "stream",
     "text": [
      "Initializing the three-portal model.\n",
      "---------------------------------------------------------\n",
      "   ______           _        _   _                     \n",
      "   |  _  \\         | |      | \\ | |                    \n",
      "   | | | |__ _ _ __| | __   |  \\| | _____      _____   \n",
      "   | | | / _  | ___| |/ /   | .   |/ _ \\ \\ /\\ / / __|  \n",
      "   | |/ / (_| | |  |   <    | |\\  |  __/\\ V  V /\\__ \\  \n",
      "   |___/ \\__,_|_|  |_|\\_\\   \\_| \\_/\\___| \\_/\\_/ |___/  \n",
      "\n",
      "---------------------------------------------------------\n",
      "Model:\n",
      "\t1 dirac heavy neutrino(s).\n",
      "\n",
      "---------------------------------------------------------\n",
      "Experiment:\n",
      "\tMiniBooNE_FHC\n",
      "\tfluxfile loaded: MiniBooNE_FHC.dat\n",
      "\tPOT: 1.875e+21\n",
      "\tnuclear targets: ['C12', 'H1']\n",
      "\tfiducial mass: [701.1428571428571, 116.85714285714286] tonnes\n",
      "\n",
      "Directory tree for this run already exists. Overriding it.\n",
      "---------------------------------------------------------\n",
      "Generating Events using the neutrino-nucleus upscattering engine\n",
      "\n",
      "nu(mu) proton_in_C12 --> N4  proton_in_C12 --> nu_light e+ e- proton_in_C12\n",
      "Helicity conserving upscattering.\n",
      "N4 three-body decays.\n",
      "Parent N4 proper decay length: 5.273E+07 cm.\n",
      "\n",
      "Predicted (38.7 +/- 0.459) events.\n",
      "\n",
      "nu(mu) proton_in_H1 --> N4  proton_in_H1 --> nu_light e+ e- proton_in_H1\n",
      "Helicity conserving upscattering.\n",
      "N4 three-body decays.\n",
      "Parent N4 proper decay length: 5.277E+07 cm.\n",
      "\n",
      "Predicted (12.8 +/- 0.15) events.\n",
      "\n",
      "---------------------------------------------------------\n",
      "Generation successful\n",
      "\n",
      "Total events predicted:\n",
      "(51.5 +/- 0.483) events.\n",
      "\n",
      "---------------------------------------------------------\n",
      "Events in pandas dataframe saved to file successfully:\n",
      "data/miniboone_fhc/3plus1/m4_0.15_mzprime_1.25_dirac/pandas_df.pckl\n",
      "\n"
     ]
    }
   ],
   "source": [
    "MODEL_KWARGS = {'HNLtype': 'majorana', 'UD4': 1.0, 'alphaD': 0.25, 'Umu4': np.sqrt(9e-7), 'epsilon': np.sqrt(2e-10/const.alphaQED)}\n",
    "\n",
    "\n",
    "# gen = GenLauncher(mu_tr_mu4=1e-6, m4=0.5, epsilon=0.0, gD=0.0, decay_product='e+e-', Umu4=0.0,\n",
    "#                     neval=1000, experiment=\"miniboone_fhc\", loglevel='info', seed=42)\n",
    "gen = GenLauncher(noHF=True, nocoh=True)\n",
    "df = gen.run()\n"
   ]
  },
  {
   "cell_type": "code",
   "execution_count": 152,
   "metadata": {},
   "outputs": [
    {
     "data": {
      "text/plain": [
       "MultiIndex([(      'P_projectile', '0'),\n",
       "            (      'P_projectile', '1'),\n",
       "            (      'P_projectile', '2'),\n",
       "            (      'P_projectile', '3'),\n",
       "            (          'P_target', '0'),\n",
       "            (          'P_target', '1'),\n",
       "            (          'P_target', '2'),\n",
       "            (          'P_target', '3'),\n",
       "            (          'P_recoil', '0'),\n",
       "            (          'P_recoil', '1'),\n",
       "            (          'P_recoil', '2'),\n",
       "            (          'P_recoil', '3'),\n",
       "            (  'P_decay_N_parent', '0'),\n",
       "            (  'P_decay_N_parent', '1'),\n",
       "            (  'P_decay_N_parent', '2'),\n",
       "            (  'P_decay_N_parent', '3'),\n",
       "            ( 'P_decay_ell_minus', '0'),\n",
       "            ( 'P_decay_ell_minus', '1'),\n",
       "            ( 'P_decay_ell_minus', '2'),\n",
       "            ( 'P_decay_ell_minus', '3'),\n",
       "            (  'P_decay_ell_plus', '0'),\n",
       "            (  'P_decay_ell_plus', '1'),\n",
       "            (  'P_decay_ell_plus', '2'),\n",
       "            (  'P_decay_ell_plus', '3'),\n",
       "            ('P_decay_N_daughter', '0'),\n",
       "            ('P_decay_N_daughter', '1'),\n",
       "            ('P_decay_N_daughter', '2'),\n",
       "            ('P_decay_N_daughter', '3'),\n",
       "            (         'pos_scatt', '0'),\n",
       "            (         'pos_scatt', '1'),\n",
       "            (         'pos_scatt', '2'),\n",
       "            (         'pos_scatt', '3'),\n",
       "            (    'w_decay_rate_0',  ''),\n",
       "            (      'w_event_rate',  ''),\n",
       "            (   'w_flux_avg_xsec',  ''),\n",
       "            (            'target',  ''),\n",
       "            (      'target_pdgid',  ''),\n",
       "            ( 'scattering_regime',  ''),\n",
       "            (          'helicity',  ''),\n",
       "            ('underlying_process',  ''),\n",
       "            (      'h_projectile',  ''),\n",
       "            (          'h_parent',  ''),\n",
       "            (         'pos_decay', '0'),\n",
       "            (         'pos_decay', '1'),\n",
       "            (         'pos_decay', '2'),\n",
       "            (         'pos_decay', '3')],\n",
       "           )"
      ]
     },
     "execution_count": 152,
     "metadata": {},
     "output_type": "execute_result"
    }
   ],
   "source": [
    "df.columns"
   ]
  },
  {
   "cell_type": "code",
   "execution_count": 153,
   "metadata": {},
   "outputs": [
    {
     "data": {
      "text/plain": [
       "array([0., 0., 0., ..., 0., 0., 0.])"
      ]
     },
     "execution_count": 153,
     "metadata": {},
     "output_type": "execute_result"
    }
   ],
   "source": [
    "P_proj_CM[:,2]"
   ]
  },
  {
   "cell_type": "code",
   "execution_count": 155,
   "metadata": {},
   "outputs": [
    {
     "data": {
      "text/plain": [
       "(array([1.64577526e-04, 0.00000000e+00, 0.00000000e+00, 2.51611539e-04,\n",
       "        0.00000000e+00, 0.00000000e+00, 2.67471477e-03, 0.00000000e+00,\n",
       "        0.00000000e+00, 1.51922289e-03, 1.74806014e-03, 1.28511130e-02,\n",
       "        7.12167507e-03, 1.36456778e-02, 6.58886075e-02, 1.32556524e-01,\n",
       "        3.88559383e+01, 1.21817801e+01, 1.67905741e-01, 2.96993374e-02,\n",
       "        1.21022611e-02, 1.92306581e-02, 1.17726038e-02, 4.92197621e-03,\n",
       "        0.00000000e+00, 1.81553463e-04, 0.00000000e+00, 0.00000000e+00,\n",
       "        7.31414400e-04, 0.00000000e+00, 1.34731820e-04, 0.00000000e+00,\n",
       "        0.00000000e+00, 2.80884064e-04, 0.00000000e+00, 0.00000000e+00,\n",
       "        0.00000000e+00, 0.00000000e+00, 0.00000000e+00, 2.18732447e-06,\n",
       "        0.00000000e+00, 0.00000000e+00, 0.00000000e+00, 0.00000000e+00,\n",
       "        0.00000000e+00, 0.00000000e+00, 0.00000000e+00, 0.00000000e+00,\n",
       "        0.00000000e+00, 0.00000000e+00, 0.00000000e+00, 0.00000000e+00,\n",
       "        0.00000000e+00, 0.00000000e+00, 0.00000000e+00, 0.00000000e+00,\n",
       "        0.00000000e+00, 4.76187074e-05, 0.00000000e+00, 0.00000000e+00,\n",
       "        0.00000000e+00, 0.00000000e+00, 0.00000000e+00, 0.00000000e+00,\n",
       "        0.00000000e+00, 0.00000000e+00, 0.00000000e+00, 0.00000000e+00,\n",
       "        0.00000000e+00, 0.00000000e+00, 0.00000000e+00, 0.00000000e+00,\n",
       "        0.00000000e+00, 0.00000000e+00, 0.00000000e+00, 0.00000000e+00,\n",
       "        0.00000000e+00, 0.00000000e+00, 0.00000000e+00, 0.00000000e+00,\n",
       "        0.00000000e+00, 0.00000000e+00, 0.00000000e+00, 0.00000000e+00,\n",
       "        0.00000000e+00, 0.00000000e+00, 0.00000000e+00, 0.00000000e+00,\n",
       "        0.00000000e+00, 0.00000000e+00, 0.00000000e+00, 0.00000000e+00,\n",
       "        0.00000000e+00, 0.00000000e+00, 0.00000000e+00, 0.00000000e+00,\n",
       "        0.00000000e+00, 0.00000000e+00, 0.00000000e+00, 2.58240437e-05]),\n",
       " array([-1.00808251e-13, -9.48665929e-14, -8.89249351e-14, -8.29832774e-14,\n",
       "        -7.70416196e-14, -7.10999619e-14, -6.51583041e-14, -5.92166463e-14,\n",
       "        -5.32749886e-14, -4.73333308e-14, -4.13916731e-14, -3.54500153e-14,\n",
       "        -2.95083576e-14, -2.35666998e-14, -1.76250421e-14, -1.16833843e-14,\n",
       "        -5.74172654e-15,  1.99931217e-16,  6.14158897e-15,  1.20832467e-14,\n",
       "         1.80249045e-14,  2.39665622e-14,  2.99082200e-14,  3.58498778e-14,\n",
       "         4.17915355e-14,  4.77331933e-14,  5.36748510e-14,  5.96165088e-14,\n",
       "         6.55581665e-14,  7.14998243e-14,  7.74414820e-14,  8.33831398e-14,\n",
       "         8.93247976e-14,  9.52664553e-14,  1.01208113e-13,  1.07149771e-13,\n",
       "         1.13091429e-13,  1.19033086e-13,  1.24974744e-13,  1.30916402e-13,\n",
       "         1.36858060e-13,  1.42799717e-13,  1.48741375e-13,  1.54683033e-13,\n",
       "         1.60624691e-13,  1.66566348e-13,  1.72508006e-13,  1.78449664e-13,\n",
       "         1.84391322e-13,  1.90332979e-13,  1.96274637e-13,  2.02216295e-13,\n",
       "         2.08157953e-13,  2.14099610e-13,  2.20041268e-13,  2.25982926e-13,\n",
       "         2.31924584e-13,  2.37866241e-13,  2.43807899e-13,  2.49749557e-13,\n",
       "         2.55691215e-13,  2.61632872e-13,  2.67574530e-13,  2.73516188e-13,\n",
       "         2.79457846e-13,  2.85399504e-13,  2.91341161e-13,  2.97282819e-13,\n",
       "         3.03224477e-13,  3.09166135e-13,  3.15107792e-13,  3.21049450e-13,\n",
       "         3.26991108e-13,  3.32932766e-13,  3.38874423e-13,  3.44816081e-13,\n",
       "         3.50757739e-13,  3.56699397e-13,  3.62641054e-13,  3.68582712e-13,\n",
       "         3.74524370e-13,  3.80466028e-13,  3.86407685e-13,  3.92349343e-13,\n",
       "         3.98291001e-13,  4.04232659e-13,  4.10174316e-13,  4.16115974e-13,\n",
       "         4.22057632e-13,  4.27999290e-13,  4.33940947e-13,  4.39882605e-13,\n",
       "         4.45824263e-13,  4.51765921e-13,  4.57707578e-13,  4.63649236e-13,\n",
       "         4.69590894e-13,  4.75532552e-13,  4.81474209e-13,  4.87415867e-13,\n",
       "         4.93357525e-13]),\n",
       " [<matplotlib.patches.Polygon at 0x7f89678dc5e0>])"
      ]
     },
     "execution_count": 155,
     "metadata": {},
     "output_type": "execute_result"
    },
    {
     "data": {
      "image/png": "[encoded data removed]",
      "text/plain": [
       "<Figure size 432x288 with 1 Axes>"
      ]
     },
     "metadata": {
      "needs_background": "light"
     },
     "output_type": "display_data"
    }
   ],
   "source": [
    "M = df['P_target','0']\n",
    "s = M**2 + 2*M*df['P_projectile','0']\n",
    "E2CM = (s + M ** 2) / 2.0 / np.sqrt(s)\n",
    "p2CM = np.sqrt(E2CM ** 2 - M ** 2)\n",
    "beta = (-p2CM / E2CM).to_numpy()\n",
    "\n",
    "P_recoil_CM = Cfv.L(df['P_recoil'].to_numpy(), -beta)\n",
    "P_target_CM = Cfv.L(df['P_target'].to_numpy(), -beta)\n",
    "P_proj_CM = Cfv.L(df['P_projectile'].to_numpy(), -beta)\n",
    "P_N_CM = Cfv.L(df['P_decay_N_parent'].to_numpy(), -beta)\n",
    "\n",
    "plt.hist(P_target_CM[:,1]+P_proj_CM[:,1], weights = df['w_event_rate'], histtype='step', bins=100)\n",
    "plt.hist(P_recoil_CM[:,1]+P_N_CM[:,1], weights = df['w_event_rate'], histtype='step', bins=100)\n"
   ]
  },
  {
   "cell_type": "code",
   "execution_count": 161,
   "metadata": {},
   "outputs": [
    {
     "data": {
      "text/plain": [
       "(array([8.41309141e-06, 0.00000000e+00, 0.00000000e+00, 0.00000000e+00,\n",
       "        0.00000000e+00, 0.00000000e+00, 0.00000000e+00, 0.00000000e+00,\n",
       "        0.00000000e+00, 0.00000000e+00, 0.00000000e+00, 0.00000000e+00,\n",
       "        0.00000000e+00, 0.00000000e+00, 3.10794261e-06, 0.00000000e+00,\n",
       "        0.00000000e+00, 0.00000000e+00, 0.00000000e+00, 0.00000000e+00,\n",
       "        0.00000000e+00, 0.00000000e+00, 1.41841579e-05, 6.86537397e-06,\n",
       "        0.00000000e+00, 0.00000000e+00, 0.00000000e+00, 0.00000000e+00,\n",
       "        0.00000000e+00, 4.61428318e-05, 0.00000000e+00, 0.00000000e+00,\n",
       "        0.00000000e+00, 0.00000000e+00, 0.00000000e+00, 0.00000000e+00,\n",
       "        0.00000000e+00, 4.84177605e-05, 0.00000000e+00, 1.37661409e-04,\n",
       "        0.00000000e+00, 0.00000000e+00, 4.75091275e-05, 5.30574696e-05,\n",
       "        0.00000000e+00, 2.39342180e-04, 7.25787542e-05, 1.46136644e-04,\n",
       "        1.00283052e-04, 1.35155572e-04, 8.32596369e-04, 1.51152232e-03,\n",
       "        6.40811209e-04, 3.28956337e-03, 5.50242778e-03, 3.97938991e-03,\n",
       "        5.00285314e-03, 9.10453491e-03, 1.00517799e-02, 1.27261658e-02,\n",
       "        2.07888052e-02, 3.06661056e-02, 4.67690047e-02, 3.93727167e-02,\n",
       "        3.15363267e-02, 7.95400770e-02, 9.42342484e-02, 1.12041351e-01,\n",
       "        1.52454377e-01, 1.94640532e-01, 2.41785709e-01, 3.44751615e-01,\n",
       "        3.61804965e-01, 4.74934509e-01, 6.11790929e-01, 6.61719166e-01,\n",
       "        7.25877163e-01, 9.60875594e-01, 1.13271855e+00, 1.36545528e+00,\n",
       "        1.50902750e+00, 1.62140423e+00, 1.71618378e+00, 2.17248656e+00,\n",
       "        2.27363056e+00, 2.57201616e+00, 2.48981236e+00, 2.66197449e+00,\n",
       "        2.91423652e+00, 3.02462674e+00, 3.06662371e+00, 3.11615923e+00,\n",
       "        2.88785234e+00, 2.88276938e+00, 2.60049451e+00, 2.00599910e+00,\n",
       "        1.76296773e+00, 1.38156596e+00, 8.37168736e-01, 2.88719908e-01]),\n",
       " array([128.78953713, 129.30153423, 129.81353133, 130.32552843,\n",
       "        130.83752553, 131.34952263, 131.86151973, 132.37351683,\n",
       "        132.88551393, 133.39751103, 133.90950813, 134.42150523,\n",
       "        134.93350233, 135.44549943, 135.95749653, 136.46949363,\n",
       "        136.98149073, 137.49348783, 138.00548493, 138.51748203,\n",
       "        139.02947913, 139.54147623, 140.05347333, 140.56547043,\n",
       "        141.07746753, 141.58946463, 142.10146173, 142.61345883,\n",
       "        143.12545593, 143.63745303, 144.14945013, 144.66144723,\n",
       "        145.17344433, 145.68544143, 146.19743853, 146.70943563,\n",
       "        147.22143273, 147.73342983, 148.24542693, 148.75742403,\n",
       "        149.26942113, 149.78141823, 150.29341533, 150.80541243,\n",
       "        151.31740953, 151.82940663, 152.34140373, 152.85340083,\n",
       "        153.36539793, 153.87739503, 154.38939213, 154.90138923,\n",
       "        155.41338633, 155.92538343, 156.43738053, 156.94937763,\n",
       "        157.46137473, 157.97337182, 158.48536892, 158.99736602,\n",
       "        159.50936312, 160.02136022, 160.53335732, 161.04535442,\n",
       "        161.55735152, 162.06934862, 162.58134572, 163.09334282,\n",
       "        163.60533992, 164.11733702, 164.62933412, 165.14133122,\n",
       "        165.65332832, 166.16532542, 166.67732252, 167.18931962,\n",
       "        167.70131672, 168.21331382, 168.72531092, 169.23730802,\n",
       "        169.74930512, 170.26130222, 170.77329932, 171.28529642,\n",
       "        171.79729352, 172.30929062, 172.82128772, 173.33328482,\n",
       "        173.84528192, 174.35727902, 174.86927612, 175.38127322,\n",
       "        175.89327032, 176.40526742, 176.91726452, 177.42926162,\n",
       "        177.94125872, 178.45325582, 178.96525292, 179.47725002,\n",
       "        179.98924712]),\n",
       " <BarContainer object of 100 artists>)"
      ]
     },
     "execution_count": 161,
     "metadata": {},
     "output_type": "execute_result"
    },
    {
     "data": {
      "image/png": "[encoded data removed]",
      "text/plain": [
       "<Figure size 432x288 with 1 Axes>"
      ]
     },
     "metadata": {
      "needs_background": "light"
     },
     "output_type": "display_data"
    }
   ],
   "source": [
    "plt.hist( np.arccos(Cfv.get_cosTheta(Cfv.L(P_recoil_CM, *beta/beta)))*180/np.pi, bins=100, weights=df['w_event_rate'])\n"
   ]
  },
  {
   "cell_type": "code",
   "execution_count": 104,
   "metadata": {},
   "outputs": [
    {
     "data": {
      "text/plain": [
       "(array([33.98880313,  0.        ,  0.        ,  0.        ,  0.        ,\n",
       "         0.        ,  0.        ,  0.        ,  0.        ,  0.        ,\n",
       "         0.        ,  0.        ,  0.        ,  0.        ,  0.        ,\n",
       "         0.        ,  0.        ,  0.        ,  0.        ,  0.        ,\n",
       "         0.        ,  0.        ,  0.        ,  0.        ,  0.        ,\n",
       "         0.        ,  0.        ,  0.        ,  0.        ,  0.        ,\n",
       "         0.        ,  0.        ,  0.        ,  0.        ,  0.        ,\n",
       "         0.        ,  0.        ,  0.        ,  0.        ,  0.        ,\n",
       "         0.        ,  0.        ,  0.        ,  0.        ,  0.        ,\n",
       "         0.        ,  0.        ,  0.        ,  0.        ,  0.        ,\n",
       "         0.        ,  0.        ,  0.        ,  0.        ,  0.        ,\n",
       "         0.        ,  0.        ,  0.        ,  0.        ,  0.        ,\n",
       "         0.        ,  0.        ,  0.        ,  0.        ,  0.        ,\n",
       "         0.        ,  0.        ,  0.        ,  0.        ,  0.        ,\n",
       "         0.        ,  0.        ,  0.        ,  0.        ,  0.        ,\n",
       "         0.        ,  0.        ,  0.        ,  0.        ,  0.        ,\n",
       "         0.        ,  0.        ,  0.        ,  0.        ,  0.        ,\n",
       "         0.        ,  0.        ,  0.        ,  0.        ,  0.        ,\n",
       "         0.        ,  0.        ,  0.        ,  0.        ,  0.        ,\n",
       "         0.        ,  0.        ,  0.        ,  0.        , 35.08591442]),\n",
       " array([  0. ,   1.8,   3.6,   5.4,   7.2,   9. ,  10.8,  12.6,  14.4,\n",
       "         16.2,  18. ,  19.8,  21.6,  23.4,  25.2,  27. ,  28.8,  30.6,\n",
       "         32.4,  34.2,  36. ,  37.8,  39.6,  41.4,  43.2,  45. ,  46.8,\n",
       "         48.6,  50.4,  52.2,  54. ,  55.8,  57.6,  59.4,  61.2,  63. ,\n",
       "         64.8,  66.6,  68.4,  70.2,  72. ,  73.8,  75.6,  77.4,  79.2,\n",
       "         81. ,  82.8,  84.6,  86.4,  88.2,  90. ,  91.8,  93.6,  95.4,\n",
       "         97.2,  99. , 100.8, 102.6, 104.4, 106.2, 108. , 109.8, 111.6,\n",
       "        113.4, 115.2, 117. , 118.8, 120.6, 122.4, 124.2, 126. , 127.8,\n",
       "        129.6, 131.4, 133.2, 135. , 136.8, 138.6, 140.4, 142.2, 144. ,\n",
       "        145.8, 147.6, 149.4, 151.2, 153. , 154.8, 156.6, 158.4, 160.2,\n",
       "        162. , 163.8, 165.6, 167.4, 169.2, 171. , 172.8, 174.6, 176.4,\n",
       "        178.2, 180. ]),\n",
       " [<matplotlib.patches.Polygon at 0x7f8984f05e50>])"
      ]
     },
     "execution_count": 104,
     "metadata": {},
     "output_type": "execute_result"
    },
    {
     "data": {
      "image/png": "[encoded data removed]",
      "text/plain": [
       "<Figure size 432x288 with 1 Axes>"
      ]
     },
     "metadata": {
      "needs_background": "light"
     },
     "output_type": "display_data"
    }
   ],
   "source": [
    "import DarkNews.fourvec as fv\n",
    "plt.hist( np.arccos(Cfv.get_cosTheta(df['P_target'].to_numpy()))*180/np.pi, bins=100, weights=df['w_event_rate'])\n",
    "plt.hist( np.arccos(fv.df_cos_azimuthal(df['P_target']))*180/np.pi, histtype='step', bins=100, weights=df['w_event_rate'])"
   ]
  },
  {
   "cell_type": "code",
   "execution_count": 6,
   "metadata": {},
   "outputs": [
    {
     "ename": "ValueError",
     "evalue": "Parameter 'nu_flavors', invalid choice: ['nu_mu', 'nu_e', 'nu_mu_bar'], (choose among nu_e, nu_mu, nu_tau, nu_e_bar, nu_mu_bar, nu_tau_bar)",
     "output_type": "error",
     "traceback": [
      "\u001b[0;31m---------------------------------------------------------------------------\u001b[0m",
      "\u001b[0;31mValueError\u001b[0m                                Traceback (most recent call last)",
      "\u001b[1;32m/Users/matheushostert/Repos/DarkNews-generator/examples/test_generator.ipynb Cell 3'\u001b[0m in \u001b[0;36m<cell line: 3>\u001b[0;34m()\u001b[0m\n\u001b[1;32m      <a href='vscode-notebook-cell:/Users/matheushostert/Repos/DarkNews-generator/examples/test_generator.ipynb#ch0000002?line=0'>1</a>\u001b[0m MODEL_KWARGS \u001b[39m=\u001b[39m {\u001b[39m'\u001b[39m\u001b[39mHNLtype\u001b[39m\u001b[39m'\u001b[39m: \u001b[39m'\u001b[39m\u001b[39mdirac\u001b[39m\u001b[39m'\u001b[39m, \u001b[39m'\u001b[39m\u001b[39mUD4\u001b[39m\u001b[39m'\u001b[39m: \u001b[39m1.0\u001b[39m, \u001b[39m'\u001b[39m\u001b[39malphaD\u001b[39m\u001b[39m'\u001b[39m: \u001b[39m0.25\u001b[39m, \u001b[39m'\u001b[39m\u001b[39mUmu4\u001b[39m\u001b[39m'\u001b[39m: np\u001b[39m.\u001b[39msqrt(\u001b[39m9e-7\u001b[39m), \u001b[39m'\u001b[39m\u001b[39mepsilon\u001b[39m\u001b[39m'\u001b[39m: np\u001b[39m.\u001b[39msqrt(\u001b[39m2e-10\u001b[39m\u001b[39m/\u001b[39mconst\u001b[39m.\u001b[39malphaQED)}\n\u001b[0;32m----> <a href='vscode-notebook-cell:/Users/matheushostert/Repos/DarkNews-generator/examples/test_generator.ipynb#ch0000002?line=2'>3</a>\u001b[0m gen \u001b[39m=\u001b[39m GenLauncher(mzprime\u001b[39m=\u001b[39;49m\u001b[39m0.03\u001b[39;49m, m4\u001b[39m=\u001b[39;49m\u001b[39m0.420\u001b[39;49m, neval\u001b[39m=\u001b[39;49m\u001b[39m1000\u001b[39;49m, nu_flavors\u001b[39m=\u001b[39;49m[\u001b[39m'\u001b[39;49m\u001b[39mnu_mu\u001b[39;49m\u001b[39m'\u001b[39;49m,\u001b[39m'\u001b[39;49m\u001b[39mnu_e\u001b[39;49m\u001b[39m'\u001b[39;49m,\u001b[39m'\u001b[39;49m\u001b[39mnu_mu_bar\u001b[39;49m\u001b[39m'\u001b[39;49m], exp\u001b[39m=\u001b[39;49m\u001b[39m\"\u001b[39;49m\u001b[39mminiboone_fhc\u001b[39;49m\u001b[39m\"\u001b[39;49m, loglevel\u001b[39m=\u001b[39;49m\u001b[39m'\u001b[39;49m\u001b[39mwarning\u001b[39;49m\u001b[39m'\u001b[39;49m, seed\u001b[39m=\u001b[39;49m\u001b[39m42\u001b[39;49m, numpy\u001b[39m=\u001b[39;49m\u001b[39mTrue\u001b[39;49;00m, parquet\u001b[39m=\u001b[39;49m\u001b[39mTrue\u001b[39;49;00m, sparse\u001b[39m=\u001b[39;49m\u001b[39mTrue\u001b[39;49;00m, \u001b[39m*\u001b[39;49m\u001b[39m*\u001b[39;49mMODEL_KWARGS)\n\u001b[1;32m      <a href='vscode-notebook-cell:/Users/matheushostert/Repos/DarkNews-generator/examples/test_generator.ipynb#ch0000002?line=3'>4</a>\u001b[0m df\u001b[39m=\u001b[39mgen\u001b[39m.\u001b[39mrun(loglevel\u001b[39m=\u001b[39m\u001b[39m\"\u001b[39m\u001b[39mwarning\u001b[39m\u001b[39m\"\u001b[39m)\n",
      "File \u001b[0;32m~/Repos/DarkNews-generator/src/DarkNews/GenLauncher.py:176\u001b[0m, in \u001b[0;36mGenLauncher.__init__\u001b[0;34m(self, param_file, **kwargs)\u001b[0m\n\u001b[1;32m    173\u001b[0m     \u001b[39mself\u001b[39m\u001b[39m.\u001b[39m_load_file(param_file)\n\u001b[1;32m    175\u001b[0m \u001b[39m# load constructor parameters\u001b[39;00m\n\u001b[0;32m--> 176\u001b[0m \u001b[39mself\u001b[39;49m\u001b[39m.\u001b[39;49m_load_parameters(raise_errors\u001b[39m=\u001b[39;49m\u001b[39mTrue\u001b[39;49;00m, \u001b[39m*\u001b[39;49m\u001b[39m*\u001b[39;49mkwargs)\n\u001b[1;32m    178\u001b[0m \u001b[39m# build args_dict to pass to various methods\u001b[39;00m\n\u001b[1;32m    179\u001b[0m args_dict \u001b[39m=\u001b[39m {}\n",
      "File \u001b[0;32m~/Repos/DarkNews-generator/src/DarkNews/GenLauncher.py:281\u001b[0m, in \u001b[0;36mGenLauncher._load_parameters\u001b[0;34m(self, raise_errors, **kwargs)\u001b[0m\n\u001b[1;32m    279\u001b[0m \u001b[39m# check the value within the choices\u001b[39;00m\n\u001b[1;32m    280\u001b[0m \u001b[39mif\u001b[39;00m parameter \u001b[39min\u001b[39;00m \u001b[39mself\u001b[39m\u001b[39m.\u001b[39m_choices\u001b[39m.\u001b[39mkeys() \u001b[39mand\u001b[39;00m value \u001b[39mnot\u001b[39;00m \u001b[39min\u001b[39;00m \u001b[39mself\u001b[39m\u001b[39m.\u001b[39m_choices[parameter]:\n\u001b[0;32m--> 281\u001b[0m     \u001b[39mraise\u001b[39;00m \u001b[39mValueError\u001b[39;00m(\u001b[39mf\u001b[39m\u001b[39m\"\u001b[39m\u001b[39mParameter \u001b[39m\u001b[39m'\u001b[39m\u001b[39m{\u001b[39;00mparameter\u001b[39m}\u001b[39;00m\u001b[39m'\u001b[39m\u001b[39m, invalid choice: \u001b[39m\u001b[39m{\u001b[39;00mvalue\u001b[39m}\u001b[39;00m\u001b[39m, (choose among \u001b[39m\u001b[39m\"\u001b[39m \u001b[39m+\u001b[39m \u001b[39m\"\u001b[39m\u001b[39m, \u001b[39m\u001b[39m\"\u001b[39m\u001b[39m.\u001b[39mjoin([\u001b[39mf\u001b[39m\u001b[39m\"\u001b[39m\u001b[39m{\u001b[39;00mel\u001b[39m}\u001b[39;00m\u001b[39m\"\u001b[39m \u001b[39mfor\u001b[39;00m el \u001b[39min\u001b[39;00m \u001b[39mself\u001b[39m\u001b[39m.\u001b[39m_choices[parameter]]) \u001b[39m+\u001b[39m \u001b[39m\"\u001b[39m\u001b[39m)\u001b[39m\u001b[39m\"\u001b[39m)\n\u001b[1;32m    282\u001b[0m \u001b[39m# set the parameter\u001b[39;00m\n\u001b[1;32m    283\u001b[0m \u001b[39msetattr\u001b[39m(\u001b[39mself\u001b[39m, parameter, value)\n",
      "\u001b[0;31mValueError\u001b[0m: Parameter 'nu_flavors', invalid choice: ['nu_mu', 'nu_e', 'nu_mu_bar'], (choose among nu_e, nu_mu, nu_tau, nu_e_bar, nu_mu_bar, nu_tau_bar)"
     ]
    }
   ],
   "source": [
    "MODEL_KWARGS = {'HNLtype': 'dirac', 'UD4': 1.0, 'alphaD': 0.25, 'Umu4': np.sqrt(9e-7), 'epsilon': np.sqrt(2e-10/const.alphaQED)}\n",
    "\n",
    "gen = GenLauncher(mzprime=0.03, m4=0.420, neval=1000, nu_flavors=['nu_mu','nu_e','nu_mu_bar'], experiment=\"miniboone_fhc\", loglevel='warning', seed=42, numpy=True, parquet=True, sparse=True, **MODEL_KWARGS)\n",
    "df=gen.run(loglevel=\"warning\")"
   ]
  },
  {
   "cell_type": "code",
   "execution_count": 5,
   "metadata": {},
   "outputs": [
    {
     "data": {
      "text/plain": [
       "0      -1\n",
       "1      -1\n",
       "2      -1\n",
       "3      -1\n",
       "4      -1\n",
       "       ..\n",
       "5587    1\n",
       "5588    1\n",
       "5589    1\n",
       "5590    1\n",
       "5591    1\n",
       "Name: h_parent, Length: 5592, dtype: int64"
      ]
     },
     "execution_count": 5,
     "metadata": {},
     "output_type": "execute_result"
    }
   ],
   "source": [
    "df['h_projectile']"
   ]
  },
  {
   "cell_type": "code",
   "execution_count": 22,
   "metadata": {},
   "outputs": [],
   "source": [
    "gen_path = df.attrs['data_path']\n",
    "df_pq = pd.read_parquet(Path(f\"{gen_path}/pandas_df.parquet\"), engine='pyarrow')\n",
    "# df_pq = pd.read_pickle(Path(f\"{gen_path}/pandas_df.pckl\"))\n",
    "nda = np.load(Path(f\"{gen_path}/ndarray.npy\"))\n"
   ]
  },
  {
   "cell_type": "code",
   "execution_count": 23,
   "metadata": {},
   "outputs": [],
   "source": [
    "df_pandas = df_pq\n",
    "# helicity only present in sparse format\n",
    "if 'helicity' in df_pandas.columns.levels[0]:\n",
    "    # test that numpy array and dataframe formats save the same information\n",
    "    df_pandas = df_pandas.replace(to_replace='conserving', value= '+1')\n",
    "    df_pandas = df_pandas.replace(to_replace='flipping',   value= '-1')\n",
    "\n",
    "# remove non-numeric entries\n",
    "drop_list = ['underlying_process','target','scattering_regime']\n",
    "if not set(drop_list).isdisjoint(df_pandas.columns.levels[0]):\n",
    "    df_for_numpy = df_pandas.drop([col for col in drop_list if col in df_pandas.columns.levels[0]], axis=1, level=0).to_numpy(dtype=np.float64) \n",
    "else:\n",
    "    df_for_numpy = df_pandas.to_numpy(dtype=np.float64)  \n",
    "assert (df_for_numpy[nda!=0]/nda[nda!=0]!=1).sum() == 0, 'pandas dataframe and numpy array seem to contain different data.'\n"
   ]
  },
  {
   "cell_type": "code",
   "execution_count": 89,
   "metadata": {},
   "outputs": [
    {
     "data": {
      "text/plain": [
       "array([[ 9.17188653e-01,  9.16124727e-01,  1.59980230e-02, ...,\n",
       "         3.73399539e-06,  2.01213964e-15,  1.38903642e+01],\n",
       "       [ 1.37667063e+00,  1.37617485e+00,  2.59185364e-02, ...,\n",
       "         2.16799358e-06,  3.58706846e-15,  8.95753095e+00],\n",
       "       [ 1.29687705e+00,  1.29584745e+00, -2.41520320e-02, ...,\n",
       "         3.18334345e-06,  1.75033740e-15,  1.16851308e+01],\n",
       "       ...,\n",
       "       [ 8.43364289e-01,  8.40950749e-01,  1.11306121e-01, ...,\n",
       "         1.15874669e-06,  1.12970402e-15,  2.67871672e-04],\n",
       "       [ 1.09838309e+00,  1.05749783e+00, -2.30827745e-01, ...,\n",
       "         1.26884935e-06,  8.97558554e-16,  2.66636955e-03],\n",
       "       [ 6.74185894e-01,  6.71551468e-01, -1.37383525e-01, ...,\n",
       "         1.11720019e-06,  6.00265885e-16,  2.48204550e-04]])"
      ]
     },
     "execution_count": 89,
     "metadata": {},
     "output_type": "execute_result"
    }
   ],
   "source": [
    "\n",
    "\n",
    "drop_list = ['underlying_process','target','scattering_regime']\n",
    "\n",
    "if not set(drop_list).isdisjoint(df_pq.columns.levels[0]):\n",
    "    df_for_numpy = df_pq.drop([col for col in drop_list if col in df_pq.columns.levels[0]], axis=1, level=0).to_numpy(dtype=np.float64)\n",
    "else:\n",
    "    df_for_numpy = df_pq.to_numpy(dtype=np.float64)\n",
    "df_for_numpy"
   ]
  },
  {
   "cell_type": "code",
   "execution_count": 45,
   "metadata": {},
   "outputs": [
    {
     "ename": "SyntaxError",
     "evalue": "invalid syntax (<ipython-input-45-43c5b9fc6e2a>, line 1)",
     "output_type": "error",
     "traceback": [
      "\u001b[0;36m  File \u001b[0;32m\"<ipython-input-45-43c5b9fc6e2a>\"\u001b[0;36m, line \u001b[0;32m1\u001b[0m\n\u001b[0;31m    df_for_numpy = df_pq.drop(,axis=1, level=0)\u001b[0m\n\u001b[0m                              ^\u001b[0m\n\u001b[0;31mSyntaxError\u001b[0m\u001b[0;31m:\u001b[0m invalid syntax\n"
     ]
    }
   ],
   "source": [
    " df_for_numpy = df_pq.drop(,axis=1, level=0)"
   ]
  },
  {
   "cell_type": "code",
   "execution_count": 6,
   "metadata": {},
   "outputs": [
    {
     "data": {
      "text/plain": [
       "'11.10'"
      ]
     },
     "execution_count": 6,
     "metadata": {},
     "output_type": "execute_result"
    }
   ],
   "source": [
    "import vegas \n",
    "import gvar\n",
    "gvar.__version__"
   ]
  },
  {
   "cell_type": "code",
   "execution_count": 14,
   "metadata": {},
   "outputs": [],
   "source": [
    "from DarkNews import fourvec as fv"
   ]
  },
  {
   "cell_type": "code",
   "execution_count": 14,
   "metadata": {},
   "outputs": [
    {
     "name": "stdout",
     "output_type": "stream",
     "text": [
      "Initializing the three-portal model.\n",
      "---------------------------------------------------------\n",
      "   ______           _        _   _                     \n",
      "   |  _  \\         | |      | \\ | |                    \n",
      "   | | | |__ _ _ __| | __   |  \\| | _____      _____   \n",
      "   | | | / _  | ___| |/ /   | .   |/ _ \\ \\ /\\ / / __|  \n",
      "   | |/ / (_| | |  |   <    | |\\  |  __/\\ V  V /\\__ \\  \n",
      "   |___/ \\__,_|_|  |_|\\_\\   \\_| \\_/\\___| \\_/\\_/ |___/  \n",
      "\n",
      "---------------------------------------------------------\n",
      "Model:\n",
      "\t1 dirac heavy neutrino(s).\n",
      "\n",
      "---------------------------------------------------------\n",
      "Experiment:\n",
      "\tMiniBooNE_FHC\n",
      "\tfluxfile loaded: ../fluxes/MiniBooNE_FHC.dat\n",
      "\tPOT: 1.875e+21\n",
      "\tnuclear targets: ['C12', 'H1']\n",
      "\tfiducial mass: [701.1428571428571, 116.85714285714286] tonnes\n",
      "\n",
      "Directory tree for this run already exists. Overriding it.\n"
     ]
    }
   ],
   "source": [
    "gen = GenLauncher(mzprime=0.03, m4=0.420, epsilon=epsilon_def, Umu4=umu4_def, UD4=ud4_def, gD=gD_def, \n",
    "                    neval=1000, HNLtype=\"dirac\", experiment=\"miniboone_fhc\", loglevel='INFO',\n",
    "                    seed=333,\n",
    "                    parquet=True, numpy=True, hepevt=True, sparse=True, print_to_float32=True)\n",
    "\n",
    "df=gen.run(loglevel=\"ERROR\")\n",
    "df_2=gen.run(loglevel=\"ERROR\")"
   ]
  },
  {
   "cell_type": "code",
   "execution_count": null,
   "metadata": {},
   "outputs": [],
   "source": [
    "new_c(df)"
   ]
  },
  {
   "cell_type": "code",
   "execution_count": null,
   "metadata": {},
   "outputs": [],
   "source": [
    "%prun \n",
    "\n",
    "gen.dn_printer.print_events_to_HEPEVT()"
   ]
  },
  {
   "cell_type": "code",
   "execution_count": null,
   "metadata": {},
   "outputs": [],
   "source": [
    "filename=\"./data/miniboone_fhc/3plus1/m4_0.42_mzprime_0.03_dirac/\"\n",
    "\n",
    "df_std = pd.read_pickle(f\"{filename}pandas_df.pckl\")\n",
    "df_pq = pd.read_parquet(f\"{filename}pandas_df.parquet\", engine='pyarrow')\n",
    "nda = np.load(f\"{filename}ndarray.npy\")\n",
    "# ndz = np.load(f\"{filename}ndarray.npz\")\n"
   ]
  },
  {
   "cell_type": "code",
   "execution_count": null,
   "metadata": {},
   "outputs": [],
   "source": [
    "nda_fix=np.reshape(nda,(np.shape(nda)[0],int(np.shape(nda)[1]/4),4)).T\n",
    "\n"
   ]
  },
  {
   "cell_type": "markdown",
   "metadata": {},
   "source": [
    "### npz format tests"
   ]
  },
  {
   "cell_type": "code",
   "execution_count": null,
   "metadata": {},
   "outputs": [],
   "source": [
    "cols = [f'{v[0]}_{v[1]}' if v[1] else f'{v[0]}' for v in df.columns.values]\n",
    "print(cols)"
   ]
  },
  {
   "cell_type": "code",
   "execution_count": null,
   "metadata": {},
   "outputs": [],
   "source": [
    "# test that numpy array and dataframe formats save the same information\n",
    "assert (df_std.to_numpy()[nda!=0]/nda[nda!=0]!=1).sum() == 0 \n",
    "assert (df_pq.to_numpy()[nda!=0]/nda[nda!=0]!=1).sum() == 0"
   ]
  },
  {
   "cell_type": "code",
   "execution_count": null,
   "metadata": {},
   "outputs": [],
   "source": [
    "if 'as':\n",
    "    print(\"Error\")"
   ]
  },
  {
   "cell_type": "markdown",
   "metadata": {},
   "source": [
    "# Vegas tests"
   ]
  },
  {
   "cell_type": "code",
   "execution_count": 4,
   "metadata": {},
   "outputs": [],
   "source": [
    "# Testing the VEGAS integration methods:\n",
    "import vegas as vg\n",
    "from collections import OrderedDict\n",
    "\n",
    "class test_integral(vg.BatchIntegrand):\n",
    "\n",
    "    def __init__(self, dim, c = 1):\n",
    "        self.dim = dim\t\n",
    "        self.c = c\n",
    "        self.analytical_func = lambda x: np.exp(self.c * x) * (self.c*x-1)/self.c**2\n",
    "        self.analytical_res  = (self.analytical_func(2) - self.analytical_func(0))\n",
    "\n",
    "        # initialize\n",
    "        self.norm = {'diff_xsec': 1, 'diff_xsec2': 1}\n",
    "        # normalize integrand with an initial throw\n",
    "        _throw = self.__call__(np.random.rand(dim,500), np.ones((dim,500)))\n",
    "        for key,val in _throw.items():\n",
    "            self.norm[key] = np.mean(val)\n",
    "    \n",
    "    def __call__(self, x, jac):\n",
    "\n",
    "        xmax = 2\n",
    "        xmin = 0\n",
    "        xx=np.empty(0)\n",
    "        diff = 1\n",
    "        diff2 = 1\n",
    "        for d in range(self.dim):\n",
    "            xx = x[:,d]*(xmax - xmin) + xmin\n",
    "            diff *= np.exp(self.c*xx)*xx\n",
    "            if d < self.dim - 2:\n",
    "                diff2 *= np.exp(self.c*xx)*xx\n",
    "\n",
    "        # hypercube jacobian (vegas hypercube --> physical limits) transformation\n",
    "        hypercube_jacobian = (xmax - xmin)\n",
    "        diff  *= hypercube_jacobian**self.dim\n",
    "        diff2 *= hypercube_jacobian**(self.dim)\n",
    "\n",
    "        ##############################################\n",
    "        # return all differential quantities of interest\n",
    "        self.int_dic = OrderedDict()\t\t\n",
    "        self.int_dic['diff_xsec'] = diff\n",
    "        self.int_dic['diff_xsec2'] = diff2\n",
    "        \n",
    "        ##############################################\n",
    "        # storing normalization for integrands to be of O(1) numbers\t\t\n",
    "        # normalization\n",
    "        for key in self.int_dic:\n",
    "            self.int_dic[key] /= self.norm[key]\n",
    "        self.int_dic['diff_xsec2'] /= jac[:,-1]*jac[:,-2]\n",
    "        return self.int_dic"
   ]
  },
  {
   "cell_type": "code",
   "execution_count": 5,
   "metadata": {},
   "outputs": [
    {
     "data": {
      "text/plain": [
       "[<matplotlib.lines.Line2D at 0x7fa2f9213160>]"
      ]
     },
     "execution_count": 5,
     "metadata": {},
     "output_type": "execute_result"
    },
    {
     "data": {
      "image/png": "[encoded data removed]",
      "text/plain": [
       "<Figure size 432x288 with 1 Axes>"
      ]
     },
     "metadata": {
      "needs_background": "light"
     },
     "output_type": "display_data"
    }
   ],
   "source": [
    "evals = []\n",
    "evals2 = []\n",
    "for i in range(5):\n",
    "    #########################################################################\n",
    "    # BATCH SAMPLE INTEGRAND OF INTEREST\n",
    "    DIM = 6\n",
    "    batch_f = test_integral(dim=DIM)\n",
    "    integ = vg.Integrator(DIM*[[0.0, 1.0]]) # unit hypercube\n",
    "    result = dn.MC.run_vegas(batch_f, integ, NINT=20, NEVAL=10000, NINT_warmup=20, NEVAL_warmup=1000)\n",
    "    ##########################################################################\n",
    "    # print(result.summary())\n",
    "    evals.append(result['diff_xsec'].mean*batch_f.norm['diff_xsec'])\n",
    "    evals2.append(result['diff_xsec2'].mean*batch_f.norm['diff_xsec2'])\n",
    "\n",
    "plt.plot(evals/evals[0], color='blue')\n",
    "plt.plot(evals/batch_f.analytical_res**DIM, ls='--', color='blue')\n",
    "plt.plot(evals2/evals2[0], color='orange')\n",
    "plt.plot(evals2/batch_f.analytical_res**(DIM-2)/4, ls='--', color='orange')\n"
   ]
  },
  {
   "cell_type": "code",
   "execution_count": 6,
   "metadata": {},
   "outputs": [],
   "source": [
    "samples, weights, jac = dn.MC.get_samples(integ, batch_f, return_jac=True)"
   ]
  },
  {
   "cell_type": "code",
   "execution_count": 7,
   "metadata": {},
   "outputs": [
    {
     "data": {
      "text/plain": [
       "1.0003406373054546"
      ]
     },
     "execution_count": 7,
     "metadata": {},
     "output_type": "execute_result"
    }
   ],
   "source": [
    "np.sum(weights['diff_xsec'])*batch_f.norm['diff_xsec']/batch_f.analytical_res**DIM\n"
   ]
  },
  {
   "cell_type": "code",
   "execution_count": 8,
   "metadata": {},
   "outputs": [
    {
     "data": {
      "text/plain": [
       "1.0003406373054546"
      ]
     },
     "execution_count": 8,
     "metadata": {},
     "output_type": "execute_result"
    }
   ],
   "source": [
    "np.sum(weights['diff_xsec'])*batch_f.norm['diff_xsec']/batch_f.analytical_res**(DIM)\n"
   ]
  },
  {
   "cell_type": "code",
   "execution_count": 9,
   "metadata": {},
   "outputs": [
    {
     "data": {
      "image/png": "[encoded data removed]",
      "text/plain": [
       "<Figure size 432x288 with 1 Axes>"
      ]
     },
     "metadata": {
      "needs_background": "light"
     },
     "output_type": "display_data"
    }
   ],
   "source": [
    "for key,vals in weights.items():\n",
    "    plt.plot(vals)"
   ]
  },
  {
   "cell_type": "code",
   "execution_count": 10,
   "metadata": {},
   "outputs": [
    {
     "data": {
      "text/plain": [
       "1.043775559346706"
      ]
     },
     "execution_count": 10,
     "metadata": {},
     "output_type": "execute_result"
    }
   ],
   "source": [
    "(weights['diff_xsec2']*jac[:,5]).sum()\n"
   ]
  },
  {
   "cell_type": "code",
   "execution_count": 11,
   "metadata": {},
   "outputs": [
    {
     "data": {
      "text/plain": [
       "[<matplotlib.lines.Line2D at 0x7fa2e94c2820>]"
      ]
     },
     "execution_count": 11,
     "metadata": {},
     "output_type": "execute_result"
    },
    {
     "data": {
      "image/png": "[encoded data removed]",
      "text/plain": [
       "<Figure size 432x288 with 1 Axes>"
      ]
     },
     "metadata": {
      "needs_background": "light"
     },
     "output_type": "display_data"
    }
   ],
   "source": [
    "bins = 20\n",
    "\n",
    "_ = plt.hist(samples[0,:]*2, weights=weights['diff_xsec2']*batch_f.norm['diff_xsec2']/(2/bins), bins=bins, density=False)\n",
    "\n",
    "x=np.linspace(0,2)\n",
    "\n",
    "plt.plot(x, np.exp(batch_f.c * x)*x * batch_f.analytical_res**(DIM-3)*4)\n"
   ]
  },
  {
   "cell_type": "markdown",
   "metadata": {},
   "source": [
    "## Test propagator integral in vegas "
   ]
  },
  {
   "cell_type": "code",
   "execution_count": 23,
   "metadata": {},
   "outputs": [],
   "source": [
    "class prop_integral(vg.BatchIntegrand):\n",
    "\n",
    "    def __init__(self, dim, m, Gamma):\n",
    "        self.dim = dim\t\n",
    "        self.Gamma = Gamma\n",
    "        self.m = m\n",
    "\n",
    "        # initialize\n",
    "        self.norm = {'diff_xsec': 1, 'diff_xsec2': 1}\n",
    "        # normalize integrand with an initial throw\n",
    "        _throw = self.__call__(np.random.rand(dim,500), np.ones((dim,500)))\n",
    "        for key,val in _throw.items():\n",
    "            self.norm[key] = np.mean(val)\n",
    "    \n",
    "    def __call__(self, x, jac):\n",
    "\n",
    "        xmax = 2\n",
    "        xmin = 0\n",
    "        xx=np.empty(0)\n",
    "\n",
    "        diff = 1/((x**2-self.m**2)**2 + (self.m*self.Gamma)**2)\n",
    "        diff2 = 1\n",
    "\n",
    "        # hypercube jacobian (vegas hypercube --> physical limits) transformation\n",
    "        hypercube_jacobian = (xmax - xmin)\n",
    "        diff  *= hypercube_jacobian**self.dim\n",
    "        diff2 *= hypercube_jacobian**(self.dim)\n",
    "\n",
    "        ##############################################\n",
    "        # return all differential quantities of interest\n",
    "        self.int_dic = OrderedDict()\t\t\n",
    "        self.int_dic['diff_xsec'] = diff\n",
    "        self.int_dic['diff_xsec2'] = diff2\n",
    "        \n",
    "        ##############################################\n",
    "        # storing normalization for integrands to be of O(1) numbers\t\t\n",
    "        # normalization\n",
    "        for key in self.int_dic:\n",
    "            self.int_dic[key] /= self.norm[key]\n",
    "        self.int_dic['diff_xsec2'] /= jac[:,-1]\n",
    "        \n",
    "        return self.int_dic"
   ]
  },
  {
   "cell_type": "code",
   "execution_count": 25,
   "metadata": {},
   "outputs": [
    {
     "name": "stdout",
     "output_type": "stream",
     "text": [
      "itn   integral         wgt average      chi2/dof        Q\n",
      "---------------------------------------------------------\n",
      "  1   1.10894(23)e+07  1.10894(23)e+07      0.00     1.00\n",
      "  2   1.10873(13)e+07  1.10878(11)e+07      0.31     0.73\n",
      "  3   1.10899(14)e+07  1.108862(89)e+07     0.50     0.74\n",
      "  4   1.10892(12)e+07  1.108880(71)e+07     0.35     0.91\n",
      "  5   1.10905(12)e+07  1.108928(61)e+07     0.47     0.88\n",
      "  6   1.108572(76)e+07 1.108788(47)e+07     1.72     0.07\n",
      "  7   1.108198(71)e+07 1.108608(40)e+07     5.38     0.00\n",
      "  8   1.10770(13)e+07  1.108534(38)e+07     7.69     0.00\n",
      "  9   1.107368(90)e+07 1.108358(35)e+07    15.66     0.00\n",
      " 10   1.10744(38)e+07  1.108350(35)e+07    14.24     0.00\n",
      " 11   1.10669(26)e+07  1.108322(34)e+07    14.78     0.00\n",
      " 12   1.1078(14)e+07   1.108321(34)e+07    13.44     0.00\n",
      " 13   1.10593(35)e+07  1.108298(34)e+07    14.30     0.00\n",
      " 14   1.1169(84)e+07   1.108298(34)e+07    13.24     0.00\n",
      " 15   1.1101(28)e+07   1.108298(34)e+07    12.31     0.00\n",
      " 16   1.10985(33)e+07  1.108315(34)e+07    12.24     0.00\n",
      " 17   1.10927(21)e+07  1.108341(34)e+07    12.13     0.00\n",
      " 18   1.10887(25)e+07  1.108350(33)e+07    11.54     0.00\n",
      " 19   1.10924(26)e+07  1.108365(33)e+07    11.23     0.00\n",
      " 20   1.10889(15)e+07  1.108390(32)e+07    10.97     0.00\n",
      "\n"
     ]
    }
   ],
   "source": [
    "mzprime = 0.03\n",
    "Gamma = mzprime/3*1e-8\n",
    "\n",
    "DIM = 1\n",
    "batch_f = prop_integral(dim=DIM, m = mzprime, Gamma=Gamma)\n",
    "integ = vg.Integrator(DIM*[[0.0, 1.0]]) # unit hypercube\n",
    "result = dn.MC.run_vegas(batch_f, integ, NINT=20, NEVAL=10000, NINT_warmup=20, NEVAL_warmup=1000)\n",
    "##########################################################################\n",
    "print(result.summary())\n"
   ]
  },
  {
   "cell_type": "code",
   "execution_count": 24,
   "metadata": {},
   "outputs": [
    {
     "ename": "TypeError",
     "evalue": "unsupported operand type(s) for *: 'builtin_function_or_method' and 'float'",
     "output_type": "error",
     "traceback": [
      "\u001b[0;31m---------------------------------------------------------------------------\u001b[0m",
      "\u001b[0;31mTypeError\u001b[0m                                 Traceback (most recent call last)",
      "\u001b[1;32m/Users/matheushostert/Repos/DarkNews-generator/examples/test_generator.ipynb Cell 41'\u001b[0m in \u001b[0;36m<cell line: 6>\u001b[0;34m()\u001b[0m\n\u001b[1;32m     <a href='vscode-notebook-cell:/Users/matheushostert/Repos/DarkNews-generator/examples/test_generator.ipynb#ch0000074?line=11'>12</a>\u001b[0m     result \u001b[39m=\u001b[39m dn\u001b[39m.\u001b[39mMC\u001b[39m.\u001b[39mrun_vegas(batch_f, integ, NINT\u001b[39m=\u001b[39m\u001b[39m20\u001b[39m, NEVAL\u001b[39m=\u001b[39m\u001b[39m10000\u001b[39m, NINT_warmup\u001b[39m=\u001b[39m\u001b[39m20\u001b[39m, NEVAL_warmup\u001b[39m=\u001b[39m\u001b[39m1000\u001b[39m)\n\u001b[1;32m     <a href='vscode-notebook-cell:/Users/matheushostert/Repos/DarkNews-generator/examples/test_generator.ipynb#ch0000074?line=12'>13</a>\u001b[0m     \u001b[39m##########################################################################\u001b[39;00m\n\u001b[1;32m     <a href='vscode-notebook-cell:/Users/matheushostert/Repos/DarkNews-generator/examples/test_generator.ipynb#ch0000074?line=13'>14</a>\u001b[0m     \u001b[39m# print(result.summary())\u001b[39;00m\n\u001b[0;32m---> <a href='vscode-notebook-cell:/Users/matheushostert/Repos/DarkNews-generator/examples/test_generator.ipynb#ch0000074?line=14'>15</a>\u001b[0m     evals\u001b[39m.\u001b[39mappend(result[\u001b[39m'\u001b[39;49m\u001b[39mdiff_xsec\u001b[39;49m\u001b[39m'\u001b[39;49m]\u001b[39m.\u001b[39;49mmean\u001b[39m*\u001b[39;49mbatch_f\u001b[39m.\u001b[39;49mnorm[\u001b[39m'\u001b[39;49m\u001b[39mdiff_xsec\u001b[39;49m\u001b[39m'\u001b[39;49m])\n\u001b[1;32m     <a href='vscode-notebook-cell:/Users/matheushostert/Repos/DarkNews-generator/examples/test_generator.ipynb#ch0000074?line=15'>16</a>\u001b[0m     evals2\u001b[39m.\u001b[39mappend(result[\u001b[39m'\u001b[39m\u001b[39mdiff_xsec2\u001b[39m\u001b[39m'\u001b[39m]\u001b[39m.\u001b[39mmean\u001b[39m*\u001b[39mbatch_f\u001b[39m.\u001b[39mnorm[\u001b[39m'\u001b[39m\u001b[39mdiff_xsec2\u001b[39m\u001b[39m'\u001b[39m])\n\u001b[1;32m     <a href='vscode-notebook-cell:/Users/matheushostert/Repos/DarkNews-generator/examples/test_generator.ipynb#ch0000074?line=17'>18</a>\u001b[0m plt\u001b[39m.\u001b[39mplot(evals\u001b[39m/\u001b[39mevals[\u001b[39m0\u001b[39m], color\u001b[39m=\u001b[39m\u001b[39m'\u001b[39m\u001b[39mblue\u001b[39m\u001b[39m'\u001b[39m)\n",
      "\u001b[0;31mTypeError\u001b[0m: unsupported operand type(s) for *: 'builtin_function_or_method' and 'float'"
     ]
    }
   ],
   "source": [
    "mzprime = 0.03\n",
    "Gamma = mzprime/3*1e-8\n",
    "\n",
    "evals = []\n",
    "evals2 = []\n",
    "for i in range(5):\n",
    "    #########################################################################\n",
    "    # BATCH SAMPLE INTEGRAND OF INTEREST\n",
    "    DIM = 1\n",
    "    batch_f = prop_integral(dim=DIM, m = mzprime, Gamma=Gamma)\n",
    "    integ = vg.Integrator(DIM*[[0.0, 1.0]]) # unit hypercube\n",
    "    result = dn.MC.run_vegas(batch_f, integ, NINT=20, NEVAL=10000, NINT_warmup=20, NEVAL_warmup=1000)\n",
    "    ##########################################################################\n",
    "    # print(result.summary())\n",
    "    evals.append(result['diff_xsec'].mean*batch_f.norm['diff_xsec'])\n",
    "    evals2.append(result['diff_xsec2'].mean*batch_f.norm['diff_xsec2'])\n",
    "\n",
    "plt.plot(evals/evals[0], color='blue')\n",
    "plt.plot(evals/batch_f.analytical_res**DIM, ls='--', color='blue')\n",
    "plt.plot(evals2/evals2[0], color='orange')\n",
    "plt.plot(evals2/batch_f.analytical_res**(DIM-2)/4, ls='--', color='orange')\n"
   ]
  },
  {
   "cell_type": "markdown",
   "metadata": {},
   "source": [
    "# profile amplitude calculation"
   ]
  },
  {
   "cell_type": "code",
   "execution_count": null,
   "metadata": {},
   "outputs": [],
   "source": [
    "proton = dn.detector.NuclearTarget(\"H1\")\n",
    "bsm_model = dn.model.create_3portal_HNL_model(mzprime=0.1, m4 = 0.01, Umu4=1e-3)\n",
    "calculator = dn.MC.XsecCalc(bsm_model = bsm_model, scattering_regime = 'p-el', nuclear_target= proton, helicity = 'conserving')"
   ]
  },
  {
   "cell_type": "code",
   "execution_count": null,
   "metadata": {},
   "outputs": [],
   "source": [
    "one = np.ones(1000)\n",
    "%prun dn.amplitudes.upscattering_dxsec_dQ2([one,one,one], calculator.ups_case)"
   ]
  },
  {
   "cell_type": "markdown",
   "metadata": {},
   "source": [
    "# profile full generation"
   ]
  },
  {
   "cell_type": "code",
   "execution_count": null,
   "metadata": {},
   "outputs": [],
   "source": [
    "ud4_def = 1.0\n",
    "alphaD = 0.25\n",
    "gD_def = np.sqrt(alphaD*4*np.pi)\n",
    "umu4_def = np.sqrt(9e-7)\n",
    "ud4 = 1.\n",
    "epsilon_def = np.sqrt(2e-10/const.alphaQED)\n",
    "\n",
    "gen = GenLauncher(mzprime=0.03, m4=0.420, epsilon=epsilon_def, Umu4=umu4_def, UD4=ud4_def, gD=gD_def, neval=1000, HNLtype=\"dirac\", experiment=\"miniboone_fhc\", loglevel='INFO')\n",
    "gen.run(log=\"INFO\")\n",
    "df_mini = gen.df"
   ]
  },
  {
   "cell_type": "code",
   "execution_count": null,
   "metadata": {},
   "outputs": [],
   "source": [
    "%prun gen.run(log=\"ERROR\")"
   ]
  },
  {
   "cell_type": "code",
   "execution_count": null,
   "metadata": {},
   "outputs": [],
   "source": [
    "df_mini.w_event_rate.sum()*0.05\n"
   ]
  },
  {
   "cell_type": "code",
   "execution_count": null,
   "metadata": {},
   "outputs": [],
   "source": [
    "gen = GenLauncher(mzprime=0.03, m4=0.420, epsilon=epsilon_def, Umu4=umu4_def, UD4=ud4_def, gD=gD_def, neval=1000, HNLtype=\"dirac\", experiment=\"microboone\", loglevel='ERROR')\n",
    "gen.run(log=\"ERROR\")\n",
    "df_micro = gen.df"
   ]
  },
  {
   "cell_type": "code",
   "execution_count": null,
   "metadata": {},
   "outputs": [],
   "source": [
    "ud4_def = 1.0\n",
    "alphaD = 0.4\n",
    "gD_def = np.sqrt(alphaD*4*np.pi)\n",
    "umu4_def = 4e-4\n",
    "umu5_def = 4e-4\n",
    "ud4 = 1.\n",
    "ud5 = 1.\n",
    "epsilon_def = 2.2e-2\n",
    "\n",
    "gen = GenLauncher(mzprime=1.25, m4=0.010, m5=0.490, epsilon=epsilon_def, Umu4=umu4_def, Umu5=umu5_def, UD4=ud4_def, UD5=ud5, gD=gD_def, neval=10000, HNLtype=\"majorana\", experiment=\"miniboone_fhc\", loglevel='ERROR')\n",
    "gen.run(log=\"ERROR\")\n",
    "df_mini = gen.df\n",
    "\n",
    "gen = GenLauncher(mzprime=1.25, m4=0.010, m5=0.490, epsilon=epsilon_def, Umu4=umu4_def, Umu5=umu5_def, UD4=ud4_def, UD5=ud5, gD=gD_def, neval=10000, HNLtype=\"majorana\", experiment=\"microboone\", loglevel='ERROR')\n",
    "gen.run(log=\"ERROR\")\n",
    "df_micro = gen.df"
   ]
  },
  {
   "cell_type": "code",
   "execution_count": null,
   "metadata": {},
   "outputs": [],
   "source": [
    "\n",
    "ud4_def = 1.0\n",
    "alphaD = 0.4\n",
    "gD_def = np.sqrt(alphaD*4*np.pi)\n",
    "umu4_def = 4e-4\n",
    "umu5_def = 4e-4\n",
    "ud4 = 1.\n",
    "ud5 = 1.\n",
    "epsilon_def = 2.2e-2\n",
    "\n",
    "gen = GenLauncher(m4=0.10, epsilon=0.0, dmu4= 1e-6, gD=0.0, neval=1000, HNLtype=\"dirac\", experiment=\"miniboone_fhc\", loglevel='ERROR', decay_product='photon')\n",
    "gen.run(log=\"ERROR\")\n",
    "df_mini = gen.df\n"
   ]
  },
  {
   "cell_type": "code",
   "execution_count": null,
   "metadata": {},
   "outputs": [],
   "source": [
    "df_mini['P_decay_N_parent'][['1','2','3']].iloc[0,:]"
   ]
  },
  {
   "cell_type": "code",
   "execution_count": null,
   "metadata": {},
   "outputs": [],
   "source": [
    "print(f\" {dn.printer.print_in_order(df_mini.iat[0,'P_projectile'])}\")"
   ]
  },
  {
   "cell_type": "code",
   "execution_count": null,
   "metadata": {},
   "outputs": [],
   "source": [
    "%%prun -l 5\n",
    "\n",
    "gen3p1 = GenLauncher(hepevt=False, m4=0.420, epsilon=0.0, mu_tr_mu4= 1e-6, nopelastic=False, gD=0.0, neval=10000, HNLtype=\"dirac\", experiment=\"miniboone_fhc\", loglevel='ERROR', decay_products='photon')\n",
    "# gen3p2 = GenLauncher(hepevt=False, m4=0.420, epsilon=0.0, mu_tr_mu4= 1e-6, nopelastic=False, gD=0.0, neval=10000, HNLtype=\"majorana\", experiment=\"miniboone_fhc\", loglevel='ERROR', decay_products='photon')\n",
    "gen3p2 = GenLauncher(hepevt=False, m4=0.370, m5=0.420, epsilon=0.0, mu_tr_mu5= 1e-6, mu_tr_45= 1e-4, nopelastic=False, gD=0.0, neval=10000, HNLtype=\"dirac\", experiment=\"miniboone_fhc\", loglevel='ERROR', decay_products='photon')\n",
    "gen3p1.run(log=\"ERROR\")\n",
    "gen3p2.run(log=\"ERROR\")\n",
    "df_3p1 = gen3p1.df\n",
    "df_3p2 = gen3p2.df"
   ]
  },
  {
   "cell_type": "code",
   "execution_count": null,
   "metadata": {},
   "outputs": [],
   "source": [
    "# energy\n",
    "\n",
    "bins = np.linspace(0,2,20)\n",
    "df = df_3p1\n",
    "mask = (df.scattering_regime=='p-el')\n",
    "x=df.P_decay_gamma.to_numpy()[:,0]\n",
    "w=df.w_event_rate.to_numpy()\n",
    "_ = plt.hist(x, weights=w, bins=bins, histtype='step', color='dodgerblue', ls='-')\n",
    "_ = plt.hist(x[mask], weights=w[mask], bins=bins, histtype='step', color='orange', ls='-')\n",
    "\n",
    "df = df_3p2\n",
    "mask = (df.scattering_regime=='p-el')\n",
    "x=df.P_decay_gamma.to_numpy()[:,0]\n",
    "w=df.w_event_rate.to_numpy()\n",
    "_ = plt.hist(x, weights=w, bins=bins, histtype='step', color='dodgerblue', ls='--')\n",
    "_ = plt.hist(x[mask], weights=w[mask], bins=bins, histtype='step', color='orange', ls='--')"
   ]
  },
  {
   "cell_type": "code",
   "execution_count": null,
   "metadata": {},
   "outputs": [],
   "source": [
    "# angle\n",
    "\n",
    "bins = np.linspace(-1,1,20)\n",
    "df = df_3p1\n",
    "mask = (df.scattering_regime=='p-el')\n",
    "x=dn.Cfv.get_cosTheta(df.P_decay_gamma.to_numpy())\n",
    "w=df.w_event_rate.to_numpy()\n",
    "_ = plt.hist(x, weights=w, bins=bins, histtype='step',color='dodgerblue', ls='-')\n",
    "_ = plt.hist(x[mask], weights=w[mask], histtype='step',bins=bins, color='orange', ls='-')\n",
    "\n",
    "df = df_3p2\n",
    "mask = (df.scattering_regime=='p-el')\n",
    "x=dn.Cfv.get_cosTheta(df.P_decay_gamma.to_numpy())\n",
    "w=df.w_event_rate.to_numpy()\n",
    "_ = plt.hist(x, weights=w, bins=bins, histtype='step', color='dodgerblue', ls='--')\n",
    "_ = plt.hist(x[mask], weights=w[mask], bins=bins, histtype='step', color='orange', ls='--')"
   ]
  },
  {
   "cell_type": "code",
   "execution_count": null,
   "metadata": {},
   "outputs": [],
   "source": [
    "print(f\"event rate Mini {df_micro['w_event_rate'].sum()*0.05}\")\n",
    "print(f\"event rate Micro {df_micro['w_event_rate'].sum()*0.05*87/818*(550/470)**2*6/18.75}\")"
   ]
  },
  {
   "cell_type": "code",
   "execution_count": null,
   "metadata": {},
   "outputs": [],
   "source": [
    "x = Cfv.get_cosTheta((df_mini['P_decay_ell_minus']+df_mini['P_decay_ell_plus']).to_numpy())\n",
    "w = df_mini['w_event_rate'].to_numpy()\n",
    "_ = plt.hist(x, weights=w, bins=np.linspace(-1,1,21))"
   ]
  },
  {
   "cell_type": "code",
   "execution_count": null,
   "metadata": {},
   "outputs": [],
   "source": [
    "\n",
    "print(f\"event rate Mini {df_mini['w_event_rate'].sum()*0.05}\")\n",
    "print(f\"event rate Micro rescaled {df_mini['w_event_rate'].sum()*87/818*(550/470)**2*6/18.75}\")\n",
    "print(f\"event rate Micro {df_micro['w_event_rate'].sum()*0.5}\")\n",
    "print(f\"event rate SBND {df_micro['w_event_rate'].sum()*112/87*(470/110)**2*0.5}\")\n",
    "print(f\"event rate Icarus {df_micro['w_event_rate'].sum()*476/87*(470/600)**2*0.5}\")"
   ]
  },
  {
   "cell_type": "code",
   "execution_count": null,
   "metadata": {},
   "outputs": [],
   "source": [
    "from DarkNews import Cfourvec as Cfv"
   ]
  },
  {
   "cell_type": "code",
   "execution_count": null,
   "metadata": {},
   "outputs": [],
   "source": [
    "\n",
    "Cfv.get_cosTheta(df_micro['P_decay_ell_minus'].to_numpy)\n"
   ]
  },
  {
   "cell_type": "code",
   "execution_count": null,
   "metadata": {},
   "outputs": [],
   "source": [
    "ud4_def = 1.0\n",
    "alphaD = 0.25\n",
    "gD_def = np.sqrt(alphaD*4*np.pi)\n",
    "umu4_def = np.sqrt(9e-8)\n",
    "ud4 = 1.\n",
    "epsilon_def = np.sqrt(2e-10/const.alphaQED)\n",
    "\n",
    "gen = GenLauncher(mzprime=0.03, m4=0.100, epsilon=epsilon_def, Umu4=umu4_def, UD4=ud4_def, gD=gD_def, neval=10000, HNLtype=\"dirac\", experiment=\"miniboone_fhc\", loglevel='ERROR')\n",
    "gen.run(log=\"ERROR\")"
   ]
  },
  {
   "cell_type": "code",
   "execution_count": null,
   "metadata": {},
   "outputs": [],
   "source": [
    "gen_m = GenLauncher(mzprime=0.03, m4=0.100, epsilon=epsilon_def, Umu4=umu4_def, UD4=ud4_def, gD=gD_def, neval=10000, HNLtype=\"majorana\", experiment=\"miniboone_fhc\", loglevel='ERROR')\n",
    "gen_m.run(log=\"ERROR\")"
   ]
  },
  {
   "cell_type": "code",
   "execution_count": null,
   "metadata": {},
   "outputs": [],
   "source": [
    "df = gen.df\n",
    "df_m = gen_m.df"
   ]
  },
  {
   "cell_type": "code",
   "execution_count": null,
   "metadata": {},
   "outputs": [],
   "source": [
    "print(df['w_event_rate'].sum()*0.047)\n",
    "print(df_m['w_event_rate'].sum()*0.047)"
   ]
  },
  {
   "cell_type": "code",
   "execution_count": null,
   "metadata": {},
   "outputs": [],
   "source": [
    "df = []\n",
    "for i in range(0,2):\n",
    "    gen_object = GenLauncher(m4 = 0.100, mzprime = 0.03, neval = 10000, nitn=20)\n",
    "    gen_object.run(log=\"INFO\")\n",
    "    df_1 = gen_object.df\n",
    "\n",
    "    # gen_object = GenLauncher(m4 = 0.100, mzprime = 0.02, neval = 1000, nint=20)\n",
    "    gen_object.run(log=\"INFO\")\n",
    "    df_2 = gen_object.df\n",
    "\n",
    "    df.append([df_1, df_2])"
   ]
  },
  {
   "cell_type": "code",
   "execution_count": null,
   "metadata": {},
   "outputs": [],
   "source": [
    "import matplotlib.pyplot as plt\n",
    "\n",
    "ratios_rate = []\n",
    "ratios_fxsec = []\n",
    "ratios_decay = []\n",
    "for pair in df:\n",
    "    ratios_rate.append(np.sum(pair[0]['w_event_rate'])/np.sum(pair[1]['w_event_rate']))\n",
    "    ratios_fxsec.append(np.sum(pair[0]['w_flux_avg_xsec'])/np.sum(pair[1]['w_flux_avg_xsec']))\n",
    "    \n",
    "    ratios_decay.append(np.sum(pair[0]['w_decay_rate_0'])/np.sum(pair[1]['w_decay_rate_0']))\n",
    "\n",
    "plt.scatter(range(2),ratios_rate, label=\"rate\")\n",
    "plt.scatter(range(2),ratios_fxsec, label=\"fxsec\")\n",
    "plt.scatter(range(2),ratios_decay, label=\"decay\")\n",
    "plt.legend(frameon=False)\n",
    "\n",
    "# plt.scatter(range(0,2),case1, c='blue')\n",
    "# plt.scatter(range(0,2),case2, c='orange')"
   ]
  },
  {
   "cell_type": "code",
   "execution_count": null,
   "metadata": {},
   "outputs": [],
   "source": [
    "plt.plot(df_1['w_flux_avg_xsec'])\n",
    "# plt.yscale(\"log\")\n",
    "# plt.ylim(1,1e7)\n"
   ]
  },
  {
   "cell_type": "code",
   "execution_count": null,
   "metadata": {},
   "outputs": [],
   "source": [
    "df1,df2 = df[0]\n",
    "p1 = (df1['P_projectile'] - df1['P_decay_N_parent']).to_numpy()\n",
    "h1 = dn.Cfourvec.dot4(p1,p1)\n",
    "\n",
    "p2 = (df2['P_projectile'] - df2['P_decay_N_parent']).to_numpy()\n",
    "h2 = dn.Cfourvec.dot4(p2,p2)\n",
    "\n",
    "_ = plt.hist(np.sqrt(-h1), bins=100, range=(0,0.5), histtype='step', weights=df1['w_event_rate'], lw=1)\n",
    "_ = plt.hist(np.sqrt(-h2), bins=100, range=(0,0.5), histtype='step', weights=df2['w_event_rate'], lw=1)\n"
   ]
  },
  {
   "cell_type": "code",
   "execution_count": null,
   "metadata": {},
   "outputs": [],
   "source": [
    "p1 = (df_2['P_projectile']).to_numpy()\n",
    "# p1 = (df_1['P_decay_ell_minus']+df_1['P_decay_ell_plus']).to_numpy()\n",
    "# p1 = (df_1['P_decay_ell_minus']+df_1['P_decay_ell_plus']+df_1['P_decay_N_daughter']).to_numpy()\n",
    "h1 = p1[:,0]\n",
    "_ = plt.hist(h1, bins=30, histtype='step', range=(0,2), weights=df_2['w_flux_avg_xsec'],density=True, label='True neutrino energy')\n",
    "plt.xlabel(\"Enu\")\n",
    "# plt.yscale(\"log\")\n",
    "\n",
    "\n",
    "x = np.linspace(0,2, 1000)\n",
    "y = df_1.attrs['experiment'].FLUX_FUNCTIONS[1](x)/( df_1.attrs['experiment'].FLUX_FUNCTIONS[1](x)*(x[1]-x[0])).sum()\n",
    "\n",
    "plt.plot(x,y, label='Input flux')\n",
    "plt.legend()"
   ]
  },
  {
   "cell_type": "code",
   "execution_count": null,
   "metadata": {},
   "outputs": [],
   "source": [
    "\n",
    "p1 = (df_2['P_decay_ell_minus']+df_2['P_decay_ell_plus']).to_numpy()\n",
    "\n",
    "h1 = p1[:,0]\n",
    "_ = plt.hist(h1, bins=30, histtype='step', range=(0,2), weights=df_2['w_event_rate'],density=True, label='e+e- energy')\n",
    "plt.xlabel(\"e+ e- total energy\")\n",
    "# plt.yscale(\"log\")\n",
    "\n",
    "\n",
    "x = np.linspace(0,2, 1000)\n",
    "y = df_1.attrs['experiment'].FLUX_FUNCTIONS[1](x)/( df_1.attrs['experiment'].FLUX_FUNCTIONS[1](x)*(x[1]-x[0])).sum()\n",
    "\n",
    "plt.plot(x,y, label='Input flux')\n",
    "plt.legend()"
   ]
  },
  {
   "cell_type": "code",
   "execution_count": null,
   "metadata": {},
   "outputs": [],
   "source": [
    "p1 = (df_1['P_projectile']).to_numpy()\n",
    "x = p1[:,0]\n",
    "y  = (df_1['P_decay_N_parent']).to_numpy()[:,2]\n",
    "_ = plt.scatter(x, y, marker='.', s=3,  label='True neutrino energy')\n",
    "plt.xlabel(\"Enu\")\n"
   ]
  }
 ],
 "metadata": {
  "kernelspec": {
   "display_name": "Python 3.9.12 ('base')",
   "language": "python",
   "name": "python3"
  },
  "language_info": {
   "codemirror_mode": {
    "name": "ipython",
    "version": 3
   },
   "file_extension": ".py",
   "mimetype": "text/x-python",
   "name": "python",
   "nbconvert_exporter": "python",
   "pygments_lexer": "ipython3",
   "version": "3.9.12"
  },
  "orig_nbformat": 4,
  "vscode": {
   "interpreter": {
    "hash": "3067ead486e059ec00ffe7555bdb889e6e264a24dc711bf108106cc7baee8d5d"
   }
  }
 },
 "nbformat": 4,
 "nbformat_minor": 2
}
