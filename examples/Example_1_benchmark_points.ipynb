{
 "cells": [
  {
   "cell_type": "markdown",
   "id": "photographic-width",
   "metadata": {},
   "source": [
    "# Example 1\n",
    "\n",
    "This notebook computes event rates and event spectra for a few benchmark models"
   ]
  },
  {
   "cell_type": "code",
   "execution_count": 1,
   "id": "configured-parts",
   "metadata": {},
   "outputs": [],
   "source": [
    "%load_ext autoreload\n",
    "%autoreload 2"
   ]
  },
  {
   "cell_type": "code",
   "execution_count": 80,
   "id": "governmental-hollywood",
   "metadata": {},
   "outputs": [],
   "source": [
    "import os\n",
    "import numpy as np\n",
    "import pandas as pd\n",
    "\n",
    "import DarkNews as dn\n",
    "from DarkNews import const"
   ]
  },
  {
   "cell_type": "code",
   "execution_count": 150,
   "id": "multiple-burst",
   "metadata": {},
   "outputs": [
    {
     "name": "stdout",
     "output_type": "stream",
     "text": [
      "dn_gen --exp=miniboone_fhc --umu4=0.00095 --ud4=1 --alpha_epsilon2=2e-10 --alphaD=0.25 --mzprime=0.03 --m4=0.420 --neval=1000 --D_or_M=majorana --log=INFO\n",
      "\n",
      "\n",
      "    #########################################################\n",
      "    #   ______           _        _   _                     #\n",
      "    #   |  _  \\         | |      | \\ | |                    #\n",
      "    #   | | | |__ _ _ __| | __   |  \\| | _____      _____   #\n",
      "    #   | | | / _  | ___| |/ /   | .   |/ _ \\ \\ /\\ / / __|  #\n",
      "    #   | |/ / (_| | |  |   <    | |\\  |  __/\\ V  V /\\__ \\  #\n",
      "    #   |___/ \\__,_|_|  |_|\\_\\   \\_| \\_/\\___| \\_/\\_/ |___/  #\n",
      "    #                                                       #\n",
      "    #########################################################\n",
      "    \n",
      "Theory model used: 3+1 majorana HNL model\n",
      "\n",
      "\n",
      "Generating helicity conserving upscattering events for:\n",
      "\tnu(mu) + C12 -> N4 +  C12 -> nu(mu) + e+ + e- + C12\n",
      "\n",
      "decaying N4 using on-shell mediator.\n",
      "INFO: Could not find phiz samples, using uniform distribution instead.\n",
      "INFO: No samples were passed to two_body_decay. Assuming uniform phase space.\n",
      "INFO: Could not find cost samples, using uniform distribution instead.\n",
      "INFO: Could not find phiz samples, using uniform distribution instead.\n",
      "Generating helicity flipping upscattering events for:\n",
      "\tnu(mu) + C12 -> N4 +  C12 -> nu(mu) + e+ + e- + C12\n",
      "\n",
      "decaying N4 using on-shell mediator.\n",
      "INFO: Could not find phiz samples, using uniform distribution instead.\n",
      "INFO: No samples were passed to two_body_decay. Assuming uniform phase space.\n",
      "INFO: Could not find cost samples, using uniform distribution instead.\n",
      "INFO: Could not find phiz samples, using uniform distribution instead.\n",
      "Generating helicity conserving upscattering events for:\n",
      "\tnu(mu) + proton_in_C12 -> N4 +  proton_in_C12 -> nu(mu) + e+ + e- + proton_in_C12\n",
      "\n",
      "decaying N4 using on-shell mediator.\n",
      "INFO: Could not find phiz samples, using uniform distribution instead.\n",
      "INFO: No samples were passed to two_body_decay. Assuming uniform phase space.\n",
      "INFO: Could not find cost samples, using uniform distribution instead.\n",
      "INFO: Could not find phiz samples, using uniform distribution instead.\n",
      "Generating helicity flipping upscattering events for:\n",
      "\tnu(mu) + proton_in_C12 -> N4 +  proton_in_C12 -> nu(mu) + e+ + e- + proton_in_C12\n",
      "\n",
      "decaying N4 using on-shell mediator.\n",
      "INFO: Could not find phiz samples, using uniform distribution instead.\n",
      "INFO: No samples were passed to two_body_decay. Assuming uniform phase space.\n",
      "INFO: Could not find cost samples, using uniform distribution instead.\n",
      "INFO: Could not find phiz samples, using uniform distribution instead.\n",
      "Generating helicity conserving upscattering events for:\n",
      "\tnu(mu) + proton_in_H1 -> N4 +  proton_in_H1 -> nu(mu) + e+ + e- + proton_in_H1\n",
      "\n",
      "decaying N4 using on-shell mediator.\n",
      "INFO: Could not find phiz samples, using uniform distribution instead.\n",
      "INFO: No samples were passed to two_body_decay. Assuming uniform phase space.\n",
      "INFO: Could not find cost samples, using uniform distribution instead.\n",
      "INFO: Could not find phiz samples, using uniform distribution instead.\n",
      "Generating helicity flipping upscattering events for:\n",
      "\tnu(mu) + proton_in_H1 -> N4 +  proton_in_H1 -> nu(mu) + e+ + e- + proton_in_H1\n",
      "\n",
      "decaying N4 using on-shell mediator.\n",
      "INFO: Could not find phiz samples, using uniform distribution instead.\n",
      "INFO: No samples were passed to two_body_decay. Assuming uniform phase space.\n",
      "INFO: Could not find cost samples, using uniform distribution instead.\n",
      "INFO: Could not find phiz samples, using uniform distribution instead.\n",
      "Outputs saved in data/miniboone_fhc/3plus1/m4_0.42_mzprime_0.03_majorana/\n",
      "\n",
      "\n"
     ]
    }
   ],
   "source": [
    "# cmd_string = f\"dn_gen --exp=miniboone_fhc --umu5={np.sqrt(1.5e-6):.2g} --umu4={np.sqrt(2.6e-6):.2g} --ud5={np.sqrt(4/11):.2g} --ud4={np.sqrt(7/11):.2g} --chi={np.sqrt(1e-5)} --gD=2 --mzprime=1.25 --m4=0.080 --m5=0.140 --neval=1000 --D_or_M=majorana --log=INFO\"\n",
    "# const.subprocess_cmd(cmd_string)\n",
    "\n",
    "\n",
    "# cmd_string = f\"dn_gen --exp=miniboone_fhc --umu4={np.sqrt(1e-6):.2g} --ud4={np.sqrt(7/11):.2g} --chi={np.sqrt(5e-6)} --gD=1 --mzprime=1.25 --m4=0.140 --neval=1000 --D_or_M=majorana --log=INFO\"\n",
    "# const.subprocess_cmd(cmd_string)\n",
    "\n",
    "\n",
    "cmd_string = f\"dn_gen --exp=miniboone_fhc --umu4={np.sqrt(9e-7):.2g} --ud4={1} --alpha_epsilon2={2e-10} --alphaD=0.25 --mzprime=0.03 --m4=0.420 --neval=1000 --D_or_M=majorana --log=INFO\"\n",
    "const.subprocess_cmd(cmd_string)\n"
   ]
  },
  {
   "cell_type": "code",
   "execution_count": 151,
   "id": "visible-party",
   "metadata": {},
   "outputs": [],
   "source": [
    "# df = pd.read_pickle('data/miniboone_fhc/3plus2/m5_0.14_m4_0.08_mzprime_1.25_majorana/pandas_df.pckl')\n",
    "# df = pd.read_pickle('data/miniboone_fhc/3plus1/m4_0.14_mzprime_1.25_majorana/pandas_df.pckl')\n",
    "df = pd.read_pickle('data/miniboone_fhc/3plus1/m4_0.42_mzprime_0.03_dirac/pandas_df.pckl')\n",
    "df_m = pd.read_pickle('data/miniboone_fhc/3plus1/m4_0.42_mzprime_0.03_majorana/pandas_df.pckl')"
   ]
  },
  {
   "cell_type": "code",
   "execution_count": 154,
   "id": "legendary-leader",
   "metadata": {},
   "outputs": [
    {
     "data": {
      "text/plain": [
       "0.5547589286525806"
      ]
     },
     "execution_count": 154,
     "metadata": {},
     "output_type": "execute_result"
    }
   ],
   "source": [
    "np.sum(df['w_event_rate'])/np.sum(df_m['w_event_rate'])"
   ]
  },
  {
   "cell_type": "code",
   "execution_count": 147,
   "id": "brown-closure",
   "metadata": {},
   "outputs": [
    {
     "data": {
      "text/plain": [
       "2.815331793623852e-09"
      ]
     },
     "execution_count": 147,
     "metadata": {},
     "output_type": "execute_result"
    }
   ],
   "source": [
    "const.get_decay_rate_in_cm(np.sum(df['w_decay_rate_0']))"
   ]
  },
  {
   "cell_type": "code",
   "execution_count": null,
   "id": "dense-minutes",
   "metadata": {},
   "outputs": [],
   "source": []
  },
  {
   "cell_type": "code",
   "execution_count": null,
   "id": "waiting-tattoo",
   "metadata": {},
   "outputs": [],
   "source": []
  }
 ],
 "metadata": {
  "kernelspec": {
   "display_name": "Python 3",
   "language": "python",
   "name": "python3"
  },
  "language_info": {
   "codemirror_mode": {
    "name": "ipython",
    "version": 3
   },
   "file_extension": ".py",
   "mimetype": "text/x-python",
   "name": "python",
   "nbconvert_exporter": "python",
   "pygments_lexer": "ipython3",
   "version": "3.9.9"
  }
 },
 "nbformat": 4,
 "nbformat_minor": 5
}
