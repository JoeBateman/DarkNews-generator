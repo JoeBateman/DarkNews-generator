{
 "cells": [
  {
   "cell_type": "markdown",
   "id": "julian-singer",
   "metadata": {},
   "source": [
    "# Example 1\n",
    "\n",
    "This notebook computes event rates and event spectra for a few benchmark models"
   ]
  },
  {
   "cell_type": "code",
   "execution_count": 1,
   "id": "critical-ranking",
   "metadata": {},
   "outputs": [],
   "source": [
    "%load_ext autoreload\n",
    "%autoreload 2"
   ]
  },
  {
   "cell_type": "code",
   "execution_count": 2,
   "id": "bulgarian-accommodation",
   "metadata": {},
   "outputs": [],
   "source": [
    "import os\n",
    "import numpy as np\n",
    "import pandas as pd\n",
    "import matplotlib.pyplot as plt\n",
    "\n",
    "import DarkNews as dn\n",
    "from DarkNews import const"
   ]
  }
 ],
 "metadata": {
  "kernelspec": {
   "display_name": "Python 3",
   "language": "python",
   "name": "python3"
  },
  "language_info": {
   "codemirror_mode": {
    "name": "ipython",
    "version": 3
   },
   "file_extension": ".py",
   "mimetype": "text/x-python",
   "name": "python",
   "nbconvert_exporter": "python",
   "pygments_lexer": "ipython3",
   "version": "3.9.9"
  }
 },
 "nbformat": 4,
 "nbformat_minor": 5
}
