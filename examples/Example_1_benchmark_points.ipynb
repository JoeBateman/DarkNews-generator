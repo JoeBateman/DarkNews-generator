{
 "cells": [
  {
   "cell_type": "markdown",
   "id": "julian-singer",
   "metadata": {},
   "source": [
    "# Example 1\n",
    "\n",
    "This notebook computes event rates and event spectra for a few benchmark models"
   ]
  },
  {
   "cell_type": "code",
   "execution_count": 1,
   "id": "configured-parts",
   "metadata": {
    "scrolled": true
   },
   "outputs": [],
   "source": [
    "%load_ext autoreload\n",
    "%autoreload 2"
   ]
  },
  {
   "cell_type": "code",
   "execution_count": 2,
   "id": "governmental-hollywood",
   "metadata": {},
   "outputs": [],
   "source": [
    "import os\n",
    "import numpy as np\n",
    "import pandas as pd\n",
    "import matplotlib.pyplot as plt\n",
    "\n",
    "import DarkNews as dn\n",
    "from DarkNews import const"
   ]
  },
  {
   "cell_type": "code",
   "execution_count": 3,
   "id": "excellent-trick",
   "metadata": {
    "scrolled": true
   },
   "outputs": [
    {
     "name": "stdout",
     "output_type": "stream",
     "text": [
      "dn_gen --exp=miniboone_fhc --neval=10000 --nint=30 --HNLtype=dirac --loglevel=ERROR --seed=42\n",
      "\n",
      "\n"
     ]
    }
   ],
   "source": [
    "cmd_string = f\"dn_gen --exp=miniboone_fhc --neval=10000 --nint=30 --HNLtype=dirac --loglevel=ERROR --seed=42\"\n",
    "const.subprocess_cmd(cmd_string)"
   ]
  },
  {
   "cell_type": "code",
   "execution_count": 31,
   "id": "11d84819",
   "metadata": {},
   "outputs": [
    {
     "name": "stdout",
     "output_type": "stream",
     "text": [
      "---------------------------------------------------------\n",
      "   ______           _        _   _                     \n",
      "   |  _  \\         | |      | \\ | |                    \n",
      "   | | | |__ _ _ __| | __   |  \\| | _____      _____   \n",
      "   | | | / _  | ___| |/ /   | .   |/ _ \\ \\ /\\ / / __|  \n",
      "   | |/ / (_| | |  |   <    | |\\  |  __/\\ V  V /\\__ \\  \n",
      "   |___/ \\__,_|_|  |_|\\_\\   \\_| \\_/\\___| \\_/\\_/ |___/  \n",
      "\n",
      "---------------------------------------------------------\n",
      "Model:\n",
      "\t1 dirac heavy neutrino(s).\n",
      "\tkinetically mixed Z'\n",
      "\n",
      "---------------------------------------------------------\n",
      "Experiment:\n",
      "\tMiniBooNE_FHC\n",
      "\tfluxfile loaded: ../fluxes/MiniBooNE_FHC.dat\n",
      "\tPOT: 1.875e+21\n",
      "\tnuclear targets: ['C12', 'H1']\n",
      "\tfiducial mass: [701.1428571428571, 116.85714285714286] tonnes\n",
      "\n",
      "Note that the directory tree for this run already exists.\n",
      "---------------------------------------------------------\n",
      "Generating Events using the neutrino-nucleus upscattering engine\n",
      "\n",
      "nu(mu) C12 --> N4  C12 --> nu_light e+ e- C12\n",
      "Helicity conserving upscattering.\n",
      "N4 decays via on-shell Z'.\n",
      "Predicted (9.34e+03 +/- 371) events.\n",
      "\n",
      "nu(mu) C12 --> N4  C12 --> nu_light e+ e- C12\n",
      "Helicity flipping upscattering.\n",
      "N4 decays via on-shell Z'.\n",
      "Predicted (0.574 +/- 0.0231) events.\n",
      "\n",
      "nu(mu) proton_in_C12 --> N4  proton_in_C12 --> nu_light e+ e- proton_in_C12\n",
      "Helicity conserving upscattering.\n",
      "N4 decays via on-shell Z'.\n",
      "Predicted (2.66e+03 +/- 105) events.\n",
      "\n",
      "nu(mu) proton_in_C12 --> N4  proton_in_C12 --> nu_light e+ e- proton_in_C12\n",
      "Helicity flipping upscattering.\n",
      "N4 decays via on-shell Z'.\n",
      "Predicted (13.7 +/- 0.53) events.\n",
      "\n",
      "nu(mu) proton_in_H1 --> N4  proton_in_H1 --> nu_light e+ e- proton_in_H1\n",
      "Helicity conserving upscattering.\n",
      "N4 decays via on-shell Z'.\n",
      "Predicted (889 +/- 35.2) events.\n",
      "\n",
      "nu(mu) proton_in_H1 --> N4  proton_in_H1 --> nu_light e+ e- proton_in_H1\n",
      "Helicity flipping upscattering.\n",
      "N4 decays via on-shell Z'.\n",
      "Predicted (4.8 +/- 0.187) events.\n",
      "\n",
      "---------------------------------------------------------\n",
      "Generation successful\n",
      "\n",
      "Total events predicted:\n",
      "(1.29e+04 +/- 387) events.\n",
      "\n",
      "---------------------------------------------------------\n",
      "Events in pandas dataframe saved to file successfully:\n",
      "data/miniboone_fhc/3plus1/m4_0.42_mzprime_0.03_dirac\n",
      "\n"
     ]
    }
   ],
   "source": [
    "ud4_def = 1.0\n",
    "alphaD = 0.25\n",
    "gD_def = np.sqrt(alphaD*4*np.pi)\n",
    "umu4_def = np.sqrt(9e-7)\n",
    "ud4 = 1.\n",
    "epsilon_def = np.sqrt(2e-10/const.alphaQED)\n",
    "gen = dn.GenLauncher(mzprime=0.03, m4=0.420, epsilon=epsilon_def, Umu4=umu4_def, UD4=ud4_def, gD=gD_def, \n",
    "                    neval=1000, HNLtype=\"dirac\", exp=\"miniboone_fhc\", loglevel='INFO', seed=42)\n",
    "gen.run()\n",
    "df = gen.df\n"
   ]
  },
  {
   "cell_type": "code",
   "execution_count": 32,
   "id": "global-burns",
   "metadata": {},
   "outputs": [],
   "source": [
    "df_2 = pd.read_pickle('data/miniboone_fhc/3plus1/m4_0.2_mzprime_1.25_dirac/pandas_df.pckl')"
   ]
  },
  {
   "cell_type": "code",
   "execution_count": 37,
   "id": "regular-barcelona",
   "metadata": {},
   "outputs": [
    {
     "name": "stdout",
     "output_type": "stream",
     "text": [
      "12903.909075535918\n"
     ]
    }
   ],
   "source": [
    "print(np.sum(df['w_event_rate']))\n"
   ]
  },
  {
   "cell_type": "code",
   "execution_count": 19,
   "id": "medical-folks",
   "metadata": {
    "scrolled": true
   },
   "outputs": [
    {
     "data": {
      "text/plain": [
       "[<matplotlib.lines.Line2D at 0x1282fd670>]"
      ]
     },
     "execution_count": 19,
     "metadata": {},
     "output_type": "execute_result"
    },
    {
     "data": {
      "image/png": "[encoded data removed]",
      "text/plain": [
       "<Figure size 432x288 with 1 Axes>"
      ]
     },
     "metadata": {
      "needs_background": "light"
     },
     "output_type": "display_data"
    }
   ],
   "source": [
    "plt.plot(df_d['w_event_rate'])\n",
    "plt.plot(df_m['w_event_rate'])\n",
    "\n",
    "plt.plot(df_d['w_event_rate'])\n",
    "plt.plot(df_m['w_event_rate'])"
   ]
  },
  {
   "cell_type": "code",
   "execution_count": 43,
   "id": "multiple-burst",
   "metadata": {
    "collapsed": true
   },
   "outputs": [
    {
     "name": "stdout",
     "output_type": "stream",
     "text": [
      "dn_gen --exp=miniboone_fhc --umu5=0.0012 --umu4=0.0016 --ud5=0.6 --ud4=0.8 --chi=0.0031622776601683794 --gD=2 --ud4=0.5 --mzprime=1.25 --m4=0.080 --m5=0.140 --neval=10000 --nint=30 --D_or_M=majorana --log=INFO\n",
      "\n",
      "\n",
      "    #########################################################\n",
      "    #   ______           _        _   _                     #\n",
      "    #   |  _  \\         | |      | \\ | |                    #\n",
      "    #   | | | |__ _ _ __| | __   |  \\| | _____      _____   #\n",
      "    #   | | | / _  | ___| |/ /   | .   |/ _ \\ \\ /\\ / / __|  #\n",
      "    #   | |/ / (_| | |  |   <    | |\\  |  __/\\ V  V /\\__ \\  #\n",
      "    #   |___/ \\__,_|_|  |_|\\_\\   \\_| \\_/\\___| \\_/\\_/ |___/  #\n",
      "    #                                                       #\n",
      "    #########################################################\n",
      "    \n",
      "Theory model used: 3+2 majorana HNL model\n",
      "\n",
      "\n",
      "Generating helicity conserving upscattering events for:\n",
      "\tnu(mu) + C12 -> N5 +  C12 -> N4 + e+ + e- + C12\n",
      "\n",
      "decaying N5 using off-shell mediator.\n",
      "Generating helicity flipping upscattering events for:\n",
      "\tnu(mu) + C12 -> N5 +  C12 -> N4 + e+ + e- + C12\n",
      "\n",
      "decaying N5 using off-shell mediator.\n",
      "Generating helicity conserving upscattering events for:\n",
      "\tnu(mu) + proton_in_C12 -> N5 +  proton_in_C12 -> N4 + e+ + e- + proton_in_C12\n",
      "\n",
      "decaying N5 using off-shell mediator.\n",
      "Generating helicity flipping upscattering events for:\n",
      "\tnu(mu) + proton_in_C12 -> N5 +  proton_in_C12 -> N4 + e+ + e- + proton_in_C12\n",
      "\n",
      "decaying N5 using off-shell mediator.\n",
      "Generating helicity conserving upscattering events for:\n",
      "\tnu(mu) + proton_in_H1 -> N5 +  proton_in_H1 -> N4 + e+ + e- + proton_in_H1\n",
      "\n",
      "decaying N5 using off-shell mediator.\n",
      "Generating helicity flipping upscattering events for:\n",
      "\tnu(mu) + proton_in_H1 -> N5 +  proton_in_H1 -> N4 + e+ + e- + proton_in_H1\n",
      "\n",
      "decaying N5 using off-shell mediator.\n",
      "Outputs saved in data/miniboone_fhc/3plus2/m5_0.14_m4_0.08_mzprime_1.25_majorana/\n",
      "\n",
      "\n",
      "dn_gen --exp=miniboone_fhc --umu5=0.0012 --umu4=0.0016 --ud5=0.6 --ud4=0.8 --chi=0.0031622776601683794 --gD=2 --ud4=0.5 --mzprime=1.25 --m4=0.080 --m5=0.140 --neval=10000 --nint=30 --D_or_M=dirac --log=INFO\n",
      "\n",
      "\n",
      "    #########################################################\n",
      "    #   ______           _        _   _                     #\n",
      "    #   |  _  \\         | |      | \\ | |                    #\n",
      "    #   | | | |__ _ _ __| | __   |  \\| | _____      _____   #\n",
      "    #   | | | / _  | ___| |/ /   | .   |/ _ \\ \\ /\\ / / __|  #\n",
      "    #   | |/ / (_| | |  |   <    | |\\  |  __/\\ V  V /\\__ \\  #\n",
      "    #   |___/ \\__,_|_|  |_|\\_\\   \\_| \\_/\\___| \\_/\\_/ |___/  #\n",
      "    #                                                       #\n",
      "    #########################################################\n",
      "    \n",
      "Theory model used: 3+2 dirac HNL model\n",
      "\n",
      "\n",
      "Generating helicity conserving upscattering events for:\n",
      "\tnu(mu) + C12 -> N5 +  C12 -> N4 + e+ + e- + C12\n",
      "\n",
      "decaying N5 using off-shell mediator.\n",
      "Generating helicity flipping upscattering events for:\n",
      "\tnu(mu) + C12 -> N5 +  C12 -> N4 + e+ + e- + C12\n",
      "\n",
      "decaying N5 using off-shell mediator.\n",
      "Generating helicity conserving upscattering events for:\n",
      "\tnu(mu) + proton_in_C12 -> N5 +  proton_in_C12 -> N4 + e+ + e- + proton_in_C12\n",
      "\n",
      "decaying N5 using off-shell mediator.\n",
      "Generating helicity flipping upscattering events for:\n",
      "\tnu(mu) + proton_in_C12 -> N5 +  proton_in_C12 -> N4 + e+ + e- + proton_in_C12\n",
      "\n",
      "decaying N5 using off-shell mediator.\n",
      "Generating helicity conserving upscattering events for:\n",
      "\tnu(mu) + proton_in_H1 -> N5 +  proton_in_H1 -> N4 + e+ + e- + proton_in_H1\n",
      "\n",
      "decaying N5 using off-shell mediator.\n",
      "Generating helicity flipping upscattering events for:\n",
      "\tnu(mu) + proton_in_H1 -> N5 +  proton_in_H1 -> N4 + e+ + e- + proton_in_H1\n",
      "\n",
      "decaying N5 using off-shell mediator.\n",
      "Outputs saved in data/miniboone_fhc/3plus2/m5_0.14_m4_0.08_mzprime_1.25_dirac/\n",
      "\n",
      "\n"
     ]
    }
   ],
   "source": [
    "cmd_string = f\"dn_gen --exp=miniboone_fhc --umu5={np.sqrt(1.5e-6):.2g} --umu4={np.sqrt(2.6e-6):.2g} --ud5={np.sqrt(4/11):.2g} --ud4={np.sqrt(7/11):.2g} --chi={np.sqrt(1e-5)} --gD=2 --ud4=0.5 --mzprime=1.25 --m4=0.080 --m5=0.140 --neval=10000 --nint=30 --HNLtype=majorana --loglevel=INFO\"\n",
    "const.subprocess_cmd(cmd_string)\n",
    "\n",
    "cmd_string = f\"dn_gen --exp=miniboone_fhc --umu5={np.sqrt(1.5e-6):.2g} --umu4={np.sqrt(2.6e-6):.2g} --ud5={np.sqrt(4/11):.2g} --ud4={np.sqrt(7/11):.2g} --chi={np.sqrt(1e-5)} --gD=2 --ud4=0.5 --mzprime=1.25 --m4=0.080 --m5=0.140 --neval=10000 --nint=30 --HNLtype=dirac --loglevel=INFO\"\n",
    "const.subprocess_cmd(cmd_string)\n",
    "\n",
    "\n",
    "# cmd_string = f\"dn_gen --exp=miniboone_fhc --umu4={np.sqrt(1e-6):.2g} --ud4={np.sqrt(7/11):.2g} --chi={np.sqrt(5e-6)} --gD=1 --mzprime=1.25 --m4=0.140 --neval=1000 --HNLtype=majorana --loglevel=INFO\"\n",
    "# const.subprocess_cmd(cmd_string)\n",
    "\n",
    "\n",
    "# cmd_string = f\"dn_gen --loglevel=DEBUG --exp=miniboone_fhc --umu4={np.sqrt(9e-7):.2g} --ud4={1} --alpha_epsilon2={2e-10} --alphaD=0.25 --mzprime=0.03 --m4=0.420 --neval=10000 --nint=20 --HNLtype=majorana --loglevel=INFO\"\n",
    "# const.subprocess_cmd(cmd_string)\n",
    "\n",
    "\n",
    "# cmd_string = f\"dn_gen --loglevel=DEBUG --exp=miniboone_fhc --umu4={np.sqrt(9e-7):.2g} --ud4={1} --alpha_epsilon2={2e-10} --alphaD=0.25 --mzprime=0.03 --m4=0.420 --neval=10000 --nint=20 --HNLtype=dirac --loglevel=INFO\"\n",
    "# const.subprocess_cmd(cmd_string)\n"
   ]
  },
  {
   "cell_type": "code",
   "execution_count": 44,
   "id": "visible-party",
   "metadata": {},
   "outputs": [],
   "source": [
    "df_d = pd.read_pickle('data/miniboone_fhc/3plus2/m5_0.14_m4_0.08_mzprime_1.25_dirac/pandas_df.pckl')\n",
    "df_m = pd.read_pickle('data/miniboone_fhc/3plus2/m5_0.14_m4_0.08_mzprime_1.25_majorana/pandas_df.pckl')\n",
    "\n",
    "# df_m = pd.read_pickle('data/miniboone_fhc/3plus1/m4_0.14_mzprime_1.25_majorana/pandas_df.pckl')\n",
    "\n",
    "# df_d = pd.read_pickle('data/miniboone_fhc/3plus1/m4_0.42_mzprime_0.03_dirac/pandas_df.pckl')\n",
    "# df_m = pd.read_pickle('data/miniboone_fhc/3plus1/m4_0.42_mzprime_0.03_majorana/pandas_df.pckl')"
   ]
  },
  {
   "cell_type": "code",
   "execution_count": 5,
   "id": "5956d788",
   "metadata": {},
   "outputs": [
    {
     "name": "stdout",
     "output_type": "stream",
     "text": [
      "---------------------------------------------------------\n",
      "   ______           _        _   _                     \n",
      "   |  _  \\         | |      | \\ | |                    \n",
      "   | | | |__ _ _ __| | __   |  \\| | _____      _____   \n",
      "   | | | / _  | ___| |/ /   | .   |/ _ \\ \\ /\\ / / __|  \n",
      "   | |/ / (_| | |  |   <    | |\\  |  __/\\ V  V /\\__ \\  \n",
      "   |___/ \\__,_|_|  |_|\\_\\   \\_| \\_/\\___| \\_/\\_/ |___/  \n",
      "\n",
      "---------------------------------------------------------\n",
      "Model:\n",
      "\t1 dirac heavy neutrino(s).\n",
      "\tkinetically mixed Z'\n",
      "\n",
      "---------------------------------------------------------\n",
      "Experiment:\n",
      "\tMiniBooNE_FHC\n",
      "\tfluxfile loaded: ../fluxes/MiniBooNE_FHC.dat\n",
      "\tPOT: 1.875e+21\n",
      "\tnuclear targets: ['C12', 'H1']\n",
      "\tfiducial mass: [701.1428571428571, 116.85714285714286] tonnes\n",
      "\n",
      "Note that the directory tree for this run already exists.\n",
      "---------------------------------------------------------\n",
      "Generating Events using the neutrino-nucleus upscattering engine\n",
      "\n",
      "nu(mu) C12 --> N4  C12 --> nu_light e+ e- C12\n",
      "Helicity conserving upscattering.\n",
      "N4 decays via on-shell Z'.\n",
      "Predicted (9.45e+03 +/- 387) events.\n",
      "\n",
      "nu(mu) C12 --> N4  C12 --> nu_light e+ e- C12\n",
      "Helicity flipping upscattering.\n",
      "N4 decays via on-shell Z'.\n",
      "Predicted (0.602 +/- 0.0246) events.\n",
      "\n",
      "nu(mu) proton_in_C12 --> N4  proton_in_C12 --> nu_light e+ e- proton_in_C12\n",
      "Helicity conserving upscattering.\n",
      "N4 decays via on-shell Z'.\n",
      "Predicted (2.78e+03 +/- 112) events.\n",
      "\n",
      "nu(mu) proton_in_C12 --> N4  proton_in_C12 --> nu_light e+ e- proton_in_C12\n",
      "Helicity flipping upscattering.\n",
      "N4 decays via on-shell Z'.\n",
      "Predicted (14.2 +/- 0.562) events.\n",
      "\n",
      "nu(mu) proton_in_H1 --> N4  proton_in_H1 --> nu_light e+ e- proton_in_H1\n",
      "Helicity conserving upscattering.\n",
      "N4 decays via on-shell Z'.\n"
     ]
    },
    {
     "name": "stderr",
     "output_type": "stream",
     "text": [
      "/Users/matheushostert/Repos/DarkNews-generator/src/DarkNews/MC.py:247: UserWarning: gammaQ convergence not complete -- want: nan << 1e-05\n",
      "  logger.debug(f\"Vegas results for the integrals: {result.summary()}\")\n"
     ]
    },
    {
     "name": "stdout",
     "output_type": "stream",
     "text": [
      "Predicted (931 +/- 37.5) events.\n",
      "\n",
      "nu(mu) proton_in_H1 --> N4  proton_in_H1 --> nu_light e+ e- proton_in_H1\n",
      "Helicity flipping upscattering.\n",
      "N4 decays via on-shell Z'.\n",
      "Predicted (4.74 +/- 0.189) events.\n",
      "\n",
      "---------------------------------------------------------\n",
      "Generation successful\n",
      "\n",
      "Total events predicted:\n",
      "(1.32e+04 +/- 405) events.\n",
      "\n",
      "---------------------------------------------------------\n",
      "Events in sparse pandas dataframe saved to file successfully:\n",
      "./data/miniboone_fhc/3plus1/m4_0.42_mzprime_0.03_dirac/\n",
      "\n",
      "---------------------------------------------------------\n",
      "Events in sparse pandas dataframe saved to parquet file successfully:\n",
      "./data/miniboone_fhc/3plus1/m4_0.42_mzprime_0.03_dirac/\n",
      "\n",
      "---------------------------------------------------------\n",
      "Events in numpy array saved to file successfully:\n",
      "./data/miniboone_fhc/3plus1/m4_0.42_mzprime_0.03_dirac/\n",
      "\n",
      "---------------------------------------------------------\n",
      "HEPevt events saved to file successfully:\n",
      "./data/miniboone_fhc/3plus1/m4_0.42_mzprime_0.03_dirac/HEPevt.dat\n",
      "\n"
     ]
    },
    {
     "data": {
      "text/plain": [
       "13176.496816602998"
      ]
     },
     "execution_count": 5,
     "metadata": {},
     "output_type": "execute_result"
    }
   ],
   "source": [
    "from DarkNews.GenLauncher import GenLauncher\n",
    "from DarkNews import const\n",
    "import numpy as np\n",
    "\n",
    "ud4_def = 1.0\n",
    "alphaD = 0.25\n",
    "gD_def = np.sqrt(alphaD*4*np.pi)\n",
    "umu4_def = np.sqrt(9e-7)\n",
    "ud4 = 1.\n",
    "epsilon_def = np.sqrt(2e-10/const.alphaQED)\n",
    "gen = GenLauncher(mzprime=0.03, m4=0.420, epsilon=epsilon_def, Umu4=umu4_def, UD4=ud4_def, gD=gD_def, \n",
    "                    neval=1000, HNLtype=\"dirac\", exp=\"miniboone_fhc\", loglevel='INFO',\n",
    "                    parquet=True, numpy=True, hepevt=True, sparse=True, print_to_float32=True)\n",
    "df = gen.run()\n",
    "np.sum(df.w_event_rate)"
   ]
  }
 ],
 "metadata": {
  "kernelspec": {
   "display_name": "Python 3",
   "language": "python",
   "name": "python3"
  },
  "language_info": {
   "codemirror_mode": {
    "name": "ipython",
    "version": 3
   },
   "file_extension": ".py",
   "mimetype": "text/x-python",
   "name": "python",
   "nbconvert_exporter": "python",
   "pygments_lexer": "ipython3",
   "version": "3.9.13"
  }
 },
 "nbformat": 4,
 "nbformat_minor": 5
}
