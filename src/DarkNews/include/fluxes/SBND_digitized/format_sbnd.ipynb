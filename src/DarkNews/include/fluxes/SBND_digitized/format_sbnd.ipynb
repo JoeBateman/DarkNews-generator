{
 "cells": [
  {
   "cell_type": "code",
   "execution_count": 1,
   "metadata": {},
   "outputs": [],
   "source": [
    "import numpy as np\n",
    "import matplotlib.pyplot as plt\n",
    "from scipy.interpolate import interp1d "
   ]
  },
  {
   "cell_type": "code",
   "execution_count": 15,
   "metadata": {},
   "outputs": [],
   "source": [
    "nus = ['nue','numu','nuebar','numubar']\n",
    "interp_fluxes=[]\n",
    "for nu in nus:\n",
    "    e, f = np.genfromtxt(f\"SBND_{nu}.dat\", unpack=True)\n",
    "    finter = interp1d(e,f/1e6/0.05/1e4, bounds_error=False, fill_value=0.0)\n",
    "    interp_fluxes.append(finter)\n"
   ]
  },
  {
   "cell_type": "code",
   "execution_count": 16,
   "metadata": {},
   "outputs": [
    {
     "name": "stdout",
     "output_type": "stream",
     "text": [
      "1.85e+04\n",
      "1.8e+06\n",
      "1.97e+03\n",
      "5.97e+04\n"
     ]
    },
    {
     "data": {
      "image/png": "[encoded data removed]",
      "text/plain": [
       "<Figure size 432x288 with 1 Axes>"
      ]
     },
     "metadata": {
      "needs_background": "light"
     },
     "output_type": "display_data"
    }
   ],
   "source": [
    "enu = np.linspace(1,3.0,200)\n",
    "fluxes=[]\n",
    "for f in interp_fluxes:\n",
    "    fluxes.append(f(enu))\n",
    "\n",
    "for f in interp_fluxes:\n",
    "    print(f\"{np.sum(f(enu)*110e6*6e23*1e-38*6e20*enu)*(enu[1]-enu[0]):.3g}\")\n",
    "\n",
    "plt.yscale(\"log\")"
   ]
  },
  {
   "cell_type": "code",
   "execution_count": 17,
   "metadata": {},
   "outputs": [],
   "source": [
    "zeros=np.zeros(np.size(fluxes[0]))\n",
    "data=np.stack((enu,fluxes[0],fluxes[1],zeros,fluxes[2],fluxes[3],zeros),axis=0)"
   ]
  },
  {
   "cell_type": "code",
   "execution_count": null,
   "metadata": {},
   "outputs": [],
   "source": [
    "np.savetxt('sbnd_fhc.dat', data.T, header='Enu (GeV) nue numu nutau nuebar numubar nutaubar (all in nus/cm^2/GeV/POT)')"
   ]
  }
 ],
 "metadata": {
  "kernelspec": {
   "display_name": "Python 3.9.12 ('base')",
   "language": "python",
   "name": "python3"
  },
  "language_info": {
   "codemirror_mode": {
    "name": "ipython",
    "version": 3
   },
   "file_extension": ".py",
   "mimetype": "text/x-python",
   "name": "python",
   "nbconvert_exporter": "python",
   "pygments_lexer": "ipython3",
   "version": "3.9.12"
  },
  "orig_nbformat": 4,
  "vscode": {
   "interpreter": {
    "hash": "3067ead486e059ec00ffe7555bdb889e6e264a24dc711bf108106cc7baee8d5d"
   }
  }
 },
 "nbformat": 4,
 "nbformat_minor": 2
}
