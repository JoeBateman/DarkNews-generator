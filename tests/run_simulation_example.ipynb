{
 "cells": [
  {
   "cell_type": "markdown",
   "metadata": {},
   "source": [
    "### Generator and event rates\n",
    "\n",
    "In this notebook we generate and plot MiniBooNE as well as MicroBooNE events for several benchmark points of interest.\n"
   ]
  },
  {
   "cell_type": "code",
   "execution_count": 1,
   "metadata": {},
   "outputs": [],
   "source": [
    "%load_ext autoreload\n",
    "%autoreload 2"
   ]
  },
  {
   "cell_type": "code",
   "execution_count": 85,
   "metadata": {},
   "outputs": [],
   "source": [
    "import os\n",
    "import numpy as np\n",
    "import pandas as pd\n",
    "\n",
    "import DarkNews as dn\n",
    "from DarkNews import const "
   ]
  },
  {
   "cell_type": "markdown",
   "metadata": {},
   "source": [
    "#### Ballett et al 2018 (3+1 tau neutrino)\n"
   ]
  },
  {
   "cell_type": "code",
   "execution_count": 89,
   "metadata": {
    "scrolled": true
   },
   "outputs": [
    {
     "name": "stdout",
     "output_type": "stream",
     "text": [
      "['dn_gen', '--mzprime=1.25', '--m4=0.140', '--neval=10000', '--D_or_M=dirac', '--log=INFO']\n",
      "\n",
      "\n",
      "    #########################################################\n",
      "    #   ______           _        _   _                     #\n",
      "    #   |  _  \\         | |      | \\ | |                    #\n",
      "    #   | | | |__ _ _ __| | __   |  \\| | _____      _____   #\n",
      "    #   | | | / _  | ___| |/ /   | .   |/ _ \\ \\ /\\ / / __|  #\n",
      "    #   | |/ / (_| | |  |   <    | |\\  |  __/\\ V  V /\\__ \\  #\n",
      "    #   |___/ \\__,_|_|  |_|\\_\\   \\_| \\_/\\___| \\_/\\_/ |___/  #\n",
      "    #                                                       #\n",
      "    #########################################################\n",
      "    \n",
      "Theory model used: 3+2 majorana HNL model\n",
      "\n",
      "\n",
      "Generating helicity conserving upscattering events for:\n",
      "\tnu(mu) + C12 -> N5 +  C12 -> N4 + e+ + e- + C12\n",
      "\n",
      "Generating helicity flipping upscattering events for:\n",
      "\tnu(mu) + C12 -> N5 +  C12 -> N4 + e+ + e- + C12\n",
      "\n",
      "Generating helicity conserving upscattering events for:\n",
      "\tnu(mu) + proton_in_C12 -> N5 +  proton_in_C12 -> N4 + e+ + e- + proton_in_C12\n",
      "\n",
      "Generating helicity flipping upscattering events for:\n",
      "\tnu(mu) + proton_in_C12 -> N5 +  proton_in_C12 -> N4 + e+ + e- + proton_in_C12\n",
      "\n",
      "Generating helicity conserving upscattering events for:\n",
      "\tnu(mu) + proton_in_H1 -> N5 +  proton_in_H1 -> N4 + e+ + e- + proton_in_H1\n",
      "\n",
      "Generating helicity flipping upscattering events for:\n",
      "\tnu(mu) + proton_in_H1 -> N5 +  proton_in_H1 -> N4 + e+ + e- + proton_in_H1\n",
      "\n",
      "decaying N5 using off-shell mediator.\n",
      "decaying N5 using off-shell mediator.\n",
      "decaying N5 using off-shell mediator.\n",
      "decaying N5 using off-shell mediator.\n",
      "decaying N5 using off-shell mediator.\n",
      "decaying N5 using off-shell mediator.\n",
      "Outputs saved in data/miniboone/3plus2/m5_0.14_m4_0.08_mzprime_1.25_majorana/\n",
      "\n",
      "\n",
      "['dn_gen', '--mzprime=1.25', '--m4=0.140', '--neval=10000', '--D_or_M=majorana', '--log=INFO']\n",
      "\n",
      "\n",
      "    #########################################################\n",
      "    #   ______           _        _   _                     #\n",
      "    #   |  _  \\         | |      | \\ | |                    #\n",
      "    #   | | | |__ _ _ __| | __   |  \\| | _____      _____   #\n",
      "    #   | | | / _  | ___| |/ /   | .   |/ _ \\ \\ /\\ / / __|  #\n",
      "    #   | |/ / (_| | |  |   <    | |\\  |  __/\\ V  V /\\__ \\  #\n",
      "    #   |___/ \\__,_|_|  |_|\\_\\   \\_| \\_/\\___| \\_/\\_/ |___/  #\n",
      "    #                                                       #\n",
      "    #########################################################\n",
      "    \n",
      "Theory model used: 3+2 majorana HNL model\n",
      "\n",
      "\n",
      "Generating helicity conserving upscattering events for:\n",
      "\tnu(mu) + C12 -> N5 +  C12 -> N4 + e+ + e- + C12\n",
      "\n",
      "Generating helicity flipping upscattering events for:\n",
      "\tnu(mu) + C12 -> N5 +  C12 -> N4 + e+ + e- + C12\n",
      "\n",
      "Generating helicity conserving upscattering events for:\n",
      "\tnu(mu) + proton_in_C12 -> N5 +  proton_in_C12 -> N4 + e+ + e- + proton_in_C12\n",
      "\n",
      "Generating helicity flipping upscattering events for:\n",
      "\tnu(mu) + proton_in_C12 -> N5 +  proton_in_C12 -> N4 + e+ + e- + proton_in_C12\n",
      "\n",
      "Generating helicity conserving upscattering events for:\n",
      "\tnu(mu) + proton_in_H1 -> N5 +  proton_in_H1 -> N4 + e+ + e- + proton_in_H1\n",
      "\n",
      "Generating helicity flipping upscattering events for:\n",
      "\tnu(mu) + proton_in_H1 -> N5 +  proton_in_H1 -> N4 + e+ + e- + proton_in_H1\n",
      "\n",
      "decaying N5 using off-shell mediator.\n",
      "decaying N5 using off-shell mediator.\n",
      "decaying N5 using off-shell mediator.\n",
      "decaying N5 using off-shell mediator.\n",
      "decaying N5 using off-shell mediator.\n",
      "decaying N5 using off-shell mediator.\n",
      "Outputs saved in data/miniboone/3plus2/m5_0.14_m4_0.08_mzprime_1.25_majorana/\n",
      "\n",
      "\n"
     ]
    }
   ],
   "source": [
    "cmd_string = \"dn_gen --mzprime=1.25 --m4=0.140 --neval=10000 --D_or_M=dirac --log=INFO\".split(' ')\n",
    "const.subprocess_cmd(cmd_string)\n",
    "\n",
    "cmd_string = \"dn_gen --mzprime=1.25 --m4=0.140 --neval=10000 --D_or_M=majorana --log=INFO\".split(' ')\n",
    "const.subprocess_cmd(cmd_string)"
   ]
  },
  {
   "cell_type": "code",
   "execution_count": 90,
   "metadata": {
    "scrolled": true
   },
   "outputs": [],
   "source": [
    "df = pd.read_pickle('../data/miniboone/3plus1/m4_0.08_mzprime_1.25_majorana/pandas_df.pckl')"
   ]
  },
  {
   "cell_type": "code",
   "execution_count": 96,
   "metadata": {},
   "outputs": [
    {
     "data": {
      "text/plain": [
       "<bound method NDFrame.describe of      P_projectile                     P_decay_N_parent            \\\n",
       "                t    x    y         z                t         x   \n",
       "0        0.710941  0.0  0.0  0.710941         0.710935  0.010139   \n",
       "1        0.516090  0.0  0.0  0.516090         0.515959  0.036138   \n",
       "2        0.666177  0.0  0.0  0.666177         0.666056  0.001813   \n",
       "3        0.507912  0.0  0.0  0.507912         0.507630 -0.075788   \n",
       "4        0.488250  0.0  0.0  0.488250         0.487822 -0.094297   \n",
       "...           ...  ...  ...       ...              ...       ...   \n",
       "3223     1.070896  0.0  0.0  1.070896         0.872845 -0.251017   \n",
       "3224     1.376887  0.0  0.0  1.376887         0.988847  0.163374   \n",
       "3225     1.073191  0.0  0.0  1.073191         0.970606 -0.191294   \n",
       "3226     1.469030  0.0  0.0  1.469030         1.306174  0.165244   \n",
       "3227     1.103465  0.0  0.0  1.103465         0.478958 -0.468371   \n",
       "\n",
       "                               P_target       ... I_decay_rate_0  \\\n",
       "                 y         z          t    x  ...                  \n",
       "0     4.986127e-07  0.706347  11.174864 -0.0  ...       5.567707   \n",
       "1     3.923614e-02  0.506920  11.174864 -0.0  ...       5.567707   \n",
       "2    -5.144754e-02  0.659228  11.174864 -0.0  ...       5.567707   \n",
       "3     2.014585e-02  0.495114  11.174864 -0.0  ...       5.567707   \n",
       "4    -1.969313e-02  0.471477  11.174864 -0.0  ...       5.567707   \n",
       "...            ...       ...        ...  ...  ...            ...   \n",
       "3223  4.555977e-01  0.696333   0.938272 -0.0  ...       5.567707   \n",
       "3224 -6.506197e-01  0.722095   0.938272 -0.0  ...       5.567707   \n",
       "3225  3.582053e-01  0.877937   0.938272 -0.0  ...       5.567707   \n",
       "3226 -4.821150e-01  1.199979   0.938272 -0.0  ...       5.567707   \n",
       "3227 -2.467758e-02 -0.054958   0.938272 -0.0  ...       5.567707   \n",
       "\n",
       "      w_event_rate  I_event_rate w_flux_avg_xsec I_flux_avg_xsec  \\\n",
       "                                                                   \n",
       "0     9.841031e+23  6.206862e+27       40.615859   462826.625414   \n",
       "1     1.084917e+24  6.206862e+27       66.390863   462826.625414   \n",
       "2     1.125931e+24  6.206862e+27       62.494684   462826.625414   \n",
       "3     1.020869e+24  6.206862e+27       55.047785   462826.625414   \n",
       "4     6.526255e+23  6.206862e+27       47.201526   462826.625414   \n",
       "...            ...           ...             ...             ...   \n",
       "3223  8.909117e+23  6.206862e+27      119.232356   462826.625414   \n",
       "3224  7.886209e+23  6.206862e+27       73.913298   462826.625414   \n",
       "3225  3.587910e+23  6.206862e+27      124.184719   462826.625414   \n",
       "3226  3.286144e+22  6.206862e+27      128.349405   462826.625414   \n",
       "3227  4.019969e+22  6.206862e+27       61.058131   462826.625414   \n",
       "\n",
       "            target target_pdgid scattering_regime    helicity  \\\n",
       "                                                                \n",
       "0              C12   1000060120          coherent  conserving   \n",
       "1              C12   1000060120          coherent  conserving   \n",
       "2              C12   1000060120          coherent  conserving   \n",
       "3              C12   1000060120          coherent  conserving   \n",
       "4              C12   1000060120          coherent  conserving   \n",
       "...            ...          ...               ...         ...   \n",
       "3223  proton_in_H1         2212              p-el    flipping   \n",
       "3224  proton_in_H1         2212              p-el    flipping   \n",
       "3225  proton_in_H1         2212              p-el    flipping   \n",
       "3226  proton_in_H1         2212              p-el    flipping   \n",
       "3227  proton_in_H1         2212              p-el    flipping   \n",
       "\n",
       "                                     underlying_process  \n",
       "                                                         \n",
       "0     nu(mu) + C12 -> N4 +  C12 -> nu(mu) + e+ + e- ...  \n",
       "1     nu(mu) + C12 -> N4 +  C12 -> nu(mu) + e+ + e- ...  \n",
       "2     nu(mu) + C12 -> N4 +  C12 -> nu(mu) + e+ + e- ...  \n",
       "3     nu(mu) + C12 -> N4 +  C12 -> nu(mu) + e+ + e- ...  \n",
       "4     nu(mu) + C12 -> N4 +  C12 -> nu(mu) + e+ + e- ...  \n",
       "...                                                 ...  \n",
       "3223  nu(mu) + proton_in_H1 -> N4 +  proton_in_H1 ->...  \n",
       "3224  nu(mu) + proton_in_H1 -> N4 +  proton_in_H1 ->...  \n",
       "3225  nu(mu) + proton_in_H1 -> N4 +  proton_in_H1 ->...  \n",
       "3226  nu(mu) + proton_in_H1 -> N4 +  proton_in_H1 ->...  \n",
       "3227  nu(mu) + proton_in_H1 -> N4 +  proton_in_H1 ->...  \n",
       "\n",
       "[3228 rows x 43 columns]>"
      ]
     },
     "execution_count": 96,
     "metadata": {},
     "output_type": "execute_result"
    }
   ],
   "source": [
    "df.describe"
   ]
  },
  {
   "cell_type": "code",
   "execution_count": null,
   "metadata": {},
   "outputs": [],
   "source": []
  }
 ],
 "metadata": {
  "kernelspec": {
   "display_name": "Python 3",
   "language": "python",
   "name": "python3"
  },
  "language_info": {
   "codemirror_mode": {
    "name": "ipython",
    "version": 3
   },
   "file_extension": ".py",
   "mimetype": "text/x-python",
   "name": "python",
   "nbconvert_exporter": "python",
   "pygments_lexer": "ipython3",
   "version": "3.9.9"
  }
 },
 "nbformat": 4,
 "nbformat_minor": 4
}
