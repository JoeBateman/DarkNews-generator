{
 "cells": [
  {
   "cell_type": "code",
   "execution_count": 1,
   "id": "a9f02450-3b6e-4d76-b22b-ad1b36ae3a05",
   "metadata": {},
   "outputs": [],
   "source": [
    "%load_ext autoreload\n",
    "%autoreload 2 "
   ]
  },
  {
   "cell_type": "code",
   "execution_count": 2,
   "id": "e927cc64-fbbb-45f0-8199-d8f1927c6307",
   "metadata": {},
   "outputs": [],
   "source": [
    "import numpy as np\n",
    "import matplotlib.pyplot as plt\n",
    "import pandas as pd\n",
    "\n",
    "from ToyAnalysis import fit_functions as ff\n",
    "from ToyAnalysis import grid_fit as gf\n",
    "import DarkNews as dn"
   ]
  },
  {
   "cell_type": "markdown",
   "id": "eb12143f",
   "metadata": {},
   "source": [
    "# Sneak peak at the MiniBooNE event rate"
   ]
  },
  {
   "cell_type": "code",
   "execution_count": 12,
   "id": "5ecd9b01",
   "metadata": {},
   "outputs": [
    {
     "name": "stdout",
     "output_type": "stream",
     "text": [
      "---------------------------------------------------------\n",
      "   ______           _        _   _                     \n",
      "   |  _  \\         | |      | \\ | |                    \n",
      "   | | | |__ _ _ __| | __   |  \\| | _____      _____   \n",
      "   | | | / _  | ___| |/ /   | .   |/ _ \\ \\ /\\ / / __|  \n",
      "   | |/ / (_| | |  |   <    | |\\  |  __/\\ V  V /\\__ \\  \n",
      "   |___/ \\__,_|_|  |_|\\_\\   \\_| \\_/\\___| \\_/\\_/ |___/  \n",
      "\n",
      "Initializing the three-portal model.\n",
      "---------------------------------------------------------\n",
      "Model:\n",
      "\t1 dirac heavy neutrino(s).\n",
      "\n"
     ]
    },
    {
     "name": "stdout",
     "output_type": "stream",
     "text": [
      "---------------------------------------------------------\n",
      "Experiment:\n",
      "\tminiboone_fhc\n",
      "\tfluxfile loaded: MiniBooNE_FHC.dat\n",
      "\tPOT: 1.875e+21\n",
      "\tnuclear targets: ['C12', 'H1']\n",
      "\tfiducial mass: [701.1428571428571, 116.85714285714286] tonnes\n",
      "\n"
     ]
    },
    {
     "data": {
      "text/plain": [
       "<DarkNews.GenLauncher.GenLauncher at 0x7fc08a7f6c50>"
      ]
     },
     "execution_count": 12,
     "metadata": {},
     "output_type": "execute_result"
    }
   ],
   "source": [
    "dn.GenLauncher(Umu4=1e-3, mzprime=1.25, m4=0.14, epsilon = 8e-4, gD=2, experiment='miniboone_fhc')"
   ]
  },
  {
   "cell_type": "code",
   "execution_count": null,
   "id": "807f8410",
   "metadata": {},
   "outputs": [],
   "source": []
  },
  {
   "cell_type": "markdown",
   "id": "a5ed6563-9174-4d86-b90c-1abcb2d19854",
   "metadata": {},
   "source": [
    "# General features"
   ]
  },
  {
   "cell_type": "markdown",
   "id": "4a7bd874-0eaf-49d6-9236-784648fedfd8",
   "metadata": {},
   "source": [
    "Before creating a grid to fit different parameters to the data of a particular experiment (by now only MiniBooNE fitting is available), you can set the default values of the couplings and mixing elements that will be use to generate the events using DarkNews:"
   ]
  },
  {
   "cell_type": "code",
   "execution_count": 13,
   "id": "ae64888c-ce9d-40d8-a4a4-2c13400205c0",
   "metadata": {},
   "outputs": [],
   "source": [
    "gf.UD4_def = 1.0/np.sqrt(2.)\n",
    "gf.UD5_def = 1.0/np.sqrt(2.)\n",
    "gf.gD_def = 2.\n",
    "gf.Umu4_def = np.sqrt(1.0e-12)\n",
    "gf.Umu5_def = np.sqrt(1.0e-12)\n",
    "gf.epsilon_def = 8e-4"
   ]
  },
  {
   "cell_type": "markdown",
   "id": "26eaf8e0-3d53-4e45-a3ed-c4a1e7791ebd",
   "metadata": {},
   "source": [
    "# Obtain dataframe with events analyzed and filtered by decay"
   ]
  },
  {
   "cell_type": "markdown",
   "id": "0f35d2b3-e2ce-450b-9a0d-695808dd1117",
   "metadata": {},
   "source": [
    "__Keyword arguments:__\n",
    "* model='3+1',model to use\n",
    "* experiment='miniboone_fhc', experiment\n",
    "* neval=100000, number of evaluations for Vegas\n",
    "* HNLtype=\"dirac\", type of HNL\n",
    "* mzprime=1.25\n",
    "* m4=0.8\n",
    "* m5=1.0\n",
    "* UD4=UD4_def\n",
    "* UD5=UD5_def\n",
    "* Umu4=Umu4_def\n",
    "* Umu5=Umu5_def\n",
    "* gD=gD_def\n",
    "* epsilon=epsilon_def"
   ]
  },
  {
   "cell_type": "code",
   "execution_count": 14,
   "id": "9204e678-cd1b-404c-a818-2f1862e4548b",
   "metadata": {},
   "outputs": [],
   "source": [
    "# runnning one example point\n",
    "_ = gf.get_events_df(model='3+1', mzprime=0.2, m4=0.5, neval=1000, loglevel='ERROR')"
   ]
  },
  {
   "cell_type": "markdown",
   "id": "b472c98e-d108-49da-ae18-c5e4fd74e098",
   "metadata": {},
   "source": [
    "# Generate grid for mass vs mass"
   ]
  },
  {
   "cell_type": "markdown",
   "id": "6c4906c9-2a69-4381-82b0-23bbe39add8b",
   "metadata": {},
   "source": [
    "## 1. Create grid"
   ]
  },
  {
   "cell_type": "code",
   "execution_count": 15,
   "id": "3df7a757-690a-4d50-ae58-2e11bc239ebe",
   "metadata": {},
   "outputs": [],
   "source": [
    "example_3p1 = gf.grid_analysis(model='3+1',\n",
    "                                experiment='miniboone_fhc', \n",
    "                                HNLtype=\"dirac\",\n",
    "                                x_label='mzprime',\n",
    "                                y_label='m4',\n",
    "                                x_range=(0.02,10,4),\n",
    "                                y_range=(0.01,2,4),\n",
    "                                neval=100,\n",
    "                                cores=4)"
   ]
  },
  {
   "cell_type": "markdown",
   "id": "aa1c60a6-88e3-415a-b7fc-549d8290206a",
   "metadata": {},
   "source": [
    "The keyword arguments you can pass are the following: (the first element shown is the default)\n",
    "\n",
    "* model='3+1' or '3+2'\n",
    "\n",
    "* experiment='miniboone_fhc'\n",
    "\n",
    "* neval=100000, number of evaluations for Vegas\n",
    "\n",
    "* HNLtype=\"dirac\" or \"majorana\"\n",
    "\n",
    "* x_label='mzprime', \"m4\", \"m5\" or \"delta\", parameter for the x axis of the grid\n",
    "\n",
    "* y_label='m4',mzprime', \"m5\" or \"delta\", parameter for the y axis of the grid\n",
    "\n",
    "* x_range=(0.02,10,10), the range used for the x axis of the grid, where the structure is (start,stop,number of points)\n",
    "\n",
    "* y_range=(0.01,2,10), the range used for the y axis of the grid, where the structure is (start,stop,number of points)\n",
    "\n",
    "* log_interval_x=True or False, if you want the x axis to be log distributed\n",
    "\n",
    "* log_interval_y=True or False, same as the previous one, but for y axis \n",
    "\n",
    "* mzprime=None, if you want to set a particular value of mzprime, in case it is fixed\n",
    "\n",
    "* m4=None, same as the previous option\n",
    "\n",
    "* m5=None, same as the previous option\n",
    "\n",
    "* delta=None, same as the previous option\n",
    "\n",
    "* UmuN_max=1e-2, maximum value to consider for the mixing parameters when fitting\n",
    "\n",
    "* UD4=UD4_def, value set to do the fitting, not the generation of events\n",
    "\n",
    "* UD5=UD5_def, same as the previous one\n",
    "\n",
    "* Umu4=Umu4_def, same as the previous one\n",
    "\n",
    "* Umu5=Umu5_def, same as the previous one\n",
    "\n",
    "* gD=gD_def, same as the previous one\n",
    "\n",
    "* epsilon=8e-4, same as the previous one\n",
    "\n",
    "* cores=1, number of cores to do the multiprocessing\n",
    "\n",
    "* output_file=None, name of the file where the fitting results will be stored"
   ]
  },
  {
   "cell_type": "markdown",
   "id": "94566579-0907-4c36-bcca-4c3133095d0a",
   "metadata": {},
   "source": [
    "## 2. Generate events for the grid"
   ]
  },
  {
   "cell_type": "code",
   "execution_count": 16,
   "id": "64cbe06c-2575-4634-83c4-cc92d3c8f9cf",
   "metadata": {},
   "outputs": [
    {
     "data": {
      "text/plain": [
       "'Success!'"
      ]
     },
     "execution_count": 16,
     "metadata": {},
     "output_type": "execute_result"
    }
   ],
   "source": [
    "example_3p1.generate_events(location='data', loglevel='warning')"
   ]
  },
  {
   "cell_type": "markdown",
   "id": "ae189d26-db32-4475-8289-357c822dbcb6",
   "metadata": {},
   "source": [
    "* 'location' is the folder where the generated events will be stored"
   ]
  },
  {
   "cell_type": "markdown",
   "id": "5f517960-b415-49ed-bf7f-ea217327d6d1",
   "metadata": {},
   "source": [
    "## 3. Fit events generated for the grid\n",
    "This will include smearing and decay filter"
   ]
  },
  {
   "cell_type": "code",
   "execution_count": 17,
   "id": "45e19e9b-5778-4b29-baaf-a6c37c3e1c5d",
   "metadata": {},
   "outputs": [],
   "source": [
    "example_3p1.fit_events(location='data',location_fit='data_fitting')"
   ]
  },
  {
   "cell_type": "markdown",
   "id": "177c2063-2c08-42ec-85d1-cd4e98cf1a87",
   "metadata": {},
   "source": [
    "* 'location' is the folder where the generated events will be stored\n",
    "* 'location_fit' is the folder where the fitting results will be stored"
   ]
  },
  {
   "cell_type": "markdown",
   "id": "d00e7590-92f6-4fbf-9cfb-8c206f869528",
   "metadata": {},
   "source": [
    "## 4. Access the dataframe with all the results"
   ]
  },
  {
   "cell_type": "code",
   "execution_count": 18,
   "id": "e7e2689f-fafd-40f4-b52f-c7ccd9dea257",
   "metadata": {},
   "outputs": [
    {
     "data": {
      "text/html": [
       "<div>\n",
       "<style scoped>\n",
       "    .dataframe tbody tr th:only-of-type {\n",
       "        vertical-align: middle;\n",
       "    }\n",
       "\n",
       "    .dataframe tbody tr th {\n",
       "        vertical-align: top;\n",
       "    }\n",
       "\n",
       "    .dataframe thead th {\n",
       "        text-align: right;\n",
       "    }\n",
       "</style>\n",
       "<table border=\"1\" class=\"dataframe\">\n",
       "  <thead>\n",
       "    <tr style=\"text-align: right;\">\n",
       "      <th></th>\n",
       "      <th>mzprime</th>\n",
       "      <th>m4</th>\n",
       "      <th>chi2</th>\n",
       "      <th>N_events</th>\n",
       "      <th>couplings</th>\n",
       "      <th>decay_length</th>\n",
       "      <th>sum_w_post_smearing</th>\n",
       "      <th>v_4i</th>\n",
       "    </tr>\n",
       "  </thead>\n",
       "  <tbody>\n",
       "  </tbody>\n",
       "</table>\n",
       "</div>"
      ],
      "text/plain": [
       "Empty DataFrame\n",
       "Columns: [mzprime, m4, chi2, N_events, couplings, decay_length, sum_w_post_smearing, v_4i]\n",
       "Index: []"
      ]
     },
     "execution_count": 18,
     "metadata": {},
     "output_type": "execute_result"
    }
   ],
   "source": [
    "example_3p1.df"
   ]
  },
  {
   "cell_type": "markdown",
   "id": "c54b3fee-194b-41d6-b61e-ee1502cb1e36",
   "metadata": {},
   "source": [
    "## 5. Plot the fitting"
   ]
  },
  {
   "cell_type": "markdown",
   "id": "28cc3648-c3ec-45e2-98ae-42a78c1673f0",
   "metadata": {},
   "source": [
    "__Keyword arguments:__\n",
    "* leg_loc = 'lower left', position of the legends\n",
    "* plot_path=False, path of the plot to save\n",
    "* save=True or False, whether to save it or not\n",
    "* title=False, title to put on the top of the plot. False means that you will use the default one\n",
    "* x_limits=[False,(0,0)], [0]: whether to put limits to the values shown on the plot for the X axis. [1]: limits\n",
    "* y_limits=[False,(0,0)], the same but for the Y axis"
   ]
  },
  {
   "cell_type": "code",
   "execution_count": 10,
   "id": "72affc7c-f1f3-4745-acee-2dac2a61c37b",
   "metadata": {},
   "outputs": [
    {
     "ename": "ValueError",
     "evalue": "zero-size array to reduction operation minimum which has no identity",
     "output_type": "error",
     "traceback": [
      "\u001b[0;31m---------------------------------------------------------------------------\u001b[0m",
      "\u001b[0;31mValueError\u001b[0m                                Traceback (most recent call last)",
      "Cell \u001b[0;32mIn[10], line 1\u001b[0m\n\u001b[0;32m----> 1\u001b[0m \u001b[43mexample_3p1\u001b[49m\u001b[38;5;241;43m.\u001b[39;49m\u001b[43mplot\u001b[49m\u001b[43m(\u001b[49m\u001b[43m)\u001b[49m\n",
      "File \u001b[0;32m~/My Drive (joseph.bateman@student.manchester.ac.uk)/PhD/DarkNews/DarkNews-generator/old_examples/ToyAnalysis/grid_fit.py:496\u001b[0m, in \u001b[0;36mgrid_analysis.plot\u001b[0;34m(self, leg_loc, plot_path, save, title, x_limits, y_limits)\u001b[0m\n\u001b[1;32m    493\u001b[0m Z \u001b[38;5;241m=\u001b[39m data[\u001b[38;5;124m\"\u001b[39m\u001b[38;5;124mchi2\u001b[39m\u001b[38;5;124m\"\u001b[39m]\u001b[38;5;241m.\u001b[39mvalues \u001b[38;5;241m-\u001b[39m data[\u001b[38;5;124m\"\u001b[39m\u001b[38;5;124mchi2\u001b[39m\u001b[38;5;124m\"\u001b[39m]\u001b[38;5;241m.\u001b[39mmin()\n\u001b[1;32m    495\u001b[0m \u001b[38;5;66;03m# looking for best fit\u001b[39;00m\n\u001b[0;32m--> 496\u001b[0m mask_min \u001b[38;5;241m=\u001b[39m Z \u001b[38;5;241m==\u001b[39m \u001b[43mZ\u001b[49m\u001b[38;5;241;43m.\u001b[39;49m\u001b[43mmin\u001b[49m\u001b[43m(\u001b[49m\u001b[43m)\u001b[49m\n\u001b[1;32m    497\u001b[0m xmin_enu, ymin_enu \u001b[38;5;241m=\u001b[39m X[mask_min][\u001b[38;5;241m0\u001b[39m], Y[mask_min][\u001b[38;5;241m0\u001b[39m]\n\u001b[1;32m    499\u001b[0m X \u001b[38;5;241m=\u001b[39m \u001b[38;5;28mlist\u001b[39m(X)\n",
      "File \u001b[0;32m~/miniconda3/envs/DarkNews310/lib/python3.10/site-packages/numpy/core/_methods.py:45\u001b[0m, in \u001b[0;36m_amin\u001b[0;34m(a, axis, out, keepdims, initial, where)\u001b[0m\n\u001b[1;32m     43\u001b[0m \u001b[38;5;28;01mdef\u001b[39;00m \u001b[38;5;21m_amin\u001b[39m(a, axis\u001b[38;5;241m=\u001b[39m\u001b[38;5;28;01mNone\u001b[39;00m, out\u001b[38;5;241m=\u001b[39m\u001b[38;5;28;01mNone\u001b[39;00m, keepdims\u001b[38;5;241m=\u001b[39m\u001b[38;5;28;01mFalse\u001b[39;00m,\n\u001b[1;32m     44\u001b[0m           initial\u001b[38;5;241m=\u001b[39m_NoValue, where\u001b[38;5;241m=\u001b[39m\u001b[38;5;28;01mTrue\u001b[39;00m):\n\u001b[0;32m---> 45\u001b[0m     \u001b[38;5;28;01mreturn\u001b[39;00m \u001b[43mumr_minimum\u001b[49m\u001b[43m(\u001b[49m\u001b[43ma\u001b[49m\u001b[43m,\u001b[49m\u001b[43m \u001b[49m\u001b[43maxis\u001b[49m\u001b[43m,\u001b[49m\u001b[43m \u001b[49m\u001b[38;5;28;43;01mNone\u001b[39;49;00m\u001b[43m,\u001b[49m\u001b[43m \u001b[49m\u001b[43mout\u001b[49m\u001b[43m,\u001b[49m\u001b[43m \u001b[49m\u001b[43mkeepdims\u001b[49m\u001b[43m,\u001b[49m\u001b[43m \u001b[49m\u001b[43minitial\u001b[49m\u001b[43m,\u001b[49m\u001b[43m \u001b[49m\u001b[43mwhere\u001b[49m\u001b[43m)\u001b[49m\n",
      "\u001b[0;31mValueError\u001b[0m: zero-size array to reduction operation minimum which has no identity"
     ]
    }
   ],
   "source": [
    "example_3p1.plot()"
   ]
  },
  {
   "cell_type": "markdown",
   "id": "9995455e-5cd8-4cf3-b571-4887b20de1ef",
   "metadata": {},
   "source": [
    "# Generate grid for mass vs couplings"
   ]
  },
  {
   "cell_type": "markdown",
   "id": "fa88b873-d3da-44ed-8937-60f979216f20",
   "metadata": {},
   "source": [
    "## 1. Create grid"
   ]
  },
  {
   "cell_type": "code",
   "execution_count": 10,
   "id": "c227f17f-0bf8-40c6-8664-c584dc150635",
   "metadata": {},
   "outputs": [],
   "source": [
    "example_3p1_coupling = gf.grid_analysis_couplings(model='3+1',experiment='miniboone_fhc',neval=100000, HNLtype=\"dirac\",x_label='m4', x_range=(0.02,2,8),coupling_range=(1e-3,1e-1,10),mzprime=0.8,cores=8)"
   ]
  },
  {
   "cell_type": "markdown",
   "id": "e2c2bfbc-a283-4a79-9599-c4203beaef95",
   "metadata": {},
   "source": [
    "The keyword arguments you can pass are the following: (the first element shown is the default)\n",
    "* model='3+1' or '3+2'\n",
    "* experiment='miniboone_fhc'\n",
    "* neval=100000, number of evaluations for Vegas\n",
    "* HNLtype=\"dirac\" or \"majorana\"\n",
    "* x_label='mzprime', \"m4\", \"m5\" or \"delta\", parameter for the x axis of the grid. The couplings will be for the y axis\n",
    "* x_range=(0.02,10,10), the range used for the x axis of the grid, where the structure is (start,stop,number of points)\n",
    "* coupling_range=(0.01,2,10), the range used for the coupling axis of the grid, where the structure is (start,stop,number of points). For \"3+1\" it is |Umu4|, for \"3+2\", |Vmu5|\n",
    "* log_interval_x=True or False, if you want the x axis to be log distributed\n",
    "* log_interval_coupling=True or False, same as the previous one, but for y axis\n",
    "* mzprime=None, if you want to set a particular value of mzprime, in case it is fixed\n",
    "* m4=None, same as the previous option\n",
    "* m5=None, same as the previous option\n",
    "* delta=None, same as the previous option\n",
    "* UD4=UD4_def, value set to do the fitting, not the generation of events\n",
    "* UD5=UD5_def, same as the previous one\n",
    "* Umu4=Umu4_def, same as the previous one\n",
    "* Umu5=Umu5_def, same as the previous one\n",
    "* gD=gD_def, same as the previous one\n",
    "* epsilon=8e-4, same as the previous one\n",
    "* cores=1, number of cores to do the multiprocessing\n",
    "* output_file=None, name of the file where the fitting results will be stored"
   ]
  },
  {
   "cell_type": "markdown",
   "id": "182db00a-eca2-4d01-b6cc-4bac01fb4758",
   "metadata": {},
   "source": [
    "## 2. Generate events for the grid"
   ]
  },
  {
   "cell_type": "code",
   "execution_count": 11,
   "id": "9a300b82-f11a-4179-b235-827625171707",
   "metadata": {},
   "outputs": [
    {
     "name": "stderr",
     "output_type": "stream",
     "text": [
      "/home/dmass/Documents/GitHub/DarkNews-generator/src/DarkNews/MC.py:224: UserWarning: gammaQ convergence not complete -- want: nan << 1e-05\n",
      "  logger.debug(f\"Vegas results for the integrals: {result.summary()}\")\n",
      "/home/dmass/Documents/GitHub/DarkNews-generator/src/DarkNews/MC.py:224: UserWarning: gammaQ convergence not complete -- want: nan << 1e-05\n",
      "  logger.debug(f\"Vegas results for the integrals: {result.summary()}\")\n"
     ]
    }
   ],
   "source": [
    "example_3p1_coupling.generate_events(location='data', loglevel='warning')"
   ]
  },
  {
   "cell_type": "markdown",
   "id": "0fb517ec-3ed8-4cd1-a716-cd9eccd17e31",
   "metadata": {},
   "source": [
    "* 'location' is the folder where the generated events will be stored"
   ]
  },
  {
   "cell_type": "markdown",
   "id": "1d5a1c49-e409-442e-bf61-67edba6c5b20",
   "metadata": {},
   "source": [
    "## 3. Compute the $\\chi^2$ for the events generated for the grid\n",
    "This will include smearing and decay filter"
   ]
  },
  {
   "cell_type": "code",
   "execution_count": 12,
   "id": "3dceff4b-a26c-4bd3-86d9-0377e28095c7",
   "metadata": {},
   "outputs": [],
   "source": [
    "example_3p1_coupling.fit_events(location='data',location_fit='data_fitting_coupling')"
   ]
  },
  {
   "cell_type": "markdown",
   "id": "25bc0808-ec34-4ccb-b74b-cd3d4ecf6717",
   "metadata": {},
   "source": [
    "* 'location' is the folder where the generated events will be stored\n",
    "* 'location_fit' is the folder where the fitting results will be stored"
   ]
  },
  {
   "cell_type": "markdown",
   "id": "8a89fdcc-2945-4589-b022-cf2a3151eda4",
   "metadata": {},
   "source": [
    "## 4. Access the dataframe with all the results"
   ]
  },
  {
   "cell_type": "code",
   "execution_count": 13,
   "id": "a639e169-3e65-4194-86a3-8f0f2328e2ab",
   "metadata": {},
   "outputs": [
    {
     "data": {
      "text/html": [
       "<div>\n",
       "<style scoped>\n",
       "    .dataframe tbody tr th:only-of-type {\n",
       "        vertical-align: middle;\n",
       "    }\n",
       "\n",
       "    .dataframe tbody tr th {\n",
       "        vertical-align: top;\n",
       "    }\n",
       "\n",
       "    .dataframe thead th {\n",
       "        text-align: right;\n",
       "    }\n",
       "</style>\n",
       "<table border=\"1\" class=\"dataframe\">\n",
       "  <thead>\n",
       "    <tr style=\"text-align: right;\">\n",
       "      <th></th>\n",
       "      <th>m4</th>\n",
       "      <th>mzprime</th>\n",
       "      <th>decay_length</th>\n",
       "      <th>vmu4</th>\n",
       "      <th>Nevents</th>\n",
       "      <th>chi2</th>\n",
       "      <th>sum_w_post_smearing</th>\n",
       "    </tr>\n",
       "  </thead>\n",
       "  <tbody>\n",
       "    <tr>\n",
       "      <th>0</th>\n",
       "      <td>0.020</td>\n",
       "      <td>0.8</td>\n",
       "      <td>5.539097e+10</td>\n",
       "      <td>0.001000</td>\n",
       "      <td>4.965434e-09</td>\n",
       "      <td>31.802031</td>\n",
       "      <td>4.965429e-15</td>\n",
       "    </tr>\n",
       "    <tr>\n",
       "      <th>1</th>\n",
       "      <td>0.020</td>\n",
       "      <td>0.8</td>\n",
       "      <td>1.990888e+10</td>\n",
       "      <td>0.001668</td>\n",
       "      <td>3.842561e-08</td>\n",
       "      <td>31.802031</td>\n",
       "      <td>1.381108e-14</td>\n",
       "    </tr>\n",
       "    <tr>\n",
       "      <th>2</th>\n",
       "      <td>0.020</td>\n",
       "      <td>0.8</td>\n",
       "      <td>7.151754e+09</td>\n",
       "      <td>0.002783</td>\n",
       "      <td>2.971060e-07</td>\n",
       "      <td>31.802031</td>\n",
       "      <td>3.836027e-14</td>\n",
       "    </tr>\n",
       "    <tr>\n",
       "      <th>3</th>\n",
       "      <td>0.020</td>\n",
       "      <td>0.8</td>\n",
       "      <td>2.570566e+09</td>\n",
       "      <td>0.004642</td>\n",
       "      <td>2.304440e-06</td>\n",
       "      <td>31.802031</td>\n",
       "      <td>1.069414e-13</td>\n",
       "    </tr>\n",
       "    <tr>\n",
       "      <th>4</th>\n",
       "      <td>0.020</td>\n",
       "      <td>0.8</td>\n",
       "      <td>9.238904e+08</td>\n",
       "      <td>0.007743</td>\n",
       "      <td>1.778602e-05</td>\n",
       "      <td>31.802029</td>\n",
       "      <td>2.966431e-13</td>\n",
       "    </tr>\n",
       "    <tr>\n",
       "      <th>...</th>\n",
       "      <td>...</td>\n",
       "      <td>...</td>\n",
       "      <td>...</td>\n",
       "      <td>...</td>\n",
       "      <td>...</td>\n",
       "      <td>...</td>\n",
       "      <td>...</td>\n",
       "    </tr>\n",
       "    <tr>\n",
       "      <th>65</th>\n",
       "      <td>1.036</td>\n",
       "      <td>0.8</td>\n",
       "      <td>1.843174e-15</td>\n",
       "      <td>0.012921</td>\n",
       "      <td>7.744667e-03</td>\n",
       "      <td>31.802231</td>\n",
       "      <td>4.638795e-11</td>\n",
       "    </tr>\n",
       "    <tr>\n",
       "      <th>66</th>\n",
       "      <td>1.036</td>\n",
       "      <td>0.8</td>\n",
       "      <td>6.631320e-16</td>\n",
       "      <td>0.021545</td>\n",
       "      <td>2.153268e-02</td>\n",
       "      <td>31.802588</td>\n",
       "      <td>4.638795e-11</td>\n",
       "    </tr>\n",
       "    <tr>\n",
       "      <th>67</th>\n",
       "      <td>1.036</td>\n",
       "      <td>0.8</td>\n",
       "      <td>2.381964e-16</td>\n",
       "      <td>0.035963</td>\n",
       "      <td>5.999606e-02</td>\n",
       "      <td>31.803583</td>\n",
       "      <td>4.638795e-11</td>\n",
       "    </tr>\n",
       "    <tr>\n",
       "      <th>68</th>\n",
       "      <td>1.036</td>\n",
       "      <td>0.8</td>\n",
       "      <td>8.560773e-17</td>\n",
       "      <td>0.060058</td>\n",
       "      <td>1.673198e-01</td>\n",
       "      <td>31.806368</td>\n",
       "      <td>4.638795e-11</td>\n",
       "    </tr>\n",
       "    <tr>\n",
       "      <th>69</th>\n",
       "      <td>1.036</td>\n",
       "      <td>0.8</td>\n",
       "      <td>3.076744e-17</td>\n",
       "      <td>0.100504</td>\n",
       "      <td>4.685652e-01</td>\n",
       "      <td>31.814250</td>\n",
       "      <td>4.638795e-11</td>\n",
       "    </tr>\n",
       "  </tbody>\n",
       "</table>\n",
       "<p>70 rows × 7 columns</p>\n",
       "</div>"
      ],
      "text/plain": [
       "       m4  mzprime  decay_length      vmu4       Nevents       chi2  \\\n",
       "0   0.020      0.8  5.539097e+10  0.001000  4.965434e-09  31.802031   \n",
       "1   0.020      0.8  1.990888e+10  0.001668  3.842561e-08  31.802031   \n",
       "2   0.020      0.8  7.151754e+09  0.002783  2.971060e-07  31.802031   \n",
       "3   0.020      0.8  2.570566e+09  0.004642  2.304440e-06  31.802031   \n",
       "4   0.020      0.8  9.238904e+08  0.007743  1.778602e-05  31.802029   \n",
       "..    ...      ...           ...       ...           ...        ...   \n",
       "65  1.036      0.8  1.843174e-15  0.012921  7.744667e-03  31.802231   \n",
       "66  1.036      0.8  6.631320e-16  0.021545  2.153268e-02  31.802588   \n",
       "67  1.036      0.8  2.381964e-16  0.035963  5.999606e-02  31.803583   \n",
       "68  1.036      0.8  8.560773e-17  0.060058  1.673198e-01  31.806368   \n",
       "69  1.036      0.8  3.076744e-17  0.100504  4.685652e-01  31.814250   \n",
       "\n",
       "    sum_w_post_smearing  \n",
       "0          4.965429e-15  \n",
       "1          1.381108e-14  \n",
       "2          3.836027e-14  \n",
       "3          1.069414e-13  \n",
       "4          2.966431e-13  \n",
       "..                  ...  \n",
       "65         4.638795e-11  \n",
       "66         4.638795e-11  \n",
       "67         4.638795e-11  \n",
       "68         4.638795e-11  \n",
       "69         4.638795e-11  \n",
       "\n",
       "[70 rows x 7 columns]"
      ]
     },
     "execution_count": 13,
     "metadata": {},
     "output_type": "execute_result"
    }
   ],
   "source": [
    "example_3p1_coupling.df"
   ]
  },
  {
   "cell_type": "markdown",
   "id": "6b71b57a-539a-4809-a991-c1a52d138f2f",
   "metadata": {},
   "source": [
    "## 5. Plot the fitting"
   ]
  },
  {
   "cell_type": "markdown",
   "id": "4d2dac2a-76d3-4f43-af35-8161f970cd07",
   "metadata": {},
   "source": [
    "__Keyword arguments:__\n",
    "* coupling_factor=1e6, the factor to multiply Y axis to have a better plot. The Y axis values will remain unchanged. This helps to have a better resolution. tricontourplot works better with values of O(1)\n",
    "* leg_loc = 'lower left', position of the legends\n",
    "* plot_path=False, path of the plot to save\n",
    "* save=True or False, whether to save it or not\n",
    "* title=False, title to put on the top of the plot. False means that you will use the default one\n",
    "* x_limits=[False,(0,0)], [0]: whether to put limits to the values shown on the plot for the X axis. [1]: limits\n",
    "* y_limits=[False,(0,0)], the same but for the Y axis"
   ]
  },
  {
   "cell_type": "code",
   "execution_count": 14,
   "id": "e378b3d4-b0db-4301-b454-616046a23d1d",
   "metadata": {},
   "outputs": [
    {
     "data": {
      "image/png": "[encoded data removed]",
      "text/plain": [
       "<Figure size 432x288 with 1 Axes>"
      ]
     },
     "metadata": {
      "needs_background": "light"
     },
     "output_type": "display_data"
    },
    {
     "data": {
      "text/plain": [
       "<Figure size 432x288 with 0 Axes>"
      ]
     },
     "metadata": {},
     "output_type": "display_data"
    }
   ],
   "source": [
    "example_3p1_coupling.plot(coupling_factor=1e5)"
   ]
  },
  {
   "cell_type": "code",
   "execution_count": null,
   "id": "c087164c-aef7-4d3d-afea-219f11f9ad26",
   "metadata": {},
   "outputs": [],
   "source": []
  }
 ],
 "metadata": {
  "kernelspec": {
   "display_name": "Python 3.9.12 ('base')",
   "language": "python",
   "name": "python3"
  },
  "language_info": {
   "codemirror_mode": {
    "name": "ipython",
    "version": 3
   },
   "file_extension": ".py",
   "mimetype": "text/x-python",
   "name": "python",
   "nbconvert_exporter": "python",
   "pygments_lexer": "ipython3",
   "version": "3.10.0"
  },
  "vscode": {
   "interpreter": {
    "hash": "3067ead486e059ec00ffe7555bdb889e6e264a24dc711bf108106cc7baee8d5d"
   }
  }
 },
 "nbformat": 4,
 "nbformat_minor": 5
}
