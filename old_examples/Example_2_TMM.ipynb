{
 "cells": [
  {
   "cell_type": "markdown",
   "metadata": {},
   "source": [
    "# Example 2 -- Transition Magnetic Moments\n",
    "\n",
    "In this notebook, we explore the case of a transition magnetic moment, making use of the single photon\n",
    "$$ N \\to \\nu \\gamma $$\n",
    "as well as dilepton,\n",
    "$$ N \\to \\nu \\ell^+\\ell^- $$\n",
    "decays of the heavy neutrinos."
   ]
  },
  {
   "cell_type": "code",
   "execution_count": 1,
   "metadata": {},
   "outputs": [],
   "source": [
    "%load_ext autoreload\n",
    "%autoreload 2"
   ]
  },
  {
   "cell_type": "code",
   "execution_count": 2,
   "metadata": {},
   "outputs": [],
   "source": [
    "import matplotlib.pyplot as plt\n",
    "import numpy as np\n",
    "import pandas as pd\n",
    "\n",
    "import DarkNews as dn\n",
    "from DarkNews import *"
   ]
  },
  {
   "cell_type": "code",
   "execution_count": 3,
   "metadata": {},
   "outputs": [
    {
     "name": "stdout",
     "output_type": "stream",
     "text": [
      "---------------------------------------------------------\n",
      "   ______           _        _   _                     \n",
      "   |  _  \\         | |      | \\ | |                    \n",
      "   | | | |__ _ _ __| | __   |  \\| | _____      _____   \n",
      "   | | | / _  | ___| |/ /   | .   |/ _ \\ \\ /\\ / / __|  \n",
      "   | |/ / (_| | |  |   <    | |\\  |  __/\\ V  V /\\__ \\  \n",
      "   |___/ \\__,_|_|  |_|\\_\\   \\_| \\_/\\___| \\_/\\_/ |___/  \n",
      "\n",
      "---------------------------------------------------------\n",
      "Model:\n",
      "\t1 dirac heavy neutrino(s).\n",
      "\n",
      "---------------------------------------------------------\n",
      "Experiment:\n",
      "\tminiboone_fhc\n",
      "\tfluxfile loaded: MiniBooNE_FHC.dat\n",
      "\tPOT: 1.875e+21\n",
      "\tnuclear targets: ['C12', 'H1']\n",
      "\tfiducial mass: [701.1428571428571, 116.85714285714286] tonnes\n",
      "\n",
      "---------------------------------------------------------\n",
      "Generating Events using the neutrino-nucleus upscattering engine\n",
      "\n",
      "nu(mu) C12 --> N4  C12 --> nu_light gamma C12\n",
      "Helicity flipping upscattering.\n",
      "N4 decays via TMM.\n",
      "Parent N4 proper decay length: 1.807E+02 cm.\n",
      "\n",
      "Predicted (4.08e+04 +/- 538) events.\n",
      "\n",
      "nu(mu) proton_in_C12 --> N4  proton_in_C12 --> nu_light gamma proton_in_C12\n",
      "Helicity flipping upscattering.\n",
      "N4 decays via TMM.\n",
      "Parent N4 proper decay length: 1.808E+02 cm.\n",
      "\n",
      "Predicted (1.17e+04 +/- 147) events.\n",
      "\n",
      "nu(mu) proton_in_H1 --> N4  proton_in_H1 --> nu_light gamma proton_in_H1\n",
      "Helicity flipping upscattering.\n",
      "N4 decays via TMM.\n",
      "Parent N4 proper decay length: 1.808E+02 cm.\n",
      "\n",
      "Predicted (3.86e+03 +/- 48.4) events.\n",
      "\n",
      "---------------------------------------------------------\n",
      "Generation successful\n",
      "\n",
      "Total events predicted:\n",
      "(5.63e+04 +/- 560) events.\n",
      "\n",
      "---------------------------------------------------------\n",
      "Events in pandas dataframe saved to file successfully:\n",
      "data/miniboone_fhc/3plus1/m4_0.14_mzprime_1.25_dirac/pandas_df.pckl\n",
      "\n",
      "Initializing the three-portal model.\n",
      "---------------------------------------------------------\n",
      "   ______           _        _   _                     \n",
      "   |  _  \\         | |      | \\ | |                    \n",
      "   | | | |__ _ _ __| | __   |  \\| | _____      _____   \n",
      "   | | | / _  | ___| |/ /   | .   |/ _ \\ \\ /\\ / / __|  \n",
      "   | |/ / (_| | |  |   <    | |\\  |  __/\\ V  V /\\__ \\  \n",
      "   |___/ \\__,_|_|  |_|\\_\\   \\_| \\_/\\___| \\_/\\_/ |___/  \n",
      "\n",
      "---------------------------------------------------------\n",
      "Model:\n",
      "\t1 dirac heavy neutrino(s).\n",
      "\n",
      "---------------------------------------------------------\n",
      "Experiment:\n",
      "\tminiboone_fhc\n",
      "\tfluxfile loaded: MiniBooNE_FHC.dat\n",
      "\tPOT: 1.875e+21\n",
      "\tnuclear targets: ['C12', 'H1']\n",
      "\tfiducial mass: [701.1428571428571, 116.85714285714286] tonnes\n",
      "\n",
      "Directory tree for this run already exists. Overriding it.\n",
      "---------------------------------------------------------\n",
      "Generating Events using the neutrino-nucleus upscattering engine\n",
      "\n",
      "nu(mu) C12 --> N4  C12 --> nu_light e+ e- C12\n",
      "Helicity flipping upscattering.\n",
      "N4 three-body decays.\n",
      "Parent N4 proper decay length: 5.684E+04 cm.\n",
      "\n",
      "Predicted (4.08e+04 +/- 496) events.\n",
      "\n",
      "nu(mu) proton_in_C12 --> N4  proton_in_C12 --> nu_light e+ e- proton_in_C12\n",
      "Helicity flipping upscattering.\n",
      "N4 three-body decays.\n",
      "Parent N4 proper decay length: 5.686E+04 cm.\n",
      "\n",
      "Predicted (1.17e+04 +/- 142) events.\n",
      "\n",
      "nu(mu) proton_in_H1 --> N4  proton_in_H1 --> nu_light e+ e- proton_in_H1\n",
      "Helicity flipping upscattering.\n",
      "N4 three-body decays.\n",
      "Parent N4 proper decay length: 5.695E+04 cm.\n",
      "\n",
      "Predicted (3.87e+03 +/- 47.2) events.\n",
      "\n",
      "---------------------------------------------------------\n",
      "Generation successful\n",
      "\n",
      "Total events predicted:\n",
      "(5.63e+04 +/- 518) events.\n",
      "\n",
      "---------------------------------------------------------\n",
      "Events in pandas dataframe saved to file successfully:\n",
      "data/miniboone_fhc/3plus1/m4_0.14_mzprime_1.25_dirac/pandas_df.pckl\n",
      "\n"
     ]
    }
   ],
   "source": [
    "from DarkNews import GenLauncher\n",
    "\n",
    "model_kwargs = {\n",
    "    'm4': 0.140,\n",
    "    'mu_tr_mu4': 1e-6, # GeV^-1\n",
    "    'UD4': 0,\n",
    "    'Umu4': 0,\n",
    "    'epsilon': 0.0,\n",
    "    'gD': 0.0,\n",
    "}\n",
    "\n",
    "# turning off Helicity conserving scattering which is negligible for TMM (but dominant for Z', for instance).\n",
    "# we also ask for the single photon decays.\n",
    "gen_object = GenLauncher(decay_product='photon', noHC=True, HNLtype=\"dirac\", **model_kwargs)\n",
    "df_photon = gen_object.run()\n",
    "\n",
    "gen_object = GenLauncher(decay_product='e+e-', noHC=True, HNLtype=\"dirac\", **model_kwargs)\n",
    "df_ee = gen_object.run()"
   ]
  },
  {
   "cell_type": "markdown",
   "metadata": {},
   "source": [
    "Let's look at the columns in the single photon case. We lose the ell_minus and ell_plus columns and gain the photon one."
   ]
  },
  {
   "cell_type": "code",
   "execution_count": 4,
   "metadata": {},
   "outputs": [
    {
     "data": {
      "text/plain": [
       "Index(['P_decay_N_daughter', 'P_decay_N_parent', 'P_decay_photon',\n",
       "       'P_projectile', 'P_recoil', 'P_target', 'pos_scatt', 'w_decay_rate_0',\n",
       "       'w_event_rate', 'w_flux_avg_xsec', 'target', 'target_pdgid',\n",
       "       'projectile_pdgid', 'scattering_regime', 'helicity',\n",
       "       'underlying_process', 'h_projectile', 'h_parent', 'pos_prod',\n",
       "       'pos_decay'],\n",
       "      dtype='object')"
      ]
     },
     "execution_count": 4,
     "metadata": {},
     "output_type": "execute_result"
    }
   ],
   "source": [
    "df_photon.columns.levels[0]"
   ]
  },
  {
   "cell_type": "code",
   "execution_count": 5,
   "metadata": {},
   "outputs": [
    {
     "data": {
      "text/plain": [
       "Text(0.5, 0, '$\\\\theta_{\\\\gamma}$ (degrees)')"
      ]
     },
     "execution_count": 5,
     "metadata": {},
     "output_type": "execute_result"
    },
    {
     "data": {
      "image/png": "[encoded data removed]",
      "text/plain": [
       "<Figure size 720x288 with 1 Axes>"
      ]
     },
     "metadata": {
      "needs_background": "light"
     },
     "output_type": "display_data"
    }
   ],
   "source": [
    "mee = np.arccos(dn.fourvec.df_cos_azimuthal(df_photon['P_decay_photon']))*dn.const.rad_to_deg\n",
    "\n",
    "fig, ax = dn.plot_tools.std_fig(figsize=(10,4))\n",
    "\n",
    "_=ax.hist(mee, weights=df_photon['w_event_rate',''], bins=50, histtype='step', label='pickled')\n",
    "\n",
    "ax.legend(loc='best')\n",
    "ax.set_ylabel('Events')\n",
    "ax.set_xlabel(r'$\\theta_{\\gamma}$ (degrees)')"
   ]
  },
  {
   "cell_type": "code",
   "execution_count": 6,
   "metadata": {},
   "outputs": [
    {
     "data": {
      "text/plain": [
       "Text(0.5, 0, '$\\\\cos{\\\\theta_{\\\\gamma}}$')"
      ]
     },
     "execution_count": 6,
     "metadata": {},
     "output_type": "execute_result"
    },
    {
     "data": {
      "image/png": "[encoded data removed]",
      "text/plain": [
       "<Figure size 720x288 with 1 Axes>"
      ]
     },
     "metadata": {
      "needs_background": "light"
     },
     "output_type": "display_data"
    }
   ],
   "source": [
    "mee = dn.fourvec.df_cos_azimuthal(df_photon['P_decay_photon'])\n",
    "\n",
    "fig, ax = dn.plot_tools.std_fig(figsize=(10,4))\n",
    "\n",
    "_=ax.hist(mee, weights=df_photon['w_event_rate',''], bins=50, histtype='step', label='pickled')\n",
    "\n",
    "ax.legend(loc='best')\n",
    "ax.set_ylabel('Events')\n",
    "ax.set_xlabel(r'$\\cos{\\theta_{\\gamma}}$')"
   ]
  },
  {
   "cell_type": "code",
   "execution_count": 7,
   "metadata": {},
   "outputs": [
    {
     "data": {
      "text/plain": [
       "Text(0.5, 0, '$E_{\\\\gamma}$ (GeV)')"
      ]
     },
     "execution_count": 7,
     "metadata": {},
     "output_type": "execute_result"
    },
    {
     "data": {
      "image/png": "[encoded data removed]",
      "text/plain": [
       "<Figure size 720x288 with 1 Axes>"
      ]
     },
     "metadata": {
      "needs_background": "light"
     },
     "output_type": "display_data"
    }
   ],
   "source": [
    "egamma = df_photon['P_decay_photon','0']\n",
    "\n",
    "fig, ax = dn.plot_tools.std_fig(figsize=(10,4))\n",
    "\n",
    "_=ax.hist(egamma, weights=df_photon['w_event_rate',''], bins=50, histtype='step', label='pickled')\n",
    "\n",
    "ax.legend(loc='best')\n",
    "ax.set_ylabel('Events')\n",
    "ax.set_xlabel(r'$E_{\\gamma}$ (GeV)')"
   ]
  },
  {
   "cell_type": "markdown",
   "metadata": {},
   "source": [
    "#### Now we compute a couple of magnetic moment cases with Z boson contributions included"
   ]
  },
  {
   "cell_type": "code",
   "execution_count": 8,
   "metadata": {},
   "outputs": [
    {
     "name": "stdout",
     "output_type": "stream",
     "text": [
      "Initializing the three-portal model.\n"
     ]
    }
   ],
   "source": [
    "model_kwargs = { 'm4': 0.40, 'UD4': 0, 'epsilon': 0}\n",
    "\n",
    "dfs_nomix=[]\n",
    "dfs_mix=[]\n",
    "mutrs = [1e-15, 2e-10, 3e-9,3e-8]\n",
    "for mutr in mutrs:\n",
    "    gen_object = GenLauncher(mu_tr_mu4=mutr, Umu4=1.5e-3, experiment = \"microboone\", decay_product='photon', neval = 10000, noHC=True, HNLtype=\"dirac\", loglevel='ERROR', **model_kwargs)\n",
    "    dfs_mix.append(gen_object.run())\n",
    "\n",
    "    gen_object = GenLauncher(mu_tr_mu4=mutr, Umu4=0.0, experiment = \"microboone\", decay_product='photon', neval = 10000, noHC=True, HNLtype=\"dirac\", loglevel='ERROR', **model_kwargs)\n",
    "    dfs_nomix.append(gen_object.run())\n"
   ]
  },
  {
   "cell_type": "code",
   "execution_count": 9,
   "metadata": {},
   "outputs": [
    {
     "data": {
      "image/png": "[encoded data removed]",
      "text/plain": [
       "<Figure size 576x288 with 1 Axes>"
      ]
     },
     "metadata": {
      "needs_background": "light"
     },
     "output_type": "display_data"
    }
   ],
   "source": [
    "fig, ax = dn.plot_tools.std_fig(figsize=(8,4))\n",
    "\n",
    "for df_mix,df_nomix,mutr in zip(dfs_mix,dfs_nomix,mutrs):\n",
    "    egamma = df_mix['P_decay_photon','0']\n",
    "    _=ax.hist(egamma, weights=df_mix['w_event_rate',''], bins=np.linspace(0,2,100), histtype='step', density=True, label=fr'$\\mu_{{\\rm tr}} = $ {mutr} GeV$^{{-1}}$ -- $|U_{{\\mu}}|=1.5\\times10{{-3}}$')\n",
    "\n",
    "    egamma = df_nomix['P_decay_photon','0']\n",
    "    _=ax.hist(egamma, weights=df_nomix['w_event_rate',''], bins=np.linspace(0,2,100), histtype='step', ls='--', density=True, label=fr'$\\mu_{{\\rm tr}} = $ {mutr} GeV$^{{-1}}$ -- $|U_{{\\mu}}|=1.5\\times10{{-3}}$')\n",
    "\n",
    "ax.legend(loc='best')\n",
    "ax.set_ylabel('Events')\n",
    "ax.set_xlabel(r'$E_{\\gamma}$ (GeV)')\n",
    "dn.plot_tools.std_savefig(fig,'plots/TMM_and_mixing.pdf')"
   ]
  },
  {
   "cell_type": "code",
   "execution_count": 10,
   "metadata": {},
   "outputs": [],
   "source": [
    "# targets\n",
    "proton = dn.detector.NuclearTarget(\"H1\")\n",
    "C12    = dn.detector.NuclearTarget(\"C12\")\n",
    "Ar40   = dn.detector.NuclearTarget(\"Ar40\")"
   ]
  },
  {
   "cell_type": "code",
   "execution_count": null,
   "metadata": {},
   "outputs": [],
   "source": [
    "Enu_fixed = 1.0"
   ]
  },
  {
   "cell_type": "code",
   "execution_count": 74,
   "metadata": {},
   "outputs": [],
   "source": [
    "common_kwargs = {'nu_projectile': pdg.numu, 'scattering_regime': 'coherent', 'nuclear_target': C12}\n",
    "common_kwargs_pel = {'nu_projectile': pdg.numu, 'scattering_regime': 'p-el', 'nuclear_target': C12}\n",
    "masses = [0.1,0.2,0.4,0.6]\n",
    "Enu_range=np.linspace(0,2,50)\n",
    "\n",
    "# Calculating xsecs in C\n",
    "xsecs_C = []\n",
    "for m in masses:\n",
    "    this_model = dn.model.ThreePortalModel(name='vergani_et_al', m4 = m, Umu4=0.0, epsilon=0.0, mu_tr_mu4=4e-7)\n",
    "    calc = dn.UpscatteringProcess(TheoryModel = this_model, helicity = 'flipping', nu_upscattered= this_model.neutrino4, **common_kwargs)\n",
    "    calc_pel = dn.UpscatteringProcess(TheoryModel = this_model, helicity = 'flipping', nu_upscattered= this_model.neutrino4, **common_kwargs_pel)\n",
    "\n",
    "    xsecs_C.append((calc.total_xsec(Enu_range, NEVAL=10000, NINT=10), calc_pel.total_xsec(Enu_range, NEVAL=10000, NINT=10)))\n",
    "\n",
    "# Now on Argon40\n",
    "common_kwargs = {'nu_projectile': pdg.numu, 'scattering_regime': 'coherent', 'nuclear_target': Ar40}\n",
    "common_kwargs_pel = {'nu_projectile': pdg.numu, 'scattering_regime': 'p-el', 'nuclear_target': Ar40}\n",
    "xsecs_Ar = []\n",
    "for m in masses:\n",
    "    this_model = dn.model.ThreePortalModel(name='vergani_et_al', m4 = m, Umu4=0.0, epsilon=0.0, mu_tr_mu4=4e-7)\n",
    "    calc = dn.UpscatteringProcess(TheoryModel = this_model, helicity = 'flipping', nu_upscattered= this_model.neutrino4, **common_kwargs)\n",
    "    calc_pel = dn.UpscatteringProcess(TheoryModel = this_model, helicity = 'flipping', nu_upscattered= this_model.neutrino4, **common_kwargs_pel)\n",
    "    xsecs_Ar.append((calc.total_xsec(Enu_range, NEVAL=10000, NINT=10), calc_pel.total_xsec(Enu_range, NEVAL=10000, NINT=10)))\n"
   ]
  },
  {
   "cell_type": "code",
   "execution_count": 119,
   "metadata": {},
   "outputs": [
    {
     "name": "stderr",
     "output_type": "stream",
     "text": [
      "/var/folders/my/7j7cn6f92_z66yvbb11lgt2r0000gn/T/ipykernel_2660/3779561459.py:10: RuntimeWarning: invalid value encountered in divide\n",
      "  axs[1].plot(Enu_range, xs[0]/xs[1], ls='-', lw=1.0, c=color)\n",
      "/var/folders/my/7j7cn6f92_z66yvbb11lgt2r0000gn/T/ipykernel_2660/3779561459.py:10: RuntimeWarning: divide by zero encountered in divide\n",
      "  axs[1].plot(Enu_range, xs[0]/xs[1], ls='-', lw=1.0, c=color)\n",
      "/var/folders/my/7j7cn6f92_z66yvbb11lgt2r0000gn/T/ipykernel_2660/3779561459.py:10: RuntimeWarning: invalid value encountered in divide\n",
      "  axs[1].plot(Enu_range, xs[0]/xs[1], ls='-', lw=1.0, c=color)\n",
      "/var/folders/my/7j7cn6f92_z66yvbb11lgt2r0000gn/T/ipykernel_2660/3779561459.py:10: RuntimeWarning: divide by zero encountered in divide\n",
      "  axs[1].plot(Enu_range, xs[0]/xs[1], ls='-', lw=1.0, c=color)\n",
      "/var/folders/my/7j7cn6f92_z66yvbb11lgt2r0000gn/T/ipykernel_2660/3779561459.py:10: RuntimeWarning: invalid value encountered in divide\n",
      "  axs[1].plot(Enu_range, xs[0]/xs[1], ls='-', lw=1.0, c=color)\n",
      "/var/folders/my/7j7cn6f92_z66yvbb11lgt2r0000gn/T/ipykernel_2660/3779561459.py:10: RuntimeWarning: divide by zero encountered in divide\n",
      "  axs[1].plot(Enu_range, xs[0]/xs[1], ls='-', lw=1.0, c=color)\n",
      "/var/folders/my/7j7cn6f92_z66yvbb11lgt2r0000gn/T/ipykernel_2660/3779561459.py:10: RuntimeWarning: invalid value encountered in divide\n",
      "  axs[1].plot(Enu_range, xs[0]/xs[1], ls='-', lw=1.0, c=color)\n"
     ]
    },
    {
     "data": {
      "image/png": "[encoded data removed]",
      "text/plain": [
       "<Figure size 319.68x272.068 with 2 Axes>"
      ]
     },
     "metadata": {
      "needs_background": "light"
     },
     "output_type": "display_data"
    }
   ],
   "source": [
    "fig = plt.figure(figsize=dn.plot_tools.std_figsize)\n",
    "gs = fig.add_gridspec(2, 1, hspace=0, wspace=0, height_ratios=[1.5,1])\n",
    "axs = gs.subplots(sharex='col', sharey='row')\n",
    "\n",
    "colors = ['dodgerblue','darkorange','deeppink','black']\n",
    "\n",
    "for m, xs, color in zip(masses, xsecs_C, colors):\n",
    "    axs[0].plot(Enu_range, xs[0]/(16e-14*dn.const.invGeV2_to_cm2), lw=1.0, label=rf'$m_N = {m*1e3:.0f}$~MeV', c=color)\n",
    "    axs[0].plot(Enu_range, xs[1]/(16e-14*dn.const.invGeV2_to_cm2), lw=1.0, ls='--', c=color)\n",
    "    axs[1].plot(Enu_range, xs[0]/xs[1], ls='-', lw=1.0, c=color)\n",
    "\n",
    "axs[1].hlines(1,0,2, ls='--', lw=0.5, color='grey')\n",
    "\n",
    "for ax in axs.flat:\n",
    "    ax.label_outer()\n",
    "    ax.set_yscale(\"log\")\n",
    "    ax.set_xlim(min(Enu_range), max(Enu_range))\n",
    "\n",
    "    ax.set_xlabel(r'$E_\\nu$/GeV')\n",
    "axs[0].set_ylabel(r'$\\sigma/|\\mu_{\\rm tr}|^2$/Carbon')\n",
    "axs[1].set_ylabel(r'$\\sigma_{\\rm coh}/\\sigma_{\\rm p-el}$ on Carbon')\n",
    "\n",
    "axs[0].set_ylim(1e-4, 100)\n",
    "axs[1].set_ylim(0.005, 50)\n",
    "axs[1].set_yticks([1e-3,1e-2,0.1,1,10,50])\n",
    "\n",
    "proxy, = plt.plot([0,0],[0,0],linestyle='-', lw=1.0, color='black')\n",
    "proxy2, = plt.plot([0,0],[0,0],linestyle='--', lw=1.0, color='black')\n",
    "leg = axs[1].legend([proxy,proxy2], [r\"coherent\",r\"p-elastic\"], frameon=False, ncol=2, loc = (0.2,2.5))\n",
    "axs[0].legend(frameon=False, loc='lower right')\n",
    "\n",
    "\n",
    "plt.savefig(\"plots/example_2_xsec_C.pdf\",dpi=400)"
   ]
  },
  {
   "cell_type": "code",
   "execution_count": 146,
   "metadata": {},
   "outputs": [
    {
     "ename": "TypeError",
     "evalue": "subplots() got an unexpected keyword argument 'tight_layout'",
     "output_type": "error",
     "traceback": [
      "\u001b[0;31m---------------------------------------------------------------------------\u001b[0m",
      "\u001b[0;31mTypeError\u001b[0m                                 Traceback (most recent call last)",
      "\u001b[1;32m/Users/matheushostert/Repos/DarkNews-generator/examples/Example_2_TMM.ipynb Cell 17\u001b[0m in \u001b[0;36m<cell line: 3>\u001b[0;34m()\u001b[0m\n\u001b[1;32m      <a href='vscode-notebook-cell:/Users/matheushostert/Repos/DarkNews-generator/examples/Example_2_TMM.ipynb#X22sZmlsZQ%3D%3D?line=0'>1</a>\u001b[0m fig \u001b[39m=\u001b[39m plt\u001b[39m.\u001b[39mfigure(figsize\u001b[39m=\u001b[39mdn\u001b[39m.\u001b[39mplot_tools\u001b[39m.\u001b[39mstd_figsize)\n\u001b[1;32m      <a href='vscode-notebook-cell:/Users/matheushostert/Repos/DarkNews-generator/examples/Example_2_TMM.ipynb#X22sZmlsZQ%3D%3D?line=1'>2</a>\u001b[0m gs \u001b[39m=\u001b[39m fig\u001b[39m.\u001b[39madd_gridspec(\u001b[39m2\u001b[39m, \u001b[39m1\u001b[39m, hspace\u001b[39m=\u001b[39m\u001b[39m0\u001b[39m, wspace\u001b[39m=\u001b[39m\u001b[39m0\u001b[39m, height_ratios\u001b[39m=\u001b[39m[\u001b[39m1.5\u001b[39m,\u001b[39m1\u001b[39m])\n\u001b[0;32m----> <a href='vscode-notebook-cell:/Users/matheushostert/Repos/DarkNews-generator/examples/Example_2_TMM.ipynb#X22sZmlsZQ%3D%3D?line=2'>3</a>\u001b[0m axs \u001b[39m=\u001b[39m gs\u001b[39m.\u001b[39;49msubplots(sharex\u001b[39m=\u001b[39;49m\u001b[39m'\u001b[39;49m\u001b[39mcol\u001b[39;49m\u001b[39m'\u001b[39;49m, sharey\u001b[39m=\u001b[39;49m\u001b[39m'\u001b[39;49m\u001b[39mrow\u001b[39;49m\u001b[39m'\u001b[39;49m, tight_layout\u001b[39m=\u001b[39;49m\u001b[39mTrue\u001b[39;49;00m)\n\u001b[1;32m      <a href='vscode-notebook-cell:/Users/matheushostert/Repos/DarkNews-generator/examples/Example_2_TMM.ipynb#X22sZmlsZQ%3D%3D?line=4'>5</a>\u001b[0m colors \u001b[39m=\u001b[39m [\u001b[39m'\u001b[39m\u001b[39mdodgerblue\u001b[39m\u001b[39m'\u001b[39m,\u001b[39m'\u001b[39m\u001b[39mdarkorange\u001b[39m\u001b[39m'\u001b[39m,\u001b[39m'\u001b[39m\u001b[39mdeeppink\u001b[39m\u001b[39m'\u001b[39m,\u001b[39m'\u001b[39m\u001b[39mblack\u001b[39m\u001b[39m'\u001b[39m]\n\u001b[1;32m      <a href='vscode-notebook-cell:/Users/matheushostert/Repos/DarkNews-generator/examples/Example_2_TMM.ipynb#X22sZmlsZQ%3D%3D?line=6'>7</a>\u001b[0m \u001b[39mfor\u001b[39;00m m, xs, color \u001b[39min\u001b[39;00m \u001b[39mzip\u001b[39m(masses, xsecs_Ar, colors):\n",
      "\u001b[0;31mTypeError\u001b[0m: subplots() got an unexpected keyword argument 'tight_layout'"
     ]
    },
    {
     "data": {
      "text/plain": [
       "<Figure size 319.68x272.068 with 0 Axes>"
      ]
     },
     "metadata": {},
     "output_type": "display_data"
    }
   ],
   "source": [
    "fig = plt.figure(figsize=dn.plot_tools.std_figsize)\n",
    "gs = fig.add_gridspec(2, 1, hspace=0, wspace=0, height_ratios=[1.5,1])\n",
    "axs = gs.subplots(sharex='col', sharey='row')\n",
    "\n",
    "colors = ['dodgerblue','darkorange','deeppink','black']\n",
    "\n",
    "for m, xs, color in zip(masses, xsecs_Ar, colors):\n",
    "    axs[0].plot(Enu_range, xs[0]/(16e-14*dn.const.invGeV2_to_cm2), lw=1.0, label=rf'$m_N = {m*1e3:.0f}$~MeV', c=color)\n",
    "    axs[0].plot(Enu_range, xs[1]/(16e-14*dn.const.invGeV2_to_cm2), lw=1.0, ls='--', c=color)\n",
    "    axs[1].plot(Enu_range, xs[0]/xs[1], ls='-', lw=1.0, c=color)\n",
    "\n",
    "axs[1].hlines(1,0,2, ls='--', lw=0.5, color='grey')\n",
    "\n",
    "for ax in axs.flat:\n",
    "    ax.label_outer()\n",
    "    ax.set_yscale(\"log\")\n",
    "    ax.set_xlim(min(Enu_range), max(Enu_range))\n",
    "\n",
    "    ax.set_xlabel(r'$E_\\nu$/GeV')\n",
    "axs[0].set_ylabel(r'$\\sigma/|\\mu_{\\rm tr}|^2$/Argon')\n",
    "axs[1].set_ylabel(r'$\\sigma_{\\rm coh}/\\sigma_{\\rm p-el}$ on Argon')\n",
    "\n",
    "axs[0].set_ylim(1e-4, 100)\n",
    "axs[1].set_ylim(0.005, 50)\n",
    "axs[1].set_yticks([1e-3,1e-2,0.1,1,10,50])\n",
    "\n",
    "proxy, = plt.plot([0,0],[0,0],linestyle='-', lw=1.0, color='black')\n",
    "proxy2, = plt.plot([0,0],[0,0],linestyle='--', lw=1.0, color='black')\n",
    "leg = axs[1].legend([proxy,proxy2], [r\"coherent\",r\"p-elastic\"], frameon=False, ncol=2, loc = (0.2,2.5))\n",
    "axs[0].legend(frameon=False, loc='lower right')\n",
    "\n",
    "plt.savefig(\"plots/example_2_xsec_Ar.pdf\",dpi=400)"
   ]
  },
  {
   "cell_type": "code",
   "execution_count": 148,
   "metadata": {},
   "outputs": [
    {
     "name": "stderr",
     "output_type": "stream",
     "text": [
      "/var/folders/my/7j7cn6f92_z66yvbb11lgt2r0000gn/T/ipykernel_2660/3754335897.py:6: RuntimeWarning: invalid value encountered in divide\n",
      "  axs[0].plot(Enu_range, ratio*xs_Ar[0]/xs_C[0], lw=1.0, label=rf'$m_N = {m*1e3:.0f}$~MeV', c=color)\n",
      "/var/folders/my/7j7cn6f92_z66yvbb11lgt2r0000gn/T/ipykernel_2660/3754335897.py:6: RuntimeWarning: invalid value encountered in divide\n",
      "  axs[0].plot(Enu_range, ratio*xs_Ar[0]/xs_C[0], lw=1.0, label=rf'$m_N = {m*1e3:.0f}$~MeV', c=color)\n",
      "/var/folders/my/7j7cn6f92_z66yvbb11lgt2r0000gn/T/ipykernel_2660/3754335897.py:6: RuntimeWarning: invalid value encountered in divide\n",
      "  axs[0].plot(Enu_range, ratio*xs_Ar[0]/xs_C[0], lw=1.0, label=rf'$m_N = {m*1e3:.0f}$~MeV', c=color)\n",
      "/var/folders/my/7j7cn6f92_z66yvbb11lgt2r0000gn/T/ipykernel_2660/3754335897.py:6: RuntimeWarning: divide by zero encountered in divide\n",
      "  axs[0].plot(Enu_range, ratio*xs_Ar[0]/xs_C[0], lw=1.0, label=rf'$m_N = {m*1e3:.0f}$~MeV', c=color)\n",
      "/var/folders/my/7j7cn6f92_z66yvbb11lgt2r0000gn/T/ipykernel_2660/3754335897.py:6: RuntimeWarning: invalid value encountered in divide\n",
      "  axs[0].plot(Enu_range, ratio*xs_Ar[0]/xs_C[0], lw=1.0, label=rf'$m_N = {m*1e3:.0f}$~MeV', c=color)\n"
     ]
    },
    {
     "data": {
      "image/png": "[encoded data removed]",
      "text/plain": [
       "<Figure size 319.68x272.068 with 1 Axes>"
      ]
     },
     "metadata": {
      "needs_background": "light"
     },
     "output_type": "display_data"
    }
   ],
   "source": [
    "fig, ax = dn.plot_tools.std_fig()\n",
    "axs = [ax]\n",
    "colors = ['dodgerblue','darkorange','deeppink','black']\n",
    "ratio = 1/(18/6)**2\n",
    "for m, xs_C, xs_Ar, color in zip(masses, xsecs_C, xsecs_Ar, colors):\n",
    "    axs[0].plot(Enu_range, ratio*xs_Ar[0]/xs_C[0], lw=1.0, label=rf'$m_N = {m*1e3:.0f}$~MeV', c=color)\n",
    "    # axs[0].plot(Enu_range, xs_Ar[1]/xs_C[1], lw=1.0, ls='--', c=color)\n",
    "ax.set_xlim(min(Enu_range), max(Enu_range))\n",
    "ax.set_ylim(0,1.2)\n",
    "\n",
    "ax.set_xlabel(r'$E_\\nu$/GeV')\n",
    "ax.set_ylabel(r'$(6/18)^2 \\times \\sigma_{\\rm Argon}^{\\rm coh}/\\sigma_{\\rm Carbon}^{\\rm coh}$')\n",
    "\n",
    "proxy, = plt.plot([0,0],[0,0],linestyle='-', lw=1.0, color='black')\n",
    "proxy2, = plt.plot([0,0],[0,0],linestyle='--', lw=1.0, color='black')\n",
    "leg = ax.legend([proxy,proxy2], [r\"coherent\",r\"p-elastic\"], frameon=False, ncol=2, loc = (0.2,1.05))\n",
    "ax.legend(frameon=False, loc='upper left', ncol=2)\n",
    "\n",
    "plt.savefig(\"plots/example_2_xsec_CtoAr.pdf\",dpi=400)"
   ]
  },
  {
   "cell_type": "code",
   "execution_count": 150,
   "metadata": {},
   "outputs": [],
   "source": [
    "model_args = {'d_mu5': 0.0002, 'd_45': 1, 'dprotonV': 3.4e-4*const.eQED, 'deV': 3.4e-4*const.eQED, 'mzprime': 0.03, 'm4': 0.107, 'm5': 0.150}\n",
    "\n",
    "common_kwargs = {'nu_projectile': pdg.numu, 'scattering_regime': 'coherent', 'nuclear_target': C12}\n",
    "common_kwargs_pel = {'nu_projectile': pdg.numu, 'scattering_regime': 'p-el', 'nuclear_target': C12}\n",
    "masses = [0.1,0.2,0.4,0.6]\n",
    "Enu_range=np.linspace(0,2,50)\n",
    "\n",
    "# Calculating xsecs in C\n",
    "xsecs_C = []\n",
    "for m in masses:\n",
    "    this_model = dn.model.ThreePortalModel(name='Ballet_et_al', **model_args)\n",
    "    calc = dn.UpscatteringProcess(TheoryModel = this_model, helicity = 'flipping', nu_upscattered= this_model.neutrino5, **common_kwargs)\n",
    "    calc_pel = dn.UpscatteringProcess(TheoryModel = this_model, helicity = 'flipping', nu_upscattered= this_model.neutrino5, **common_kwargs_pel)\n",
    "\n",
    "    xsecs_C.append((calc.total_xsec(Enu_range, NEVAL=10000, NINT=10), calc_pel.total_xsec(Enu_range, NEVAL=10000, NINT=10)))\n",
    "\n",
    "# Now on Argon40\n",
    "common_kwargs = {'nu_projectile': pdg.numu, 'scattering_regime': 'coherent', 'nuclear_target': Ar40}\n",
    "common_kwargs_pel = {'nu_projectile': pdg.numu, 'scattering_regime': 'p-el', 'nuclear_target': Ar40}\n",
    "xsecs_Ar = []\n",
    "for m in masses:\n",
    "    this_model = dn.model.ThreePortalModel(name='Ballet_et_al', **model_args)\n",
    "    calc = dn.UpscatteringProcess(TheoryModel = this_model, helicity = 'flipping', nu_upscattered= this_model.neutrino5, **common_kwargs)\n",
    "    calc_pel = dn.UpscatteringProcess(TheoryModel = this_model, helicity = 'flipping', nu_upscattered= this_model.neutrino5, **common_kwargs_pel)\n",
    "    xsecs_Ar.append((calc.total_xsec(Enu_range, NEVAL=10000, NINT=10), calc_pel.total_xsec(Enu_range, NEVAL=10000, NINT=10)))\n"
   ]
  },
  {
   "cell_type": "code",
   "execution_count": null,
   "metadata": {},
   "outputs": [],
   "source": []
  }
 ],
 "metadata": {
  "kernelspec": {
   "display_name": "Python 3.9.12 ('base')",
   "language": "python",
   "name": "python3"
  },
  "language_info": {
   "codemirror_mode": {
    "name": "ipython",
    "version": 3
   },
   "file_extension": ".py",
   "mimetype": "text/x-python",
   "name": "python",
   "nbconvert_exporter": "python",
   "pygments_lexer": "ipython3",
   "version": "3.9.12"
  },
  "orig_nbformat": 4,
  "vscode": {
   "interpreter": {
    "hash": "3067ead486e059ec00ffe7555bdb889e6e264a24dc711bf108106cc7baee8d5d"
   }
  }
 },
 "nbformat": 4,
 "nbformat_minor": 2
}
